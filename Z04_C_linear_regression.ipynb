{
  "cells": [
    {
      "cell_type": "markdown",
      "metadata": {
        "id": "LZ-J5TMkoVpL"
      },
      "source": [
        "# Regresja liniowa\n",
        "\n",
        "Naszym Celem jest empityczne sprawdzenie twierdzenia:\n",
        "\n",
        "Niech $A \\in \\mathbb{R}^{N\\times K}$ będzie macierzą która przekształca $\\mathbb{R}^{K}$ w $\\mathbb{R}^N$, i niech $y \\in \\mathbb{R}^{K}$.\n",
        "\n",
        "Wtedy punkt $x_0 \\in \\mathbb{R}^K$ spełnia\n",
        "\n",
        "$$\n",
        "x_0 = \\mathrm{argmin} \\{ x \\in \\mathbb{R}^K   \\colon \\| Ax - y \\|^2 \\}\n",
        "$$\n",
        "\n",
        "wtedy i tylko wtedy gdy\n",
        "\n",
        "$$\n",
        "A^TA x_0 = A^Ty.\n",
        "$$\n"
      ]
    },
    {
      "cell_type": "code",
      "execution_count": 1,
      "metadata": {
        "collapsed": true,
        "id": "5JfbjZrYoVpN"
      },
      "outputs": [],
      "source": [
        "import numpy as np\n",
        "import scipy.stats as st\n",
        "import sklearn.linear_model as lm\n",
        "import matplotlib.pyplot as plt"
      ]
    },
    {
      "cell_type": "markdown",
      "metadata": {
        "id": "R6aKd06aoVpP"
      },
      "source": [
        "Proszę wykres funkcji w kształcie \n",
        "\n",
        "$\n",
        "f(x)=x^2\n",
        "$ \n",
        "\n",
        "na odcinku $[0,3]$ i go narysować.\n",
        "\n",
        "Będzie to model, który będziemy chcieli znaleźć."
      ]
    },
    {
      "cell_type": "code",
      "execution_count": 2,
      "metadata": {
        "id": "Ip3aE-GgoVpQ",
        "outputId": "b9f5aed4-bc9b-499c-edc2-9ef16ce47bce",
        "colab": {
          "base_uri": "https://localhost:8080/",
          "height": 378
        }
      },
      "outputs": [
        {
          "output_type": "display_data",
          "data": {
            "text/plain": [
              "<Figure size 432x432 with 1 Axes>"
            ],
            "image/png": "[encoded data removed]"
          },
          "metadata": {
            "needs_background": "light"
          }
        }
      ],
      "source": [
        "f = lambda x: (x**2)\n",
        "x_tr = np.linspace(0., 3, 200)\n",
        "y_tr = f(x_tr)\n",
        "plt.figure(figsize=(6,6));\n",
        "axes = plt.gca()\n",
        "axes.set_xlim([0,3])\n",
        "axes.set_ylim([0,8])\n",
        "plt.plot(x_tr[:200], y_tr[:200], '--k');\n",
        "plt.show()"
      ]
    },
    {
      "cell_type": "markdown",
      "metadata": {
        "id": "VNQkg252oVpR"
      },
      "source": [
        "Proszę wylosować kilka punktów z otoczenia funkcji $f(x)=x^2$.\n",
        "\n",
        "Na ich podstawie będziemy wykonywać naszej presykcji."
      ]
    },
    {
      "cell_type": "code",
      "execution_count": 3,
      "metadata": {
        "id": "Afr8rVvioVpT",
        "outputId": "6ecbd270-4a4c-4e54-bbae-646cbb4bdb3e",
        "colab": {
          "base_uri": "https://localhost:8080/",
          "height": 378
        }
      },
      "outputs": [
        {
          "output_type": "display_data",
          "data": {
            "text/plain": [
              "<Figure size 432x432 with 1 Axes>"
            ],
            "image/png": "[encoded data removed]"
          },
          "metadata": {
            "needs_background": "light"
          }
        }
      ],
      "source": [
        "x = np.array([.2, .5, .8, .9, 1.3, 1.7, 2.1, 2.7])\n",
        "y = f(x) + np.random.randn(len(x))\n",
        "plt.figure(figsize=(6,6));\n",
        "axes = plt.gca()\n",
        "axes.set_xlim([0,3])\n",
        "axes.set_ylim([0,8])\n",
        "plt.plot(x_tr, y_tr, '--k');\n",
        "plt.plot(x, y, 'ok', ms=10);\n",
        "plt.show()"
      ]
    },
    {
      "cell_type": "markdown",
      "metadata": {
        "id": "vlLuS75DoVpU"
      },
      "source": [
        "Nauczmy prosty model regresji liniowej\n",
        "\n",
        "$$\n",
        "y=a\\cdot x + b\n",
        "$$\n",
        "\n",
        "na naszych danych.\n",
        "\n",
        "Oraz narysujmy prostą regresji."
      ]
    },
    {
      "cell_type": "code",
      "execution_count": 4,
      "metadata": {
        "id": "LfinFt28oVpV",
        "outputId": "71688127-b46c-4902-d17b-555ad8d8cb8d",
        "colab": {
          "base_uri": "https://localhost:8080/"
        }
      },
      "outputs": [
        {
          "output_type": "stream",
          "name": "stdout",
          "text": [
            "[3.17546912]\n",
            "-2.0701531388609324\n"
          ]
        }
      ],
      "source": [
        "# We create the model.\n",
        "lr = lm.LinearRegression()\n",
        "# We train the model on our training dataset.\n",
        "lr.fit(x[:, np.newaxis], y);\n",
        "print(lr.coef_)\n",
        "print(lr.intercept_)"
      ]
    },
    {
      "cell_type": "markdown",
      "metadata": {
        "id": "HwVuvvBXoVpX"
      },
      "source": [
        "Definiujemy naszą funkcję regresji"
      ]
    },
    {
      "cell_type": "code",
      "execution_count": 5,
      "metadata": {
        "collapsed": true,
        "id": "mABC-lQcoVpY"
      },
      "outputs": [],
      "source": [
        "f_lr = lambda x: lr.coef_ * x +lr.intercept_"
      ]
    },
    {
      "cell_type": "code",
      "execution_count": 6,
      "metadata": {
        "id": "XR5LKR8JoVpZ",
        "outputId": "58d8a4d0-0ced-4ff1-dc40-03b7e1652948",
        "colab": {
          "base_uri": "https://localhost:8080/",
          "height": 378
        }
      },
      "outputs": [
        {
          "output_type": "display_data",
          "data": {
            "text/plain": [
              "<Figure size 432x432 with 1 Axes>"
            ],
            "image/png": "[encoded data removed]"
          },
          "metadata": {
            "needs_background": "light"
          }
        }
      ],
      "source": [
        "x_f_lr = np.linspace(0., 3, 200)\n",
        "y_f_lr = f_lr(x_tr)\n",
        "plt.figure(figsize=(6,6));\n",
        "axes = plt.gca()\n",
        "axes.set_xlim([0,3])\n",
        "axes.set_ylim([0,8])\n",
        "plt.plot(x_tr, y_tr, '--k');\n",
        "plt.plot(x_f_lr, y_f_lr, 'g');\n",
        "plt.plot(x, y, 'ok', ms=10);\n",
        "plt.show()"
      ]
    },
    {
      "cell_type": "markdown",
      "metadata": {
        "id": "LM2nXCVzoVpa"
      },
      "source": [
        "Teraz możemy wykonać predykcję dla punktu \n",
        "$$\n",
        "x_0 = 1.5\n",
        "$$"
      ]
    },
    {
      "cell_type": "code",
      "execution_count": 7,
      "metadata": {
        "collapsed": true,
        "id": "9KZU5mEMoVpc"
      },
      "outputs": [],
      "source": [
        "point = np.array([1.5])\n",
        "y_point = lr.predict(point[:, np.newaxis])"
      ]
    },
    {
      "cell_type": "code",
      "execution_count": 8,
      "metadata": {
        "id": "qrMpfwb4oVpd",
        "outputId": "b3605f88-f5c0-4e03-e5e8-3482027c6d51",
        "colab": {
          "base_uri": "https://localhost:8080/",
          "height": 378
        }
      },
      "outputs": [
        {
          "output_type": "display_data",
          "data": {
            "text/plain": [
              "<Figure size 432x432 with 1 Axes>"
            ],
            "image/png": "[encoded data removed]"
          },
          "metadata": {
            "needs_background": "light"
          }
        }
      ],
      "source": [
        "plt.figure(figsize=(6,6));\n",
        "axes = plt.gca()\n",
        "axes.set_xlim([0,3])\n",
        "axes.set_ylim([0,8])\n",
        "plt.plot(x_tr, y_tr, '--k');\n",
        "plt.plot(x_f_lr, y_f_lr, 'g');\n",
        "plt.plot(x, y, 'ok', ms=10);\n",
        "plt.plot(point, y_point, 'or', ms=10);\n",
        "plt.show()"
      ]
    },
    {
      "cell_type": "markdown",
      "metadata": {
        "id": "shW7fyONoVpe"
      },
      "source": [
        "Możemy wypisać miarę dopasowania $R^2$. Narazie nie wnikamy w to co ona oznacza."
      ]
    },
    {
      "cell_type": "code",
      "execution_count": 9,
      "metadata": {
        "id": "LYBNvwHLoVpe",
        "outputId": "cb2dc105-19e2-44b2-ff07-91bf01bb82e9",
        "colab": {
          "base_uri": "https://localhost:8080/"
        }
      },
      "outputs": [
        {
          "output_type": "stream",
          "name": "stdout",
          "text": [
            "0.9202511254539035\n",
            "0.9133400956105745\n"
          ]
        }
      ],
      "source": [
        "from sklearn.metrics import r2_score\n",
        "print(lr.score(x[:, np.newaxis], y))\n",
        "print(r2_score(lr.predict(x[:, np.newaxis]), y))"
      ]
    },
    {
      "cell_type": "markdown",
      "metadata": {
        "id": "93oOr9FRoVpf"
      },
      "source": [
        "# Zadanie 1\n",
        "Stwórz macierz postaci:\n",
        "$$\n",
        "A=\\begin{bmatrix}\n",
        "x_1 & 1\\\\\n",
        "\\ddots & \\ddots\\\\\n",
        "x_n & 1\\\\\n",
        "\\end{bmatrix}\n",
        "$$\n",
        "\n",
        "i rozwiąż równanie\n",
        "\n",
        "$$\n",
        "A^TA x = A^Ty.\n",
        "$$\n",
        "\n",
        "gdzie (x,y) to nasz zbiór treningowy. \n",
        "\n",
        "Użyj funkcji <tt>linalg.solve</tt>."
      ]
    },
    {
      "cell_type": "code",
      "execution_count": 10,
      "metadata": {
        "id": "D-zieHu5oVpf",
        "outputId": "329430a5-855c-440a-945e-e04557212dd3",
        "colab": {
          "base_uri": "https://localhost:8080/"
        }
      },
      "outputs": [
        {
          "output_type": "execute_result",
          "data": {
            "text/plain": [
              "array([[0.2, 1. ],\n",
              "       [0.5, 1. ],\n",
              "       [0.8, 1. ],\n",
              "       [0.9, 1. ],\n",
              "       [1.3, 1. ],\n",
              "       [1.7, 1. ],\n",
              "       [2.1, 1. ],\n",
              "       [2.7, 1. ]])"
            ]
          },
          "metadata": {},
          "execution_count": 10
        }
      ],
      "source": [
        "deg=1\n",
        "xx=np.vander(x, deg + 1)\n",
        "xx"
      ]
    },
    {
      "cell_type": "code",
      "execution_count": 11,
      "metadata": {
        "collapsed": true,
        "id": "F4rxwbTYoVpg",
        "outputId": "3f1157ed-f2ae-46b3-cc31-5e9cf0e12e9f",
        "colab": {
          "base_uri": "https://localhost:8080/"
        }
      },
      "outputs": [
        {
          "output_type": "stream",
          "name": "stdout",
          "text": [
            "[ 3.17546912 -2.07015314]\n"
          ]
        }
      ],
      "source": [
        "x = np.linalg.solve(xx.T.dot(xx), xx.T.dot(y))\n",
        "print(x)"
      ]
    },
    {
      "cell_type": "markdown",
      "metadata": {
        "id": "f4AD1dAdoVpg"
      },
      "source": [
        "# Zadanie 2\n",
        "Zapoznaj się z funkcją <tt>optimize.fmin_cg</tt>\n",
        "https://docs.scipy.org/doc/scipy-0.19.0/reference/generated/scipy.optimize.fmin_cg.html\n",
        "i znajdż minum funkcji\n",
        "\n",
        "$$\n",
        "f(x,y) = (x+1)^2+y^2\n",
        "$$"
      ]
    },
    {
      "cell_type": "code",
      "execution_count": 12,
      "metadata": {
        "collapsed": true,
        "id": "CyWLASNboVpg",
        "outputId": "3d2970a5-5b53-43b5-d869-a2c526af14be",
        "colab": {
          "base_uri": "https://localhost:8080/"
        }
      },
      "outputs": [
        {
          "output_type": "stream",
          "name": "stdout",
          "text": [
            "Optimization terminated successfully.\n",
            "         Current function value: 0.000000\n",
            "         Iterations: 1\n",
            "         Function evaluations: 16\n",
            "         Gradient evaluations: 4\n",
            "[-1.00000001e+00 -7.45058060e-09]\n"
          ]
        }
      ],
      "source": [
        "from scipy import optimize\n",
        "\n",
        "def f(x):\n",
        "    x1, x2 = x\n",
        "    return (x1+1)**2+(x2)**2\n",
        "\n",
        "x0 = np.asarray((0, 0))  # Initial guess.\n",
        "res = optimize.fmin_cg(f, x0)\n",
        "print(res)\n"
      ]
    },
    {
      "cell_type": "markdown",
      "metadata": {
        "id": "CXsS0emvoVpg"
      },
      "source": [
        "# Zadanie 3\n",
        "Zdafiniuj funkcję opisującą błąd kwadratowy:\n",
        "\n",
        "$$\n",
        "\\mathrm{compute\\_error}(a,b;(x,y)) =  \\sum_{i=1}^{n} ( y_i - (ax_i+b) )^2.\n",
        "$$"
      ]
    },
    {
      "cell_type": "code",
      "execution_count": 13,
      "metadata": {
        "collapsed": true,
        "id": "HEektdQXoVph"
      },
      "outputs": [],
      "source": [
        "def compute_error(params, x, y):\n",
        "    a, b = params\n",
        "    return sum(((y[i] - (a * x[i] + b)) ** 2) for i in range(0, len(x))) / len(x)"
      ]
    },
    {
      "cell_type": "markdown",
      "metadata": {
        "id": "kcDvRicxoVph"
      },
      "source": [
        "# Zadanie 4\n",
        "Zminimalizuj funkcją $\\mathrm{compute\\_error}$ po parametrach $a,b$ (numerycznie).\n",
        "\n",
        "Czy wyniki są podobne do wyników z poprzednich zadań?"
      ]
    },
    {
      "cell_type": "code",
      "execution_count": 14,
      "metadata": {
        "collapsed": true,
        "id": "QxWVWK_NoVph",
        "outputId": "a7294fdf-a449-45cc-e15c-131b34c31825",
        "colab": {
          "base_uri": "https://localhost:8080/",
          "height": 484
        }
      },
      "outputs": [
        {
          "output_type": "stream",
          "name": "stdout",
          "text": [
            "Optimization terminated successfully.\n",
            "         Current function value: 0.332160\n",
            "         Iterations: 2\n",
            "         Function evaluations: 24\n",
            "         Gradient evaluations: 6\n"
          ]
        },
        {
          "output_type": "execute_result",
          "data": {
            "text/plain": [
              "<function matplotlib.pyplot.show>"
            ]
          },
          "metadata": {},
          "execution_count": 14
        },
        {
          "output_type": "display_data",
          "data": {
            "text/plain": [
              "<Figure size 432x432 with 1 Axes>"
            ],
            "image/png": "[encoded data removed]"
          },
          "metadata": {
            "needs_background": "light"
          }
        }
      ],
      "source": [
        "x = np.array([.2, .5, .8, .9, 1.3, 1.7, 2.1, 2.7])\n",
        "y = x + np.random.randn(len(x))\n",
        "\n",
        "x0 = np.asarray((1,1))\n",
        "\n",
        "res = optimize.fmin_cg(compute_error, x0, args=(x,y))\n",
        "\n",
        "plt.figure(figsize=(6,6));\n",
        "axes = plt.gca()\n",
        "axes.set_xlim([0,3])\n",
        "axes.set_ylim([0,8])\n",
        "plt.plot(x_tr, y_tr, '--k')\n",
        "plt.plot(x_tr, res[0] * x_tr + res[1], 'b')\n",
        "\n",
        "plt.plot(x, y, 'ok', ms=10);\n",
        "plt.show"
      ]
    },
    {
      "cell_type": "markdown",
      "metadata": {
        "id": "Aqum1d0coVph"
      },
      "source": [
        "# Zadanie 5\n",
        "Zdafiniuj funkcję opisującą błąd kwadratowy:\n",
        "\n",
        "$$\n",
        "\\mathrm{compute\\_error\\_1}(a,b;(x,y)) =  \\sum_{i=1}^{n} |y_i - (ax_i+b)|.\n",
        "$$"
      ]
    },
    {
      "cell_type": "code",
      "execution_count": 15,
      "metadata": {
        "collapsed": true,
        "id": "EGJ8m1ZxoVph"
      },
      "outputs": [],
      "source": [
        "def compute_error1(params, x, y):\n",
        "    a, b = params\n",
        "    return sum(abs((y[i] - (a * x[i] + b)) ** 2) for i in range(0, len(x))) / len(x)"
      ]
    },
    {
      "cell_type": "markdown",
      "metadata": {
        "id": "tkiKNBB7oVph"
      },
      "source": [
        "# Zadanie 6\n",
        "Zminimalizuj funkcją $\\mathrm{compute\\_error\\_1}$ po parametrach $a,b$ (numerycznie).\n",
        "\n",
        "Czy wyniki są podobne do wyników z poprzednich zadań?"
      ]
    },
    {
      "cell_type": "code",
      "execution_count": 16,
      "metadata": {
        "collapsed": true,
        "id": "09NDgryWoVpi",
        "outputId": "3c0d33ed-6c4c-4188-bc1b-1d02241d0621",
        "colab": {
          "base_uri": "https://localhost:8080/",
          "height": 484
        }
      },
      "outputs": [
        {
          "output_type": "stream",
          "name": "stdout",
          "text": [
            "Optimization terminated successfully.\n",
            "         Current function value: 0.439660\n",
            "         Iterations: 2\n",
            "         Function evaluations: 20\n",
            "         Gradient evaluations: 5\n"
          ]
        },
        {
          "output_type": "execute_result",
          "data": {
            "text/plain": [
              "<function matplotlib.pyplot.show>"
            ]
          },
          "metadata": {},
          "execution_count": 16
        },
        {
          "output_type": "display_data",
          "data": {
            "text/plain": [
              "<Figure size 432x432 with 1 Axes>"
            ],
            "image/png": "[encoded data removed]"
          },
          "metadata": {
            "needs_background": "light"
          }
        }
      ],
      "source": [
        "x = np.array([.2, .5, .8, .9, 1.3, 1.7, 2.1, 2.7])\n",
        "y = x + np.random.randn(len(x))\n",
        "\n",
        "x0 = np.asarray((1,1))\n",
        "\n",
        "res = optimize.fmin_cg(compute_error1, x0, args=(x,y))\n",
        "\n",
        "plt.figure(figsize=(6,6));\n",
        "axes = plt.gca()\n",
        "axes.set_xlim([0,3])\n",
        "axes.set_ylim([0,8])\n",
        "plt.plot(x_tr, y_tr, '--k')\n",
        "plt.plot(x_tr, res[0] * x_tr + res[1], 'b')\n",
        "\n",
        "plt.plot(x, y, 'ok', ms=10);\n",
        "plt.show"
      ]
    },
    {
      "cell_type": "markdown",
      "metadata": {
        "collapsed": true,
        "id": "KDZnTwpkoVpi"
      },
      "source": [
        "# Zadanie 7\n",
        "Wykonaj dwie powyższe regresję na danych z wartością odstającą.\n"
      ]
    },
    {
      "cell_type": "code",
      "execution_count": 17,
      "metadata": {
        "id": "CEbZqVLooVpi",
        "outputId": "946ebd6f-374c-404a-94d0-2c09c8acbba1",
        "colab": {
          "base_uri": "https://localhost:8080/",
          "height": 378
        }
      },
      "outputs": [
        {
          "output_type": "display_data",
          "data": {
            "text/plain": [
              "<Figure size 432x432 with 1 Axes>"
            ],
            "image/png": "[encoded data removed]"
          },
          "metadata": {
            "needs_background": "light"
          }
        }
      ],
      "source": [
        "f = lambda x: (x)\n",
        "x_tr = np.linspace(0., 3, 200)\n",
        "y_tr = f(x_tr)\n",
        "x = np.array([.2, .5, .8, .9, 1.3, 1.7, 2.1, 2.7])\n",
        "y = f(x) + np.random.randn(len(x))/5\n",
        "y[1]=y[1]+10\n",
        "plt.figure(figsize=(6,6));\n",
        "axes = plt.gca()\n",
        "axes.set_xlim([0,3])\n",
        "axes.set_ylim([0,12])\n",
        "plt.plot(x_tr, y_tr, '--k');\n",
        "plt.plot(x, y, 'ok', ms=10);\n",
        "plt.show()"
      ]
    },
    {
      "cell_type": "code",
      "execution_count": 18,
      "metadata": {
        "collapsed": true,
        "id": "VqpoHgwYoVpi"
      },
      "outputs": [],
      "source": [
        "points = np.column_stack((x,y))"
      ]
    },
    {
      "cell_type": "code",
      "execution_count": 19,
      "metadata": {
        "collapsed": true,
        "id": "2WcaGZjAoVpj",
        "outputId": "d1ed6e4c-dba4-4810-d2b8-448b409b8e21",
        "colab": {
          "base_uri": "https://localhost:8080/",
          "height": 484
        }
      },
      "outputs": [
        {
          "output_type": "stream",
          "name": "stdout",
          "text": [
            "Optimization terminated successfully.\n",
            "         Current function value: 9.103962\n",
            "         Iterations: 2\n",
            "         Function evaluations: 20\n",
            "         Gradient evaluations: 5\n"
          ]
        },
        {
          "output_type": "execute_result",
          "data": {
            "text/plain": [
              "<function matplotlib.pyplot.show>"
            ]
          },
          "metadata": {},
          "execution_count": 19
        },
        {
          "output_type": "display_data",
          "data": {
            "text/plain": [
              "<Figure size 432x432 with 1 Axes>"
            ],
            "image/png": "[encoded data removed]"
          },
          "metadata": {
            "needs_background": "light"
          }
        }
      ],
      "source": [
        "x0 = np.asarray((1,1))\n",
        "\n",
        "res = optimize.fmin_cg(compute_error, x0, args=(x,y))\n",
        "\n",
        "plt.figure(figsize=(6,6));\n",
        "axes = plt.gca()\n",
        "axes.set_xlim([0,3])\n",
        "axes.set_ylim([0,8])\n",
        "plt.plot(x_tr, y_tr, '--k')\n",
        "plt.plot(x_tr, res[1] * x_tr + res[0], 'b')\n",
        "\n",
        "plt.plot(x, y, 'ok', ms=10);\n",
        "plt.show"
      ]
    },
    {
      "cell_type": "code",
      "source": [
        "x0 = np.asarray((1,1))\n",
        "\n",
        "res = optimize.fmin_cg(compute_error1, x0, args=(x,y))\n",
        "\n",
        "plt.figure(figsize=(6,6));\n",
        "axes = plt.gca()\n",
        "axes.set_xlim([0,3])\n",
        "axes.set_ylim([0,8])\n",
        "plt.plot(x_tr, y_tr, '--k')\n",
        "plt.plot(x_tr, res[1] * x_tr + res[0], 'b')\n",
        "\n",
        "plt.plot(x, y, 'ok', ms=10);\n",
        "plt.show"
      ],
      "metadata": {
        "id": "6D2Wnnyjo7bW",
        "outputId": "ddb95482-cf3b-4750-b7c1-5e6b0a634b79",
        "colab": {
          "base_uri": "https://localhost:8080/",
          "height": 484
        }
      },
      "execution_count": 20,
      "outputs": [
        {
          "output_type": "stream",
          "name": "stdout",
          "text": [
            "Optimization terminated successfully.\n",
            "         Current function value: 9.103962\n",
            "         Iterations: 2\n",
            "         Function evaluations: 20\n",
            "         Gradient evaluations: 5\n"
          ]
        },
        {
          "output_type": "execute_result",
          "data": {
            "text/plain": [
              "<function matplotlib.pyplot.show>"
            ]
          },
          "metadata": {},
          "execution_count": 20
        },
        {
          "output_type": "display_data",
          "data": {
            "text/plain": [
              "<Figure size 432x432 with 1 Axes>"
            ],
            "image/png": "[encoded data removed]"
          },
          "metadata": {
            "needs_background": "light"
          }
        }
      ]
    }
  ],
  "metadata": {
    "kernelspec": {
      "display_name": "Python 3",
      "language": "python",
      "name": "python3"
    },
    "language_info": {
      "codemirror_mode": {
        "name": "ipython",
        "version": 3
      },
      "file_extension": ".py",
      "mimetype": "text/x-python",
      "name": "python",
      "nbconvert_exporter": "python",
      "pygments_lexer": "ipython3",
      "version": "3.8.5"
    },
    "colab": {
      "name": "Z04_C_linear_regression.ipynb",
      "provenance": []
    }
  },
  "nbformat": 4,
  "nbformat_minor": 0
}