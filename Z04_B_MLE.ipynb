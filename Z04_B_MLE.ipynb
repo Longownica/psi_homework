{
  "cells": [
    {
      "cell_type": "markdown",
      "metadata": {
        "id": "NY_W8oxFagD6"
      },
      "source": [
        "# Estymatory największej wiarygodności"
      ]
    },
    {
      "cell_type": "code",
      "execution_count": 1,
      "metadata": {
        "collapsed": true,
        "id": "XRTAaXU0agEJ"
      },
      "outputs": [],
      "source": [
        "import numpy as np\n",
        "import matplotlib.pyplot as plt\n",
        "from scipy import stats\n",
        "import seaborn as sns\n",
        "from scipy import optimize"
      ]
    },
    {
      "cell_type": "markdown",
      "metadata": {
        "id": "HZc7VwqragEY"
      },
      "source": [
        "# Zadanie 1\n",
        "Napisz program, który losuje próbkę z rozkładu jednostajnego i rysuje funkcję gęstości rozkładu normalnego z parametrami $\\mu=1$, $\\sigma=1$. "
      ]
    },
    {
      "cell_type": "code",
      "execution_count": 2,
      "metadata": {
        "collapsed": true,
        "id": "-N4IHfzNagEd"
      },
      "outputs": [],
      "source": [
        "N = 100000\n",
        "u=stats.uniform()\n",
        "data = u.rvs(size=N)\n",
        "mu= 0\n",
        "sigma = 1"
      ]
    },
    {
      "cell_type": "code",
      "execution_count": 4,
      "metadata": {
        "id": "YclO_nsvagEk",
        "outputId": "235907af-932f-4239-a0e7-13024c44001d",
        "colab": {
          "base_uri": "https://localhost:8080/",
          "height": 265
        }
      },
      "outputs": [
        {
          "output_type": "display_data",
          "data": {
            "text/plain": [
              "<Figure size 432x288 with 1 Axes>"
            ],
            "image/png": "[encoded data removed]"
          },
          "metadata": {
            "needs_background": "light"
          }
        }
      ],
      "source": [
        "t = np.arange(-2, 2, 0.05)\n",
        "num_bins = 50\n",
        "fig, ax = plt.subplots(1, 1)\n",
        "ax.hist(data, histtype='stepfilled', alpha=0.5, label='histogram')\n",
        "ax.legend(loc='best', frameon=False)\n",
        "ax.plot(t, stats.norm.pdf(t,mu, sigma), 'k-', lw=2, label='a=-1, b=1')\n",
        "ax.legend()\n",
        "plt.show()"
      ]
    },
    {
      "cell_type": "markdown",
      "metadata": {
        "id": "tnuLGIJZagEp"
      },
      "source": [
        "# Zadanie 2\n",
        "Napisz program, który losuje próbkę z rozkładu jednostajnego i rysuje funkcję gęstości rozkładu normalnego z parametrami \n",
        "\n",
        "<ul>\n",
        "<li>$\\mu=\\frac{1}{n}\\sum_{i=1}^n x_i$</li>\n",
        "<li>$\\sigma^2=\\frac{1}{n} \\sum_{i=1}^n(x_i - \\mu)^2$</li>\n",
        "</ul>"
      ]
    },
    {
      "cell_type": "code",
      "execution_count": 5,
      "metadata": {
        "id": "iQVYMkS_agEr",
        "outputId": "1242ee93-96ed-4979-e971-4d7a349fae9e",
        "colab": {
          "base_uri": "https://localhost:8080/"
        }
      },
      "outputs": [
        {
          "output_type": "stream",
          "name": "stdout",
          "text": [
            "[0.58115252 0.07191465 0.91149333 ... 0.08358144 0.04721515 0.20056783]\n"
          ]
        }
      ],
      "source": [
        "N = 100000\n",
        "data = stats.uniform().rvs(size=N)\n",
        "print(data)\n",
        "mu = np.mean(data) \n",
        "sigma = np.std(data)"
      ]
    },
    {
      "cell_type": "code",
      "source": [
        "t = np.arange(-2, 2, 0.05)\n",
        "\n",
        "num_bins = 50\n",
        "fig, ax = plt.subplots(1, 1)\n",
        "ax.hist(data, density=True, histtype='stepfilled', alpha=0.5, label='histogram')\n",
        "ax.legend(loc='best', frameon=False)\n",
        "ax.plot(t, stats.norm.pdf(t,mu, sigma), 'k-', lw=2, label='a=-1, b=1')\n",
        "ax.legend()\n",
        "plt.show()"
      ],
      "metadata": {
        "id": "s33eHbBHbT9e",
        "outputId": "0c3e281a-e0e9-4c5b-b5f9-e64c1e8fdbdc",
        "colab": {
          "base_uri": "https://localhost:8080/",
          "height": 265
        }
      },
      "execution_count": 9,
      "outputs": [
        {
          "output_type": "display_data",
          "data": {
            "text/plain": [
              "<Figure size 432x288 with 1 Axes>"
            ],
            "image/png": "[encoded data removed]"
          },
          "metadata": {
            "needs_background": "light"
          }
        }
      ]
    },
    {
      "cell_type": "markdown",
      "metadata": {
        "id": "tgbTkL75agEt"
      },
      "source": [
        "# Zadanie 3\n",
        "Napisz program, który losuje próbkę z rozkładu jednostajnego i rysuje funkcję gęstości rozkładu normalnego z parametrami otrzymanymi za pomocą funkcji <tt>fit()</tt> ze <tt>scipy.stats</tt>"
      ]
    },
    {
      "cell_type": "code",
      "source": [
        "N = 100000\n",
        "data = stats.uniform().rvs(size=N)\n",
        "print(data)\n",
        "mu, sigma = stats.norm.fit(data)"
      ],
      "metadata": {
        "id": "5pmJlG3sbY1O",
        "outputId": "1acb1581-3021-4f57-f733-1281de4ba209",
        "colab": {
          "base_uri": "https://localhost:8080/"
        }
      },
      "execution_count": 10,
      "outputs": [
        {
          "output_type": "stream",
          "name": "stdout",
          "text": [
            "[0.41562969 0.54474547 0.50018512 ... 0.79536076 0.22888986 0.36870291]\n"
          ]
        }
      ]
    },
    {
      "cell_type": "code",
      "execution_count": 11,
      "metadata": {
        "collapsed": true,
        "id": "GhCJRu69agEv",
        "outputId": "032578a8-02ef-4e2b-e83b-c99fca47aa60",
        "colab": {
          "base_uri": "https://localhost:8080/",
          "height": 265
        }
      },
      "outputs": [
        {
          "output_type": "display_data",
          "data": {
            "text/plain": [
              "<Figure size 432x288 with 1 Axes>"
            ],
            "image/png": "[encoded data removed]"
          },
          "metadata": {
            "needs_background": "light"
          }
        }
      ],
      "source": [
        "t = np.arange(-2, 2, 0.05)\n",
        "\n",
        "num_bins = 50\n",
        "fig, ax = plt.subplots(1, 1)\n",
        "ax.hist(data, density=True, histtype='stepfilled', alpha=0.5, label='histogram')\n",
        "ax.legend(loc='best', frameon=False)\n",
        "ax.plot(t, stats.norm.pdf(t,mu, sigma), 'k-', lw=2, label='a=-1, b=1')\n",
        "ax.legend()\n",
        "plt.show()"
      ]
    },
    {
      "cell_type": "markdown",
      "metadata": {
        "id": "G4bKuQz5agEz"
      },
      "source": [
        "# Zadanie 4\n",
        "\n",
        "Wiemy, że funkcja wiarygodnosci ma postać:\n",
        "\n",
        "$$\n",
        "L(X,m,\\sigma)=\\prod_{i=1}^n f_{m,\\sigma} (x_i).\n",
        "$$\n",
        "\n",
        "\n",
        "Zaimplementuj logarytmiczną funkcję wiarygodności  dla rodziny rozkładów normalnych:\n",
        "\n",
        "$$\n",
        "l(X,m,\\sigma)=\\ln\\left( L(X,m,\\sigma) \\right)=\\ln\\left(\\prod_{i=1}^n f_{m,\\sigma} (x_i) \\right)=\\sum_{i=1}^n \\ln(f_{m,\\sigma} (x_i))\n",
        "$$"
      ]
    },
    {
      "cell_type": "code",
      "execution_count": 12,
      "metadata": {
        "collapsed": true,
        "id": "xnEtLpOfagE1"
      },
      "outputs": [],
      "source": [
        "# split normal distribution pdf\n",
        "def Gpdf(x, mu, sigma):\n",
        "    return 1/(sigma * (2*np.pi)**.5) *np.e ** (-(x-mu)**2/(2 * sigma**2))"
      ]
    },
    {
      "cell_type": "code",
      "execution_count": 13,
      "metadata": {
        "collapsed": true,
        "id": "dSOyT5R7agE3"
      },
      "outputs": [],
      "source": [
        "data = stats.uniform().rvs(size=10000)\n",
        "def l(x, data):\n",
        "    mu, sigma = x\n",
        "    return -sum(np.log(Gpdf(i, mu, abs(sigma))) for i in data)"
      ]
    },
    {
      "cell_type": "markdown",
      "metadata": {
        "id": "AhX7uP_IagE4"
      },
      "source": [
        "# Zadanie 5\n",
        "Policz MLE dla danych z rozkładu jednostajnego i parametrów:\n",
        "<ul>\n",
        "<li>$\\mu=0$, $\\sigma=1$</li>\n",
        "<li>$\\mu=0$, $\\sigma=2$</li>\n",
        "<li>$\\mu=1$, $\\sigma=1$</li>\n",
        "<li>$\\mu=0.5$, $\\sigma=0.2$</li>\n",
        "</ul>\n",
        "Dla których wartości wychodzi wynik największy i dlaczego?"
      ]
    },
    {
      "cell_type": "code",
      "execution_count": 15,
      "metadata": {
        "collapsed": true,
        "id": "3kfAhCCxagE5",
        "outputId": "842134fc-1093-4a7c-cec6-0a1adf4dbc4e",
        "colab": {
          "base_uri": "https://localhost:8080/"
        }
      },
      "outputs": [
        {
          "output_type": "stream",
          "name": "stdout",
          "text": [
            "l for mu=0, sigma=1: 10850.605761579285\n"
          ]
        }
      ],
      "source": [
        "data = stats.uniform().rvs(size=10000)\n",
        "print(\"l for mu=0, sigma=1: \" + str(l((0, 1), data)))\n",
        "# print(\"l for mu=0, sigma=2: \" + str(l(data, 0, 2)))\n",
        "# print(\"l for mu=1, sigma=1: \" + str(l(data, 1, 1)))\n",
        "# print(\"l for mu=0.5, sigma=0.2: \" + str(l(data, 0.5, 0.2)))"
      ]
    },
    {
      "cell_type": "markdown",
      "metadata": {
        "id": "tDQdFS0yagE6"
      },
      "source": [
        "# Zadanie 6\n",
        "Zapoznaj się z funkcją <tt>optimize.fmin_cg</tt>\n",
        "https://docs.scipy.org/doc/scipy-0.19.0/reference/generated/scipy.optimize.fmin_cg.html\n",
        "i znajdż minimum funkcji\n",
        "\n",
        "$$\n",
        "f(x,y) = (x+1)^2+y^2\n",
        "$$"
      ]
    },
    {
      "cell_type": "code",
      "execution_count": 16,
      "metadata": {
        "id": "RKuQUPMwagE8",
        "outputId": "d0b149f7-6dfb-4860-ebe1-3c2c6911f78e",
        "colab": {
          "base_uri": "https://localhost:8080/"
        }
      },
      "outputs": [
        {
          "output_type": "stream",
          "name": "stdout",
          "text": [
            "Optimization terminated successfully.\n",
            "         Current function value: 0.000000\n",
            "         Iterations: 1\n",
            "         Function evaluations: 16\n",
            "         Gradient evaluations: 4\n",
            "[-1.00000001e+00 -7.45058060e-09]\n"
          ]
        }
      ],
      "source": [
        "def f(x):\n",
        "    x1, x2 = x\n",
        "    return (x1+1)**2+(x2)**2\n",
        "x0 = np.asarray((0, 0))  # Initial guess.\n",
        "res1 = optimize.fmin_cg(f, x0)\n",
        "print(res1)"
      ]
    },
    {
      "cell_type": "markdown",
      "metadata": {
        "id": "GAFFfuFRagE-"
      },
      "source": [
        "# Zadanie 7\n",
        "Zminimalizuj funkcją wiarygodności z Zad. 5 (numerycznie).\n",
        "\n",
        "Czy wyniki są podobne do wyniików z poprzednich zadań?"
      ]
    },
    {
      "cell_type": "code",
      "execution_count": 17,
      "metadata": {
        "collapsed": true,
        "id": "gCTaPvOWagFA",
        "outputId": "311f2131-78aa-459c-829e-6235fcb2e3c9",
        "colab": {
          "base_uri": "https://localhost:8080/"
        }
      },
      "outputs": [
        {
          "output_type": "stream",
          "name": "stdout",
          "text": [
            "[0 1]\n",
            "Warning: Desired error not necessarily achieved due to precision loss.\n",
            "         Current function value: 1768.589563\n",
            "         Iterations: 12\n",
            "         Function evaluations: 224\n",
            "         Gradient evaluations: 54\n",
            "[0.4988471  0.28878304]\n"
          ]
        }
      ],
      "source": [
        "x0 = np.asarray((0, 1))\n",
        "print(x0)\n",
        "print(optimize.fmin_cg(l, x0, args=(data,)))"
      ]
    },
    {
      "cell_type": "markdown",
      "metadata": {
        "id": "J_K7JIwtagFB"
      },
      "source": [
        "# Zadanie 8 (dla chętnych)\n",
        "Wykonaj poprzednie zadanie wykorzystując pochodne http://faculty.washington.edu/ezivot/econ583/mleLectures.pdf."
      ]
    },
    {
      "cell_type": "code",
      "execution_count": null,
      "metadata": {
        "collapsed": true,
        "id": "emsCbPIWagFC"
      },
      "outputs": [],
      "source": [
        ""
      ]
    },
    {
      "cell_type": "markdown",
      "metadata": {
        "id": "mxk_NostagFD"
      },
      "source": [
        "# Zadanie 9\n",
        "Napisz funkcję gęstości rozkładu Split Gaussian:\n",
        "\n",
        "$$\n",
        "SN(x;m,\\sigma^2,\\tau^2) = \\left\\{ \\begin{array}{ll}\n",
        "c \\cdot \\exp[-\\frac{1}{2\\sigma^2}(x-m)^2], & \\textrm{for $x\\leq m$},\\\\\n",
        "c \\cdot \\exp[-\\frac{1}{2\\tau^2\\sigma^2}(x-m)^2], & \\textrm{for $x>m$},\\\\\n",
        "\\end{array} \\right.\n",
        "$$\n",
        "\n",
        "gdzie $c=\\sqrt{\\frac{2}{\\pi}}\\sigma^{-1}(1+\\tau)^{-1}$.\n",
        "\n",
        "Narysuj gęstości dla parametrów:\n",
        "\n",
        "<ul>\n",
        "<li>$\\mu=0$, $\\sigma=1$, $\\tau=1$</li>\n",
        "<li>$\\mu=0$, $\\sigma=1$, $\\tau=1/2$</li>\n",
        "<li>$\\mu=1$, $\\sigma=1/2$, $\\tau=1$</li>\n",
        "</ul>"
      ]
    },
    {
      "cell_type": "code",
      "execution_count": 18,
      "metadata": {
        "collapsed": true,
        "id": "nNDCxdJ5agFF"
      },
      "outputs": [],
      "source": [
        "def SN(x, mu, sigma, tau):\n",
        "    c = (np.sqrt(2 / np.pi)) / sigma / (1 + tau)\n",
        "    if x < mu:\n",
        "        z = c * np.exp(-(x - mu) ** 2 / (2 * sigma ** 2))\n",
        "    else:\n",
        "        z = c * np.exp(-(x - mu) ** 2 / (2 * tau ** 2 * sigma ** 2))\n",
        "    return z"
      ]
    },
    {
      "cell_type": "code",
      "source": [
        "SNV = np.vectorize(SN)\n",
        "t = np.arange(-2, 2, 0.05)\n",
        "fig, ax = plt.subplots(1, 1)\n",
        "ax.plot(t, SNV(t, 0, 1, 1), 'k-', label=\"density [0,1,1]\")\n",
        "ax.plot(t, SNV(t, 0, 1, 0.5), 'r-', label=\"density [0,1,0.5]\")\n",
        "ax.plot(t, SNV(t, 1, 0.5, 1), 'b-', label=\"density [1,0.5,1]\")\n",
        "ax.legend()\n",
        "\n",
        "plt.show()"
      ],
      "metadata": {
        "id": "9t67vaMVcW35",
        "outputId": "f276f36d-afb2-45f5-e70a-4de1de64391f",
        "colab": {
          "base_uri": "https://localhost:8080/",
          "height": 265
        }
      },
      "execution_count": 19,
      "outputs": [
        {
          "output_type": "display_data",
          "data": {
            "text/plain": [
              "<Figure size 432x288 with 1 Axes>"
            ],
            "image/png": "[encoded data removed]"
          },
          "metadata": {
            "needs_background": "light"
          }
        }
      ]
    },
    {
      "cell_type": "markdown",
      "metadata": {
        "id": "vwMbwufSagFG"
      },
      "source": [
        "# Zadanie 10\n",
        "\n",
        "Wiemy, że funkcja wiarygodnosci ma postać:\n",
        "\n",
        "$$\n",
        "L(X,m,\\sigma,\\tau)=\\prod_{i=1}^n f_{m,\\sigma,\\tau} (x_i).\n",
        "$$\n",
        "\n",
        "Zaimplementuj logarytmiczną funkcję wiarygodności  dla rodziny rozkładów Split Normal:\n",
        "\n",
        "$$\n",
        "l(X,m,\\sigma,\\tau)=\\ln\\left( L(X,m,\\sigma,\\tau) \\right)=\\ln\\left(\\prod_{i=1}^n f_{m,\\sigma,\\tau} (x_i) \\right)=\\sum_{i=1}^n \\ln(f_{m,\\sigma,\\tau} (x_i))\n",
        "$$"
      ]
    },
    {
      "cell_type": "code",
      "execution_count": 20,
      "metadata": {
        "collapsed": true,
        "id": "kXOwtUrlagFI"
      },
      "outputs": [],
      "source": [
        "def l2(x, data):\n",
        "    mu, sigma, tau = x\n",
        "    return -sum(SN(i, mu, abs(sigma), abs(tau)) for i in data)"
      ]
    },
    {
      "cell_type": "markdown",
      "metadata": {
        "id": "z-323bsCagFI"
      },
      "source": [
        "# Zadanie 11\n",
        "Zminimalizuj funkcją wiarygodności z Zad. 10 (numerycznie)."
      ]
    },
    {
      "cell_type": "code",
      "execution_count": 21,
      "metadata": {
        "collapsed": true,
        "id": "vhPodNT0agFJ",
        "outputId": "a8277a62-366f-4e83-8988-e3529183f5b0",
        "colab": {
          "base_uri": "https://localhost:8080/"
        }
      },
      "outputs": [
        {
          "output_type": "stream",
          "name": "stdout",
          "text": [
            "Warning: Desired error not necessarily achieved due to precision loss.\n",
            "         Current function value: -422935.201616\n",
            "         Iterations: 19\n",
            "         Function evaluations: 1078\n",
            "         Gradient evaluations: 214\n",
            "[ 5.01963168e-01 -4.92616566e-07  3.56045745e-01]\n"
          ]
        }
      ],
      "source": [
        "data = stats.uniform().rvs(size=1000)\n",
        "x0 = np.asarray((1, 1, 1))\n",
        "print(optimize.fmin_cg(l2, x0, args=(data,)))"
      ]
    },
    {
      "cell_type": "markdown",
      "metadata": {
        "id": "hN0Qd82oagFJ"
      },
      "source": [
        "# Zadanie 12\n",
        "Zaimportuj dane <tt>datasets</tt> i wyestymuj rozkład normalny i Split Normal dla <tt>boston.data[:,7]</tt>.\n",
        "\n",
        "Rozpocznij procedurę minimalizacji od warunku początkowego:\n",
        "\n",
        "<ul>\n",
        "<li>mu=np.mean(data)</li>\n",
        "<li>sigma=np.std(data)</li>\n",
        "<li>tau=np.std(data)</li>\n",
        "</ul>\n",
        "\n",
        "Który rozkład lepiej pasuje do danych?"
      ]
    },
    {
      "cell_type": "code",
      "execution_count": 22,
      "metadata": {
        "collapsed": true,
        "id": "B5DrPXIhagFK",
        "outputId": "11deea86-8441-411e-d68f-412407543922",
        "colab": {
          "base_uri": "https://localhost:8080/"
        }
      },
      "outputs": [
        {
          "output_type": "stream",
          "name": "stderr",
          "text": [
            "/usr/local/lib/python3.7/dist-packages/sklearn/utils/deprecation.py:87: FutureWarning: Function load_boston is deprecated; `load_boston` is deprecated in 1.0 and will be removed in 1.2.\n",
            "\n",
            "    The Boston housing prices dataset has an ethical problem. You can refer to\n",
            "    the documentation of this function for further details.\n",
            "\n",
            "    The scikit-learn maintainers therefore strongly discourage the use of this\n",
            "    dataset unless the purpose of the code is to study and educate about\n",
            "    ethical issues in data science and machine learning.\n",
            "\n",
            "    In this special case, you can fetch the dataset from the original\n",
            "    source::\n",
            "\n",
            "        import pandas as pd\n",
            "        import numpy as np\n",
            "\n",
            "\n",
            "        data_url = \"http://lib.stat.cmu.edu/datasets/boston\"\n",
            "        raw_df = pd.read_csv(data_url, sep=\"\\s+\", skiprows=22, header=None)\n",
            "        data = np.hstack([raw_df.values[::2, :], raw_df.values[1::2, :2]])\n",
            "        target = raw_df.values[1::2, 2]\n",
            "\n",
            "    Alternative datasets include the California housing dataset (i.e.\n",
            "    :func:`~sklearn.datasets.fetch_california_housing`) and the Ames housing\n",
            "    dataset. You can load the datasets as follows::\n",
            "\n",
            "        from sklearn.datasets import fetch_california_housing\n",
            "        housing = fetch_california_housing()\n",
            "\n",
            "    for the California housing dataset and::\n",
            "\n",
            "        from sklearn.datasets import fetch_openml\n",
            "        housing = fetch_openml(name=\"house_prices\", as_frame=True)\n",
            "\n",
            "    for the Ames housing dataset.\n",
            "    \n",
            "  warnings.warn(msg, category=FutureWarning)\n"
          ]
        }
      ],
      "source": [
        "from sklearn import datasets\n",
        "boston = datasets.load_boston()\n",
        "data=boston.data[:,7]"
      ]
    },
    {
      "cell_type": "code",
      "execution_count": 23,
      "metadata": {
        "collapsed": true,
        "id": "s-iJRAeJagFK"
      },
      "outputs": [],
      "source": [
        "mu=np.mean(data)\n",
        "sigma=np.std(data)\n",
        "tau=np.std(data)"
      ]
    },
    {
      "cell_type": "code",
      "source": [
        "x0=np.asarray(stats.norm.fit(data))\n",
        "normal = optimize.fmin_cg(l, x0, args=(data,))\n",
        "\n",
        "t = np.arange(-2, 14, 0.05)\n",
        "num_bins = 50\n",
        "fig, ax = plt.subplots(1, 1)\n",
        "ax.hist(data, density=True, histtype='stepfilled', alpha=0.5, label='histogram')\n",
        "ax.legend(loc='best', frameon=False)\n",
        "ax.plot(t, stats.norm.pdf(t, normal[0], normal[1]), 'k-')\n",
        "ax.legend()\n",
        "plt.show()"
      ],
      "metadata": {
        "id": "pQUMwYgAciWf",
        "outputId": "a4a0f2b5-bca8-4e61-ab24-d0505d0e0b79",
        "colab": {
          "base_uri": "https://localhost:8080/",
          "height": 354
        }
      },
      "execution_count": 24,
      "outputs": [
        {
          "output_type": "stream",
          "name": "stdout",
          "text": [
            "Warning: Desired error not necessarily achieved due to precision loss.\n",
            "         Current function value: 1094.276701\n",
            "         Iterations: 1\n",
            "         Function evaluations: 85\n",
            "         Gradient evaluations: 21\n"
          ]
        },
        {
          "output_type": "display_data",
          "data": {
            "text/plain": [
              "<Figure size 432x288 with 1 Axes>"
            ],
            "image/png": "[encoded data removed]"
          },
          "metadata": {
            "needs_background": "light"
          }
        }
      ]
    },
    {
      "cell_type": "code",
      "source": [
        "x0=np.asarray((mu,sigma,tau))\n",
        "split=optimize.fmin_cg(l2, x0, args=(data,))\n",
        "\n",
        "t = np.arange(-2, 10, 0.05)\n",
        "num_bins = 50\n",
        "fig, ax = plt.subplots(1, 1)\n",
        "ax.hist(data, density=True)\n",
        "ax.plot(t, SNV(t, split[0], split[1], split[2]), 'k-')\n",
        "plt.show()"
      ],
      "metadata": {
        "id": "qdaDjSbrckP9",
        "outputId": "565a4679-9eb0-4762-9d82-a34f84288209",
        "colab": {
          "base_uri": "https://localhost:8080/",
          "height": 354
        }
      },
      "execution_count": 25,
      "outputs": [
        {
          "output_type": "stream",
          "name": "stdout",
          "text": [
            "Warning: Desired error not necessarily achieved due to precision loss.\n",
            "         Current function value: -103070.502477\n",
            "         Iterations: 19\n",
            "         Function evaluations: 953\n",
            "         Gradient evaluations: 189\n"
          ]
        },
        {
          "output_type": "display_data",
          "data": {
            "text/plain": [
              "<Figure size 432x288 with 1 Axes>"
            ],
            "image/png": "[encoded data removed]"
          },
          "metadata": {
            "needs_background": "light"
          }
        }
      ]
    }
  ],
  "metadata": {
    "kernelspec": {
      "display_name": "Python 3",
      "language": "python",
      "name": "python3"
    },
    "language_info": {
      "codemirror_mode": {
        "name": "ipython",
        "version": 3
      },
      "file_extension": ".py",
      "mimetype": "text/x-python",
      "name": "python",
      "nbconvert_exporter": "python",
      "pygments_lexer": "ipython3",
      "version": "3.8.5"
    },
    "colab": {
      "name": "Z04_B_MLE.ipynb",
      "provenance": []
    }
  },
  "nbformat": 4,
  "nbformat_minor": 0
}