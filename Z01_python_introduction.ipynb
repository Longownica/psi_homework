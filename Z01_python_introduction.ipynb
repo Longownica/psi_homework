{
  "cells": [
    {
      "cell_type": "markdown",
      "metadata": {
        "id": "view-in-github",
        "colab_type": "text"
      },
      "source": [
        "<a href=\"https://colab.research.google.com/github/Longownica/psi_homework/blob/main/Z01_python_introduction.ipynb\" target=\"_parent\"><img src=\"https://colab.research.google.com/assets/colab-badge.svg\" alt=\"Open In Colab\"/></a>"
      ]
    },
    {
      "cell_type": "markdown",
      "metadata": {
        "id": "BvCw_RJa529b"
      },
      "source": [
        "# Podstawowe operatory\n",
        "\n",
        " * \\+ – dodawanie: 4 + 7.5 daje 11.5;\n",
        " * \\- – odejmowanie: 30 - 24 daje 6;\n",
        " * \\* – mnożenie: 2 * 3 daje 6;\n",
        " * \\*\\* – potęgowanie: 3 ** 4 daje 81;\n",
        " * / – dzielenie: 4 / 3 daje 1;\n",
        " * // – dzielenie całkowite: 4 // 3.0 daje 1;\n",
        " * % – dzielenie modulo: 8 % 3 daje 2. "
      ]
    },
    {
      "cell_type": "markdown",
      "metadata": {
        "id": "ROi6vv-U529i"
      },
      "source": [
        "# Operatory porównania:\n",
        "\n",
        " * < – mniejsze,\n",
        " * \\> – większe,\n",
        " * <= – mniejsze lub równe,\n",
        " * == – równe,\n",
        " * != – różne. "
      ]
    },
    {
      "cell_type": "markdown",
      "metadata": {
        "id": "cvJw1-Tf529k"
      },
      "source": [
        "# 1. Warunki\n",
        "Python używa zmiennych logicznych w celu oceny warunków. \n",
        "Wartości logiczne prawda (True) i fałsz (False) są zwracane, gdy wyrażenie jest porównywane i oceniane. \n",
        "\n",
        "Na przykład:"
      ]
    },
    {
      "cell_type": "code",
      "execution_count": null,
      "metadata": {
        "id": "ZZzFthkS529m",
        "outputId": "c733b2a3-5609-4c14-ec39-594fce427a42"
      },
      "outputs": [
        {
          "name": "stdout",
          "output_type": "stream",
          "text": [
            "True\n",
            "False\n",
            "True\n"
          ]
        }
      ],
      "source": [
        "x = 2\n",
        "print(x == 2)\n",
        "print(x == 3)\n",
        "print(x < 3)"
      ]
    },
    {
      "cell_type": "markdown",
      "metadata": {
        "id": "6ctkFgU3529o"
      },
      "source": [
        "# 1.1 Instrukcje Warunkowe\n",
        "Aby uzależnić wykonanie instrukcji od rezultatu porównania, używamy instrukcji warunkowej"
      ]
    },
    {
      "cell_type": "code",
      "execution_count": null,
      "metadata": {
        "id": "gEg73AWz529p",
        "outputId": "6d678c7b-7afc-42f0-d647-fa8388f602ee"
      },
      "outputs": [
        {
          "name": "stdout",
          "output_type": "stream",
          "text": [
            "OK\n"
          ]
        }
      ],
      "source": [
        "x=2\n",
        "\n",
        "if x==2: \n",
        "    print(\"OK\")"
      ]
    },
    {
      "cell_type": "markdown",
      "metadata": {
        "id": "qkmnNAYB529r"
      },
      "source": [
        "Przykład bardziej skomplikowany:"
      ]
    },
    {
      "cell_type": "code",
      "execution_count": null,
      "metadata": {
        "id": "gii4mmF9529s",
        "outputId": "10bec17e-60de-4f90-e13b-1c19e6c9e8bb"
      },
      "outputs": [
        {
          "name": "stdout",
          "output_type": "stream",
          "text": [
            "2\n"
          ]
        }
      ],
      "source": [
        "a = 2\n",
        "b = 4\n",
        "if a > b:\n",
        "    print(b)\n",
        "else:\n",
        "    print(a)"
      ]
    },
    {
      "cell_type": "markdown",
      "metadata": {
        "id": "oTd7N967529u"
      },
      "source": [
        "W powyższym przykładzie użyliśmy pełnej instrukcji warunkowej <b>IF/ELSE</b>. Istnieje jeszcze bardziej bogatsza instrukcja warunkowa tzw. instrukcja wyboru wielokrotnego <b>IF/ELIF/ELSE</b>:"
      ]
    },
    {
      "cell_type": "code",
      "execution_count": null,
      "metadata": {
        "id": "Z63rZXfK529w",
        "outputId": "cf513af5-acc0-4a0a-f4ab-d7f8911843e3",
        "colab": {
          "base_uri": "https://localhost:8080/"
        }
      },
      "outputs": [
        {
          "output_type": "stream",
          "name": "stdout",
          "text": [
            "Ten program porównuje dwie liczby\n",
            "Podaj pierwszą z dwóch liczb:4\n",
            "Podaj drugą z dwóch liczb:5\n",
            "Liczba 4 w stosunku do 5 jest:\n",
            "mniejsza\n"
          ]
        }
      ],
      "source": [
        "print(\"Ten program porównuje dwie liczby\")\n",
        "x = input(\"Podaj pierwszą z dwóch liczb:\")                                 \n",
        "y = input(\"Podaj drugą z dwóch liczb:\")                                    \n",
        "print(\"Liczba\",x,\"w stosunku do\",y,\"jest:\",)\n",
        "if x==y:\n",
        "    print(\"taka sama\")\n",
        "elif x>y:\n",
        "    print(\"większa\")\n",
        "else:\n",
        "    print(\"mniejsza\")"
      ]
    },
    {
      "cell_type": "markdown",
      "metadata": {
        "id": "gr40ibco529x"
      },
      "source": [
        "# Operatory logiczne\n",
        "Operatory logiczne, takie jak: <b>and</b> i <b>or</b> umożliwiają budowanie złożonych wyrażeń logicznych, na przykład:"
      ]
    },
    {
      "cell_type": "markdown",
      "metadata": {
        "id": "nX30NtLC5294"
      },
      "source": [
        "# Zad. 1\n",
        "\n",
        "Napisz program, który sprawdzi, czy podane przez użytkownika koła mają niepuste przecięcie. Użytkownik programu podaje współrzędne środka oraz promień każdego koła.\n"
      ]
    },
    {
      "cell_type": "code",
      "execution_count": null,
      "metadata": {
        "id": "iaMQRQRV5295"
      },
      "outputs": [],
      "source": [
        "import math\n",
        "\n",
        "radius1 = input()\n",
        "x1 = input()\n",
        "y1 = input()\n",
        "radius2 = input()\n",
        "x2 = input()\n",
        "y2 = input()\n",
        "\n",
        "distanceX = abs(int(x1) - int(x2))\n",
        "distanceY = abs(int(y1) - int(y2))\n",
        "radiusSum = int(radius1) + int(radius2)\n",
        "\n",
        "if math.sqrt(pow(distanceX,2) + pow(distanceY, 2)) < radiusSum:\n",
        "  print(\"maja\")\n",
        "else:\n",
        "  print(\"nie maja\")\n",
        "\n",
        "#input: 2 0 0 2 1 0 \n",
        "#output: maja "
      ]
    },
    {
      "cell_type": "markdown",
      "metadata": {
        "id": "0OMwG26b5295"
      },
      "source": [
        "# Operator ,,in''\n",
        "Operator <b>in</b> może być używany w celu sprawdzenia, czy określony ,,obiekt'' istnieje w obrębie iterowalnego kontenera obiektów, np. listy:"
      ]
    },
    {
      "cell_type": "code",
      "execution_count": null,
      "metadata": {
        "collapsed": true,
        "id": "yNmyDk0N5296",
        "colab": {
          "base_uri": "https://localhost:8080/",
          "height": 189
        },
        "outputId": "1b0683bf-4944-4c85-e967-f076aeb511d1"
      },
      "outputs": [
        {
          "output_type": "error",
          "ename": "NameError",
          "evalue": "ignored",
          "traceback": [
            "\u001b[0;31m---------------------------------------------------------------------------\u001b[0m",
            "\u001b[0;31mNameError\u001b[0m                                 Traceback (most recent call last)",
            "\u001b[0;32m<ipython-input-1-36287884ccc6>\u001b[0m in \u001b[0;36m<module>\u001b[0;34m()\u001b[0m\n\u001b[0;32m----> 1\u001b[0;31m \u001b[0;32mif\u001b[0m \u001b[0mname\u001b[0m \u001b[0;32min\u001b[0m \u001b[0;34m[\u001b[0m\u001b[0;34m\"John\"\u001b[0m\u001b[0;34m,\u001b[0m \u001b[0;34m\"Rick\"\u001b[0m\u001b[0;34m]\u001b[0m\u001b[0;34m:\u001b[0m\u001b[0;34m\u001b[0m\u001b[0;34m\u001b[0m\u001b[0m\n\u001b[0m\u001b[1;32m      2\u001b[0m     \u001b[0mprint\u001b[0m\u001b[0;34m(\u001b[0m\u001b[0;34m\"Your name is either John or Rick.\"\u001b[0m\u001b[0;34m)\u001b[0m\u001b[0;34m\u001b[0m\u001b[0;34m\u001b[0m\u001b[0m\n",
            "\u001b[0;31mNameError\u001b[0m: name 'name' is not defined"
          ]
        }
      ],
      "source": [
        "if name in [\"John\", \"Rick\"]:\n",
        "    print(\"Your name is either John or Rick.\")"
      ]
    },
    {
      "cell_type": "markdown",
      "metadata": {
        "id": "hhkp_7gN5296"
      },
      "source": [
        "Instrukcje warunkowe możemy zagnieżdżać, np.:"
      ]
    },
    {
      "cell_type": "markdown",
      "metadata": {
        "id": "ofyy3Yl85297"
      },
      "source": [
        "# 2. Pętle\n",
        "W Pythonie istnieją dwa typy pętli: <b>for<b> i <b>while<b>."
      ]
    },
    {
      "cell_type": "markdown",
      "metadata": {
        "id": "AP6fkBtt5297"
      },
      "source": [
        "# 2.1 Pętle iterowane po elementach sekwencji\n",
        "\n",
        "Typowa pętla po liczbach:"
      ]
    },
    {
      "cell_type": "code",
      "execution_count": null,
      "metadata": {
        "id": "UJLTYK-45297",
        "outputId": "00f8a7e0-0b30-4758-d63f-2738fafe6a33"
      },
      "outputs": [
        {
          "name": "stdout",
          "output_type": "stream",
          "text": [
            "3\n",
            "4\n",
            "5\n",
            "6\n",
            "7\n",
            "8\n",
            "9\n"
          ]
        }
      ],
      "source": [
        "for x in range(3,10):\n",
        "      print(x)"
      ]
    },
    {
      "cell_type": "markdown",
      "metadata": {
        "id": "aiZge1d15298"
      },
      "source": [
        "Funkcja <b>range</b> tworzy \"listę\" wartości całkowitych: \n",
        "\n",
        "- od zera do podanej wartości (jeżeli podamy 1 argument) \n",
        "- od - do (jeżeli podamy 2 argumenty)\n",
        "- możemy podać też trzeci parametr określający przyrost (normalnie +1).\n"
      ]
    },
    {
      "cell_type": "code",
      "execution_count": null,
      "metadata": {
        "id": "vnMpOI2t5298",
        "outputId": "1c142768-2209-4361-b2a7-49329c5c07dc",
        "colab": {
          "base_uri": "https://localhost:8080/"
        }
      },
      "outputs": [
        {
          "output_type": "stream",
          "name": "stdout",
          "text": [
            "range(0, 10)\n",
            "range(3, 10)\n",
            "range(1, 10, 2)\n",
            "range(4, 0, -1)\n"
          ]
        }
      ],
      "source": [
        "print(range(10))\n",
        "print(range(3, 10))\n",
        "print(range(1,10,2))\n",
        "print(range(4,0,-1))"
      ]
    },
    {
      "cell_type": "markdown",
      "metadata": {
        "id": "aU8935xf5299"
      },
      "source": [
        "Pętla <b>for</b> może też iterować inne typy danych, np napisy, listy:"
      ]
    },
    {
      "cell_type": "code",
      "execution_count": null,
      "metadata": {
        "id": "Q6foZSr9529-",
        "outputId": "41982619-18f7-4580-eb57-b206bb5bea91"
      },
      "outputs": [
        {
          "name": "stdout",
          "output_type": "stream",
          "text": [
            "Zdrabniamy literki\n",
            "2 3 5 7 \n",
            "apple orange peach "
          ]
        }
      ],
      "source": [
        "bar = \"Zdrabniamy literki\"\n",
        "for i in bar:\n",
        "    print(i, end =\"\")\n",
        "print()\n",
        "\n",
        "x = [2, 3, 5, 7]\n",
        "for i in x:\n",
        "    print(i, end =\" \") \n",
        "print()\n",
        "\n",
        "for e in ['apple', 'orange', 'peach']:\n",
        "    print(e, end =\" \")"
      ]
    },
    {
      "cell_type": "markdown",
      "metadata": {
        "id": "hu9PBjAZ529-"
      },
      "source": [
        "W takiej pętli nie mamy dostępu do indeksu elementu w liście, ale możemy taki uzyskać, odpowiednio mapując kolekcję za pomocą <b>enumerate</b> (generator):"
      ]
    },
    {
      "cell_type": "code",
      "execution_count": null,
      "metadata": {
        "id": "jIdxj6Ak529_",
        "outputId": "9cbea1c8-59f8-44b0-ae4a-1c9606e9c3f0"
      },
      "outputs": [
        {
          "name": "stdout",
          "output_type": "stream",
          "text": [
            "[(0, 'apple'), (1, 'orange'), (2, 'peach')] \n",
            "\n",
            "0 apple\n",
            "1 orange\n",
            "2 peach\n"
          ]
        }
      ],
      "source": [
        "print(list(enumerate(['apple', 'orange', 'peach'])), \"\\n\")\n",
        "\n",
        "for i, x in enumerate(['apple', 'orange', 'peach']):\n",
        "    print(i, x)"
      ]
    },
    {
      "cell_type": "markdown",
      "metadata": {
        "id": "_SkSK7A5529_"
      },
      "source": [
        "# 2.2 Pętla while\n",
        "\n",
        "Pętla **while** powtarza instrukcje znajdujące się w jej wnętrzu tak długo, dopóki podany warunek logiczny jest spełniony. \n",
        "\n",
        "Na przykład:"
      ]
    },
    {
      "cell_type": "code",
      "execution_count": null,
      "metadata": {
        "id": "FzHFx_1n52-A",
        "outputId": "f24cc882-1b66-4203-e98e-2666b0755643",
        "colab": {
          "base_uri": "https://localhost:8080/"
        }
      },
      "outputs": [
        {
          "output_type": "stream",
          "name": "stdout",
          "text": [
            "[1, 2, 3, 4, 5]\n",
            "[1, 2, 3, 4]\n",
            "[1, 2, 3]\n",
            "[1, 2]\n",
            "[1]\n",
            "[]\n"
          ]
        }
      ],
      "source": [
        "x=[1,2,3,4,5,6]\n",
        "while x:\n",
        "    x=x[:len(x)-1] # funkcja len() zwraca długość listy (liczbę elementów)\n",
        "    print(x)"
      ]
    },
    {
      "cell_type": "code",
      "execution_count": null,
      "metadata": {
        "id": "hD-usz0e52-B",
        "outputId": "2980e19f-a2d5-4fea-97b3-a253a652ae1f",
        "colab": {
          "base_uri": "https://localhost:8080/"
        }
      },
      "outputs": [
        {
          "output_type": "stream",
          "name": "stdout",
          "text": [
            "Jestem w while.\n",
            "Jestem w while.\n",
            "Jestem w while.\n",
            "Jestem w while.\n",
            "Jestem w while.\n"
          ]
        }
      ],
      "source": [
        "licznik = 10\n",
        "\n",
        "while licznik < 15:\n",
        "    licznik += 1\n",
        "    print(\"Jestem w while.\")"
      ]
    },
    {
      "cell_type": "markdown",
      "metadata": {
        "id": "zabxzF-952-C"
      },
      "source": [
        "\n",
        "# Zad. 2\n",
        "Napisz program, który będzie wczytywał kolejne słowa i je wypisywał aż do wczytania słowa \"stop\" po którym program się zatrzyma.\n"
      ]
    },
    {
      "cell_type": "code",
      "execution_count": null,
      "metadata": {
        "id": "1YV8Q89v52-C"
      },
      "outputs": [],
      "source": [
        "while True:\n",
        "    x = input()\n",
        "    if x == 'stop':\n",
        "        break\n",
        "    print(x)"
      ]
    },
    {
      "cell_type": "markdown",
      "metadata": {
        "id": "EJaIX9bG52-C"
      },
      "source": [
        "# Zad. 3\n",
        "\n",
        "Napisz program tworzący tablicę n na m elementową w kształcie tablicy szachowej. Np. dla\n",
        "<br />\n",
        "<tt>\n",
        "n = 5<br />\n",
        "m = 5\n",
        "</tt>\n",
        "\n",
        "otrzymujemy\n",
        "\n",
        "<br />\n",
        "<tt>\n",
        "10101<br />\n",
        "01010<br />\n",
        "10101<br />\n",
        "01010<br />\n",
        "10101<br />\n",
        "</tt>"
      ]
    },
    {
      "cell_type": "code",
      "execution_count": null,
      "metadata": {
        "id": "_1E2ZUTu52-D"
      },
      "outputs": [],
      "source": [
        "n = int(input())\n",
        "m = int(input())\n",
        "for i in range (0, n):\n",
        "  for j in range(0, m):\n",
        "    if (i + j) % 2 == 0:\n",
        "      print(1, end=\"\")\n",
        "    else:\n",
        "      print(0, end=\"\")\n",
        "  print()\n",
        "\n",
        "#2\n",
        "#5\n",
        "#10101\n",
        "#01010"
      ]
    },
    {
      "cell_type": "markdown",
      "metadata": {
        "id": "Rxhk5xZx52-D"
      },
      "source": [
        "# 3. Formatowanie liczb\n",
        "\n",
        "Celem pętli często jest wyświetlenie kolumny liczb. \n",
        "\n",
        "Aby liczby wyświetlane były w należyty sposób i w pożądanym miejscu używamy operatora formatowania **%** w połączeniu z ciągiem formatującym. \n",
        "\n",
        "Ciąg formatujący składa się ze znaku **%**, po którym następują \n",
        "\n",
        "* opcje formatowania, \n",
        "* ilość znaków przeznaczonych do wyświetlenia \n",
        "* oraz typ danej do wyświetlenia \n",
        "(przy czym tylko trzeci element – tj. typ danych jest wymagany).\n",
        "\n",
        "Typ danej sygnalizujemy pojedynczą literą. I tak:\n",
        "* litera s oznacza napis (konwertuje każdy typ danych na tekst), np.:"
      ]
    },
    {
      "cell_type": "code",
      "execution_count": null,
      "metadata": {
        "id": "VPacFZ9v52-E",
        "outputId": "681b5bbf-6d93-4cea-a7f9-5cac3b381af1"
      },
      "outputs": [
        {
          "name": "stdout",
          "output_type": "stream",
          "text": [
            "10\n",
            "[0, 1, 2, 3, 4, 5]\n",
            "txt\n",
            "      test\n",
            "test      \n",
            "xylop\n"
          ]
        }
      ],
      "source": [
        "# stary sposób\n",
        "\n",
        "print(\"%s\" % 10)\n",
        "print(\"%s\" % list(range(6)))\n",
        "print(\"%s\" % \"txt\")\n",
        "print('%10s' % 'test')\n",
        "print('%-10s' % 'test')\n",
        "print('%.5s' % 'xylophone')"
      ]
    },
    {
      "cell_type": "markdown",
      "metadata": {
        "id": "9F4Edpeo52-F"
      },
      "source": [
        "* litera **d** oznacza dziesiętną liczbę całkowitą (konwertuje kompatybilny typ danych na liczbę całkowitą), np.:"
      ]
    },
    {
      "cell_type": "code",
      "execution_count": null,
      "metadata": {
        "id": "x6pHd2OX52-F",
        "outputId": "7b6fb6fe-c127-40d4-d0ef-938e14d0a769"
      },
      "outputs": [
        {
          "name": "stdout",
          "output_type": "stream",
          "text": [
            "255\n",
            "2\n",
            "255\n",
            "2\n"
          ]
        }
      ],
      "source": [
        "print(\"%d\" % 0xff)\n",
        "print(\"%d\" % 2)\n",
        "print('{:d}'.format(0xff))\n",
        "print('{:d}'.format(2))"
      ]
    },
    {
      "cell_type": "markdown",
      "metadata": {
        "id": "4lZcamWx52-F"
      },
      "source": [
        "* litera **f** oznacza liczbę zmiennopozycyjną w postaci ułamka dziesiętnego, np.:"
      ]
    },
    {
      "cell_type": "code",
      "execution_count": null,
      "metadata": {
        "id": "VTNtnVd552-G",
        "outputId": "d8f03551-97f2-40f4-f54a-4608ca2c4c17"
      },
      "outputs": [
        {
          "name": "stdout",
          "output_type": "stream",
          "text": [
            "123.000000\n",
            "1.230000\n",
            "123.000000\n",
            "1.230000\n"
          ]
        }
      ],
      "source": [
        "print(\"%f\" % 123)\n",
        "print(\"%f\" % 1.23)\n",
        "\n",
        "print('{:f}'.format(123))\n",
        "print('{:f}'.format(1.23))"
      ]
    },
    {
      "cell_type": "markdown",
      "metadata": {
        "id": "qjjXsins52-G"
      },
      "source": [
        "# Zad. 4\n",
        "\n",
        "Napisać program rysujący \"miarkę\" o zadanej długości. Należy prawidłowo obsłużyć liczby składające się z kilku cyfr, np.:\n",
        "\n",
        "$$|....|....|....|....|....|....|....|....|$$\n",
        "$$0 \\quad \\ 1 \\quad \\ 2 \\quad \\ 3 \\quad \\ 4 \\quad \\ 5 \\quad \\ 6 \\quad \\ 7 \\quad \\ 8$$"
      ]
    },
    {
      "cell_type": "code",
      "execution_count": null,
      "metadata": {
        "id": "G9qlPsM352-G"
      },
      "outputs": [],
      "source": [
        "n = int(input())\n",
        "for i in range(0, n):\n",
        "    print(\"|....\", end=\"\")\n",
        "print(\"|\")\n",
        "for i in range(n):\n",
        "    print('%3s' % i, end=\"\")\n",
        "    print('%2s' % \"\", end=\"\")\n",
        "\n",
        "#11\n",
        "#|....|....|....|....|....|....|....|....|....|....|....|\n",
        "#  0    1    2    3    4    5    6    7    8    9   10  "
      ]
    },
    {
      "cell_type": "markdown",
      "metadata": {
        "id": "HtuqTP--52-H"
      },
      "source": [
        "# Funkcje\n",
        "\n",
        "Definicja funkcji musi zawierać:\n",
        "\n",
        "* nagłówek funkcji:\n",
        "  * nazwę funkcji, która pozwoli zidentyfikować funkcję w pozostałej części programu,\n",
        "  * listę argumentów\n",
        "* ciało funkcji, zawierające instrukcje, które zostaną wykonane w momencie wywołania (użycia) funkcji\n",
        "  * jeżeli funkcja ma zwracać jakiś rezultat, musi zawierać instrukcję ,,return''\n",
        "\n",
        "W języku Python składnia definicji funkcji jest następująca:"
      ]
    },
    {
      "cell_type": "code",
      "execution_count": null,
      "metadata": {
        "collapsed": true,
        "id": "JrqVhjzE52-H"
      },
      "outputs": [],
      "source": [
        "def nazwa_funkcji (lista_parametrow):\n",
        "    instrukcje_do_wykonania"
      ]
    },
    {
      "cell_type": "markdown",
      "metadata": {
        "id": "BVhYPSPR52-I"
      },
      "source": [
        "Przykład funkcji:"
      ]
    },
    {
      "cell_type": "code",
      "execution_count": null,
      "metadata": {
        "id": "vwYDEmmC52-I",
        "outputId": "d34c1f16-30d1-49ab-e34b-610b54efcb67"
      },
      "outputs": [
        {
          "name": "stdout",
          "output_type": "stream",
          "text": [
            "To jest użycie funkcji\n",
            "tak\n"
          ]
        }
      ],
      "source": [
        "# Przykład 1\n",
        "def wypisz(lancuch):\n",
        "    print(lancuch)\n",
        "    \n",
        "wypisz(\"To jest użycie funkcji\")\n",
        "x = \"tak\"\n",
        "wypisz(x)"
      ]
    },
    {
      "cell_type": "code",
      "execution_count": null,
      "metadata": {
        "id": "VV1b3te052-I",
        "outputId": "9362605d-5e2f-4282-9153-30816016980b"
      },
      "outputs": [
        {
          "name": "stdout",
          "output_type": "stream",
          "text": [
            "12\n",
            "1\n"
          ]
        }
      ],
      "source": [
        "# Przykład 2 - zwraca wynik\n",
        "def suma(x, y):\n",
        "    return x+y\n",
        "\n",
        "print(suma(4,8))\n",
        "x = suma(2, -1)\n",
        "print(x)"
      ]
    },
    {
      "cell_type": "markdown",
      "metadata": {
        "id": "5rnzAwwy52-J"
      },
      "source": [
        "## Wiele rezultatów\n",
        "Jeżeli chcemy aby funkcja zwracała więcej niż jedną zmienną to stosujemy krotkę ,,(zmienna_1, ..., zmienna_n)'':"
      ]
    },
    {
      "cell_type": "code",
      "execution_count": null,
      "metadata": {
        "id": "879jXXX452-J",
        "outputId": "e5d490d6-f6e6-4fb1-9ce3-36c1abacbe57"
      },
      "outputs": [
        {
          "name": "stdout",
          "output_type": "stream",
          "text": [
            "(6, -2)\n",
            "(6, -2)\n"
          ]
        }
      ],
      "source": [
        "def f1(a,b):\n",
        "    return a+b,a-b\n",
        "\n",
        "def f2(a,b):\n",
        "    return (a+b,a-b)\n",
        "\n",
        "print(f1(2, 4))\n",
        "print(f2(2, 4))"
      ]
    },
    {
      "cell_type": "markdown",
      "metadata": {
        "id": "0aBRyTFg52-J"
      },
      "source": [
        "# Zad. 5\n",
        "\n",
        "Napisz funkcje, która zwraca:\n",
        "\n",
        "* sumę,\n",
        "* różnicę,\n",
        "* iloczyn elementów listy.\n"
      ]
    },
    {
      "cell_type": "code",
      "execution_count": null,
      "metadata": {
        "collapsed": true,
        "id": "bMKqKac552-J",
        "colab": {
          "base_uri": "https://localhost:8080/"
        },
        "outputId": "6635c776-74cd-4b1c-c2a8-d2ffb777e73c"
      },
      "outputs": [
        {
          "output_type": "stream",
          "name": "stdout",
          "text": [
            "([6, 8], [-2, -2], [8, 15])\n"
          ]
        }
      ],
      "source": [
        "def function(x, y):\n",
        "  sum = []\n",
        "  diff = []\n",
        "  prod = []\n",
        "\n",
        "  for i in range(0, len(x)):\n",
        "    sum.append(x[i] + y[i])\n",
        "    diff.append(x[i] - y[i])\n",
        "    prod.append(x[i] * y[i])\n",
        "\n",
        "  return sum, diff, prod\n",
        "\n",
        "print(function([2, 3],[4, 5]))\n",
        "#([6, 8], [-2, -2], [8, 15])"
      ]
    },
    {
      "cell_type": "markdown",
      "metadata": {
        "id": "B3fsXLDz52-K"
      },
      "source": [
        "# Typy sekwencyjne\n",
        "\n",
        "Sekwencyjne typy danych służą do przechowywaniu wielu wartości w pojedynczej zmiennej (w innych językach nazywane tablicami), w odróżnieniu od typów prostych, takich jak np. int, które w pojedynczej zmiennej mogą zachować tylko jedną wartość. Do typów sekwencyjnych należą: napisy (łańcuchy znaków), listy, krotki."
      ]
    },
    {
      "cell_type": "markdown",
      "metadata": {
        "id": "YuW1mPtV52-K"
      },
      "source": [
        "# 1. Napisy/łańcuchy\n",
        "Do tej pory poznaliśmy już jeden typ sekwencyjny, mianowicie typ łańcuchowy (łańcuchy znaków). Wartości napisów podajemy w cudzysłowach lub apostrofach:"
      ]
    },
    {
      "cell_type": "code",
      "execution_count": null,
      "metadata": {
        "id": "_Ei1UGZ_52-K",
        "outputId": "c564f453-9838-420f-8986-99cc6e0a72af"
      },
      "outputs": [
        {
          "name": "stdout",
          "output_type": "stream",
          "text": [
            "T\n",
            "o\n",
            "j\n",
            "s\n",
            "i\n",
            "p\n"
          ]
        }
      ],
      "source": [
        "x = \"To jest napis\"\n",
        "print(x[0])\n",
        "print(x[1])\n",
        "print(x[3])\n",
        "\n",
        "print(x[-1])\n",
        "print(x[-2])\n",
        "print(x[-3])"
      ]
    },
    {
      "cell_type": "code",
      "execution_count": null,
      "metadata": {
        "id": "5ll2PS9_52-L",
        "outputId": "a2f24e53-a4cb-4027-ac00-7c37b4e29c77"
      },
      "outputs": [
        {
          "name": "stdout",
          "output_type": "stream",
          "text": [
            "13\n"
          ]
        }
      ],
      "source": [
        "x = \"To jest napis\"\n",
        "print(len(x))"
      ]
    },
    {
      "cell_type": "markdown",
      "metadata": {
        "id": "5pZ9Vmse52-L"
      },
      "source": [
        "# 2. Listy\n",
        "Do zapamiętywania sekwencji danych nie będącymi znakami (np. liczby) służy typ sekwencyjny - **lista**. Elementy list mogą być dowolnego typu, to znaczy mogą zawierać zarówno liczby jak i napisy."
      ]
    },
    {
      "cell_type": "code",
      "execution_count": null,
      "metadata": {
        "id": "e-EKxRWZ52-L",
        "outputId": "bfe0d89d-216b-46aa-cfcc-c593eddc2acf"
      },
      "outputs": [
        {
          "name": "stdout",
          "output_type": "stream",
          "text": [
            "[1, 2, 3]\n",
            "[1, 'tak', 5]\n"
          ]
        }
      ],
      "source": [
        "x = [1, 2, 3]\n",
        "y = [1, 'tak', 5]\n",
        "\n",
        "print(x)\n",
        "print(y)"
      ]
    },
    {
      "cell_type": "code",
      "execution_count": null,
      "metadata": {
        "id": "IVpVAlwE52-M",
        "outputId": "9b611f14-1923-4db6-e5da-5ed611727486"
      },
      "outputs": [
        {
          "name": "stdout",
          "output_type": "stream",
          "text": [
            "True\n",
            "False\n",
            "True\n"
          ]
        }
      ],
      "source": [
        "x = [1, 2, 3, 4]\n",
        "\n",
        "print(2 in x)\n",
        "print(3 not in x)\n",
        "print(5 not in x)"
      ]
    },
    {
      "cell_type": "code",
      "execution_count": null,
      "metadata": {
        "id": "W9dNj06A52-M",
        "outputId": "942c2ea2-bcd6-40cc-ed0d-ebd8a80ce8b8"
      },
      "outputs": [
        {
          "name": "stdout",
          "output_type": "stream",
          "text": [
            "[range(0, 5), [8, -7, -1]]\n",
            "range(0, 5)\n",
            "[8, -7, -1]\n",
            "-7\n"
          ]
        }
      ],
      "source": [
        "x = [range(5), [8, -7, -1]]\n",
        "\n",
        "print(x)\n",
        "print(x[0])\n",
        "print(x[1])\n",
        "print(x[1][1])"
      ]
    },
    {
      "cell_type": "markdown",
      "metadata": {
        "id": "UghsQKyN52-M"
      },
      "source": [
        "# Zad. 6\n",
        "\n",
        "Napisać program zamieniający napis na napis „rozstrzelony”, czyli wstawiający spacje przed napisem, pomiędzy literami i po napisie. Przykład: **'Python' → ' P y t h o n '**. "
      ]
    },
    {
      "cell_type": "code",
      "execution_count": null,
      "metadata": {
        "id": "6zelcc0u52-M"
      },
      "outputs": [],
      "source": [
        "text = input()\n",
        "newText = \"\"\n",
        "for i in text:\n",
        "  newText += i + \" \" \n",
        "print(newText)\n",
        "\n",
        "#xDDDDD\n",
        "#x D D D D D "
      ]
    },
    {
      "cell_type": "markdown",
      "metadata": {
        "id": "nWUhvAN852-N"
      },
      "source": [
        "# Zad. 7\n",
        "Napisz funkcję **reverse(napis)**, która z napisu będącego jej argumentem tworzy odwrócony napis. Przykładowo, wywołanie reverse(\"hello\") powinno zwrócić napis \"olleh\". "
      ]
    },
    {
      "cell_type": "code",
      "execution_count": null,
      "metadata": {
        "id": "b4eJSDz352-N"
      },
      "outputs": [],
      "source": [
        "def reverse(text):\n",
        "  text = text[::-1]\n",
        "  print(text)\n",
        "\n",
        "text = input()\n",
        "reverse(text)\n",
        "\n",
        "#xDDDDDDD\n",
        "#DDDDDDDx"
      ]
    },
    {
      "cell_type": "markdown",
      "metadata": {
        "id": "t0uFmbM652-N"
      },
      "source": [
        "## Moduły i pakiety\n",
        "Moduł to plik w Pythonie zawierający definicję klas, funkcji, stałych i zmiennych. Definicje zawarte w module mogą być zaimportowane do innych modułów lub do modułu głównego. Wewnątrz modułu jego nazwa dostępna jest jako wartość zmiennej globalnej **<tt>\\__name__</tt>**."
      ]
    },
    {
      "cell_type": "markdown",
      "metadata": {
        "id": "vK3JGQeq52-O"
      },
      "source": [
        "## Wybrane pakiety, moduły:\n",
        "\n",
        "* random - moduł ten zawiera funkcje obsługujące generowanie liczb pseudolosowych:"
      ]
    },
    {
      "cell_type": "code",
      "execution_count": null,
      "metadata": {
        "id": "5Sx_554D52-O",
        "outputId": "df5c2bd0-450b-451e-be92-005a658870af"
      },
      "outputs": [
        {
          "name": "stdout",
          "output_type": "stream",
          "text": [
            "3\n",
            "6\n",
            "10\n"
          ]
        }
      ],
      "source": [
        "import random\n",
        "\n",
        "random.seed() # inicjalizacja generatora liczb pseudolosowych\n",
        "\n",
        "# losowanie liczb całkowitych z zakresu od..do.\n",
        "print(random.randint(1,10))\n",
        "print(random.randint(1,10))\n",
        "print(random.randint(1,10))"
      ]
    },
    {
      "cell_type": "markdown",
      "metadata": {
        "id": "co881Xnl52-O"
      },
      "source": [
        "* **math** - moduł ten zawiera definicje najczęściej używanych funkcji matematycznych:"
      ]
    },
    {
      "cell_type": "code",
      "execution_count": null,
      "metadata": {
        "id": "1fyDPR-n52-P",
        "outputId": "c1041dca-b284-44dd-bb88-c95460a59651"
      },
      "outputs": [
        {
          "name": "stdout",
          "output_type": "stream",
          "text": [
            "5\n",
            "4\n",
            "3.0\n",
            "(0.5, 2.0)\n",
            "7.38905609893065\n",
            "1.0\n",
            "3.0\n",
            "1.5\n",
            "0.0\n",
            "0.5403023058681398\n"
          ]
        }
      ],
      "source": [
        "from math import *\n",
        "\n",
        "print(ceil(4.7)) # zwraca sufit liczby rzeczywistej\n",
        "print(floor(4.7)) # zwraca podłogę liczby rzeczywistej\n",
        "print(fabs(-3)) # zwraca wartość absolutną liczby rzeczywistej\n",
        "print(modf(2.5)) # zwraca krotkę zawierającą część ułamkową i całkowitą liczby rzeczywistej\n",
        "print(exp(2)) # zwraca e do potęgi x\n",
        "print(log(e)) # zwraca logarytm naturalny\n",
        "print(log(8, 2)) # zwraca logarytm o podstawie 2 (drugi parametr)\n",
        "print(sqrt(2.25)) # zwraca pierwiastek kwadratowy\n",
        "print(acos(1))\n",
        "print(cos(1))"
      ]
    },
    {
      "cell_type": "markdown",
      "metadata": {
        "id": "xlcoUT3l52-Q"
      },
      "source": [
        "\n",
        "# Zad. 8\n",
        "\n",
        "Wyestymować wartość liczby $\\pi$ metodą Monte Carlo.\n",
        "\n",
        "Pole kwadratu to $4r^2$, a pole koła wynosi $\\pi r^2$. W takim razie stosunek:\n",
        "$$\n",
        "\\frac{P_{kola}}{P_{kwadratu}} = \\frac{\\pi r^2}{4 r^2} = \\frac{\\pi}{4}.\n",
        "$$\n",
        "W konsekwencji: \n",
        "$$\n",
        "\\pi = 4 \\frac{P_{kola}}{P_{kwadratu}}.\n",
        "$$\n",
        "\n",
        "Jeżeli będziemy losować punkty o współrzędnych od $-2r$ do $2r$, to stosunek liczby punktów zawierających się w kole o środku w punkcie $(0,0)$ i promieniu $r$ do wszystkich wylosowanych punktów, będzie dążył w nieskończoności (z pewnym prawdopodobieństwem) do stosunku tego pola koła do koła kwadratu o boku $2r$.\n",
        "\n",
        "Cała metoda sprowadza się więc do tego, by losować punkty i sprawdzać, czy mieszczą się w kole. "
      ]
    },
    {
      "cell_type": "code",
      "execution_count": null,
      "metadata": {
        "id": "hgEu_GG552-Q"
      },
      "outputs": [],
      "source": [
        "import random\n",
        "\n",
        "random.seed()\n",
        "r = input()\n",
        "r = int(r)\n",
        "circlePoints = 0\n",
        "squarePoints = 0\n",
        "\n",
        "for i in range(0, 100000):\n",
        "  randx = random.randint(-r, r)\n",
        "  randy = random.randint(-r, r)\n",
        "  dist = randx ** 2 + randy ** 2\n",
        "\n",
        "  if dist <= r ** 2:\n",
        "    circlePoints += 1\n",
        "\n",
        "  squarePoints += 1\n",
        "\n",
        "pi = 4 * circlePoints / squarePoints\n",
        "print(\"pi = \", pi)\n",
        "\n",
        "#1000\n",
        "#pi =  3.14364"
      ]
    }
  ],
  "metadata": {
    "kernelspec": {
      "display_name": "Python 3",
      "language": "python",
      "name": "python3"
    },
    "language_info": {
      "codemirror_mode": {
        "name": "ipython",
        "version": 3
      },
      "file_extension": ".py",
      "mimetype": "text/x-python",
      "name": "python",
      "nbconvert_exporter": "python",
      "pygments_lexer": "ipython3",
      "version": "3.6.0"
    },
    "colab": {
      "name": "Kopia notatnika Z01_python_introduction.ipynb",
      "provenance": [],
      "collapsed_sections": [
        "ofyy3Yl85297",
        "5rnzAwwy52-J",
        "B3fsXLDz52-K",
        "t0uFmbM652-N"
      ],
      "include_colab_link": true
    }
  },
  "nbformat": 4,
  "nbformat_minor": 0
}