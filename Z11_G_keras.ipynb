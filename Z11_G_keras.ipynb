{
  "cells": [
    {
      "cell_type": "code",
      "execution_count": 1,
      "metadata": {
        "id": "WGb80QXIlDlC",
        "outputId": "968be3fd-8498-43ac-9cad-743837cb6fbe",
        "colab": {
          "base_uri": "https://localhost:8080/"
        }
      },
      "outputs": [
        {
          "output_type": "stream",
          "name": "stdout",
          "text": [
            "2.8.2\n",
            "2.8.0\n"
          ]
        }
      ],
      "source": [
        "import tensorflow as tf\n",
        "from tensorflow import keras\n",
        "print(tf.__version__)\n",
        "\n",
        "print(keras.__version__)"
      ]
    },
    {
      "cell_type": "code",
      "execution_count": 2,
      "metadata": {
        "id": "4BR8z7KGlDlI"
      },
      "outputs": [],
      "source": [
        "import numpy as np\n",
        "import pandas as pd\n",
        "import matplotlib.pyplot as plt\n",
        "import os"
      ]
    },
    {
      "cell_type": "code",
      "execution_count": 4,
      "metadata": {
        "id": "t2yUfN-3lDlN",
        "outputId": "a3021c34-68f7-4514-faa7-c4fb0a4872d1",
        "colab": {
          "base_uri": "https://localhost:8080/",
          "height": 261
        }
      },
      "outputs": [
        {
          "output_type": "stream",
          "name": "stderr",
          "text": [
            "/usr/local/lib/python3.7/dist-packages/pandas/util/_decorators.py:311: ParserWarning: Falling back to the 'python' engine because the 'c' engine does not support regex separators (separators > 1 char and different from '\\s+' are interpreted as regex); you can avoid this warning by specifying engine='python'.\n",
            "  return func(*args, **kwargs)\n"
          ]
        },
        {
          "output_type": "execute_result",
          "data": {
            "text/plain": [
              "   age         workclass  fnlwgt  education  education_num  \\\n",
              "0   39         State-gov   77516  Bachelors             13   \n",
              "1   50  Self-emp-not-inc   83311  Bachelors             13   \n",
              "2   38           Private  215646    HS-grad              9   \n",
              "3   53           Private  234721       11th              7   \n",
              "4   28           Private  338409  Bachelors             13   \n",
              "\n",
              "       marital_status         occupation   relationship   race     sex  \\\n",
              "0       Never-married       Adm-clerical  Not-in-family  White    Male   \n",
              "1  Married-civ-spouse    Exec-managerial        Husband  White    Male   \n",
              "2            Divorced  Handlers-cleaners  Not-in-family  White    Male   \n",
              "3  Married-civ-spouse  Handlers-cleaners        Husband  Black    Male   \n",
              "4  Married-civ-spouse     Prof-specialty           Wife  Black  Female   \n",
              "\n",
              "   capital_gain  capital_loss  hours_per_week native_country wage_class  \n",
              "0          2174             0              40  United-States      <=50K  \n",
              "1             0             0              13  United-States      <=50K  \n",
              "2             0             0              40  United-States      <=50K  \n",
              "3             0             0              40  United-States      <=50K  \n",
              "4             0             0              40           Cuba      <=50K  "
            ],
            "text/html": [
              "\n",
              "  <div id=\"df-cab80bc0-5f68-4872-b653-3f865a5c5f9f\">\n",
              "    <div class=\"colab-df-container\">\n",
              "      <div>\n",
              "<style scoped>\n",
              "    .dataframe tbody tr th:only-of-type {\n",
              "        vertical-align: middle;\n",
              "    }\n",
              "\n",
              "    .dataframe tbody tr th {\n",
              "        vertical-align: top;\n",
              "    }\n",
              "\n",
              "    .dataframe thead th {\n",
              "        text-align: right;\n",
              "    }\n",
              "</style>\n",
              "<table border=\"1\" class=\"dataframe\">\n",
              "  <thead>\n",
              "    <tr style=\"text-align: right;\">\n",
              "      <th></th>\n",
              "      <th>age</th>\n",
              "      <th>workclass</th>\n",
              "      <th>fnlwgt</th>\n",
              "      <th>education</th>\n",
              "      <th>education_num</th>\n",
              "      <th>marital_status</th>\n",
              "      <th>occupation</th>\n",
              "      <th>relationship</th>\n",
              "      <th>race</th>\n",
              "      <th>sex</th>\n",
              "      <th>capital_gain</th>\n",
              "      <th>capital_loss</th>\n",
              "      <th>hours_per_week</th>\n",
              "      <th>native_country</th>\n",
              "      <th>wage_class</th>\n",
              "    </tr>\n",
              "  </thead>\n",
              "  <tbody>\n",
              "    <tr>\n",
              "      <th>0</th>\n",
              "      <td>39</td>\n",
              "      <td>State-gov</td>\n",
              "      <td>77516</td>\n",
              "      <td>Bachelors</td>\n",
              "      <td>13</td>\n",
              "      <td>Never-married</td>\n",
              "      <td>Adm-clerical</td>\n",
              "      <td>Not-in-family</td>\n",
              "      <td>White</td>\n",
              "      <td>Male</td>\n",
              "      <td>2174</td>\n",
              "      <td>0</td>\n",
              "      <td>40</td>\n",
              "      <td>United-States</td>\n",
              "      <td>&lt;=50K</td>\n",
              "    </tr>\n",
              "    <tr>\n",
              "      <th>1</th>\n",
              "      <td>50</td>\n",
              "      <td>Self-emp-not-inc</td>\n",
              "      <td>83311</td>\n",
              "      <td>Bachelors</td>\n",
              "      <td>13</td>\n",
              "      <td>Married-civ-spouse</td>\n",
              "      <td>Exec-managerial</td>\n",
              "      <td>Husband</td>\n",
              "      <td>White</td>\n",
              "      <td>Male</td>\n",
              "      <td>0</td>\n",
              "      <td>0</td>\n",
              "      <td>13</td>\n",
              "      <td>United-States</td>\n",
              "      <td>&lt;=50K</td>\n",
              "    </tr>\n",
              "    <tr>\n",
              "      <th>2</th>\n",
              "      <td>38</td>\n",
              "      <td>Private</td>\n",
              "      <td>215646</td>\n",
              "      <td>HS-grad</td>\n",
              "      <td>9</td>\n",
              "      <td>Divorced</td>\n",
              "      <td>Handlers-cleaners</td>\n",
              "      <td>Not-in-family</td>\n",
              "      <td>White</td>\n",
              "      <td>Male</td>\n",
              "      <td>0</td>\n",
              "      <td>0</td>\n",
              "      <td>40</td>\n",
              "      <td>United-States</td>\n",
              "      <td>&lt;=50K</td>\n",
              "    </tr>\n",
              "    <tr>\n",
              "      <th>3</th>\n",
              "      <td>53</td>\n",
              "      <td>Private</td>\n",
              "      <td>234721</td>\n",
              "      <td>11th</td>\n",
              "      <td>7</td>\n",
              "      <td>Married-civ-spouse</td>\n",
              "      <td>Handlers-cleaners</td>\n",
              "      <td>Husband</td>\n",
              "      <td>Black</td>\n",
              "      <td>Male</td>\n",
              "      <td>0</td>\n",
              "      <td>0</td>\n",
              "      <td>40</td>\n",
              "      <td>United-States</td>\n",
              "      <td>&lt;=50K</td>\n",
              "    </tr>\n",
              "    <tr>\n",
              "      <th>4</th>\n",
              "      <td>28</td>\n",
              "      <td>Private</td>\n",
              "      <td>338409</td>\n",
              "      <td>Bachelors</td>\n",
              "      <td>13</td>\n",
              "      <td>Married-civ-spouse</td>\n",
              "      <td>Prof-specialty</td>\n",
              "      <td>Wife</td>\n",
              "      <td>Black</td>\n",
              "      <td>Female</td>\n",
              "      <td>0</td>\n",
              "      <td>0</td>\n",
              "      <td>40</td>\n",
              "      <td>Cuba</td>\n",
              "      <td>&lt;=50K</td>\n",
              "    </tr>\n",
              "  </tbody>\n",
              "</table>\n",
              "</div>\n",
              "      <button class=\"colab-df-convert\" onclick=\"convertToInteractive('df-cab80bc0-5f68-4872-b653-3f865a5c5f9f')\"\n",
              "              title=\"Convert this dataframe to an interactive table.\"\n",
              "              style=\"display:none;\">\n",
              "        \n",
              "  <svg xmlns=\"http://www.w3.org/2000/svg\" height=\"24px\"viewBox=\"0 0 24 24\"\n",
              "       width=\"24px\">\n",
              "    <path d=\"M0 0h24v24H0V0z\" fill=\"none\"/>\n",
              "    <path d=\"M18.56 5.44l.94 2.06.94-2.06 2.06-.94-2.06-.94-.94-2.06-.94 2.06-2.06.94zm-11 1L8.5 8.5l.94-2.06 2.06-.94-2.06-.94L8.5 2.5l-.94 2.06-2.06.94zm10 10l.94 2.06.94-2.06 2.06-.94-2.06-.94-.94-2.06-.94 2.06-2.06.94z\"/><path d=\"M17.41 7.96l-1.37-1.37c-.4-.4-.92-.59-1.43-.59-.52 0-1.04.2-1.43.59L10.3 9.45l-7.72 7.72c-.78.78-.78 2.05 0 2.83L4 21.41c.39.39.9.59 1.41.59.51 0 1.02-.2 1.41-.59l7.78-7.78 2.81-2.81c.8-.78.8-2.07 0-2.86zM5.41 20L4 18.59l7.72-7.72 1.47 1.35L5.41 20z\"/>\n",
              "  </svg>\n",
              "      </button>\n",
              "      \n",
              "  <style>\n",
              "    .colab-df-container {\n",
              "      display:flex;\n",
              "      flex-wrap:wrap;\n",
              "      gap: 12px;\n",
              "    }\n",
              "\n",
              "    .colab-df-convert {\n",
              "      background-color: #E8F0FE;\n",
              "      border: none;\n",
              "      border-radius: 50%;\n",
              "      cursor: pointer;\n",
              "      display: none;\n",
              "      fill: #1967D2;\n",
              "      height: 32px;\n",
              "      padding: 0 0 0 0;\n",
              "      width: 32px;\n",
              "    }\n",
              "\n",
              "    .colab-df-convert:hover {\n",
              "      background-color: #E2EBFA;\n",
              "      box-shadow: 0px 1px 2px rgba(60, 64, 67, 0.3), 0px 1px 3px 1px rgba(60, 64, 67, 0.15);\n",
              "      fill: #174EA6;\n",
              "    }\n",
              "\n",
              "    [theme=dark] .colab-df-convert {\n",
              "      background-color: #3B4455;\n",
              "      fill: #D2E3FC;\n",
              "    }\n",
              "\n",
              "    [theme=dark] .colab-df-convert:hover {\n",
              "      background-color: #434B5C;\n",
              "      box-shadow: 0px 1px 3px 1px rgba(0, 0, 0, 0.15);\n",
              "      filter: drop-shadow(0px 1px 2px rgba(0, 0, 0, 0.3));\n",
              "      fill: #FFFFFF;\n",
              "    }\n",
              "  </style>\n",
              "\n",
              "      <script>\n",
              "        const buttonEl =\n",
              "          document.querySelector('#df-cab80bc0-5f68-4872-b653-3f865a5c5f9f button.colab-df-convert');\n",
              "        buttonEl.style.display =\n",
              "          google.colab.kernel.accessAllowed ? 'block' : 'none';\n",
              "\n",
              "        async function convertToInteractive(key) {\n",
              "          const element = document.querySelector('#df-cab80bc0-5f68-4872-b653-3f865a5c5f9f');\n",
              "          const dataTable =\n",
              "            await google.colab.kernel.invokeFunction('convertToInteractive',\n",
              "                                                     [key], {});\n",
              "          if (!dataTable) return;\n",
              "\n",
              "          const docLinkHtml = 'Like what you see? Visit the ' +\n",
              "            '<a target=\"_blank\" href=https://colab.research.google.com/notebooks/data_table.ipynb>data table notebook</a>'\n",
              "            + ' to learn more about interactive tables.';\n",
              "          element.innerHTML = '';\n",
              "          dataTable['output_type'] = 'display_data';\n",
              "          await google.colab.output.renderOutput(dataTable, element);\n",
              "          const docLink = document.createElement('div');\n",
              "          docLink.innerHTML = docLinkHtml;\n",
              "          element.appendChild(docLink);\n",
              "        }\n",
              "      </script>\n",
              "    </div>\n",
              "  </div>\n",
              "  "
            ]
          },
          "metadata": {},
          "execution_count": 4
        }
      ],
      "source": [
        "# Wczytaj dane treningowe i testowe\n",
        "import numpy as np\n",
        "import matplotlib.pyplot as plt\n",
        "import pandas as pd\n",
        "\n",
        "train_set = pd.read_csv('https://raw.githubusercontent.com/przem85/podstawy_sztucznej_inteligencji/main/Dane/adult/adult.data', sep=\", \",header = None)\n",
        "test_set = pd.read_csv('https://raw.githubusercontent.com/przem85/podstawy_sztucznej_inteligencji/main/Dane/adult/adult.test', sep=\", \",skiprows = 1, header = None) # Make sure to skip a row for the test set\n",
        "\n",
        "col_labels = ['age', 'workclass', 'fnlwgt', 'education', 'education_num', 'marital_status', 'occupation', \n",
        "              'relationship', 'race', 'sex', 'capital_gain', 'capital_loss', 'hours_per_week', 'native_country',\n",
        "             'wage_class']\n",
        "train_set.columns = col_labels\n",
        "test_set.columns = col_labels\n",
        "\n",
        "train = train_set.replace('?', np.nan).dropna()\n",
        "test = test_set.replace('?', np.nan).dropna()\n",
        "\n",
        "train_set.head()\n"
      ]
    },
    {
      "cell_type": "markdown",
      "metadata": {
        "id": "tHO_X3xtlDlQ"
      },
      "source": [
        "# Zad.\n",
        "Zróbmy szybki preprocesing"
      ]
    },
    {
      "cell_type": "code",
      "execution_count": 5,
      "metadata": {
        "id": "G9jOB8rLlDlW"
      },
      "outputs": [],
      "source": [
        "dataset = pd.concat([train,test])\n",
        "\n",
        "dataset['wage_class'] = dataset.wage_class.replace({'<=50K.': 0,'<=50K':0, '>50K.':1, '>50K':1})\n",
        "\n",
        "dataset.drop([\"fnlwgt\"],axis=1,inplace=True)\n",
        "\n",
        "dataset.drop([\"education\"],axis=1,inplace=True)\n",
        "\n",
        "x = dataset.groupby('native_country')[\"wage_class\"].mean()\n",
        "\n",
        "d = dict(pd.cut(x[x.index!=\" United-States\"],5,labels=range(5)))\n",
        "\n",
        "dataset['native_country'] = dataset['native_country'].replace(d)\n",
        "\n",
        "dataset = pd.get_dummies(dataset,drop_first=True)\n",
        "\n",
        "train = dataset.iloc[:train.shape[0]]\n",
        "test = dataset.iloc[train.shape[0]:]\n",
        "\n",
        "X_train = train.drop(\"wage_class\",axis=1)\n",
        "y_train = train.wage_class\n",
        "\n",
        "X_test = test.drop(\"wage_class\",axis=1)\n",
        "y_test = test.wage_class\n"
      ]
    },
    {
      "cell_type": "code",
      "execution_count": 17,
      "metadata": {
        "id": "5ZQiUEm9lDla",
        "outputId": "7f7b15dc-1867-4d6c-a698-4201e8e6538a",
        "colab": {
          "base_uri": "https://localhost:8080/"
        }
      },
      "outputs": [
        {
          "output_type": "stream",
          "name": "stdout",
          "text": [
            "Model: \"sequential_1\"\n",
            "_________________________________________________________________\n",
            " Layer (type)                Output Shape              Param #   \n",
            "=================================================================\n",
            " dense_4 (Dense)             (None, 100)               4200      \n",
            "                                                                 \n",
            " dense_5 (Dense)             (None, 50)                5050      \n",
            "                                                                 \n",
            " dense_6 (Dense)             (None, 10)                510       \n",
            "                                                                 \n",
            " dense_7 (Dense)             (None, 1)                 11        \n",
            "                                                                 \n",
            "=================================================================\n",
            "Total params: 9,771\n",
            "Trainable params: 9,771\n",
            "Non-trainable params: 0\n",
            "_________________________________________________________________\n"
          ]
        }
      ],
      "source": [
        "from keras.models import Sequential\n",
        "from keras.layers import Dense\n",
        "\n",
        "from keras.callbacks import History\n",
        "\n",
        "history1 = History()\n",
        "model = Sequential()\n",
        "model.add(Dense(100,activation=\"sigmoid\", input_shape=(X_train.shape[1],)))\n",
        "model.add(Dense(50,activation=\"sigmoid\"))\n",
        "model.add(Dense(10,activation=\"sigmoid\"))\n",
        "model.add(Dense(1,activation=\"sigmoid\"))\n",
        "model.summary()"
      ]
    },
    {
      "cell_type": "code",
      "execution_count": 18,
      "metadata": {
        "id": "pz4cz3iKlDld"
      },
      "outputs": [],
      "source": [
        "model.compile(loss=\"binary_crossentropy\", optimizer=\"Adam\", metrics=[\"accuracy\"])"
      ]
    },
    {
      "cell_type": "code",
      "execution_count": 19,
      "metadata": {
        "id": "wOPmoTzBlDlg",
        "outputId": "e1b21e11-394e-42e7-8e5a-2315e00f999b",
        "colab": {
          "base_uri": "https://localhost:8080/"
        }
      },
      "outputs": [
        {
          "output_type": "stream",
          "name": "stdout",
          "text": [
            "Epoch 1/30\n",
            "943/943 [==============================] - 6s 4ms/step - loss: 0.4228 - accuracy: 0.8076 - val_loss: 0.3516 - val_accuracy: 0.8414\n",
            "Epoch 2/30\n",
            "943/943 [==============================] - 3s 3ms/step - loss: 0.3386 - accuracy: 0.8455 - val_loss: 0.3342 - val_accuracy: 0.8463\n",
            "Epoch 3/30\n",
            "943/943 [==============================] - 3s 3ms/step - loss: 0.3287 - accuracy: 0.8483 - val_loss: 0.3290 - val_accuracy: 0.8469\n",
            "Epoch 4/30\n",
            "943/943 [==============================] - 3s 3ms/step - loss: 0.3234 - accuracy: 0.8498 - val_loss: 0.3259 - val_accuracy: 0.8505\n",
            "Epoch 5/30\n",
            "943/943 [==============================] - 3s 3ms/step - loss: 0.3214 - accuracy: 0.8505 - val_loss: 0.3313 - val_accuracy: 0.8453\n",
            "Epoch 6/30\n",
            "943/943 [==============================] - 3s 3ms/step - loss: 0.3199 - accuracy: 0.8505 - val_loss: 0.3223 - val_accuracy: 0.8497\n",
            "Epoch 7/30\n",
            "943/943 [==============================] - 3s 3ms/step - loss: 0.3179 - accuracy: 0.8519 - val_loss: 0.3217 - val_accuracy: 0.8499\n",
            "Epoch 8/30\n",
            "943/943 [==============================] - 3s 3ms/step - loss: 0.3160 - accuracy: 0.8525 - val_loss: 0.3244 - val_accuracy: 0.8485\n",
            "Epoch 9/30\n",
            "943/943 [==============================] - 3s 3ms/step - loss: 0.3148 - accuracy: 0.8527 - val_loss: 0.3202 - val_accuracy: 0.8505\n",
            "Epoch 10/30\n",
            "943/943 [==============================] - 3s 3ms/step - loss: 0.3136 - accuracy: 0.8523 - val_loss: 0.3213 - val_accuracy: 0.8500\n",
            "Epoch 11/30\n",
            "943/943 [==============================] - 3s 3ms/step - loss: 0.3112 - accuracy: 0.8555 - val_loss: 0.3213 - val_accuracy: 0.8492\n",
            "Epoch 12/30\n",
            "943/943 [==============================] - 3s 3ms/step - loss: 0.3111 - accuracy: 0.8555 - val_loss: 0.3189 - val_accuracy: 0.8503\n",
            "Epoch 13/30\n",
            "943/943 [==============================] - 3s 3ms/step - loss: 0.3094 - accuracy: 0.8564 - val_loss: 0.3194 - val_accuracy: 0.8503\n",
            "Epoch 14/30\n",
            "943/943 [==============================] - 2s 3ms/step - loss: 0.3084 - accuracy: 0.8565 - val_loss: 0.3203 - val_accuracy: 0.8487\n",
            "Epoch 15/30\n",
            "943/943 [==============================] - 3s 3ms/step - loss: 0.3076 - accuracy: 0.8569 - val_loss: 0.3172 - val_accuracy: 0.8513\n",
            "Epoch 16/30\n",
            "943/943 [==============================] - 3s 3ms/step - loss: 0.3065 - accuracy: 0.8569 - val_loss: 0.3185 - val_accuracy: 0.8485\n",
            "Epoch 17/30\n",
            "943/943 [==============================] - 3s 3ms/step - loss: 0.3054 - accuracy: 0.8575 - val_loss: 0.3201 - val_accuracy: 0.8486\n",
            "Epoch 18/30\n",
            "943/943 [==============================] - 3s 3ms/step - loss: 0.3045 - accuracy: 0.8576 - val_loss: 0.3192 - val_accuracy: 0.8507\n",
            "Epoch 19/30\n",
            "943/943 [==============================] - 3s 3ms/step - loss: 0.3030 - accuracy: 0.8586 - val_loss: 0.3190 - val_accuracy: 0.8499\n",
            "Epoch 20/30\n",
            "943/943 [==============================] - 3s 3ms/step - loss: 0.3023 - accuracy: 0.8589 - val_loss: 0.3187 - val_accuracy: 0.8502\n",
            "Epoch 21/30\n",
            "943/943 [==============================] - 3s 3ms/step - loss: 0.3005 - accuracy: 0.8603 - val_loss: 0.3175 - val_accuracy: 0.8506\n",
            "Epoch 22/30\n",
            "943/943 [==============================] - 3s 3ms/step - loss: 0.3000 - accuracy: 0.8610 - val_loss: 0.3164 - val_accuracy: 0.8522\n",
            "Epoch 23/30\n",
            "943/943 [==============================] - 3s 3ms/step - loss: 0.2990 - accuracy: 0.8603 - val_loss: 0.3170 - val_accuracy: 0.8519\n",
            "Epoch 24/30\n",
            "943/943 [==============================] - 3s 3ms/step - loss: 0.2978 - accuracy: 0.8599 - val_loss: 0.3183 - val_accuracy: 0.8517\n",
            "Epoch 25/30\n",
            "943/943 [==============================] - 3s 3ms/step - loss: 0.2970 - accuracy: 0.8598 - val_loss: 0.3185 - val_accuracy: 0.8513\n",
            "Epoch 26/30\n",
            "943/943 [==============================] - 3s 3ms/step - loss: 0.2957 - accuracy: 0.8630 - val_loss: 0.3194 - val_accuracy: 0.8499\n",
            "Epoch 27/30\n",
            "943/943 [==============================] - 3s 3ms/step - loss: 0.2949 - accuracy: 0.8627 - val_loss: 0.3205 - val_accuracy: 0.8509\n",
            "Epoch 28/30\n",
            "943/943 [==============================] - 3s 3ms/step - loss: 0.2942 - accuracy: 0.8620 - val_loss: 0.3218 - val_accuracy: 0.8471\n",
            "Epoch 29/30\n",
            "943/943 [==============================] - 3s 4ms/step - loss: 0.2926 - accuracy: 0.8626 - val_loss: 0.3185 - val_accuracy: 0.8521\n",
            "Epoch 30/30\n",
            "943/943 [==============================] - 3s 3ms/step - loss: 0.2919 - accuracy: 0.8651 - val_loss: 0.3227 - val_accuracy: 0.8511\n"
          ]
        }
      ],
      "source": [
        "history1 = model.fit(X_train, y_train, epochs=30, batch_size=32, validation_data=(X_test, y_test))\n",
        "#history = model.fit(X_train, y_train, validation_data= (X_test, y_test), batch_size=32, epochs=100)"
      ]
    },
    {
      "cell_type": "code",
      "execution_count": 20,
      "metadata": {
        "id": "Q9PGKWq4lDln",
        "outputId": "4f0582a1-e380-4f1e-8fb0-f203606786ee",
        "colab": {
          "base_uri": "https://localhost:8080/",
          "height": 324
        }
      },
      "outputs": [
        {
          "output_type": "display_data",
          "data": {
            "text/plain": [
              "<Figure size 576x360 with 1 Axes>"
            ],
            "image/png": "[encoded data removed]"
          },
          "metadata": {
            "needs_background": "light"
          }
        }
      ],
      "source": [
        "import pandas as pd\n",
        "\n",
        "pd.DataFrame(history1.history).plot(figsize=(8, 5))\n",
        "plt.grid(True)\n",
        "plt.gca().set_ylim(0, 1)\n",
        "plt.show()"
      ]
    },
    {
      "cell_type": "code",
      "execution_count": 21,
      "metadata": {
        "id": "VvwcrFTTlDlp",
        "outputId": "645def3d-fe7c-42cb-b15b-8d6798c2ce50",
        "colab": {
          "base_uri": "https://localhost:8080/"
        }
      },
      "outputs": [
        {
          "output_type": "stream",
          "name": "stdout",
          "text": [
            "471/471 [==============================] - 1s 1ms/step - loss: 0.3227 - accuracy: 0.8511\n"
          ]
        },
        {
          "output_type": "execute_result",
          "data": {
            "text/plain": [
              "[0.322709858417511, 0.8510624170303345]"
            ]
          },
          "metadata": {},
          "execution_count": 21
        }
      ],
      "source": [
        "model.evaluate(X_test,y_test)"
      ]
    },
    {
      "cell_type": "code",
      "execution_count": 22,
      "metadata": {
        "id": "i5OhV7NBlDlr",
        "outputId": "33b6763d-1fa2-40f0-dc87-6fb32ad25e21",
        "colab": {
          "base_uri": "https://localhost:8080/"
        }
      },
      "outputs": [
        {
          "output_type": "execute_result",
          "data": {
            "text/plain": [
              "0.851062416998672"
            ]
          },
          "metadata": {},
          "execution_count": 22
        }
      ],
      "source": [
        "from sklearn import metrics\n",
        "metrics.accuracy_score(y_true= y_test, y_pred= (model.predict(X_test)>0.5))"
      ]
    },
    {
      "cell_type": "markdown",
      "metadata": {
        "id": "bftjlTAJlDlu"
      },
      "source": [
        "# Zad\n",
        "\n",
        "Porównaj powyższy wynik z nauką na danych znormalizowanych."
      ]
    },
    {
      "cell_type": "code",
      "execution_count": 13,
      "metadata": {
        "id": "C_ZOhKhQlDlw"
      },
      "outputs": [],
      "source": [
        "from sklearn.preprocessing import StandardScaler\n",
        "\n",
        "X_train = train.drop(\"wage_class\",axis=1)\n",
        "y_train = train.wage_class\n",
        "\n",
        "X_test = test.drop(\"wage_class\",axis=1)\n",
        "y_test = test.wage_class\n",
        "\n",
        "standard_scaler = StandardScaler()\n",
        "X_train = standard_scaler.fit_transform(X_train)\n",
        "\n",
        "X_test = standard_scaler.transform(X_test)"
      ]
    },
    {
      "cell_type": "code",
      "source": [
        "history2 = model.fit(X_train, y_train, epochs=30, batch_size=32, validation_data=(X_test, y_test))"
      ],
      "metadata": {
        "id": "4qsOUPY0nbC-",
        "outputId": "99626f54-f27b-4a9e-acb8-3d656e686c94",
        "colab": {
          "base_uri": "https://localhost:8080/"
        }
      },
      "execution_count": 14,
      "outputs": [
        {
          "output_type": "stream",
          "name": "stdout",
          "text": [
            "Epoch 1/30\n",
            "943/943 [==============================] - 6s 6ms/step - loss: 0.3660 - accuracy: 0.8278 - val_loss: 0.3366 - val_accuracy: 0.8445\n",
            "Epoch 2/30\n",
            "943/943 [==============================] - 3s 3ms/step - loss: 0.3275 - accuracy: 0.8482 - val_loss: 0.3310 - val_accuracy: 0.8468\n",
            "Epoch 3/30\n",
            "943/943 [==============================] - 3s 3ms/step - loss: 0.3226 - accuracy: 0.8493 - val_loss: 0.3292 - val_accuracy: 0.8452\n",
            "Epoch 4/30\n",
            "943/943 [==============================] - 4s 4ms/step - loss: 0.3196 - accuracy: 0.8509 - val_loss: 0.3276 - val_accuracy: 0.8457\n",
            "Epoch 5/30\n",
            "943/943 [==============================] - 4s 4ms/step - loss: 0.3172 - accuracy: 0.8515 - val_loss: 0.3278 - val_accuracy: 0.8449\n",
            "Epoch 6/30\n",
            "943/943 [==============================] - 4s 4ms/step - loss: 0.3155 - accuracy: 0.8517 - val_loss: 0.3272 - val_accuracy: 0.8458\n",
            "Epoch 7/30\n",
            "943/943 [==============================] - 3s 4ms/step - loss: 0.3136 - accuracy: 0.8528 - val_loss: 0.3273 - val_accuracy: 0.8463\n",
            "Epoch 8/30\n",
            "943/943 [==============================] - 4s 4ms/step - loss: 0.3121 - accuracy: 0.8535 - val_loss: 0.3261 - val_accuracy: 0.8452\n",
            "Epoch 9/30\n",
            "943/943 [==============================] - 4s 4ms/step - loss: 0.3106 - accuracy: 0.8546 - val_loss: 0.3254 - val_accuracy: 0.8468\n",
            "Epoch 10/30\n",
            "943/943 [==============================] - 3s 4ms/step - loss: 0.3090 - accuracy: 0.8551 - val_loss: 0.3252 - val_accuracy: 0.8464\n",
            "Epoch 11/30\n",
            "943/943 [==============================] - 4s 4ms/step - loss: 0.3072 - accuracy: 0.8566 - val_loss: 0.3262 - val_accuracy: 0.8483\n",
            "Epoch 12/30\n",
            "943/943 [==============================] - 5s 6ms/step - loss: 0.3054 - accuracy: 0.8570 - val_loss: 0.3263 - val_accuracy: 0.8478\n",
            "Epoch 13/30\n",
            "943/943 [==============================] - 3s 4ms/step - loss: 0.3040 - accuracy: 0.8570 - val_loss: 0.3262 - val_accuracy: 0.8469\n",
            "Epoch 14/30\n",
            "943/943 [==============================] - 4s 4ms/step - loss: 0.3022 - accuracy: 0.8581 - val_loss: 0.3248 - val_accuracy: 0.8484\n",
            "Epoch 15/30\n",
            "943/943 [==============================] - 3s 3ms/step - loss: 0.3007 - accuracy: 0.8600 - val_loss: 0.3282 - val_accuracy: 0.8477\n",
            "Epoch 16/30\n",
            "943/943 [==============================] - 4s 4ms/step - loss: 0.2994 - accuracy: 0.8590 - val_loss: 0.3279 - val_accuracy: 0.8479\n",
            "Epoch 17/30\n",
            "943/943 [==============================] - 4s 4ms/step - loss: 0.2980 - accuracy: 0.8612 - val_loss: 0.3249 - val_accuracy: 0.8504\n",
            "Epoch 18/30\n",
            "943/943 [==============================] - 4s 4ms/step - loss: 0.2966 - accuracy: 0.8611 - val_loss: 0.3265 - val_accuracy: 0.8489\n",
            "Epoch 19/30\n",
            "943/943 [==============================] - 3s 3ms/step - loss: 0.2953 - accuracy: 0.8607 - val_loss: 0.3281 - val_accuracy: 0.8470\n",
            "Epoch 20/30\n",
            "943/943 [==============================] - 4s 4ms/step - loss: 0.2940 - accuracy: 0.8626 - val_loss: 0.3281 - val_accuracy: 0.8495\n",
            "Epoch 21/30\n",
            "943/943 [==============================] - 4s 4ms/step - loss: 0.2931 - accuracy: 0.8627 - val_loss: 0.3290 - val_accuracy: 0.8490\n",
            "Epoch 22/30\n",
            "943/943 [==============================] - 3s 3ms/step - loss: 0.2920 - accuracy: 0.8626 - val_loss: 0.3283 - val_accuracy: 0.8473\n",
            "Epoch 23/30\n",
            "943/943 [==============================] - 4s 4ms/step - loss: 0.2909 - accuracy: 0.8633 - val_loss: 0.3294 - val_accuracy: 0.8474\n",
            "Epoch 24/30\n",
            "943/943 [==============================] - 3s 4ms/step - loss: 0.2895 - accuracy: 0.8642 - val_loss: 0.3314 - val_accuracy: 0.8488\n",
            "Epoch 25/30\n",
            "943/943 [==============================] - 3s 3ms/step - loss: 0.2883 - accuracy: 0.8643 - val_loss: 0.3303 - val_accuracy: 0.8497\n",
            "Epoch 26/30\n",
            "943/943 [==============================] - 4s 4ms/step - loss: 0.2873 - accuracy: 0.8648 - val_loss: 0.3310 - val_accuracy: 0.8491\n",
            "Epoch 27/30\n",
            "943/943 [==============================] - 5s 5ms/step - loss: 0.2865 - accuracy: 0.8659 - val_loss: 0.3340 - val_accuracy: 0.8457\n",
            "Epoch 28/30\n",
            "943/943 [==============================] - 5s 5ms/step - loss: 0.2849 - accuracy: 0.8658 - val_loss: 0.3361 - val_accuracy: 0.8489\n",
            "Epoch 29/30\n",
            "943/943 [==============================] - 4s 4ms/step - loss: 0.2844 - accuracy: 0.8660 - val_loss: 0.3356 - val_accuracy: 0.8473\n",
            "Epoch 30/30\n",
            "943/943 [==============================] - 4s 4ms/step - loss: 0.2834 - accuracy: 0.8666 - val_loss: 0.3350 - val_accuracy: 0.8493\n"
          ]
        }
      ]
    },
    {
      "cell_type": "markdown",
      "metadata": {
        "id": "Lf864FuBlDly"
      },
      "source": [
        "# Zad. \n",
        "Stwórz wykres porównujący metody. "
      ]
    },
    {
      "cell_type": "code",
      "execution_count": 23,
      "metadata": {
        "id": "2A9HichelDl0",
        "outputId": "d85f473e-fb49-4325-c36e-4b4850ecee07",
        "colab": {
          "base_uri": "https://localhost:8080/",
          "height": 324
        }
      },
      "outputs": [
        {
          "output_type": "display_data",
          "data": {
            "text/plain": [
              "<Figure size 576x360 with 1 Axes>"
            ],
            "image/png": "[encoded data removed]"
          },
          "metadata": {
            "needs_background": "light"
          }
        }
      ],
      "source": [
        "history1.history['scaled_loss'] = history2.history['loss']\n",
        "history1.history['scaled_accuracy'] = history2.history['accuracy']\n",
        "\n",
        "#history1.history.drop(['val_loss','val_accuracy'], axis=1, inplace=True)\n",
        "del history1.history['val_loss']\n",
        "del history1.history['val_accuracy']\n",
        "\n",
        "pd.DataFrame(history1.history).plot(figsize=(8, 5))\n",
        "plt.grid(True)\n",
        "plt.gca().set_ylim(0, 1)\n",
        "plt.show()"
      ]
    },
    {
      "cell_type": "code",
      "execution_count": null,
      "metadata": {
        "id": "ss9CXH2SlDl2"
      },
      "outputs": [],
      "source": [
        ""
      ]
    }
  ],
  "metadata": {
    "kernelspec": {
      "display_name": "Python 3",
      "language": "python",
      "name": "python3"
    },
    "language_info": {
      "codemirror_mode": {
        "name": "ipython",
        "version": 3
      },
      "file_extension": ".py",
      "mimetype": "text/x-python",
      "name": "python",
      "nbconvert_exporter": "python",
      "pygments_lexer": "ipython3",
      "version": "3.7.3"
    },
    "colab": {
      "name": "Z11_G_keras.ipynb",
      "provenance": []
    }
  },
  "nbformat": 4,
  "nbformat_minor": 0
}