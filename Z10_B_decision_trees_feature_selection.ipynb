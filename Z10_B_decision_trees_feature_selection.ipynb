{
  "cells": [
    {
      "cell_type": "code",
      "execution_count": 1,
      "metadata": {
        "collapsed": true,
        "id": "E3kIYqB9wlL4"
      },
      "outputs": [],
      "source": [
        "import numpy as np\n",
        "import pandas as pd\n",
        "import matplotlib.pyplot as plt"
      ]
    },
    {
      "cell_type": "markdown",
      "metadata": {
        "id": "ZntzJ3NmwlL6"
      },
      "source": [
        "# Decision Trees feature selection"
      ]
    },
    {
      "cell_type": "code",
      "execution_count": 2,
      "metadata": {
        "id": "UqbNEVbiwlL9"
      },
      "outputs": [],
      "source": [
        "from sklearn import datasets\n",
        "from sklearn.tree import DecisionTreeClassifier\n",
        "from sklearn.model_selection import train_test_split\n",
        "\n",
        "np.random.seed(1)\n",
        "cancer = datasets.load_breast_cancer()\n",
        "# print description\n",
        "# print(cancer.DESCR)"
      ]
    },
    {
      "cell_type": "code",
      "execution_count": 3,
      "metadata": {
        "collapsed": true,
        "id": "MMc36XdPwlL-"
      },
      "outputs": [],
      "source": [
        "# get the data\n",
        "X = cancer.data\n",
        "y = cancer.target"
      ]
    },
    {
      "cell_type": "code",
      "execution_count": 4,
      "metadata": {
        "id": "Kr3MXUSQwlMA",
        "outputId": "16149549-e2b2-4895-e506-b4666c235ccc",
        "colab": {
          "base_uri": "https://localhost:8080/",
          "height": 265
        }
      },
      "outputs": [
        {
          "output_type": "display_data",
          "data": {
            "text/plain": [
              "<Figure size 432x288 with 1 Axes>"
            ],
            "image/png": "[encoded data removed]"
          },
          "metadata": {
            "needs_background": "light"
          }
        }
      ],
      "source": [
        "X_train, X_test, y_train, y_test = train_test_split(X, y, stratify=y, random_state=42)\n",
        "\n",
        "plt.hist(y_train, alpha=0.5)\n",
        "plt.hist(y_test, alpha=0.5)\n",
        "plt.show()"
      ]
    },
    {
      "cell_type": "code",
      "execution_count": 5,
      "metadata": {
        "id": "wyyW9VOHwlMB",
        "outputId": "8a8127da-4c74-4e2c-dab5-b6874c26b3d6",
        "colab": {
          "base_uri": "https://localhost:8080/"
        }
      },
      "outputs": [
        {
          "output_type": "stream",
          "name": "stdout",
          "text": [
            "Accuracy on training set: 0.988\n",
            "Accuracy on test set: 0.951\n"
          ]
        }
      ],
      "source": [
        "tree = DecisionTreeClassifier(max_depth=4, random_state=0)\n",
        "tree.fit(X_train, y_train)\n",
        "\n",
        "print(\"Accuracy on training set: {:.3f}\".format(tree.score(X_train, y_train)))\n",
        "print(\"Accuracy on test set: {:.3f}\".format(tree.score(X_test, y_test)))"
      ]
    },
    {
      "cell_type": "markdown",
      "metadata": {
        "collapsed": true,
        "id": "Ikl9vDbUwlMD"
      },
      "source": [
        "# Zad.\n",
        "\n",
        "Naucz \n",
        "\n",
        "```python\n",
        "tree = DecisionTreeClassifier(max_depth=4, random_state=0)\n",
        "```\n",
        "\n",
        "narysuje graf a następnie wykonaj wykres ilustrujący wazność współrzędnych"
      ]
    },
    {
      "cell_type": "code",
      "execution_count": 6,
      "metadata": {
        "id": "fjrKxP5pwlMF",
        "outputId": "e88d8b52-95cd-45d5-f6bb-bdce43f4bb9a",
        "colab": {
          "base_uri": "https://localhost:8080/"
        }
      },
      "outputs": [
        {
          "output_type": "stream",
          "name": "stdout",
          "text": [
            "[0.         0.         0.         0.         0.         0.\n",
            " 0.         0.         0.         0.         0.01019737 0.04839825\n",
            " 0.         0.         0.0024156  0.         0.         0.\n",
            " 0.         0.         0.72682851 0.0458159  0.         0.\n",
            " 0.0141577  0.         0.018188   0.1221132  0.01188548 0.        ]\n"
          ]
        }
      ],
      "source": [
        "objects = cancer.feature_names\n",
        "y_pos = np.arange(len(objects))\n",
        "performance = tree.feature_importances_\n",
        "\n",
        "print(performance)"
      ]
    },
    {
      "cell_type": "code",
      "execution_count": 7,
      "metadata": {
        "id": "ynJW0bF8wlMG",
        "outputId": "95bf3f88-30b8-44a5-c930-32b7af8fe38b",
        "colab": {
          "base_uri": "https://localhost:8080/",
          "height": 279
        }
      },
      "outputs": [
        {
          "output_type": "display_data",
          "data": {
            "text/plain": [
              "<Figure size 432x288 with 1 Axes>"
            ],
            "image/png": "[encoded data removed]"
          },
          "metadata": {
            "needs_background": "light"
          }
        }
      ],
      "source": [
        "plt.xlabel('Feature importance')\n",
        "plt.ylabel('Feature')\n",
        "plt.barh(y_pos, performance, align='center')\n",
        "plt.yticks(y_pos, objects)\n",
        "plt.show()"
      ]
    },
    {
      "cell_type": "markdown",
      "metadata": {
        "collapsed": true,
        "id": "nKplyyClwlMK"
      },
      "source": [
        "# Zad.\n",
        "\n",
        "Naucz \n",
        "\n",
        "```python\n",
        "tree = DecisionTreeClassifier(max_depth=4, random_state=0)\n",
        "```\n",
        "\n",
        "narysuje graf a następnie wykonaj wykres ilustrujący wazność współrzędnych"
      ]
    },
    {
      "cell_type": "code",
      "execution_count": 9,
      "metadata": {
        "id": "oDhJxyu5wlML"
      },
      "outputs": [],
      "source": [
        "np.random.seed(1)\n",
        "wine = datasets.load_wine()\n",
        "\n",
        "# get the data\n",
        "X = wine.data\n",
        "y = wine.target\n",
        "\n",
        "X_train, X_test, y_train, y_test = train_test_split(X, y, stratify=y, random_state=42)"
      ]
    },
    {
      "cell_type": "code",
      "execution_count": 10,
      "metadata": {
        "id": "yJGHUE2pwlML",
        "outputId": "ff55053f-329f-4753-96ac-59d02812cc0a",
        "colab": {
          "base_uri": "https://localhost:8080/"
        }
      },
      "outputs": [
        {
          "output_type": "stream",
          "name": "stdout",
          "text": [
            "Accuracy on training set: 1.000\n",
            "Accuracy on test set: 0.956\n"
          ]
        }
      ],
      "source": [
        "tree = DecisionTreeClassifier(max_depth=4, random_state=0)\n",
        "tree.fit(X_train, y_train)\n",
        "\n",
        "print(\"Accuracy on training set: {:.3f}\".format(tree.score(X_train, y_train)))\n",
        "print(\"Accuracy on test set: {:.3f}\".format(tree.score(X_test, y_test)))"
      ]
    },
    {
      "cell_type": "code",
      "source": [
        "objects = wine.feature_names\n",
        "y_pos = np.arange(len(objects))\n",
        "performance = tree.feature_importances_\n",
        "\n",
        "print(performance)"
      ],
      "metadata": {
        "id": "xQ2SdpPU32jA",
        "outputId": "f3fac03a-b55a-4c2f-847b-4b40e114ec0a",
        "colab": {
          "base_uri": "https://localhost:8080/"
        }
      },
      "execution_count": 11,
      "outputs": [
        {
          "output_type": "stream",
          "name": "stdout",
          "text": [
            "[0.         0.         0.02141938 0.         0.01957418 0.\n",
            " 0.41080173 0.         0.         0.40331707 0.02221933 0.02235065\n",
            " 0.10031765]\n"
          ]
        }
      ]
    },
    {
      "cell_type": "code",
      "source": [
        "plt.xlabel('Feature importance')\n",
        "plt.ylabel('Feature')\n",
        "plt.barh(y_pos, performance, align='center')\n",
        "plt.yticks(y_pos, objects)\n",
        "plt.show()"
      ],
      "metadata": {
        "id": "nSiNNzWK35nE",
        "outputId": "714041a5-c9e6-4791-cb85-5b4fb8ae8319",
        "colab": {
          "base_uri": "https://localhost:8080/",
          "height": 279
        }
      },
      "execution_count": 12,
      "outputs": [
        {
          "output_type": "display_data",
          "data": {
            "text/plain": [
              "<Figure size 432x288 with 1 Axes>"
            ],
            "image/png": "[encoded data removed]"
          },
          "metadata": {
            "needs_background": "light"
          }
        }
      ]
    }
  ],
  "metadata": {
    "kernelspec": {
      "display_name": "Python 3",
      "language": "python",
      "name": "python3"
    },
    "language_info": {
      "codemirror_mode": {
        "name": "ipython",
        "version": 3
      },
      "file_extension": ".py",
      "mimetype": "text/x-python",
      "name": "python",
      "nbconvert_exporter": "python",
      "pygments_lexer": "ipython3",
      "version": "3.7.3"
    },
    "colab": {
      "name": "Z10_B_decision_trees_feature_selection.ipynb",
      "provenance": []
    }
  },
  "nbformat": 4,
  "nbformat_minor": 0
}