{
  "cells": [
    {
      "cell_type": "code",
      "execution_count": 1,
      "metadata": {
        "id": "Oxo5ItJzYwBJ",
        "outputId": "bbb433d7-e703-4f52-fd48-d166f16ca44d",
        "colab": {
          "base_uri": "https://localhost:8080/"
        }
      },
      "outputs": [
        {
          "output_type": "stream",
          "name": "stdout",
          "text": [
            "2.8.2\n",
            "2.8.0\n"
          ]
        }
      ],
      "source": [
        "import numpy as np\n",
        "import tensorflow as tf\n",
        "import tensorflow as tf\n",
        "from tensorflow import keras\n",
        "print(tf.__version__)\n",
        "\n",
        "print(keras.__version__)\n",
        "from numpy.random import seed\n",
        "seed(123)"
      ]
    },
    {
      "cell_type": "markdown",
      "metadata": {
        "id": "uO7dfPK_YwBM"
      },
      "source": [
        "# Zad\n",
        "Porównaj wyniki działań różnych optymalizacji\n",
        "* \n",
        "```python\n",
        "sgd = keras.optimizers.SGD(lr=0.01, decay=1e-6, momentum=0.9, nesterov=False)\n",
        "```\n",
        "* \n",
        "```python\n",
        "sgd = keras.optimizers.SGD(lr=0.01, decay=1e-6, momentum=0.9, nesterov=True)\n",
        "```\n",
        "* \n",
        "```python\n",
        "RMSprop = keras.optimizers.RMSprop(learning_rate=0.001, rho=0.9)\n",
        "```\n",
        "* \n",
        "```python\n",
        "Adagrad = keras.optimizers.Adagrad(learning_rate=0.01)\n",
        "```\n",
        "* \n",
        "```python\n",
        "Adadelta = keras.optimizers.Adadelta(learning_rate=1.0, rho=0.95)\n",
        "```\n",
        "* \n",
        "```python\n",
        "Adam = keras.optimizers.Adam(learning_rate=0.001, beta_1=0.9, beta_2=0.999, amsgrad=False)\n",
        "```\n",
        "* \n",
        "```python\n",
        "Adam = keras.optimizers.Adam(learning_rate=0.0001, beta_1=0.9, beta_2=0.999, amsgrad=False)\n",
        "```\n",
        "\n",
        "https://keras.io/optimizers/"
      ]
    },
    {
      "cell_type": "code",
      "execution_count": 3,
      "metadata": {
        "id": "DN7wKsY0YwBP",
        "outputId": "1a0f19d2-af41-42ac-c921-7696f08b0b77",
        "colab": {
          "base_uri": "https://localhost:8080/",
          "height": 261
        }
      },
      "outputs": [
        {
          "output_type": "stream",
          "name": "stderr",
          "text": [
            "/usr/local/lib/python3.7/dist-packages/pandas/util/_decorators.py:311: ParserWarning: Falling back to the 'python' engine because the 'c' engine does not support regex separators (separators > 1 char and different from '\\s+' are interpreted as regex); you can avoid this warning by specifying engine='python'.\n",
            "  return func(*args, **kwargs)\n"
          ]
        },
        {
          "output_type": "execute_result",
          "data": {
            "text/plain": [
              "   age         workclass  fnlwgt  education  education_num  \\\n",
              "0   39         State-gov   77516  Bachelors             13   \n",
              "1   50  Self-emp-not-inc   83311  Bachelors             13   \n",
              "2   38           Private  215646    HS-grad              9   \n",
              "3   53           Private  234721       11th              7   \n",
              "4   28           Private  338409  Bachelors             13   \n",
              "\n",
              "       marital_status         occupation   relationship   race     sex  \\\n",
              "0       Never-married       Adm-clerical  Not-in-family  White    Male   \n",
              "1  Married-civ-spouse    Exec-managerial        Husband  White    Male   \n",
              "2            Divorced  Handlers-cleaners  Not-in-family  White    Male   \n",
              "3  Married-civ-spouse  Handlers-cleaners        Husband  Black    Male   \n",
              "4  Married-civ-spouse     Prof-specialty           Wife  Black  Female   \n",
              "\n",
              "   capital_gain  capital_loss  hours_per_week native_country wage_class  \n",
              "0          2174             0              40  United-States      <=50K  \n",
              "1             0             0              13  United-States      <=50K  \n",
              "2             0             0              40  United-States      <=50K  \n",
              "3             0             0              40  United-States      <=50K  \n",
              "4             0             0              40           Cuba      <=50K  "
            ],
            "text/html": [
              "\n",
              "  <div id=\"df-63df7580-5123-4b2b-9433-c6d6f760b8a8\">\n",
              "    <div class=\"colab-df-container\">\n",
              "      <div>\n",
              "<style scoped>\n",
              "    .dataframe tbody tr th:only-of-type {\n",
              "        vertical-align: middle;\n",
              "    }\n",
              "\n",
              "    .dataframe tbody tr th {\n",
              "        vertical-align: top;\n",
              "    }\n",
              "\n",
              "    .dataframe thead th {\n",
              "        text-align: right;\n",
              "    }\n",
              "</style>\n",
              "<table border=\"1\" class=\"dataframe\">\n",
              "  <thead>\n",
              "    <tr style=\"text-align: right;\">\n",
              "      <th></th>\n",
              "      <th>age</th>\n",
              "      <th>workclass</th>\n",
              "      <th>fnlwgt</th>\n",
              "      <th>education</th>\n",
              "      <th>education_num</th>\n",
              "      <th>marital_status</th>\n",
              "      <th>occupation</th>\n",
              "      <th>relationship</th>\n",
              "      <th>race</th>\n",
              "      <th>sex</th>\n",
              "      <th>capital_gain</th>\n",
              "      <th>capital_loss</th>\n",
              "      <th>hours_per_week</th>\n",
              "      <th>native_country</th>\n",
              "      <th>wage_class</th>\n",
              "    </tr>\n",
              "  </thead>\n",
              "  <tbody>\n",
              "    <tr>\n",
              "      <th>0</th>\n",
              "      <td>39</td>\n",
              "      <td>State-gov</td>\n",
              "      <td>77516</td>\n",
              "      <td>Bachelors</td>\n",
              "      <td>13</td>\n",
              "      <td>Never-married</td>\n",
              "      <td>Adm-clerical</td>\n",
              "      <td>Not-in-family</td>\n",
              "      <td>White</td>\n",
              "      <td>Male</td>\n",
              "      <td>2174</td>\n",
              "      <td>0</td>\n",
              "      <td>40</td>\n",
              "      <td>United-States</td>\n",
              "      <td>&lt;=50K</td>\n",
              "    </tr>\n",
              "    <tr>\n",
              "      <th>1</th>\n",
              "      <td>50</td>\n",
              "      <td>Self-emp-not-inc</td>\n",
              "      <td>83311</td>\n",
              "      <td>Bachelors</td>\n",
              "      <td>13</td>\n",
              "      <td>Married-civ-spouse</td>\n",
              "      <td>Exec-managerial</td>\n",
              "      <td>Husband</td>\n",
              "      <td>White</td>\n",
              "      <td>Male</td>\n",
              "      <td>0</td>\n",
              "      <td>0</td>\n",
              "      <td>13</td>\n",
              "      <td>United-States</td>\n",
              "      <td>&lt;=50K</td>\n",
              "    </tr>\n",
              "    <tr>\n",
              "      <th>2</th>\n",
              "      <td>38</td>\n",
              "      <td>Private</td>\n",
              "      <td>215646</td>\n",
              "      <td>HS-grad</td>\n",
              "      <td>9</td>\n",
              "      <td>Divorced</td>\n",
              "      <td>Handlers-cleaners</td>\n",
              "      <td>Not-in-family</td>\n",
              "      <td>White</td>\n",
              "      <td>Male</td>\n",
              "      <td>0</td>\n",
              "      <td>0</td>\n",
              "      <td>40</td>\n",
              "      <td>United-States</td>\n",
              "      <td>&lt;=50K</td>\n",
              "    </tr>\n",
              "    <tr>\n",
              "      <th>3</th>\n",
              "      <td>53</td>\n",
              "      <td>Private</td>\n",
              "      <td>234721</td>\n",
              "      <td>11th</td>\n",
              "      <td>7</td>\n",
              "      <td>Married-civ-spouse</td>\n",
              "      <td>Handlers-cleaners</td>\n",
              "      <td>Husband</td>\n",
              "      <td>Black</td>\n",
              "      <td>Male</td>\n",
              "      <td>0</td>\n",
              "      <td>0</td>\n",
              "      <td>40</td>\n",
              "      <td>United-States</td>\n",
              "      <td>&lt;=50K</td>\n",
              "    </tr>\n",
              "    <tr>\n",
              "      <th>4</th>\n",
              "      <td>28</td>\n",
              "      <td>Private</td>\n",
              "      <td>338409</td>\n",
              "      <td>Bachelors</td>\n",
              "      <td>13</td>\n",
              "      <td>Married-civ-spouse</td>\n",
              "      <td>Prof-specialty</td>\n",
              "      <td>Wife</td>\n",
              "      <td>Black</td>\n",
              "      <td>Female</td>\n",
              "      <td>0</td>\n",
              "      <td>0</td>\n",
              "      <td>40</td>\n",
              "      <td>Cuba</td>\n",
              "      <td>&lt;=50K</td>\n",
              "    </tr>\n",
              "  </tbody>\n",
              "</table>\n",
              "</div>\n",
              "      <button class=\"colab-df-convert\" onclick=\"convertToInteractive('df-63df7580-5123-4b2b-9433-c6d6f760b8a8')\"\n",
              "              title=\"Convert this dataframe to an interactive table.\"\n",
              "              style=\"display:none;\">\n",
              "        \n",
              "  <svg xmlns=\"http://www.w3.org/2000/svg\" height=\"24px\"viewBox=\"0 0 24 24\"\n",
              "       width=\"24px\">\n",
              "    <path d=\"M0 0h24v24H0V0z\" fill=\"none\"/>\n",
              "    <path d=\"M18.56 5.44l.94 2.06.94-2.06 2.06-.94-2.06-.94-.94-2.06-.94 2.06-2.06.94zm-11 1L8.5 8.5l.94-2.06 2.06-.94-2.06-.94L8.5 2.5l-.94 2.06-2.06.94zm10 10l.94 2.06.94-2.06 2.06-.94-2.06-.94-.94-2.06-.94 2.06-2.06.94z\"/><path d=\"M17.41 7.96l-1.37-1.37c-.4-.4-.92-.59-1.43-.59-.52 0-1.04.2-1.43.59L10.3 9.45l-7.72 7.72c-.78.78-.78 2.05 0 2.83L4 21.41c.39.39.9.59 1.41.59.51 0 1.02-.2 1.41-.59l7.78-7.78 2.81-2.81c.8-.78.8-2.07 0-2.86zM5.41 20L4 18.59l7.72-7.72 1.47 1.35L5.41 20z\"/>\n",
              "  </svg>\n",
              "      </button>\n",
              "      \n",
              "  <style>\n",
              "    .colab-df-container {\n",
              "      display:flex;\n",
              "      flex-wrap:wrap;\n",
              "      gap: 12px;\n",
              "    }\n",
              "\n",
              "    .colab-df-convert {\n",
              "      background-color: #E8F0FE;\n",
              "      border: none;\n",
              "      border-radius: 50%;\n",
              "      cursor: pointer;\n",
              "      display: none;\n",
              "      fill: #1967D2;\n",
              "      height: 32px;\n",
              "      padding: 0 0 0 0;\n",
              "      width: 32px;\n",
              "    }\n",
              "\n",
              "    .colab-df-convert:hover {\n",
              "      background-color: #E2EBFA;\n",
              "      box-shadow: 0px 1px 2px rgba(60, 64, 67, 0.3), 0px 1px 3px 1px rgba(60, 64, 67, 0.15);\n",
              "      fill: #174EA6;\n",
              "    }\n",
              "\n",
              "    [theme=dark] .colab-df-convert {\n",
              "      background-color: #3B4455;\n",
              "      fill: #D2E3FC;\n",
              "    }\n",
              "\n",
              "    [theme=dark] .colab-df-convert:hover {\n",
              "      background-color: #434B5C;\n",
              "      box-shadow: 0px 1px 3px 1px rgba(0, 0, 0, 0.15);\n",
              "      filter: drop-shadow(0px 1px 2px rgba(0, 0, 0, 0.3));\n",
              "      fill: #FFFFFF;\n",
              "    }\n",
              "  </style>\n",
              "\n",
              "      <script>\n",
              "        const buttonEl =\n",
              "          document.querySelector('#df-63df7580-5123-4b2b-9433-c6d6f760b8a8 button.colab-df-convert');\n",
              "        buttonEl.style.display =\n",
              "          google.colab.kernel.accessAllowed ? 'block' : 'none';\n",
              "\n",
              "        async function convertToInteractive(key) {\n",
              "          const element = document.querySelector('#df-63df7580-5123-4b2b-9433-c6d6f760b8a8');\n",
              "          const dataTable =\n",
              "            await google.colab.kernel.invokeFunction('convertToInteractive',\n",
              "                                                     [key], {});\n",
              "          if (!dataTable) return;\n",
              "\n",
              "          const docLinkHtml = 'Like what you see? Visit the ' +\n",
              "            '<a target=\"_blank\" href=https://colab.research.google.com/notebooks/data_table.ipynb>data table notebook</a>'\n",
              "            + ' to learn more about interactive tables.';\n",
              "          element.innerHTML = '';\n",
              "          dataTable['output_type'] = 'display_data';\n",
              "          await google.colab.output.renderOutput(dataTable, element);\n",
              "          const docLink = document.createElement('div');\n",
              "          docLink.innerHTML = docLinkHtml;\n",
              "          element.appendChild(docLink);\n",
              "        }\n",
              "      </script>\n",
              "    </div>\n",
              "  </div>\n",
              "  "
            ]
          },
          "metadata": {},
          "execution_count": 3
        }
      ],
      "source": [
        "# Wczytaj dane treningowe i testowe\n",
        "import numpy as np\n",
        "import matplotlib.pyplot as plt\n",
        "import pandas as pd\n",
        "\n",
        "train_set = pd.read_csv('https://raw.githubusercontent.com/przem85/podstawy_sztucznej_inteligencji/main/Dane/adult/adult.data', sep=\", \",header = None)\n",
        "test_set = pd.read_csv('https://raw.githubusercontent.com/przem85/podstawy_sztucznej_inteligencji/main/Dane/adult/adult.test', sep=\", \",skiprows = 1, header = None) # Make sure to skip a row for the test set\n",
        "\n",
        "col_labels = ['age', 'workclass', 'fnlwgt', 'education', 'education_num', 'marital_status', 'occupation', \n",
        "              'relationship', 'race', 'sex', 'capital_gain', 'capital_loss', 'hours_per_week', 'native_country',\n",
        "             'wage_class']\n",
        "train_set.columns = col_labels\n",
        "test_set.columns = col_labels\n",
        "\n",
        "train = train_set.replace('?', np.nan).dropna()\n",
        "test = test_set.replace('?', np.nan).dropna()\n",
        "\n",
        "train_set.head()\n"
      ]
    },
    {
      "cell_type": "code",
      "execution_count": 4,
      "metadata": {
        "id": "XVIMYG2bYwBS",
        "outputId": "d2e8ce48-d72d-4c9c-b68d-880bcf4f32e1",
        "colab": {
          "base_uri": "https://localhost:8080/"
        }
      },
      "outputs": [
        {
          "output_type": "stream",
          "name": "stdout",
          "text": [
            "(30162, 41)\n"
          ]
        },
        {
          "output_type": "execute_result",
          "data": {
            "text/plain": [
              "(15060, 41)"
            ]
          },
          "metadata": {},
          "execution_count": 4
        }
      ],
      "source": [
        "\n",
        "\n",
        "\n",
        "\n",
        "dataset = pd.concat([train,test])\n",
        "\n",
        "dataset['wage_class'] = dataset.wage_class.replace({'<=50K.': 0,'<=50K':0, '>50K.':1, '>50K':1})\n",
        "\n",
        "dataset.drop([\"fnlwgt\"],axis=1,inplace=True)\n",
        "\n",
        "dataset.drop([\"education\"],axis=1,inplace=True)\n",
        "\n",
        "x = dataset.groupby('native_country')[\"wage_class\"].mean()\n",
        "\n",
        "d = dict(pd.cut(x[x.index!=\" United-States\"],5,labels=range(5)))\n",
        "\n",
        "dataset['native_country'] = dataset['native_country'].replace(d)\n",
        "\n",
        "dataset = pd.get_dummies(dataset,drop_first=True)\n",
        "\n",
        "train = dataset.iloc[:train.shape[0]]\n",
        "test = dataset.iloc[train.shape[0]:]\n",
        "\n",
        "X_train = train.drop(\"wage_class\",axis=1)\n",
        "y_train = train.wage_class\n",
        "\n",
        "X_test = test.drop(\"wage_class\",axis=1)\n",
        "y_test = test.wage_class\n",
        "\n",
        "from sklearn.preprocessing import StandardScaler\n",
        "sc = StandardScaler()\n",
        "X_train = sc.fit_transform(X_train)\n",
        "X_test = sc.transform(X_test)\n",
        "\n",
        "print(X_train.shape)\n",
        "X_test.shape"
      ]
    },
    {
      "cell_type": "markdown",
      "metadata": {
        "id": "Rj6V5ZZLYwBU"
      },
      "source": [
        "# SGD"
      ]
    },
    {
      "cell_type": "code",
      "execution_count": 5,
      "metadata": {
        "id": "WZObsFliYwBV",
        "outputId": "d7bd4cf0-4fef-4b20-9b75-e7d483b6a5e7",
        "colab": {
          "base_uri": "https://localhost:8080/"
        }
      },
      "outputs": [
        {
          "output_type": "stream",
          "name": "stdout",
          "text": [
            "Model: \"sequential\"\n",
            "_________________________________________________________________\n",
            " Layer (type)                Output Shape              Param #   \n",
            "=================================================================\n",
            " dense (Dense)               (None, 100)               4200      \n",
            "                                                                 \n",
            " dense_1 (Dense)             (None, 50)                5050      \n",
            "                                                                 \n",
            " dense_2 (Dense)             (None, 10)                510       \n",
            "                                                                 \n",
            " dense_3 (Dense)             (None, 1)                 11        \n",
            "                                                                 \n",
            "=================================================================\n",
            "Total params: 9,771\n",
            "Trainable params: 9,771\n",
            "Non-trainable params: 0\n",
            "_________________________________________________________________\n"
          ]
        }
      ],
      "source": [
        "from keras.models import Sequential\n",
        "from keras.layers import Dense\n",
        "\n",
        "from keras.callbacks import History\n",
        "\n",
        "history_sgd = History()\n",
        "model = Sequential()\n",
        "model.add(Dense(100,activation=\"sigmoid\",input_shape=(X_train.shape[1],)))\n",
        "model.add(Dense(50,activation=\"sigmoid\"))\n",
        "model.add(Dense(10,activation=\"sigmoid\"))\n",
        "model.add(Dense(1,activation=\"sigmoid\"))\n",
        "model.summary()"
      ]
    },
    {
      "cell_type": "code",
      "execution_count": 6,
      "metadata": {
        "id": "JKIk-JehYwBW",
        "outputId": "bddf6a8a-402f-4345-aeac-093fe034c7e9",
        "colab": {
          "base_uri": "https://localhost:8080/"
        }
      },
      "outputs": [
        {
          "output_type": "stream",
          "name": "stderr",
          "text": [
            "/usr/local/lib/python3.7/dist-packages/keras/optimizer_v2/gradient_descent.py:102: UserWarning: The `lr` argument is deprecated, use `learning_rate` instead.\n",
            "  super(SGD, self).__init__(name, **kwargs)\n"
          ]
        }
      ],
      "source": [
        "sgd = keras.optimizers.SGD(lr=0.01, decay=1e-6, momentum=0.9, nesterov=True)\n",
        "model.compile(loss=\"binary_crossentropy\",optimizer=sgd, metrics=[\"accuracy\"])"
      ]
    },
    {
      "cell_type": "code",
      "execution_count": 7,
      "metadata": {
        "id": "VVO8ZIeMYwBX",
        "outputId": "6bb9f132-bebd-4758-ce88-90f520c7c158",
        "colab": {
          "base_uri": "https://localhost:8080/"
        }
      },
      "outputs": [
        {
          "output_type": "stream",
          "name": "stdout",
          "text": [
            "Epoch 1/100\n",
            "943/943 [==============================] - 2s 2ms/step - loss: 0.5380 - accuracy: 0.7512 - val_loss: 0.4481 - val_accuracy: 0.7557\n",
            "Epoch 2/100\n",
            "943/943 [==============================] - 2s 2ms/step - loss: 0.3642 - accuracy: 0.8271 - val_loss: 0.3433 - val_accuracy: 0.8411\n",
            "Epoch 3/100\n",
            "943/943 [==============================] - 2s 2ms/step - loss: 0.3387 - accuracy: 0.8411 - val_loss: 0.3543 - val_accuracy: 0.8379\n",
            "Epoch 4/100\n",
            "943/943 [==============================] - 1s 1ms/step - loss: 0.3336 - accuracy: 0.8438 - val_loss: 0.3317 - val_accuracy: 0.8438\n",
            "Epoch 5/100\n",
            "943/943 [==============================] - 1s 1ms/step - loss: 0.3305 - accuracy: 0.8450 - val_loss: 0.3312 - val_accuracy: 0.8478\n",
            "Epoch 6/100\n",
            "943/943 [==============================] - 1s 2ms/step - loss: 0.3291 - accuracy: 0.8448 - val_loss: 0.3296 - val_accuracy: 0.8457\n",
            "Epoch 7/100\n",
            "943/943 [==============================] - 1s 2ms/step - loss: 0.3277 - accuracy: 0.8467 - val_loss: 0.3305 - val_accuracy: 0.8441\n",
            "Epoch 8/100\n",
            "943/943 [==============================] - 2s 2ms/step - loss: 0.3274 - accuracy: 0.8473 - val_loss: 0.3286 - val_accuracy: 0.8461\n",
            "Epoch 9/100\n",
            "943/943 [==============================] - 2s 2ms/step - loss: 0.3263 - accuracy: 0.8465 - val_loss: 0.3258 - val_accuracy: 0.8475\n",
            "Epoch 10/100\n",
            "943/943 [==============================] - 2s 2ms/step - loss: 0.3248 - accuracy: 0.8482 - val_loss: 0.3283 - val_accuracy: 0.8457\n",
            "Epoch 11/100\n",
            "943/943 [==============================] - 1s 2ms/step - loss: 0.3251 - accuracy: 0.8472 - val_loss: 0.3255 - val_accuracy: 0.8479\n",
            "Epoch 12/100\n",
            "943/943 [==============================] - 1s 1ms/step - loss: 0.3238 - accuracy: 0.8481 - val_loss: 0.3265 - val_accuracy: 0.8459\n",
            "Epoch 13/100\n",
            "943/943 [==============================] - 2s 2ms/step - loss: 0.3224 - accuracy: 0.8478 - val_loss: 0.3238 - val_accuracy: 0.8478\n",
            "Epoch 14/100\n",
            "943/943 [==============================] - 2s 2ms/step - loss: 0.3219 - accuracy: 0.8496 - val_loss: 0.3244 - val_accuracy: 0.8478\n",
            "Epoch 15/100\n",
            "943/943 [==============================] - 2s 2ms/step - loss: 0.3206 - accuracy: 0.8502 - val_loss: 0.3227 - val_accuracy: 0.8477\n",
            "Epoch 16/100\n",
            "943/943 [==============================] - 2s 2ms/step - loss: 0.3202 - accuracy: 0.8491 - val_loss: 0.3246 - val_accuracy: 0.8455\n",
            "Epoch 17/100\n",
            "943/943 [==============================] - 3s 3ms/step - loss: 0.3200 - accuracy: 0.8496 - val_loss: 0.3231 - val_accuracy: 0.8472\n",
            "Epoch 18/100\n",
            "943/943 [==============================] - 2s 2ms/step - loss: 0.3189 - accuracy: 0.8500 - val_loss: 0.3218 - val_accuracy: 0.8486\n",
            "Epoch 19/100\n",
            "943/943 [==============================] - 1s 1ms/step - loss: 0.3182 - accuracy: 0.8501 - val_loss: 0.3211 - val_accuracy: 0.8488\n",
            "Epoch 20/100\n",
            "943/943 [==============================] - 2s 2ms/step - loss: 0.3180 - accuracy: 0.8501 - val_loss: 0.3211 - val_accuracy: 0.8491\n",
            "Epoch 21/100\n",
            "943/943 [==============================] - 1s 1ms/step - loss: 0.3169 - accuracy: 0.8521 - val_loss: 0.3199 - val_accuracy: 0.8491\n",
            "Epoch 22/100\n",
            "943/943 [==============================] - 2s 2ms/step - loss: 0.3162 - accuracy: 0.8501 - val_loss: 0.3299 - val_accuracy: 0.8436\n",
            "Epoch 23/100\n",
            "943/943 [==============================] - 1s 1ms/step - loss: 0.3160 - accuracy: 0.8503 - val_loss: 0.3242 - val_accuracy: 0.8495\n",
            "Epoch 24/100\n",
            "943/943 [==============================] - 2s 2ms/step - loss: 0.3150 - accuracy: 0.8530 - val_loss: 0.3193 - val_accuracy: 0.8491\n",
            "Epoch 25/100\n",
            "943/943 [==============================] - 1s 1ms/step - loss: 0.3151 - accuracy: 0.8517 - val_loss: 0.3191 - val_accuracy: 0.8493\n",
            "Epoch 26/100\n",
            "943/943 [==============================] - 2s 2ms/step - loss: 0.3139 - accuracy: 0.8534 - val_loss: 0.3198 - val_accuracy: 0.8495\n",
            "Epoch 27/100\n",
            "943/943 [==============================] - 2s 2ms/step - loss: 0.3136 - accuracy: 0.8522 - val_loss: 0.3214 - val_accuracy: 0.8491\n",
            "Epoch 28/100\n",
            "943/943 [==============================] - 2s 2ms/step - loss: 0.3134 - accuracy: 0.8527 - val_loss: 0.3184 - val_accuracy: 0.8496\n",
            "Epoch 29/100\n",
            "943/943 [==============================] - 2s 2ms/step - loss: 0.3132 - accuracy: 0.8527 - val_loss: 0.3194 - val_accuracy: 0.8497\n",
            "Epoch 30/100\n",
            "943/943 [==============================] - 1s 1ms/step - loss: 0.3126 - accuracy: 0.8534 - val_loss: 0.3182 - val_accuracy: 0.8496\n",
            "Epoch 31/100\n",
            "943/943 [==============================] - 2s 2ms/step - loss: 0.3118 - accuracy: 0.8540 - val_loss: 0.3190 - val_accuracy: 0.8499\n",
            "Epoch 32/100\n",
            "943/943 [==============================] - 2s 2ms/step - loss: 0.3115 - accuracy: 0.8532 - val_loss: 0.3209 - val_accuracy: 0.8487\n",
            "Epoch 33/100\n",
            "943/943 [==============================] - 1s 1ms/step - loss: 0.3112 - accuracy: 0.8545 - val_loss: 0.3177 - val_accuracy: 0.8507\n",
            "Epoch 34/100\n",
            "943/943 [==============================] - 1s 1ms/step - loss: 0.3109 - accuracy: 0.8541 - val_loss: 0.3184 - val_accuracy: 0.8507\n",
            "Epoch 35/100\n",
            "943/943 [==============================] - 1s 1ms/step - loss: 0.3103 - accuracy: 0.8548 - val_loss: 0.3223 - val_accuracy: 0.8479\n",
            "Epoch 36/100\n",
            "943/943 [==============================] - 2s 2ms/step - loss: 0.3104 - accuracy: 0.8548 - val_loss: 0.3256 - val_accuracy: 0.8470\n",
            "Epoch 37/100\n",
            "943/943 [==============================] - 1s 2ms/step - loss: 0.3105 - accuracy: 0.8541 - val_loss: 0.3195 - val_accuracy: 0.8490\n",
            "Epoch 38/100\n",
            "943/943 [==============================] - 2s 2ms/step - loss: 0.3098 - accuracy: 0.8541 - val_loss: 0.3192 - val_accuracy: 0.8507\n",
            "Epoch 39/100\n",
            "943/943 [==============================] - 1s 1ms/step - loss: 0.3092 - accuracy: 0.8546 - val_loss: 0.3179 - val_accuracy: 0.8514\n",
            "Epoch 40/100\n",
            "943/943 [==============================] - 1s 1ms/step - loss: 0.3087 - accuracy: 0.8561 - val_loss: 0.3201 - val_accuracy: 0.8482\n",
            "Epoch 41/100\n",
            "943/943 [==============================] - 2s 2ms/step - loss: 0.3082 - accuracy: 0.8557 - val_loss: 0.3182 - val_accuracy: 0.8498\n",
            "Epoch 42/100\n",
            "943/943 [==============================] - 2s 2ms/step - loss: 0.3085 - accuracy: 0.8549 - val_loss: 0.3188 - val_accuracy: 0.8494\n",
            "Epoch 43/100\n",
            "943/943 [==============================] - 1s 2ms/step - loss: 0.3079 - accuracy: 0.8559 - val_loss: 0.3234 - val_accuracy: 0.8499\n",
            "Epoch 44/100\n",
            "943/943 [==============================] - 1s 1ms/step - loss: 0.3075 - accuracy: 0.8562 - val_loss: 0.3200 - val_accuracy: 0.8494\n",
            "Epoch 45/100\n",
            "943/943 [==============================] - 1s 2ms/step - loss: 0.3077 - accuracy: 0.8554 - val_loss: 0.3215 - val_accuracy: 0.8498\n",
            "Epoch 46/100\n",
            "943/943 [==============================] - 2s 2ms/step - loss: 0.3075 - accuracy: 0.8559 - val_loss: 0.3176 - val_accuracy: 0.8503\n",
            "Epoch 47/100\n",
            "943/943 [==============================] - 2s 2ms/step - loss: 0.3071 - accuracy: 0.8554 - val_loss: 0.3223 - val_accuracy: 0.8504\n",
            "Epoch 48/100\n",
            "943/943 [==============================] - 1s 1ms/step - loss: 0.3069 - accuracy: 0.8558 - val_loss: 0.3192 - val_accuracy: 0.8494\n",
            "Epoch 49/100\n",
            "943/943 [==============================] - 2s 2ms/step - loss: 0.3063 - accuracy: 0.8560 - val_loss: 0.3267 - val_accuracy: 0.8445\n",
            "Epoch 50/100\n",
            "943/943 [==============================] - 2s 2ms/step - loss: 0.3064 - accuracy: 0.8561 - val_loss: 0.3193 - val_accuracy: 0.8489\n",
            "Epoch 51/100\n",
            "943/943 [==============================] - 2s 2ms/step - loss: 0.3061 - accuracy: 0.8566 - val_loss: 0.3189 - val_accuracy: 0.8503\n",
            "Epoch 52/100\n",
            "943/943 [==============================] - 2s 2ms/step - loss: 0.3057 - accuracy: 0.8562 - val_loss: 0.3191 - val_accuracy: 0.8503\n",
            "Epoch 53/100\n",
            "943/943 [==============================] - 1s 1ms/step - loss: 0.3052 - accuracy: 0.8561 - val_loss: 0.3197 - val_accuracy: 0.8485\n",
            "Epoch 54/100\n",
            "943/943 [==============================] - 1s 1ms/step - loss: 0.3050 - accuracy: 0.8558 - val_loss: 0.3187 - val_accuracy: 0.8507\n",
            "Epoch 55/100\n",
            "943/943 [==============================] - 1s 1ms/step - loss: 0.3047 - accuracy: 0.8575 - val_loss: 0.3177 - val_accuracy: 0.8486\n",
            "Epoch 56/100\n",
            "943/943 [==============================] - 2s 2ms/step - loss: 0.3051 - accuracy: 0.8567 - val_loss: 0.3202 - val_accuracy: 0.8481\n",
            "Epoch 57/100\n",
            "943/943 [==============================] - 2s 2ms/step - loss: 0.3040 - accuracy: 0.8552 - val_loss: 0.3239 - val_accuracy: 0.8460\n",
            "Epoch 58/100\n",
            "943/943 [==============================] - 2s 2ms/step - loss: 0.3041 - accuracy: 0.8566 - val_loss: 0.3186 - val_accuracy: 0.8509\n",
            "Epoch 59/100\n",
            "943/943 [==============================] - 1s 1ms/step - loss: 0.3039 - accuracy: 0.8578 - val_loss: 0.3180 - val_accuracy: 0.8505\n",
            "Epoch 60/100\n",
            "943/943 [==============================] - 2s 2ms/step - loss: 0.3034 - accuracy: 0.8581 - val_loss: 0.3176 - val_accuracy: 0.8507\n",
            "Epoch 61/100\n",
            "943/943 [==============================] - 1s 1ms/step - loss: 0.3029 - accuracy: 0.8590 - val_loss: 0.3190 - val_accuracy: 0.8499\n",
            "Epoch 62/100\n",
            "943/943 [==============================] - 2s 2ms/step - loss: 0.3025 - accuracy: 0.8577 - val_loss: 0.3209 - val_accuracy: 0.8471\n",
            "Epoch 63/100\n",
            "943/943 [==============================] - 1s 1ms/step - loss: 0.3022 - accuracy: 0.8575 - val_loss: 0.3185 - val_accuracy: 0.8495\n",
            "Epoch 64/100\n",
            "943/943 [==============================] - 1s 1ms/step - loss: 0.3023 - accuracy: 0.8569 - val_loss: 0.3216 - val_accuracy: 0.8500\n",
            "Epoch 65/100\n",
            "943/943 [==============================] - 1s 1ms/step - loss: 0.3023 - accuracy: 0.8582 - val_loss: 0.3196 - val_accuracy: 0.8487\n",
            "Epoch 66/100\n",
            "943/943 [==============================] - 2s 2ms/step - loss: 0.3018 - accuracy: 0.8573 - val_loss: 0.3190 - val_accuracy: 0.8508\n",
            "Epoch 67/100\n",
            "943/943 [==============================] - 1s 1ms/step - loss: 0.3015 - accuracy: 0.8588 - val_loss: 0.3179 - val_accuracy: 0.8499\n",
            "Epoch 68/100\n",
            "943/943 [==============================] - 1s 1ms/step - loss: 0.3008 - accuracy: 0.8586 - val_loss: 0.3271 - val_accuracy: 0.8495\n",
            "Epoch 69/100\n",
            "943/943 [==============================] - 2s 2ms/step - loss: 0.3009 - accuracy: 0.8592 - val_loss: 0.3206 - val_accuracy: 0.8497\n",
            "Epoch 70/100\n",
            "943/943 [==============================] - 1s 1ms/step - loss: 0.3008 - accuracy: 0.8584 - val_loss: 0.3191 - val_accuracy: 0.8502\n",
            "Epoch 71/100\n",
            "943/943 [==============================] - 2s 2ms/step - loss: 0.3002 - accuracy: 0.8590 - val_loss: 0.3197 - val_accuracy: 0.8490\n",
            "Epoch 72/100\n",
            "943/943 [==============================] - 1s 1ms/step - loss: 0.3000 - accuracy: 0.8595 - val_loss: 0.3197 - val_accuracy: 0.8489\n",
            "Epoch 73/100\n",
            "943/943 [==============================] - 2s 2ms/step - loss: 0.2997 - accuracy: 0.8604 - val_loss: 0.3216 - val_accuracy: 0.8488\n",
            "Epoch 74/100\n",
            "943/943 [==============================] - 1s 1ms/step - loss: 0.2997 - accuracy: 0.8593 - val_loss: 0.3233 - val_accuracy: 0.8471\n",
            "Epoch 75/100\n",
            "943/943 [==============================] - 1s 1ms/step - loss: 0.2996 - accuracy: 0.8587 - val_loss: 0.3207 - val_accuracy: 0.8503\n",
            "Epoch 76/100\n",
            "943/943 [==============================] - 1s 1ms/step - loss: 0.2989 - accuracy: 0.8592 - val_loss: 0.3212 - val_accuracy: 0.8507\n",
            "Epoch 77/100\n",
            "943/943 [==============================] - 1s 1ms/step - loss: 0.2989 - accuracy: 0.8602 - val_loss: 0.3225 - val_accuracy: 0.8495\n",
            "Epoch 78/100\n",
            "943/943 [==============================] - 1s 1ms/step - loss: 0.2987 - accuracy: 0.8595 - val_loss: 0.3226 - val_accuracy: 0.8501\n",
            "Epoch 79/100\n",
            "943/943 [==============================] - 2s 2ms/step - loss: 0.2981 - accuracy: 0.8598 - val_loss: 0.3235 - val_accuracy: 0.8493\n",
            "Epoch 80/100\n",
            "943/943 [==============================] - 1s 1ms/step - loss: 0.2982 - accuracy: 0.8604 - val_loss: 0.3226 - val_accuracy: 0.8497\n",
            "Epoch 81/100\n",
            "943/943 [==============================] - 1s 1ms/step - loss: 0.2978 - accuracy: 0.8597 - val_loss: 0.3198 - val_accuracy: 0.8526\n",
            "Epoch 82/100\n",
            "943/943 [==============================] - 2s 2ms/step - loss: 0.2971 - accuracy: 0.8597 - val_loss: 0.3216 - val_accuracy: 0.8507\n",
            "Epoch 83/100\n",
            "943/943 [==============================] - 2s 2ms/step - loss: 0.2970 - accuracy: 0.8601 - val_loss: 0.3220 - val_accuracy: 0.8494\n",
            "Epoch 84/100\n",
            "943/943 [==============================] - 2s 2ms/step - loss: 0.2960 - accuracy: 0.8608 - val_loss: 0.3229 - val_accuracy: 0.8495\n",
            "Epoch 85/100\n",
            "943/943 [==============================] - 1s 1ms/step - loss: 0.2962 - accuracy: 0.8613 - val_loss: 0.3219 - val_accuracy: 0.8496\n",
            "Epoch 86/100\n",
            "943/943 [==============================] - 2s 2ms/step - loss: 0.2959 - accuracy: 0.8616 - val_loss: 0.3238 - val_accuracy: 0.8479\n",
            "Epoch 87/100\n",
            "943/943 [==============================] - 2s 2ms/step - loss: 0.2957 - accuracy: 0.8613 - val_loss: 0.3276 - val_accuracy: 0.8445\n",
            "Epoch 88/100\n",
            "943/943 [==============================] - 2s 2ms/step - loss: 0.2957 - accuracy: 0.8612 - val_loss: 0.3241 - val_accuracy: 0.8508\n",
            "Epoch 89/100\n",
            "943/943 [==============================] - 1s 2ms/step - loss: 0.2955 - accuracy: 0.8615 - val_loss: 0.3270 - val_accuracy: 0.8467\n",
            "Epoch 90/100\n",
            "943/943 [==============================] - 2s 2ms/step - loss: 0.2949 - accuracy: 0.8611 - val_loss: 0.3249 - val_accuracy: 0.8494\n",
            "Epoch 91/100\n",
            "943/943 [==============================] - 1s 1ms/step - loss: 0.2952 - accuracy: 0.8612 - val_loss: 0.3236 - val_accuracy: 0.8465\n",
            "Epoch 92/100\n",
            "943/943 [==============================] - 1s 1ms/step - loss: 0.2943 - accuracy: 0.8625 - val_loss: 0.3278 - val_accuracy: 0.8483\n",
            "Epoch 93/100\n",
            "943/943 [==============================] - 2s 2ms/step - loss: 0.2944 - accuracy: 0.8608 - val_loss: 0.3225 - val_accuracy: 0.8483\n",
            "Epoch 94/100\n",
            "943/943 [==============================] - 2s 2ms/step - loss: 0.2940 - accuracy: 0.8614 - val_loss: 0.3248 - val_accuracy: 0.8487\n",
            "Epoch 95/100\n",
            "943/943 [==============================] - 1s 1ms/step - loss: 0.2937 - accuracy: 0.8633 - val_loss: 0.3258 - val_accuracy: 0.8493\n",
            "Epoch 96/100\n",
            "943/943 [==============================] - 2s 2ms/step - loss: 0.2931 - accuracy: 0.8628 - val_loss: 0.3248 - val_accuracy: 0.8492\n",
            "Epoch 97/100\n",
            "943/943 [==============================] - 2s 2ms/step - loss: 0.2931 - accuracy: 0.8631 - val_loss: 0.3287 - val_accuracy: 0.8472\n",
            "Epoch 98/100\n",
            "943/943 [==============================] - 2s 2ms/step - loss: 0.2928 - accuracy: 0.8630 - val_loss: 0.3258 - val_accuracy: 0.8493\n",
            "Epoch 99/100\n",
            "943/943 [==============================] - 2s 2ms/step - loss: 0.2925 - accuracy: 0.8622 - val_loss: 0.3281 - val_accuracy: 0.8465\n",
            "Epoch 100/100\n",
            "943/943 [==============================] - 1s 1ms/step - loss: 0.2927 - accuracy: 0.8615 - val_loss: 0.3266 - val_accuracy: 0.8509\n"
          ]
        },
        {
          "output_type": "execute_result",
          "data": {
            "text/plain": [
              "<keras.callbacks.History at 0x7fab7ef51c50>"
            ]
          },
          "metadata": {},
          "execution_count": 7
        }
      ],
      "source": [
        "model.fit(X_train, y_train, validation_data= (X_test, y_test), batch_size=32,epochs=100, callbacks=[history_sgd])"
      ]
    },
    {
      "cell_type": "code",
      "execution_count": 8,
      "metadata": {
        "id": "5Q3ltvpNYwBX",
        "outputId": "1b6ded57-ab57-425d-8249-e864557dab78",
        "colab": {
          "base_uri": "https://localhost:8080/"
        }
      },
      "outputs": [
        {
          "output_type": "execute_result",
          "data": {
            "text/plain": [
              "dict_keys(['loss', 'accuracy', 'val_loss', 'val_accuracy'])"
            ]
          },
          "metadata": {},
          "execution_count": 8
        }
      ],
      "source": [
        "history_sgd.history.keys()"
      ]
    },
    {
      "cell_type": "code",
      "execution_count": 9,
      "metadata": {
        "id": "96DSRrXyYwBY",
        "outputId": "46c41cdb-85b1-4b1c-8960-8107eed69d7b",
        "colab": {
          "base_uri": "https://localhost:8080/",
          "height": 265
        }
      },
      "outputs": [
        {
          "output_type": "display_data",
          "data": {
            "text/plain": [
              "<Figure size 432x288 with 1 Axes>"
            ],
            "image/png": "[encoded data removed]"
          },
          "metadata": {
            "needs_background": "light"
          }
        }
      ],
      "source": [
        "import matplotlib.pyplot as pl\n",
        "plt.plot(history_sgd.history['accuracy'], label = \"tarina\")\n",
        "plt.plot(history_sgd.history['val_accuracy'], label = \"test\")\n",
        "plt.legend()\n",
        "plt.show()"
      ]
    },
    {
      "cell_type": "code",
      "execution_count": 10,
      "metadata": {
        "id": "pFmhvC0BYwBZ",
        "outputId": "b63ab94f-12c3-49a3-8f8b-b0f6afbb5dbc",
        "colab": {
          "base_uri": "https://localhost:8080/",
          "height": 269
        }
      },
      "outputs": [
        {
          "output_type": "display_data",
          "data": {
            "text/plain": [
              "<Figure size 432x288 with 1 Axes>"
            ],
            "image/png": "[encoded data removed]"
          },
          "metadata": {
            "needs_background": "light"
          }
        }
      ],
      "source": [
        "import matplotlib.pyplot as pl\n",
        "plt.plot(history_sgd.history['loss'], label = \"tarina\")\n",
        "plt.plot(history_sgd.history['val_loss'], label = \"test\")\n",
        "plt.legend()\n",
        "plt.show()"
      ]
    },
    {
      "cell_type": "markdown",
      "metadata": {
        "id": "Si_qUT2VYwBa"
      },
      "source": [
        "# RMSprop"
      ]
    },
    {
      "cell_type": "code",
      "execution_count": 11,
      "metadata": {
        "id": "3PynFfw4YwBa",
        "outputId": "985bcb0f-7839-412f-8119-cb3333bfaca3",
        "colab": {
          "base_uri": "https://localhost:8080/"
        }
      },
      "outputs": [
        {
          "output_type": "stream",
          "name": "stdout",
          "text": [
            "Model: \"sequential_1\"\n",
            "_________________________________________________________________\n",
            " Layer (type)                Output Shape              Param #   \n",
            "=================================================================\n",
            " dense_4 (Dense)             (None, 100)               4200      \n",
            "                                                                 \n",
            " dense_5 (Dense)             (None, 50)                5050      \n",
            "                                                                 \n",
            " dense_6 (Dense)             (None, 10)                510       \n",
            "                                                                 \n",
            " dense_7 (Dense)             (None, 1)                 11        \n",
            "                                                                 \n",
            "=================================================================\n",
            "Total params: 9,771\n",
            "Trainable params: 9,771\n",
            "Non-trainable params: 0\n",
            "_________________________________________________________________\n"
          ]
        }
      ],
      "source": [
        "from keras.models import Sequential\n",
        "from keras.layers import Dense\n",
        "\n",
        "from keras.callbacks import History\n",
        "\n",
        "history_sgd = History()\n",
        "model = Sequential()\n",
        "model.add(Dense(100,activation=\"sigmoid\",input_shape=(X_train.shape[1],)))\n",
        "model.add(Dense(50,activation=\"sigmoid\"))\n",
        "model.add(Dense(10,activation=\"sigmoid\"))\n",
        "model.add(Dense(1,activation=\"sigmoid\"))\n",
        "model.summary()"
      ]
    },
    {
      "cell_type": "code",
      "execution_count": 12,
      "metadata": {
        "id": "KuiGGUG7YwBb"
      },
      "outputs": [],
      "source": [
        "sgd = keras.optimizers.RMSprop(learning_rate=0.001, rho=0.9)\n",
        "model.compile(loss=\"binary_crossentropy\",optimizer=sgd, metrics=[\"accuracy\"])"
      ]
    },
    {
      "cell_type": "code",
      "source": [
        "model.fit(X_train, y_train, validation_data= (X_test, y_test), batch_size=32,epochs=100, callbacks=[history_sgd])"
      ],
      "metadata": {
        "id": "o8EU_oUIaRCC",
        "outputId": "98202595-989f-4853-eecb-94e4a401b004",
        "colab": {
          "base_uri": "https://localhost:8080/"
        }
      },
      "execution_count": 13,
      "outputs": [
        {
          "output_type": "stream",
          "name": "stdout",
          "text": [
            "Epoch 1/100\n",
            "943/943 [==============================] - 3s 2ms/step - loss: 0.3870 - accuracy: 0.8254 - val_loss: 0.3467 - val_accuracy: 0.8392\n",
            "Epoch 2/100\n",
            "943/943 [==============================] - 2s 2ms/step - loss: 0.3389 - accuracy: 0.8428 - val_loss: 0.3503 - val_accuracy: 0.8430\n",
            "Epoch 3/100\n",
            "943/943 [==============================] - 2s 2ms/step - loss: 0.3319 - accuracy: 0.8475 - val_loss: 0.3317 - val_accuracy: 0.8469\n",
            "Epoch 4/100\n",
            "943/943 [==============================] - 1s 2ms/step - loss: 0.3286 - accuracy: 0.8467 - val_loss: 0.3286 - val_accuracy: 0.8485\n",
            "Epoch 5/100\n",
            "943/943 [==============================] - 2s 2ms/step - loss: 0.3265 - accuracy: 0.8469 - val_loss: 0.3281 - val_accuracy: 0.8471\n",
            "Epoch 6/100\n",
            "943/943 [==============================] - 2s 2ms/step - loss: 0.3259 - accuracy: 0.8485 - val_loss: 0.3295 - val_accuracy: 0.8471\n",
            "Epoch 7/100\n",
            "943/943 [==============================] - 1s 2ms/step - loss: 0.3247 - accuracy: 0.8483 - val_loss: 0.3288 - val_accuracy: 0.8483\n",
            "Epoch 8/100\n",
            "943/943 [==============================] - 2s 2ms/step - loss: 0.3234 - accuracy: 0.8501 - val_loss: 0.3272 - val_accuracy: 0.8472\n",
            "Epoch 9/100\n",
            "943/943 [==============================] - 2s 2ms/step - loss: 0.3225 - accuracy: 0.8499 - val_loss: 0.3248 - val_accuracy: 0.8499\n",
            "Epoch 10/100\n",
            "943/943 [==============================] - 2s 2ms/step - loss: 0.3218 - accuracy: 0.8502 - val_loss: 0.3243 - val_accuracy: 0.8486\n",
            "Epoch 11/100\n",
            "943/943 [==============================] - 2s 2ms/step - loss: 0.3203 - accuracy: 0.8516 - val_loss: 0.3391 - val_accuracy: 0.8414\n",
            "Epoch 12/100\n",
            "943/943 [==============================] - 2s 2ms/step - loss: 0.3197 - accuracy: 0.8525 - val_loss: 0.3238 - val_accuracy: 0.8495\n",
            "Epoch 13/100\n",
            "943/943 [==============================] - 2s 2ms/step - loss: 0.3184 - accuracy: 0.8525 - val_loss: 0.3374 - val_accuracy: 0.8398\n",
            "Epoch 14/100\n",
            "943/943 [==============================] - 1s 2ms/step - loss: 0.3185 - accuracy: 0.8522 - val_loss: 0.3288 - val_accuracy: 0.8503\n",
            "Epoch 15/100\n",
            "943/943 [==============================] - 2s 2ms/step - loss: 0.3180 - accuracy: 0.8530 - val_loss: 0.3276 - val_accuracy: 0.8489\n",
            "Epoch 16/100\n",
            "943/943 [==============================] - 2s 2ms/step - loss: 0.3179 - accuracy: 0.8523 - val_loss: 0.3256 - val_accuracy: 0.8502\n",
            "Epoch 17/100\n",
            "943/943 [==============================] - 3s 3ms/step - loss: 0.3175 - accuracy: 0.8540 - val_loss: 0.3311 - val_accuracy: 0.8470\n",
            "Epoch 18/100\n",
            "943/943 [==============================] - 1s 2ms/step - loss: 0.3173 - accuracy: 0.8532 - val_loss: 0.3241 - val_accuracy: 0.8502\n",
            "Epoch 19/100\n",
            "943/943 [==============================] - 2s 3ms/step - loss: 0.3168 - accuracy: 0.8550 - val_loss: 0.3311 - val_accuracy: 0.8464\n",
            "Epoch 20/100\n",
            "943/943 [==============================] - 2s 2ms/step - loss: 0.3164 - accuracy: 0.8531 - val_loss: 0.3298 - val_accuracy: 0.8485\n",
            "Epoch 21/100\n",
            "943/943 [==============================] - 3s 3ms/step - loss: 0.3160 - accuracy: 0.8537 - val_loss: 0.3242 - val_accuracy: 0.8504\n",
            "Epoch 22/100\n",
            "943/943 [==============================] - 3s 3ms/step - loss: 0.3155 - accuracy: 0.8530 - val_loss: 0.3233 - val_accuracy: 0.8510\n",
            "Epoch 23/100\n",
            "943/943 [==============================] - 4s 4ms/step - loss: 0.3154 - accuracy: 0.8552 - val_loss: 0.3270 - val_accuracy: 0.8480\n",
            "Epoch 24/100\n",
            "943/943 [==============================] - 2s 2ms/step - loss: 0.3147 - accuracy: 0.8542 - val_loss: 0.3242 - val_accuracy: 0.8498\n",
            "Epoch 25/100\n",
            "943/943 [==============================] - 2s 2ms/step - loss: 0.3140 - accuracy: 0.8544 - val_loss: 0.3245 - val_accuracy: 0.8497\n",
            "Epoch 26/100\n",
            "943/943 [==============================] - 2s 2ms/step - loss: 0.3137 - accuracy: 0.8542 - val_loss: 0.3306 - val_accuracy: 0.8495\n",
            "Epoch 27/100\n",
            "943/943 [==============================] - 2s 2ms/step - loss: 0.3133 - accuracy: 0.8559 - val_loss: 0.3273 - val_accuracy: 0.8483\n",
            "Epoch 28/100\n",
            "943/943 [==============================] - 2s 2ms/step - loss: 0.3129 - accuracy: 0.8548 - val_loss: 0.3236 - val_accuracy: 0.8500\n",
            "Epoch 29/100\n",
            "943/943 [==============================] - 2s 2ms/step - loss: 0.3119 - accuracy: 0.8559 - val_loss: 0.3276 - val_accuracy: 0.8459\n",
            "Epoch 30/100\n",
            "943/943 [==============================] - 2s 2ms/step - loss: 0.3114 - accuracy: 0.8569 - val_loss: 0.3255 - val_accuracy: 0.8499\n",
            "Epoch 31/100\n",
            "943/943 [==============================] - 2s 2ms/step - loss: 0.3117 - accuracy: 0.8567 - val_loss: 0.3244 - val_accuracy: 0.8507\n",
            "Epoch 32/100\n",
            "943/943 [==============================] - 2s 2ms/step - loss: 0.3107 - accuracy: 0.8572 - val_loss: 0.3297 - val_accuracy: 0.8474\n",
            "Epoch 33/100\n",
            "943/943 [==============================] - 1s 2ms/step - loss: 0.3101 - accuracy: 0.8566 - val_loss: 0.3251 - val_accuracy: 0.8495\n",
            "Epoch 34/100\n",
            "943/943 [==============================] - 2s 2ms/step - loss: 0.3099 - accuracy: 0.8576 - val_loss: 0.3288 - val_accuracy: 0.8463\n",
            "Epoch 35/100\n",
            "943/943 [==============================] - 1s 2ms/step - loss: 0.3090 - accuracy: 0.8580 - val_loss: 0.3238 - val_accuracy: 0.8505\n",
            "Epoch 36/100\n",
            "943/943 [==============================] - 1s 2ms/step - loss: 0.3088 - accuracy: 0.8572 - val_loss: 0.3268 - val_accuracy: 0.8508\n",
            "Epoch 37/100\n",
            "943/943 [==============================] - 1s 2ms/step - loss: 0.3080 - accuracy: 0.8583 - val_loss: 0.3262 - val_accuracy: 0.8518\n",
            "Epoch 38/100\n",
            "943/943 [==============================] - 1s 2ms/step - loss: 0.3078 - accuracy: 0.8588 - val_loss: 0.3242 - val_accuracy: 0.8505\n",
            "Epoch 39/100\n",
            "943/943 [==============================] - 2s 2ms/step - loss: 0.3068 - accuracy: 0.8598 - val_loss: 0.3271 - val_accuracy: 0.8515\n",
            "Epoch 40/100\n",
            "943/943 [==============================] - 2s 2ms/step - loss: 0.3066 - accuracy: 0.8593 - val_loss: 0.3306 - val_accuracy: 0.8454\n",
            "Epoch 41/100\n",
            "943/943 [==============================] - 2s 2ms/step - loss: 0.3066 - accuracy: 0.8588 - val_loss: 0.3230 - val_accuracy: 0.8517\n",
            "Epoch 42/100\n",
            "943/943 [==============================] - 2s 2ms/step - loss: 0.3051 - accuracy: 0.8598 - val_loss: 0.3253 - val_accuracy: 0.8513\n",
            "Epoch 43/100\n",
            "943/943 [==============================] - 2s 2ms/step - loss: 0.3054 - accuracy: 0.8597 - val_loss: 0.3250 - val_accuracy: 0.8539\n",
            "Epoch 44/100\n",
            "943/943 [==============================] - 2s 2ms/step - loss: 0.3046 - accuracy: 0.8613 - val_loss: 0.3238 - val_accuracy: 0.8533\n",
            "Epoch 45/100\n",
            "943/943 [==============================] - 1s 2ms/step - loss: 0.3045 - accuracy: 0.8611 - val_loss: 0.3254 - val_accuracy: 0.8533\n",
            "Epoch 46/100\n",
            "943/943 [==============================] - 1s 2ms/step - loss: 0.3037 - accuracy: 0.8605 - val_loss: 0.3274 - val_accuracy: 0.8521\n",
            "Epoch 47/100\n",
            "943/943 [==============================] - 2s 2ms/step - loss: 0.3034 - accuracy: 0.8606 - val_loss: 0.3249 - val_accuracy: 0.8527\n",
            "Epoch 48/100\n",
            "943/943 [==============================] - 2s 2ms/step - loss: 0.3026 - accuracy: 0.8604 - val_loss: 0.3264 - val_accuracy: 0.8530\n",
            "Epoch 49/100\n",
            "943/943 [==============================] - 1s 2ms/step - loss: 0.3027 - accuracy: 0.8616 - val_loss: 0.3267 - val_accuracy: 0.8527\n",
            "Epoch 50/100\n",
            "943/943 [==============================] - 2s 2ms/step - loss: 0.3023 - accuracy: 0.8628 - val_loss: 0.3278 - val_accuracy: 0.8501\n",
            "Epoch 51/100\n",
            "943/943 [==============================] - 2s 2ms/step - loss: 0.3024 - accuracy: 0.8619 - val_loss: 0.3298 - val_accuracy: 0.8463\n",
            "Epoch 52/100\n",
            "943/943 [==============================] - 3s 3ms/step - loss: 0.3018 - accuracy: 0.8630 - val_loss: 0.3233 - val_accuracy: 0.8523\n",
            "Epoch 53/100\n",
            "943/943 [==============================] - 3s 3ms/step - loss: 0.3015 - accuracy: 0.8626 - val_loss: 0.3248 - val_accuracy: 0.8511\n",
            "Epoch 54/100\n",
            "943/943 [==============================] - 2s 3ms/step - loss: 0.3010 - accuracy: 0.8619 - val_loss: 0.3250 - val_accuracy: 0.8521\n",
            "Epoch 55/100\n",
            "943/943 [==============================] - 2s 2ms/step - loss: 0.3010 - accuracy: 0.8618 - val_loss: 0.3265 - val_accuracy: 0.8513\n",
            "Epoch 56/100\n",
            "943/943 [==============================] - 2s 2ms/step - loss: 0.3007 - accuracy: 0.8635 - val_loss: 0.3249 - val_accuracy: 0.8509\n",
            "Epoch 57/100\n",
            "943/943 [==============================] - 2s 2ms/step - loss: 0.3006 - accuracy: 0.8633 - val_loss: 0.3277 - val_accuracy: 0.8525\n",
            "Epoch 58/100\n",
            "943/943 [==============================] - 2s 2ms/step - loss: 0.2997 - accuracy: 0.8625 - val_loss: 0.3295 - val_accuracy: 0.8496\n",
            "Epoch 59/100\n",
            "943/943 [==============================] - 2s 2ms/step - loss: 0.3003 - accuracy: 0.8632 - val_loss: 0.3331 - val_accuracy: 0.8486\n",
            "Epoch 60/100\n",
            "943/943 [==============================] - 2s 2ms/step - loss: 0.2998 - accuracy: 0.8638 - val_loss: 0.3258 - val_accuracy: 0.8505\n",
            "Epoch 61/100\n",
            "943/943 [==============================] - 2s 2ms/step - loss: 0.2995 - accuracy: 0.8635 - val_loss: 0.3245 - val_accuracy: 0.8516\n",
            "Epoch 62/100\n",
            "943/943 [==============================] - 2s 2ms/step - loss: 0.2993 - accuracy: 0.8630 - val_loss: 0.3282 - val_accuracy: 0.8500\n",
            "Epoch 63/100\n",
            "943/943 [==============================] - 2s 2ms/step - loss: 0.2993 - accuracy: 0.8642 - val_loss: 0.3271 - val_accuracy: 0.8489\n",
            "Epoch 64/100\n",
            "943/943 [==============================] - 1s 2ms/step - loss: 0.2985 - accuracy: 0.8645 - val_loss: 0.3294 - val_accuracy: 0.8499\n",
            "Epoch 65/100\n",
            "943/943 [==============================] - 2s 3ms/step - loss: 0.2984 - accuracy: 0.8642 - val_loss: 0.3270 - val_accuracy: 0.8524\n",
            "Epoch 66/100\n",
            "943/943 [==============================] - 2s 2ms/step - loss: 0.2980 - accuracy: 0.8650 - val_loss: 0.3254 - val_accuracy: 0.8511\n",
            "Epoch 67/100\n",
            "943/943 [==============================] - 1s 2ms/step - loss: 0.2973 - accuracy: 0.8652 - val_loss: 0.3269 - val_accuracy: 0.8507\n",
            "Epoch 68/100\n",
            "943/943 [==============================] - 2s 2ms/step - loss: 0.2971 - accuracy: 0.8649 - val_loss: 0.3298 - val_accuracy: 0.8471\n",
            "Epoch 69/100\n",
            "943/943 [==============================] - 2s 2ms/step - loss: 0.2970 - accuracy: 0.8657 - val_loss: 0.3304 - val_accuracy: 0.8506\n",
            "Epoch 70/100\n",
            "943/943 [==============================] - 2s 2ms/step - loss: 0.2962 - accuracy: 0.8641 - val_loss: 0.3312 - val_accuracy: 0.8485\n",
            "Epoch 71/100\n",
            "943/943 [==============================] - 2s 2ms/step - loss: 0.2963 - accuracy: 0.8650 - val_loss: 0.3283 - val_accuracy: 0.8518\n",
            "Epoch 72/100\n",
            "943/943 [==============================] - 3s 3ms/step - loss: 0.2959 - accuracy: 0.8657 - val_loss: 0.3307 - val_accuracy: 0.8512\n",
            "Epoch 73/100\n",
            "943/943 [==============================] - 3s 3ms/step - loss: 0.2957 - accuracy: 0.8646 - val_loss: 0.3284 - val_accuracy: 0.8510\n",
            "Epoch 74/100\n",
            "943/943 [==============================] - 2s 2ms/step - loss: 0.2946 - accuracy: 0.8668 - val_loss: 0.3317 - val_accuracy: 0.8497\n",
            "Epoch 75/100\n",
            "943/943 [==============================] - 1s 2ms/step - loss: 0.2952 - accuracy: 0.8657 - val_loss: 0.3319 - val_accuracy: 0.8509\n",
            "Epoch 76/100\n",
            "943/943 [==============================] - 2s 2ms/step - loss: 0.2950 - accuracy: 0.8661 - val_loss: 0.3305 - val_accuracy: 0.8500\n",
            "Epoch 77/100\n",
            "943/943 [==============================] - 2s 2ms/step - loss: 0.2940 - accuracy: 0.8665 - val_loss: 0.3426 - val_accuracy: 0.8397\n",
            "Epoch 78/100\n",
            "943/943 [==============================] - 2s 2ms/step - loss: 0.2944 - accuracy: 0.8648 - val_loss: 0.3307 - val_accuracy: 0.8500\n",
            "Epoch 79/100\n",
            "943/943 [==============================] - 2s 2ms/step - loss: 0.2942 - accuracy: 0.8656 - val_loss: 0.3330 - val_accuracy: 0.8509\n",
            "Epoch 80/100\n",
            "943/943 [==============================] - 3s 3ms/step - loss: 0.2932 - accuracy: 0.8653 - val_loss: 0.3382 - val_accuracy: 0.8463\n",
            "Epoch 81/100\n",
            "943/943 [==============================] - 3s 3ms/step - loss: 0.2936 - accuracy: 0.8660 - val_loss: 0.3308 - val_accuracy: 0.8481\n",
            "Epoch 82/100\n",
            "943/943 [==============================] - 1s 2ms/step - loss: 0.2931 - accuracy: 0.8657 - val_loss: 0.3352 - val_accuracy: 0.8472\n",
            "Epoch 83/100\n",
            "943/943 [==============================] - 2s 2ms/step - loss: 0.2925 - accuracy: 0.8670 - val_loss: 0.3328 - val_accuracy: 0.8477\n",
            "Epoch 84/100\n",
            "943/943 [==============================] - 3s 3ms/step - loss: 0.2923 - accuracy: 0.8667 - val_loss: 0.3346 - val_accuracy: 0.8475\n",
            "Epoch 85/100\n",
            "943/943 [==============================] - 2s 2ms/step - loss: 0.2921 - accuracy: 0.8675 - val_loss: 0.3347 - val_accuracy: 0.8477\n",
            "Epoch 86/100\n",
            "943/943 [==============================] - 2s 2ms/step - loss: 0.2914 - accuracy: 0.8667 - val_loss: 0.3502 - val_accuracy: 0.8424\n",
            "Epoch 87/100\n",
            "943/943 [==============================] - 2s 2ms/step - loss: 0.2910 - accuracy: 0.8673 - val_loss: 0.3409 - val_accuracy: 0.8477\n",
            "Epoch 88/100\n",
            "943/943 [==============================] - 2s 2ms/step - loss: 0.2909 - accuracy: 0.8662 - val_loss: 0.3358 - val_accuracy: 0.8495\n",
            "Epoch 89/100\n",
            "943/943 [==============================] - 3s 3ms/step - loss: 0.2901 - accuracy: 0.8679 - val_loss: 0.3396 - val_accuracy: 0.8460\n",
            "Epoch 90/100\n",
            "943/943 [==============================] - 2s 2ms/step - loss: 0.2902 - accuracy: 0.8671 - val_loss: 0.3373 - val_accuracy: 0.8489\n",
            "Epoch 91/100\n",
            "943/943 [==============================] - 2s 2ms/step - loss: 0.2898 - accuracy: 0.8672 - val_loss: 0.3416 - val_accuracy: 0.8471\n",
            "Epoch 92/100\n",
            "943/943 [==============================] - 2s 2ms/step - loss: 0.2896 - accuracy: 0.8672 - val_loss: 0.3379 - val_accuracy: 0.8491\n",
            "Epoch 93/100\n",
            "943/943 [==============================] - 2s 2ms/step - loss: 0.2893 - accuracy: 0.8675 - val_loss: 0.3427 - val_accuracy: 0.8462\n",
            "Epoch 94/100\n",
            "943/943 [==============================] - 1s 2ms/step - loss: 0.2888 - accuracy: 0.8688 - val_loss: 0.3466 - val_accuracy: 0.8432\n",
            "Epoch 95/100\n",
            "943/943 [==============================] - 2s 2ms/step - loss: 0.2889 - accuracy: 0.8677 - val_loss: 0.3402 - val_accuracy: 0.8465\n",
            "Epoch 96/100\n",
            "943/943 [==============================] - 2s 2ms/step - loss: 0.2888 - accuracy: 0.8677 - val_loss: 0.3422 - val_accuracy: 0.8466\n",
            "Epoch 97/100\n",
            "943/943 [==============================] - 2s 2ms/step - loss: 0.2880 - accuracy: 0.8693 - val_loss: 0.3454 - val_accuracy: 0.8443\n",
            "Epoch 98/100\n",
            "943/943 [==============================] - 2s 2ms/step - loss: 0.2877 - accuracy: 0.8685 - val_loss: 0.3382 - val_accuracy: 0.8479\n",
            "Epoch 99/100\n",
            "943/943 [==============================] - 2s 2ms/step - loss: 0.2873 - accuracy: 0.8691 - val_loss: 0.3432 - val_accuracy: 0.8486\n",
            "Epoch 100/100\n",
            "943/943 [==============================] - 2s 2ms/step - loss: 0.2864 - accuracy: 0.8697 - val_loss: 0.3462 - val_accuracy: 0.8454\n"
          ]
        },
        {
          "output_type": "execute_result",
          "data": {
            "text/plain": [
              "<keras.callbacks.History at 0x7fab7d854b90>"
            ]
          },
          "metadata": {},
          "execution_count": 13
        }
      ]
    },
    {
      "cell_type": "code",
      "source": [
        "history_sgd.history.keys()"
      ],
      "metadata": {
        "id": "L3TAadjBaVbR",
        "outputId": "9a6bf68e-5854-4a89-cc13-b89ae5cf396f",
        "colab": {
          "base_uri": "https://localhost:8080/"
        }
      },
      "execution_count": 14,
      "outputs": [
        {
          "output_type": "execute_result",
          "data": {
            "text/plain": [
              "dict_keys(['loss', 'accuracy', 'val_loss', 'val_accuracy'])"
            ]
          },
          "metadata": {},
          "execution_count": 14
        }
      ]
    },
    {
      "cell_type": "code",
      "source": [
        "import matplotlib.pyplot as pl\n",
        "plt.plot(history_sgd.history['accuracy'], label = \"tarina\")\n",
        "plt.plot(history_sgd.history['val_accuracy'], label = \"test\")\n",
        "plt.legend()\n",
        "plt.show()"
      ],
      "metadata": {
        "id": "wJP2vbkJaYP1",
        "outputId": "fbf966b3-5863-4825-b6ad-2e74a8f791d3",
        "colab": {
          "base_uri": "https://localhost:8080/",
          "height": 265
        }
      },
      "execution_count": 15,
      "outputs": [
        {
          "output_type": "display_data",
          "data": {
            "text/plain": [
              "<Figure size 432x288 with 1 Axes>"
            ],
            "image/png": "[encoded data removed]"
          },
          "metadata": {
            "needs_background": "light"
          }
        }
      ]
    },
    {
      "cell_type": "code",
      "source": [
        "import matplotlib.pyplot as pl\n",
        "plt.plot(history_sgd.history['loss'], label = \"tarina\")\n",
        "plt.plot(history_sgd.history['val_loss'], label = \"test\")\n",
        "plt.legend()\n",
        "plt.show()"
      ],
      "metadata": {
        "id": "3moVbUgVaahq",
        "outputId": "9a6be368-2b9b-4f4c-de11-23a5087e0c92",
        "colab": {
          "base_uri": "https://localhost:8080/",
          "height": 265
        }
      },
      "execution_count": 16,
      "outputs": [
        {
          "output_type": "display_data",
          "data": {
            "text/plain": [
              "<Figure size 432x288 with 1 Axes>"
            ],
            "image/png": "[encoded data removed]"
          },
          "metadata": {
            "needs_background": "light"
          }
        }
      ]
    },
    {
      "cell_type": "markdown",
      "metadata": {
        "id": "0DoaKULXYwBb"
      },
      "source": [
        "# Adagrad"
      ]
    },
    {
      "cell_type": "code",
      "execution_count": 17,
      "metadata": {
        "id": "a_bez31NYwBc",
        "outputId": "a27e061f-63aa-4d87-f878-07bef9711344",
        "colab": {
          "base_uri": "https://localhost:8080/"
        }
      },
      "outputs": [
        {
          "output_type": "stream",
          "name": "stdout",
          "text": [
            "Model: \"sequential_2\"\n",
            "_________________________________________________________________\n",
            " Layer (type)                Output Shape              Param #   \n",
            "=================================================================\n",
            " dense_8 (Dense)             (None, 100)               4200      \n",
            "                                                                 \n",
            " dense_9 (Dense)             (None, 50)                5050      \n",
            "                                                                 \n",
            " dense_10 (Dense)            (None, 10)                510       \n",
            "                                                                 \n",
            " dense_11 (Dense)            (None, 1)                 11        \n",
            "                                                                 \n",
            "=================================================================\n",
            "Total params: 9,771\n",
            "Trainable params: 9,771\n",
            "Non-trainable params: 0\n",
            "_________________________________________________________________\n"
          ]
        }
      ],
      "source": [
        "from keras.models import Sequential\n",
        "from keras.layers import Dense\n",
        "\n",
        "from keras.callbacks import History\n",
        "\n",
        "history_sgd = History()\n",
        "model = Sequential()\n",
        "model.add(Dense(100,activation=\"sigmoid\",input_shape=(X_train.shape[1],)))\n",
        "model.add(Dense(50,activation=\"sigmoid\"))\n",
        "model.add(Dense(10,activation=\"sigmoid\"))\n",
        "model.add(Dense(1,activation=\"sigmoid\"))\n",
        "model.summary()"
      ]
    },
    {
      "cell_type": "code",
      "execution_count": 18,
      "metadata": {
        "id": "pOQaAmuWYwBc"
      },
      "outputs": [],
      "source": [
        "sgd = Adagrad = keras.optimizers.Adagrad(learning_rate=0.01)\n",
        "model.compile(loss=\"binary_crossentropy\",optimizer=sgd, metrics=[\"accuracy\"])"
      ]
    },
    {
      "cell_type": "code",
      "source": [
        "model.fit(X_train, y_train, validation_data= (X_test, y_test), batch_size=32,epochs=100, callbacks=[history_sgd])"
      ],
      "metadata": {
        "id": "fFK7CwHVanJw",
        "outputId": "6858e1b5-edcb-4678-80e8-8e117c9a6a6d",
        "colab": {
          "base_uri": "https://localhost:8080/"
        }
      },
      "execution_count": 19,
      "outputs": [
        {
          "output_type": "stream",
          "name": "stdout",
          "text": [
            "Epoch 1/100\n",
            "943/943 [==============================] - 3s 3ms/step - loss: 0.5575 - accuracy: 0.7511 - val_loss: 0.5479 - val_accuracy: 0.7543\n",
            "Epoch 2/100\n",
            "943/943 [==============================] - 2s 2ms/step - loss: 0.5416 - accuracy: 0.7511 - val_loss: 0.5257 - val_accuracy: 0.7543\n",
            "Epoch 3/100\n",
            "943/943 [==============================] - 2s 2ms/step - loss: 0.5042 - accuracy: 0.7511 - val_loss: 0.4715 - val_accuracy: 0.7543\n",
            "Epoch 4/100\n",
            "943/943 [==============================] - 2s 2ms/step - loss: 0.4400 - accuracy: 0.7601 - val_loss: 0.4084 - val_accuracy: 0.7897\n",
            "Epoch 5/100\n",
            "943/943 [==============================] - 2s 2ms/step - loss: 0.3913 - accuracy: 0.8156 - val_loss: 0.3757 - val_accuracy: 0.8292\n",
            "Epoch 6/100\n",
            "943/943 [==============================] - 2s 2ms/step - loss: 0.3686 - accuracy: 0.8325 - val_loss: 0.3614 - val_accuracy: 0.8363\n",
            "Epoch 7/100\n",
            "943/943 [==============================] - 1s 1ms/step - loss: 0.3579 - accuracy: 0.8347 - val_loss: 0.3544 - val_accuracy: 0.8380\n",
            "Epoch 8/100\n",
            "943/943 [==============================] - 2s 2ms/step - loss: 0.3522 - accuracy: 0.8361 - val_loss: 0.3505 - val_accuracy: 0.8372\n",
            "Epoch 9/100\n",
            "943/943 [==============================] - 1s 1ms/step - loss: 0.3485 - accuracy: 0.8375 - val_loss: 0.3479 - val_accuracy: 0.8360\n",
            "Epoch 10/100\n",
            "943/943 [==============================] - 1s 1ms/step - loss: 0.3458 - accuracy: 0.8382 - val_loss: 0.3464 - val_accuracy: 0.8406\n",
            "Epoch 11/100\n",
            "943/943 [==============================] - 1s 1ms/step - loss: 0.3439 - accuracy: 0.8398 - val_loss: 0.3442 - val_accuracy: 0.8399\n",
            "Epoch 12/100\n",
            "943/943 [==============================] - 1s 1ms/step - loss: 0.3420 - accuracy: 0.8413 - val_loss: 0.3432 - val_accuracy: 0.8392\n",
            "Epoch 13/100\n",
            "943/943 [==============================] - 2s 2ms/step - loss: 0.3405 - accuracy: 0.8408 - val_loss: 0.3416 - val_accuracy: 0.8411\n",
            "Epoch 14/100\n",
            "943/943 [==============================] - 3s 3ms/step - loss: 0.3391 - accuracy: 0.8423 - val_loss: 0.3407 - val_accuracy: 0.8417\n",
            "Epoch 15/100\n",
            "943/943 [==============================] - 1s 2ms/step - loss: 0.3379 - accuracy: 0.8422 - val_loss: 0.3395 - val_accuracy: 0.8427\n",
            "Epoch 16/100\n",
            "943/943 [==============================] - 2s 2ms/step - loss: 0.3369 - accuracy: 0.8433 - val_loss: 0.3387 - val_accuracy: 0.8424\n",
            "Epoch 17/100\n",
            "943/943 [==============================] - 3s 3ms/step - loss: 0.3358 - accuracy: 0.8434 - val_loss: 0.3378 - val_accuracy: 0.8443\n",
            "Epoch 18/100\n",
            "943/943 [==============================] - 4s 4ms/step - loss: 0.3350 - accuracy: 0.8434 - val_loss: 0.3370 - val_accuracy: 0.8448\n",
            "Epoch 19/100\n",
            "943/943 [==============================] - 3s 3ms/step - loss: 0.3341 - accuracy: 0.8437 - val_loss: 0.3373 - val_accuracy: 0.8426\n",
            "Epoch 20/100\n",
            "943/943 [==============================] - 3s 3ms/step - loss: 0.3335 - accuracy: 0.8445 - val_loss: 0.3358 - val_accuracy: 0.8450\n",
            "Epoch 21/100\n",
            "943/943 [==============================] - 2s 2ms/step - loss: 0.3326 - accuracy: 0.8444 - val_loss: 0.3363 - val_accuracy: 0.8452\n",
            "Epoch 22/100\n",
            "943/943 [==============================] - 2s 2ms/step - loss: 0.3321 - accuracy: 0.8452 - val_loss: 0.3347 - val_accuracy: 0.8458\n",
            "Epoch 23/100\n",
            "943/943 [==============================] - 2s 2ms/step - loss: 0.3315 - accuracy: 0.8445 - val_loss: 0.3353 - val_accuracy: 0.8455\n",
            "Epoch 24/100\n",
            "943/943 [==============================] - 1s 2ms/step - loss: 0.3311 - accuracy: 0.8462 - val_loss: 0.3341 - val_accuracy: 0.8448\n",
            "Epoch 25/100\n",
            "943/943 [==============================] - 2s 2ms/step - loss: 0.3307 - accuracy: 0.8454 - val_loss: 0.3333 - val_accuracy: 0.8460\n",
            "Epoch 26/100\n",
            "943/943 [==============================] - 2s 3ms/step - loss: 0.3302 - accuracy: 0.8459 - val_loss: 0.3330 - val_accuracy: 0.8455\n",
            "Epoch 27/100\n",
            "943/943 [==============================] - 2s 2ms/step - loss: 0.3298 - accuracy: 0.8461 - val_loss: 0.3332 - val_accuracy: 0.8451\n",
            "Epoch 28/100\n",
            "943/943 [==============================] - 3s 3ms/step - loss: 0.3294 - accuracy: 0.8467 - val_loss: 0.3327 - val_accuracy: 0.8462\n",
            "Epoch 29/100\n",
            "943/943 [==============================] - 2s 2ms/step - loss: 0.3291 - accuracy: 0.8466 - val_loss: 0.3326 - val_accuracy: 0.8453\n",
            "Epoch 30/100\n",
            "943/943 [==============================] - 2s 2ms/step - loss: 0.3288 - accuracy: 0.8467 - val_loss: 0.3319 - val_accuracy: 0.8459\n",
            "Epoch 31/100\n",
            "943/943 [==============================] - 1s 2ms/step - loss: 0.3285 - accuracy: 0.8466 - val_loss: 0.3318 - val_accuracy: 0.8459\n",
            "Epoch 32/100\n",
            "943/943 [==============================] - 1s 2ms/step - loss: 0.3283 - accuracy: 0.8469 - val_loss: 0.3316 - val_accuracy: 0.8458\n",
            "Epoch 33/100\n",
            "943/943 [==============================] - 1s 1ms/step - loss: 0.3281 - accuracy: 0.8467 - val_loss: 0.3314 - val_accuracy: 0.8458\n",
            "Epoch 34/100\n",
            "943/943 [==============================] - 2s 2ms/step - loss: 0.3278 - accuracy: 0.8478 - val_loss: 0.3310 - val_accuracy: 0.8471\n",
            "Epoch 35/100\n",
            "943/943 [==============================] - 1s 2ms/step - loss: 0.3276 - accuracy: 0.8476 - val_loss: 0.3310 - val_accuracy: 0.8465\n",
            "Epoch 36/100\n",
            "943/943 [==============================] - 2s 2ms/step - loss: 0.3274 - accuracy: 0.8475 - val_loss: 0.3307 - val_accuracy: 0.8469\n",
            "Epoch 37/100\n",
            "943/943 [==============================] - 1s 2ms/step - loss: 0.3272 - accuracy: 0.8478 - val_loss: 0.3307 - val_accuracy: 0.8462\n",
            "Epoch 38/100\n",
            "943/943 [==============================] - 2s 2ms/step - loss: 0.3271 - accuracy: 0.8467 - val_loss: 0.3307 - val_accuracy: 0.8463\n",
            "Epoch 39/100\n",
            "943/943 [==============================] - 2s 2ms/step - loss: 0.3269 - accuracy: 0.8481 - val_loss: 0.3302 - val_accuracy: 0.8474\n",
            "Epoch 40/100\n",
            "943/943 [==============================] - 2s 2ms/step - loss: 0.3267 - accuracy: 0.8484 - val_loss: 0.3306 - val_accuracy: 0.8466\n",
            "Epoch 41/100\n",
            "943/943 [==============================] - 1s 2ms/step - loss: 0.3266 - accuracy: 0.8481 - val_loss: 0.3301 - val_accuracy: 0.8467\n",
            "Epoch 42/100\n",
            "943/943 [==============================] - 1s 2ms/step - loss: 0.3264 - accuracy: 0.8477 - val_loss: 0.3301 - val_accuracy: 0.8462\n",
            "Epoch 43/100\n",
            "943/943 [==============================] - 1s 2ms/step - loss: 0.3263 - accuracy: 0.8485 - val_loss: 0.3298 - val_accuracy: 0.8472\n",
            "Epoch 44/100\n",
            "943/943 [==============================] - 2s 2ms/step - loss: 0.3261 - accuracy: 0.8482 - val_loss: 0.3297 - val_accuracy: 0.8476\n",
            "Epoch 45/100\n",
            "943/943 [==============================] - 2s 2ms/step - loss: 0.3261 - accuracy: 0.8487 - val_loss: 0.3296 - val_accuracy: 0.8475\n",
            "Epoch 46/100\n",
            "943/943 [==============================] - 1s 2ms/step - loss: 0.3259 - accuracy: 0.8482 - val_loss: 0.3295 - val_accuracy: 0.8479\n",
            "Epoch 47/100\n",
            "943/943 [==============================] - 2s 2ms/step - loss: 0.3257 - accuracy: 0.8487 - val_loss: 0.3293 - val_accuracy: 0.8479\n",
            "Epoch 48/100\n",
            "943/943 [==============================] - 1s 2ms/step - loss: 0.3255 - accuracy: 0.8489 - val_loss: 0.3296 - val_accuracy: 0.8472\n",
            "Epoch 49/100\n",
            "943/943 [==============================] - 2s 2ms/step - loss: 0.3256 - accuracy: 0.8486 - val_loss: 0.3293 - val_accuracy: 0.8474\n",
            "Epoch 50/100\n",
            "943/943 [==============================] - 2s 2ms/step - loss: 0.3254 - accuracy: 0.8486 - val_loss: 0.3293 - val_accuracy: 0.8465\n",
            "Epoch 51/100\n",
            "943/943 [==============================] - 1s 2ms/step - loss: 0.3253 - accuracy: 0.8491 - val_loss: 0.3294 - val_accuracy: 0.8472\n",
            "Epoch 52/100\n",
            "943/943 [==============================] - 1s 2ms/step - loss: 0.3253 - accuracy: 0.8488 - val_loss: 0.3291 - val_accuracy: 0.8479\n",
            "Epoch 53/100\n",
            "943/943 [==============================] - 2s 2ms/step - loss: 0.3251 - accuracy: 0.8482 - val_loss: 0.3288 - val_accuracy: 0.8477\n",
            "Epoch 54/100\n",
            "943/943 [==============================] - 1s 2ms/step - loss: 0.3250 - accuracy: 0.8493 - val_loss: 0.3290 - val_accuracy: 0.8477\n",
            "Epoch 55/100\n",
            "943/943 [==============================] - 1s 2ms/step - loss: 0.3249 - accuracy: 0.8496 - val_loss: 0.3288 - val_accuracy: 0.8481\n",
            "Epoch 56/100\n",
            "943/943 [==============================] - 1s 2ms/step - loss: 0.3248 - accuracy: 0.8491 - val_loss: 0.3287 - val_accuracy: 0.8467\n",
            "Epoch 57/100\n",
            "943/943 [==============================] - 2s 2ms/step - loss: 0.3247 - accuracy: 0.8487 - val_loss: 0.3285 - val_accuracy: 0.8469\n",
            "Epoch 58/100\n",
            "943/943 [==============================] - 2s 2ms/step - loss: 0.3246 - accuracy: 0.8488 - val_loss: 0.3284 - val_accuracy: 0.8479\n",
            "Epoch 59/100\n",
            "943/943 [==============================] - 2s 2ms/step - loss: 0.3245 - accuracy: 0.8491 - val_loss: 0.3283 - val_accuracy: 0.8481\n",
            "Epoch 60/100\n",
            "943/943 [==============================] - 1s 2ms/step - loss: 0.3244 - accuracy: 0.8490 - val_loss: 0.3282 - val_accuracy: 0.8481\n",
            "Epoch 61/100\n",
            "943/943 [==============================] - 1s 2ms/step - loss: 0.3241 - accuracy: 0.8492 - val_loss: 0.3285 - val_accuracy: 0.8479\n",
            "Epoch 62/100\n",
            "943/943 [==============================] - 1s 1ms/step - loss: 0.3242 - accuracy: 0.8495 - val_loss: 0.3282 - val_accuracy: 0.8484\n",
            "Epoch 63/100\n",
            "943/943 [==============================] - 1s 2ms/step - loss: 0.3241 - accuracy: 0.8485 - val_loss: 0.3281 - val_accuracy: 0.8483\n",
            "Epoch 64/100\n",
            "943/943 [==============================] - 1s 2ms/step - loss: 0.3240 - accuracy: 0.8492 - val_loss: 0.3285 - val_accuracy: 0.8480\n",
            "Epoch 65/100\n",
            "943/943 [==============================] - 1s 2ms/step - loss: 0.3239 - accuracy: 0.8495 - val_loss: 0.3280 - val_accuracy: 0.8482\n",
            "Epoch 66/100\n",
            "943/943 [==============================] - 1s 2ms/step - loss: 0.3238 - accuracy: 0.8495 - val_loss: 0.3279 - val_accuracy: 0.8481\n",
            "Epoch 67/100\n",
            "943/943 [==============================] - 2s 2ms/step - loss: 0.3237 - accuracy: 0.8490 - val_loss: 0.3279 - val_accuracy: 0.8486\n",
            "Epoch 68/100\n",
            "943/943 [==============================] - 2s 2ms/step - loss: 0.3237 - accuracy: 0.8493 - val_loss: 0.3277 - val_accuracy: 0.8483\n",
            "Epoch 69/100\n",
            "943/943 [==============================] - 1s 2ms/step - loss: 0.3236 - accuracy: 0.8493 - val_loss: 0.3276 - val_accuracy: 0.8482\n",
            "Epoch 70/100\n",
            "943/943 [==============================] - 2s 2ms/step - loss: 0.3235 - accuracy: 0.8492 - val_loss: 0.3276 - val_accuracy: 0.8482\n",
            "Epoch 71/100\n",
            "943/943 [==============================] - 1s 2ms/step - loss: 0.3234 - accuracy: 0.8491 - val_loss: 0.3275 - val_accuracy: 0.8481\n",
            "Epoch 72/100\n",
            "943/943 [==============================] - 2s 2ms/step - loss: 0.3233 - accuracy: 0.8494 - val_loss: 0.3277 - val_accuracy: 0.8486\n",
            "Epoch 73/100\n",
            "943/943 [==============================] - 2s 2ms/step - loss: 0.3232 - accuracy: 0.8500 - val_loss: 0.3274 - val_accuracy: 0.8478\n",
            "Epoch 74/100\n",
            "943/943 [==============================] - 1s 2ms/step - loss: 0.3231 - accuracy: 0.8496 - val_loss: 0.3273 - val_accuracy: 0.8479\n",
            "Epoch 75/100\n",
            "943/943 [==============================] - 2s 2ms/step - loss: 0.3230 - accuracy: 0.8500 - val_loss: 0.3273 - val_accuracy: 0.8482\n",
            "Epoch 76/100\n",
            "943/943 [==============================] - 2s 2ms/step - loss: 0.3230 - accuracy: 0.8493 - val_loss: 0.3272 - val_accuracy: 0.8480\n",
            "Epoch 77/100\n",
            "943/943 [==============================] - 2s 2ms/step - loss: 0.3227 - accuracy: 0.8489 - val_loss: 0.3272 - val_accuracy: 0.8475\n",
            "Epoch 78/100\n",
            "943/943 [==============================] - 2s 2ms/step - loss: 0.3228 - accuracy: 0.8495 - val_loss: 0.3275 - val_accuracy: 0.8479\n",
            "Epoch 79/100\n",
            "943/943 [==============================] - 2s 2ms/step - loss: 0.3227 - accuracy: 0.8495 - val_loss: 0.3273 - val_accuracy: 0.8483\n",
            "Epoch 80/100\n",
            "943/943 [==============================] - 2s 2ms/step - loss: 0.3226 - accuracy: 0.8494 - val_loss: 0.3275 - val_accuracy: 0.8477\n",
            "Epoch 81/100\n",
            "943/943 [==============================] - 2s 2ms/step - loss: 0.3226 - accuracy: 0.8499 - val_loss: 0.3270 - val_accuracy: 0.8479\n",
            "Epoch 82/100\n",
            "943/943 [==============================] - 2s 2ms/step - loss: 0.3225 - accuracy: 0.8493 - val_loss: 0.3269 - val_accuracy: 0.8484\n",
            "Epoch 83/100\n",
            "943/943 [==============================] - 2s 2ms/step - loss: 0.3225 - accuracy: 0.8498 - val_loss: 0.3267 - val_accuracy: 0.8479\n",
            "Epoch 84/100\n",
            "943/943 [==============================] - 2s 2ms/step - loss: 0.3224 - accuracy: 0.8497 - val_loss: 0.3267 - val_accuracy: 0.8479\n",
            "Epoch 85/100\n",
            "943/943 [==============================] - 2s 2ms/step - loss: 0.3223 - accuracy: 0.8498 - val_loss: 0.3266 - val_accuracy: 0.8480\n",
            "Epoch 86/100\n",
            "943/943 [==============================] - 2s 2ms/step - loss: 0.3221 - accuracy: 0.8493 - val_loss: 0.3266 - val_accuracy: 0.8485\n",
            "Epoch 87/100\n",
            "943/943 [==============================] - 2s 2ms/step - loss: 0.3221 - accuracy: 0.8493 - val_loss: 0.3267 - val_accuracy: 0.8483\n",
            "Epoch 88/100\n",
            "943/943 [==============================] - 2s 2ms/step - loss: 0.3220 - accuracy: 0.8493 - val_loss: 0.3268 - val_accuracy: 0.8478\n",
            "Epoch 89/100\n",
            "943/943 [==============================] - 1s 2ms/step - loss: 0.3220 - accuracy: 0.8498 - val_loss: 0.3265 - val_accuracy: 0.8484\n",
            "Epoch 90/100\n",
            "943/943 [==============================] - 2s 2ms/step - loss: 0.3219 - accuracy: 0.8502 - val_loss: 0.3264 - val_accuracy: 0.8485\n",
            "Epoch 91/100\n",
            "943/943 [==============================] - 2s 2ms/step - loss: 0.3217 - accuracy: 0.8504 - val_loss: 0.3268 - val_accuracy: 0.8477\n",
            "Epoch 92/100\n",
            "943/943 [==============================] - 2s 2ms/step - loss: 0.3218 - accuracy: 0.8496 - val_loss: 0.3262 - val_accuracy: 0.8483\n",
            "Epoch 93/100\n",
            "943/943 [==============================] - 2s 2ms/step - loss: 0.3217 - accuracy: 0.8505 - val_loss: 0.3271 - val_accuracy: 0.8475\n",
            "Epoch 94/100\n",
            "943/943 [==============================] - 2s 2ms/step - loss: 0.3216 - accuracy: 0.8502 - val_loss: 0.3262 - val_accuracy: 0.8475\n",
            "Epoch 95/100\n",
            "943/943 [==============================] - 2s 2ms/step - loss: 0.3216 - accuracy: 0.8501 - val_loss: 0.3264 - val_accuracy: 0.8480\n",
            "Epoch 96/100\n",
            "943/943 [==============================] - 2s 2ms/step - loss: 0.3215 - accuracy: 0.8492 - val_loss: 0.3262 - val_accuracy: 0.8485\n",
            "Epoch 97/100\n",
            "943/943 [==============================] - 2s 2ms/step - loss: 0.3214 - accuracy: 0.8505 - val_loss: 0.3260 - val_accuracy: 0.8480\n",
            "Epoch 98/100\n",
            "943/943 [==============================] - 2s 2ms/step - loss: 0.3213 - accuracy: 0.8499 - val_loss: 0.3260 - val_accuracy: 0.8477\n",
            "Epoch 99/100\n",
            "943/943 [==============================] - 2s 2ms/step - loss: 0.3213 - accuracy: 0.8496 - val_loss: 0.3258 - val_accuracy: 0.8481\n",
            "Epoch 100/100\n",
            "943/943 [==============================] - 1s 2ms/step - loss: 0.3212 - accuracy: 0.8500 - val_loss: 0.3261 - val_accuracy: 0.8481\n"
          ]
        },
        {
          "output_type": "execute_result",
          "data": {
            "text/plain": [
              "<keras.callbacks.History at 0x7fab793a4bd0>"
            ]
          },
          "metadata": {},
          "execution_count": 19
        }
      ]
    },
    {
      "cell_type": "code",
      "source": [
        "history_sgd.history.keys()"
      ],
      "metadata": {
        "id": "swZrJzHlapmU",
        "outputId": "f35fa3b9-320e-4a53-c856-428b07bee4e4",
        "colab": {
          "base_uri": "https://localhost:8080/"
        }
      },
      "execution_count": 20,
      "outputs": [
        {
          "output_type": "execute_result",
          "data": {
            "text/plain": [
              "dict_keys(['loss', 'accuracy', 'val_loss', 'val_accuracy'])"
            ]
          },
          "metadata": {},
          "execution_count": 20
        }
      ]
    },
    {
      "cell_type": "code",
      "source": [
        "import matplotlib.pyplot as pl\n",
        "plt.plot(history_sgd.history['accuracy'], label = \"tarina\")\n",
        "plt.plot(history_sgd.history['val_accuracy'], label = \"test\")\n",
        "plt.legend()\n",
        "plt.show()"
      ],
      "metadata": {
        "id": "FSsZsaHbarOJ",
        "outputId": "88bfa8b3-1ee4-4e33-a0ab-3a743bc19cad",
        "colab": {
          "base_uri": "https://localhost:8080/",
          "height": 265
        }
      },
      "execution_count": 21,
      "outputs": [
        {
          "output_type": "display_data",
          "data": {
            "text/plain": [
              "<Figure size 432x288 with 1 Axes>"
            ],
            "image/png": "[encoded data removed]"
          },
          "metadata": {
            "needs_background": "light"
          }
        }
      ]
    },
    {
      "cell_type": "code",
      "source": [
        "import matplotlib.pyplot as pl\n",
        "plt.plot(history_sgd.history['loss'], label = \"tarina\")\n",
        "plt.plot(history_sgd.history['val_loss'], label = \"test\")\n",
        "plt.legend()\n",
        "plt.show()"
      ],
      "metadata": {
        "id": "iyJu-m1tasw5",
        "outputId": "e833b397-bac1-4ffc-c559-521c5ff1b06c",
        "colab": {
          "base_uri": "https://localhost:8080/",
          "height": 265
        }
      },
      "execution_count": 22,
      "outputs": [
        {
          "output_type": "display_data",
          "data": {
            "text/plain": [
              "<Figure size 432x288 with 1 Axes>"
            ],
            "image/png": "[encoded data removed]"
          },
          "metadata": {
            "needs_background": "light"
          }
        }
      ]
    },
    {
      "cell_type": "markdown",
      "metadata": {
        "id": "F96MeuuqYwBc"
      },
      "source": [
        "# Adadelta"
      ]
    },
    {
      "cell_type": "code",
      "execution_count": 23,
      "metadata": {
        "id": "WA5FzS8nYwBd",
        "outputId": "1411c164-e031-4022-9b53-128c62cb8113",
        "colab": {
          "base_uri": "https://localhost:8080/"
        }
      },
      "outputs": [
        {
          "output_type": "stream",
          "name": "stdout",
          "text": [
            "Model: \"sequential_3\"\n",
            "_________________________________________________________________\n",
            " Layer (type)                Output Shape              Param #   \n",
            "=================================================================\n",
            " dense_12 (Dense)            (None, 100)               4200      \n",
            "                                                                 \n",
            " dense_13 (Dense)            (None, 50)                5050      \n",
            "                                                                 \n",
            " dense_14 (Dense)            (None, 10)                510       \n",
            "                                                                 \n",
            " dense_15 (Dense)            (None, 1)                 11        \n",
            "                                                                 \n",
            "=================================================================\n",
            "Total params: 9,771\n",
            "Trainable params: 9,771\n",
            "Non-trainable params: 0\n",
            "_________________________________________________________________\n"
          ]
        }
      ],
      "source": [
        "from keras.models import Sequential\n",
        "from keras.layers import Dense\n",
        "\n",
        "from keras.callbacks import History\n",
        "\n",
        "history_sgd = History()\n",
        "model = Sequential()\n",
        "model.add(Dense(100,activation=\"sigmoid\",input_shape=(X_train.shape[1],)))\n",
        "model.add(Dense(50,activation=\"sigmoid\"))\n",
        "model.add(Dense(10,activation=\"sigmoid\"))\n",
        "model.add(Dense(1,activation=\"sigmoid\"))\n",
        "model.summary()"
      ]
    },
    {
      "cell_type": "code",
      "execution_count": 24,
      "metadata": {
        "id": "-TQ2rtBaYwBd"
      },
      "outputs": [],
      "source": [
        "sgd = keras.optimizers.Adadelta(learning_rate=1.0, rho=0.95)\n",
        "model.compile(loss=\"binary_crossentropy\",optimizer=sgd, metrics=[\"accuracy\"])"
      ]
    },
    {
      "cell_type": "code",
      "source": [
        "model.fit(X_train, y_train, validation_data= (X_test, y_test), batch_size=32,epochs=100, callbacks=[history_sgd])"
      ],
      "metadata": {
        "id": "7h34-cL7a4z3",
        "outputId": "fa607a82-2bf6-4660-f053-11729a8d6247",
        "colab": {
          "base_uri": "https://localhost:8080/"
        }
      },
      "execution_count": 25,
      "outputs": [
        {
          "output_type": "stream",
          "name": "stdout",
          "text": [
            "Epoch 1/100\n",
            "943/943 [==============================] - 2s 2ms/step - loss: 0.3923 - accuracy: 0.8183 - val_loss: 0.3450 - val_accuracy: 0.8376\n",
            "Epoch 2/100\n",
            "943/943 [==============================] - 2s 2ms/step - loss: 0.3390 - accuracy: 0.8420 - val_loss: 0.3373 - val_accuracy: 0.8420\n",
            "Epoch 3/100\n",
            "943/943 [==============================] - 2s 2ms/step - loss: 0.3330 - accuracy: 0.8450 - val_loss: 0.3316 - val_accuracy: 0.8459\n",
            "Epoch 4/100\n",
            "943/943 [==============================] - 2s 2ms/step - loss: 0.3294 - accuracy: 0.8473 - val_loss: 0.3297 - val_accuracy: 0.8464\n",
            "Epoch 5/100\n",
            "943/943 [==============================] - 2s 2ms/step - loss: 0.3266 - accuracy: 0.8477 - val_loss: 0.3278 - val_accuracy: 0.8483\n",
            "Epoch 6/100\n",
            "943/943 [==============================] - 2s 2ms/step - loss: 0.3248 - accuracy: 0.8487 - val_loss: 0.3280 - val_accuracy: 0.8465\n",
            "Epoch 7/100\n",
            "943/943 [==============================] - 1s 2ms/step - loss: 0.3231 - accuracy: 0.8483 - val_loss: 0.3253 - val_accuracy: 0.8501\n",
            "Epoch 8/100\n",
            "943/943 [==============================] - 1s 2ms/step - loss: 0.3216 - accuracy: 0.8494 - val_loss: 0.3282 - val_accuracy: 0.8489\n",
            "Epoch 9/100\n",
            "943/943 [==============================] - 2s 2ms/step - loss: 0.3213 - accuracy: 0.8493 - val_loss: 0.3255 - val_accuracy: 0.8485\n",
            "Epoch 10/100\n",
            "943/943 [==============================] - 1s 2ms/step - loss: 0.3203 - accuracy: 0.8500 - val_loss: 0.3231 - val_accuracy: 0.8488\n",
            "Epoch 11/100\n",
            "943/943 [==============================] - 2s 2ms/step - loss: 0.3188 - accuracy: 0.8509 - val_loss: 0.3223 - val_accuracy: 0.8497\n",
            "Epoch 12/100\n",
            "943/943 [==============================] - 2s 2ms/step - loss: 0.3180 - accuracy: 0.8503 - val_loss: 0.3213 - val_accuracy: 0.8501\n",
            "Epoch 13/100\n",
            "943/943 [==============================] - 1s 2ms/step - loss: 0.3173 - accuracy: 0.8520 - val_loss: 0.3225 - val_accuracy: 0.8488\n",
            "Epoch 14/100\n",
            "943/943 [==============================] - 2s 2ms/step - loss: 0.3164 - accuracy: 0.8519 - val_loss: 0.3226 - val_accuracy: 0.8501\n",
            "Epoch 15/100\n",
            "943/943 [==============================] - 2s 2ms/step - loss: 0.3152 - accuracy: 0.8532 - val_loss: 0.3245 - val_accuracy: 0.8469\n",
            "Epoch 16/100\n",
            "943/943 [==============================] - 2s 2ms/step - loss: 0.3147 - accuracy: 0.8527 - val_loss: 0.3239 - val_accuracy: 0.8483\n",
            "Epoch 17/100\n",
            "943/943 [==============================] - 2s 2ms/step - loss: 0.3142 - accuracy: 0.8533 - val_loss: 0.3198 - val_accuracy: 0.8506\n",
            "Epoch 18/100\n",
            "943/943 [==============================] - 2s 2ms/step - loss: 0.3140 - accuracy: 0.8525 - val_loss: 0.3196 - val_accuracy: 0.8503\n",
            "Epoch 19/100\n",
            "943/943 [==============================] - 2s 2ms/step - loss: 0.3131 - accuracy: 0.8538 - val_loss: 0.3197 - val_accuracy: 0.8508\n",
            "Epoch 20/100\n",
            "943/943 [==============================] - 1s 2ms/step - loss: 0.3125 - accuracy: 0.8539 - val_loss: 0.3225 - val_accuracy: 0.8492\n",
            "Epoch 21/100\n",
            "943/943 [==============================] - 2s 2ms/step - loss: 0.3122 - accuracy: 0.8546 - val_loss: 0.3223 - val_accuracy: 0.8484\n",
            "Epoch 22/100\n",
            "943/943 [==============================] - 2s 2ms/step - loss: 0.3115 - accuracy: 0.8543 - val_loss: 0.3201 - val_accuracy: 0.8501\n",
            "Epoch 23/100\n",
            "943/943 [==============================] - 2s 2ms/step - loss: 0.3111 - accuracy: 0.8558 - val_loss: 0.3211 - val_accuracy: 0.8495\n",
            "Epoch 24/100\n",
            "943/943 [==============================] - 2s 2ms/step - loss: 0.3109 - accuracy: 0.8559 - val_loss: 0.3240 - val_accuracy: 0.8488\n",
            "Epoch 25/100\n",
            "943/943 [==============================] - 1s 2ms/step - loss: 0.3106 - accuracy: 0.8549 - val_loss: 0.3188 - val_accuracy: 0.8513\n",
            "Epoch 26/100\n",
            "943/943 [==============================] - 2s 2ms/step - loss: 0.3100 - accuracy: 0.8548 - val_loss: 0.3188 - val_accuracy: 0.8523\n",
            "Epoch 27/100\n",
            "943/943 [==============================] - 2s 2ms/step - loss: 0.3095 - accuracy: 0.8555 - val_loss: 0.3191 - val_accuracy: 0.8497\n",
            "Epoch 28/100\n",
            "943/943 [==============================] - 2s 2ms/step - loss: 0.3088 - accuracy: 0.8559 - val_loss: 0.3196 - val_accuracy: 0.8518\n",
            "Epoch 29/100\n",
            "943/943 [==============================] - 2s 2ms/step - loss: 0.3089 - accuracy: 0.8561 - val_loss: 0.3208 - val_accuracy: 0.8507\n",
            "Epoch 30/100\n",
            "943/943 [==============================] - 2s 2ms/step - loss: 0.3082 - accuracy: 0.8567 - val_loss: 0.3197 - val_accuracy: 0.8517\n",
            "Epoch 31/100\n",
            "943/943 [==============================] - 1s 2ms/step - loss: 0.3079 - accuracy: 0.8563 - val_loss: 0.3184 - val_accuracy: 0.8515\n",
            "Epoch 32/100\n",
            "943/943 [==============================] - 2s 2ms/step - loss: 0.3071 - accuracy: 0.8567 - val_loss: 0.3209 - val_accuracy: 0.8499\n",
            "Epoch 33/100\n",
            "943/943 [==============================] - 1s 2ms/step - loss: 0.3068 - accuracy: 0.8568 - val_loss: 0.3262 - val_accuracy: 0.8459\n",
            "Epoch 34/100\n",
            "943/943 [==============================] - 2s 2ms/step - loss: 0.3065 - accuracy: 0.8555 - val_loss: 0.3206 - val_accuracy: 0.8486\n",
            "Epoch 35/100\n",
            "943/943 [==============================] - 1s 2ms/step - loss: 0.3062 - accuracy: 0.8562 - val_loss: 0.3194 - val_accuracy: 0.8519\n",
            "Epoch 36/100\n",
            "943/943 [==============================] - 1s 2ms/step - loss: 0.3057 - accuracy: 0.8568 - val_loss: 0.3202 - val_accuracy: 0.8503\n",
            "Epoch 37/100\n",
            "943/943 [==============================] - 2s 2ms/step - loss: 0.3053 - accuracy: 0.8582 - val_loss: 0.3202 - val_accuracy: 0.8501\n",
            "Epoch 38/100\n",
            "943/943 [==============================] - 2s 2ms/step - loss: 0.3049 - accuracy: 0.8568 - val_loss: 0.3252 - val_accuracy: 0.8456\n",
            "Epoch 39/100\n",
            "943/943 [==============================] - 1s 2ms/step - loss: 0.3048 - accuracy: 0.8567 - val_loss: 0.3194 - val_accuracy: 0.8511\n",
            "Epoch 40/100\n",
            "943/943 [==============================] - 2s 2ms/step - loss: 0.3043 - accuracy: 0.8571 - val_loss: 0.3207 - val_accuracy: 0.8486\n",
            "Epoch 41/100\n",
            "943/943 [==============================] - 1s 2ms/step - loss: 0.3037 - accuracy: 0.8572 - val_loss: 0.3200 - val_accuracy: 0.8520\n",
            "Epoch 42/100\n",
            "943/943 [==============================] - 2s 2ms/step - loss: 0.3037 - accuracy: 0.8579 - val_loss: 0.3191 - val_accuracy: 0.8507\n",
            "Epoch 43/100\n",
            "943/943 [==============================] - 1s 2ms/step - loss: 0.3029 - accuracy: 0.8596 - val_loss: 0.3193 - val_accuracy: 0.8521\n",
            "Epoch 44/100\n",
            "943/943 [==============================] - 2s 2ms/step - loss: 0.3022 - accuracy: 0.8595 - val_loss: 0.3184 - val_accuracy: 0.8513\n",
            "Epoch 45/100\n",
            "943/943 [==============================] - 2s 2ms/step - loss: 0.3025 - accuracy: 0.8595 - val_loss: 0.3224 - val_accuracy: 0.8509\n",
            "Epoch 46/100\n",
            "943/943 [==============================] - 2s 2ms/step - loss: 0.3012 - accuracy: 0.8603 - val_loss: 0.3199 - val_accuracy: 0.8511\n",
            "Epoch 47/100\n",
            "943/943 [==============================] - 2s 2ms/step - loss: 0.3010 - accuracy: 0.8584 - val_loss: 0.3202 - val_accuracy: 0.8499\n",
            "Epoch 48/100\n",
            "943/943 [==============================] - 2s 2ms/step - loss: 0.3009 - accuracy: 0.8598 - val_loss: 0.3197 - val_accuracy: 0.8507\n",
            "Epoch 49/100\n",
            "943/943 [==============================] - 2s 2ms/step - loss: 0.3007 - accuracy: 0.8602 - val_loss: 0.3232 - val_accuracy: 0.8481\n",
            "Epoch 50/100\n",
            "943/943 [==============================] - 2s 2ms/step - loss: 0.2999 - accuracy: 0.8599 - val_loss: 0.3198 - val_accuracy: 0.8507\n",
            "Epoch 51/100\n",
            "943/943 [==============================] - 2s 2ms/step - loss: 0.2992 - accuracy: 0.8606 - val_loss: 0.3216 - val_accuracy: 0.8513\n",
            "Epoch 52/100\n",
            "943/943 [==============================] - 1s 2ms/step - loss: 0.2989 - accuracy: 0.8599 - val_loss: 0.3263 - val_accuracy: 0.8452\n",
            "Epoch 53/100\n",
            "943/943 [==============================] - 2s 2ms/step - loss: 0.2985 - accuracy: 0.8603 - val_loss: 0.3219 - val_accuracy: 0.8483\n",
            "Epoch 54/100\n",
            "943/943 [==============================] - 2s 2ms/step - loss: 0.2986 - accuracy: 0.8613 - val_loss: 0.3306 - val_accuracy: 0.8418\n",
            "Epoch 55/100\n",
            "943/943 [==============================] - 2s 2ms/step - loss: 0.2974 - accuracy: 0.8619 - val_loss: 0.3247 - val_accuracy: 0.8499\n",
            "Epoch 56/100\n",
            "943/943 [==============================] - 2s 2ms/step - loss: 0.2970 - accuracy: 0.8611 - val_loss: 0.3225 - val_accuracy: 0.8518\n",
            "Epoch 57/100\n",
            "943/943 [==============================] - 2s 2ms/step - loss: 0.2967 - accuracy: 0.8621 - val_loss: 0.3213 - val_accuracy: 0.8515\n",
            "Epoch 58/100\n",
            "943/943 [==============================] - 2s 2ms/step - loss: 0.2962 - accuracy: 0.8622 - val_loss: 0.3241 - val_accuracy: 0.8519\n",
            "Epoch 59/100\n",
            "943/943 [==============================] - 2s 2ms/step - loss: 0.2961 - accuracy: 0.8611 - val_loss: 0.3208 - val_accuracy: 0.8512\n",
            "Epoch 60/100\n",
            "943/943 [==============================] - 2s 2ms/step - loss: 0.2950 - accuracy: 0.8626 - val_loss: 0.3234 - val_accuracy: 0.8495\n",
            "Epoch 61/100\n",
            "943/943 [==============================] - 2s 2ms/step - loss: 0.2949 - accuracy: 0.8625 - val_loss: 0.3359 - val_accuracy: 0.8403\n",
            "Epoch 62/100\n",
            "943/943 [==============================] - 2s 2ms/step - loss: 0.2947 - accuracy: 0.8610 - val_loss: 0.3221 - val_accuracy: 0.8505\n",
            "Epoch 63/100\n",
            "943/943 [==============================] - 2s 2ms/step - loss: 0.2938 - accuracy: 0.8645 - val_loss: 0.3237 - val_accuracy: 0.8459\n",
            "Epoch 64/100\n",
            "943/943 [==============================] - 2s 2ms/step - loss: 0.2933 - accuracy: 0.8632 - val_loss: 0.3226 - val_accuracy: 0.8506\n",
            "Epoch 65/100\n",
            "943/943 [==============================] - 1s 2ms/step - loss: 0.2931 - accuracy: 0.8629 - val_loss: 0.3253 - val_accuracy: 0.8487\n",
            "Epoch 66/100\n",
            "943/943 [==============================] - 1s 2ms/step - loss: 0.2925 - accuracy: 0.8649 - val_loss: 0.3228 - val_accuracy: 0.8513\n",
            "Epoch 67/100\n",
            "943/943 [==============================] - 2s 2ms/step - loss: 0.2920 - accuracy: 0.8641 - val_loss: 0.3238 - val_accuracy: 0.8529\n",
            "Epoch 68/100\n",
            "943/943 [==============================] - 2s 2ms/step - loss: 0.2915 - accuracy: 0.8651 - val_loss: 0.3235 - val_accuracy: 0.8503\n",
            "Epoch 69/100\n",
            "943/943 [==============================] - 2s 2ms/step - loss: 0.2912 - accuracy: 0.8636 - val_loss: 0.3297 - val_accuracy: 0.8500\n",
            "Epoch 70/100\n",
            "943/943 [==============================] - 2s 2ms/step - loss: 0.2907 - accuracy: 0.8656 - val_loss: 0.3245 - val_accuracy: 0.8498\n",
            "Epoch 71/100\n",
            "943/943 [==============================] - 2s 2ms/step - loss: 0.2900 - accuracy: 0.8655 - val_loss: 0.3268 - val_accuracy: 0.8520\n",
            "Epoch 72/100\n",
            "943/943 [==============================] - 2s 2ms/step - loss: 0.2898 - accuracy: 0.8662 - val_loss: 0.3288 - val_accuracy: 0.8519\n",
            "Epoch 73/100\n",
            "943/943 [==============================] - 2s 2ms/step - loss: 0.2899 - accuracy: 0.8647 - val_loss: 0.3274 - val_accuracy: 0.8496\n",
            "Epoch 74/100\n",
            "943/943 [==============================] - 2s 2ms/step - loss: 0.2890 - accuracy: 0.8668 - val_loss: 0.3274 - val_accuracy: 0.8488\n",
            "Epoch 75/100\n",
            "943/943 [==============================] - 2s 2ms/step - loss: 0.2883 - accuracy: 0.8649 - val_loss: 0.3264 - val_accuracy: 0.8500\n",
            "Epoch 76/100\n",
            "943/943 [==============================] - 2s 2ms/step - loss: 0.2885 - accuracy: 0.8657 - val_loss: 0.3291 - val_accuracy: 0.8507\n",
            "Epoch 77/100\n",
            "943/943 [==============================] - 2s 2ms/step - loss: 0.2886 - accuracy: 0.8658 - val_loss: 0.3423 - val_accuracy: 0.8390\n",
            "Epoch 78/100\n",
            "943/943 [==============================] - 2s 2ms/step - loss: 0.2879 - accuracy: 0.8663 - val_loss: 0.3259 - val_accuracy: 0.8520\n",
            "Epoch 79/100\n",
            "943/943 [==============================] - 2s 2ms/step - loss: 0.2875 - accuracy: 0.8664 - val_loss: 0.3251 - val_accuracy: 0.8500\n",
            "Epoch 80/100\n",
            "943/943 [==============================] - 2s 2ms/step - loss: 0.2871 - accuracy: 0.8653 - val_loss: 0.3281 - val_accuracy: 0.8502\n",
            "Epoch 81/100\n",
            "943/943 [==============================] - 1s 2ms/step - loss: 0.2866 - accuracy: 0.8669 - val_loss: 0.3288 - val_accuracy: 0.8467\n",
            "Epoch 82/100\n",
            "943/943 [==============================] - 2s 2ms/step - loss: 0.2864 - accuracy: 0.8666 - val_loss: 0.3259 - val_accuracy: 0.8512\n",
            "Epoch 83/100\n",
            "943/943 [==============================] - 2s 2ms/step - loss: 0.2858 - accuracy: 0.8680 - val_loss: 0.3297 - val_accuracy: 0.8464\n",
            "Epoch 84/100\n",
            "943/943 [==============================] - 1s 2ms/step - loss: 0.2860 - accuracy: 0.8670 - val_loss: 0.3279 - val_accuracy: 0.8485\n",
            "Epoch 85/100\n",
            "943/943 [==============================] - 2s 2ms/step - loss: 0.2853 - accuracy: 0.8683 - val_loss: 0.3287 - val_accuracy: 0.8479\n",
            "Epoch 86/100\n",
            "943/943 [==============================] - 1s 2ms/step - loss: 0.2848 - accuracy: 0.8660 - val_loss: 0.3310 - val_accuracy: 0.8469\n",
            "Epoch 87/100\n",
            "943/943 [==============================] - 2s 2ms/step - loss: 0.2848 - accuracy: 0.8667 - val_loss: 0.3275 - val_accuracy: 0.8509\n",
            "Epoch 88/100\n",
            "943/943 [==============================] - 1s 2ms/step - loss: 0.2840 - accuracy: 0.8680 - val_loss: 0.3304 - val_accuracy: 0.8459\n",
            "Epoch 89/100\n",
            "943/943 [==============================] - 2s 2ms/step - loss: 0.2837 - accuracy: 0.8676 - val_loss: 0.3351 - val_accuracy: 0.8469\n",
            "Epoch 90/100\n",
            "943/943 [==============================] - 1s 2ms/step - loss: 0.2833 - accuracy: 0.8672 - val_loss: 0.3292 - val_accuracy: 0.8487\n",
            "Epoch 91/100\n",
            "943/943 [==============================] - 2s 2ms/step - loss: 0.2834 - accuracy: 0.8685 - val_loss: 0.3280 - val_accuracy: 0.8498\n",
            "Epoch 92/100\n",
            "943/943 [==============================] - 2s 2ms/step - loss: 0.2827 - accuracy: 0.8682 - val_loss: 0.3337 - val_accuracy: 0.8481\n",
            "Epoch 93/100\n",
            "943/943 [==============================] - 2s 2ms/step - loss: 0.2823 - accuracy: 0.8679 - val_loss: 0.3364 - val_accuracy: 0.8505\n",
            "Epoch 94/100\n",
            "943/943 [==============================] - 2s 2ms/step - loss: 0.2820 - accuracy: 0.8677 - val_loss: 0.3337 - val_accuracy: 0.8501\n",
            "Epoch 95/100\n",
            "943/943 [==============================] - 2s 2ms/step - loss: 0.2818 - accuracy: 0.8682 - val_loss: 0.3343 - val_accuracy: 0.8438\n",
            "Epoch 96/100\n",
            "943/943 [==============================] - 2s 2ms/step - loss: 0.2817 - accuracy: 0.8688 - val_loss: 0.3339 - val_accuracy: 0.8471\n",
            "Epoch 97/100\n",
            "943/943 [==============================] - 2s 2ms/step - loss: 0.2809 - accuracy: 0.8690 - val_loss: 0.3321 - val_accuracy: 0.8475\n",
            "Epoch 98/100\n",
            "943/943 [==============================] - 2s 2ms/step - loss: 0.2806 - accuracy: 0.8696 - val_loss: 0.3395 - val_accuracy: 0.8444\n",
            "Epoch 99/100\n",
            "943/943 [==============================] - 1s 2ms/step - loss: 0.2801 - accuracy: 0.8690 - val_loss: 0.3344 - val_accuracy: 0.8481\n",
            "Epoch 100/100\n",
            "943/943 [==============================] - 2s 2ms/step - loss: 0.2799 - accuracy: 0.8681 - val_loss: 0.3363 - val_accuracy: 0.8450\n"
          ]
        },
        {
          "output_type": "execute_result",
          "data": {
            "text/plain": [
              "<keras.callbacks.History at 0x7fab790adf90>"
            ]
          },
          "metadata": {},
          "execution_count": 25
        }
      ]
    },
    {
      "cell_type": "code",
      "source": [
        "history_sgd.history.keys()"
      ],
      "metadata": {
        "id": "gmiGSg1aa6Qj",
        "outputId": "e27db9a6-1c0a-4623-f046-2ddf5208b720",
        "colab": {
          "base_uri": "https://localhost:8080/"
        }
      },
      "execution_count": 26,
      "outputs": [
        {
          "output_type": "execute_result",
          "data": {
            "text/plain": [
              "dict_keys(['loss', 'accuracy', 'val_loss', 'val_accuracy'])"
            ]
          },
          "metadata": {},
          "execution_count": 26
        }
      ]
    },
    {
      "cell_type": "code",
      "source": [
        "import matplotlib.pyplot as pl\n",
        "plt.plot(history_sgd.history['accuracy'], label = \"tarina\")\n",
        "plt.plot(history_sgd.history['val_accuracy'], label = \"test\")\n",
        "plt.legend()\n",
        "plt.show()"
      ],
      "metadata": {
        "id": "XNsGJq4ha7re",
        "outputId": "98d5fc3d-d10e-4130-9263-5f304ae27a0c",
        "colab": {
          "base_uri": "https://localhost:8080/",
          "height": 265
        }
      },
      "execution_count": 27,
      "outputs": [
        {
          "output_type": "display_data",
          "data": {
            "text/plain": [
              "<Figure size 432x288 with 1 Axes>"
            ],
            "image/png": "[encoded data removed]"
          },
          "metadata": {
            "needs_background": "light"
          }
        }
      ]
    },
    {
      "cell_type": "code",
      "source": [
        "import matplotlib.pyplot as pl\n",
        "plt.plot(history_sgd.history['loss'], label = \"tarina\")\n",
        "plt.plot(history_sgd.history['val_loss'], label = \"test\")\n",
        "plt.legend()\n",
        "plt.show()"
      ],
      "metadata": {
        "id": "BmuVu0w3a858",
        "outputId": "582e82d2-5daf-42f1-84a9-222b8f8466be",
        "colab": {
          "base_uri": "https://localhost:8080/",
          "height": 265
        }
      },
      "execution_count": 28,
      "outputs": [
        {
          "output_type": "display_data",
          "data": {
            "text/plain": [
              "<Figure size 432x288 with 1 Axes>"
            ],
            "image/png": "[encoded data removed]"
          },
          "metadata": {
            "needs_background": "light"
          }
        }
      ]
    },
    {
      "cell_type": "markdown",
      "metadata": {
        "id": "_9PanNdnYwBd"
      },
      "source": [
        "# Adam"
      ]
    },
    {
      "cell_type": "code",
      "execution_count": 29,
      "metadata": {
        "id": "7X5S6iTVYwBd",
        "outputId": "13f813ab-ccbf-4080-b11b-4eec62f98572",
        "colab": {
          "base_uri": "https://localhost:8080/"
        }
      },
      "outputs": [
        {
          "output_type": "stream",
          "name": "stdout",
          "text": [
            "Model: \"sequential_4\"\n",
            "_________________________________________________________________\n",
            " Layer (type)                Output Shape              Param #   \n",
            "=================================================================\n",
            " dense_16 (Dense)            (None, 100)               4200      \n",
            "                                                                 \n",
            " dense_17 (Dense)            (None, 50)                5050      \n",
            "                                                                 \n",
            " dense_18 (Dense)            (None, 10)                510       \n",
            "                                                                 \n",
            " dense_19 (Dense)            (None, 1)                 11        \n",
            "                                                                 \n",
            "=================================================================\n",
            "Total params: 9,771\n",
            "Trainable params: 9,771\n",
            "Non-trainable params: 0\n",
            "_________________________________________________________________\n"
          ]
        }
      ],
      "source": [
        "from keras.models import Sequential\n",
        "from keras.layers import Dense\n",
        "\n",
        "from keras.callbacks import History\n",
        "\n",
        "history_sgd = History()\n",
        "model = Sequential()\n",
        "model.add(Dense(100,activation=\"sigmoid\",input_shape=(X_train.shape[1],)))\n",
        "model.add(Dense(50,activation=\"sigmoid\"))\n",
        "model.add(Dense(10,activation=\"sigmoid\"))\n",
        "model.add(Dense(1,activation=\"sigmoid\"))\n",
        "model.summary()"
      ]
    },
    {
      "cell_type": "code",
      "source": [
        "sgd = keras.optimizers.Adam(learning_rate=0.001, beta_1=0.9, beta_2=0.999, amsgrad=False)\n",
        "model.compile(loss=\"binary_crossentropy\",optimizer=sgd, metrics=[\"accuracy\"])"
      ],
      "metadata": {
        "id": "sinMe9VnbAOl"
      },
      "execution_count": 30,
      "outputs": []
    },
    {
      "cell_type": "code",
      "source": [
        "model.fit(X_train, y_train, validation_data= (X_test, y_test), batch_size=32,epochs=100, callbacks=[history_sgd])"
      ],
      "metadata": {
        "id": "zAyGeHQdbIye",
        "outputId": "773c1f08-1293-418b-c6ae-30887a3b38bf",
        "colab": {
          "base_uri": "https://localhost:8080/"
        }
      },
      "execution_count": 31,
      "outputs": [
        {
          "output_type": "stream",
          "name": "stdout",
          "text": [
            "Epoch 1/100\n",
            "943/943 [==============================] - 2s 2ms/step - loss: 0.4032 - accuracy: 0.8132 - val_loss: 0.3468 - val_accuracy: 0.8414\n",
            "Epoch 2/100\n",
            "943/943 [==============================] - 2s 2ms/step - loss: 0.3382 - accuracy: 0.8431 - val_loss: 0.3339 - val_accuracy: 0.8473\n",
            "Epoch 3/100\n",
            "943/943 [==============================] - 2s 2ms/step - loss: 0.3291 - accuracy: 0.8473 - val_loss: 0.3275 - val_accuracy: 0.8477\n",
            "Epoch 4/100\n",
            "943/943 [==============================] - 2s 2ms/step - loss: 0.3245 - accuracy: 0.8483 - val_loss: 0.3311 - val_accuracy: 0.8435\n",
            "Epoch 5/100\n",
            "943/943 [==============================] - 2s 2ms/step - loss: 0.3223 - accuracy: 0.8495 - val_loss: 0.3310 - val_accuracy: 0.8449\n",
            "Epoch 6/100\n",
            "943/943 [==============================] - 2s 2ms/step - loss: 0.3208 - accuracy: 0.8505 - val_loss: 0.3224 - val_accuracy: 0.8489\n",
            "Epoch 7/100\n",
            "943/943 [==============================] - 2s 2ms/step - loss: 0.3191 - accuracy: 0.8504 - val_loss: 0.3237 - val_accuracy: 0.8471\n",
            "Epoch 8/100\n",
            "943/943 [==============================] - 2s 2ms/step - loss: 0.3178 - accuracy: 0.8519 - val_loss: 0.3209 - val_accuracy: 0.8493\n",
            "Epoch 9/100\n",
            "943/943 [==============================] - 2s 2ms/step - loss: 0.3161 - accuracy: 0.8524 - val_loss: 0.3244 - val_accuracy: 0.8478\n",
            "Epoch 10/100\n",
            "943/943 [==============================] - 2s 2ms/step - loss: 0.3144 - accuracy: 0.8530 - val_loss: 0.3207 - val_accuracy: 0.8484\n",
            "Epoch 11/100\n",
            "943/943 [==============================] - 2s 2ms/step - loss: 0.3136 - accuracy: 0.8520 - val_loss: 0.3190 - val_accuracy: 0.8508\n",
            "Epoch 12/100\n",
            "943/943 [==============================] - 2s 2ms/step - loss: 0.3118 - accuracy: 0.8539 - val_loss: 0.3225 - val_accuracy: 0.8499\n",
            "Epoch 13/100\n",
            "943/943 [==============================] - 2s 2ms/step - loss: 0.3110 - accuracy: 0.8550 - val_loss: 0.3184 - val_accuracy: 0.8509\n",
            "Epoch 14/100\n",
            "943/943 [==============================] - 2s 2ms/step - loss: 0.3095 - accuracy: 0.8557 - val_loss: 0.3166 - val_accuracy: 0.8517\n",
            "Epoch 15/100\n",
            "943/943 [==============================] - 2s 2ms/step - loss: 0.3083 - accuracy: 0.8560 - val_loss: 0.3165 - val_accuracy: 0.8517\n",
            "Epoch 16/100\n",
            "943/943 [==============================] - 2s 2ms/step - loss: 0.3075 - accuracy: 0.8564 - val_loss: 0.3176 - val_accuracy: 0.8503\n",
            "Epoch 17/100\n",
            "943/943 [==============================] - 2s 2ms/step - loss: 0.3064 - accuracy: 0.8569 - val_loss: 0.3183 - val_accuracy: 0.8507\n",
            "Epoch 18/100\n",
            "943/943 [==============================] - 2s 2ms/step - loss: 0.3049 - accuracy: 0.8569 - val_loss: 0.3173 - val_accuracy: 0.8513\n",
            "Epoch 19/100\n",
            "943/943 [==============================] - 2s 2ms/step - loss: 0.3045 - accuracy: 0.8573 - val_loss: 0.3172 - val_accuracy: 0.8509\n",
            "Epoch 20/100\n",
            "943/943 [==============================] - 2s 2ms/step - loss: 0.3034 - accuracy: 0.8580 - val_loss: 0.3198 - val_accuracy: 0.8481\n",
            "Epoch 21/100\n",
            "943/943 [==============================] - 2s 2ms/step - loss: 0.3026 - accuracy: 0.8584 - val_loss: 0.3175 - val_accuracy: 0.8533\n",
            "Epoch 22/100\n",
            "943/943 [==============================] - 2s 2ms/step - loss: 0.3017 - accuracy: 0.8584 - val_loss: 0.3173 - val_accuracy: 0.8505\n",
            "Epoch 23/100\n",
            "943/943 [==============================] - 2s 2ms/step - loss: 0.3002 - accuracy: 0.8592 - val_loss: 0.3161 - val_accuracy: 0.8527\n",
            "Epoch 24/100\n",
            "943/943 [==============================] - 2s 2ms/step - loss: 0.2990 - accuracy: 0.8591 - val_loss: 0.3191 - val_accuracy: 0.8523\n",
            "Epoch 25/100\n",
            "943/943 [==============================] - 2s 2ms/step - loss: 0.2982 - accuracy: 0.8596 - val_loss: 0.3164 - val_accuracy: 0.8517\n",
            "Epoch 26/100\n",
            "943/943 [==============================] - 2s 2ms/step - loss: 0.2972 - accuracy: 0.8599 - val_loss: 0.3224 - val_accuracy: 0.8521\n",
            "Epoch 27/100\n",
            "943/943 [==============================] - 2s 2ms/step - loss: 0.2963 - accuracy: 0.8613 - val_loss: 0.3230 - val_accuracy: 0.8450\n",
            "Epoch 28/100\n",
            "943/943 [==============================] - 2s 2ms/step - loss: 0.2954 - accuracy: 0.8620 - val_loss: 0.3188 - val_accuracy: 0.8519\n",
            "Epoch 29/100\n",
            "943/943 [==============================] - 2s 2ms/step - loss: 0.2945 - accuracy: 0.8629 - val_loss: 0.3183 - val_accuracy: 0.8518\n",
            "Epoch 30/100\n",
            "943/943 [==============================] - 2s 2ms/step - loss: 0.2935 - accuracy: 0.8628 - val_loss: 0.3173 - val_accuracy: 0.8529\n",
            "Epoch 31/100\n",
            "943/943 [==============================] - 2s 2ms/step - loss: 0.2928 - accuracy: 0.8624 - val_loss: 0.3180 - val_accuracy: 0.8531\n",
            "Epoch 32/100\n",
            "943/943 [==============================] - 2s 2ms/step - loss: 0.2910 - accuracy: 0.8628 - val_loss: 0.3203 - val_accuracy: 0.8533\n",
            "Epoch 33/100\n",
            "943/943 [==============================] - 2s 2ms/step - loss: 0.2908 - accuracy: 0.8645 - val_loss: 0.3206 - val_accuracy: 0.8531\n",
            "Epoch 34/100\n",
            "943/943 [==============================] - 2s 2ms/step - loss: 0.2899 - accuracy: 0.8624 - val_loss: 0.3196 - val_accuracy: 0.8520\n",
            "Epoch 35/100\n",
            "943/943 [==============================] - 2s 2ms/step - loss: 0.2888 - accuracy: 0.8635 - val_loss: 0.3248 - val_accuracy: 0.8509\n",
            "Epoch 36/100\n",
            "943/943 [==============================] - 2s 2ms/step - loss: 0.2881 - accuracy: 0.8635 - val_loss: 0.3218 - val_accuracy: 0.8502\n",
            "Epoch 37/100\n",
            "943/943 [==============================] - 2s 2ms/step - loss: 0.2869 - accuracy: 0.8654 - val_loss: 0.3211 - val_accuracy: 0.8511\n",
            "Epoch 38/100\n",
            "943/943 [==============================] - 2s 2ms/step - loss: 0.2861 - accuracy: 0.8648 - val_loss: 0.3246 - val_accuracy: 0.8488\n",
            "Epoch 39/100\n",
            "943/943 [==============================] - 2s 2ms/step - loss: 0.2849 - accuracy: 0.8650 - val_loss: 0.3284 - val_accuracy: 0.8505\n",
            "Epoch 40/100\n",
            "943/943 [==============================] - 2s 2ms/step - loss: 0.2845 - accuracy: 0.8663 - val_loss: 0.3254 - val_accuracy: 0.8517\n",
            "Epoch 41/100\n",
            "943/943 [==============================] - 2s 2ms/step - loss: 0.2828 - accuracy: 0.8662 - val_loss: 0.3270 - val_accuracy: 0.8491\n",
            "Epoch 42/100\n",
            "943/943 [==============================] - 2s 2ms/step - loss: 0.2822 - accuracy: 0.8668 - val_loss: 0.3289 - val_accuracy: 0.8483\n",
            "Epoch 43/100\n",
            "943/943 [==============================] - 2s 2ms/step - loss: 0.2817 - accuracy: 0.8670 - val_loss: 0.3300 - val_accuracy: 0.8521\n",
            "Epoch 44/100\n",
            "943/943 [==============================] - 2s 2ms/step - loss: 0.2808 - accuracy: 0.8671 - val_loss: 0.3311 - val_accuracy: 0.8512\n",
            "Epoch 45/100\n",
            "943/943 [==============================] - 2s 2ms/step - loss: 0.2794 - accuracy: 0.8679 - val_loss: 0.3321 - val_accuracy: 0.8473\n",
            "Epoch 46/100\n",
            "943/943 [==============================] - 2s 2ms/step - loss: 0.2789 - accuracy: 0.8683 - val_loss: 0.3302 - val_accuracy: 0.8486\n",
            "Epoch 47/100\n",
            "943/943 [==============================] - 2s 2ms/step - loss: 0.2778 - accuracy: 0.8682 - val_loss: 0.3316 - val_accuracy: 0.8510\n",
            "Epoch 48/100\n",
            "943/943 [==============================] - 2s 2ms/step - loss: 0.2774 - accuracy: 0.8681 - val_loss: 0.3368 - val_accuracy: 0.8453\n",
            "Epoch 49/100\n",
            "943/943 [==============================] - 2s 2ms/step - loss: 0.2760 - accuracy: 0.8696 - val_loss: 0.3349 - val_accuracy: 0.8513\n",
            "Epoch 50/100\n",
            "943/943 [==============================] - 2s 2ms/step - loss: 0.2756 - accuracy: 0.8685 - val_loss: 0.3348 - val_accuracy: 0.8485\n",
            "Epoch 51/100\n",
            "943/943 [==============================] - 2s 2ms/step - loss: 0.2750 - accuracy: 0.8709 - val_loss: 0.3399 - val_accuracy: 0.8512\n",
            "Epoch 52/100\n",
            "943/943 [==============================] - 2s 2ms/step - loss: 0.2739 - accuracy: 0.8698 - val_loss: 0.3375 - val_accuracy: 0.8501\n",
            "Epoch 53/100\n",
            "943/943 [==============================] - 2s 2ms/step - loss: 0.2737 - accuracy: 0.8696 - val_loss: 0.3412 - val_accuracy: 0.8485\n",
            "Epoch 54/100\n",
            "943/943 [==============================] - 2s 2ms/step - loss: 0.2720 - accuracy: 0.8703 - val_loss: 0.3425 - val_accuracy: 0.8503\n",
            "Epoch 55/100\n",
            "943/943 [==============================] - 2s 2ms/step - loss: 0.2712 - accuracy: 0.8712 - val_loss: 0.3411 - val_accuracy: 0.8456\n",
            "Epoch 56/100\n",
            "943/943 [==============================] - 2s 2ms/step - loss: 0.2710 - accuracy: 0.8721 - val_loss: 0.3415 - val_accuracy: 0.8509\n",
            "Epoch 57/100\n",
            "943/943 [==============================] - 2s 2ms/step - loss: 0.2701 - accuracy: 0.8719 - val_loss: 0.3444 - val_accuracy: 0.8475\n",
            "Epoch 58/100\n",
            "943/943 [==============================] - 2s 2ms/step - loss: 0.2693 - accuracy: 0.8709 - val_loss: 0.3560 - val_accuracy: 0.8426\n",
            "Epoch 59/100\n",
            "943/943 [==============================] - 2s 2ms/step - loss: 0.2689 - accuracy: 0.8712 - val_loss: 0.3429 - val_accuracy: 0.8476\n",
            "Epoch 60/100\n",
            "943/943 [==============================] - 2s 2ms/step - loss: 0.2679 - accuracy: 0.8717 - val_loss: 0.3513 - val_accuracy: 0.8507\n",
            "Epoch 61/100\n",
            "943/943 [==============================] - 2s 2ms/step - loss: 0.2672 - accuracy: 0.8730 - val_loss: 0.3507 - val_accuracy: 0.8465\n",
            "Epoch 62/100\n",
            "943/943 [==============================] - 2s 2ms/step - loss: 0.2667 - accuracy: 0.8734 - val_loss: 0.3505 - val_accuracy: 0.8480\n",
            "Epoch 63/100\n",
            "943/943 [==============================] - 2s 2ms/step - loss: 0.2657 - accuracy: 0.8734 - val_loss: 0.3540 - val_accuracy: 0.8414\n",
            "Epoch 64/100\n",
            "943/943 [==============================] - 2s 2ms/step - loss: 0.2652 - accuracy: 0.8729 - val_loss: 0.3588 - val_accuracy: 0.8485\n",
            "Epoch 65/100\n",
            "943/943 [==============================] - 2s 2ms/step - loss: 0.2643 - accuracy: 0.8742 - val_loss: 0.3561 - val_accuracy: 0.8449\n",
            "Epoch 66/100\n",
            "943/943 [==============================] - 2s 2ms/step - loss: 0.2642 - accuracy: 0.8746 - val_loss: 0.3582 - val_accuracy: 0.8428\n",
            "Epoch 67/100\n",
            "943/943 [==============================] - 2s 2ms/step - loss: 0.2631 - accuracy: 0.8740 - val_loss: 0.3589 - val_accuracy: 0.8430\n",
            "Epoch 68/100\n",
            "943/943 [==============================] - 2s 2ms/step - loss: 0.2621 - accuracy: 0.8751 - val_loss: 0.3606 - val_accuracy: 0.8472\n",
            "Epoch 69/100\n",
            "943/943 [==============================] - 2s 2ms/step - loss: 0.2620 - accuracy: 0.8742 - val_loss: 0.3636 - val_accuracy: 0.8451\n",
            "Epoch 70/100\n",
            "943/943 [==============================] - 2s 2ms/step - loss: 0.2613 - accuracy: 0.8748 - val_loss: 0.3551 - val_accuracy: 0.8494\n",
            "Epoch 71/100\n",
            "943/943 [==============================] - 2s 2ms/step - loss: 0.2603 - accuracy: 0.8768 - val_loss: 0.3630 - val_accuracy: 0.8441\n",
            "Epoch 72/100\n",
            "943/943 [==============================] - 2s 2ms/step - loss: 0.2606 - accuracy: 0.8754 - val_loss: 0.3678 - val_accuracy: 0.8451\n",
            "Epoch 73/100\n",
            "943/943 [==============================] - 2s 2ms/step - loss: 0.2595 - accuracy: 0.8777 - val_loss: 0.3625 - val_accuracy: 0.8446\n",
            "Epoch 74/100\n",
            "943/943 [==============================] - 2s 2ms/step - loss: 0.2584 - accuracy: 0.8762 - val_loss: 0.3714 - val_accuracy: 0.8473\n",
            "Epoch 75/100\n",
            "943/943 [==============================] - 2s 2ms/step - loss: 0.2583 - accuracy: 0.8765 - val_loss: 0.3687 - val_accuracy: 0.8428\n",
            "Epoch 76/100\n",
            "943/943 [==============================] - 2s 2ms/step - loss: 0.2567 - accuracy: 0.8760 - val_loss: 0.3725 - val_accuracy: 0.8441\n",
            "Epoch 77/100\n",
            "943/943 [==============================] - 2s 2ms/step - loss: 0.2565 - accuracy: 0.8760 - val_loss: 0.3738 - val_accuracy: 0.8420\n",
            "Epoch 78/100\n",
            "943/943 [==============================] - 2s 2ms/step - loss: 0.2564 - accuracy: 0.8773 - val_loss: 0.3708 - val_accuracy: 0.8475\n",
            "Epoch 79/100\n",
            "943/943 [==============================] - 2s 2ms/step - loss: 0.2552 - accuracy: 0.8774 - val_loss: 0.3675 - val_accuracy: 0.8448\n",
            "Epoch 80/100\n",
            "943/943 [==============================] - 2s 2ms/step - loss: 0.2553 - accuracy: 0.8772 - val_loss: 0.3754 - val_accuracy: 0.8456\n",
            "Epoch 81/100\n",
            "943/943 [==============================] - 2s 2ms/step - loss: 0.2538 - accuracy: 0.8776 - val_loss: 0.3810 - val_accuracy: 0.8449\n",
            "Epoch 82/100\n",
            "943/943 [==============================] - 2s 2ms/step - loss: 0.2536 - accuracy: 0.8778 - val_loss: 0.3793 - val_accuracy: 0.8438\n",
            "Epoch 83/100\n",
            "943/943 [==============================] - 2s 2ms/step - loss: 0.2527 - accuracy: 0.8783 - val_loss: 0.3799 - val_accuracy: 0.8418\n",
            "Epoch 84/100\n",
            "943/943 [==============================] - 2s 2ms/step - loss: 0.2523 - accuracy: 0.8785 - val_loss: 0.3814 - val_accuracy: 0.8389\n",
            "Epoch 85/100\n",
            "943/943 [==============================] - 2s 2ms/step - loss: 0.2522 - accuracy: 0.8796 - val_loss: 0.3823 - val_accuracy: 0.8407\n",
            "Epoch 86/100\n",
            "943/943 [==============================] - 2s 2ms/step - loss: 0.2512 - accuracy: 0.8794 - val_loss: 0.3842 - val_accuracy: 0.8426\n",
            "Epoch 87/100\n",
            "943/943 [==============================] - 2s 2ms/step - loss: 0.2509 - accuracy: 0.8786 - val_loss: 0.3839 - val_accuracy: 0.8448\n",
            "Epoch 88/100\n",
            "943/943 [==============================] - 2s 2ms/step - loss: 0.2511 - accuracy: 0.8782 - val_loss: 0.3856 - val_accuracy: 0.8451\n",
            "Epoch 89/100\n",
            "943/943 [==============================] - 2s 2ms/step - loss: 0.2497 - accuracy: 0.8794 - val_loss: 0.3980 - val_accuracy: 0.8348\n",
            "Epoch 90/100\n",
            "943/943 [==============================] - 2s 2ms/step - loss: 0.2491 - accuracy: 0.8809 - val_loss: 0.3850 - val_accuracy: 0.8440\n",
            "Epoch 91/100\n",
            "943/943 [==============================] - 2s 2ms/step - loss: 0.2484 - accuracy: 0.8799 - val_loss: 0.3901 - val_accuracy: 0.8461\n",
            "Epoch 92/100\n",
            "943/943 [==============================] - 2s 2ms/step - loss: 0.2487 - accuracy: 0.8791 - val_loss: 0.3854 - val_accuracy: 0.8428\n",
            "Epoch 93/100\n",
            "943/943 [==============================] - 2s 2ms/step - loss: 0.2478 - accuracy: 0.8805 - val_loss: 0.3909 - val_accuracy: 0.8438\n",
            "Epoch 94/100\n",
            "943/943 [==============================] - 2s 2ms/step - loss: 0.2464 - accuracy: 0.8817 - val_loss: 0.3982 - val_accuracy: 0.8437\n",
            "Epoch 95/100\n",
            "943/943 [==============================] - 2s 2ms/step - loss: 0.2464 - accuracy: 0.8821 - val_loss: 0.3941 - val_accuracy: 0.8431\n",
            "Epoch 96/100\n",
            "943/943 [==============================] - 2s 2ms/step - loss: 0.2458 - accuracy: 0.8811 - val_loss: 0.3944 - val_accuracy: 0.8448\n",
            "Epoch 97/100\n",
            "943/943 [==============================] - 2s 2ms/step - loss: 0.2450 - accuracy: 0.8821 - val_loss: 0.3994 - val_accuracy: 0.8436\n",
            "Epoch 98/100\n",
            "943/943 [==============================] - 2s 2ms/step - loss: 0.2454 - accuracy: 0.8819 - val_loss: 0.3981 - val_accuracy: 0.8441\n",
            "Epoch 99/100\n",
            "943/943 [==============================] - 2s 2ms/step - loss: 0.2447 - accuracy: 0.8814 - val_loss: 0.3995 - val_accuracy: 0.8446\n",
            "Epoch 100/100\n",
            "943/943 [==============================] - 2s 2ms/step - loss: 0.2435 - accuracy: 0.8824 - val_loss: 0.4040 - val_accuracy: 0.8429\n"
          ]
        },
        {
          "output_type": "execute_result",
          "data": {
            "text/plain": [
              "<keras.callbacks.History at 0x7fab78e3ea10>"
            ]
          },
          "metadata": {},
          "execution_count": 31
        }
      ]
    },
    {
      "cell_type": "code",
      "source": [
        "history_sgd.history.keys()"
      ],
      "metadata": {
        "id": "7GufELxFbMQQ",
        "outputId": "15823eef-dad4-453e-ffdc-90d8e585ab15",
        "colab": {
          "base_uri": "https://localhost:8080/"
        }
      },
      "execution_count": 32,
      "outputs": [
        {
          "output_type": "execute_result",
          "data": {
            "text/plain": [
              "dict_keys(['loss', 'accuracy', 'val_loss', 'val_accuracy'])"
            ]
          },
          "metadata": {},
          "execution_count": 32
        }
      ]
    },
    {
      "cell_type": "code",
      "source": [
        "import matplotlib.pyplot as pl\n",
        "plt.plot(history_sgd.history['accuracy'], label = \"tarina\")\n",
        "plt.plot(history_sgd.history['val_accuracy'], label = \"test\")\n",
        "plt.legend()\n",
        "plt.show()"
      ],
      "metadata": {
        "id": "w2DLvKl4bNlL",
        "outputId": "91da3a74-aba6-4ce9-8461-c505c8e1257f",
        "colab": {
          "base_uri": "https://localhost:8080/",
          "height": 265
        }
      },
      "execution_count": 33,
      "outputs": [
        {
          "output_type": "display_data",
          "data": {
            "text/plain": [
              "<Figure size 432x288 with 1 Axes>"
            ],
            "image/png": "[encoded data removed]"
          },
          "metadata": {
            "needs_background": "light"
          }
        }
      ]
    },
    {
      "cell_type": "code",
      "source": [
        "import matplotlib.pyplot as pl\n",
        "plt.plot(history_sgd.history['loss'], label = \"tarina\")\n",
        "plt.plot(history_sgd.history['val_loss'], label = \"test\")\n",
        "plt.legend()\n",
        "plt.show()"
      ],
      "metadata": {
        "id": "inKjuYuVbO7m",
        "outputId": "19078c12-efdd-4c0a-c77c-7cd46d115983",
        "colab": {
          "base_uri": "https://localhost:8080/",
          "height": 265
        }
      },
      "execution_count": 34,
      "outputs": [
        {
          "output_type": "display_data",
          "data": {
            "text/plain": [
              "<Figure size 432x288 with 1 Axes>"
            ],
            "image/png": "[encoded data removed]"
          },
          "metadata": {
            "needs_background": "light"
          }
        }
      ]
    }
  ],
  "metadata": {
    "kernelspec": {
      "display_name": "Python 3",
      "language": "python",
      "name": "python3"
    },
    "language_info": {
      "codemirror_mode": {
        "name": "ipython",
        "version": 3
      },
      "file_extension": ".py",
      "mimetype": "text/x-python",
      "name": "python",
      "nbconvert_exporter": "python",
      "pygments_lexer": "ipython3",
      "version": "3.7.3"
    },
    "colab": {
      "name": "Z12_E_optimizer.ipynb",
      "provenance": []
    }
  },
  "nbformat": 4,
  "nbformat_minor": 0
}