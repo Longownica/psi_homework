{
  "cells": [
    {
      "cell_type": "markdown",
      "metadata": {
        "id": "0zzHJunaDzzN"
      },
      "source": [
        "# Lasso Regression"
      ]
    },
    {
      "cell_type": "code",
      "execution_count": 1,
      "metadata": {
        "id": "-MhqfKYYDzzS"
      },
      "outputs": [],
      "source": [
        "import numpy as np\n",
        "import pandas as pd\n",
        "import matplotlib.pyplot as plt\n",
        "import matplotlib.pyplot as plt\n",
        "from sklearn import linear_model\n",
        "import scipy.stats as stats\n",
        "from sklearn.linear_model import Ridge\n",
        "from sklearn.linear_model import Lasso\n",
        "from sklearn.linear_model import ElasticNet\n",
        "from sklearn.preprocessing import PolynomialFeatures\n",
        "from sklearn.pipeline import make_pipeline\n",
        "from sklearn import model_selection"
      ]
    },
    {
      "cell_type": "markdown",
      "metadata": {
        "id": "dJG5OeXmDzzX"
      },
      "source": [
        "Rozważmy następujący zbiór punktów:"
      ]
    },
    {
      "cell_type": "code",
      "execution_count": 2,
      "metadata": {
        "collapsed": true,
        "id": "dzfIGoAPDzzd"
      },
      "outputs": [],
      "source": [
        "true_fun = lambda X: np.cos(1.5 * np.pi * X)\n",
        "n_samples=20\n",
        "x = np.sort(np.random.rand(n_samples))\n",
        "y = true_fun(x) + np.random.randn(n_samples) * 0.1\n",
        "x=np.vstack(x)"
      ]
    },
    {
      "cell_type": "markdown",
      "metadata": {
        "id": "C70JxDkEDzzh"
      },
      "source": [
        "# Przykład\n",
        "Proszę wykonać regresję (Ridge Regression) na powyższym zbiorze danych "
      ]
    },
    {
      "cell_type": "code",
      "execution_count": 3,
      "metadata": {
        "id": "m0sfbk4YDzzl",
        "outputId": "0a0493d0-5c47-4057-ee88-6dbc799c92f3",
        "colab": {
          "base_uri": "https://localhost:8080/",
          "height": 265
        }
      },
      "outputs": [
        {
          "output_type": "display_data",
          "data": {
            "text/plain": [
              "<Figure size 432x288 with 1 Axes>"
            ],
            "image/png": "[encoded data removed]"
          },
          "metadata": {
            "needs_background": "light"
          }
        }
      ],
      "source": [
        "clf = Lasso(alpha=1.0)\n",
        "clf.fit(x, y) \n",
        "\n",
        "x_plot = np.vstack(np.linspace(0, 1, 20))\n",
        "plt.plot(x_plot, clf.predict(x_plot), color='blue',linewidth=3)\n",
        "plt.plot(x, y, 'ok');\n",
        "plt.show()"
      ]
    },
    {
      "cell_type": "markdown",
      "metadata": {
        "id": "_pjx3mLpDzzq"
      },
      "source": [
        "## Regresja liniowa"
      ]
    },
    {
      "cell_type": "code",
      "execution_count": 4,
      "metadata": {
        "id": "3pfnhehiDzzs",
        "outputId": "80581308-06e0-4493-a921-9591c09dede0",
        "colab": {
          "base_uri": "https://localhost:8080/",
          "height": 304
        }
      },
      "outputs": [
        {
          "output_type": "stream",
          "name": "stdout",
          "text": [
            "LR degree 2\n",
            "LR degree 20\n"
          ]
        },
        {
          "output_type": "display_data",
          "data": {
            "text/plain": [
              "<Figure size 432x288 with 1 Axes>"
            ],
            "image/png": "[encoded data removed]"
          },
          "metadata": {
            "needs_background": "light"
          }
        }
      ],
      "source": [
        "# prepare models\n",
        "models = []\n",
        "predicts = []\n",
        "names=[]\n",
        "models.append(('LR degree 2', make_pipeline(PolynomialFeatures(2), linear_model.LinearRegression()) ))\n",
        "models.append(('LR degree 20', make_pipeline(PolynomialFeatures(20), linear_model.LinearRegression()) ))\n",
        "\n",
        "x_plot = np.vstack(np.linspace(-3, 3, 1000))\n",
        "for name, model in models:\n",
        "    print(name)\n",
        "    model.fit(x, y)\n",
        "    predicts.append(model.predict(x_plot))\n",
        "    names.append(name)\n",
        "    \n",
        "plt.plot(x, y, 'ok');\n",
        "for i in range(len(models)):\n",
        "    #print(i)\n",
        "    plt.plot(x_plot, predicts[i],linewidth=3,label=names[i])\n",
        "    plt.xlim((0, 1))\n",
        "    plt.ylim((-2, 2))\n",
        "plt.legend()    \n",
        "plt.show()    "
      ]
    },
    {
      "cell_type": "markdown",
      "metadata": {
        "id": "67XMi4MFDzzv"
      },
      "source": [
        "# Zadanie \n",
        "Proszę wykonać \n",
        "* regresję dla wielomianów o stopniu **20**\n",
        "* regresję (ElasticNet Regression) dla wielomianów o stopniu **20** oraz\n",
        "   * alpha = 1 \n",
        "   * alpha = 10 000 \n",
        "   * alpha = 0.0001"
      ]
    },
    {
      "cell_type": "code",
      "execution_count": 5,
      "metadata": {
        "id": "2hX1VSfNDzzz",
        "outputId": "039e70f9-3439-4376-ea70-81c0024eba18",
        "colab": {
          "base_uri": "https://localhost:8080/",
          "height": 287
        }
      },
      "outputs": [
        {
          "output_type": "stream",
          "name": "stdout",
          "text": [
            "LR degree 20\n"
          ]
        },
        {
          "output_type": "display_data",
          "data": {
            "text/plain": [
              "<Figure size 432x288 with 1 Axes>"
            ],
            "image/png": "[encoded data removed]"
          },
          "metadata": {
            "needs_background": "light"
          }
        }
      ],
      "source": [
        "# prepare models\n",
        "models = []\n",
        "predicts = []\n",
        "names=[]\n",
        "models.append(('LR degree 20', make_pipeline(PolynomialFeatures(20), linear_model.LinearRegression()) ))\n",
        "\n",
        "x_plot = np.vstack(np.linspace(-3, 3, 1000))\n",
        "for name, model in models:\n",
        "    print(name)\n",
        "    model.fit(x, y)\n",
        "    predicts.append(model.predict(x_plot))\n",
        "    names.append(name)\n",
        "    \n",
        "x_plot = np.vstack(np.linspace(-3, 3, 1000))\n",
        "plt.plot(x, y, 'ok');\n",
        "for i in range(len(models)):\n",
        "    plt.plot(x_plot, predicts[i],linewidth=3,label=names[i])\n",
        "    plt.xlim((0, 1))\n",
        "    plt.ylim((-2, 2))"
      ]
    },
    {
      "cell_type": "code",
      "source": [
        "clfs=[]\n",
        "names=[]\n",
        "predicts=[]\n",
        "clfs.append(('RR alpha=1', ElasticNet(alpha=1.0)))\n",
        "clfs.append(('RR alpha=10000', ElasticNet(alpha=10000)))\n",
        "clfs.append(('RR alpha=0.0001', ElasticNet(alpha=0.0001)))\n",
        "    \n",
        "    \n",
        "x_plot = np.vstack(np.linspace(-3, 3, 1000))\n",
        "for name, clf in clfs:\n",
        "    print(name)\n",
        "    clf.fit(x, y)\n",
        "    predicts.append(clf.predict(x_plot))\n",
        "    names.append(name)\n",
        "    \n",
        "x_plot = np.vstack(np.linspace(-3, 3, 1000))\n",
        "plt.plot(x, y, 'ok');\n",
        "for i in range(len(clfs)):\n",
        "    plt.plot(x_plot, predicts[i],linewidth=3,label=names[i])\n",
        "    plt.xlim((0, 1))\n",
        "    plt.ylim((-2, 2))\n",
        "    \n",
        "plt.legend()    \n",
        "plt.show()    "
      ],
      "metadata": {
        "id": "telV1O2ZE1W0",
        "outputId": "c8b4f03e-7b6b-4195-ed37-d25f6a7ecd3f",
        "colab": {
          "base_uri": "https://localhost:8080/",
          "height": 322
        }
      },
      "execution_count": 6,
      "outputs": [
        {
          "output_type": "stream",
          "name": "stdout",
          "text": [
            "RR alpha=1\n",
            "RR alpha=10000\n",
            "RR alpha=0.0001\n"
          ]
        },
        {
          "output_type": "display_data",
          "data": {
            "text/plain": [
              "<Figure size 432x288 with 1 Axes>"
            ],
            "image/png": "[encoded data removed]"
          },
          "metadata": {
            "needs_background": "light"
          }
        }
      ]
    },
    {
      "cell_type": "markdown",
      "metadata": {
        "id": "dl6ICqzzDzz2"
      },
      "source": [
        "# Zdanie \n",
        "Dobierz optymalny stopień wielomianu oraz parametr alpha."
      ]
    },
    {
      "cell_type": "code",
      "execution_count": 7,
      "metadata": {
        "id": "XvDQv42RDzz4",
        "outputId": "f70a052d-3b3b-42f5-be03-624d5021bd93",
        "colab": {
          "base_uri": "https://localhost:8080/"
        }
      },
      "outputs": [
        {
          "output_type": "stream",
          "name": "stdout",
          "text": [
            "Best pn degree: 4\n",
            "Best elastic net degree: 0.1\n"
          ]
        }
      ],
      "source": [
        "from sklearn.model_selection import GridSearchCV\n",
        "seed=123\n",
        "kfold = model_selection.KFold(n_splits=10, shuffle=True, random_state=seed)\n",
        "grid = GridSearchCV(make_pipeline(PolynomialFeatures(degree=2), linear_model.LinearRegression()),\n",
        "                    param_grid={'polynomialfeatures__degree': [1, 2, 3, 4, 5, 6, 7]},\n",
        "                    cv=kfold,\n",
        "                    refit=False)\n",
        "grid.fit(x, y)\n",
        "print(\"Best pn degree: \" + str(grid.best_params_['polynomialfeatures__degree']))\n",
        "\n",
        "\n",
        "parameters = {'alpha':[0.000000001, 0.0001, 0.1, 1, 2, 3, 4, 10]}\n",
        "lasso_model = ElasticNet()\n",
        "grid2 = GridSearchCV(lasso_model, parameters, cv=5)\n",
        "grid2.fit(x, y)\n",
        "print(\"Best elastic net degree: \" + str(grid2.best_estimator_.alpha))"
      ]
    },
    {
      "cell_type": "markdown",
      "metadata": {
        "id": "d-O6xrTdDzz5"
      },
      "source": [
        "# Zdanie \n",
        "Dobierz optymalny stopień wielomianu oraz parametr <tt>alpha</tt> za pomocą metody <tt>GridSearchCV</tt> dla danych reklamowych, obejmującym sprzedaż produktów i ich budżet reklamowy w trzech różnych mediach telewizyjnych, radiu, gazetach.\n",
        "\n",
        "*  policz r_square score."
      ]
    },
    {
      "cell_type": "code",
      "execution_count": 8,
      "metadata": {
        "id": "oh8ZWR43Dzz8",
        "outputId": "784009e9-ff38-41ac-b7db-c60213fcd128",
        "colab": {
          "base_uri": "https://localhost:8080/",
          "height": 206
        }
      },
      "outputs": [
        {
          "output_type": "execute_result",
          "data": {
            "text/plain": [
              "      TV  radio  newspaper  sales\n",
              "1  230.1   37.8       69.2   22.1\n",
              "2   44.5   39.3       45.1   10.4\n",
              "3   17.2   45.9       69.3    9.3\n",
              "4  151.5   41.3       58.5   18.5\n",
              "5  180.8   10.8       58.4   12.9"
            ],
            "text/html": [
              "\n",
              "  <div id=\"df-7669415c-49c9-4d64-93cb-04a94355db1a\">\n",
              "    <div class=\"colab-df-container\">\n",
              "      <div>\n",
              "<style scoped>\n",
              "    .dataframe tbody tr th:only-of-type {\n",
              "        vertical-align: middle;\n",
              "    }\n",
              "\n",
              "    .dataframe tbody tr th {\n",
              "        vertical-align: top;\n",
              "    }\n",
              "\n",
              "    .dataframe thead th {\n",
              "        text-align: right;\n",
              "    }\n",
              "</style>\n",
              "<table border=\"1\" class=\"dataframe\">\n",
              "  <thead>\n",
              "    <tr style=\"text-align: right;\">\n",
              "      <th></th>\n",
              "      <th>TV</th>\n",
              "      <th>radio</th>\n",
              "      <th>newspaper</th>\n",
              "      <th>sales</th>\n",
              "    </tr>\n",
              "  </thead>\n",
              "  <tbody>\n",
              "    <tr>\n",
              "      <th>1</th>\n",
              "      <td>230.1</td>\n",
              "      <td>37.8</td>\n",
              "      <td>69.2</td>\n",
              "      <td>22.1</td>\n",
              "    </tr>\n",
              "    <tr>\n",
              "      <th>2</th>\n",
              "      <td>44.5</td>\n",
              "      <td>39.3</td>\n",
              "      <td>45.1</td>\n",
              "      <td>10.4</td>\n",
              "    </tr>\n",
              "    <tr>\n",
              "      <th>3</th>\n",
              "      <td>17.2</td>\n",
              "      <td>45.9</td>\n",
              "      <td>69.3</td>\n",
              "      <td>9.3</td>\n",
              "    </tr>\n",
              "    <tr>\n",
              "      <th>4</th>\n",
              "      <td>151.5</td>\n",
              "      <td>41.3</td>\n",
              "      <td>58.5</td>\n",
              "      <td>18.5</td>\n",
              "    </tr>\n",
              "    <tr>\n",
              "      <th>5</th>\n",
              "      <td>180.8</td>\n",
              "      <td>10.8</td>\n",
              "      <td>58.4</td>\n",
              "      <td>12.9</td>\n",
              "    </tr>\n",
              "  </tbody>\n",
              "</table>\n",
              "</div>\n",
              "      <button class=\"colab-df-convert\" onclick=\"convertToInteractive('df-7669415c-49c9-4d64-93cb-04a94355db1a')\"\n",
              "              title=\"Convert this dataframe to an interactive table.\"\n",
              "              style=\"display:none;\">\n",
              "        \n",
              "  <svg xmlns=\"http://www.w3.org/2000/svg\" height=\"24px\"viewBox=\"0 0 24 24\"\n",
              "       width=\"24px\">\n",
              "    <path d=\"M0 0h24v24H0V0z\" fill=\"none\"/>\n",
              "    <path d=\"M18.56 5.44l.94 2.06.94-2.06 2.06-.94-2.06-.94-.94-2.06-.94 2.06-2.06.94zm-11 1L8.5 8.5l.94-2.06 2.06-.94-2.06-.94L8.5 2.5l-.94 2.06-2.06.94zm10 10l.94 2.06.94-2.06 2.06-.94-2.06-.94-.94-2.06-.94 2.06-2.06.94z\"/><path d=\"M17.41 7.96l-1.37-1.37c-.4-.4-.92-.59-1.43-.59-.52 0-1.04.2-1.43.59L10.3 9.45l-7.72 7.72c-.78.78-.78 2.05 0 2.83L4 21.41c.39.39.9.59 1.41.59.51 0 1.02-.2 1.41-.59l7.78-7.78 2.81-2.81c.8-.78.8-2.07 0-2.86zM5.41 20L4 18.59l7.72-7.72 1.47 1.35L5.41 20z\"/>\n",
              "  </svg>\n",
              "      </button>\n",
              "      \n",
              "  <style>\n",
              "    .colab-df-container {\n",
              "      display:flex;\n",
              "      flex-wrap:wrap;\n",
              "      gap: 12px;\n",
              "    }\n",
              "\n",
              "    .colab-df-convert {\n",
              "      background-color: #E8F0FE;\n",
              "      border: none;\n",
              "      border-radius: 50%;\n",
              "      cursor: pointer;\n",
              "      display: none;\n",
              "      fill: #1967D2;\n",
              "      height: 32px;\n",
              "      padding: 0 0 0 0;\n",
              "      width: 32px;\n",
              "    }\n",
              "\n",
              "    .colab-df-convert:hover {\n",
              "      background-color: #E2EBFA;\n",
              "      box-shadow: 0px 1px 2px rgba(60, 64, 67, 0.3), 0px 1px 3px 1px rgba(60, 64, 67, 0.15);\n",
              "      fill: #174EA6;\n",
              "    }\n",
              "\n",
              "    [theme=dark] .colab-df-convert {\n",
              "      background-color: #3B4455;\n",
              "      fill: #D2E3FC;\n",
              "    }\n",
              "\n",
              "    [theme=dark] .colab-df-convert:hover {\n",
              "      background-color: #434B5C;\n",
              "      box-shadow: 0px 1px 3px 1px rgba(0, 0, 0, 0.15);\n",
              "      filter: drop-shadow(0px 1px 2px rgba(0, 0, 0, 0.3));\n",
              "      fill: #FFFFFF;\n",
              "    }\n",
              "  </style>\n",
              "\n",
              "      <script>\n",
              "        const buttonEl =\n",
              "          document.querySelector('#df-7669415c-49c9-4d64-93cb-04a94355db1a button.colab-df-convert');\n",
              "        buttonEl.style.display =\n",
              "          google.colab.kernel.accessAllowed ? 'block' : 'none';\n",
              "\n",
              "        async function convertToInteractive(key) {\n",
              "          const element = document.querySelector('#df-7669415c-49c9-4d64-93cb-04a94355db1a');\n",
              "          const dataTable =\n",
              "            await google.colab.kernel.invokeFunction('convertToInteractive',\n",
              "                                                     [key], {});\n",
              "          if (!dataTable) return;\n",
              "\n",
              "          const docLinkHtml = 'Like what you see? Visit the ' +\n",
              "            '<a target=\"_blank\" href=https://colab.research.google.com/notebooks/data_table.ipynb>data table notebook</a>'\n",
              "            + ' to learn more about interactive tables.';\n",
              "          element.innerHTML = '';\n",
              "          dataTable['output_type'] = 'display_data';\n",
              "          await google.colab.output.renderOutput(dataTable, element);\n",
              "          const docLink = document.createElement('div');\n",
              "          docLink.innerHTML = docLinkHtml;\n",
              "          element.appendChild(docLink);\n",
              "        }\n",
              "      </script>\n",
              "    </div>\n",
              "  </div>\n",
              "  "
            ]
          },
          "metadata": {},
          "execution_count": 8
        }
      ],
      "source": [
        "import pandas as pd\n",
        "df_adv = pd.read_csv('https://raw.githubusercontent.com/przem85/bootcamp/master/statistics/Advertising.csv', index_col=0)\n",
        "X = df_adv[['TV', 'radio','newspaper']]\n",
        "y = df_adv['sales']\n",
        "df_adv.head()"
      ]
    },
    {
      "cell_type": "code",
      "execution_count": 9,
      "metadata": {
        "id": "FCaoaK7eDzz9",
        "outputId": "a2e629d1-344e-4147-e159-4a6515d20b19",
        "colab": {
          "base_uri": "https://localhost:8080/"
        }
      },
      "outputs": [
        {
          "output_type": "stream",
          "name": "stdout",
          "text": [
            "Best pn degree: 3\n",
            "Best elastic net degree: 3\n"
          ]
        }
      ],
      "source": [
        "from sklearn.model_selection import GridSearchCV\n",
        "\n",
        "grid = GridSearchCV(make_pipeline(PolynomialFeatures(degree=2), linear_model.LinearRegression()),\n",
        "                    param_grid={'polynomialfeatures__degree': [1, 2, 3, 4, 5, 6, 7, 25]},\n",
        "                    cv=kfold,\n",
        "                    refit=False)\n",
        "grid.fit(X, y)\n",
        "print(\"Best pn degree: \" + str(grid.best_params_['polynomialfeatures__degree']))\n",
        "\n",
        "parameters = {'alpha':[0.000000001, 0.0001, 0.1, 1, 2, 3, 4, 10]}\n",
        "lasso_model = ElasticNet()\n",
        "grid2 = GridSearchCV(lasso_model, parameters, cv=5)\n",
        "grid2.fit(X, y)\n",
        "print(\"Best elastic net degree: \" + str(grid2.best_estimator_.alpha))"
      ]
    }
  ],
  "metadata": {
    "kernelspec": {
      "display_name": "Python 3",
      "language": "python",
      "name": "python3"
    },
    "language_info": {
      "codemirror_mode": {
        "name": "ipython",
        "version": 3
      },
      "file_extension": ".py",
      "mimetype": "text/x-python",
      "name": "python",
      "nbconvert_exporter": "python",
      "pygments_lexer": "ipython3",
      "version": "3.7.3"
    },
    "colab": {
      "name": "Z07_B_ElasticNet_Regression.ipynb",
      "provenance": []
    }
  },
  "nbformat": 4,
  "nbformat_minor": 0
}