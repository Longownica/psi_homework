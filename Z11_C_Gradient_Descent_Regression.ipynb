{
  "cells": [
    {
      "cell_type": "code",
      "execution_count": 1,
      "metadata": {
        "id": "11YChwuXGVjm"
      },
      "outputs": [],
      "source": [
        "import numpy as np\n",
        "\n",
        "import matplotlib as mpl\n",
        "import matplotlib.pyplot as plt"
      ]
    },
    {
      "cell_type": "markdown",
      "metadata": {
        "id": "cvUZ6obYGVjr"
      },
      "source": [
        "# Zad\n",
        "Wygenerujmy punkty w kształcie prostej."
      ]
    },
    {
      "cell_type": "code",
      "execution_count": 47,
      "metadata": {
        "id": "f1NJli9LGVjx",
        "outputId": "84812aa0-08ae-4fd9-e980-2cda59296fc8",
        "colab": {
          "base_uri": "https://localhost:8080/",
          "height": 287
        }
      },
      "outputs": [
        {
          "output_type": "display_data",
          "data": {
            "text/plain": [
              "<Figure size 432x288 with 1 Axes>"
            ],
            "image/png": "[encoded data removed]"
          },
          "metadata": {
            "needs_background": "light"
          }
        }
      ],
      "source": [
        "X = 2 * np.random.rand(100, 1)\n",
        "y = 4 + 3 * X + np.random.randn(100, 1)\n",
        "\n",
        "plt.plot(X, y, \"b.\")\n",
        "plt.xlabel(\"$x_1$\", fontsize=18)\n",
        "plt.ylabel(\"$y$\", rotation=0, fontsize=18)\n",
        "plt.axis([0, 2, 0, 15])\n",
        "plt.show()"
      ]
    },
    {
      "cell_type": "markdown",
      "metadata": {
        "id": "V1Pnqv7yGVj0"
      },
      "source": [
        "# Zad \n",
        "Wyznacz parametry prostej regresji (najmniejszych kwadratów) ze wzoru:\n",
        "\n",
        "$$\n",
        "\\theta= (X^TX)^{-1}  X^T  y; \n",
        "$$\n",
        "\n",
        "gdzie \n",
        "$$\n",
        "X = \n",
        "\\begin{bmatrix}\n",
        "1, x_1 \\\\\n",
        "1, x_2 \\\\\n",
        "\\vdots, \\vdots \\\\\n",
        "1, x_n \\\\\n",
        "\\end{bmatrix}\n",
        "$$\n",
        "\n",
        "Zwizualizuj wynik."
      ]
    },
    {
      "cell_type": "code",
      "execution_count": 48,
      "metadata": {
        "id": "uLwMr5ODGVj2"
      },
      "outputs": [],
      "source": [
        "X_b = np.c_[np.ones((100, 1)), X]  # add x0 = 1 to each instance\n",
        "Xb_length = len(X_b)"
      ]
    },
    {
      "cell_type": "code",
      "execution_count": 49,
      "metadata": {
        "id": "vq5qsnoBGVj4",
        "outputId": "ad6818ca-031b-47c5-b00a-a305088f227c",
        "colab": {
          "base_uri": "https://localhost:8080/"
        }
      },
      "outputs": [
        {
          "output_type": "execute_result",
          "data": {
            "text/plain": [
              "array([[4.082989  ],\n",
              "       [2.94830274]])"
            ]
          },
          "metadata": {},
          "execution_count": 49
        }
      ],
      "source": [
        "theta_best = np.linalg.inv(X_b.T.dot(X_b)).dot(X_b.T).dot(y)\n",
        "\n",
        "theta_best"
      ]
    },
    {
      "cell_type": "code",
      "source": [
        "f = lambda x: theta_best[0] + x * theta_best[1]\n",
        "X_new = np.arange(np.min(X),np.max(X),0.01)\n",
        "y_predict = f(X_new)"
      ],
      "metadata": {
        "id": "k3g8QO2BG7dD"
      },
      "execution_count": 50,
      "outputs": []
    },
    {
      "cell_type": "code",
      "execution_count": 51,
      "metadata": {
        "id": "yBhbZ50KGVj5",
        "outputId": "0a120728-8fa0-403f-d083-d8721ca2b205",
        "colab": {
          "base_uri": "https://localhost:8080/",
          "height": 265
        }
      },
      "outputs": [
        {
          "output_type": "display_data",
          "data": {
            "text/plain": [
              "<Figure size 432x288 with 1 Axes>"
            ],
            "image/png": "[encoded data removed]"
          },
          "metadata": {
            "needs_background": "light"
          }
        }
      ],
      "source": [
        "plt.plot(X_new, y_predict, \"r-\")\n",
        "plt.plot(X, y, \"b.\")\n",
        "plt.axis([0, 2, 0, 15])\n",
        "plt.show()"
      ]
    },
    {
      "cell_type": "markdown",
      "metadata": {
        "id": "fjNeEd09GVj8"
      },
      "source": [
        "# Zad.\n",
        "Prównaj z wynikiem funkcji:\n",
        "```python\n",
        "LinearRegression()\n",
        "```"
      ]
    },
    {
      "cell_type": "code",
      "execution_count": 52,
      "metadata": {
        "id": "9lDtl0O4GVj-",
        "outputId": "6acd4905-0dfb-474f-9bb6-72cb9939a667",
        "colab": {
          "base_uri": "https://localhost:8080/"
        }
      },
      "outputs": [
        {
          "output_type": "execute_result",
          "data": {
            "text/plain": [
              "array([[2.94830274]])"
            ]
          },
          "metadata": {},
          "execution_count": 52
        }
      ],
      "source": [
        "from sklearn.linear_model import LinearRegression\n",
        "reg = LinearRegression().fit(X,y)\n",
        "reg.coef_"
      ]
    },
    {
      "cell_type": "markdown",
      "metadata": {
        "id": "2xGyjZ9DGVkB"
      },
      "source": [
        "# Zad.\n",
        "Wykonaj algorytm minimalizacji gradientowej (w prostej petli).\n",
        "Wykorzystaj pochodną.\n",
        "\n",
        "Funkcja kosztu regresji:\n",
        "$$\n",
        "MSE(X;\\theta) = \\frac{1}{m} \\sum ( \\theta^T x_i - y_i  )^2.\n",
        "$$\n",
        "\n",
        "Pochodna funkcja kosztu regresji:\n",
        "\n",
        "$$\n",
        "\\frac{\\partial}{\\partial \\theta_j}MSE(X;\\theta) = \\frac{2}{m} \\sum ( \\theta^T x_i - y_i  )^2 x_i^{j}.\n",
        "$$\n",
        "\n",
        "Czyli gradient wynosi:\n",
        "\n",
        "$$\n",
        "\\nabla_{\\theta}MSE(X;\\theta) = \n",
        "\\begin{bmatrix}\n",
        "    \\frac{\\partial}{\\partial \\theta_0}MSE\\\\\n",
        "    \\frac{\\partial}{\\partial \\theta_1}MSE\\\\\n",
        "    \\vdots \\\\\n",
        "    \\frac{\\partial}{\\partial \\theta_d}MSE\n",
        "\\end{bmatrix}\n",
        "=\n",
        "\\frac{2}{m} X^T(\\theta^TX - Y  ).\n",
        "$$\n",
        "\n",
        "Metoda gradientowa\n",
        "\n",
        "$$\n",
        "\\theta^{\\small \\mbox{Nex step}} = \\theta - \\eta \\nabla_{\\theta} MSE\n",
        "$$\n",
        "\n",
        "### Zapisz wszystkie $\\theta$ w liście "
      ]
    },
    {
      "cell_type": "code",
      "execution_count": 53,
      "metadata": {
        "id": "g6_KVD82GVkE"
      },
      "outputs": [],
      "source": [
        "eta = 0.1  # learning rate\n",
        "n_iterations = 1000\n",
        "m = 100\n",
        "theta_path_bgd = []\n",
        "\n",
        "theta_0 = np.random.randn(2,1)  # random initialization\n",
        "\n",
        "theta = theta_0"
      ]
    },
    {
      "cell_type": "code",
      "execution_count": 54,
      "metadata": {
        "id": "56uNZVQ1GVkH",
        "outputId": "3b01a539-cbcd-4c25-dc9f-ec5fc7ab29fa",
        "colab": {
          "base_uri": "https://localhost:8080/"
        }
      },
      "outputs": [
        {
          "output_type": "execute_result",
          "data": {
            "text/plain": [
              "array([[4.082989  ],\n",
              "       [2.94830274]])"
            ]
          },
          "metadata": {},
          "execution_count": 54
        }
      ],
      "source": [
        "theta_path_bgd.append(np.copy(theta))\n",
        "for _ in range(n_iterations):\n",
        "    grad = 2 / m * X_b.T.dot(X_b.dot(theta) - y)\n",
        "    theta -= eta * grad\n",
        "    theta_path_bgd.append(np.copy(theta))\n",
        "theta"
      ]
    },
    {
      "cell_type": "markdown",
      "metadata": {
        "id": "vc1r76PWGVkI"
      },
      "source": [
        "# Zad\n",
        "Zaimplemrntu Stochastic Gradient Descent.\n",
        "\n",
        "### Zapisz wszystkie $\\theta$ w liście "
      ]
    },
    {
      "cell_type": "code",
      "execution_count": 55,
      "metadata": {
        "id": "otVtYz9BGVkL"
      },
      "outputs": [],
      "source": [
        "theta_path_sgd = []\n",
        "m = len(X_b)\n",
        "np.random.seed(42)"
      ]
    },
    {
      "cell_type": "code",
      "execution_count": 57,
      "metadata": {
        "id": "5nmcJC2EGVkM",
        "outputId": "21eae988-8a6e-4e78-b3fc-c3ff19a3f5ab",
        "colab": {
          "base_uri": "https://localhost:8080/"
        }
      },
      "outputs": [
        {
          "output_type": "execute_result",
          "data": {
            "text/plain": [
              "array([2.23043739])"
            ]
          },
          "metadata": {},
          "execution_count": 57
        }
      ],
      "source": [
        "eta = 0.1  # learning rate\n",
        "n_iterations = 1000\n",
        "m = 100\n",
        "\n",
        "theta = np.copy(theta_0)\n",
        "theta.T.dot(X_b[0])-y[0]"
      ]
    },
    {
      "cell_type": "code",
      "execution_count": 58,
      "metadata": {
        "id": "srfRIX-UGVkO",
        "outputId": "a1d0d095-ec5c-4ebb-8cbe-c180515a1d34",
        "colab": {
          "base_uri": "https://localhost:8080/"
        }
      },
      "outputs": [
        {
          "output_type": "execute_result",
          "data": {
            "text/plain": [
              "array([[4.05966653],\n",
              "       [2.92498027]])"
            ]
          },
          "metadata": {},
          "execution_count": 58
        }
      ],
      "source": [
        "theta_path_sgd.append(np.copy(theta))\n",
        "for _ in range(n_iterations):\n",
        "    rand_index = np.random.randint(0,Xb_length-1)\n",
        "    grad = 2 / m * X_b[rand_index][0]*(theta.T.dot(X_b[rand_index]) - y[rand_index])\n",
        "    theta -= eta * grad\n",
        "    theta_path_sgd.append(np.copy(theta))\n",
        "theta"
      ]
    },
    {
      "cell_type": "markdown",
      "metadata": {
        "id": "1p2dBxMZGVkQ"
      },
      "source": [
        "# Zad\n",
        "Zaimplemrntu Mini-batch gradient descent\n",
        "\n",
        "### Zapisz wszystkie $\\theta$ w liście "
      ]
    },
    {
      "cell_type": "code",
      "execution_count": 59,
      "metadata": {
        "id": "PonABrepGVkR"
      },
      "outputs": [],
      "source": [
        "theta_path_mgd = []\n",
        "\n",
        "n_iterations = 50\n",
        "minibatch_size = 20\n",
        "\n",
        "theta = np.copy(theta_0)"
      ]
    },
    {
      "cell_type": "code",
      "execution_count": 60,
      "metadata": {
        "id": "a2jF-St3GVkS",
        "outputId": "11432a58-9cfa-406c-dc45-7d8a05db4cae",
        "colab": {
          "base_uri": "https://localhost:8080/"
        }
      },
      "outputs": [
        {
          "output_type": "execute_result",
          "data": {
            "text/plain": [
              "array([[4.09862594],\n",
              "       [2.96880334]])"
            ]
          },
          "metadata": {},
          "execution_count": 60
        }
      ],
      "source": [
        "theta_path_mgd.append(np.copy(theta))\n",
        "number_of_rows = X_b.shape[0]\n",
        "for _ in range(n_iterations):\n",
        "    random_indices = np.random.choice(number_of_rows, size=minibatch_size, replace=False)\n",
        "    X_b_batch = X_b[random_indices,:]\n",
        "    grad = 2 / m * X_b_batch.T.dot(X_b_batch.dot(theta) - y[random_indices])\n",
        "    theta -= eta * grad\n",
        "    theta_path_mgd.append(np.copy(theta))\n",
        "        # grad = 2 / m * X_b.T.dot(X_b.dot(theta) - y)\n",
        "theta"
      ]
    },
    {
      "cell_type": "markdown",
      "metadata": {
        "id": "WSZuWuuiGVkU"
      },
      "source": [
        "# Zad\n",
        "Narysuj jak zmieniały parametr w różnych metodach."
      ]
    },
    {
      "cell_type": "code",
      "execution_count": 61,
      "metadata": {
        "id": "ZfneS1KqGVkV"
      },
      "outputs": [],
      "source": [
        "theta_path_bgd = np.array(theta_path_bgd)\n",
        "theta_path_sgd = np.array(theta_path_sgd)\n",
        "theta_path_mgd = np.array(theta_path_mgd)"
      ]
    },
    {
      "cell_type": "code",
      "execution_count": 69,
      "metadata": {
        "id": "FUK10ppwGVkW",
        "outputId": "135e4cb3-1737-4378-d067-a7c4a5923ffb",
        "colab": {
          "base_uri": "https://localhost:8080/",
          "height": 269
        }
      },
      "outputs": [
        {
          "output_type": "display_data",
          "data": {
            "text/plain": [
              "<Figure size 432x288 with 1 Axes>"
            ],
            "image/png": "[encoded data removed]"
          },
          "metadata": {
            "needs_background": "light"
          }
        }
      ],
      "source": [
        "plt.xlim([4.0,4.150])\n",
        "plt.ylim([2.7,3.2])\n",
        "plt.plot(theta_path_bgd[:,0,0],theta_path_bgd[:,1,0],'b.',label='gradient')\n",
        "plt.plot(theta_path_sgd[:,0,0],theta_path_sgd[:,1,0],'g.',label='stochastic')\n",
        "plt.plot(theta_path_mgd[:,0,0],theta_path_mgd[:,1,0],'r.',label='minibatch')\n",
        "plt.legend()\n",
        "plt.show()"
      ]
    },
    {
      "cell_type": "code",
      "execution_count": null,
      "metadata": {
        "id": "rs5TaQnmGVkW"
      },
      "outputs": [],
      "source": [
        ""
      ]
    }
  ],
  "metadata": {
    "kernelspec": {
      "display_name": "Python 3",
      "language": "python",
      "name": "python3"
    },
    "language_info": {
      "codemirror_mode": {
        "name": "ipython",
        "version": 3
      },
      "file_extension": ".py",
      "mimetype": "text/x-python",
      "name": "python",
      "nbconvert_exporter": "python",
      "pygments_lexer": "ipython3",
      "version": "3.7.3"
    },
    "colab": {
      "name": "Z11_C_Gradient_Descent_Regression.ipynb",
      "provenance": []
    }
  },
  "nbformat": 4,
  "nbformat_minor": 0
}