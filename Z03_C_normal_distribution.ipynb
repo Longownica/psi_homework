{
  "cells": [
    {
      "cell_type": "markdown",
      "metadata": {
        "id": "4Je0nC4gSgD3"
      },
      "source": [
        "# Wielowymiarowy rozkład normalny"
      ]
    },
    {
      "cell_type": "code",
      "execution_count": 8,
      "metadata": {
        "collapsed": true,
        "id": "F_zm9t4mSgD8"
      },
      "outputs": [],
      "source": [
        "import matplotlib.pylab as plt\n",
        "import numpy as np\n",
        "from mpl_toolkits.mplot3d import Axes3D\n",
        "import matplotlib.mlab as mlab\n",
        "from matplotlib import cm\n",
        "import numpy.random as rnd\n",
        "import scipy.stats as stats\n",
        "from scipy.stats import multivariate_normal\n"
      ]
    },
    {
      "cell_type": "markdown",
      "metadata": {
        "id": "-Vdjkh4cSgED"
      },
      "source": [
        "# Zad. \n",
        "Narysujmy gęstość dwuwymiarowego rozkładu Normalnego o parametach \n",
        "\n",
        "* n=[0,0], cov = [[1,0],[0,1]]\n",
        "* n=[0,0], cov = [[2,0],[0,1]]\n",
        "* n=[0,0], cov = [[1,0],[0,2]]"
      ]
    },
    {
      "cell_type": "code",
      "execution_count": 11,
      "metadata": {
        "id": "btMgsDj7SgEF"
      },
      "outputs": [],
      "source": [
        "X = np.arange(-3, 3, 0.01)\n",
        "Y = np.arange(-3, 3, 0.01)\n",
        "X, Y = np.meshgrid(X, Y)\n",
        "cov = np.array([[ 1.0 , 0.0], [0.0,  1.0]])\n",
        "Z = mlab.bivariate_normal(X, Y,  np.sqrt(cov[0, 0]), np.sqrt(cov[1, 1]), 0, 0, cov[1, 0])\n",
        "fig = plt.figure(figsize=(14,6))\n",
        "ax = fig.add_subplot(1, 2, 1, projection='3d')\n",
        "_ = ax.plot_surface(X, Y, Z, linewidth=0.2, cmap=cm.viridis)\n",
        "plt.show()"
      ]
    },
    {
      "cell_type": "markdown",
      "metadata": {
        "id": "Bj-NEJxfSgEH"
      },
      "source": [
        "# Zad \n",
        "Narysujmy kontury gęstości dwuwymiarowego rozkładu Normalnego o parametach \n",
        "\n",
        "* n=[0,0], cov = [[1,0],[0,1]]\n",
        "* n=[0,0], cov = [[2,0],[0,1]]\n",
        "* n=[0,0], cov = [[1,0],[0,2]]"
      ]
    },
    {
      "cell_type": "code",
      "execution_count": null,
      "metadata": {
        "id": "NblDykdlSgEK"
      },
      "outputs": [],
      "source": [
        "fig, ax = plt.subplots(nrows=1, ncols=1, figsize=(5, 5))\n",
        "ax.set_ylim(-1.5, 1.5)\n",
        "ax.set_xlim(-2, 2)\n",
        "levels = np.arange(0.0, 0.5, 0.01)\n",
        "_ = plt.contour(X, Y, Z, levels, origincmap=cm.viridis)\n",
        "plt.show()"
      ]
    },
    {
      "cell_type": "markdown",
      "metadata": {
        "id": "3BI1IVVNSgEM"
      },
      "source": [
        "# Zad \n",
        "Wylosujmy próbkę z dwuwymiarowego rozkładu Normalnego o parametach \n",
        "\n",
        "* n=[0,0], cov = [[1,0],[0,1]]\n",
        "* n=[0,0], cov = [[2,0],[0,1]]\n",
        "* n=[0,0], cov = [[1,0],[0,2]]\n",
        "\n",
        "i narysuj odpowiedni wykres"
      ]
    },
    {
      "cell_type": "code",
      "execution_count": null,
      "metadata": {
        "id": "GLTB2mLGSgEP",
        "outputId": "24ad0b47-f646-4196-e022-3c27515cd493"
      },
      "outputs": [
        {
          "data": {
            "image/png": "[encoded data removed]",
            "text/plain": [
              "<matplotlib.figure.Figure at 0x3a39c456a0>"
            ]
          },
          "metadata": {},
          "output_type": "display_data"
        }
      ],
      "source": [
        "mean = [0, 0]\n",
        "cov = np.array([[ 1.0 , 0.0], [0.0,  1.0]])\n",
        "samples = np.random.multivariate_normal(mean, cov, 1000)\n",
        "w, v = np.linalg.eig(cov)\n",
        "fig, ax = plt.subplots(nrows=1, ncols=1, figsize=(5, 5))\n",
        "_ = plt.scatter(samples[:,0], samples[:,1])\n",
        "plt.show()"
      ]
    },
    {
      "cell_type": "code",
      "execution_count": null,
      "metadata": {
        "collapsed": true,
        "id": "e5p8OAhfSgET"
      },
      "outputs": [],
      "source": [
        ""
      ]
    }
  ],
  "metadata": {
    "kernelspec": {
      "display_name": "Python 3",
      "language": "python",
      "name": "python3"
    },
    "language_info": {
      "codemirror_mode": {
        "name": "ipython",
        "version": 3
      },
      "file_extension": ".py",
      "mimetype": "text/x-python",
      "name": "python",
      "nbconvert_exporter": "python",
      "pygments_lexer": "ipython3",
      "version": "3.8.5"
    },
    "colab": {
      "name": "Z03_C_normal_distribution.ipynb",
      "provenance": []
    }
  },
  "nbformat": 4,
  "nbformat_minor": 0
}