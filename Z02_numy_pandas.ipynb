{
  "cells": [
    {
      "cell_type": "markdown",
      "metadata": {
        "id": "view-in-github",
        "colab_type": "text"
      },
      "source": [
        "<a href=\"https://colab.research.google.com/github/Longownica/psi_homework/blob/main/Z02_numy_pandas.ipynb\" target=\"_parent\"><img src=\"https://colab.research.google.com/assets/colab-badge.svg\" alt=\"Open In Colab\"/></a>"
      ]
    },
    {
      "cell_type": "markdown",
      "metadata": {
        "collapsed": true,
        "id": "UPVshF16uhOd"
      },
      "source": [
        "# NumPy - operacje arytmetyczne w Pythonie\n",
        "\n",
        "Standardowe typy danych i procedury Pythona nie nadają się do poważnych zastosowań numerycznych. Konieczne było opracowanie zoptymalizowanych pod względem typowych operacji numerycznych typów danych i procedur. Stworzony został Numerical Python, zwany w skrócie NumPy. Podczas rozwoju tego pakietu kierowano się podejściem zastosowanym w takich językach jak Basis, MATLAB, rodzina języków APL, FORTRAN i innych. Tak więc NumPy jest biblioteką Pythona służącą do obliczeń naukowych. Dostarcza ona listę matematycznych funkcji użytecznych w takich zagadnieniach jak:\n",
        "  \n",
        "  * algebra liniowa,\n",
        "  * transformacje Fouriera,\n",
        "  * generowanie liczb losowych,\n",
        "  * oraz wszystkie operacje na tablicach i macierzach, które są podstawowymi obiektami w Numpy.\n",
        "  \n",
        "Żeby można korzystać z dobrodziejstwa tej biblioteki należy ją zaimportować:"
      ]
    },
    {
      "cell_type": "code",
      "execution_count": null,
      "metadata": {
        "id": "ZJyewsOluhOh"
      },
      "outputs": [],
      "source": [
        "import numpy\n",
        "# lub\n",
        "import numpy as np "
      ]
    },
    {
      "cell_type": "markdown",
      "metadata": {
        "id": "OmBmrrpSuhOk"
      },
      "source": [
        "## Tworzenie macierzy\n",
        "Do stworzenia tablicy jedno-, dwu- i wielowymiarowej używamy funkcji **array**:"
      ]
    },
    {
      "cell_type": "code",
      "execution_count": null,
      "metadata": {
        "id": "qwHB6up0uhOl",
        "outputId": "5403c153-0bbe-4533-ccb5-c1825b7e4fa1"
      },
      "outputs": [
        {
          "name": "stdout",
          "output_type": "stream",
          "text": [
            "[1 2 3]\n",
            "\n",
            " \n",
            "\n",
            "[[1 2 3]\n",
            " [4 5 6]]\n",
            "\n",
            " \n",
            "\n",
            "[[[1 1 1]\n",
            "  [1 1 1]]\n",
            "\n",
            " [[2 2 2]\n",
            "  [2 2 2]]]\n"
          ]
        }
      ],
      "source": [
        "x = np.array([1,2,3]) # tablica jednowymiarowa\n",
        "A = np.array([[1,2,3] , [4,5,6]]) # tablica dwuwymiarowa\n",
        "B = np.array( [[[1,1,1],[1,1,1]], [[2,2,2],[2,2,2]]]) # wielowymiarowa\n",
        "\n",
        "print(x)\n",
        "print(\"\\n \\n\")\n",
        "print(A)\n",
        "print(\"\\n \\n\")\n",
        "print(B)"
      ]
    },
    {
      "cell_type": "markdown",
      "metadata": {
        "id": "Gftyvp2nuhOn"
      },
      "source": [
        "Przy tworzeniu tablicy istnieje możliwość zadeklarowania jej typu:"
      ]
    },
    {
      "cell_type": "code",
      "execution_count": null,
      "metadata": {
        "id": "-4vjysbIuhOp",
        "outputId": "ca94bc27-737f-423d-f08c-35bfb11847ea"
      },
      "outputs": [
        {
          "name": "stdout",
          "output_type": "stream",
          "text": [
            "[[1.+0.j 0.+0.j]\n",
            " [0.+0.j 1.+0.j]]\n"
          ]
        }
      ],
      "source": [
        "z = np.array( [[1,0], [0,1]], dtype=complex) # tablica liczb zespolonych\n",
        "print(z) "
      ]
    },
    {
      "cell_type": "markdown",
      "metadata": {
        "id": "qt2a5H6puhOq"
      },
      "source": [
        "Do tworzenia tablicy jednowymiarowej (wektora) składającego się z elementów z danego zakresu używamy polecenia **arange(start, stop, krok)**:"
      ]
    },
    {
      "cell_type": "code",
      "execution_count": null,
      "metadata": {
        "id": "HhPAD_-ZuhOq",
        "outputId": "6bb63a4c-45c2-4921-8e33-3dfb9d1ee372"
      },
      "outputs": [
        {
          "name": "stdout",
          "output_type": "stream",
          "text": [
            "[0 1 2 3 4 5 6 7 8 9]\n",
            " \n",
            "[0 2 4 6 8]\n",
            " \n",
            "[0.  0.5 1.  1.5 2.  2.5 3.  3.5 4.  4.5 5.  5.5 6.  6.5 7.  7.5 8.  8.5\n",
            " 9.  9.5]\n"
          ]
        }
      ],
      "source": [
        "print(np.arange(10), end='\\n \\n')\n",
        "print(np.arange(0, 10, 2), end='\\n \\n')\n",
        "print(np.arange(0., 10, 0.5))"
      ]
    },
    {
      "cell_type": "markdown",
      "metadata": {
        "id": "qfamnCAYuhOs"
      },
      "source": [
        "Jeśli chcemy wygenerować tablicę o określonej liczbie z danego przedziału, używamy funkcji **linspace**:"
      ]
    },
    {
      "cell_type": "code",
      "execution_count": null,
      "metadata": {
        "id": "nLFXicuYuhOt",
        "outputId": "86ea00da-0667-456f-bced-9a7d7cc6e206"
      },
      "outputs": [
        {
          "name": "stdout",
          "output_type": "stream",
          "text": [
            "[ 0.  5. 10.]\n",
            " \n",
            "[0.   0.25 0.5  0.75 1.  ]\n"
          ]
        },
        {
          "name": "stderr",
          "output_type": "stream",
          "text": [
            "C:\\ProgramData\\Anaconda3\\lib\\site-packages\\ipykernel_launcher.py:1: DeprecationWarning: object of type <class 'float'> cannot be safely interpreted as an integer.\n",
            "  \"\"\"Entry point for launching an IPython kernel.\n"
          ]
        }
      ],
      "source": [
        "print(np.linspace(0., 10., 3.), end='\\n \\n')\n",
        "print(np.linspace(0., 1, 5) )"
      ]
    },
    {
      "cell_type": "markdown",
      "metadata": {
        "id": "lsvJ3Y_yuhOv"
      },
      "source": [
        "Biblioteka Numpy oferuje wiele możliwości budowania typowych tablic:"
      ]
    },
    {
      "cell_type": "code",
      "execution_count": null,
      "metadata": {
        "id": "Vh9GV5mDuhOw",
        "outputId": "6a41c086-b7f8-411a-90d4-6f8f0f116769"
      },
      "outputs": [
        {
          "name": "stdout",
          "output_type": "stream",
          "text": [
            "[[1. 1. 1.]\n",
            " [1. 1. 1.]\n",
            " [1. 1. 1.]] \n",
            "\n",
            "[[0. 0.]\n",
            " [0. 0.]\n",
            " [0. 0.]] \n",
            "\n",
            "[[1. 0. 0. 0.]\n",
            " [0. 1. 0. 0.]\n",
            " [0. 0. 1. 0.]\n",
            " [0. 0. 0. 1.]]\n"
          ]
        }
      ],
      "source": [
        "print(np.ones((3,3)), '\\n') # dwuwymiarowa tablica (3x3) wypełniona jedynkami\n",
        "print(np.zeros((3,2)), '\\n') # dwuwymiarowa tablica (3x2) wypełniona zerami\n",
        "print(np.eye(4)) # macierz jednostkowa 4x4"
      ]
    },
    {
      "cell_type": "markdown",
      "metadata": {
        "id": "3I0mMbYZuhOx"
      },
      "source": [
        "Korzystając z powyższych funkcji możemy w łatwy sposób tworzyć dowolne macierze, zmieniając ich rozmiary."
      ]
    },
    {
      "cell_type": "code",
      "execution_count": null,
      "metadata": {
        "id": "KBF_ydsTuhOx",
        "outputId": "861307a6-6ac6-4638-a1a5-be9942b71a4f"
      },
      "outputs": [
        {
          "name": "stdout",
          "output_type": "stream",
          "text": [
            "[[ 0  1  2]\n",
            " [ 3  4  5]\n",
            " [ 6  7  8]\n",
            " [ 9 10 11]\n",
            " [12 13 14]] \n",
            "\n",
            "[[0.         0.07142857 0.14285714]\n",
            " [0.21428571 0.28571429 0.35714286]\n",
            " [0.42857143 0.5        0.57142857]\n",
            " [0.64285714 0.71428571 0.78571429]\n",
            " [0.85714286 0.92857143 1.        ]]\n"
          ]
        }
      ],
      "source": [
        "print(np.arange(15).reshape(5,3), '\\n')\n",
        "print(np.linspace(0., 1, 15).reshape(5,3))"
      ]
    },
    {
      "cell_type": "markdown",
      "metadata": {
        "id": "F661Zbd0uhOy"
      },
      "source": [
        "# Operacje na indeksach tablicy\n",
        "Żeby odwołać się do konkretnej wartości tablicy należy użyć **[]** z odpowiednim indeksem (pamiętamy, że w Pythonie zaczynamy indeksować od 0)."
      ]
    },
    {
      "cell_type": "code",
      "execution_count": null,
      "metadata": {
        "id": "K_flHGYxuhOz",
        "outputId": "867453ed-05c3-4870-a801-6db8eb6fd683"
      },
      "outputs": [
        {
          "name": "stdout",
          "output_type": "stream",
          "text": [
            "[ 0  1  2  3  4  5  6  7  8  9 10 11 12 13 14] \n",
            "\n",
            "3 \n",
            "\n",
            "[[ 0  1  2  3]\n",
            " [ 4  5  6  7]\n",
            " [ 8  9 10 11]\n",
            " [12 13 14 15]\n",
            " [16 17 18 19]] \n",
            "\n",
            "11\n",
            "11 \n",
            "\n",
            "[ 8  9 10 11] \n",
            "\n",
            "[ 2  6 10 14 18]\n"
          ]
        }
      ],
      "source": [
        "x = np.arange(15)\n",
        "print(x, '\\n')\n",
        "print(x[3], '\\n')\n",
        "\n",
        "A = np.arange(20).reshape(5,4)\n",
        "print(A, '\\n')\n",
        "print(A[2, 3])\n",
        "print(A[2][3], '\\n') # równoważnie\n",
        "print(A[2], '\\n') # trzeci wiersz\n",
        "print(A[:, 2]) # trzecia kolumna"
      ]
    },
    {
      "cell_type": "markdown",
      "metadata": {
        "id": "mDr2wHo8uhO1"
      },
      "source": [
        "Aby wyświetlić fragment tablicy od  $n-1$  do  $m-1$  elementów używamy składni: **tablica[n:m]**, analogicznie aby wyświetlić elementy tablicy pomiędzy  $n-1$ , a  $m-1$  przesuwając się o wartość  $k$  używamy składni **tablica[n:m:k]**. \n"
      ]
    },
    {
      "cell_type": "code",
      "execution_count": null,
      "metadata": {
        "id": "vuKDFdCUuhO3",
        "outputId": "c61f57c3-0338-4de9-ed1a-e580842084fc"
      },
      "outputs": [
        {
          "name": "stdout",
          "output_type": "stream",
          "text": [
            "[ 0  1  2  3  4  5  6  7  8  9 10 11 12 13 14] \n",
            "\n",
            "[ 3  4  5  6  7  8  9 10]\n",
            "[3 5 7 9] \n",
            "\n",
            "[[ 8  9 10 11]\n",
            " [12 13 14 15]] \n",
            "\n",
            "[[ 2  3]\n",
            " [ 6  7]\n",
            " [10 11]\n",
            " [14 15]\n",
            " [18 19]] \n",
            "\n",
            "[[ 2  3]\n",
            " [ 6  7]\n",
            " [10 11]\n",
            " [14 15]\n",
            " [18 19]]\n"
          ]
        }
      ],
      "source": [
        "x = np.arange(15)\n",
        "print(x, '\\n')\n",
        "print(x[3:11])\n",
        "print(x[3:11:2], '\\n')\n",
        "\n",
        "A = np.arange(20).reshape(5,4)\n",
        "print(A[2:4], '\\n') # wiersze od trzeciego do czwartego\n",
        "print(A[:,2:4], '\\n') # trzecia i czwarta kolumnę\n",
        "print(A[:,[2,3]]) # równoważnie"
      ]
    },
    {
      "cell_type": "markdown",
      "metadata": {
        "id": "Gmv1v8qUuhO4"
      },
      "source": [
        "Jak widać z powyższych przykładów, przecinek w nawiasach **[]** rozdziela poszczególne wymiary tablic."
      ]
    },
    {
      "cell_type": "code",
      "execution_count": null,
      "metadata": {
        "id": "4Z5UsKxZuhO5",
        "outputId": "5debfa8f-ba84-41e2-970a-6220d8f05279"
      },
      "outputs": [
        {
          "name": "stdout",
          "output_type": "stream",
          "text": [
            "[5 6 7] \n",
            "\n",
            "[[4 5]\n",
            " [8 9]] \n",
            "\n",
            "[4 6]\n"
          ]
        }
      ],
      "source": [
        "print(A[1,1:5], '\\n') # elementy z drugiego wiersza i od drugiej do piątej kolumny \n",
        "print(A[1:3, :2], '\\n') # elementy od drugiego do trzeciego wiersza, \n",
        "                 # znajdujące się w kolumnach od pierwszej do drugiej\n",
        "print(A[1,0:5:2]) # elementy drugiego wiersza i kolumny od pierwszej do piątej co dwie"
      ]
    },
    {
      "cell_type": "markdown",
      "metadata": {
        "id": "O1FyRZUguhO6"
      },
      "source": [
        "Tablice można też budować w oparciu o już istniejące:"
      ]
    },
    {
      "cell_type": "code",
      "execution_count": null,
      "metadata": {
        "id": "2NTNkws7uhO6",
        "outputId": "fe761f43-b17a-44c5-8c54-067acbe57a44"
      },
      "outputs": [
        {
          "name": "stdout",
          "output_type": "stream",
          "text": [
            "[[ 0  1  2  3]\n",
            " [ 4  5  6  7]\n",
            " [ 8  9 10 11]\n",
            " [12 13 14 15]\n",
            " [16 17 18 19]] \n",
            "\n",
            "[[10 11]\n",
            " [14 15]]\n"
          ]
        }
      ],
      "source": [
        "A = np.arange(20).reshape(5,4)\n",
        "print(A, '\\n')\n",
        "\n",
        "B = A[2:4, 2:]\n",
        "print(B)"
      ]
    },
    {
      "cell_type": "markdown",
      "metadata": {
        "id": "ZicFyPqtuhO7"
      },
      "source": [
        "# Zmiana rozmiaru, kształtu tablicy\n",
        "Do zmiany rozmiaru tablicy już utworzonej służy funkcja: reshape. Operacja ta nie zmieni zawartości oryginalnej tablicy, pokaże jedynie jej elementy w zadanej postaci."
      ]
    },
    {
      "cell_type": "code",
      "execution_count": null,
      "metadata": {
        "id": "nDKNU1c7uhO8",
        "outputId": "7f43670a-c374-4b09-ea8f-2ece8ab54b7d"
      },
      "outputs": [
        {
          "name": "stdout",
          "output_type": "stream",
          "text": [
            "[0 1 2 3 4 5 6 7] \n",
            "\n",
            "[[0 1 2 3]\n",
            " [4 5 6 7]] \n",
            "\n",
            "[0 1 2 3 4 5 6 7]\n"
          ]
        }
      ],
      "source": [
        "A = np.arange(8)\n",
        "print(A,'\\n')\n",
        "print(A.reshape((2, 4)), '\\n')\n",
        "print(A)"
      ]
    },
    {
      "cell_type": "markdown",
      "metadata": {
        "id": "djMB1JAjuhO9"
      },
      "source": [
        "Aby zmienić kształt tablicy za pomocą funkcji reshape możemy zrobić tak:"
      ]
    },
    {
      "cell_type": "code",
      "execution_count": null,
      "metadata": {
        "id": "ELed_7iVuhO-",
        "outputId": "932786dd-1f79-4b78-f7cf-a30f8fccfa25"
      },
      "outputs": [
        {
          "name": "stdout",
          "output_type": "stream",
          "text": [
            "[0 1 2 3 4 5 6 7] \n",
            "\n",
            "[[0 1 2 3]\n",
            " [4 5 6 7]]\n"
          ]
        }
      ],
      "source": [
        "A = np.arange(8)\n",
        "print(A,'\\n')\n",
        "A = A.reshape((2, 4))\n",
        "print(A)"
      ]
    },
    {
      "cell_type": "markdown",
      "metadata": {
        "id": "0ULlT8LpuhO_"
      },
      "source": [
        "lub użyć funkcję **resize**:"
      ]
    },
    {
      "cell_type": "code",
      "execution_count": null,
      "metadata": {
        "id": "SyxqzQZKuhO_",
        "outputId": "c5b84e4e-52c1-4754-a8ef-4178c528bc81"
      },
      "outputs": [
        {
          "name": "stdout",
          "output_type": "stream",
          "text": [
            "[0 1 2 3 4 5 6 7] \n",
            "\n",
            "[[0 1 2 3]\n",
            " [4 5 6 7]]\n"
          ]
        }
      ],
      "source": [
        "A = np.arange(8)\n",
        "print(A,'\\n')\n",
        "A.resize(2, 4)\n",
        "# print A.resize(2, 4), '\\n'\n",
        "print(A)"
      ]
    },
    {
      "cell_type": "markdown",
      "metadata": {
        "id": "LryGR9YUuhPA"
      },
      "source": [
        "Do sprawdzenia wymiaru tablicy służy funkcja **shape**:"
      ]
    },
    {
      "cell_type": "code",
      "execution_count": null,
      "metadata": {
        "id": "3t3qtHwZuhPB",
        "outputId": "d22daa75-53bb-479e-cfea-54b564be0785"
      },
      "outputs": [
        {
          "name": "stdout",
          "output_type": "stream",
          "text": [
            "(5, 4) \n",
            "\n",
            "5 \n",
            "\n",
            "4 \n",
            "\n",
            "20\n"
          ]
        }
      ],
      "source": [
        "A = np.arange(20).reshape(5,4)\n",
        "print(A.shape, '\\n') # wymiar tablicy\n",
        "print(A.shape[0], '\\n') # pierwszy wymiar\n",
        "print(A.shape[1], '\\n') # drugi wymiar\n",
        "print(A.size) # liczba wszystkich elementów w tablicy "
      ]
    },
    {
      "cell_type": "markdown",
      "metadata": {
        "id": "a2tygOH_uhPC"
      },
      "source": [
        "Transpozycja macierzy:"
      ]
    },
    {
      "cell_type": "code",
      "execution_count": null,
      "metadata": {
        "id": "5U4nQZEouhPD",
        "outputId": "b235bd2c-c811-4de4-c756-42ee5ff16f09"
      },
      "outputs": [
        {
          "name": "stdout",
          "output_type": "stream",
          "text": [
            "[[0 1 2 3]\n",
            " [4 5 6 7]] \n",
            "\n",
            "[[0 4]\n",
            " [1 5]\n",
            " [2 6]\n",
            " [3 7]] \n",
            "\n",
            "[[0 4]\n",
            " [1 5]\n",
            " [2 6]\n",
            " [3 7]]\n"
          ]
        }
      ],
      "source": [
        "A = np.arange(8).reshape(2,4)\n",
        "print(A, '\\n')\n",
        "print(A.T, '\\n')\n",
        "print(np.transpose(A))"
      ]
    },
    {
      "cell_type": "markdown",
      "metadata": {
        "id": "eIQBOQ19uhPE"
      },
      "source": [
        "Podobnie jak przy funkcji reshape aby zachować wynik transpozycji macierzy musimy go przypisać do nowej zmiennej."
      ]
    },
    {
      "cell_type": "code",
      "execution_count": null,
      "metadata": {
        "id": "C84Nc2sSuhPG",
        "outputId": "cc807d3b-8f35-477a-b74e-d2b02fba4946"
      },
      "outputs": [
        {
          "name": "stdout",
          "output_type": "stream",
          "text": [
            "[[0 1 2 3]\n",
            " [4 5 6 7]] \n",
            "\n",
            "[[0 4]\n",
            " [1 5]\n",
            " [2 6]\n",
            " [3 7]]\n"
          ]
        }
      ],
      "source": [
        "print(A, '\\n')\n",
        "A = A.T\n",
        "print(A)"
      ]
    },
    {
      "cell_type": "markdown",
      "metadata": {
        "id": "LvalTxjyuhPI"
      },
      "source": [
        "Podobnie jest z poleceniem **swapaxes(tablica, oś1, oś2)**, które wyświetli zmienione wiersze z kolumnami dla tablicy dwuwymiarowej. Dla wielowymiarowych tablic zmieni ono elementy dla zadanych osi."
      ]
    },
    {
      "cell_type": "code",
      "execution_count": null,
      "metadata": {
        "id": "vxtmtZ1euhPJ",
        "outputId": "c19890a1-25f6-4264-8d02-ae56d7411021"
      },
      "outputs": [
        {
          "name": "stdout",
          "output_type": "stream",
          "text": [
            "[[1 2 3]] \n",
            "\n",
            "[[1]\n",
            " [2]\n",
            " [3]] \n",
            "\n",
            "[[[0 1]\n",
            "  [2 3]]\n",
            "\n",
            " [[4 5]\n",
            "  [6 7]]] \n",
            "\n",
            "[[[0 4]\n",
            "  [2 6]]\n",
            "\n",
            " [[1 5]\n",
            "  [3 7]]]\n"
          ]
        }
      ],
      "source": [
        "x = np.array([[1,2,3]])\n",
        "print(x, '\\n')\n",
        "print(np.swapaxes(x,0,1), '\\n')\n",
        "\n",
        "x = np.array([[[0,1],[2,3]],[[4,5],[6,7]]])\n",
        "print(x, '\\n')\n",
        "print(np.swapaxes(x, 0, 2))"
      ]
    },
    {
      "cell_type": "markdown",
      "metadata": {
        "id": "mIvE459fuhPK"
      },
      "source": [
        "Aby zmienić tablicę na jednowymiarową, możemy użyć polecenia:"
      ]
    },
    {
      "cell_type": "code",
      "execution_count": null,
      "metadata": {
        "id": "bNpLN5izuhPK",
        "outputId": "708d4aae-7131-4142-9d4b-3de1938f86b0"
      },
      "outputs": [
        {
          "name": "stdout",
          "output_type": "stream",
          "text": [
            "[[0 1 2 3]\n",
            " [4 5 6 7]] \n",
            "\n",
            "[0 1 2 3 4 5 6 7] \n",
            "\n",
            "[0 1 2 3 4 5 6 7]\n"
          ]
        }
      ],
      "source": [
        "A = np.arange(8).reshape(2,4)\n",
        "print(A, '\\n')\n",
        "print(np.ravel(A), '\\n')\n",
        "print(A.reshape(-1,))"
      ]
    },
    {
      "cell_type": "markdown",
      "metadata": {
        "id": "xepy09yxuhPK"
      },
      "source": [
        "# Podstawowe operacje na tablicach\n",
        "\n",
        "  * dodawanie:"
      ]
    },
    {
      "cell_type": "code",
      "execution_count": null,
      "metadata": {
        "id": "WMoTh83KuhPL",
        "outputId": "178adcc8-9bcf-4032-aa34-ff16f4b90de1"
      },
      "outputs": [
        {
          "name": "stdout",
          "output_type": "stream",
          "text": [
            "[1 5 8 5 9]\n",
            "[1 5 8 5 9] \n",
            "\n",
            "[2 5 7 3 6] \n",
            "\n",
            "[[15 17 19]\n",
            " [21 23 25]\n",
            " [27 29 31]\n",
            " [33 35 37]\n",
            " [39 41 43]]\n",
            "[[15 17 19]\n",
            " [21 23 25]\n",
            " [27 29 31]\n",
            " [33 35 37]\n",
            " [39 41 43]] \n",
            "\n",
            "[[20 21 22]\n",
            " [23 24 25]\n",
            " [26 27 28]\n",
            " [29 30 31]\n",
            " [32 33 34]] \n",
            "\n",
            "[[15 16 17]\n",
            " [18 19 20]\n",
            " [21 22 23]\n",
            " [24 25 26]\n",
            " [27 28 29]] \n",
            "\n",
            "[1 2 3] \n",
            "\n",
            "[[16 18 20]\n",
            " [19 21 23]\n",
            " [22 24 26]\n",
            " [25 27 29]\n",
            " [28 30 32]]\n"
          ]
        }
      ],
      "source": [
        "x = np.array([1,4,6,2,5])\n",
        "v = np.arange(5)\n",
        "print(x+v)\n",
        "print(np.add(x, v), '\\n') # równoważnie\n",
        "print(x+1, '\\n')\n",
        "\n",
        "A = np.arange(15, 30).reshape((5, 3))\n",
        "B = np.arange(15).reshape((5, 3))\n",
        "print(A+B)\n",
        "print(np.add(A, B), '\\n')\n",
        "print(A+5, '\\n')\n",
        "\n",
        "x = np.array([1,2,3])\n",
        "print(A, '\\n')\n",
        "print(x, '\\n')\n",
        "print(np.add(A, x)) # dodawanie do każdego wiersza wektora x"
      ]
    },
    {
      "cell_type": "markdown",
      "metadata": {
        "id": "qw1jIv7AuhPM"
      },
      "source": [
        "* odejmowanie:"
      ]
    },
    {
      "cell_type": "code",
      "execution_count": null,
      "metadata": {
        "id": "_xSKaUOtuhPM",
        "outputId": "6331aa81-02de-4a9e-af6a-5e17c3d5a566"
      },
      "outputs": [
        {
          "name": "stdout",
          "output_type": "stream",
          "text": [
            "[ 1  3  4 -1  1]\n",
            "[ 1  3  4 -1  1] \n",
            "\n",
            "[0 3 5 1 4]\n",
            "[[15 15 15]\n",
            " [15 15 15]\n",
            " [15 15 15]\n",
            " [15 15 15]\n",
            " [15 15 15]]\n",
            "[[15 15 15]\n",
            " [15 15 15]\n",
            " [15 15 15]\n",
            " [15 15 15]\n",
            " [15 15 15]] \n",
            "\n",
            "[[14 15 16]\n",
            " [17 18 19]\n",
            " [20 21 22]\n",
            " [23 24 25]\n",
            " [26 27 28]] \n",
            "\n",
            "[[14 14 14]\n",
            " [17 17 17]\n",
            " [20 20 20]\n",
            " [23 23 23]\n",
            " [26 26 26]]\n"
          ]
        }
      ],
      "source": [
        "x = np.array([1,4,6,2,5])\n",
        "v = np.arange(5)\n",
        "print(x-v)\n",
        "print(np.subtract(x, v), '\\n') # równoważnie\n",
        "print(x-1)\n",
        "\n",
        "A = np.arange(15, 30).reshape((5, 3))\n",
        "B = np.arange(15).reshape((5, 3))\n",
        "print(A-B)\n",
        "print(np.subtract(A, B), '\\n')\n",
        "print(A-1, '\\n')\n",
        "\n",
        "x = np.array([1,2,3])\n",
        "print(np.subtract(A, x)) # odjęcie od każdego wiersza wektora x"
      ]
    },
    {
      "cell_type": "markdown",
      "metadata": {
        "id": "gUqMIMjeuhPN"
      },
      "source": [
        "* mnożenie:"
      ]
    },
    {
      "cell_type": "code",
      "execution_count": null,
      "metadata": {
        "id": "5AoHebtQuhPO",
        "outputId": "fa08bb8b-83de-4fc3-b387-d330b36ec024"
      },
      "outputs": [
        {
          "name": "stdout",
          "output_type": "stream",
          "text": [
            "[ 5 20 30 10 25] \n",
            "\n",
            "42 \n",
            "\n",
            "[ 0  4 12  6 20] \n",
            "\n",
            "[[ 5 15]\n",
            " [ 0 30]] \n",
            "\n",
            "[[ 22   0]\n",
            " [ 48 -12]] \n",
            "\n",
            "[[ -2  18]\n",
            " [  0 -12]]\n"
          ]
        }
      ],
      "source": [
        "x = np.array([1,4,6,2,5])\n",
        "v = np.arange(5)\n",
        "print(x*5, '\\n')\n",
        "print(np.dot(x,v), '\\n') # iloczyn skalarny\n",
        "print(x*v, '\\n' )# to nie, mnożony jest element przez element! \n",
        "\n",
        "A = np.array([[1, 3], [0, 6]])\n",
        "print(A*5, '\\n')\n",
        "\n",
        "B = np.array([[-2, 6], [8, -2]])\n",
        "print(np.dot(A, B), '\\n')\n",
        "print(A*B) # to nie, mnożony jest element przez element! "
      ]
    },
    {
      "cell_type": "markdown",
      "metadata": {
        "id": "sA-bSMd_uhPP"
      },
      "source": [
        "NumPy ma możliwość deklarowania macierzy, różnią się one w tym środowisku od tablic tym, że operacja mnożenia nie dotyczy mnożenia elementów, tylko klasycznego mnożenia macierzy:"
      ]
    },
    {
      "cell_type": "code",
      "execution_count": null,
      "metadata": {
        "id": "tKserrCnuhPR",
        "outputId": "15ef3938-7562-4c00-b33e-4d3f728273c6"
      },
      "outputs": [
        {
          "name": "stdout",
          "output_type": "stream",
          "text": [
            "[[17  1]\n",
            " [28  1]] \n",
            "\n",
            "[[17  1]\n",
            " [28  1]]\n"
          ]
        }
      ],
      "source": [
        "A = np.matrix( ((2,3), (3, 5)) )\n",
        "B = np.matrix( ((1,2), (5, -1)) )\n",
        "\n",
        "print(A * B, '\\n')\n",
        "print(np.dot(A, B))"
      ]
    },
    {
      "cell_type": "markdown",
      "metadata": {
        "id": "kV0JXYNtuhPS"
      },
      "source": [
        "  * potęgowanie:"
      ]
    },
    {
      "cell_type": "code",
      "execution_count": null,
      "metadata": {
        "id": "GeEyUY4QuhPU",
        "outputId": "0adff998-8e69-4079-ca6e-10c57ef1bcb0"
      },
      "outputs": [
        {
          "name": "stdout",
          "output_type": "stream",
          "text": [
            "[1 4 6 2 5] \n",
            "\n",
            "[ 1 16 36  4 25]\n",
            "[ 1 16 36  4 25] \n",
            "\n",
            "[[0 1 2]\n",
            " [3 4 5]\n",
            " [6 7 8]] \n",
            "\n",
            "[[ 0  1  4]\n",
            " [ 9 16 25]\n",
            " [36 49 64]] \n",
            "\n",
            "[[ 0  1  4]\n",
            " [ 9 16 25]\n",
            " [36 49 64]]\n"
          ]
        }
      ],
      "source": [
        "x = np.array([1,4,6,2,5])\n",
        "print(x, '\\n')\n",
        "\n",
        "print(x**2)\n",
        "print(np.power(x, 2), '\\n') # równoważnie\n",
        "\n",
        "A = np.arange(9).reshape((3, 3))\n",
        "print(A, '\\n')\n",
        "print(A**2, '\\n') # kwadrat elementów tablicy\n",
        "print(np.power(A, 2)) # równoważnie"
      ]
    },
    {
      "cell_type": "markdown",
      "metadata": {
        "id": "_AKdIUMQuhPU"
      },
      "source": [
        "Więcej funkcji można znaleźć tutaj: [https://docs.scipy.org/doc/numpy/reference/routines.math.html]."
      ]
    },
    {
      "cell_type": "markdown",
      "metadata": {
        "id": "T5wmpfV4uhPX"
      },
      "source": [
        "## Porównania elementów tablic"
      ]
    },
    {
      "cell_type": "code",
      "execution_count": null,
      "metadata": {
        "id": "wBG8q-9ruhPZ",
        "outputId": "944c5a98-00db-4739-9c85-9a86cd7a7a65"
      },
      "outputs": [
        {
          "name": "stdout",
          "output_type": "stream",
          "text": [
            "[[False False False]\n",
            " [False False False]\n",
            " [False False False]\n",
            " [False False False]\n",
            " [False False False]] \n",
            "\n",
            "[[ True  True  True]\n",
            " [ True  True  True]\n",
            " [ True  True  True]\n",
            " [ True  True  True]\n",
            " [ True  True  True]] \n",
            "\n",
            "[[False False False]\n",
            " [False False False]\n",
            " [False False False]\n",
            " [False False False]\n",
            " [ True False False]] \n",
            "\n",
            "True \n",
            "\n",
            "False\n"
          ]
        }
      ],
      "source": [
        "A = np.arange(5, 20).reshape((5, 3))\n",
        "B = np.arange(15).reshape((5, 3))\n",
        "\n",
        "print(A < B, '\\n')\n",
        "print(A == A, '\\n')\n",
        "print(A == 17, '\\n')\n",
        "print(np.any( A > 17 ), '\\n') # prawdziwe, jeśli każdy element z osobna spełnia warunek \n",
        "print(np.all( A > 17 )) # prawdziwe jeśli wszystkie elementy spełniają warunek"
      ]
    },
    {
      "cell_type": "markdown",
      "metadata": {
        "id": "8X5XMoJpuhPa"
      },
      "source": [
        "## Łączenie i dzielenie tablic\n",
        "Biblioteka <i>NumPy</i> daje nam narzędzia dzięki, którym możemy łączyć i dzielić tablice. Zaczniemy od omówienia problemu łączenia tablic:"
      ]
    },
    {
      "cell_type": "code",
      "execution_count": null,
      "metadata": {
        "id": "sYLBls14uhPa",
        "outputId": "87c57388-addd-484d-eb00-be3292530b80"
      },
      "outputs": [
        {
          "name": "stdout",
          "output_type": "stream",
          "text": [
            "[[1 2]\n",
            " [3 4]] \n",
            "\n",
            "[[5 6]] \n",
            "\n",
            "[[1 2]\n",
            " [3 4]\n",
            " [5 6]] \n",
            "\n",
            "[[1 2]\n",
            " [3 4]\n",
            " [5 6]] \n",
            "\n",
            "[[1 2 5]\n",
            " [3 4 6]] \n",
            "\n",
            "[[1 2 5]\n",
            " [3 4 6]]\n"
          ]
        }
      ],
      "source": [
        "x = np.array([[1, 2], [3, 4]])\n",
        "y = np.array([[5, 6]])\n",
        "\n",
        "print(x, '\\n')\n",
        "print(y, '\\n')\n",
        "\n",
        "# łączenie wierszowe\n",
        "print(np.concatenate((x, y), axis=0), '\\n')\n",
        "print(np.vstack((x,y)), '\\n')\n",
        "\n",
        "# łączenie kolumnowe\n",
        "print(np.concatenate((x,y.T), axis=1), '\\n')\n",
        "print(np.hstack((x,y.T)))"
      ]
    },
    {
      "cell_type": "markdown",
      "metadata": {
        "id": "lt8pZFZruhPc"
      },
      "source": [
        "## Wybrane metody z algebry linowej\n",
        "Do części funkcji typowych dla algebry liniowej możemy się odwołać po zaimportowaniu biblioteki **linalg** będącej integralną częścią biblioteki NumPy."
      ]
    },
    {
      "cell_type": "code",
      "execution_count": null,
      "metadata": {
        "id": "B5Wawb0guhPc"
      },
      "outputs": [],
      "source": [
        "import numpy.linalg as alg "
      ]
    },
    {
      "cell_type": "markdown",
      "metadata": {
        "id": "3dKXn14euhPd"
      },
      "source": [
        "Można tam znaleźć funkcję obliczającą:\n",
        "\n",
        "* macierz odwrotną:"
      ]
    },
    {
      "cell_type": "code",
      "execution_count": null,
      "metadata": {
        "id": "boPbV-7puhPd",
        "outputId": "f1e6105b-7a85-424e-c638-a34aeaff4477"
      },
      "outputs": [
        {
          "name": "stdout",
          "output_type": "stream",
          "text": [
            "[[-2.   1. ]\n",
            " [ 1.5 -0.5]] \n",
            "\n",
            "[[1.00000000e+00 1.11022302e-16]\n",
            " [0.00000000e+00 1.00000000e+00]]\n"
          ]
        }
      ],
      "source": [
        "A = np.array([[1., 2.], [3., 4.]])\n",
        "invA = alg.inv(A)\n",
        "print(invA, '\\n')\n",
        "print(np.dot(A, invA))"
      ]
    },
    {
      "cell_type": "markdown",
      "metadata": {
        "id": "DyJAsB5LuhPe"
      },
      "source": [
        "  * wyznacznik:"
      ]
    },
    {
      "cell_type": "code",
      "execution_count": null,
      "metadata": {
        "id": "iVKUOFOUuhPf",
        "outputId": "4c8ab2b4-32e2-4198-8f11-bac6835088b9"
      },
      "outputs": [
        {
          "name": "stdout",
          "output_type": "stream",
          "text": [
            "[[1. 2.]\n",
            " [3. 4.]] \n",
            "\n",
            "-2.0000000000000004\n"
          ]
        }
      ],
      "source": [
        "print(A, '\\n')\n",
        "print(alg.det(A))"
      ]
    },
    {
      "cell_type": "markdown",
      "metadata": {
        "id": "DBu991xpuhPf"
      },
      "source": [
        "  * ślad:"
      ]
    },
    {
      "cell_type": "code",
      "execution_count": null,
      "metadata": {
        "id": "mkgBcNSduhPg",
        "outputId": "b109fd61-8710-45b6-dc48-5ca5c96bf5c6"
      },
      "outputs": [
        {
          "name": "stdout",
          "output_type": "stream",
          "text": [
            "[[1. 2.]\n",
            " [3. 4.]] \n",
            "\n",
            "5.0\n"
          ]
        }
      ],
      "source": [
        "print(A, '\\n')\n",
        "print(np.trace(A))"
      ]
    },
    {
      "cell_type": "markdown",
      "metadata": {
        "id": "xMeCe6GSuhPg"
      },
      "source": [
        "  * normę dla macierz lub wektora:"
      ]
    },
    {
      "cell_type": "code",
      "execution_count": null,
      "metadata": {
        "id": "2By-N5ZyuhPg",
        "outputId": "ff650029-1995-4a0a-da0f-9943be4dac5a"
      },
      "outputs": [
        {
          "name": "stdout",
          "output_type": "stream",
          "text": [
            "5.477225575051661 \n",
            "\n",
            "5.477225575051661 \n",
            "\n",
            "7.0 \n",
            "\n",
            "[3.16227766 4.47213595] \n",
            "\n",
            "[2.23606798 5.        ] \n",
            "\n"
          ]
        }
      ],
      "source": [
        "print(alg.norm(A), '\\n') # Euklidesowa\n",
        "print(alg.norm(A, 'fro'), '\\n') # Frobeniusa\n",
        "print(alg.norm(A, np.inf), '\\n') # maksimum\n",
        "\n",
        "print(alg.norm(A, axis=0), '\\n') # wierszy\n",
        "print(alg.norm(A, axis=1), '\\n') # kolumn"
      ]
    },
    {
      "cell_type": "markdown",
      "metadata": {
        "id": "Etr2UaSjuhPh"
      },
      "source": [
        "  * rozwiązywanie układów równań:"
      ]
    },
    {
      "cell_type": "code",
      "execution_count": null,
      "metadata": {
        "id": "51LUKhT7uhPi",
        "outputId": "1d12228b-ce60-4be1-e743-18fb1e7ff593"
      },
      "outputs": [
        {
          "name": "stdout",
          "output_type": "stream",
          "text": [
            "[2.33333333 0.66666667]\n"
          ]
        }
      ],
      "source": [
        "# 4*x_1 + x_2 = 10\n",
        "# 3*x_1 = 7\n",
        "A = np.array([[4,1], [3,0]])\n",
        "b = np.array([10,7])\n",
        "print(np.linalg.solve(A, b))"
      ]
    },
    {
      "cell_type": "markdown",
      "metadata": {
        "id": "oEF8fQxMuhPi"
      },
      "source": [
        "## Statystyka\n",
        "<i>NumPy</i> oferuje dużo możliwości generacji liczb losowych. Poniżej podaję niektóre z nich, więcej można znaleźć tutaj:\n",
        "[https://docs.scipy.org/doc/numpy/reference/routines.random.html]"
      ]
    },
    {
      "cell_type": "code",
      "execution_count": null,
      "metadata": {
        "id": "CWF_c8xluhPi",
        "outputId": "6a1598af-61fe-47fb-e063-ca75309bea62"
      },
      "outputs": [
        {
          "name": "stdout",
          "output_type": "stream",
          "text": [
            "[[0.51331593 0.71828258]\n",
            " [0.31437938 0.42175377]\n",
            " [0.87209429 0.01614226]] \n",
            "\n",
            "[[ 3.26489408 -0.84423382  3.17960921]\n",
            " [ 2.38894145  2.36848575  4.27726106]] \n",
            "\n",
            "[[4 0 3]\n",
            " [0 1 2]\n",
            " [2 4 0]] \n",
            "\n",
            "[0 4 3] \n",
            "\n",
            "[[0.08460561 0.13215186 1.05790284]\n",
            " [0.19639517 1.74343072 1.35525228]] \n",
            "\n",
            "[[4 1 2 5]\n",
            " [1 2 2 4]] \n",
            "\n",
            "[ 1.16642122 -0.83369971  0.71169424 -0.6633981   0.97364497 -0.80360861\n",
            " -0.01146566] \n",
            "\n",
            "[10  7  7  3  1  4  8  5  6  6] \n",
            "\n",
            "[[ 1.46862811 -1.7177219 ]\n",
            " [ 0.83913167 -3.46827871]\n",
            " [10.02853104 -7.21854854]\n",
            " [ 3.5565149  -4.51507624]\n",
            " [ 2.96303611 -3.70456031]\n",
            " [ 2.14766288 -3.65611269]\n",
            " [ 6.03688058 -4.68693286]] \n",
            "\n"
          ]
        }
      ],
      "source": [
        "# macierz losowa 3x2 (liczby z przedziału [0, 1)) \n",
        "print(np.random.rand(3,2), '\\n')\n",
        "\n",
        "# macierz losowa 2x3 o elementach z rozkładu N(mu, sigma^2) = N(1, 4)\n",
        "print(2 * np.random.randn(2, 3) + 1, '\\n')\n",
        "\n",
        "# macierz losowa 3x3 o elementach całkowitych z przedziału [0, 5)\n",
        "print(np.random.randint(5, size=(3, 3)), '\\n')\n",
        "\n",
        "# losowe wybranie 3 liczb z [0, 1, 2, 3, 4]\n",
        "print(np.random.choice(5, 3, replace=False), '\\n')\n",
        "\n",
        "# rozkład wykładniczy (scale = 1/lambda)\n",
        "print(numpy.random.exponential(scale=1.0, size=(2, 3)), '\\n')\n",
        "\n",
        "# rozkład geometryczny\n",
        "print(np.random.geometric(p=0.35, size=(2,4)), '\\n')\n",
        "\n",
        "# rozkład normalny N(mu, sigma)\n",
        "print(np.random.normal(0.0, 1, size=7), '\\n')\n",
        "\n",
        "# rozkład Poissona\n",
        "print(np.random.poisson(5, 10), '\\n')\n",
        "\n",
        "# rozkład wielowymiarowy rozkład normalny\n",
        "mean = [5, -5]\n",
        "cov = [[10, -6], [-6, 5]]\n",
        "print(np.random.multivariate_normal(mean, cov, 7), '\\n')"
      ]
    },
    {
      "cell_type": "markdown",
      "metadata": {
        "id": "um3Rt0X8uhPj"
      },
      "source": [
        "Proste statystyki:"
      ]
    },
    {
      "cell_type": "code",
      "execution_count": null,
      "metadata": {
        "id": "3S6sYHm0uhPj",
        "outputId": "46bb5d17-0ef7-4c29-ab0c-79b6b65dac14"
      },
      "outputs": [
        {
          "name": "stdout",
          "output_type": "stream",
          "text": [
            "3.8359494419580757 \n",
            "\n",
            "-1.3538077707295026 \n",
            "\n",
            "7.957616559033794 \n",
            "\n",
            "2.9097761372025803 \n",
            "\n",
            "1.1368023655762562\n",
            "1.1368023655762562 \n",
            "\n",
            "1.486329163903139 \n",
            "\n",
            "1.6628696116007926\n",
            "1.6628696116007926 \n",
            "\n",
            "2.765135345185371\n",
            "2.765135345185371\n"
          ]
        }
      ],
      "source": [
        "x = np.random.normal(2.0, 2.5, size=7)\n",
        "\n",
        "print(x.max(),'\\n') #maksymalna wartość\n",
        "\n",
        "print(x.min(),'\\n') # minimalna wartość \n",
        "\n",
        "print(x.sum(),'\\n') # suma wszystkich elementów \n",
        "\n",
        "print(x.prod(),'\\n') # iloczyn wszystkich elementów \n",
        "\n",
        "print(x.mean()) # średnia z wszystkich elementów\n",
        "print(np.mean(x),'\\n')\n",
        "\n",
        "print(np.median(x),'\\n') # mediana\n",
        "\n",
        "print(x.std()) # odchylenie standardowe \n",
        "print(np.std(x),'\\n')\n",
        "\n",
        "print(x.var()) # wariancja\n",
        "print(np.var(x))"
      ]
    },
    {
      "cell_type": "markdown",
      "metadata": {
        "id": "RnRikuWPuhPl"
      },
      "source": [
        "# Zadanie 1\n",
        "Wygeneruj losową tablice 100 x 10, która będzie reprezentować 100 punktów w 10 wymiarowej przestrzeni. Napisz funkcję, która policzy odległość euklidesową pomiędzy każdą parą punktów, czy potrafisz zrobić to w jednej linijce, bez użycia żadnych pętli/wytworników pętli? Przypomnienie, dla dwóch wektorów  xx  i  yy  odległość euklidesową liczymy ze wzoru: \n",
        "\n",
        "$$\n",
        "d(x,y)=\\|x-y\\|_2^2=\\sum_{i=1}^n |x_i-y_i|^2.\n",
        "$$"
      ]
    },
    {
      "cell_type": "code",
      "execution_count": null,
      "metadata": {
        "id": "knil1qaKuhPl",
        "outputId": "4d738e94-ed1a-47d7-b5ab-4b74e9019abb",
        "colab": {
          "base_uri": "https://localhost:8080/"
        }
      },
      "outputs": [
        {
          "output_type": "stream",
          "name": "stdout",
          "text": [
            "podaj nr pierwszego punktu\n",
            "0\n",
            "podaj nr drugiego punktu\n",
            "1\n",
            "9388801\n"
          ]
        }
      ],
      "source": [
        "import numpy as np\n",
        "\n",
        "randomArray = np.random.randint(-1000, 1000, size=(100, 10))\n",
        "##print(randomArray)\n",
        "\n",
        "print(\"podaj nr pierwszego punktu\")\n",
        "n = int(input())\n",
        "print(\"podaj nr drugiego punktu\")\n",
        "m = int(input())\n",
        "\n",
        "sum = 0\n",
        "for i in range (10):\n",
        "  sum = sum + (randomArray[n][i] - randomArray[m][i])**2\n",
        "\n",
        "print(sum)"
      ]
    },
    {
      "cell_type": "markdown",
      "metadata": {
        "id": "oY9ygLEEuhPl"
      },
      "source": [
        "# Zadanie 2\n",
        "\n",
        "Wygeneruj losową tablicę z wielowymiarowego rozkładu normalnego (procedura random.multivariate_normal), która będzie reprezentować 100 punktów w 5 wymiarowej przestrzeni. Napisz funkcję do normalizacji zbioru punktów (zrób to w jednej linijce, bez użycia pętli):\n",
        "\n",
        "$$\n",
        "x_{ij} = \\frac{x_{ij}-\\mu_j}{\\sigma_j},\n",
        "$$\n",
        "\n",
        "gdzie  $μ_j$  to średnia, a  $σ_j$  to odchylenie standardowe po  $j$-tej kolumnie, zaś  $x_{ij}$  to  $j$-ta współrzędna  $i$ -tego wektora.\n",
        "\n",
        "Policz średnią i macierz kowariancji tak przekształconych danych. Co zaobserwowałeś?"
      ]
    },
    {
      "cell_type": "code",
      "execution_count": null,
      "metadata": {
        "id": "WXHPxuDpuhPm",
        "colab": {
          "base_uri": "https://localhost:8080/",
          "height": 1000
        },
        "outputId": "f8442984-5468-4fab-d935-94876c2e03f5"
      },
      "outputs": [
        {
          "output_type": "stream",
          "name": "stdout",
          "text": [
            "[[-0.37893091 -1.34714889 -0.19808775  1.93372588 -1.50965037]\n",
            " [ 0.40800903 -0.09922158 -1.19358476 -0.56885759  0.24914374]\n",
            " [-0.0893369   0.3676136  -1.04415127 -0.80440293  2.26867847]\n",
            " [-0.49314242  0.35465376 -1.52233023  1.82627345  1.1577838 ]\n",
            " [ 0.87775675  0.49137055 -0.14901785 -1.00638421  1.08289418]\n",
            " [-1.46335742 -0.47729399  0.78571015 -1.18586474 -0.21125384]\n",
            " [ 0.26785621  0.43474463  1.05976665  0.54448612  0.4965857 ]\n",
            " [ 1.24514201 -0.79214694 -1.21783012  1.5838877  -0.53323995]\n",
            " [ 1.47989251  0.29727903 -2.53588143 -0.16319081 -0.03628925]\n",
            " [-0.32039506  0.35918299 -0.46648318 -1.2974199  -0.84874044]\n",
            " [ 1.24799912 -0.47711694 -0.44160954 -1.48280159  0.8443781 ]\n",
            " [-0.14986248  1.24991504 -0.28053852 -0.2348215   0.27716359]\n",
            " [-0.69034432  0.3994693  -0.39741854  1.63728266 -0.72509499]\n",
            " [-0.94198483 -0.7968101  -1.46945532 -0.78891679  1.24750728]\n",
            " [-0.1169536  -1.10397456  0.19650518 -0.10848571  0.42782681]\n",
            " [ 0.45482757 -0.38661776  0.285473   -0.23069262 -0.80665804]\n",
            " [-2.01795991  0.62403599 -0.54584607  0.63370677  1.55511297]\n",
            " [ 0.88468547  1.62620817 -0.71419991 -0.35072297 -0.93079366]\n",
            " [ 0.69080914 -0.42594879 -0.40561448 -1.09061228 -0.26289556]\n",
            " [-0.90567569 -0.06105802  0.52905814 -0.06829904  1.59607221]\n",
            " [-0.78241891  0.1407202  -0.32289191  0.23191711 -0.65599058]\n",
            " [ 1.29627804 -1.25677171 -0.92627767 -0.18920312  0.65329133]\n",
            " [ 0.0754126  -2.10385521 -0.5092519  -0.21927203  0.22421679]\n",
            " [-0.65151949  0.67220867 -1.08407865  0.59047011  0.63088757]\n",
            " [ 0.4904679  -2.18847341  2.14805517 -0.64119815 -1.18541286]\n",
            " [ 0.42609424  1.19978428  0.80181592 -0.43858365 -1.01822715]\n",
            " [ 0.77527672  0.59044934  1.01092451  0.01986246  0.81620114]\n",
            " [-0.34805259 -0.93940976  0.00704067  0.82316322  1.64910983]\n",
            " [-0.03371292  0.5987744   0.25092559  1.44725747 -0.6074093 ]\n",
            " [-0.46162098  0.44232481 -1.47461217  1.40500931 -0.73920168]\n",
            " [-0.44301413  1.1271551   2.75006981  0.60444535 -0.14082391]\n",
            " [-0.461991   -0.06466412  0.56719261  0.17131223 -0.23474945]\n",
            " [-1.23621549 -0.13948468 -0.65828896 -0.0558694  -0.21037214]\n",
            " [ 0.4076724   1.69210729 -1.47173561  0.1353829   1.17116862]\n",
            " [-0.33489674  1.710394    0.55611861 -1.01109678  0.49412903]\n",
            " [ 1.28174932 -1.22359554 -1.82455407 -0.30876345 -0.01507734]\n",
            " [-2.19174805 -0.45891994 -0.2150844  -1.25249748  0.86444407]\n",
            " [ 0.02806188  0.86151941  0.35074001  1.93253492 -0.90418636]\n",
            " [-2.53625291  0.69012393  1.61472612  1.49137816  0.00838519]\n",
            " [-0.27179396  1.10966693 -0.78947897  1.76575605 -0.19814425]\n",
            " [ 0.55596054 -0.7519748   1.46068924  0.55253926 -1.51006842]\n",
            " [ 1.44110283  0.25241211 -0.21873204  1.24784902 -0.17563889]\n",
            " [ 0.45658751 -1.38088052  0.76365076 -0.86346191 -1.14727065]\n",
            " [-1.09003549 -1.03135972 -0.15465338 -1.00586855  0.47912861]\n",
            " [ 0.49202461 -0.24875621 -1.09135387 -1.61926381  1.04383219]\n",
            " [ 0.02806582  1.41542125 -0.6026229   1.32938804  0.56010696]\n",
            " [-0.84290405  0.40043304  0.74327655  2.12162763  0.70821472]\n",
            " [ 0.69392644  0.35977212  0.16316882 -0.61685522  2.26747507]\n",
            " [ 0.55203704 -1.26474132 -0.52817341 -0.83870644 -0.81136376]\n",
            " [ 0.37440997  2.16950791  2.33139441  0.31989054 -0.19016616]\n",
            " [-0.40824417  0.96152957 -2.01589551  0.28750177  0.63183169]\n",
            " [ 0.3422413  -0.82068878  0.31012197 -0.83798005  0.03767501]\n",
            " [-1.94602763 -0.87335114  1.34808815 -1.01413016 -0.965751  ]\n",
            " [ 1.99876213  0.18439779 -0.35528836  1.62773101 -1.15102516]\n",
            " [ 1.36762846  0.29215709  0.98250278  1.44841707  1.50680842]\n",
            " [-1.3464051  -0.89402274  0.42994762 -0.69225289  0.50188866]\n",
            " [-0.98095099  0.7180659   0.52060735 -1.26656817  0.08332952]\n",
            " [ 0.40212817 -0.91789619  0.00637186 -0.24469789 -1.21869258]\n",
            " [ 0.60843702 -1.65183164  0.67107163 -0.83447631 -1.90258861]\n",
            " [ 0.97631006  0.89253833  2.05882343  0.10487876 -0.18506804]\n",
            " [ 0.11842178  0.15529643  1.26232189  0.92327563 -0.52979408]\n",
            " [ 0.18021651 -1.19686457  0.22668508  1.03295277 -2.95048907]\n",
            " [-0.77070678 -1.92101162 -0.5428659   0.83709684 -1.06498082]\n",
            " [-0.77870271 -0.22907561  0.34663142 -0.40001849  0.3829691 ]\n",
            " [ 1.65111521  1.05434209 -0.76634398  0.47756547  0.31690782]\n",
            " [-0.3469941   1.8421793  -0.37937743 -1.1495021  -1.06228   ]\n",
            " [ 0.61728458 -0.39718854 -0.53025619 -1.11751383 -0.93553753]\n",
            " [ 0.31892503  0.33369523  1.88308333 -1.01916899 -1.72496074]\n",
            " [-0.83477607  0.79385823  1.72487405 -1.77673497  0.54629871]\n",
            " [-0.74478829  0.77434681  1.0921456  -2.36937417  0.85283741]\n",
            " [-0.57682552  1.42592957  0.55244644 -0.94432346 -0.76589748]\n",
            " [ 0.6377241  -2.57564638 -0.54697548 -0.45597426  0.81805518]\n",
            " [ 0.37317212 -0.51718618  0.24778784  0.04168006 -1.39096664]\n",
            " [ 2.8036015  -0.79219819 -0.60592323 -0.54722232  0.56438064]\n",
            " [ 0.69740436  0.48446706 -0.81524276  1.96787761  0.20685257]\n",
            " [-0.71261398 -0.63914332 -1.0256951  -0.07983436 -0.28096495]\n",
            " [ 0.70536772 -3.03411564  0.07148364  0.22107993 -1.75886693]\n",
            " [ 0.44505864 -0.38468706  0.14213157  0.16121078  1.70449167]\n",
            " [-0.14695863  0.64396944  1.17363811  1.46608522 -2.05511716]\n",
            " [-1.51324176  1.13293994  1.04071758  1.13447102 -0.32949578]\n",
            " [-1.09879498 -1.17948609  0.20663557 -1.15272619 -0.21874168]\n",
            " [-0.8297864   0.192615    1.58638762  0.31397807 -0.23218449]\n",
            " [ 1.08163464 -0.24761692  0.37572468 -0.43207214  0.67210566]\n",
            " [ 1.33355234  0.89996955 -0.66970063  0.22131896  0.70312656]\n",
            " [-0.07194401 -0.68602813  0.80896532  0.28984855 -0.46941263]\n",
            " [ 0.26994165  1.23468507 -0.21531508  0.76889599  0.30114201]\n",
            " [-2.02076667 -0.01460047  0.86387618 -0.26093005  1.6527323 ]\n",
            " [ 1.73059056 -0.24496373 -0.87130537  0.53673205  0.89561876]\n",
            " [ 1.50188669 -0.89505515 -0.50984243 -0.91924853  0.81559204]\n",
            " [ 0.94983916  1.20168135 -0.23474624 -0.69664238  0.15695816]\n",
            " [-0.91082871  1.33489618 -1.46079016  0.2106113   0.78685481]\n",
            " [ 0.43786219 -0.70571722  0.2138015   0.3044579  -0.01428847]\n",
            " [ 1.47094399  0.22378615 -0.23524652  1.47600863  1.1789336 ]\n",
            " [ 0.73588261 -0.66340185  0.91366451 -1.17097137  1.08519344]\n",
            " [-0.74757271  0.6941662   0.77853478 -1.012812   -1.8382252 ]\n",
            " [-1.09649295  0.09693989 -0.72800075  0.74984412  0.90813552]\n",
            " [-1.02264114  0.25227781 -1.7886467  -1.73053626  0.8476248 ]\n",
            " [-1.79931531  0.52068421 -0.27529848  0.02033359 -0.62545008]\n",
            " [ 0.09523577 -0.11868152 -0.82461055 -0.18801551 -0.82766801]\n",
            " [-0.82377512  0.64202115 -0.36416764 -0.21715991 -0.8249159 ]]\n"
          ]
        },
        {
          "output_type": "error",
          "ename": "NameError",
          "evalue": "ignored",
          "traceback": [
            "\u001b[0;31m---------------------------------------------------------------------------\u001b[0m",
            "\u001b[0;31mNameError\u001b[0m                                 Traceback (most recent call last)",
            "\u001b[0;32m<ipython-input-2-b22ca46401ec>\u001b[0m in \u001b[0;36m<module>\u001b[0;34m()\u001b[0m\n\u001b[1;32m      7\u001b[0m \u001b[0;34m\u001b[0m\u001b[0m\n\u001b[1;32m      8\u001b[0m \u001b[0mprint\u001b[0m\u001b[0;34m(\u001b[0m\u001b[0mnormalized\u001b[0m\u001b[0;34m)\u001b[0m\u001b[0;34m\u001b[0m\u001b[0;34m\u001b[0m\u001b[0m\n\u001b[0;32m----> 9\u001b[0;31m \u001b[0mprint\u001b[0m\u001b[0;34m(\u001b[0m\u001b[0mnp\u001b[0m\u001b[0;34m.\u001b[0m\u001b[0mmean\u001b[0m\u001b[0;34m(\u001b[0m\u001b[0mresult\u001b[0m\u001b[0;34m,\u001b[0m\u001b[0maxis\u001b[0m \u001b[0;34m=\u001b[0m \u001b[0;36m0\u001b[0m\u001b[0;34m)\u001b[0m\u001b[0;34m)\u001b[0m\u001b[0;34m\u001b[0m\u001b[0;34m\u001b[0m\u001b[0m\n\u001b[0m\u001b[1;32m     10\u001b[0m \u001b[0mprint\u001b[0m\u001b[0;34m(\u001b[0m\u001b[0mnp\u001b[0m\u001b[0;34m.\u001b[0m\u001b[0mstd\u001b[0m\u001b[0;34m(\u001b[0m\u001b[0mresult\u001b[0m\u001b[0;34m,\u001b[0m\u001b[0maxis\u001b[0m \u001b[0;34m=\u001b[0m \u001b[0;36m0\u001b[0m\u001b[0;34m)\u001b[0m\u001b[0;34m)\u001b[0m\u001b[0;34m\u001b[0m\u001b[0;34m\u001b[0m\u001b[0m\n",
            "\u001b[0;31mNameError\u001b[0m: name 'result' is not defined"
          ]
        }
      ],
      "source": [
        "mean = np.zeros(5)\n",
        "cov = np.eye(5)\n",
        "arr = np.random.multivariate_normal(mean, cov, size=100)\n",
        "normalized = (arr - np.mean(arr, axis = 0)) / np.std(arr, axis = 0)\n",
        "\n",
        "print(normalized)\n",
        "print(np.mean(result,axis = 0))\n",
        "print(np.std(result,axis = 0))"
      ]
    },
    {
      "cell_type": "markdown",
      "metadata": {
        "id": "nZGXLSoPuhPn"
      },
      "source": [
        "# Zadanie 3\n",
        "\n",
        "Wypełni 100-elementową tablicę liczbami losowymi naturalnymi z zakresu  $[5,15]$  i policz liczbę wystąpień tych liczb. Która z tych liczb najczęściej występuje w tak wygenerowanej tablicy?\n",
        "Wskazówka: zobacz funkcje: bincount, argmax."
      ]
    },
    {
      "cell_type": "code",
      "execution_count": null,
      "metadata": {
        "id": "fRUKGxOluhPn",
        "colab": {
          "base_uri": "https://localhost:8080/"
        },
        "outputId": "39d429ed-1fe3-4366-dcbf-c964ca2cb105"
      },
      "outputs": [
        {
          "output_type": "stream",
          "name": "stdout",
          "text": [
            "[ 6 10 11  7 15 15  6 12 13  5  9 12  5 10 11  8 11 10 14 13  5  9 14 15\n",
            " 11 14 12  5  6  9 11 13 11 15 15 14 12 11 11  9 12 13 11 15 12 11  7  7\n",
            " 13  8 12 12 12  7  6 10 12 12 13  8 10 13  6 12  8  6  5 13 14  7 11 11\n",
            "  9 13  9  5  8 11 12 14 11  8  9 13  8 15 14 13  8  5 11  5 15  9 13  7\n",
            "  6 12 10  8]\n",
            "[ 0  0  0  0  0  8  7  6  9  8  6 15 14 12  7  8]\n",
            "najczesciej wystepuje; \n",
            "11\n"
          ]
        }
      ],
      "source": [
        "import numpy as np\n",
        "\n",
        "randomArray = np.random.randint(5, 16, size=(100))\n",
        "countArray = np.bincount(randomArray)\n",
        "max = np.argmax(countArray)\n",
        "\n",
        "print(randomArray)\n",
        "print(countArray)\n",
        "print(\"najczesciej wystepuje; \")\n",
        "print(max)"
      ]
    },
    {
      "cell_type": "markdown",
      "metadata": {
        "id": "3SBhGBEtuhPo"
      },
      "source": [
        "# Zadanie 4\n",
        "\n",
        "Korzystając z poniższego kodu zaimportuj dane **breast cancer**, który składa się z 2 elementów: macierzy  $X$  o wymiarach 569 x 30 oraz wektora  $y$ o długości 569. Macierz  $X$  opisuje badania 683 pacjentów, a wektor  $y$  ich diagnozy."
      ]
    },
    {
      "cell_type": "code",
      "execution_count": null,
      "metadata": {
        "id": "3uMJB1RguhPp",
        "outputId": "8c01a3ad-af68-4bf4-a668-64205e4fc89b",
        "colab": {
          "base_uri": "https://localhost:8080/"
        }
      },
      "outputs": [
        {
          "output_type": "stream",
          "name": "stdout",
          "text": [
            "(569, 30)\n",
            "(569,)\n"
          ]
        }
      ],
      "source": [
        "from sklearn.datasets import load_breast_cancer\n",
        "X, y  = load_breast_cancer(return_X_y=True)\n",
        "print(X.shape)\n",
        "print(y.shape)"
      ]
    },
    {
      "cell_type": "markdown",
      "metadata": {
        "id": "cBq2QefkuhPq"
      },
      "source": [
        "Za pomocą biblioteki **numpy** przenumeruj wektor  $y$ , tzn zamień wartości $0$ i $1$ na $-1$ i $+1$. Przeskaluj macierz  $X$ , tak żeby wartości w każdej kolumnie mieściły się w zakresie  $[0,1]$ , innymi słowy przeskaluj niezależnie każdą kolumnę  $X_i$  według poniższej procedury: \n",
        "\n",
        "$$\n",
        "X_i=\\frac{X_i-min(X_i)}{max(X_i)-min(X_i)}.\n",
        "$$"
      ]
    },
    {
      "cell_type": "code",
      "execution_count": null,
      "metadata": {
        "id": "VnCOKgHtuhPq"
      },
      "outputs": [],
      "source": [
        "from sklearn.datasets import load_breast_cancer\n",
        "X, y  = load_breast_cancer(return_X_y=True)\n",
        "\n",
        "y = np.where(y==0,-1,y)\n",
        "print(y)\n",
        "X_scaled = (X - X.min(axis=0)) / (X.max(axis=0) - X.min(axis=0))\n",
        "print(X_scaled)"
      ]
    },
    {
      "cell_type": "markdown",
      "metadata": {
        "id": "OxfJqCjRuhPr"
      },
      "source": [
        "# Biblioteka Pandas\n",
        "\n",
        "**Pandas** jest darmową biblioteką języka Python, która służy do analizy danych. Zawiera łatwe w użyciu struktury i narzędzia do analizy danych spotykane w języku R.\n",
        "\n",
        "Biblioteka ta pozwala między innymi na:\n",
        "  \n",
        "  * tworzenie własnych danych w odpowiednich strukturach,\n",
        "  * importowanie i eksportowanie danych do różnych plików,\n",
        "  * przygotowanie danych do analizy (pozbycie się anomalii w danych, np. brakujących wartości),\n",
        "  * analizę danych,\n",
        "  * prezentację danych.\n",
        "\n",
        "Do instalacji tej biblioteki można użyć procedury **pip** albo **conda** [http://pandas.pydata.org/pandas-docs/stable/install.html]"
      ]
    },
    {
      "cell_type": "markdown",
      "metadata": {
        "id": "AwnBxXWeuhPs"
      },
      "source": [
        "Aby skorzystać z biblioteki pandas należy ją wcześniej zaimportować, np.:"
      ]
    },
    {
      "cell_type": "code",
      "execution_count": null,
      "metadata": {
        "id": "J2040ZH4uhPs",
        "outputId": "7dd6af36-1525-4308-c0ee-c60e95f2da3c",
        "colab": {
          "base_uri": "https://localhost:8080/"
        }
      },
      "outputs": [
        {
          "output_type": "stream",
          "name": "stdout",
          "text": [
            "1.3.5\n"
          ]
        }
      ],
      "source": [
        "# import pandas\n",
        "import pandas as pd\n",
        "\n",
        "print(pd.__version__) # wersja biblioteki\n",
        "%matplotlib inline"
      ]
    },
    {
      "cell_type": "markdown",
      "metadata": {
        "id": "WcrqWbymuhPs"
      },
      "source": [
        "## Struktury danych\n",
        "\n",
        "Biblioteka pandas wprowadza dwie nowe struktury danych do Pythona: **Series** i **DataFrame**.\n",
        "\n",
        "1. **Serie**\n",
        "\n",
        "Seria to jednowymiarowy obiekt podobny do tablicy, listy, który może zawierać różnego rodzaju dane (liczby całkowite, zmiennoprzecinkowe, ciągi, obiekty Pythona, itd.). Każdy element serii ma przypisany indeks/etykietę (domyślnie od 0 do N, gdzie N jest długość serii minus 1)."
      ]
    },
    {
      "cell_type": "code",
      "execution_count": null,
      "metadata": {
        "id": "tEdC-lSBuhPt",
        "outputId": "be711c65-fed5-4be0-8fb6-b46f9fdabaa6",
        "colab": {
          "base_uri": "https://localhost:8080/"
        }
      },
      "outputs": [
        {
          "output_type": "stream",
          "name": "stdout",
          "text": [
            "0                7\n",
            "1       Heisenberg\n",
            "2             3.14\n",
            "3      -1789710578\n",
            "4    Happy Eating!\n",
            "dtype: object\n"
          ]
        }
      ],
      "source": [
        "from pandas import Series, DataFrame\n",
        "import pandas as pd\n",
        "s = pd.Series([7, 'Heisenberg', 3.14, -1789710578, 'Happy Eating!'])\n",
        "print(s)"
      ]
    },
    {
      "cell_type": "markdown",
      "metadata": {
        "id": "6no749iYuhPt"
      },
      "source": [
        "Alternatywnie, można zdefiniować indeksy elementów serii w trakcje jej definicji:"
      ]
    },
    {
      "cell_type": "code",
      "execution_count": null,
      "metadata": {
        "id": "3UCcsLyluhPu",
        "outputId": "705a9243-1674-467f-da11-569b1a0b614d",
        "colab": {
          "base_uri": "https://localhost:8080/"
        }
      },
      "outputs": [
        {
          "output_type": "stream",
          "name": "stdout",
          "text": [
            "a   -0.942077\n",
            "b    0.074476\n",
            "c   -0.723835\n",
            "i   -0.922448\n",
            "e   -2.236202\n",
            "dtype: float64\n"
          ]
        }
      ],
      "source": [
        "import numpy as np\n",
        "\n",
        "# Series(dane, index=indeks)\n",
        "s = Series(np.random.randn(5), index=['a', 'b', 'c', 'i', 'e'])\n",
        "print(s)"
      ]
    },
    {
      "cell_type": "markdown",
      "metadata": {
        "id": "KHk-FH5duhPv"
      },
      "source": [
        "Konstruktor **Series** może przetwarzać słowniki Pythona:"
      ]
    },
    {
      "cell_type": "code",
      "execution_count": null,
      "metadata": {
        "id": "aAjTCOuuuhPv",
        "outputId": "d7ce5536-3003-4f5b-b56a-5efa89936c15",
        "colab": {
          "base_uri": "https://localhost:8080/"
        }
      },
      "outputs": [
        {
          "output_type": "stream",
          "name": "stdout",
          "text": [
            "a    0.0\n",
            "b    1.0\n",
            "c    2.0\n",
            "dtype: float64\n"
          ]
        }
      ],
      "source": [
        "d = {'a' : 0., 'b' : 1., 'c' : 2.}\n",
        "print(Series(d))"
      ]
    },
    {
      "cell_type": "code",
      "execution_count": null,
      "metadata": {
        "id": "_roJ6KkeuhPv",
        "outputId": "61a356e9-3dac-4c21-e968-14b8d0372070"
      },
      "outputs": [
        {
          "name": "stdout",
          "output_type": "stream",
          "text": [
            "b    1.0\n",
            "c    2.0\n",
            "d    NaN\n",
            "a    0.0\n",
            "dtype: float64\n"
          ]
        }
      ],
      "source": [
        "print(Series(d, index=['b', 'c', 'd', 'a']))"
      ]
    },
    {
      "cell_type": "code",
      "execution_count": null,
      "metadata": {
        "id": "MhtezkpluhPx",
        "outputId": "798c8119-da9f-4125-bb00-47442c96e1f8"
      },
      "outputs": [
        {
          "name": "stdout",
          "output_type": "stream",
          "text": [
            "a    1\n",
            "b    1\n",
            "c    1\n",
            "d    1\n",
            "e    1\n",
            "dtype: int64 \n",
            "\n",
            "a    1.0\n",
            "b    1.0\n",
            "c    1.0\n",
            "d    1.0\n",
            "e    1.0\n",
            "dtype: float64\n"
          ]
        }
      ],
      "source": [
        "print(Series(1, index=['a', 'b', 'c', 'd', 'e']), '\\n')\n",
        "print(Series(1., index=['a', 'b', 'c', 'd', 'e']))"
      ]
    },
    {
      "cell_type": "markdown",
      "metadata": {
        "id": "NtUxDZcfuhPx"
      },
      "source": [
        "## 1.1 Odwoływanie się do elementów serii\n",
        "\n",
        "Struktura Series działa jak tablica. Można odwołać się do poszczególnego elementu serii za pomocą indeksu, używać logicznego indeksowania, itd.:"
      ]
    },
    {
      "cell_type": "code",
      "execution_count": null,
      "metadata": {
        "id": "IPk719MxuhPy",
        "outputId": "33489b10-5251-4001-cd23-89f6594dd044"
      },
      "outputs": [
        {
          "name": "stdout",
          "output_type": "stream",
          "text": [
            "a    0.658887\n",
            "b    0.786614\n",
            "c   -0.452638\n",
            "i   -1.455700\n",
            "e   -1.199088\n",
            "dtype: float64 \n",
            "\n",
            "0.6588874879366847 -1.455700308849256\n"
          ]
        }
      ],
      "source": [
        "s = Series(np.random.randn(5), index=['a', 'b', 'c', 'i', 'e'])\n",
        "print(s, '\\n')\n",
        "\n",
        "print(s[0], s[3])"
      ]
    },
    {
      "cell_type": "code",
      "execution_count": null,
      "metadata": {
        "id": "Y6lvrEz2uhPy",
        "outputId": "f9d98467-c15d-4687-8372-b43887c09126"
      },
      "outputs": [
        {
          "name": "stdout",
          "output_type": "stream",
          "text": [
            "a    0.658887\n",
            "b    0.786614\n",
            "dtype: float64 \n",
            "\n",
            "a    0.658887\n",
            "b    0.786614\n",
            "dtype: float64\n"
          ]
        }
      ],
      "source": [
        "print(s[s > 0.5], '\\n')\n",
        "print(s[s > s.mean()])"
      ]
    },
    {
      "cell_type": "markdown",
      "metadata": {
        "id": "IPNh4ndpuhPz"
      },
      "source": [
        "## 1.2 Zmiana wartości wybranych elementów"
      ]
    },
    {
      "cell_type": "code",
      "execution_count": null,
      "metadata": {
        "id": "QUZWACVPuhP0",
        "outputId": "331b2ef7-0924-493d-e0d5-00d4ca4dde94"
      },
      "outputs": [
        {
          "name": "stdout",
          "output_type": "stream",
          "text": [
            "a    0.350033\n",
            "b   -0.471139\n",
            "c   -0.461294\n",
            "i    1.322515\n",
            "e   -0.983739\n",
            "dtype: float64 \n",
            "\n",
            "stara wartosc: 0.35003295927739314\n",
            "nowa wartosc: 10.0 \n",
            "\n",
            "stara wartosc: -0.47113931749810284\n",
            "nowa wartosc: 15.0\n"
          ]
        }
      ],
      "source": [
        "s = Series(np.random.randn(5), index=['a', 'b', 'c', 'i', 'e'])\n",
        "print(s, '\\n')\n",
        "print(\"stara wartosc:\",  s[0])\n",
        "s[0] = 10. \n",
        "print(\"nowa wartosc:\",  s[0], '\\n')\n",
        "\n",
        "print(\"stara wartosc:\",  s['b'])\n",
        "s['b'] = 15. \n",
        "print(\"nowa wartosc:\",  s['b'])"
      ]
    },
    {
      "cell_type": "code",
      "execution_count": null,
      "metadata": {
        "id": "6qExwJu8uhP0",
        "outputId": "9bc55e61-baa6-4dc7-ccda-74e55a78bb90"
      },
      "outputs": [
        {
          "name": "stdout",
          "output_type": "stream",
          "text": [
            "stare:\n",
            " a    0.704046\n",
            "b   -0.885024\n",
            "c    0.156746\n",
            "i    1.339003\n",
            "e   -0.157302\n",
            "dtype: float64 \n",
            "\n",
            "nowe:\n",
            " a    0.704046\n",
            "b    1.000000\n",
            "c    1.000000\n",
            "i    1.339003\n",
            "e    1.000000\n",
            "dtype: float64\n"
          ]
        }
      ],
      "source": [
        "s = Series(np.random.randn(5), index=['a', 'b', 'c', 'i', 'e'])\n",
        "print(\"stare:\\n\",  s, '\\n')\n",
        "s[s < s.mean()] = 1\n",
        "print(\"nowe:\\n\",  s)"
      ]
    },
    {
      "cell_type": "markdown",
      "metadata": {
        "id": "OLUZLAMnuhP2"
      },
      "source": [
        "## 1.5 Niezdefiniowane wartości, obiekty"
      ]
    },
    {
      "cell_type": "code",
      "execution_count": null,
      "metadata": {
        "id": "X2DKkPEkuhP2",
        "outputId": "0c98645a-f199-4e1f-9f9d-0dddd317a799"
      },
      "outputs": [
        {
          "name": "stdout",
          "output_type": "stream",
          "text": [
            "Chicago          1000.0\n",
            "New York         1300.0\n",
            "Portland          900.0\n",
            "San Francisco    1100.0\n",
            "Austin            450.0\n",
            "Boston              NaN\n",
            "dtype: float64 \n",
            "\n",
            "False\n",
            "True\n"
          ]
        }
      ],
      "source": [
        "cities = Series({'Chicago': 1000, 'New York': 1300, 'Portland': 900,\n",
        "                 'San Francisco': 1100, 'Austin': 450, 'Boston': None})\n",
        "print(cities, '\\n')\n",
        "\n",
        "print('Seattle' in cities)\n",
        "print('San Francisco' in cities)"
      ]
    },
    {
      "cell_type": "code",
      "execution_count": null,
      "metadata": {
        "id": "YPcpDohguhP6",
        "outputId": "3b1975d9-4ab7-4ccf-d33f-36ccc2fc1e8f"
      },
      "outputs": [
        {
          "name": "stdout",
          "output_type": "stream",
          "text": [
            "Chicago          1000.0\n",
            "New York         1300.0\n",
            "Portland          900.0\n",
            "San Francisco    1100.0\n",
            "Austin            450.0\n",
            "Boston              NaN\n",
            "dtype: float64 \n",
            "\n",
            "Chicago           True\n",
            "New York          True\n",
            "Portland          True\n",
            "San Francisco     True\n",
            "Austin            True\n",
            "Boston           False\n",
            "dtype: bool\n"
          ]
        }
      ],
      "source": [
        "print(cities, '\\n')\n",
        "print(cities.notnull()) # które są zdefiniowane"
      ]
    },
    {
      "cell_type": "code",
      "execution_count": null,
      "metadata": {
        "id": "k0gt5VCIuhP8",
        "outputId": "22d2a982-7dc0-4def-c734-10537d0b3003"
      },
      "outputs": [
        {
          "name": "stdout",
          "output_type": "stream",
          "text": [
            "Chicago          False\n",
            "New York         False\n",
            "Portland         False\n",
            "San Francisco    False\n",
            "Austin           False\n",
            "Boston            True\n",
            "dtype: bool\n"
          ]
        }
      ],
      "source": [
        "print(cities.isnull()) # które nie są zdefiniowane"
      ]
    },
    {
      "cell_type": "code",
      "execution_count": null,
      "metadata": {
        "id": "6NL-27FeuhP9",
        "outputId": "3fbb04a9-dc77-4a61-d989-f44498464ac4"
      },
      "outputs": [
        {
          "name": "stdout",
          "output_type": "stream",
          "text": [
            "Boston   NaN\n",
            "dtype: float64\n",
            "\n",
            "Chicago          False\n",
            "New York         False\n",
            "Portland         False\n",
            "San Francisco    False\n",
            "Austin           False\n",
            "Boston           False\n",
            "dtype: bool\n",
            "\n",
            "Chicago          1000.0\n",
            "New York         1300.0\n",
            "Portland          900.0\n",
            "San Francisco    1100.0\n",
            "Austin            450.0\n",
            "Boston              1.0\n",
            "dtype: float64\n"
          ]
        }
      ],
      "source": [
        "print(cities[cities.isnull()]) # tylko te które nie są zdefiniowane \n",
        "cities[cities.isnull()] = 1\n",
        "print() \n",
        "print(cities.isnull())\n",
        "print()\n",
        "print(cities)"
      ]
    },
    {
      "cell_type": "markdown",
      "metadata": {
        "id": "t6GlyFimuhP-"
      },
      "source": [
        "# 2. DataFrame\n",
        "\n",
        "<i>DataFrame</i> to struktura danych składa się z wierszy i kolumn, podobna do arkusza kalkulacyjnego, baz danych, tabeli 2-wymiarowej lub data.frame obiektu z języka R.\n",
        "\n",
        "Poniżej przedstawiam kilka sposobów definiowania struktury DataFrame:\n",
        "\n",
        "  * ze słownika list/tablic"
      ]
    },
    {
      "cell_type": "code",
      "execution_count": null,
      "metadata": {
        "id": "ISeQ9ePguhP-",
        "outputId": "35cada4c-4ef2-4fc5-e4e4-37eac8833ce3",
        "colab": {
          "base_uri": "https://localhost:8080/",
          "height": 263
        }
      },
      "outputs": [
        {
          "output_type": "stream",
          "name": "stdout",
          "text": [
            "   one  two\n",
            "0  1.0  4.0\n",
            "1  2.0  3.0\n",
            "2  3.0  2.0\n",
            "3  4.0  1.0\n"
          ]
        },
        {
          "output_type": "execute_result",
          "data": {
            "text/plain": [
              "   one  two\n",
              "0  1.0  4.0\n",
              "1  2.0  3.0\n",
              "2  3.0  2.0\n",
              "3  4.0  1.0"
            ],
            "text/html": [
              "\n",
              "  <div id=\"df-97f989ca-22e7-4def-aee1-375f7ec0c134\">\n",
              "    <div class=\"colab-df-container\">\n",
              "      <div>\n",
              "<style scoped>\n",
              "    .dataframe tbody tr th:only-of-type {\n",
              "        vertical-align: middle;\n",
              "    }\n",
              "\n",
              "    .dataframe tbody tr th {\n",
              "        vertical-align: top;\n",
              "    }\n",
              "\n",
              "    .dataframe thead th {\n",
              "        text-align: right;\n",
              "    }\n",
              "</style>\n",
              "<table border=\"1\" class=\"dataframe\">\n",
              "  <thead>\n",
              "    <tr style=\"text-align: right;\">\n",
              "      <th></th>\n",
              "      <th>one</th>\n",
              "      <th>two</th>\n",
              "    </tr>\n",
              "  </thead>\n",
              "  <tbody>\n",
              "    <tr>\n",
              "      <th>0</th>\n",
              "      <td>1.0</td>\n",
              "      <td>4.0</td>\n",
              "    </tr>\n",
              "    <tr>\n",
              "      <th>1</th>\n",
              "      <td>2.0</td>\n",
              "      <td>3.0</td>\n",
              "    </tr>\n",
              "    <tr>\n",
              "      <th>2</th>\n",
              "      <td>3.0</td>\n",
              "      <td>2.0</td>\n",
              "    </tr>\n",
              "    <tr>\n",
              "      <th>3</th>\n",
              "      <td>4.0</td>\n",
              "      <td>1.0</td>\n",
              "    </tr>\n",
              "  </tbody>\n",
              "</table>\n",
              "</div>\n",
              "      <button class=\"colab-df-convert\" onclick=\"convertToInteractive('df-97f989ca-22e7-4def-aee1-375f7ec0c134')\"\n",
              "              title=\"Convert this dataframe to an interactive table.\"\n",
              "              style=\"display:none;\">\n",
              "        \n",
              "  <svg xmlns=\"http://www.w3.org/2000/svg\" height=\"24px\"viewBox=\"0 0 24 24\"\n",
              "       width=\"24px\">\n",
              "    <path d=\"M0 0h24v24H0V0z\" fill=\"none\"/>\n",
              "    <path d=\"M18.56 5.44l.94 2.06.94-2.06 2.06-.94-2.06-.94-.94-2.06-.94 2.06-2.06.94zm-11 1L8.5 8.5l.94-2.06 2.06-.94-2.06-.94L8.5 2.5l-.94 2.06-2.06.94zm10 10l.94 2.06.94-2.06 2.06-.94-2.06-.94-.94-2.06-.94 2.06-2.06.94z\"/><path d=\"M17.41 7.96l-1.37-1.37c-.4-.4-.92-.59-1.43-.59-.52 0-1.04.2-1.43.59L10.3 9.45l-7.72 7.72c-.78.78-.78 2.05 0 2.83L4 21.41c.39.39.9.59 1.41.59.51 0 1.02-.2 1.41-.59l7.78-7.78 2.81-2.81c.8-.78.8-2.07 0-2.86zM5.41 20L4 18.59l7.72-7.72 1.47 1.35L5.41 20z\"/>\n",
              "  </svg>\n",
              "      </button>\n",
              "      \n",
              "  <style>\n",
              "    .colab-df-container {\n",
              "      display:flex;\n",
              "      flex-wrap:wrap;\n",
              "      gap: 12px;\n",
              "    }\n",
              "\n",
              "    .colab-df-convert {\n",
              "      background-color: #E8F0FE;\n",
              "      border: none;\n",
              "      border-radius: 50%;\n",
              "      cursor: pointer;\n",
              "      display: none;\n",
              "      fill: #1967D2;\n",
              "      height: 32px;\n",
              "      padding: 0 0 0 0;\n",
              "      width: 32px;\n",
              "    }\n",
              "\n",
              "    .colab-df-convert:hover {\n",
              "      background-color: #E2EBFA;\n",
              "      box-shadow: 0px 1px 2px rgba(60, 64, 67, 0.3), 0px 1px 3px 1px rgba(60, 64, 67, 0.15);\n",
              "      fill: #174EA6;\n",
              "    }\n",
              "\n",
              "    [theme=dark] .colab-df-convert {\n",
              "      background-color: #3B4455;\n",
              "      fill: #D2E3FC;\n",
              "    }\n",
              "\n",
              "    [theme=dark] .colab-df-convert:hover {\n",
              "      background-color: #434B5C;\n",
              "      box-shadow: 0px 1px 3px 1px rgba(0, 0, 0, 0.15);\n",
              "      filter: drop-shadow(0px 1px 2px rgba(0, 0, 0, 0.3));\n",
              "      fill: #FFFFFF;\n",
              "    }\n",
              "  </style>\n",
              "\n",
              "      <script>\n",
              "        const buttonEl =\n",
              "          document.querySelector('#df-97f989ca-22e7-4def-aee1-375f7ec0c134 button.colab-df-convert');\n",
              "        buttonEl.style.display =\n",
              "          google.colab.kernel.accessAllowed ? 'block' : 'none';\n",
              "\n",
              "        async function convertToInteractive(key) {\n",
              "          const element = document.querySelector('#df-97f989ca-22e7-4def-aee1-375f7ec0c134');\n",
              "          const dataTable =\n",
              "            await google.colab.kernel.invokeFunction('convertToInteractive',\n",
              "                                                     [key], {});\n",
              "          if (!dataTable) return;\n",
              "\n",
              "          const docLinkHtml = 'Like what you see? Visit the ' +\n",
              "            '<a target=\"_blank\" href=https://colab.research.google.com/notebooks/data_table.ipynb>data table notebook</a>'\n",
              "            + ' to learn more about interactive tables.';\n",
              "          element.innerHTML = '';\n",
              "          dataTable['output_type'] = 'display_data';\n",
              "          await google.colab.output.renderOutput(dataTable, element);\n",
              "          const docLink = document.createElement('div');\n",
              "          docLink.innerHTML = docLinkHtml;\n",
              "          element.appendChild(docLink);\n",
              "        }\n",
              "      </script>\n",
              "    </div>\n",
              "  </div>\n",
              "  "
            ]
          },
          "metadata": {},
          "execution_count": 19
        }
      ],
      "source": [
        "d = {'one' : [1., 2., 3., 4.],\n",
        "     'two' : [4., 3., 2., 1.]}\n",
        "print(DataFrame(d))\n",
        "DataFrame(d)"
      ]
    },
    {
      "cell_type": "code",
      "execution_count": null,
      "metadata": {
        "id": "g0s7wljjuhP_",
        "outputId": "c6605f77-2997-4f11-e64b-244d6505e8ab"
      },
      "outputs": [
        {
          "data": {
            "text/html": [
              "<div>\n",
              "<style scoped>\n",
              "    .dataframe tbody tr th:only-of-type {\n",
              "        vertical-align: middle;\n",
              "    }\n",
              "\n",
              "    .dataframe tbody tr th {\n",
              "        vertical-align: top;\n",
              "    }\n",
              "\n",
              "    .dataframe thead th {\n",
              "        text-align: right;\n",
              "    }\n",
              "</style>\n",
              "<table border=\"1\" class=\"dataframe\">\n",
              "  <thead>\n",
              "    <tr style=\"text-align: right;\">\n",
              "      <th></th>\n",
              "      <th>year</th>\n",
              "      <th>team</th>\n",
              "      <th>wins</th>\n",
              "      <th>losses</th>\n",
              "    </tr>\n",
              "  </thead>\n",
              "  <tbody>\n",
              "    <tr>\n",
              "      <th>0</th>\n",
              "      <td>2010</td>\n",
              "      <td>Bears</td>\n",
              "      <td>11</td>\n",
              "      <td>5</td>\n",
              "    </tr>\n",
              "    <tr>\n",
              "      <th>1</th>\n",
              "      <td>2011</td>\n",
              "      <td>Bears</td>\n",
              "      <td>8</td>\n",
              "      <td>8</td>\n",
              "    </tr>\n",
              "    <tr>\n",
              "      <th>2</th>\n",
              "      <td>2012</td>\n",
              "      <td>Bears</td>\n",
              "      <td>10</td>\n",
              "      <td>6</td>\n",
              "    </tr>\n",
              "    <tr>\n",
              "      <th>3</th>\n",
              "      <td>2011</td>\n",
              "      <td>Packers</td>\n",
              "      <td>15</td>\n",
              "      <td>1</td>\n",
              "    </tr>\n",
              "    <tr>\n",
              "      <th>4</th>\n",
              "      <td>2012</td>\n",
              "      <td>Packers</td>\n",
              "      <td>11</td>\n",
              "      <td>5</td>\n",
              "    </tr>\n",
              "    <tr>\n",
              "      <th>5</th>\n",
              "      <td>2010</td>\n",
              "      <td>Lions</td>\n",
              "      <td>6</td>\n",
              "      <td>10</td>\n",
              "    </tr>\n",
              "    <tr>\n",
              "      <th>6</th>\n",
              "      <td>2011</td>\n",
              "      <td>Lions</td>\n",
              "      <td>10</td>\n",
              "      <td>6</td>\n",
              "    </tr>\n",
              "    <tr>\n",
              "      <th>7</th>\n",
              "      <td>2012</td>\n",
              "      <td>Lions</td>\n",
              "      <td>4</td>\n",
              "      <td>12</td>\n",
              "    </tr>\n",
              "  </tbody>\n",
              "</table>\n",
              "</div>"
            ],
            "text/plain": [
              "   year     team  wins  losses\n",
              "0  2010    Bears    11       5\n",
              "1  2011    Bears     8       8\n",
              "2  2012    Bears    10       6\n",
              "3  2011  Packers    15       1\n",
              "4  2012  Packers    11       5\n",
              "5  2010    Lions     6      10\n",
              "6  2011    Lions    10       6\n",
              "7  2012    Lions     4      12"
            ]
          },
          "execution_count": 51,
          "metadata": {},
          "output_type": "execute_result"
        }
      ],
      "source": [
        "data = {'year': [2010, 2011, 2012, 2011, 2012, 2010, 2011, 2012],\n",
        "        'team': ['Bears', 'Bears', 'Bears', 'Packers', 'Packers', 'Lions', 'Lions', 'Lions'],\n",
        "        'wins': [11, 8, 10, 15, 11, 6, 10, 4],\n",
        "        'losses': [5, 8, 6, 1, 5, 10, 6, 12]}\n",
        "football = pd.DataFrame(data, columns=['year', 'team', 'wins', 'losses'])\n",
        "football"
      ]
    },
    {
      "cell_type": "markdown",
      "metadata": {
        "id": "h_Rz5FCTuhQA"
      },
      "source": [
        "## 2.1 Podstawowe informacje\n",
        "Biblioteka pandas ma wiele funkcji, które dostarczają nam podstawowej informacji na DataFrame. Jedną z takich funkcji jest metoda **info**."
      ]
    },
    {
      "cell_type": "code",
      "execution_count": null,
      "metadata": {
        "id": "mhP440fguhQA",
        "outputId": "5956c738-1ea3-4da1-a593-7dea312b27ff"
      },
      "outputs": [
        {
          "name": "stdout",
          "output_type": "stream",
          "text": [
            "<class 'pandas.core.frame.DataFrame'>\n",
            "RangeIndex: 2 entries, 0 to 1\n",
            "Data columns (total 3 columns):\n",
            "a    2 non-null int64\n",
            "b    2 non-null int64\n",
            "c    1 non-null float64\n",
            "dtypes: float64(1), int64(2)\n",
            "memory usage: 128.0 bytes\n"
          ]
        }
      ],
      "source": [
        "data = [{'a': 1, 'b': 2}, \n",
        "         {'a': 5, 'b': 10, 'c': 20}]\n",
        "df = DataFrame(data)\n",
        "\n",
        "df.info()"
      ]
    },
    {
      "cell_type": "markdown",
      "metadata": {
        "id": "-hWXFjLWuhQA"
      },
      "source": [
        "## 2.2 Wybieranie rekordów, kolumn, elementów\n",
        "\n",
        "Jak już wspomniałem strukturę DataFrame możemy traktować jako grupę/tablicę serii, które dzielą indeks (w tym przypadku nagłówki kolumn). Dzięki temu możemy w łatwy sposób wybrać konkretne rekordy."
      ]
    },
    {
      "cell_type": "code",
      "execution_count": null,
      "metadata": {
        "id": "x7S7o7rPuhQB",
        "outputId": "1f21c54e-8526-412e-9198-ee34f09fdb7d"
      },
      "outputs": [
        {
          "name": "stdout",
          "output_type": "stream",
          "text": [
            "   year     team  wins  losses\n",
            "0  2010    Bears    11       5\n",
            "1  2011    Bears     8       8\n",
            "2  2012    Bears    10       6\n",
            "3  2011  Packers    15       1\n",
            "4  2012  Packers    11       5\n",
            "5  2010    Lions     6      10\n",
            "6  2011    Lions    10       6\n",
            "7  2012    Lions     4      12\n"
          ]
        },
        {
          "data": {
            "text/html": [
              "<div>\n",
              "<style scoped>\n",
              "    .dataframe tbody tr th:only-of-type {\n",
              "        vertical-align: middle;\n",
              "    }\n",
              "\n",
              "    .dataframe tbody tr th {\n",
              "        vertical-align: top;\n",
              "    }\n",
              "\n",
              "    .dataframe thead th {\n",
              "        text-align: right;\n",
              "    }\n",
              "</style>\n",
              "<table border=\"1\" class=\"dataframe\">\n",
              "  <thead>\n",
              "    <tr style=\"text-align: right;\">\n",
              "      <th></th>\n",
              "      <th>year</th>\n",
              "      <th>team</th>\n",
              "      <th>wins</th>\n",
              "      <th>losses</th>\n",
              "    </tr>\n",
              "  </thead>\n",
              "  <tbody>\n",
              "    <tr>\n",
              "      <th>0</th>\n",
              "      <td>2010</td>\n",
              "      <td>Bears</td>\n",
              "      <td>11</td>\n",
              "      <td>5</td>\n",
              "    </tr>\n",
              "    <tr>\n",
              "      <th>1</th>\n",
              "      <td>2011</td>\n",
              "      <td>Bears</td>\n",
              "      <td>8</td>\n",
              "      <td>8</td>\n",
              "    </tr>\n",
              "    <tr>\n",
              "      <th>2</th>\n",
              "      <td>2012</td>\n",
              "      <td>Bears</td>\n",
              "      <td>10</td>\n",
              "      <td>6</td>\n",
              "    </tr>\n",
              "  </tbody>\n",
              "</table>\n",
              "</div>"
            ],
            "text/plain": [
              "   year   team  wins  losses\n",
              "0  2010  Bears    11       5\n",
              "1  2011  Bears     8       8\n",
              "2  2012  Bears    10       6"
            ]
          },
          "execution_count": 53,
          "metadata": {},
          "output_type": "execute_result"
        }
      ],
      "source": [
        "data = {'year': [2010, 2011, 2012, 2011, 2012, 2010, 2011, 2012],\n",
        "        'team': ['Bears', 'Bears', 'Bears', 'Packers', 'Packers', 'Lions', 'Lions', 'Lions'],\n",
        "        'wins': [11, 8, 10, 15, 11, 6, 10, 4],\n",
        "        'losses': [5, 8, 6, 1, 5, 10, 6, 12]}\n",
        "football = pd.DataFrame(data, columns=['year', 'team', 'wins', 'losses'])\n",
        "print (football)\n",
        "\n",
        "football.head(3)"
      ]
    },
    {
      "cell_type": "code",
      "execution_count": null,
      "metadata": {
        "id": "XhEnpgm_uhQC",
        "outputId": "112f2543-8f63-457b-98b6-f698223897a5"
      },
      "outputs": [
        {
          "data": {
            "text/plain": [
              "0    2010\n",
              "1    2011\n",
              "2    2012\n",
              "3    2011\n",
              "Name: year, dtype: int64"
            ]
          },
          "execution_count": 54,
          "metadata": {},
          "output_type": "execute_result"
        }
      ],
      "source": [
        "football['year'].head(4)"
      ]
    },
    {
      "cell_type": "code",
      "execution_count": null,
      "metadata": {
        "id": "Gpng0-UvuhQD",
        "outputId": "da7c9282-db09-4a86-89ee-3901336e670c"
      },
      "outputs": [
        {
          "data": {
            "text/html": [
              "<div>\n",
              "<style scoped>\n",
              "    .dataframe tbody tr th:only-of-type {\n",
              "        vertical-align: middle;\n",
              "    }\n",
              "\n",
              "    .dataframe tbody tr th {\n",
              "        vertical-align: top;\n",
              "    }\n",
              "\n",
              "    .dataframe thead th {\n",
              "        text-align: right;\n",
              "    }\n",
              "</style>\n",
              "<table border=\"1\" class=\"dataframe\">\n",
              "  <thead>\n",
              "    <tr style=\"text-align: right;\">\n",
              "      <th></th>\n",
              "      <th>year</th>\n",
              "      <th>team</th>\n",
              "      <th>wins</th>\n",
              "      <th>losses</th>\n",
              "    </tr>\n",
              "  </thead>\n",
              "  <tbody>\n",
              "    <tr>\n",
              "      <th>5</th>\n",
              "      <td>2010</td>\n",
              "      <td>Lions</td>\n",
              "      <td>6</td>\n",
              "      <td>10</td>\n",
              "    </tr>\n",
              "    <tr>\n",
              "      <th>6</th>\n",
              "      <td>2011</td>\n",
              "      <td>Lions</td>\n",
              "      <td>10</td>\n",
              "      <td>6</td>\n",
              "    </tr>\n",
              "    <tr>\n",
              "      <th>7</th>\n",
              "      <td>2012</td>\n",
              "      <td>Lions</td>\n",
              "      <td>4</td>\n",
              "      <td>12</td>\n",
              "    </tr>\n",
              "  </tbody>\n",
              "</table>\n",
              "</div>"
            ],
            "text/plain": [
              "   year   team  wins  losses\n",
              "5  2010  Lions     6      10\n",
              "6  2011  Lions    10       6\n",
              "7  2012  Lions     4      12"
            ]
          },
          "execution_count": 55,
          "metadata": {},
          "output_type": "execute_result"
        }
      ],
      "source": [
        "football.tail(3)"
      ]
    },
    {
      "cell_type": "markdown",
      "metadata": {
        "id": "DjnwdJrFuhQD"
      },
      "source": [
        "Możemy też modyfikować DataFrame na podstawie wybranej kolumny."
      ]
    },
    {
      "cell_type": "code",
      "execution_count": null,
      "metadata": {
        "id": "z6XWIQCHuhQD",
        "outputId": "c54871ab-c6f7-425d-c5b8-3f12b1eae302"
      },
      "outputs": [
        {
          "data": {
            "text/html": [
              "<div>\n",
              "<style scoped>\n",
              "    .dataframe tbody tr th:only-of-type {\n",
              "        vertical-align: middle;\n",
              "    }\n",
              "\n",
              "    .dataframe tbody tr th {\n",
              "        vertical-align: top;\n",
              "    }\n",
              "\n",
              "    .dataframe thead th {\n",
              "        text-align: right;\n",
              "    }\n",
              "</style>\n",
              "<table border=\"1\" class=\"dataframe\">\n",
              "  <thead>\n",
              "    <tr style=\"text-align: right;\">\n",
              "      <th></th>\n",
              "      <th>year</th>\n",
              "      <th>wins</th>\n",
              "      <th>losses</th>\n",
              "    </tr>\n",
              "    <tr>\n",
              "      <th>team</th>\n",
              "      <th></th>\n",
              "      <th></th>\n",
              "      <th></th>\n",
              "    </tr>\n",
              "  </thead>\n",
              "  <tbody>\n",
              "    <tr>\n",
              "      <th>Bears</th>\n",
              "      <td>2010</td>\n",
              "      <td>11</td>\n",
              "      <td>5</td>\n",
              "    </tr>\n",
              "    <tr>\n",
              "      <th>Bears</th>\n",
              "      <td>2011</td>\n",
              "      <td>8</td>\n",
              "      <td>8</td>\n",
              "    </tr>\n",
              "    <tr>\n",
              "      <th>Bears</th>\n",
              "      <td>2012</td>\n",
              "      <td>10</td>\n",
              "      <td>6</td>\n",
              "    </tr>\n",
              "    <tr>\n",
              "      <th>Packers</th>\n",
              "      <td>2011</td>\n",
              "      <td>15</td>\n",
              "      <td>1</td>\n",
              "    </tr>\n",
              "    <tr>\n",
              "      <th>Packers</th>\n",
              "      <td>2012</td>\n",
              "      <td>11</td>\n",
              "      <td>5</td>\n",
              "    </tr>\n",
              "    <tr>\n",
              "      <th>Lions</th>\n",
              "      <td>2010</td>\n",
              "      <td>6</td>\n",
              "      <td>10</td>\n",
              "    </tr>\n",
              "    <tr>\n",
              "      <th>Lions</th>\n",
              "      <td>2011</td>\n",
              "      <td>10</td>\n",
              "      <td>6</td>\n",
              "    </tr>\n",
              "    <tr>\n",
              "      <th>Lions</th>\n",
              "      <td>2012</td>\n",
              "      <td>4</td>\n",
              "      <td>12</td>\n",
              "    </tr>\n",
              "  </tbody>\n",
              "</table>\n",
              "</div>"
            ],
            "text/plain": [
              "         year  wins  losses\n",
              "team                       \n",
              "Bears    2010    11       5\n",
              "Bears    2011     8       8\n",
              "Bears    2012    10       6\n",
              "Packers  2011    15       1\n",
              "Packers  2012    11       5\n",
              "Lions    2010     6      10\n",
              "Lions    2011    10       6\n",
              "Lions    2012     4      12"
            ]
          },
          "execution_count": 56,
          "metadata": {},
          "output_type": "execute_result"
        }
      ],
      "source": [
        "football.set_index('team')"
      ]
    },
    {
      "cell_type": "markdown",
      "metadata": {
        "id": "fNhWODJYuhQE"
      },
      "source": [
        "Aby wybrać którąś z kolumn należy użyć jej nazwy:"
      ]
    },
    {
      "cell_type": "code",
      "execution_count": null,
      "metadata": {
        "id": "0BhHh5XEuhQE",
        "outputId": "295ff088-8cc8-46d2-8a21-ca6bbdebe6c0"
      },
      "outputs": [
        {
          "data": {
            "text/plain": [
              "0    2010\n",
              "1    2011\n",
              "2    2012\n",
              "3    2011\n",
              "4    2012\n",
              "5    2010\n",
              "6    2011\n",
              "7    2012\n",
              "Name: year, dtype: int64"
            ]
          },
          "execution_count": 57,
          "metadata": {},
          "output_type": "execute_result"
        }
      ],
      "source": [
        "data = {'year': [2010, 2011, 2012, 2011, 2012, 2010, 2011, 2012],\n",
        "        'team': ['Bears', 'Bears', 'Bears', 'Packers', 'Packers', 'Lions', 'Lions', 'Lions'],\n",
        "        'wins': [11, 8, 10, 15, 11, 6, 10, 4],\n",
        "        'losses': [5, 8, 6, 1, 5, 10, 6, 12]}\n",
        "football = pd.DataFrame(data, columns=['year', 'team', 'wins', 'losses'])\n",
        "\n",
        "football['year'] # wybieramy kolumnę 'year'"
      ]
    },
    {
      "cell_type": "code",
      "execution_count": null,
      "metadata": {
        "id": "vUy2oyLfuhQF",
        "outputId": "098a3f18-9ab7-4c58-ccac-6192910d4a23"
      },
      "outputs": [
        {
          "data": {
            "text/plain": [
              "0    2010\n",
              "1    2011\n",
              "2    2012\n",
              "3    2011\n",
              "4    2012\n",
              "5    2010\n",
              "6    2011\n",
              "7    2012\n",
              "Name: year, dtype: int64"
            ]
          },
          "execution_count": 58,
          "metadata": {},
          "output_type": "execute_result"
        }
      ],
      "source": [
        "football.year"
      ]
    },
    {
      "cell_type": "code",
      "execution_count": null,
      "metadata": {
        "id": "gNVzIuzEuhQH",
        "outputId": "6243eb36-5e37-402f-bc3f-2712b4a5394d"
      },
      "outputs": [
        {
          "data": {
            "text/html": [
              "<div>\n",
              "<style scoped>\n",
              "    .dataframe tbody tr th:only-of-type {\n",
              "        vertical-align: middle;\n",
              "    }\n",
              "\n",
              "    .dataframe tbody tr th {\n",
              "        vertical-align: top;\n",
              "    }\n",
              "\n",
              "    .dataframe thead th {\n",
              "        text-align: right;\n",
              "    }\n",
              "</style>\n",
              "<table border=\"1\" class=\"dataframe\">\n",
              "  <thead>\n",
              "    <tr style=\"text-align: right;\">\n",
              "      <th></th>\n",
              "      <th>year</th>\n",
              "      <th>wins</th>\n",
              "    </tr>\n",
              "  </thead>\n",
              "  <tbody>\n",
              "    <tr>\n",
              "      <th>0</th>\n",
              "      <td>2010</td>\n",
              "      <td>11</td>\n",
              "    </tr>\n",
              "    <tr>\n",
              "      <th>1</th>\n",
              "      <td>2011</td>\n",
              "      <td>8</td>\n",
              "    </tr>\n",
              "    <tr>\n",
              "      <th>2</th>\n",
              "      <td>2012</td>\n",
              "      <td>10</td>\n",
              "    </tr>\n",
              "    <tr>\n",
              "      <th>3</th>\n",
              "      <td>2011</td>\n",
              "      <td>15</td>\n",
              "    </tr>\n",
              "    <tr>\n",
              "      <th>4</th>\n",
              "      <td>2012</td>\n",
              "      <td>11</td>\n",
              "    </tr>\n",
              "    <tr>\n",
              "      <th>5</th>\n",
              "      <td>2010</td>\n",
              "      <td>6</td>\n",
              "    </tr>\n",
              "    <tr>\n",
              "      <th>6</th>\n",
              "      <td>2011</td>\n",
              "      <td>10</td>\n",
              "    </tr>\n",
              "    <tr>\n",
              "      <th>7</th>\n",
              "      <td>2012</td>\n",
              "      <td>4</td>\n",
              "    </tr>\n",
              "  </tbody>\n",
              "</table>\n",
              "</div>"
            ],
            "text/plain": [
              "   year  wins\n",
              "0  2010    11\n",
              "1  2011     8\n",
              "2  2012    10\n",
              "3  2011    15\n",
              "4  2012    11\n",
              "5  2010     6\n",
              "6  2011    10\n",
              "7  2012     4"
            ]
          },
          "execution_count": 59,
          "metadata": {},
          "output_type": "execute_result"
        }
      ],
      "source": [
        "football[['year', 'wins']]"
      ]
    },
    {
      "cell_type": "markdown",
      "metadata": {
        "id": "KWpc7LbruhQI"
      },
      "source": [
        "Do wybierania wierszy/obserwacji służy funkcja **loc** (indeksowanie oparte na etykietach) lub **iloc** (indeksowanie oparte na pozycji)."
      ]
    },
    {
      "cell_type": "code",
      "execution_count": null,
      "metadata": {
        "id": "KyOfkzY-uhQJ",
        "outputId": "f48a89eb-48ba-4910-ec89-d814788f9d7c"
      },
      "outputs": [
        {
          "data": {
            "text/plain": [
              "year       2010\n",
              "team      Bears\n",
              "wins         11\n",
              "losses        5\n",
              "Name: 0, dtype: object"
            ]
          },
          "execution_count": 60,
          "metadata": {},
          "output_type": "execute_result"
        }
      ],
      "source": [
        "football.loc[0]"
      ]
    },
    {
      "cell_type": "code",
      "execution_count": null,
      "metadata": {
        "id": "8cokEtAwuhQK",
        "outputId": "3aebb857-131e-4a97-aba5-3214c8cee637"
      },
      "outputs": [
        {
          "data": {
            "text/html": [
              "<div>\n",
              "<style scoped>\n",
              "    .dataframe tbody tr th:only-of-type {\n",
              "        vertical-align: middle;\n",
              "    }\n",
              "\n",
              "    .dataframe tbody tr th {\n",
              "        vertical-align: top;\n",
              "    }\n",
              "\n",
              "    .dataframe thead th {\n",
              "        text-align: right;\n",
              "    }\n",
              "</style>\n",
              "<table border=\"1\" class=\"dataframe\">\n",
              "  <thead>\n",
              "    <tr style=\"text-align: right;\">\n",
              "      <th></th>\n",
              "      <th>year</th>\n",
              "      <th>team</th>\n",
              "      <th>wins</th>\n",
              "      <th>losses</th>\n",
              "    </tr>\n",
              "  </thead>\n",
              "  <tbody>\n",
              "    <tr>\n",
              "      <th>0</th>\n",
              "      <td>2010</td>\n",
              "      <td>Bears</td>\n",
              "      <td>11</td>\n",
              "      <td>5</td>\n",
              "    </tr>\n",
              "    <tr>\n",
              "      <th>3</th>\n",
              "      <td>2011</td>\n",
              "      <td>Packers</td>\n",
              "      <td>15</td>\n",
              "      <td>1</td>\n",
              "    </tr>\n",
              "  </tbody>\n",
              "</table>\n",
              "</div>"
            ],
            "text/plain": [
              "   year     team  wins  losses\n",
              "0  2010    Bears    11       5\n",
              "3  2011  Packers    15       1"
            ]
          },
          "execution_count": 61,
          "metadata": {},
          "output_type": "execute_result"
        }
      ],
      "source": [
        "football.loc[[0,3]]"
      ]
    },
    {
      "cell_type": "markdown",
      "metadata": {
        "id": "YHSkZ1VhuhQL"
      },
      "source": [
        "# 2.3 Podstawowe operacje na DataFrame"
      ]
    },
    {
      "cell_type": "code",
      "execution_count": null,
      "metadata": {
        "id": "EYTZRWfOuhQL",
        "outputId": "0cad0fb5-4ac6-4185-d60a-5084fb7b5f50"
      },
      "outputs": [
        {
          "data": {
            "text/html": [
              "<div>\n",
              "<style scoped>\n",
              "    .dataframe tbody tr th:only-of-type {\n",
              "        vertical-align: middle;\n",
              "    }\n",
              "\n",
              "    .dataframe tbody tr th {\n",
              "        vertical-align: top;\n",
              "    }\n",
              "\n",
              "    .dataframe thead th {\n",
              "        text-align: right;\n",
              "    }\n",
              "</style>\n",
              "<table border=\"1\" class=\"dataframe\">\n",
              "  <thead>\n",
              "    <tr style=\"text-align: right;\">\n",
              "      <th></th>\n",
              "      <th>year</th>\n",
              "      <th>team</th>\n",
              "      <th>wins</th>\n",
              "      <th>losses</th>\n",
              "    </tr>\n",
              "  </thead>\n",
              "  <tbody>\n",
              "    <tr>\n",
              "      <th>0</th>\n",
              "      <td>2010</td>\n",
              "      <td>Bears</td>\n",
              "      <td>11</td>\n",
              "      <td>5</td>\n",
              "    </tr>\n",
              "    <tr>\n",
              "      <th>3</th>\n",
              "      <td>2011</td>\n",
              "      <td>Packers</td>\n",
              "      <td>15</td>\n",
              "      <td>1</td>\n",
              "    </tr>\n",
              "    <tr>\n",
              "      <th>4</th>\n",
              "      <td>2012</td>\n",
              "      <td>Packers</td>\n",
              "      <td>11</td>\n",
              "      <td>5</td>\n",
              "    </tr>\n",
              "  </tbody>\n",
              "</table>\n",
              "</div>"
            ],
            "text/plain": [
              "   year     team  wins  losses\n",
              "0  2010    Bears    11       5\n",
              "3  2011  Packers    15       1\n",
              "4  2012  Packers    11       5"
            ]
          },
          "execution_count": 62,
          "metadata": {},
          "output_type": "execute_result"
        }
      ],
      "source": [
        "football[football.wins > 10]"
      ]
    },
    {
      "cell_type": "code",
      "execution_count": null,
      "metadata": {
        "id": "d6Wr8sM6uhQL",
        "outputId": "1ac46c4f-7b7a-4f67-f0d8-a53ca028ea87"
      },
      "outputs": [
        {
          "data": {
            "text/plain": [
              "15"
            ]
          },
          "execution_count": 63,
          "metadata": {},
          "output_type": "execute_result"
        }
      ],
      "source": [
        "football['wins'].max()"
      ]
    },
    {
      "cell_type": "code",
      "execution_count": null,
      "metadata": {
        "id": "XILJBXNTuhQM",
        "outputId": "9e9d8542-2952-4e08-d712-b131dc4dc9d8"
      },
      "outputs": [
        {
          "data": {
            "text/plain": [
              "wins      9.375\n",
              "losses    6.625\n",
              "dtype: float64"
            ]
          },
          "execution_count": 64,
          "metadata": {},
          "output_type": "execute_result"
        }
      ],
      "source": [
        "football[['wins', 'losses']].mean()"
      ]
    },
    {
      "cell_type": "code",
      "execution_count": null,
      "metadata": {
        "id": "pL_ECyrzuhQM",
        "outputId": "5793401d-aae4-42e8-9cf7-a059c5ab5f2a"
      },
      "outputs": [
        {
          "data": {
            "text/html": [
              "<div>\n",
              "<style scoped>\n",
              "    .dataframe tbody tr th:only-of-type {\n",
              "        vertical-align: middle;\n",
              "    }\n",
              "\n",
              "    .dataframe tbody tr th {\n",
              "        vertical-align: top;\n",
              "    }\n",
              "\n",
              "    .dataframe thead th {\n",
              "        text-align: right;\n",
              "    }\n",
              "</style>\n",
              "<table border=\"1\" class=\"dataframe\">\n",
              "  <thead>\n",
              "    <tr style=\"text-align: right;\">\n",
              "      <th></th>\n",
              "      <th>year</th>\n",
              "      <th>team</th>\n",
              "      <th>wins</th>\n",
              "      <th>losses</th>\n",
              "    </tr>\n",
              "  </thead>\n",
              "  <tbody>\n",
              "    <tr>\n",
              "      <th>0</th>\n",
              "      <td>2010</td>\n",
              "      <td>Bears</td>\n",
              "      <td>0</td>\n",
              "      <td>5</td>\n",
              "    </tr>\n",
              "    <tr>\n",
              "      <th>1</th>\n",
              "      <td>2011</td>\n",
              "      <td>Bears</td>\n",
              "      <td>0</td>\n",
              "      <td>8</td>\n",
              "    </tr>\n",
              "    <tr>\n",
              "      <th>2</th>\n",
              "      <td>2012</td>\n",
              "      <td>Bears</td>\n",
              "      <td>0</td>\n",
              "      <td>6</td>\n",
              "    </tr>\n",
              "    <tr>\n",
              "      <th>3</th>\n",
              "      <td>2011</td>\n",
              "      <td>Packers</td>\n",
              "      <td>0</td>\n",
              "      <td>1</td>\n",
              "    </tr>\n",
              "    <tr>\n",
              "      <th>4</th>\n",
              "      <td>2012</td>\n",
              "      <td>Packers</td>\n",
              "      <td>0</td>\n",
              "      <td>5</td>\n",
              "    </tr>\n",
              "    <tr>\n",
              "      <th>5</th>\n",
              "      <td>2010</td>\n",
              "      <td>Lions</td>\n",
              "      <td>0</td>\n",
              "      <td>0</td>\n",
              "    </tr>\n",
              "    <tr>\n",
              "      <th>6</th>\n",
              "      <td>2011</td>\n",
              "      <td>Lions</td>\n",
              "      <td>0</td>\n",
              "      <td>6</td>\n",
              "    </tr>\n",
              "    <tr>\n",
              "      <th>7</th>\n",
              "      <td>2012</td>\n",
              "      <td>Lions</td>\n",
              "      <td>0</td>\n",
              "      <td>12</td>\n",
              "    </tr>\n",
              "  </tbody>\n",
              "</table>\n",
              "</div>"
            ],
            "text/plain": [
              "   year     team  wins  losses\n",
              "0  2010    Bears     0       5\n",
              "1  2011    Bears     0       8\n",
              "2  2012    Bears     0       6\n",
              "3  2011  Packers     0       1\n",
              "4  2012  Packers     0       5\n",
              "5  2010    Lions     0       0\n",
              "6  2011    Lions     0       6\n",
              "7  2012    Lions     0      12"
            ]
          },
          "execution_count": 65,
          "metadata": {},
          "output_type": "execute_result"
        }
      ],
      "source": [
        "football['wins'] = 0\n",
        "football.at[5, 'losses'] = 0\n",
        "football"
      ]
    },
    {
      "cell_type": "markdown",
      "metadata": {
        "id": "6Hcx6Vt3uhQN"
      },
      "source": [
        "## 2.6 Importowanie i eksportowanie danych\n",
        "\n",
        "  * eksport to CSV:"
      ]
    },
    {
      "cell_type": "code",
      "execution_count": null,
      "metadata": {
        "id": "i5JKl7f1uhQN"
      },
      "outputs": [],
      "source": [
        "data = {'year': [2010, 2011, 2012, 2011, 2012, 2010, 2011, 2012],\n",
        "        'team': ['Bears', 'Bears', 'Bears', 'Packers', 'Packers', 'Lions', 'Lions', 'Lions'],\n",
        "        'wins': [11, 8, 10, 15, 11, 6, 10, 4],\n",
        "        'losses': [5, 8, 6, 1, 5, 10, 6, 12]}\n",
        "football = pd.DataFrame(data, columns=['year', 'team', 'wins', 'losses'])\n",
        "\n",
        "football.to_csv('dane.csv', index=False)"
      ]
    },
    {
      "cell_type": "markdown",
      "metadata": {
        "id": "62ME0rjDuhQO"
      },
      "source": [
        "  * import z CSV:"
      ]
    },
    {
      "cell_type": "code",
      "execution_count": null,
      "metadata": {
        "id": "fNQylOkuuhQO",
        "outputId": "eb7cf006-44c4-4af4-9bd4-9a83118d68f7"
      },
      "outputs": [
        {
          "data": {
            "text/html": [
              "<div>\n",
              "<style scoped>\n",
              "    .dataframe tbody tr th:only-of-type {\n",
              "        vertical-align: middle;\n",
              "    }\n",
              "\n",
              "    .dataframe tbody tr th {\n",
              "        vertical-align: top;\n",
              "    }\n",
              "\n",
              "    .dataframe thead th {\n",
              "        text-align: right;\n",
              "    }\n",
              "</style>\n",
              "<table border=\"1\" class=\"dataframe\">\n",
              "  <thead>\n",
              "    <tr style=\"text-align: right;\">\n",
              "      <th></th>\n",
              "      <th>year</th>\n",
              "      <th>team</th>\n",
              "      <th>wins</th>\n",
              "      <th>losses</th>\n",
              "    </tr>\n",
              "  </thead>\n",
              "  <tbody>\n",
              "    <tr>\n",
              "      <th>0</th>\n",
              "      <td>2010</td>\n",
              "      <td>Bears</td>\n",
              "      <td>11</td>\n",
              "      <td>5</td>\n",
              "    </tr>\n",
              "    <tr>\n",
              "      <th>1</th>\n",
              "      <td>2011</td>\n",
              "      <td>Bears</td>\n",
              "      <td>8</td>\n",
              "      <td>8</td>\n",
              "    </tr>\n",
              "    <tr>\n",
              "      <th>2</th>\n",
              "      <td>2012</td>\n",
              "      <td>Bears</td>\n",
              "      <td>10</td>\n",
              "      <td>6</td>\n",
              "    </tr>\n",
              "    <tr>\n",
              "      <th>3</th>\n",
              "      <td>2011</td>\n",
              "      <td>Packers</td>\n",
              "      <td>15</td>\n",
              "      <td>1</td>\n",
              "    </tr>\n",
              "    <tr>\n",
              "      <th>4</th>\n",
              "      <td>2012</td>\n",
              "      <td>Packers</td>\n",
              "      <td>11</td>\n",
              "      <td>5</td>\n",
              "    </tr>\n",
              "    <tr>\n",
              "      <th>5</th>\n",
              "      <td>2010</td>\n",
              "      <td>Lions</td>\n",
              "      <td>6</td>\n",
              "      <td>10</td>\n",
              "    </tr>\n",
              "    <tr>\n",
              "      <th>6</th>\n",
              "      <td>2011</td>\n",
              "      <td>Lions</td>\n",
              "      <td>10</td>\n",
              "      <td>6</td>\n",
              "    </tr>\n",
              "    <tr>\n",
              "      <th>7</th>\n",
              "      <td>2012</td>\n",
              "      <td>Lions</td>\n",
              "      <td>4</td>\n",
              "      <td>12</td>\n",
              "    </tr>\n",
              "  </tbody>\n",
              "</table>\n",
              "</div>"
            ],
            "text/plain": [
              "   year     team  wins  losses\n",
              "0  2010    Bears    11       5\n",
              "1  2011    Bears     8       8\n",
              "2  2012    Bears    10       6\n",
              "3  2011  Packers    15       1\n",
              "4  2012  Packers    11       5\n",
              "5  2010    Lions     6      10\n",
              "6  2011    Lions    10       6\n",
              "7  2012    Lions     4      12"
            ]
          },
          "execution_count": 67,
          "metadata": {},
          "output_type": "execute_result"
        }
      ],
      "source": [
        "pd.read_csv('dane.csv')"
      ]
    },
    {
      "cell_type": "markdown",
      "metadata": {
        "id": "HLCfJKxguhQP"
      },
      "source": [
        "Więcej informacji na temat biblioteki pandas można znaleźć tutaj: [http://pandas.pydata.org]"
      ]
    },
    {
      "cell_type": "markdown",
      "metadata": {
        "id": "zWxa6cgvuhQQ"
      },
      "source": [
        "# Zadanie 5\n",
        "\n",
        "Zaimportuj dane z pliku ,,airports.csv'' i wykonaj na nich poniższe polecenia:\n",
        "\n",
        "  * wybierz nazwy państw ostatnich 12 lotnisk w tabeli,\n",
        "  * wybierz wiersz o indeksie 1 korzystając z indeksera .loc oraz .iloc (porównaj otrzymane wyniki),\n",
        "  * wybierz wszystkie lotniska w Polsce,\n",
        "  * wybierz wszystkie lotniska, których nazwa różni się od nazwy miasta, w którym się znajdują.\n",
        "  * przelicz wartości wysokości na metry i zapisz zmodyfikowaną kolumnę w miejsce starej (w naszej tabeli wysokość jest podana w   * stopach nad poziomem morza; jedna stopa angielska równa się 30,48 cm),\n",
        "  * znajdź wszystkie państwa, w których znajduje się wyłącznie 1 lotnisko (zobacz procedurę .unique())."
      ]
    },
    {
      "cell_type": "code",
      "execution_count": null,
      "metadata": {
        "id": "z7Hk9fvauhQQ",
        "outputId": "d1caac70-14c1-4276-f872-0ea749eef16e",
        "colab": {
          "base_uri": "https://localhost:8080/"
        }
      },
      "outputs": [
        {
          "output_type": "stream",
          "name": "stdout",
          "text": [
            "        0                                  1                2              3   \\\n",
            "8095  9530                                Bus              Kep       Cambodia   \n",
            "8096  9531                       Main Station           Taipei         Taiwan   \n",
            "8097  9532                     Prominent Hill   Prominent Hill      Australia   \n",
            "8098  9533                 Chatsworth Station       Chatsworth  United States   \n",
            "8099  9534                    Algerciras Port       Algerciras          Spain   \n",
            "8100  9535             Ganges Water Aerodrome           Ganges         Canada   \n",
            "8101  9536     Pender Harbour Water Aerodrome   Pender Harbour         Canada   \n",
            "8102  9537    Mansons Landing Water Aerodrome  Mansons Landing         Canada   \n",
            "8103  9538               Port McNeill Airport     Port McNeill         Canada   \n",
            "8104  9539       Sullivan Bay Water Aerodrome     Sullivan Bay         Canada   \n",
            "8105  9540               Deer Harbor Seaplane      Deer Harbor  United States   \n",
            "8106  9541  San Diego Old Town Transit Center        San Diego  United States   \n",
            "\n",
            "       4     5          6           7    8    9  10                   11  \n",
            "8095  NaN  KEPC  10.480174  104.294228    0  7.0  N      Asia/Phnom_Penh  \n",
            "8096  NaN  TPEI  25.046176  121.517532    0  8.0  N          Asia/Taipei  \n",
            "8097  PXH  YPMH -29.716667  135.521667  734  9.5  O   Australia/Adelaide  \n",
            "8098  CWT    \\N  34.256944 -118.598889  978 -8.0  A  America/Los_Angeles  \n",
            "8099  NaN    \\N  36.136000   -5.435000    0  1.0  E        Europe/Madrid  \n",
            "8100  YGG    \\N  48.850000 -123.500000    0 -8.0  A    America/Vancouver  \n",
            "8101  YPT    \\N  49.616667 -124.016667    0 -8.0  A    America/Vancouver  \n",
            "8102  YMU    \\N  50.066667 -124.983333    0 -8.0  A    America/Vancouver  \n",
            "8103  YMP    \\N  50.575556 -127.028611  225 -8.0  A    America/Vancouver  \n",
            "8104  YTG    \\N  50.883333 -126.833333    0 -8.0  A    America/Vancouver  \n",
            "8105  DHB    \\N  48.618397 -123.005960    0 -8.0  A  America/Los_Angeles  \n",
            "8106  OLT    \\N  32.755200 -117.199500    0 -8.0  A  America/Los_Angeles  \n",
            "0                        2\n",
            "1                   Madang\n",
            "2                   Madang\n",
            "3         Papua New Guinea\n",
            "4                      MAG\n",
            "5                     AYMD\n",
            "6                -5.207083\n",
            "7                 145.7887\n",
            "8                       20\n",
            "9                     10.0\n",
            "10                       U\n",
            "11    Pacific/Port_Moresby\n",
            "Name: 1, dtype: object\n",
            "0                        2\n",
            "1                   Madang\n",
            "2                   Madang\n",
            "3         Papua New Guinea\n",
            "4                      MAG\n",
            "5                     AYMD\n",
            "6                -5.207083\n",
            "7                 145.7887\n",
            "8                       20\n",
            "9                     10.0\n",
            "10                       U\n",
            "11    Pacific/Port_Moresby\n",
            "Name: 1, dtype: object\n",
            "        0                                        1               2       3   \\\n",
            "658    667                                   Babice          Warsaw  Poland   \n",
            "659    668                              Lech Walesa          Gdansk  Poland   \n",
            "660    669                                   Balice          Krakow  Poland   \n",
            "661    670                                Muchowiec        Katowice  Poland   \n",
            "662    671                                Pyrzowice        Katowice  Poland   \n",
            "663    673                                   Mielec          Mielec  Poland   \n",
            "664    674                                   Lawica          Poznan  Poland   \n",
            "665    675                                 Jasionka         Rzeszow  Poland   \n",
            "666    676                                 Goleniow        Szczecin  Poland   \n",
            "667    677                                Redzikowo          Slupsk  Poland   \n",
            "668    678                                  Swidwin         Shapaja  Poland   \n",
            "669    679                                   Okecie          Warsaw  Poland   \n",
            "670    680                              Strachowice         Wroclaw  Poland   \n",
            "671    681                                 Babimost    Zielona Gora  Poland   \n",
            "4729  5592           Łódź Władysław Reymont Airport            Lodz  Poland   \n",
            "4730  5591  Bydgoszcz Ignacy Jan Paderewski Airport       Bydgoszcz  Poland   \n",
            "5296  6425                           Szczecin-Dabie        Szczecin  Poland   \n",
            "5367  6499                           Aleksandrowice   Bielsko-Biala  Poland   \n",
            "6259  7685      Koszalin - Zegrze Pomorskie Airport        Koszalin  Poland   \n",
            "6382  7807                          Chojna Air Base          Chojna  Poland   \n",
            "6387  7812                                   Gdynia          Gdynia  Poland   \n",
            "6388  7813                                  Malbork         Malbork  Poland   \n",
            "6389  7814                                     Lask            Lask  Poland   \n",
            "6390  7815                              Miroslawiec     Miroslawiec  Poland   \n",
            "6391  7816                                 Krzesiny          Poznan  Poland   \n",
            "6602  8029                                    RADOM           RADOM  Poland   \n",
            "6985  8414                            Warsaw Modlin          Warsaw  Poland   \n",
            "7201  8633                 Inowroclaw Inowr Airport      Inowroclaw  Poland   \n",
            "7202  8634                   Pruszcz Gdansk Airport  Pruszcz Gdansk  Poland   \n",
            "7309  8741                         Gryzliny - Lansk        Gryzliny  Poland   \n",
            "7319  8751                                 Goraszka        Goraszka  Poland   \n",
            "7400  8832                                   Lublin          Lublin  Poland   \n",
            "7415  8849                                 RUDNIKI          RUDNIKI  Poland   \n",
            "7474  8908                            Krakow Glowny          Krakow  Poland   \n",
            "\n",
            "       4     5          6          7    8    9  10             11  \n",
            "658   NaN  EPBC  52.268494  20.911047  352  1.0  E  Europe/Warsaw  \n",
            "659   GDN  EPGD  54.377569  18.466222  489  1.0  E  Europe/Warsaw  \n",
            "660   KRK  EPKK  50.077731  19.784836  791  1.0  E  Europe/Warsaw  \n",
            "661   NaN  EPKM  50.238147  19.034181  909  1.0  E  Europe/Warsaw  \n",
            "662   KTW  EPKT  50.474253  19.080019  995  1.0  E  Europe/Warsaw  \n",
            "663   NaN  EPML  50.322275  21.462131  548  1.0  E  Europe/Warsaw  \n",
            "664   POZ  EPPO  52.421031  16.826325  308  1.0  E  Europe/Warsaw  \n",
            "665   RZE  EPRZ  50.109958  22.019000  675  1.0  E  Europe/Warsaw  \n",
            "666   SZZ  EPSC  53.584731  14.902206  154  1.0  E  Europe/Warsaw  \n",
            "667   OSP  EPSK  54.478889  17.107500  217  1.0  E  Europe/Warsaw  \n",
            "668   NaN  EPSN  53.790639  15.826250  385  1.0  E  Europe/Warsaw  \n",
            "669   WAW  EPWA  52.165750  20.967122  362  1.0  E  Europe/Warsaw  \n",
            "670   WRO  EPWR  51.102683  16.885836  404  1.0  E  Europe/Warsaw  \n",
            "671   IEG  EPZG  52.138517  15.798556  194  1.0  E  Europe/Warsaw  \n",
            "4729  LCJ  EPLL  51.721881  19.398133  604  1.0  E  Europe/Warsaw  \n",
            "4730  BZG  EPBY  53.096800  17.977700  235  1.0  E  Europe/Warsaw  \n",
            "5296  NaN  EPSD  53.471138  14.637750    3  1.0  E  Europe/Warsaw  \n",
            "5367  NaN  EPBA  49.849970  19.020193  860  1.0  E  Europe/Warsaw  \n",
            "6259  OSZ  EPKO  54.041000  16.266000  111  1.0  E  Europe/Warsaw  \n",
            "6382  NaN    \\N  52.939400  14.421700  187  1.0  E  Europe/Warsaw  \n",
            "6387  QYD  EPOK  54.579700  18.517200  144  1.0  E  Europe/Warsaw  \n",
            "6388  NaN  EPMB  54.026944  19.134167   16  1.0  E  Europe/Warsaw  \n",
            "6389  NaN  EPLK  51.551667  19.179058  633  1.0  E  Europe/Warsaw  \n",
            "6390  NaN  EPMI  53.395072  16.082814  459  1.0  E  Europe/Warsaw  \n",
            "6391  NaN  EPKS  52.331719  16.966428  265  1.0  E  Europe/Warsaw  \n",
            "6602  QXR  EPRA  51.231978  21.124183  479  1.0  E  Europe/Warsaw  \n",
            "6985  WMI  EPMO  52.451111  20.651667  341  1.0  E  Europe/Warsaw  \n",
            "7201  NaN  EPIR  52.829444  18.330556  259  1.0  E  Europe/Warsaw  \n",
            "7202  NaN  EPPR  54.248056  18.671667   21  1.0  E  Europe/Warsaw  \n",
            "7309  NaN  EPGR  53.362900  20.204000  520  1.0  E  Europe/Warsaw  \n",
            "7319  NaN  EPGO  52.110400  21.165200  110  1.0  E  Europe/Warsaw  \n",
            "7400  LUZ  EPLB  51.239333  22.714083  203  1.0  E  Europe/Warsaw  \n",
            "7415  CZW  EPRU  50.884722  19.202222  262  1.0  E  Europe/Warsaw  \n",
            "7474  NaN    \\N  50.065556  19.947222  719  1.0  E  Europe/Warsaw  \n",
            "        0                                  1                2   \\\n",
            "4        5         Port Moresby Jacksons Intl     Port Moresby   \n",
            "5        6                         Wewak Intl            Wewak   \n",
            "6        7                         Narsarsuaq     Narssarssuaq   \n",
            "7        8                               Nuuk         Godthaab   \n",
            "8        9                  Sondre Stromfjord      Sondrestrom   \n",
            "...    ...                                ...              ...   \n",
            "8102  9537    Mansons Landing Water Aerodrome  Mansons Landing   \n",
            "8103  9538               Port McNeill Airport     Port McNeill   \n",
            "8104  9539       Sullivan Bay Water Aerodrome     Sullivan Bay   \n",
            "8105  9540               Deer Harbor Seaplane      Deer Harbor   \n",
            "8106  9541  San Diego Old Town Transit Center        San Diego   \n",
            "\n",
            "                    3    4     5          6           7    8     9  10  \\\n",
            "4     Papua New Guinea  POM  AYPY  -9.443383  147.220050  146  10.0  U   \n",
            "5     Papua New Guinea  WWK  AYWK  -3.583828  143.669186   19  10.0  U   \n",
            "6            Greenland  UAK  BGBW  61.160517  -45.425978  112  -3.0  E   \n",
            "7            Greenland  GOH  BGGH  64.190922  -51.678064  283  -3.0  E   \n",
            "8            Greenland  SFJ  BGSF  67.016969  -50.689325  165  -3.0  E   \n",
            "...                ...  ...   ...        ...         ...  ...   ... ..   \n",
            "8102            Canada  YMU    \\N  50.066667 -124.983333    0  -8.0  A   \n",
            "8103            Canada  YMP    \\N  50.575556 -127.028611  225  -8.0  A   \n",
            "8104            Canada  YTG    \\N  50.883333 -126.833333    0  -8.0  A   \n",
            "8105     United States  DHB    \\N  48.618397 -123.005960    0  -8.0  A   \n",
            "8106     United States  OLT    \\N  32.755200 -117.199500    0  -8.0  A   \n",
            "\n",
            "                        11  \n",
            "4     Pacific/Port_Moresby  \n",
            "5     Pacific/Port_Moresby  \n",
            "6          America/Godthab  \n",
            "7          America/Godthab  \n",
            "8          America/Godthab  \n",
            "...                    ...  \n",
            "8102     America/Vancouver  \n",
            "8103     America/Vancouver  \n",
            "8104     America/Vancouver  \n",
            "8105   America/Los_Angeles  \n",
            "8106   America/Los_Angeles  \n",
            "\n",
            "[5889 rows x 12 columns]\n"
          ]
        },
        {
          "output_type": "execute_result",
          "data": {
            "text/plain": [
              "array(['Papua New Guinea', 'Greenland', 'Iceland', 'Canada', 'Algeria',\n",
              "       'Benin', 'Burkina Faso', 'Ghana', \"Cote d'Ivoire\", 'Nigeria',\n",
              "       'Niger', 'Tunisia', 'Togo', 'Belgium', 'Germany', 'United States',\n",
              "       'Estonia', 'Finland', 'United Kingdom', 'Guernsey', 'Jersey',\n",
              "       'Isle of Man', 'Falkland Islands', 'Netherlands', 'Ireland',\n",
              "       'Denmark', 'Faroe Islands', 'Luxembourg', 'Norway', 'Poland',\n",
              "       'Sweden', 'South Africa', 'Botswana', 'Congo (Brazzaville)',\n",
              "       'Congo (Kinshasa)', 'Swaziland', 'Central African Republic',\n",
              "       'Equatorial Guinea', 'Saint Helena', 'Mauritius',\n",
              "       'British Indian Ocean Territory', 'Cameroon', 'Zambia', 'Comoros',\n",
              "       'Mayotte', 'Reunion', 'Madagascar', 'Angola', 'Puerto Rico',\n",
              "       'Gabon', 'Sao Tome and Principe', 'Mozambique', 'Seychelles',\n",
              "       'Chad', 'Zimbabwe', 'Malawi', 'Lesotho', 'Mali', 'Gambia', 'Spain',\n",
              "       'Sierra Leone', 'Guinea-Bissau', 'Liberia', 'Morocco', 'Senegal',\n",
              "       'Mauritania', 'Guinea', 'Cape Verde', 'Ethiopia', 'Maldives',\n",
              "       'Burundi', 'Somalia', 'Egypt', 'Kenya', 'Libya', 'Rwanda', 'Sudan',\n",
              "       'South Sudan', 'Tanzania', 'Uganda', 'Albania', 'Bulgaria',\n",
              "       'Cyprus', 'Croatia', 'Greece', 'France',\n",
              "       'Saint Pierre and Miquelon', 'Hungary', 'Italy', 'Slovenia',\n",
              "       'Czech Republic', 'Israel', 'Malta', 'Austria', 'Portugal',\n",
              "       'Bosnia and Herzegovina', 'Romania', 'Switzerland', 'Turkey',\n",
              "       'Moldova', 'Macedonia', 'Gibraltar', 'Serbia', 'Montenegro',\n",
              "       'Slovakia', 'Turks and Caicos Islands', 'Dominican Republic',\n",
              "       'Guatemala', 'Honduras', 'Jamaica', 'Mexico', 'Nicaragua',\n",
              "       'Panama', 'Costa Rica', 'El Salvador', 'Haiti', 'Cuba',\n",
              "       'Cayman Islands', 'Bahamas', 'Belize', 'Cook Islands', 'Fiji',\n",
              "       'Tonga', 'Kiribati', 'Australia', 'Wallis and Futuna', 'Samoa',\n",
              "       'American Samoa', 'French Polynesia', 'Vanuatu', 'New Caledonia',\n",
              "       'New Zealand', 'Antarctica', 'Afghanistan', 'Bahrain',\n",
              "       'Saudi Arabia', 'Iran', 'Argentina', 'Jordan', 'West Bank',\n",
              "       'Kuwait', 'Lebanon', 'United Arab Emirates', 'Oman', 'Pakistan',\n",
              "       'Iraq', 'Syria', 'Qatar', 'Northern Mariana Islands', 'Guam',\n",
              "       'Marshall Islands', 'Midway Islands', 'Micronesia', 'Palau',\n",
              "       'Taiwan', 'Japan', 'South Korea', 'Philippines', 'Turkmenistan',\n",
              "       'Brazil', 'Chile', 'Ecuador', 'Paraguay', 'Colombia', 'Bolivia',\n",
              "       'Suriname', 'French Guiana', 'Peru', 'Uruguay', 'Venezuela',\n",
              "       'Guyana', 'Antigua and Barbuda', 'Barbados', 'Dominica',\n",
              "       'Martinique', 'Guadeloupe', 'Grenada', 'Virgin Islands',\n",
              "       'Saint Kitts and Nevis', 'Saint Lucia', 'Aruba',\n",
              "       'Netherlands Antilles', 'Anguilla', 'Trinidad and Tobago',\n",
              "       'British Virgin Islands', 'Saint Vincent and the Grenadines',\n",
              "       'Kazakhstan', 'Kyrgyzstan', 'Azerbaijan', 'Russia', 'Ukraine',\n",
              "       'Belarus', 'Tajikistan', 'Uzbekistan', 'India', 'Sri Lanka',\n",
              "       'Cambodia', 'Bangladesh', 'Hong Kong', 'Laos', 'Macau', 'Nepal',\n",
              "       'Bhutan', 'Thailand', 'Indonesia', 'Vietnam', 'Burma', 'Malaysia',\n",
              "       'Brunei', 'East Timor', 'Singapore', 'Christmas Island',\n",
              "       'Norfolk Island', 'China', 'Korea', 'Mongolia', 'Latvia',\n",
              "       'Lithuania', 'Armenia', 'Eritrea', 'Palestine', 'Yemen', 'Georgia',\n",
              "       'Bermuda', 'Solomon Islands', 'Nauru', 'Tuvalu', 'Namibia',\n",
              "       'Djibouti', 'Montserrat', 'Monaco', 'Johnston Atoll', 'Niue',\n",
              "       'Western Sahara', 'Cocos (Keeling) Islands',\n",
              "       'South Georgia and the Islands', 'Myanmar', 'Svalbard',\n",
              "       'North Korea', 'Wake Island'], dtype=object)"
            ]
          },
          "metadata": {},
          "execution_count": 4
        }
      ],
      "source": [
        "import pandas as pd\n",
        "df=pd.read_csv('https://raw.githubusercontent.com/przem85/MPUM/master/Cw/airports.csv', header=None)\n",
        "#1\n",
        "print(df.tail(12))\n",
        "#2\n",
        "print(df.loc[1])\n",
        "print(df.iloc[1])\n",
        "#3\n",
        "print(df.loc[df[3] == 'Poland'])\n",
        "#4\n",
        "print(df.loc[df[1] != df[2]])\n",
        "#5\n",
        "df[8] = df[8]*30.48\n",
        "#6\n",
        "pd.unique(df[3])"
      ]
    },
    {
      "cell_type": "code",
      "execution_count": null,
      "metadata": {
        "id": "5RO99kwHuhQS"
      },
      "outputs": [],
      "source": [
        ""
      ]
    },
    {
      "cell_type": "markdown",
      "metadata": {
        "id": "hR9lUjJRuhQS"
      },
      "source": [
        "# Dane do kolejnych zadań\n",
        "Wczytanie dancyh:\n",
        "\n",
        "  * Powinieneś być w stanie zobaczyć wszystkie kolumny i 10 wierszy danych:\n",
        "  * survival – Survival (0 = No; 1 = Yes)\n",
        "  * pclass – Passenger Class (1 = 1st; 2 = 2nd; 3 = 3rd)\n",
        "  * sex – Sex\n",
        "  * age – Age\n",
        "  * sibsp – Number of Siblings/Spouses Aboard\n",
        "  * parch – Number of Parents/Children Aboard\n",
        "  * ticket – Ticket Number\n",
        "  * fare – Passenger Fare\n",
        "  * cabin – Cabin\n",
        "  * embarked – Port of Embarkation (C = Cherbourg; Q = Queenstown; S = Southampton)\n"
      ]
    },
    {
      "cell_type": "code",
      "execution_count": null,
      "metadata": {
        "id": "naO5KM-LuhQS",
        "outputId": "c7a456d7-2ef6-48a8-f39b-80dbac7df861",
        "colab": {
          "base_uri": "https://localhost:8080/",
          "height": 224
        }
      },
      "outputs": [
        {
          "output_type": "stream",
          "name": "stdout",
          "text": [
            "(891, 12)\n"
          ]
        },
        {
          "output_type": "execute_result",
          "data": {
            "text/plain": [
              "   PassengerId  Survived  Pclass  \\\n",
              "0            1         0       3   \n",
              "1            2         1       1   \n",
              "2            3         1       3   \n",
              "3            4         1       1   \n",
              "4            5         0       3   \n",
              "\n",
              "                                                Name     Sex   Age  SibSp  \\\n",
              "0                            Braund, Mr. Owen Harris    male  22.0      1   \n",
              "1  Cumings, Mrs. John Bradley (Florence Briggs Th...  female  38.0      1   \n",
              "2                             Heikkinen, Miss. Laina  female  26.0      0   \n",
              "3       Futrelle, Mrs. Jacques Heath (Lily May Peel)  female  35.0      1   \n",
              "4                           Allen, Mr. William Henry    male  35.0      0   \n",
              "\n",
              "   Parch            Ticket     Fare Cabin Embarked  \n",
              "0      0         A/5 21171   7.2500   NaN        S  \n",
              "1      0          PC 17599  71.2833   C85        C  \n",
              "2      0  STON/O2. 3101282   7.9250   NaN        S  \n",
              "3      0            113803  53.1000  C123        S  \n",
              "4      0            373450   8.0500   NaN        S  "
            ],
            "text/html": [
              "\n",
              "  <div id=\"df-73879dd8-f43e-4f32-aff8-fff8fd8fe4d5\">\n",
              "    <div class=\"colab-df-container\">\n",
              "      <div>\n",
              "<style scoped>\n",
              "    .dataframe tbody tr th:only-of-type {\n",
              "        vertical-align: middle;\n",
              "    }\n",
              "\n",
              "    .dataframe tbody tr th {\n",
              "        vertical-align: top;\n",
              "    }\n",
              "\n",
              "    .dataframe thead th {\n",
              "        text-align: right;\n",
              "    }\n",
              "</style>\n",
              "<table border=\"1\" class=\"dataframe\">\n",
              "  <thead>\n",
              "    <tr style=\"text-align: right;\">\n",
              "      <th></th>\n",
              "      <th>PassengerId</th>\n",
              "      <th>Survived</th>\n",
              "      <th>Pclass</th>\n",
              "      <th>Name</th>\n",
              "      <th>Sex</th>\n",
              "      <th>Age</th>\n",
              "      <th>SibSp</th>\n",
              "      <th>Parch</th>\n",
              "      <th>Ticket</th>\n",
              "      <th>Fare</th>\n",
              "      <th>Cabin</th>\n",
              "      <th>Embarked</th>\n",
              "    </tr>\n",
              "  </thead>\n",
              "  <tbody>\n",
              "    <tr>\n",
              "      <th>0</th>\n",
              "      <td>1</td>\n",
              "      <td>0</td>\n",
              "      <td>3</td>\n",
              "      <td>Braund, Mr. Owen Harris</td>\n",
              "      <td>male</td>\n",
              "      <td>22.0</td>\n",
              "      <td>1</td>\n",
              "      <td>0</td>\n",
              "      <td>A/5 21171</td>\n",
              "      <td>7.2500</td>\n",
              "      <td>NaN</td>\n",
              "      <td>S</td>\n",
              "    </tr>\n",
              "    <tr>\n",
              "      <th>1</th>\n",
              "      <td>2</td>\n",
              "      <td>1</td>\n",
              "      <td>1</td>\n",
              "      <td>Cumings, Mrs. John Bradley (Florence Briggs Th...</td>\n",
              "      <td>female</td>\n",
              "      <td>38.0</td>\n",
              "      <td>1</td>\n",
              "      <td>0</td>\n",
              "      <td>PC 17599</td>\n",
              "      <td>71.2833</td>\n",
              "      <td>C85</td>\n",
              "      <td>C</td>\n",
              "    </tr>\n",
              "    <tr>\n",
              "      <th>2</th>\n",
              "      <td>3</td>\n",
              "      <td>1</td>\n",
              "      <td>3</td>\n",
              "      <td>Heikkinen, Miss. Laina</td>\n",
              "      <td>female</td>\n",
              "      <td>26.0</td>\n",
              "      <td>0</td>\n",
              "      <td>0</td>\n",
              "      <td>STON/O2. 3101282</td>\n",
              "      <td>7.9250</td>\n",
              "      <td>NaN</td>\n",
              "      <td>S</td>\n",
              "    </tr>\n",
              "    <tr>\n",
              "      <th>3</th>\n",
              "      <td>4</td>\n",
              "      <td>1</td>\n",
              "      <td>1</td>\n",
              "      <td>Futrelle, Mrs. Jacques Heath (Lily May Peel)</td>\n",
              "      <td>female</td>\n",
              "      <td>35.0</td>\n",
              "      <td>1</td>\n",
              "      <td>0</td>\n",
              "      <td>113803</td>\n",
              "      <td>53.1000</td>\n",
              "      <td>C123</td>\n",
              "      <td>S</td>\n",
              "    </tr>\n",
              "    <tr>\n",
              "      <th>4</th>\n",
              "      <td>5</td>\n",
              "      <td>0</td>\n",
              "      <td>3</td>\n",
              "      <td>Allen, Mr. William Henry</td>\n",
              "      <td>male</td>\n",
              "      <td>35.0</td>\n",
              "      <td>0</td>\n",
              "      <td>0</td>\n",
              "      <td>373450</td>\n",
              "      <td>8.0500</td>\n",
              "      <td>NaN</td>\n",
              "      <td>S</td>\n",
              "    </tr>\n",
              "  </tbody>\n",
              "</table>\n",
              "</div>\n",
              "      <button class=\"colab-df-convert\" onclick=\"convertToInteractive('df-73879dd8-f43e-4f32-aff8-fff8fd8fe4d5')\"\n",
              "              title=\"Convert this dataframe to an interactive table.\"\n",
              "              style=\"display:none;\">\n",
              "        \n",
              "  <svg xmlns=\"http://www.w3.org/2000/svg\" height=\"24px\"viewBox=\"0 0 24 24\"\n",
              "       width=\"24px\">\n",
              "    <path d=\"M0 0h24v24H0V0z\" fill=\"none\"/>\n",
              "    <path d=\"M18.56 5.44l.94 2.06.94-2.06 2.06-.94-2.06-.94-.94-2.06-.94 2.06-2.06.94zm-11 1L8.5 8.5l.94-2.06 2.06-.94-2.06-.94L8.5 2.5l-.94 2.06-2.06.94zm10 10l.94 2.06.94-2.06 2.06-.94-2.06-.94-.94-2.06-.94 2.06-2.06.94z\"/><path d=\"M17.41 7.96l-1.37-1.37c-.4-.4-.92-.59-1.43-.59-.52 0-1.04.2-1.43.59L10.3 9.45l-7.72 7.72c-.78.78-.78 2.05 0 2.83L4 21.41c.39.39.9.59 1.41.59.51 0 1.02-.2 1.41-.59l7.78-7.78 2.81-2.81c.8-.78.8-2.07 0-2.86zM5.41 20L4 18.59l7.72-7.72 1.47 1.35L5.41 20z\"/>\n",
              "  </svg>\n",
              "      </button>\n",
              "      \n",
              "  <style>\n",
              "    .colab-df-container {\n",
              "      display:flex;\n",
              "      flex-wrap:wrap;\n",
              "      gap: 12px;\n",
              "    }\n",
              "\n",
              "    .colab-df-convert {\n",
              "      background-color: #E8F0FE;\n",
              "      border: none;\n",
              "      border-radius: 50%;\n",
              "      cursor: pointer;\n",
              "      display: none;\n",
              "      fill: #1967D2;\n",
              "      height: 32px;\n",
              "      padding: 0 0 0 0;\n",
              "      width: 32px;\n",
              "    }\n",
              "\n",
              "    .colab-df-convert:hover {\n",
              "      background-color: #E2EBFA;\n",
              "      box-shadow: 0px 1px 2px rgba(60, 64, 67, 0.3), 0px 1px 3px 1px rgba(60, 64, 67, 0.15);\n",
              "      fill: #174EA6;\n",
              "    }\n",
              "\n",
              "    [theme=dark] .colab-df-convert {\n",
              "      background-color: #3B4455;\n",
              "      fill: #D2E3FC;\n",
              "    }\n",
              "\n",
              "    [theme=dark] .colab-df-convert:hover {\n",
              "      background-color: #434B5C;\n",
              "      box-shadow: 0px 1px 3px 1px rgba(0, 0, 0, 0.15);\n",
              "      filter: drop-shadow(0px 1px 2px rgba(0, 0, 0, 0.3));\n",
              "      fill: #FFFFFF;\n",
              "    }\n",
              "  </style>\n",
              "\n",
              "      <script>\n",
              "        const buttonEl =\n",
              "          document.querySelector('#df-73879dd8-f43e-4f32-aff8-fff8fd8fe4d5 button.colab-df-convert');\n",
              "        buttonEl.style.display =\n",
              "          google.colab.kernel.accessAllowed ? 'block' : 'none';\n",
              "\n",
              "        async function convertToInteractive(key) {\n",
              "          const element = document.querySelector('#df-73879dd8-f43e-4f32-aff8-fff8fd8fe4d5');\n",
              "          const dataTable =\n",
              "            await google.colab.kernel.invokeFunction('convertToInteractive',\n",
              "                                                     [key], {});\n",
              "          if (!dataTable) return;\n",
              "\n",
              "          const docLinkHtml = 'Like what you see? Visit the ' +\n",
              "            '<a target=\"_blank\" href=https://colab.research.google.com/notebooks/data_table.ipynb>data table notebook</a>'\n",
              "            + ' to learn more about interactive tables.';\n",
              "          element.innerHTML = '';\n",
              "          dataTable['output_type'] = 'display_data';\n",
              "          await google.colab.output.renderOutput(dataTable, element);\n",
              "          const docLink = document.createElement('div');\n",
              "          docLink.innerHTML = docLinkHtml;\n",
              "          element.appendChild(docLink);\n",
              "        }\n",
              "      </script>\n",
              "    </div>\n",
              "  </div>\n",
              "  "
            ]
          },
          "metadata": {},
          "execution_count": 39
        }
      ],
      "source": [
        "df = pd.read_csv('https://raw.githubusercontent.com/datasciencedojo/datasets/master/titanic.csv') \n",
        "print(df.shape)\n",
        "df.head()"
      ]
    },
    {
      "cell_type": "code",
      "execution_count": null,
      "metadata": {
        "id": "EVmHEU6euhQS",
        "outputId": "bfd2ee10-8ce7-4747-8498-6d8b297e1b6e"
      },
      "outputs": [
        {
          "data": {
            "text/plain": [
              "Index(['PassengerId', 'Survived', 'Pclass', 'Name', 'Sex', 'Age', 'SibSp',\n",
              "       'Parch', 'Ticket', 'Fare', 'Cabin', 'Embarked'],\n",
              "      dtype='object')"
            ]
          },
          "execution_count": 70,
          "metadata": {},
          "output_type": "execute_result"
        }
      ],
      "source": [
        "df.columns"
      ]
    },
    {
      "cell_type": "markdown",
      "metadata": {
        "id": "GfZcdu2MuhQT"
      },
      "source": [
        "# Zadanie 6\n",
        "\n",
        "Usuń kolumny: \"PassengerId\", \"Name\" i \"Ticket\".\n",
        "\n",
        "Powody:\n",
        "\n",
        "  * PassengerId - jest to unikalny numer\n",
        "  * Imię - nie ma wpływu na predykcje\n",
        "  * Bilet - wygląda niechlujnie i jest losowe"
      ]
    },
    {
      "cell_type": "code",
      "execution_count": null,
      "metadata": {
        "id": "2qsvjlGauhQc"
      },
      "outputs": [],
      "source": [
        "df2 = df.drop(columns=['PassengerId','Name','Ticket'])\n",
        "df2"
      ]
    },
    {
      "cell_type": "markdown",
      "metadata": {
        "id": "MvWH-iKquhQc"
      },
      "source": [
        "# Następnie musimy spojrzeć na kolumnę Cabin.\n",
        "\n",
        "Następnie musimy spojrzeć na kolumnę Cabin. Będziemy leniwi i zmienimy wartości na Tak lub Nie (w zależności czy posiadał kabinę). Lepszym sposobem na to może być podzielenie opisu tak aby uzyskać pierwszą literę, ponieważ zwykle oznacza ona, na którym pokładzie znajdowała się kabina. Może to być użyteczne przy predykcji (ale my na razie jej nie wykonujemy)."
      ]
    },
    {
      "cell_type": "code",
      "execution_count": null,
      "metadata": {
        "id": "n-l66fHKuhQe",
        "outputId": "b39b4660-8f60-4f64-c902-4052a5383904"
      },
      "outputs": [
        {
          "data": {
            "text/html": [
              "<div>\n",
              "<style scoped>\n",
              "    .dataframe tbody tr th:only-of-type {\n",
              "        vertical-align: middle;\n",
              "    }\n",
              "\n",
              "    .dataframe tbody tr th {\n",
              "        vertical-align: top;\n",
              "    }\n",
              "\n",
              "    .dataframe thead th {\n",
              "        text-align: right;\n",
              "    }\n",
              "</style>\n",
              "<table border=\"1\" class=\"dataframe\">\n",
              "  <thead>\n",
              "    <tr style=\"text-align: right;\">\n",
              "      <th></th>\n",
              "      <th>PassengerId</th>\n",
              "      <th>Survived</th>\n",
              "      <th>Pclass</th>\n",
              "      <th>Name</th>\n",
              "      <th>Sex</th>\n",
              "      <th>Age</th>\n",
              "      <th>SibSp</th>\n",
              "      <th>Parch</th>\n",
              "      <th>Ticket</th>\n",
              "      <th>Fare</th>\n",
              "      <th>Cabin</th>\n",
              "      <th>Embarked</th>\n",
              "    </tr>\n",
              "  </thead>\n",
              "  <tbody>\n",
              "    <tr>\n",
              "      <th>0</th>\n",
              "      <td>1</td>\n",
              "      <td>0</td>\n",
              "      <td>3</td>\n",
              "      <td>Braund, Mr. Owen Harris</td>\n",
              "      <td>male</td>\n",
              "      <td>22.0</td>\n",
              "      <td>1</td>\n",
              "      <td>0</td>\n",
              "      <td>A/5 21171</td>\n",
              "      <td>7.2500</td>\n",
              "      <td>NaN</td>\n",
              "      <td>S</td>\n",
              "    </tr>\n",
              "    <tr>\n",
              "      <th>2</th>\n",
              "      <td>3</td>\n",
              "      <td>1</td>\n",
              "      <td>3</td>\n",
              "      <td>Heikkinen, Miss. Laina</td>\n",
              "      <td>female</td>\n",
              "      <td>26.0</td>\n",
              "      <td>0</td>\n",
              "      <td>0</td>\n",
              "      <td>STON/O2. 3101282</td>\n",
              "      <td>7.9250</td>\n",
              "      <td>NaN</td>\n",
              "      <td>S</td>\n",
              "    </tr>\n",
              "    <tr>\n",
              "      <th>4</th>\n",
              "      <td>5</td>\n",
              "      <td>0</td>\n",
              "      <td>3</td>\n",
              "      <td>Allen, Mr. William Henry</td>\n",
              "      <td>male</td>\n",
              "      <td>35.0</td>\n",
              "      <td>0</td>\n",
              "      <td>0</td>\n",
              "      <td>373450</td>\n",
              "      <td>8.0500</td>\n",
              "      <td>NaN</td>\n",
              "      <td>S</td>\n",
              "    </tr>\n",
              "    <tr>\n",
              "      <th>5</th>\n",
              "      <td>6</td>\n",
              "      <td>0</td>\n",
              "      <td>3</td>\n",
              "      <td>Moran, Mr. James</td>\n",
              "      <td>male</td>\n",
              "      <td>NaN</td>\n",
              "      <td>0</td>\n",
              "      <td>0</td>\n",
              "      <td>330877</td>\n",
              "      <td>8.4583</td>\n",
              "      <td>NaN</td>\n",
              "      <td>Q</td>\n",
              "    </tr>\n",
              "    <tr>\n",
              "      <th>7</th>\n",
              "      <td>8</td>\n",
              "      <td>0</td>\n",
              "      <td>3</td>\n",
              "      <td>Palsson, Master. Gosta Leonard</td>\n",
              "      <td>male</td>\n",
              "      <td>2.0</td>\n",
              "      <td>3</td>\n",
              "      <td>1</td>\n",
              "      <td>349909</td>\n",
              "      <td>21.0750</td>\n",
              "      <td>NaN</td>\n",
              "      <td>S</td>\n",
              "    </tr>\n",
              "    <tr>\n",
              "      <th>8</th>\n",
              "      <td>9</td>\n",
              "      <td>1</td>\n",
              "      <td>3</td>\n",
              "      <td>Johnson, Mrs. Oscar W (Elisabeth Vilhelmina Berg)</td>\n",
              "      <td>female</td>\n",
              "      <td>27.0</td>\n",
              "      <td>0</td>\n",
              "      <td>2</td>\n",
              "      <td>347742</td>\n",
              "      <td>11.1333</td>\n",
              "      <td>NaN</td>\n",
              "      <td>S</td>\n",
              "    </tr>\n",
              "    <tr>\n",
              "      <th>9</th>\n",
              "      <td>10</td>\n",
              "      <td>1</td>\n",
              "      <td>2</td>\n",
              "      <td>Nasser, Mrs. Nicholas (Adele Achem)</td>\n",
              "      <td>female</td>\n",
              "      <td>14.0</td>\n",
              "      <td>1</td>\n",
              "      <td>0</td>\n",
              "      <td>237736</td>\n",
              "      <td>30.0708</td>\n",
              "      <td>NaN</td>\n",
              "      <td>C</td>\n",
              "    </tr>\n",
              "    <tr>\n",
              "      <th>12</th>\n",
              "      <td>13</td>\n",
              "      <td>0</td>\n",
              "      <td>3</td>\n",
              "      <td>Saundercock, Mr. William Henry</td>\n",
              "      <td>male</td>\n",
              "      <td>20.0</td>\n",
              "      <td>0</td>\n",
              "      <td>0</td>\n",
              "      <td>A/5. 2151</td>\n",
              "      <td>8.0500</td>\n",
              "      <td>NaN</td>\n",
              "      <td>S</td>\n",
              "    </tr>\n",
              "    <tr>\n",
              "      <th>13</th>\n",
              "      <td>14</td>\n",
              "      <td>0</td>\n",
              "      <td>3</td>\n",
              "      <td>Andersson, Mr. Anders Johan</td>\n",
              "      <td>male</td>\n",
              "      <td>39.0</td>\n",
              "      <td>1</td>\n",
              "      <td>5</td>\n",
              "      <td>347082</td>\n",
              "      <td>31.2750</td>\n",
              "      <td>NaN</td>\n",
              "      <td>S</td>\n",
              "    </tr>\n",
              "    <tr>\n",
              "      <th>14</th>\n",
              "      <td>15</td>\n",
              "      <td>0</td>\n",
              "      <td>3</td>\n",
              "      <td>Vestrom, Miss. Hulda Amanda Adolfina</td>\n",
              "      <td>female</td>\n",
              "      <td>14.0</td>\n",
              "      <td>0</td>\n",
              "      <td>0</td>\n",
              "      <td>350406</td>\n",
              "      <td>7.8542</td>\n",
              "      <td>NaN</td>\n",
              "      <td>S</td>\n",
              "    </tr>\n",
              "    <tr>\n",
              "      <th>15</th>\n",
              "      <td>16</td>\n",
              "      <td>1</td>\n",
              "      <td>2</td>\n",
              "      <td>Hewlett, Mrs. (Mary D Kingcome)</td>\n",
              "      <td>female</td>\n",
              "      <td>55.0</td>\n",
              "      <td>0</td>\n",
              "      <td>0</td>\n",
              "      <td>248706</td>\n",
              "      <td>16.0000</td>\n",
              "      <td>NaN</td>\n",
              "      <td>S</td>\n",
              "    </tr>\n",
              "    <tr>\n",
              "      <th>16</th>\n",
              "      <td>17</td>\n",
              "      <td>0</td>\n",
              "      <td>3</td>\n",
              "      <td>Rice, Master. Eugene</td>\n",
              "      <td>male</td>\n",
              "      <td>2.0</td>\n",
              "      <td>4</td>\n",
              "      <td>1</td>\n",
              "      <td>382652</td>\n",
              "      <td>29.1250</td>\n",
              "      <td>NaN</td>\n",
              "      <td>Q</td>\n",
              "    </tr>\n",
              "    <tr>\n",
              "      <th>17</th>\n",
              "      <td>18</td>\n",
              "      <td>1</td>\n",
              "      <td>2</td>\n",
              "      <td>Williams, Mr. Charles Eugene</td>\n",
              "      <td>male</td>\n",
              "      <td>NaN</td>\n",
              "      <td>0</td>\n",
              "      <td>0</td>\n",
              "      <td>244373</td>\n",
              "      <td>13.0000</td>\n",
              "      <td>NaN</td>\n",
              "      <td>S</td>\n",
              "    </tr>\n",
              "    <tr>\n",
              "      <th>18</th>\n",
              "      <td>19</td>\n",
              "      <td>0</td>\n",
              "      <td>3</td>\n",
              "      <td>Vander Planke, Mrs. Julius (Emelia Maria Vande...</td>\n",
              "      <td>female</td>\n",
              "      <td>31.0</td>\n",
              "      <td>1</td>\n",
              "      <td>0</td>\n",
              "      <td>345763</td>\n",
              "      <td>18.0000</td>\n",
              "      <td>NaN</td>\n",
              "      <td>S</td>\n",
              "    </tr>\n",
              "    <tr>\n",
              "      <th>19</th>\n",
              "      <td>20</td>\n",
              "      <td>1</td>\n",
              "      <td>3</td>\n",
              "      <td>Masselmani, Mrs. Fatima</td>\n",
              "      <td>female</td>\n",
              "      <td>NaN</td>\n",
              "      <td>0</td>\n",
              "      <td>0</td>\n",
              "      <td>2649</td>\n",
              "      <td>7.2250</td>\n",
              "      <td>NaN</td>\n",
              "      <td>C</td>\n",
              "    </tr>\n",
              "    <tr>\n",
              "      <th>20</th>\n",
              "      <td>21</td>\n",
              "      <td>0</td>\n",
              "      <td>2</td>\n",
              "      <td>Fynney, Mr. Joseph J</td>\n",
              "      <td>male</td>\n",
              "      <td>35.0</td>\n",
              "      <td>0</td>\n",
              "      <td>0</td>\n",
              "      <td>239865</td>\n",
              "      <td>26.0000</td>\n",
              "      <td>NaN</td>\n",
              "      <td>S</td>\n",
              "    </tr>\n",
              "    <tr>\n",
              "      <th>22</th>\n",
              "      <td>23</td>\n",
              "      <td>1</td>\n",
              "      <td>3</td>\n",
              "      <td>McGowan, Miss. Anna \"Annie\"</td>\n",
              "      <td>female</td>\n",
              "      <td>15.0</td>\n",
              "      <td>0</td>\n",
              "      <td>0</td>\n",
              "      <td>330923</td>\n",
              "      <td>8.0292</td>\n",
              "      <td>NaN</td>\n",
              "      <td>Q</td>\n",
              "    </tr>\n",
              "    <tr>\n",
              "      <th>24</th>\n",
              "      <td>25</td>\n",
              "      <td>0</td>\n",
              "      <td>3</td>\n",
              "      <td>Palsson, Miss. Torborg Danira</td>\n",
              "      <td>female</td>\n",
              "      <td>8.0</td>\n",
              "      <td>3</td>\n",
              "      <td>1</td>\n",
              "      <td>349909</td>\n",
              "      <td>21.0750</td>\n",
              "      <td>NaN</td>\n",
              "      <td>S</td>\n",
              "    </tr>\n",
              "    <tr>\n",
              "      <th>25</th>\n",
              "      <td>26</td>\n",
              "      <td>1</td>\n",
              "      <td>3</td>\n",
              "      <td>Asplund, Mrs. Carl Oscar (Selma Augusta Emilia...</td>\n",
              "      <td>female</td>\n",
              "      <td>38.0</td>\n",
              "      <td>1</td>\n",
              "      <td>5</td>\n",
              "      <td>347077</td>\n",
              "      <td>31.3875</td>\n",
              "      <td>NaN</td>\n",
              "      <td>S</td>\n",
              "    </tr>\n",
              "    <tr>\n",
              "      <th>26</th>\n",
              "      <td>27</td>\n",
              "      <td>0</td>\n",
              "      <td>3</td>\n",
              "      <td>Emir, Mr. Farred Chehab</td>\n",
              "      <td>male</td>\n",
              "      <td>NaN</td>\n",
              "      <td>0</td>\n",
              "      <td>0</td>\n",
              "      <td>2631</td>\n",
              "      <td>7.2250</td>\n",
              "      <td>NaN</td>\n",
              "      <td>C</td>\n",
              "    </tr>\n",
              "    <tr>\n",
              "      <th>28</th>\n",
              "      <td>29</td>\n",
              "      <td>1</td>\n",
              "      <td>3</td>\n",
              "      <td>O'Dwyer, Miss. Ellen \"Nellie\"</td>\n",
              "      <td>female</td>\n",
              "      <td>NaN</td>\n",
              "      <td>0</td>\n",
              "      <td>0</td>\n",
              "      <td>330959</td>\n",
              "      <td>7.8792</td>\n",
              "      <td>NaN</td>\n",
              "      <td>Q</td>\n",
              "    </tr>\n",
              "    <tr>\n",
              "      <th>29</th>\n",
              "      <td>30</td>\n",
              "      <td>0</td>\n",
              "      <td>3</td>\n",
              "      <td>Todoroff, Mr. Lalio</td>\n",
              "      <td>male</td>\n",
              "      <td>NaN</td>\n",
              "      <td>0</td>\n",
              "      <td>0</td>\n",
              "      <td>349216</td>\n",
              "      <td>7.8958</td>\n",
              "      <td>NaN</td>\n",
              "      <td>S</td>\n",
              "    </tr>\n",
              "    <tr>\n",
              "      <th>30</th>\n",
              "      <td>31</td>\n",
              "      <td>0</td>\n",
              "      <td>1</td>\n",
              "      <td>Uruchurtu, Don. Manuel E</td>\n",
              "      <td>male</td>\n",
              "      <td>40.0</td>\n",
              "      <td>0</td>\n",
              "      <td>0</td>\n",
              "      <td>PC 17601</td>\n",
              "      <td>27.7208</td>\n",
              "      <td>NaN</td>\n",
              "      <td>C</td>\n",
              "    </tr>\n",
              "    <tr>\n",
              "      <th>32</th>\n",
              "      <td>33</td>\n",
              "      <td>1</td>\n",
              "      <td>3</td>\n",
              "      <td>Glynn, Miss. Mary Agatha</td>\n",
              "      <td>female</td>\n",
              "      <td>NaN</td>\n",
              "      <td>0</td>\n",
              "      <td>0</td>\n",
              "      <td>335677</td>\n",
              "      <td>7.7500</td>\n",
              "      <td>NaN</td>\n",
              "      <td>Q</td>\n",
              "    </tr>\n",
              "    <tr>\n",
              "      <th>33</th>\n",
              "      <td>34</td>\n",
              "      <td>0</td>\n",
              "      <td>2</td>\n",
              "      <td>Wheadon, Mr. Edward H</td>\n",
              "      <td>male</td>\n",
              "      <td>66.0</td>\n",
              "      <td>0</td>\n",
              "      <td>0</td>\n",
              "      <td>C.A. 24579</td>\n",
              "      <td>10.5000</td>\n",
              "      <td>NaN</td>\n",
              "      <td>S</td>\n",
              "    </tr>\n",
              "    <tr>\n",
              "      <th>34</th>\n",
              "      <td>35</td>\n",
              "      <td>0</td>\n",
              "      <td>1</td>\n",
              "      <td>Meyer, Mr. Edgar Joseph</td>\n",
              "      <td>male</td>\n",
              "      <td>28.0</td>\n",
              "      <td>1</td>\n",
              "      <td>0</td>\n",
              "      <td>PC 17604</td>\n",
              "      <td>82.1708</td>\n",
              "      <td>NaN</td>\n",
              "      <td>C</td>\n",
              "    </tr>\n",
              "    <tr>\n",
              "      <th>35</th>\n",
              "      <td>36</td>\n",
              "      <td>0</td>\n",
              "      <td>1</td>\n",
              "      <td>Holverson, Mr. Alexander Oskar</td>\n",
              "      <td>male</td>\n",
              "      <td>42.0</td>\n",
              "      <td>1</td>\n",
              "      <td>0</td>\n",
              "      <td>113789</td>\n",
              "      <td>52.0000</td>\n",
              "      <td>NaN</td>\n",
              "      <td>S</td>\n",
              "    </tr>\n",
              "    <tr>\n",
              "      <th>36</th>\n",
              "      <td>37</td>\n",
              "      <td>1</td>\n",
              "      <td>3</td>\n",
              "      <td>Mamee, Mr. Hanna</td>\n",
              "      <td>male</td>\n",
              "      <td>NaN</td>\n",
              "      <td>0</td>\n",
              "      <td>0</td>\n",
              "      <td>2677</td>\n",
              "      <td>7.2292</td>\n",
              "      <td>NaN</td>\n",
              "      <td>C</td>\n",
              "    </tr>\n",
              "    <tr>\n",
              "      <th>37</th>\n",
              "      <td>38</td>\n",
              "      <td>0</td>\n",
              "      <td>3</td>\n",
              "      <td>Cann, Mr. Ernest Charles</td>\n",
              "      <td>male</td>\n",
              "      <td>21.0</td>\n",
              "      <td>0</td>\n",
              "      <td>0</td>\n",
              "      <td>A./5. 2152</td>\n",
              "      <td>8.0500</td>\n",
              "      <td>NaN</td>\n",
              "      <td>S</td>\n",
              "    </tr>\n",
              "    <tr>\n",
              "      <th>38</th>\n",
              "      <td>39</td>\n",
              "      <td>0</td>\n",
              "      <td>3</td>\n",
              "      <td>Vander Planke, Miss. Augusta Maria</td>\n",
              "      <td>female</td>\n",
              "      <td>18.0</td>\n",
              "      <td>2</td>\n",
              "      <td>0</td>\n",
              "      <td>345764</td>\n",
              "      <td>18.0000</td>\n",
              "      <td>NaN</td>\n",
              "      <td>S</td>\n",
              "    </tr>\n",
              "    <tr>\n",
              "      <th>...</th>\n",
              "      <td>...</td>\n",
              "      <td>...</td>\n",
              "      <td>...</td>\n",
              "      <td>...</td>\n",
              "      <td>...</td>\n",
              "      <td>...</td>\n",
              "      <td>...</td>\n",
              "      <td>...</td>\n",
              "      <td>...</td>\n",
              "      <td>...</td>\n",
              "      <td>...</td>\n",
              "      <td>...</td>\n",
              "    </tr>\n",
              "    <tr>\n",
              "      <th>852</th>\n",
              "      <td>853</td>\n",
              "      <td>0</td>\n",
              "      <td>3</td>\n",
              "      <td>Boulos, Miss. Nourelain</td>\n",
              "      <td>female</td>\n",
              "      <td>9.0</td>\n",
              "      <td>1</td>\n",
              "      <td>1</td>\n",
              "      <td>2678</td>\n",
              "      <td>15.2458</td>\n",
              "      <td>NaN</td>\n",
              "      <td>C</td>\n",
              "    </tr>\n",
              "    <tr>\n",
              "      <th>854</th>\n",
              "      <td>855</td>\n",
              "      <td>0</td>\n",
              "      <td>2</td>\n",
              "      <td>Carter, Mrs. Ernest Courtenay (Lilian Hughes)</td>\n",
              "      <td>female</td>\n",
              "      <td>44.0</td>\n",
              "      <td>1</td>\n",
              "      <td>0</td>\n",
              "      <td>244252</td>\n",
              "      <td>26.0000</td>\n",
              "      <td>NaN</td>\n",
              "      <td>S</td>\n",
              "    </tr>\n",
              "    <tr>\n",
              "      <th>855</th>\n",
              "      <td>856</td>\n",
              "      <td>1</td>\n",
              "      <td>3</td>\n",
              "      <td>Aks, Mrs. Sam (Leah Rosen)</td>\n",
              "      <td>female</td>\n",
              "      <td>18.0</td>\n",
              "      <td>0</td>\n",
              "      <td>1</td>\n",
              "      <td>392091</td>\n",
              "      <td>9.3500</td>\n",
              "      <td>NaN</td>\n",
              "      <td>S</td>\n",
              "    </tr>\n",
              "    <tr>\n",
              "      <th>856</th>\n",
              "      <td>857</td>\n",
              "      <td>1</td>\n",
              "      <td>1</td>\n",
              "      <td>Wick, Mrs. George Dennick (Mary Hitchcock)</td>\n",
              "      <td>female</td>\n",
              "      <td>45.0</td>\n",
              "      <td>1</td>\n",
              "      <td>1</td>\n",
              "      <td>36928</td>\n",
              "      <td>164.8667</td>\n",
              "      <td>NaN</td>\n",
              "      <td>S</td>\n",
              "    </tr>\n",
              "    <tr>\n",
              "      <th>858</th>\n",
              "      <td>859</td>\n",
              "      <td>1</td>\n",
              "      <td>3</td>\n",
              "      <td>Baclini, Mrs. Solomon (Latifa Qurban)</td>\n",
              "      <td>female</td>\n",
              "      <td>24.0</td>\n",
              "      <td>0</td>\n",
              "      <td>3</td>\n",
              "      <td>2666</td>\n",
              "      <td>19.2583</td>\n",
              "      <td>NaN</td>\n",
              "      <td>C</td>\n",
              "    </tr>\n",
              "    <tr>\n",
              "      <th>859</th>\n",
              "      <td>860</td>\n",
              "      <td>0</td>\n",
              "      <td>3</td>\n",
              "      <td>Razi, Mr. Raihed</td>\n",
              "      <td>male</td>\n",
              "      <td>NaN</td>\n",
              "      <td>0</td>\n",
              "      <td>0</td>\n",
              "      <td>2629</td>\n",
              "      <td>7.2292</td>\n",
              "      <td>NaN</td>\n",
              "      <td>C</td>\n",
              "    </tr>\n",
              "    <tr>\n",
              "      <th>860</th>\n",
              "      <td>861</td>\n",
              "      <td>0</td>\n",
              "      <td>3</td>\n",
              "      <td>Hansen, Mr. Claus Peter</td>\n",
              "      <td>male</td>\n",
              "      <td>41.0</td>\n",
              "      <td>2</td>\n",
              "      <td>0</td>\n",
              "      <td>350026</td>\n",
              "      <td>14.1083</td>\n",
              "      <td>NaN</td>\n",
              "      <td>S</td>\n",
              "    </tr>\n",
              "    <tr>\n",
              "      <th>861</th>\n",
              "      <td>862</td>\n",
              "      <td>0</td>\n",
              "      <td>2</td>\n",
              "      <td>Giles, Mr. Frederick Edward</td>\n",
              "      <td>male</td>\n",
              "      <td>21.0</td>\n",
              "      <td>1</td>\n",
              "      <td>0</td>\n",
              "      <td>28134</td>\n",
              "      <td>11.5000</td>\n",
              "      <td>NaN</td>\n",
              "      <td>S</td>\n",
              "    </tr>\n",
              "    <tr>\n",
              "      <th>863</th>\n",
              "      <td>864</td>\n",
              "      <td>0</td>\n",
              "      <td>3</td>\n",
              "      <td>Sage, Miss. Dorothy Edith \"Dolly\"</td>\n",
              "      <td>female</td>\n",
              "      <td>NaN</td>\n",
              "      <td>8</td>\n",
              "      <td>2</td>\n",
              "      <td>CA. 2343</td>\n",
              "      <td>69.5500</td>\n",
              "      <td>NaN</td>\n",
              "      <td>S</td>\n",
              "    </tr>\n",
              "    <tr>\n",
              "      <th>864</th>\n",
              "      <td>865</td>\n",
              "      <td>0</td>\n",
              "      <td>2</td>\n",
              "      <td>Gill, Mr. John William</td>\n",
              "      <td>male</td>\n",
              "      <td>24.0</td>\n",
              "      <td>0</td>\n",
              "      <td>0</td>\n",
              "      <td>233866</td>\n",
              "      <td>13.0000</td>\n",
              "      <td>NaN</td>\n",
              "      <td>S</td>\n",
              "    </tr>\n",
              "    <tr>\n",
              "      <th>865</th>\n",
              "      <td>866</td>\n",
              "      <td>1</td>\n",
              "      <td>2</td>\n",
              "      <td>Bystrom, Mrs. (Karolina)</td>\n",
              "      <td>female</td>\n",
              "      <td>42.0</td>\n",
              "      <td>0</td>\n",
              "      <td>0</td>\n",
              "      <td>236852</td>\n",
              "      <td>13.0000</td>\n",
              "      <td>NaN</td>\n",
              "      <td>S</td>\n",
              "    </tr>\n",
              "    <tr>\n",
              "      <th>866</th>\n",
              "      <td>867</td>\n",
              "      <td>1</td>\n",
              "      <td>2</td>\n",
              "      <td>Duran y More, Miss. Asuncion</td>\n",
              "      <td>female</td>\n",
              "      <td>27.0</td>\n",
              "      <td>1</td>\n",
              "      <td>0</td>\n",
              "      <td>SC/PARIS 2149</td>\n",
              "      <td>13.8583</td>\n",
              "      <td>NaN</td>\n",
              "      <td>C</td>\n",
              "    </tr>\n",
              "    <tr>\n",
              "      <th>868</th>\n",
              "      <td>869</td>\n",
              "      <td>0</td>\n",
              "      <td>3</td>\n",
              "      <td>van Melkebeke, Mr. Philemon</td>\n",
              "      <td>male</td>\n",
              "      <td>NaN</td>\n",
              "      <td>0</td>\n",
              "      <td>0</td>\n",
              "      <td>345777</td>\n",
              "      <td>9.5000</td>\n",
              "      <td>NaN</td>\n",
              "      <td>S</td>\n",
              "    </tr>\n",
              "    <tr>\n",
              "      <th>869</th>\n",
              "      <td>870</td>\n",
              "      <td>1</td>\n",
              "      <td>3</td>\n",
              "      <td>Johnson, Master. Harold Theodor</td>\n",
              "      <td>male</td>\n",
              "      <td>4.0</td>\n",
              "      <td>1</td>\n",
              "      <td>1</td>\n",
              "      <td>347742</td>\n",
              "      <td>11.1333</td>\n",
              "      <td>NaN</td>\n",
              "      <td>S</td>\n",
              "    </tr>\n",
              "    <tr>\n",
              "      <th>870</th>\n",
              "      <td>871</td>\n",
              "      <td>0</td>\n",
              "      <td>3</td>\n",
              "      <td>Balkic, Mr. Cerin</td>\n",
              "      <td>male</td>\n",
              "      <td>26.0</td>\n",
              "      <td>0</td>\n",
              "      <td>0</td>\n",
              "      <td>349248</td>\n",
              "      <td>7.8958</td>\n",
              "      <td>NaN</td>\n",
              "      <td>S</td>\n",
              "    </tr>\n",
              "    <tr>\n",
              "      <th>873</th>\n",
              "      <td>874</td>\n",
              "      <td>0</td>\n",
              "      <td>3</td>\n",
              "      <td>Vander Cruyssen, Mr. Victor</td>\n",
              "      <td>male</td>\n",
              "      <td>47.0</td>\n",
              "      <td>0</td>\n",
              "      <td>0</td>\n",
              "      <td>345765</td>\n",
              "      <td>9.0000</td>\n",
              "      <td>NaN</td>\n",
              "      <td>S</td>\n",
              "    </tr>\n",
              "    <tr>\n",
              "      <th>874</th>\n",
              "      <td>875</td>\n",
              "      <td>1</td>\n",
              "      <td>2</td>\n",
              "      <td>Abelson, Mrs. Samuel (Hannah Wizosky)</td>\n",
              "      <td>female</td>\n",
              "      <td>28.0</td>\n",
              "      <td>1</td>\n",
              "      <td>0</td>\n",
              "      <td>P/PP 3381</td>\n",
              "      <td>24.0000</td>\n",
              "      <td>NaN</td>\n",
              "      <td>C</td>\n",
              "    </tr>\n",
              "    <tr>\n",
              "      <th>875</th>\n",
              "      <td>876</td>\n",
              "      <td>1</td>\n",
              "      <td>3</td>\n",
              "      <td>Najib, Miss. Adele Kiamie \"Jane\"</td>\n",
              "      <td>female</td>\n",
              "      <td>15.0</td>\n",
              "      <td>0</td>\n",
              "      <td>0</td>\n",
              "      <td>2667</td>\n",
              "      <td>7.2250</td>\n",
              "      <td>NaN</td>\n",
              "      <td>C</td>\n",
              "    </tr>\n",
              "    <tr>\n",
              "      <th>876</th>\n",
              "      <td>877</td>\n",
              "      <td>0</td>\n",
              "      <td>3</td>\n",
              "      <td>Gustafsson, Mr. Alfred Ossian</td>\n",
              "      <td>male</td>\n",
              "      <td>20.0</td>\n",
              "      <td>0</td>\n",
              "      <td>0</td>\n",
              "      <td>7534</td>\n",
              "      <td>9.8458</td>\n",
              "      <td>NaN</td>\n",
              "      <td>S</td>\n",
              "    </tr>\n",
              "    <tr>\n",
              "      <th>877</th>\n",
              "      <td>878</td>\n",
              "      <td>0</td>\n",
              "      <td>3</td>\n",
              "      <td>Petroff, Mr. Nedelio</td>\n",
              "      <td>male</td>\n",
              "      <td>19.0</td>\n",
              "      <td>0</td>\n",
              "      <td>0</td>\n",
              "      <td>349212</td>\n",
              "      <td>7.8958</td>\n",
              "      <td>NaN</td>\n",
              "      <td>S</td>\n",
              "    </tr>\n",
              "    <tr>\n",
              "      <th>878</th>\n",
              "      <td>879</td>\n",
              "      <td>0</td>\n",
              "      <td>3</td>\n",
              "      <td>Laleff, Mr. Kristo</td>\n",
              "      <td>male</td>\n",
              "      <td>NaN</td>\n",
              "      <td>0</td>\n",
              "      <td>0</td>\n",
              "      <td>349217</td>\n",
              "      <td>7.8958</td>\n",
              "      <td>NaN</td>\n",
              "      <td>S</td>\n",
              "    </tr>\n",
              "    <tr>\n",
              "      <th>880</th>\n",
              "      <td>881</td>\n",
              "      <td>1</td>\n",
              "      <td>2</td>\n",
              "      <td>Shelley, Mrs. William (Imanita Parrish Hall)</td>\n",
              "      <td>female</td>\n",
              "      <td>25.0</td>\n",
              "      <td>0</td>\n",
              "      <td>1</td>\n",
              "      <td>230433</td>\n",
              "      <td>26.0000</td>\n",
              "      <td>NaN</td>\n",
              "      <td>S</td>\n",
              "    </tr>\n",
              "    <tr>\n",
              "      <th>881</th>\n",
              "      <td>882</td>\n",
              "      <td>0</td>\n",
              "      <td>3</td>\n",
              "      <td>Markun, Mr. Johann</td>\n",
              "      <td>male</td>\n",
              "      <td>33.0</td>\n",
              "      <td>0</td>\n",
              "      <td>0</td>\n",
              "      <td>349257</td>\n",
              "      <td>7.8958</td>\n",
              "      <td>NaN</td>\n",
              "      <td>S</td>\n",
              "    </tr>\n",
              "    <tr>\n",
              "      <th>882</th>\n",
              "      <td>883</td>\n",
              "      <td>0</td>\n",
              "      <td>3</td>\n",
              "      <td>Dahlberg, Miss. Gerda Ulrika</td>\n",
              "      <td>female</td>\n",
              "      <td>22.0</td>\n",
              "      <td>0</td>\n",
              "      <td>0</td>\n",
              "      <td>7552</td>\n",
              "      <td>10.5167</td>\n",
              "      <td>NaN</td>\n",
              "      <td>S</td>\n",
              "    </tr>\n",
              "    <tr>\n",
              "      <th>883</th>\n",
              "      <td>884</td>\n",
              "      <td>0</td>\n",
              "      <td>2</td>\n",
              "      <td>Banfield, Mr. Frederick James</td>\n",
              "      <td>male</td>\n",
              "      <td>28.0</td>\n",
              "      <td>0</td>\n",
              "      <td>0</td>\n",
              "      <td>C.A./SOTON 34068</td>\n",
              "      <td>10.5000</td>\n",
              "      <td>NaN</td>\n",
              "      <td>S</td>\n",
              "    </tr>\n",
              "    <tr>\n",
              "      <th>884</th>\n",
              "      <td>885</td>\n",
              "      <td>0</td>\n",
              "      <td>3</td>\n",
              "      <td>Sutehall, Mr. Henry Jr</td>\n",
              "      <td>male</td>\n",
              "      <td>25.0</td>\n",
              "      <td>0</td>\n",
              "      <td>0</td>\n",
              "      <td>SOTON/OQ 392076</td>\n",
              "      <td>7.0500</td>\n",
              "      <td>NaN</td>\n",
              "      <td>S</td>\n",
              "    </tr>\n",
              "    <tr>\n",
              "      <th>885</th>\n",
              "      <td>886</td>\n",
              "      <td>0</td>\n",
              "      <td>3</td>\n",
              "      <td>Rice, Mrs. William (Margaret Norton)</td>\n",
              "      <td>female</td>\n",
              "      <td>39.0</td>\n",
              "      <td>0</td>\n",
              "      <td>5</td>\n",
              "      <td>382652</td>\n",
              "      <td>29.1250</td>\n",
              "      <td>NaN</td>\n",
              "      <td>Q</td>\n",
              "    </tr>\n",
              "    <tr>\n",
              "      <th>886</th>\n",
              "      <td>887</td>\n",
              "      <td>0</td>\n",
              "      <td>2</td>\n",
              "      <td>Montvila, Rev. Juozas</td>\n",
              "      <td>male</td>\n",
              "      <td>27.0</td>\n",
              "      <td>0</td>\n",
              "      <td>0</td>\n",
              "      <td>211536</td>\n",
              "      <td>13.0000</td>\n",
              "      <td>NaN</td>\n",
              "      <td>S</td>\n",
              "    </tr>\n",
              "    <tr>\n",
              "      <th>888</th>\n",
              "      <td>889</td>\n",
              "      <td>0</td>\n",
              "      <td>3</td>\n",
              "      <td>Johnston, Miss. Catherine Helen \"Carrie\"</td>\n",
              "      <td>female</td>\n",
              "      <td>NaN</td>\n",
              "      <td>1</td>\n",
              "      <td>2</td>\n",
              "      <td>W./C. 6607</td>\n",
              "      <td>23.4500</td>\n",
              "      <td>NaN</td>\n",
              "      <td>S</td>\n",
              "    </tr>\n",
              "    <tr>\n",
              "      <th>890</th>\n",
              "      <td>891</td>\n",
              "      <td>0</td>\n",
              "      <td>3</td>\n",
              "      <td>Dooley, Mr. Patrick</td>\n",
              "      <td>male</td>\n",
              "      <td>32.0</td>\n",
              "      <td>0</td>\n",
              "      <td>0</td>\n",
              "      <td>370376</td>\n",
              "      <td>7.7500</td>\n",
              "      <td>NaN</td>\n",
              "      <td>Q</td>\n",
              "    </tr>\n",
              "  </tbody>\n",
              "</table>\n",
              "<p>687 rows × 12 columns</p>\n",
              "</div>"
            ],
            "text/plain": [
              "     PassengerId  Survived  Pclass  \\\n",
              "0              1         0       3   \n",
              "2              3         1       3   \n",
              "4              5         0       3   \n",
              "5              6         0       3   \n",
              "7              8         0       3   \n",
              "8              9         1       3   \n",
              "9             10         1       2   \n",
              "12            13         0       3   \n",
              "13            14         0       3   \n",
              "14            15         0       3   \n",
              "15            16         1       2   \n",
              "16            17         0       3   \n",
              "17            18         1       2   \n",
              "18            19         0       3   \n",
              "19            20         1       3   \n",
              "20            21         0       2   \n",
              "22            23         1       3   \n",
              "24            25         0       3   \n",
              "25            26         1       3   \n",
              "26            27         0       3   \n",
              "28            29         1       3   \n",
              "29            30         0       3   \n",
              "30            31         0       1   \n",
              "32            33         1       3   \n",
              "33            34         0       2   \n",
              "34            35         0       1   \n",
              "35            36         0       1   \n",
              "36            37         1       3   \n",
              "37            38         0       3   \n",
              "38            39         0       3   \n",
              "..           ...       ...     ...   \n",
              "852          853         0       3   \n",
              "854          855         0       2   \n",
              "855          856         1       3   \n",
              "856          857         1       1   \n",
              "858          859         1       3   \n",
              "859          860         0       3   \n",
              "860          861         0       3   \n",
              "861          862         0       2   \n",
              "863          864         0       3   \n",
              "864          865         0       2   \n",
              "865          866         1       2   \n",
              "866          867         1       2   \n",
              "868          869         0       3   \n",
              "869          870         1       3   \n",
              "870          871         0       3   \n",
              "873          874         0       3   \n",
              "874          875         1       2   \n",
              "875          876         1       3   \n",
              "876          877         0       3   \n",
              "877          878         0       3   \n",
              "878          879         0       3   \n",
              "880          881         1       2   \n",
              "881          882         0       3   \n",
              "882          883         0       3   \n",
              "883          884         0       2   \n",
              "884          885         0       3   \n",
              "885          886         0       3   \n",
              "886          887         0       2   \n",
              "888          889         0       3   \n",
              "890          891         0       3   \n",
              "\n",
              "                                                  Name     Sex   Age  SibSp  \\\n",
              "0                              Braund, Mr. Owen Harris    male  22.0      1   \n",
              "2                               Heikkinen, Miss. Laina  female  26.0      0   \n",
              "4                             Allen, Mr. William Henry    male  35.0      0   \n",
              "5                                     Moran, Mr. James    male   NaN      0   \n",
              "7                       Palsson, Master. Gosta Leonard    male   2.0      3   \n",
              "8    Johnson, Mrs. Oscar W (Elisabeth Vilhelmina Berg)  female  27.0      0   \n",
              "9                  Nasser, Mrs. Nicholas (Adele Achem)  female  14.0      1   \n",
              "12                      Saundercock, Mr. William Henry    male  20.0      0   \n",
              "13                         Andersson, Mr. Anders Johan    male  39.0      1   \n",
              "14                Vestrom, Miss. Hulda Amanda Adolfina  female  14.0      0   \n",
              "15                    Hewlett, Mrs. (Mary D Kingcome)   female  55.0      0   \n",
              "16                                Rice, Master. Eugene    male   2.0      4   \n",
              "17                        Williams, Mr. Charles Eugene    male   NaN      0   \n",
              "18   Vander Planke, Mrs. Julius (Emelia Maria Vande...  female  31.0      1   \n",
              "19                             Masselmani, Mrs. Fatima  female   NaN      0   \n",
              "20                                Fynney, Mr. Joseph J    male  35.0      0   \n",
              "22                         McGowan, Miss. Anna \"Annie\"  female  15.0      0   \n",
              "24                       Palsson, Miss. Torborg Danira  female   8.0      3   \n",
              "25   Asplund, Mrs. Carl Oscar (Selma Augusta Emilia...  female  38.0      1   \n",
              "26                             Emir, Mr. Farred Chehab    male   NaN      0   \n",
              "28                       O'Dwyer, Miss. Ellen \"Nellie\"  female   NaN      0   \n",
              "29                                 Todoroff, Mr. Lalio    male   NaN      0   \n",
              "30                            Uruchurtu, Don. Manuel E    male  40.0      0   \n",
              "32                            Glynn, Miss. Mary Agatha  female   NaN      0   \n",
              "33                               Wheadon, Mr. Edward H    male  66.0      0   \n",
              "34                             Meyer, Mr. Edgar Joseph    male  28.0      1   \n",
              "35                      Holverson, Mr. Alexander Oskar    male  42.0      1   \n",
              "36                                    Mamee, Mr. Hanna    male   NaN      0   \n",
              "37                            Cann, Mr. Ernest Charles    male  21.0      0   \n",
              "38                  Vander Planke, Miss. Augusta Maria  female  18.0      2   \n",
              "..                                                 ...     ...   ...    ...   \n",
              "852                            Boulos, Miss. Nourelain  female   9.0      1   \n",
              "854      Carter, Mrs. Ernest Courtenay (Lilian Hughes)  female  44.0      1   \n",
              "855                         Aks, Mrs. Sam (Leah Rosen)  female  18.0      0   \n",
              "856         Wick, Mrs. George Dennick (Mary Hitchcock)  female  45.0      1   \n",
              "858              Baclini, Mrs. Solomon (Latifa Qurban)  female  24.0      0   \n",
              "859                                   Razi, Mr. Raihed    male   NaN      0   \n",
              "860                            Hansen, Mr. Claus Peter    male  41.0      2   \n",
              "861                        Giles, Mr. Frederick Edward    male  21.0      1   \n",
              "863                  Sage, Miss. Dorothy Edith \"Dolly\"  female   NaN      8   \n",
              "864                             Gill, Mr. John William    male  24.0      0   \n",
              "865                           Bystrom, Mrs. (Karolina)  female  42.0      0   \n",
              "866                       Duran y More, Miss. Asuncion  female  27.0      1   \n",
              "868                        van Melkebeke, Mr. Philemon    male   NaN      0   \n",
              "869                    Johnson, Master. Harold Theodor    male   4.0      1   \n",
              "870                                  Balkic, Mr. Cerin    male  26.0      0   \n",
              "873                        Vander Cruyssen, Mr. Victor    male  47.0      0   \n",
              "874              Abelson, Mrs. Samuel (Hannah Wizosky)  female  28.0      1   \n",
              "875                   Najib, Miss. Adele Kiamie \"Jane\"  female  15.0      0   \n",
              "876                      Gustafsson, Mr. Alfred Ossian    male  20.0      0   \n",
              "877                               Petroff, Mr. Nedelio    male  19.0      0   \n",
              "878                                 Laleff, Mr. Kristo    male   NaN      0   \n",
              "880       Shelley, Mrs. William (Imanita Parrish Hall)  female  25.0      0   \n",
              "881                                 Markun, Mr. Johann    male  33.0      0   \n",
              "882                       Dahlberg, Miss. Gerda Ulrika  female  22.0      0   \n",
              "883                      Banfield, Mr. Frederick James    male  28.0      0   \n",
              "884                             Sutehall, Mr. Henry Jr    male  25.0      0   \n",
              "885               Rice, Mrs. William (Margaret Norton)  female  39.0      0   \n",
              "886                              Montvila, Rev. Juozas    male  27.0      0   \n",
              "888           Johnston, Miss. Catherine Helen \"Carrie\"  female   NaN      1   \n",
              "890                                Dooley, Mr. Patrick    male  32.0      0   \n",
              "\n",
              "     Parch            Ticket      Fare Cabin Embarked  \n",
              "0        0         A/5 21171    7.2500   NaN        S  \n",
              "2        0  STON/O2. 3101282    7.9250   NaN        S  \n",
              "4        0            373450    8.0500   NaN        S  \n",
              "5        0            330877    8.4583   NaN        Q  \n",
              "7        1            349909   21.0750   NaN        S  \n",
              "8        2            347742   11.1333   NaN        S  \n",
              "9        0            237736   30.0708   NaN        C  \n",
              "12       0         A/5. 2151    8.0500   NaN        S  \n",
              "13       5            347082   31.2750   NaN        S  \n",
              "14       0            350406    7.8542   NaN        S  \n",
              "15       0            248706   16.0000   NaN        S  \n",
              "16       1            382652   29.1250   NaN        Q  \n",
              "17       0            244373   13.0000   NaN        S  \n",
              "18       0            345763   18.0000   NaN        S  \n",
              "19       0              2649    7.2250   NaN        C  \n",
              "20       0            239865   26.0000   NaN        S  \n",
              "22       0            330923    8.0292   NaN        Q  \n",
              "24       1            349909   21.0750   NaN        S  \n",
              "25       5            347077   31.3875   NaN        S  \n",
              "26       0              2631    7.2250   NaN        C  \n",
              "28       0            330959    7.8792   NaN        Q  \n",
              "29       0            349216    7.8958   NaN        S  \n",
              "30       0          PC 17601   27.7208   NaN        C  \n",
              "32       0            335677    7.7500   NaN        Q  \n",
              "33       0        C.A. 24579   10.5000   NaN        S  \n",
              "34       0          PC 17604   82.1708   NaN        C  \n",
              "35       0            113789   52.0000   NaN        S  \n",
              "36       0              2677    7.2292   NaN        C  \n",
              "37       0        A./5. 2152    8.0500   NaN        S  \n",
              "38       0            345764   18.0000   NaN        S  \n",
              "..     ...               ...       ...   ...      ...  \n",
              "852      1              2678   15.2458   NaN        C  \n",
              "854      0            244252   26.0000   NaN        S  \n",
              "855      1            392091    9.3500   NaN        S  \n",
              "856      1             36928  164.8667   NaN        S  \n",
              "858      3              2666   19.2583   NaN        C  \n",
              "859      0              2629    7.2292   NaN        C  \n",
              "860      0            350026   14.1083   NaN        S  \n",
              "861      0             28134   11.5000   NaN        S  \n",
              "863      2          CA. 2343   69.5500   NaN        S  \n",
              "864      0            233866   13.0000   NaN        S  \n",
              "865      0            236852   13.0000   NaN        S  \n",
              "866      0     SC/PARIS 2149   13.8583   NaN        C  \n",
              "868      0            345777    9.5000   NaN        S  \n",
              "869      1            347742   11.1333   NaN        S  \n",
              "870      0            349248    7.8958   NaN        S  \n",
              "873      0            345765    9.0000   NaN        S  \n",
              "874      0         P/PP 3381   24.0000   NaN        C  \n",
              "875      0              2667    7.2250   NaN        C  \n",
              "876      0              7534    9.8458   NaN        S  \n",
              "877      0            349212    7.8958   NaN        S  \n",
              "878      0            349217    7.8958   NaN        S  \n",
              "880      1            230433   26.0000   NaN        S  \n",
              "881      0            349257    7.8958   NaN        S  \n",
              "882      0              7552   10.5167   NaN        S  \n",
              "883      0  C.A./SOTON 34068   10.5000   NaN        S  \n",
              "884      0   SOTON/OQ 392076    7.0500   NaN        S  \n",
              "885      5            382652   29.1250   NaN        Q  \n",
              "886      0            211536   13.0000   NaN        S  \n",
              "888      2        W./C. 6607   23.4500   NaN        S  \n",
              "890      0            370376    7.7500   NaN        Q  \n",
              "\n",
              "[687 rows x 12 columns]"
            ]
          },
          "execution_count": 71,
          "metadata": {},
          "output_type": "execute_result"
        }
      ],
      "source": [
        "df.loc[df.Cabin.isnull()]"
      ]
    },
    {
      "cell_type": "markdown",
      "metadata": {
        "id": "zH8M3RkduhQe"
      },
      "source": [
        "# Zadanie 7\n",
        "Utwórz nową kolumną o nazwie HasCabin, która zawiera 1 jeżeli ktoś miał swoją kabinę i 0 jeśli nie."
      ]
    },
    {
      "cell_type": "code",
      "execution_count": null,
      "metadata": {
        "id": "BSUn5h0XuhQe",
        "colab": {
          "base_uri": "https://localhost:8080/",
          "height": 423
        },
        "outputId": "a7adf3de-8d33-4e62-d090-0d4a73df8317"
      },
      "outputs": [
        {
          "output_type": "execute_result",
          "data": {
            "text/plain": [
              "     PassengerId  Survived  Pclass  \\\n",
              "0              1         0       3   \n",
              "1              2         1       1   \n",
              "2              3         1       3   \n",
              "3              4         1       1   \n",
              "4              5         0       3   \n",
              "..           ...       ...     ...   \n",
              "886          887         0       2   \n",
              "887          888         1       1   \n",
              "888          889         0       3   \n",
              "889          890         1       1   \n",
              "890          891         0       3   \n",
              "\n",
              "                                                  Name     Sex   Age  SibSp  \\\n",
              "0                              Braund, Mr. Owen Harris    male  22.0      1   \n",
              "1    Cumings, Mrs. John Bradley (Florence Briggs Th...  female  38.0      1   \n",
              "2                               Heikkinen, Miss. Laina  female  26.0      0   \n",
              "3         Futrelle, Mrs. Jacques Heath (Lily May Peel)  female  35.0      1   \n",
              "4                             Allen, Mr. William Henry    male  35.0      0   \n",
              "..                                                 ...     ...   ...    ...   \n",
              "886                              Montvila, Rev. Juozas    male  27.0      0   \n",
              "887                       Graham, Miss. Margaret Edith  female  19.0      0   \n",
              "888           Johnston, Miss. Catherine Helen \"Carrie\"  female   NaN      1   \n",
              "889                              Behr, Mr. Karl Howell    male  26.0      0   \n",
              "890                                Dooley, Mr. Patrick    male  32.0      0   \n",
              "\n",
              "     Parch            Ticket  HasCabin     Fare Cabin Embarked  \n",
              "0        0         A/5 21171     False   7.2500   NaN        S  \n",
              "1        0          PC 17599      True  71.2833   C85        C  \n",
              "2        0  STON/O2. 3101282     False   7.9250   NaN        S  \n",
              "3        0            113803      True  53.1000  C123        S  \n",
              "4        0            373450     False   8.0500   NaN        S  \n",
              "..     ...               ...       ...      ...   ...      ...  \n",
              "886      0            211536     False  13.0000   NaN        S  \n",
              "887      0            112053      True  30.0000   B42        S  \n",
              "888      2        W./C. 6607     False  23.4500   NaN        S  \n",
              "889      0            111369      True  30.0000  C148        C  \n",
              "890      0            370376     False   7.7500   NaN        Q  \n",
              "\n",
              "[891 rows x 13 columns]"
            ],
            "text/html": [
              "\n",
              "  <div id=\"df-06f51a52-fabb-426a-bd43-bab48961f24a\">\n",
              "    <div class=\"colab-df-container\">\n",
              "      <div>\n",
              "<style scoped>\n",
              "    .dataframe tbody tr th:only-of-type {\n",
              "        vertical-align: middle;\n",
              "    }\n",
              "\n",
              "    .dataframe tbody tr th {\n",
              "        vertical-align: top;\n",
              "    }\n",
              "\n",
              "    .dataframe thead th {\n",
              "        text-align: right;\n",
              "    }\n",
              "</style>\n",
              "<table border=\"1\" class=\"dataframe\">\n",
              "  <thead>\n",
              "    <tr style=\"text-align: right;\">\n",
              "      <th></th>\n",
              "      <th>PassengerId</th>\n",
              "      <th>Survived</th>\n",
              "      <th>Pclass</th>\n",
              "      <th>Name</th>\n",
              "      <th>Sex</th>\n",
              "      <th>Age</th>\n",
              "      <th>SibSp</th>\n",
              "      <th>Parch</th>\n",
              "      <th>Ticket</th>\n",
              "      <th>HasCabin</th>\n",
              "      <th>Fare</th>\n",
              "      <th>Cabin</th>\n",
              "      <th>Embarked</th>\n",
              "    </tr>\n",
              "  </thead>\n",
              "  <tbody>\n",
              "    <tr>\n",
              "      <th>0</th>\n",
              "      <td>1</td>\n",
              "      <td>0</td>\n",
              "      <td>3</td>\n",
              "      <td>Braund, Mr. Owen Harris</td>\n",
              "      <td>male</td>\n",
              "      <td>22.0</td>\n",
              "      <td>1</td>\n",
              "      <td>0</td>\n",
              "      <td>A/5 21171</td>\n",
              "      <td>False</td>\n",
              "      <td>7.2500</td>\n",
              "      <td>NaN</td>\n",
              "      <td>S</td>\n",
              "    </tr>\n",
              "    <tr>\n",
              "      <th>1</th>\n",
              "      <td>2</td>\n",
              "      <td>1</td>\n",
              "      <td>1</td>\n",
              "      <td>Cumings, Mrs. John Bradley (Florence Briggs Th...</td>\n",
              "      <td>female</td>\n",
              "      <td>38.0</td>\n",
              "      <td>1</td>\n",
              "      <td>0</td>\n",
              "      <td>PC 17599</td>\n",
              "      <td>True</td>\n",
              "      <td>71.2833</td>\n",
              "      <td>C85</td>\n",
              "      <td>C</td>\n",
              "    </tr>\n",
              "    <tr>\n",
              "      <th>2</th>\n",
              "      <td>3</td>\n",
              "      <td>1</td>\n",
              "      <td>3</td>\n",
              "      <td>Heikkinen, Miss. Laina</td>\n",
              "      <td>female</td>\n",
              "      <td>26.0</td>\n",
              "      <td>0</td>\n",
              "      <td>0</td>\n",
              "      <td>STON/O2. 3101282</td>\n",
              "      <td>False</td>\n",
              "      <td>7.9250</td>\n",
              "      <td>NaN</td>\n",
              "      <td>S</td>\n",
              "    </tr>\n",
              "    <tr>\n",
              "      <th>3</th>\n",
              "      <td>4</td>\n",
              "      <td>1</td>\n",
              "      <td>1</td>\n",
              "      <td>Futrelle, Mrs. Jacques Heath (Lily May Peel)</td>\n",
              "      <td>female</td>\n",
              "      <td>35.0</td>\n",
              "      <td>1</td>\n",
              "      <td>0</td>\n",
              "      <td>113803</td>\n",
              "      <td>True</td>\n",
              "      <td>53.1000</td>\n",
              "      <td>C123</td>\n",
              "      <td>S</td>\n",
              "    </tr>\n",
              "    <tr>\n",
              "      <th>4</th>\n",
              "      <td>5</td>\n",
              "      <td>0</td>\n",
              "      <td>3</td>\n",
              "      <td>Allen, Mr. William Henry</td>\n",
              "      <td>male</td>\n",
              "      <td>35.0</td>\n",
              "      <td>0</td>\n",
              "      <td>0</td>\n",
              "      <td>373450</td>\n",
              "      <td>False</td>\n",
              "      <td>8.0500</td>\n",
              "      <td>NaN</td>\n",
              "      <td>S</td>\n",
              "    </tr>\n",
              "    <tr>\n",
              "      <th>...</th>\n",
              "      <td>...</td>\n",
              "      <td>...</td>\n",
              "      <td>...</td>\n",
              "      <td>...</td>\n",
              "      <td>...</td>\n",
              "      <td>...</td>\n",
              "      <td>...</td>\n",
              "      <td>...</td>\n",
              "      <td>...</td>\n",
              "      <td>...</td>\n",
              "      <td>...</td>\n",
              "      <td>...</td>\n",
              "      <td>...</td>\n",
              "    </tr>\n",
              "    <tr>\n",
              "      <th>886</th>\n",
              "      <td>887</td>\n",
              "      <td>0</td>\n",
              "      <td>2</td>\n",
              "      <td>Montvila, Rev. Juozas</td>\n",
              "      <td>male</td>\n",
              "      <td>27.0</td>\n",
              "      <td>0</td>\n",
              "      <td>0</td>\n",
              "      <td>211536</td>\n",
              "      <td>False</td>\n",
              "      <td>13.0000</td>\n",
              "      <td>NaN</td>\n",
              "      <td>S</td>\n",
              "    </tr>\n",
              "    <tr>\n",
              "      <th>887</th>\n",
              "      <td>888</td>\n",
              "      <td>1</td>\n",
              "      <td>1</td>\n",
              "      <td>Graham, Miss. Margaret Edith</td>\n",
              "      <td>female</td>\n",
              "      <td>19.0</td>\n",
              "      <td>0</td>\n",
              "      <td>0</td>\n",
              "      <td>112053</td>\n",
              "      <td>True</td>\n",
              "      <td>30.0000</td>\n",
              "      <td>B42</td>\n",
              "      <td>S</td>\n",
              "    </tr>\n",
              "    <tr>\n",
              "      <th>888</th>\n",
              "      <td>889</td>\n",
              "      <td>0</td>\n",
              "      <td>3</td>\n",
              "      <td>Johnston, Miss. Catherine Helen \"Carrie\"</td>\n",
              "      <td>female</td>\n",
              "      <td>NaN</td>\n",
              "      <td>1</td>\n",
              "      <td>2</td>\n",
              "      <td>W./C. 6607</td>\n",
              "      <td>False</td>\n",
              "      <td>23.4500</td>\n",
              "      <td>NaN</td>\n",
              "      <td>S</td>\n",
              "    </tr>\n",
              "    <tr>\n",
              "      <th>889</th>\n",
              "      <td>890</td>\n",
              "      <td>1</td>\n",
              "      <td>1</td>\n",
              "      <td>Behr, Mr. Karl Howell</td>\n",
              "      <td>male</td>\n",
              "      <td>26.0</td>\n",
              "      <td>0</td>\n",
              "      <td>0</td>\n",
              "      <td>111369</td>\n",
              "      <td>True</td>\n",
              "      <td>30.0000</td>\n",
              "      <td>C148</td>\n",
              "      <td>C</td>\n",
              "    </tr>\n",
              "    <tr>\n",
              "      <th>890</th>\n",
              "      <td>891</td>\n",
              "      <td>0</td>\n",
              "      <td>3</td>\n",
              "      <td>Dooley, Mr. Patrick</td>\n",
              "      <td>male</td>\n",
              "      <td>32.0</td>\n",
              "      <td>0</td>\n",
              "      <td>0</td>\n",
              "      <td>370376</td>\n",
              "      <td>False</td>\n",
              "      <td>7.7500</td>\n",
              "      <td>NaN</td>\n",
              "      <td>Q</td>\n",
              "    </tr>\n",
              "  </tbody>\n",
              "</table>\n",
              "<p>891 rows × 13 columns</p>\n",
              "</div>\n",
              "      <button class=\"colab-df-convert\" onclick=\"convertToInteractive('df-06f51a52-fabb-426a-bd43-bab48961f24a')\"\n",
              "              title=\"Convert this dataframe to an interactive table.\"\n",
              "              style=\"display:none;\">\n",
              "        \n",
              "  <svg xmlns=\"http://www.w3.org/2000/svg\" height=\"24px\"viewBox=\"0 0 24 24\"\n",
              "       width=\"24px\">\n",
              "    <path d=\"M0 0h24v24H0V0z\" fill=\"none\"/>\n",
              "    <path d=\"M18.56 5.44l.94 2.06.94-2.06 2.06-.94-2.06-.94-.94-2.06-.94 2.06-2.06.94zm-11 1L8.5 8.5l.94-2.06 2.06-.94-2.06-.94L8.5 2.5l-.94 2.06-2.06.94zm10 10l.94 2.06.94-2.06 2.06-.94-2.06-.94-.94-2.06-.94 2.06-2.06.94z\"/><path d=\"M17.41 7.96l-1.37-1.37c-.4-.4-.92-.59-1.43-.59-.52 0-1.04.2-1.43.59L10.3 9.45l-7.72 7.72c-.78.78-.78 2.05 0 2.83L4 21.41c.39.39.9.59 1.41.59.51 0 1.02-.2 1.41-.59l7.78-7.78 2.81-2.81c.8-.78.8-2.07 0-2.86zM5.41 20L4 18.59l7.72-7.72 1.47 1.35L5.41 20z\"/>\n",
              "  </svg>\n",
              "      </button>\n",
              "      \n",
              "  <style>\n",
              "    .colab-df-container {\n",
              "      display:flex;\n",
              "      flex-wrap:wrap;\n",
              "      gap: 12px;\n",
              "    }\n",
              "\n",
              "    .colab-df-convert {\n",
              "      background-color: #E8F0FE;\n",
              "      border: none;\n",
              "      border-radius: 50%;\n",
              "      cursor: pointer;\n",
              "      display: none;\n",
              "      fill: #1967D2;\n",
              "      height: 32px;\n",
              "      padding: 0 0 0 0;\n",
              "      width: 32px;\n",
              "    }\n",
              "\n",
              "    .colab-df-convert:hover {\n",
              "      background-color: #E2EBFA;\n",
              "      box-shadow: 0px 1px 2px rgba(60, 64, 67, 0.3), 0px 1px 3px 1px rgba(60, 64, 67, 0.15);\n",
              "      fill: #174EA6;\n",
              "    }\n",
              "\n",
              "    [theme=dark] .colab-df-convert {\n",
              "      background-color: #3B4455;\n",
              "      fill: #D2E3FC;\n",
              "    }\n",
              "\n",
              "    [theme=dark] .colab-df-convert:hover {\n",
              "      background-color: #434B5C;\n",
              "      box-shadow: 0px 1px 3px 1px rgba(0, 0, 0, 0.15);\n",
              "      filter: drop-shadow(0px 1px 2px rgba(0, 0, 0, 0.3));\n",
              "      fill: #FFFFFF;\n",
              "    }\n",
              "  </style>\n",
              "\n",
              "      <script>\n",
              "        const buttonEl =\n",
              "          document.querySelector('#df-06f51a52-fabb-426a-bd43-bab48961f24a button.colab-df-convert');\n",
              "        buttonEl.style.display =\n",
              "          google.colab.kernel.accessAllowed ? 'block' : 'none';\n",
              "\n",
              "        async function convertToInteractive(key) {\n",
              "          const element = document.querySelector('#df-06f51a52-fabb-426a-bd43-bab48961f24a');\n",
              "          const dataTable =\n",
              "            await google.colab.kernel.invokeFunction('convertToInteractive',\n",
              "                                                     [key], {});\n",
              "          if (!dataTable) return;\n",
              "\n",
              "          const docLinkHtml = 'Like what you see? Visit the ' +\n",
              "            '<a target=\"_blank\" href=https://colab.research.google.com/notebooks/data_table.ipynb>data table notebook</a>'\n",
              "            + ' to learn more about interactive tables.';\n",
              "          element.innerHTML = '';\n",
              "          dataTable['output_type'] = 'display_data';\n",
              "          await google.colab.output.renderOutput(dataTable, element);\n",
              "          const docLink = document.createElement('div');\n",
              "          docLink.innerHTML = docLinkHtml;\n",
              "          element.appendChild(docLink);\n",
              "        }\n",
              "      </script>\n",
              "    </div>\n",
              "  </div>\n",
              "  "
            ]
          },
          "metadata": {},
          "execution_count": 40
        }
      ],
      "source": [
        "df.insert(9,'HasCabin', df.Cabin.notnull() )\n",
        "df"
      ]
    },
    {
      "cell_type": "markdown",
      "metadata": {
        "id": "7GmZLgm6uhQf"
      },
      "source": [
        "# Zadanie 8\n",
        "Usuń brakujące wartości"
      ]
    },
    {
      "cell_type": "code",
      "execution_count": null,
      "metadata": {
        "id": "eN0b71tLuhQf",
        "colab": {
          "base_uri": "https://localhost:8080/",
          "height": 423
        },
        "outputId": "27cd8bfc-db1b-49fb-a522-5c4c80c1cdc8"
      },
      "outputs": [
        {
          "output_type": "execute_result",
          "data": {
            "text/plain": [
              "     PassengerId  Survived  Pclass  \\\n",
              "0              1         0       3   \n",
              "1              2         1       1   \n",
              "2              3         1       3   \n",
              "3              4         1       1   \n",
              "4              5         0       3   \n",
              "..           ...       ...     ...   \n",
              "886          887         0       2   \n",
              "887          888         1       1   \n",
              "888          889         0       3   \n",
              "889          890         1       1   \n",
              "890          891         0       3   \n",
              "\n",
              "                                                  Name     Sex   Age  SibSp  \\\n",
              "0                              Braund, Mr. Owen Harris    male  22.0      1   \n",
              "1    Cumings, Mrs. John Bradley (Florence Briggs Th...  female  38.0      1   \n",
              "2                               Heikkinen, Miss. Laina  female  26.0      0   \n",
              "3         Futrelle, Mrs. Jacques Heath (Lily May Peel)  female  35.0      1   \n",
              "4                             Allen, Mr. William Henry    male  35.0      0   \n",
              "..                                                 ...     ...   ...    ...   \n",
              "886                              Montvila, Rev. Juozas    male  27.0      0   \n",
              "887                       Graham, Miss. Margaret Edith  female  19.0      0   \n",
              "888           Johnston, Miss. Catherine Helen \"Carrie\"  female   NaN      1   \n",
              "889                              Behr, Mr. Karl Howell    male  26.0      0   \n",
              "890                                Dooley, Mr. Patrick    male  32.0      0   \n",
              "\n",
              "     Parch            Ticket     Fare Embarked  \n",
              "0        0         A/5 21171   7.2500        S  \n",
              "1        0          PC 17599  71.2833        C  \n",
              "2        0  STON/O2. 3101282   7.9250        S  \n",
              "3        0            113803  53.1000        S  \n",
              "4        0            373450   8.0500        S  \n",
              "..     ...               ...      ...      ...  \n",
              "886      0            211536  13.0000        S  \n",
              "887      0            112053  30.0000        S  \n",
              "888      2        W./C. 6607  23.4500        S  \n",
              "889      0            111369  30.0000        C  \n",
              "890      0            370376   7.7500        Q  \n",
              "\n",
              "[891 rows x 11 columns]"
            ],
            "text/html": [
              "\n",
              "  <div id=\"df-e38e0f18-7c65-48c6-abb7-0f5e5418ec16\">\n",
              "    <div class=\"colab-df-container\">\n",
              "      <div>\n",
              "<style scoped>\n",
              "    .dataframe tbody tr th:only-of-type {\n",
              "        vertical-align: middle;\n",
              "    }\n",
              "\n",
              "    .dataframe tbody tr th {\n",
              "        vertical-align: top;\n",
              "    }\n",
              "\n",
              "    .dataframe thead th {\n",
              "        text-align: right;\n",
              "    }\n",
              "</style>\n",
              "<table border=\"1\" class=\"dataframe\">\n",
              "  <thead>\n",
              "    <tr style=\"text-align: right;\">\n",
              "      <th></th>\n",
              "      <th>PassengerId</th>\n",
              "      <th>Survived</th>\n",
              "      <th>Pclass</th>\n",
              "      <th>Name</th>\n",
              "      <th>Sex</th>\n",
              "      <th>Age</th>\n",
              "      <th>SibSp</th>\n",
              "      <th>Parch</th>\n",
              "      <th>Ticket</th>\n",
              "      <th>Fare</th>\n",
              "      <th>Embarked</th>\n",
              "    </tr>\n",
              "  </thead>\n",
              "  <tbody>\n",
              "    <tr>\n",
              "      <th>0</th>\n",
              "      <td>1</td>\n",
              "      <td>0</td>\n",
              "      <td>3</td>\n",
              "      <td>Braund, Mr. Owen Harris</td>\n",
              "      <td>male</td>\n",
              "      <td>22.0</td>\n",
              "      <td>1</td>\n",
              "      <td>0</td>\n",
              "      <td>A/5 21171</td>\n",
              "      <td>7.2500</td>\n",
              "      <td>S</td>\n",
              "    </tr>\n",
              "    <tr>\n",
              "      <th>1</th>\n",
              "      <td>2</td>\n",
              "      <td>1</td>\n",
              "      <td>1</td>\n",
              "      <td>Cumings, Mrs. John Bradley (Florence Briggs Th...</td>\n",
              "      <td>female</td>\n",
              "      <td>38.0</td>\n",
              "      <td>1</td>\n",
              "      <td>0</td>\n",
              "      <td>PC 17599</td>\n",
              "      <td>71.2833</td>\n",
              "      <td>C</td>\n",
              "    </tr>\n",
              "    <tr>\n",
              "      <th>2</th>\n",
              "      <td>3</td>\n",
              "      <td>1</td>\n",
              "      <td>3</td>\n",
              "      <td>Heikkinen, Miss. Laina</td>\n",
              "      <td>female</td>\n",
              "      <td>26.0</td>\n",
              "      <td>0</td>\n",
              "      <td>0</td>\n",
              "      <td>STON/O2. 3101282</td>\n",
              "      <td>7.9250</td>\n",
              "      <td>S</td>\n",
              "    </tr>\n",
              "    <tr>\n",
              "      <th>3</th>\n",
              "      <td>4</td>\n",
              "      <td>1</td>\n",
              "      <td>1</td>\n",
              "      <td>Futrelle, Mrs. Jacques Heath (Lily May Peel)</td>\n",
              "      <td>female</td>\n",
              "      <td>35.0</td>\n",
              "      <td>1</td>\n",
              "      <td>0</td>\n",
              "      <td>113803</td>\n",
              "      <td>53.1000</td>\n",
              "      <td>S</td>\n",
              "    </tr>\n",
              "    <tr>\n",
              "      <th>4</th>\n",
              "      <td>5</td>\n",
              "      <td>0</td>\n",
              "      <td>3</td>\n",
              "      <td>Allen, Mr. William Henry</td>\n",
              "      <td>male</td>\n",
              "      <td>35.0</td>\n",
              "      <td>0</td>\n",
              "      <td>0</td>\n",
              "      <td>373450</td>\n",
              "      <td>8.0500</td>\n",
              "      <td>S</td>\n",
              "    </tr>\n",
              "    <tr>\n",
              "      <th>...</th>\n",
              "      <td>...</td>\n",
              "      <td>...</td>\n",
              "      <td>...</td>\n",
              "      <td>...</td>\n",
              "      <td>...</td>\n",
              "      <td>...</td>\n",
              "      <td>...</td>\n",
              "      <td>...</td>\n",
              "      <td>...</td>\n",
              "      <td>...</td>\n",
              "      <td>...</td>\n",
              "    </tr>\n",
              "    <tr>\n",
              "      <th>886</th>\n",
              "      <td>887</td>\n",
              "      <td>0</td>\n",
              "      <td>2</td>\n",
              "      <td>Montvila, Rev. Juozas</td>\n",
              "      <td>male</td>\n",
              "      <td>27.0</td>\n",
              "      <td>0</td>\n",
              "      <td>0</td>\n",
              "      <td>211536</td>\n",
              "      <td>13.0000</td>\n",
              "      <td>S</td>\n",
              "    </tr>\n",
              "    <tr>\n",
              "      <th>887</th>\n",
              "      <td>888</td>\n",
              "      <td>1</td>\n",
              "      <td>1</td>\n",
              "      <td>Graham, Miss. Margaret Edith</td>\n",
              "      <td>female</td>\n",
              "      <td>19.0</td>\n",
              "      <td>0</td>\n",
              "      <td>0</td>\n",
              "      <td>112053</td>\n",
              "      <td>30.0000</td>\n",
              "      <td>S</td>\n",
              "    </tr>\n",
              "    <tr>\n",
              "      <th>888</th>\n",
              "      <td>889</td>\n",
              "      <td>0</td>\n",
              "      <td>3</td>\n",
              "      <td>Johnston, Miss. Catherine Helen \"Carrie\"</td>\n",
              "      <td>female</td>\n",
              "      <td>NaN</td>\n",
              "      <td>1</td>\n",
              "      <td>2</td>\n",
              "      <td>W./C. 6607</td>\n",
              "      <td>23.4500</td>\n",
              "      <td>S</td>\n",
              "    </tr>\n",
              "    <tr>\n",
              "      <th>889</th>\n",
              "      <td>890</td>\n",
              "      <td>1</td>\n",
              "      <td>1</td>\n",
              "      <td>Behr, Mr. Karl Howell</td>\n",
              "      <td>male</td>\n",
              "      <td>26.0</td>\n",
              "      <td>0</td>\n",
              "      <td>0</td>\n",
              "      <td>111369</td>\n",
              "      <td>30.0000</td>\n",
              "      <td>C</td>\n",
              "    </tr>\n",
              "    <tr>\n",
              "      <th>890</th>\n",
              "      <td>891</td>\n",
              "      <td>0</td>\n",
              "      <td>3</td>\n",
              "      <td>Dooley, Mr. Patrick</td>\n",
              "      <td>male</td>\n",
              "      <td>32.0</td>\n",
              "      <td>0</td>\n",
              "      <td>0</td>\n",
              "      <td>370376</td>\n",
              "      <td>7.7500</td>\n",
              "      <td>Q</td>\n",
              "    </tr>\n",
              "  </tbody>\n",
              "</table>\n",
              "<p>891 rows × 11 columns</p>\n",
              "</div>\n",
              "      <button class=\"colab-df-convert\" onclick=\"convertToInteractive('df-e38e0f18-7c65-48c6-abb7-0f5e5418ec16')\"\n",
              "              title=\"Convert this dataframe to an interactive table.\"\n",
              "              style=\"display:none;\">\n",
              "        \n",
              "  <svg xmlns=\"http://www.w3.org/2000/svg\" height=\"24px\"viewBox=\"0 0 24 24\"\n",
              "       width=\"24px\">\n",
              "    <path d=\"M0 0h24v24H0V0z\" fill=\"none\"/>\n",
              "    <path d=\"M18.56 5.44l.94 2.06.94-2.06 2.06-.94-2.06-.94-.94-2.06-.94 2.06-2.06.94zm-11 1L8.5 8.5l.94-2.06 2.06-.94-2.06-.94L8.5 2.5l-.94 2.06-2.06.94zm10 10l.94 2.06.94-2.06 2.06-.94-2.06-.94-.94-2.06-.94 2.06-2.06.94z\"/><path d=\"M17.41 7.96l-1.37-1.37c-.4-.4-.92-.59-1.43-.59-.52 0-1.04.2-1.43.59L10.3 9.45l-7.72 7.72c-.78.78-.78 2.05 0 2.83L4 21.41c.39.39.9.59 1.41.59.51 0 1.02-.2 1.41-.59l7.78-7.78 2.81-2.81c.8-.78.8-2.07 0-2.86zM5.41 20L4 18.59l7.72-7.72 1.47 1.35L5.41 20z\"/>\n",
              "  </svg>\n",
              "      </button>\n",
              "      \n",
              "  <style>\n",
              "    .colab-df-container {\n",
              "      display:flex;\n",
              "      flex-wrap:wrap;\n",
              "      gap: 12px;\n",
              "    }\n",
              "\n",
              "    .colab-df-convert {\n",
              "      background-color: #E8F0FE;\n",
              "      border: none;\n",
              "      border-radius: 50%;\n",
              "      cursor: pointer;\n",
              "      display: none;\n",
              "      fill: #1967D2;\n",
              "      height: 32px;\n",
              "      padding: 0 0 0 0;\n",
              "      width: 32px;\n",
              "    }\n",
              "\n",
              "    .colab-df-convert:hover {\n",
              "      background-color: #E2EBFA;\n",
              "      box-shadow: 0px 1px 2px rgba(60, 64, 67, 0.3), 0px 1px 3px 1px rgba(60, 64, 67, 0.15);\n",
              "      fill: #174EA6;\n",
              "    }\n",
              "\n",
              "    [theme=dark] .colab-df-convert {\n",
              "      background-color: #3B4455;\n",
              "      fill: #D2E3FC;\n",
              "    }\n",
              "\n",
              "    [theme=dark] .colab-df-convert:hover {\n",
              "      background-color: #434B5C;\n",
              "      box-shadow: 0px 1px 3px 1px rgba(0, 0, 0, 0.15);\n",
              "      filter: drop-shadow(0px 1px 2px rgba(0, 0, 0, 0.3));\n",
              "      fill: #FFFFFF;\n",
              "    }\n",
              "  </style>\n",
              "\n",
              "      <script>\n",
              "        const buttonEl =\n",
              "          document.querySelector('#df-e38e0f18-7c65-48c6-abb7-0f5e5418ec16 button.colab-df-convert');\n",
              "        buttonEl.style.display =\n",
              "          google.colab.kernel.accessAllowed ? 'block' : 'none';\n",
              "\n",
              "        async function convertToInteractive(key) {\n",
              "          const element = document.querySelector('#df-e38e0f18-7c65-48c6-abb7-0f5e5418ec16');\n",
              "          const dataTable =\n",
              "            await google.colab.kernel.invokeFunction('convertToInteractive',\n",
              "                                                     [key], {});\n",
              "          if (!dataTable) return;\n",
              "\n",
              "          const docLinkHtml = 'Like what you see? Visit the ' +\n",
              "            '<a target=\"_blank\" href=https://colab.research.google.com/notebooks/data_table.ipynb>data table notebook</a>'\n",
              "            + ' to learn more about interactive tables.';\n",
              "          element.innerHTML = '';\n",
              "          dataTable['output_type'] = 'display_data';\n",
              "          await google.colab.output.renderOutput(dataTable, element);\n",
              "          const docLink = document.createElement('div');\n",
              "          docLink.innerHTML = docLinkHtml;\n",
              "          element.appendChild(docLink);\n",
              "        }\n",
              "      </script>\n",
              "    </div>\n",
              "  </div>\n",
              "  "
            ]
          },
          "metadata": {},
          "execution_count": 8
        }
      ],
      "source": [
        "df = pd.read_csv('https://raw.githubusercontent.com/datasciencedojo/datasets/master/titanic.csv') \n",
        "df = df.drop(columns=['Cabin'])\n",
        "df"
      ]
    },
    {
      "cell_type": "markdown",
      "metadata": {
        "id": "iaUbxgHLuhQf"
      },
      "source": [
        "# Matplotlib - rysowanie wykresów w Pythonie\n",
        "\n",
        "**Matplotlib** jest biblioteką do tworzenia wysokiej jakości wykresów dla języka Python i jego rozszerzenia numerycznego NumPy. Umożliwia prezentację danych w różnych formatach (np. PNG, PDF, XLS). Zapewnia kontrolę nad wyglądem, stylami i właściwościami wykresów, pracę w środowisku interaktywnym, jak i możliwość osadzania wyników w aplikacjach destkopowych czy webowych.\n",
        "\n",
        "Funkcje i narzędzia tej biblioteki są napisane w taki sposób aby jak najbardziej odzwierciedlały metody rysowania wykresów z języka MatLab, dzięki czemu użytkownicy Matlaba w łatwy sposób mogą przenieść się do języka Python.\n",
        "Niektóre zalety korzystania z Pythona, NumPy i matplotlib nad MatLabem:\n",
        "  \n",
        "  * nowoczesny język programowania w pełni funkcjonalny obiektowo, odpowiedni do tworzenia oprogramowania na dużą skalę,\n",
        "  * darmowy (open source),\n",
        "  * wsparcie SVG.\n",
        "\n",
        "Aby skorzystać z biblioteki matplotlib należy ją wcześniej zaimportować, np.:"
      ]
    },
    {
      "cell_type": "code",
      "execution_count": null,
      "metadata": {
        "id": "66E3iPNOuhQf"
      },
      "outputs": [],
      "source": [
        "import matplotlib.pyplot as plt\n",
        "# from matplotlib import pyplot as plt\n",
        "\n",
        "%matplotlib inline"
      ]
    },
    {
      "cell_type": "markdown",
      "metadata": {
        "id": "-6W-U5n7uhQf"
      },
      "source": [
        "# Pierwszy wykres"
      ]
    },
    {
      "cell_type": "code",
      "execution_count": null,
      "metadata": {
        "id": "fCITCgnbuhQg",
        "outputId": "a9d25e7a-ff41-4d7d-f7e1-eff9147814c3"
      },
      "outputs": [
        {
          "data": {
            "image/png": "[encoded data removed]",
            "text/plain": [
              "<Figure size 432x288 with 1 Axes>"
            ]
          },
          "metadata": {
            "needs_background": "light"
          },
          "output_type": "display_data"
        }
      ],
      "source": [
        "plt.plot([1, 5, 2, 7, 4, 1]) # wartości funkcji\n",
        "plt.show()"
      ]
    },
    {
      "cell_type": "code",
      "execution_count": null,
      "metadata": {
        "id": "GIlyxnrduhQg",
        "outputId": "b21ba366-9331-4199-f73d-dbd3337c739b"
      },
      "outputs": [
        {
          "data": {
            "image/png": "[encoded data removed]",
            "text/plain": [
              "<Figure size 432x288 with 1 Axes>"
            ]
          },
          "metadata": {
            "needs_background": "light"
          },
          "output_type": "display_data"
        }
      ],
      "source": [
        "plt.plot([1, 2, 4, 7], [-1, 3, -2, 10])\n",
        "plt.show()"
      ]
    },
    {
      "cell_type": "markdown",
      "metadata": {
        "id": "8GRXC8j4uhQi"
      },
      "source": [
        "Własności wykresów\n",
        "Za pomocą specjalnych poleceń można też zmieniać właściwości wykresów, takie jak np.: rodzaj linii, kolor, czy też symbole punktów.\n",
        "Rodzaje linii:\n",
        "  \n",
        "  * **\\-** - ciągła,\n",
        "  * **:** - punktowa,\n",
        "  * **-.** - kropka-kreska,\n",
        "  * **--** - kreskowana.\n",
        "\n",
        "Kolory:\n",
        "\n",
        "  * **y** - yellow,\n",
        "  * **m** - magenta,\n",
        "  * **c** - cyan,\n",
        "  * **r** - red,\n",
        "  * **g** - green,\n",
        "  * **b** - blue,\n",
        "  * **w** - white,\n",
        "  * **k** - black.\n",
        "\n",
        "Symbole:\n",
        "\n",
        "  * **.** - punkt,\n",
        "  * **o** - kółko,\n",
        "  * **x** - x,\n",
        "  * **\\+** - plus,\n",
        "  * ** \\* ** - gwiazdka,\n",
        "  * **s** - kwadraty,\n",
        "  * **d** - romb,\n",
        "  * **v** - trójkąt w dół,\n",
        "  * **^** - trójkąt w górę,\n",
        "  * **<** - trójkąt w lewo,\n",
        "  * **\\>** - trójkąt w prawo,\n",
        "  * **p** - pięciokąt,\n",
        "  * **h** - sześciokąt."
      ]
    },
    {
      "cell_type": "code",
      "execution_count": null,
      "metadata": {
        "id": "A6j63b72uhQi",
        "outputId": "152fd755-7b95-4eb6-ad8d-553495895c80"
      },
      "outputs": [
        {
          "data": {
            "image/png": "[encoded data removed]",
            "text/plain": [
              "<Figure size 432x288 with 1 Axes>"
            ]
          },
          "metadata": {
            "needs_background": "light"
          },
          "output_type": "display_data"
        }
      ],
      "source": [
        "import numpy as np\n",
        "\n",
        "x = np.arange(0., 5., 0.2)\n",
        "\n",
        "plt.plot(x, x, 'r--', x, x**2, 'bs', x, x**3, 'g^')\n",
        "plt.show()"
      ]
    },
    {
      "cell_type": "code",
      "execution_count": null,
      "metadata": {
        "id": "5NULfZsIuhQi",
        "outputId": "558922d8-7f5a-4e29-9035-bad9dce9e673"
      },
      "outputs": [
        {
          "data": {
            "image/png": "[encoded data removed]",
            "text/plain": [
              "<Figure size 432x288 with 1 Axes>"
            ]
          },
          "metadata": {
            "needs_background": "light"
          },
          "output_type": "display_data"
        }
      ],
      "source": [
        "x = [1,2,3,4]\n",
        "y = [20, 21, 20.5, 20.8]\n",
        "\n",
        "plt.plot(x, y, linestyle=\"dashed\", marker=\"o\", color=\"green\")\n",
        "\n",
        "# ustawienie granic osi X, \n",
        "plt.xlim(0.5,4.5)\n",
        "plt.ylim(19.8,21.2)\n",
        "\n",
        "plt.show()"
      ]
    },
    {
      "cell_type": "code",
      "execution_count": null,
      "metadata": {
        "id": "Y7KsAPmTuhQi",
        "outputId": "e86e70c1-c519-4fb3-d9ac-45c641513433"
      },
      "outputs": [
        {
          "data": {
            "image/png": "[encoded data removed]",
            "text/plain": [
              "<Figure size 432x288 with 1 Axes>"
            ]
          },
          "metadata": {
            "needs_background": "light"
          },
          "output_type": "display_data"
        }
      ],
      "source": [
        "x = np.linspace(0, 20, 1000)\n",
        "y1 = np.sin(x)\n",
        "y2 = np.cos(x)\n",
        "\n",
        "# rozmiar czcionki\n",
        "plt.rc(\"font\", size=10)\n",
        "\n",
        "# dodanie legendy\n",
        "plt.plot(x, y1, '-b', label=r'$\\sin(x)$')\n",
        "plt.plot(x, y2, '-r', label='cosine')\n",
        "plt.legend(loc='upper right') # pozycja legendy\n",
        "# plt.legend(loc='upper left', frameon=False)\n",
        "plt.ylim(-1.5, 2.0)\n",
        "\n",
        "plt.title(\"Dwa wykresy\", size=20)\n",
        "\n",
        "plt.show()"
      ]
    },
    {
      "cell_type": "code",
      "execution_count": null,
      "metadata": {
        "id": "xmo5t0qruhQi"
      },
      "outputs": [],
      "source": [
        ""
      ]
    },
    {
      "cell_type": "markdown",
      "metadata": {
        "id": "-QK_aB04uhQj"
      },
      "source": [
        "Więcej na temat wyszczególnienia obiektów na wykresie odsyłam do dokumntacji: [http://matplotlib.org/users/annotations_guide.html]\n"
      ]
    },
    {
      "cell_type": "markdown",
      "metadata": {
        "id": "mf_HPiafuhQj"
      },
      "source": [
        "#  Statystyka\n"
      ]
    },
    {
      "cell_type": "code",
      "execution_count": null,
      "metadata": {
        "id": "t8evODXquhQj"
      },
      "outputs": [],
      "source": [
        "inFile = 'http://ww2.amstat.org/publications/jse/datasets/babyboom.dat.txt'\n",
        "data = pd.read_csv(inFile, sep='[ ]+', header=None, engine='python',names= ['sex', 'Weight', 'Minutes'])\n",
        "df = data[['Minutes', 'sex', 'Weight']]"
      ]
    },
    {
      "cell_type": "markdown",
      "metadata": {
        "id": "tMcSOfCSuhQj"
      },
      "source": [
        "  * Narysujmy dane <tt>df.Weight.values</tt> jako szereg czasowy"
      ]
    },
    {
      "cell_type": "code",
      "execution_count": null,
      "metadata": {
        "id": "UiLcJ8vYuhQk",
        "outputId": "3c2b8ba9-78bf-4952-c5f0-d04fe0523d9f",
        "colab": {
          "base_uri": "https://localhost:8080/",
          "height": 265
        }
      },
      "outputs": [
        {
          "output_type": "display_data",
          "data": {
            "text/plain": [
              "<Figure size 432x288 with 1 Axes>"
            ],
            "image/png": "[encoded data removed]"
          },
          "metadata": {
            "needs_background": "light"
          }
        }
      ],
      "source": [
        "x=df.Weight.values\n",
        "plt.scatter(np.arange(len(x)), x)\n",
        "plt.show()"
      ]
    },
    {
      "cell_type": "markdown",
      "metadata": {
        "id": "QYqv7hm0uhQk"
      },
      "source": [
        " Narysujmy histogram dla <tt>df.Weight.values</tt>"
      ]
    },
    {
      "cell_type": "code",
      "execution_count": null,
      "metadata": {
        "id": "ch4X9mOPuhQk",
        "outputId": "10ab838a-6f3d-4103-80da-facf8fc8bc98",
        "colab": {
          "base_uri": "https://localhost:8080/",
          "height": 265
        }
      },
      "outputs": [
        {
          "output_type": "display_data",
          "data": {
            "text/plain": [
              "<Figure size 432x288 with 1 Axes>"
            ],
            "image/png": "[encoded data removed]"
          },
          "metadata": {
            "needs_background": "light"
          }
        }
      ],
      "source": [
        "plt.hist(x, bins=25)\n",
        "plt.show()"
      ]
    },
    {
      "cell_type": "markdown",
      "metadata": {
        "id": "ncsy6r6XuhQk"
      },
      "source": [
        "Narysujmy gęstość dla <tt> df.Weight.values</tt> (estymacja jądrowa):"
      ]
    },
    {
      "cell_type": "code",
      "execution_count": null,
      "metadata": {
        "id": "LEJFXxpUuhQl",
        "outputId": "bbb2287f-f8d5-4e31-c22d-8d0e6dda5415",
        "colab": {
          "base_uri": "https://localhost:8080/",
          "height": 265
        }
      },
      "outputs": [
        {
          "output_type": "display_data",
          "data": {
            "text/plain": [
              "<Figure size 432x288 with 1 Axes>"
            ],
            "image/png": "[encoded data removed]"
          },
          "metadata": {
            "needs_background": "light"
          }
        }
      ],
      "source": [
        "import seaborn as sns\n",
        "sns.kdeplot(x)\n",
        "plt.show()"
      ]
    },
    {
      "cell_type": "markdown",
      "metadata": {
        "id": "uuUMLgBDuhQl"
      },
      "source": [
        "Narysujmy dystrybuantę empiryczną dla </tt> df.Weight.values<tt>"
      ]
    },
    {
      "cell_type": "code",
      "execution_count": null,
      "metadata": {
        "id": "YTCnb12kuhQl",
        "outputId": "af7c86c6-1be5-467d-907c-af44b591707d",
        "colab": {
          "base_uri": "https://localhost:8080/",
          "height": 265
        }
      },
      "outputs": [
        {
          "output_type": "display_data",
          "data": {
            "text/plain": [
              "<Figure size 432x288 with 1 Axes>"
            ],
            "image/png": "[encoded data removed]"
          },
          "metadata": {
            "needs_background": "light"
          }
        }
      ],
      "source": [
        "from scipy import stats\n",
        "plt.plot(stats.cumfreq(x,numbins=25)[0])\n",
        "plt.show()"
      ]
    },
    {
      "cell_type": "markdown",
      "metadata": {
        "id": "1B6noKL8uhQm"
      },
      "source": [
        "Narysujmy wykres pudełkowy dla <tt>df.Weight.values</tt>"
      ]
    },
    {
      "cell_type": "code",
      "execution_count": null,
      "metadata": {
        "id": "fTapJY9LuhQn",
        "outputId": "d2b4b34a-70a4-435e-e45c-9be9d5d13dd4"
      },
      "outputs": [
        {
          "data": {
            "image/png": "[encoded data removed]",
            "text/plain": [
              "<Figure size 432x288 with 1 Axes>"
            ]
          },
          "metadata": {
            "needs_background": "light"
          },
          "output_type": "display_data"
        }
      ],
      "source": [
        "plt.boxplot(x, sym='*')\n",
        "plt.show()"
      ]
    },
    {
      "cell_type": "markdown",
      "metadata": {
        "id": "Qdi1oFdFuhQn"
      },
      "source": [
        "Narysujmy wykres skrzypcowy dla <tt>df.Weight.values</tt>"
      ]
    },
    {
      "cell_type": "code",
      "execution_count": null,
      "metadata": {
        "id": "_le7tST5uhQn",
        "outputId": "3746ee65-1672-403d-b038-07440a6c3f3d"
      },
      "outputs": [
        {
          "data": {
            "image/png": "[encoded data removed]",
            "text/plain": [
              "<Figure size 432x288 with 1 Axes>"
            ]
          },
          "metadata": {
            "needs_background": "light"
          },
          "output_type": "display_data"
        }
      ],
      "source": [
        "sns.violinplot(x)\n",
        "plt.show()"
      ]
    },
    {
      "cell_type": "markdown",
      "metadata": {
        "id": "_VuwGmg1uhQn"
      },
      "source": [
        "# Zadanie\n",
        "Proszę podzielić próbkę na dwie grupy ze względu na płeć (kolumna ``sex'') i narysować dla nich:\n",
        "<ul>\n",
        "<li>wykres w kształcie szeregu czasowego</li>\n",
        "<li>histogramy</li>\n",
        "<li>estymacje gęstości</li>\n",
        "<li>dystrybuanty empiryczne</li>\n",
        "<li>wykresy pudełkowe</li>\n",
        "<li>wykresy skrzypcowe</li>\n",
        "</ul>"
      ]
    },
    {
      "cell_type": "code",
      "execution_count": null,
      "metadata": {
        "id": "IKMqaUFPuhQo"
      },
      "outputs": [],
      "source": [
        "female = df[df['sex'] == 1]\n",
        "male = df[df['sex'] == 2]"
      ]
    },
    {
      "cell_type": "code",
      "execution_count": null,
      "metadata": {
        "id": "klNa5b99uhQp",
        "outputId": "f756f153-9c85-4813-bdb7-aed17840a4c6",
        "colab": {
          "base_uri": "https://localhost:8080/",
          "height": 265
        }
      },
      "outputs": [
        {
          "output_type": "display_data",
          "data": {
            "text/plain": [
              "<Figure size 432x288 with 1 Axes>"
            ],
            "image/png": "[encoded data removed]"
          },
          "metadata": {
            "needs_background": "light"
          }
        }
      ],
      "source": [
        "fPlt = plt.scatter(female.Minutes, female.Weight, color='red', marker=\"o\")\n",
        "mPlt = plt.scatter(male.Minutes, male.Weight, marker=\"d\")\n",
        "\n",
        "plt.show()"
      ]
    },
    {
      "cell_type": "code",
      "execution_count": null,
      "metadata": {
        "id": "OvQhXlXtuhQp",
        "outputId": "598e8ec4-0197-4fa1-caf8-480f6937b0e4",
        "colab": {
          "base_uri": "https://localhost:8080/",
          "height": 265
        }
      },
      "outputs": [
        {
          "output_type": "display_data",
          "data": {
            "text/plain": [
              "<Figure size 432x288 with 1 Axes>"
            ],
            "image/png": "[encoded data removed]"
          },
          "metadata": {
            "needs_background": "light"
          }
        }
      ],
      "source": [
        "plt.hist(female.Weight, bins=10,color=\"red\")\n",
        "plt.hist(male.Weight, bins=10)\n",
        "\n",
        "plt.show()"
      ]
    },
    {
      "cell_type": "code",
      "execution_count": null,
      "metadata": {
        "id": "FyDP0xoruhQq",
        "outputId": "9c92302a-5560-41ea-f7ea-29a7f7cb565c",
        "colab": {
          "base_uri": "https://localhost:8080/",
          "height": 279
        }
      },
      "outputs": [
        {
          "output_type": "display_data",
          "data": {
            "text/plain": [
              "<Figure size 432x288 with 1 Axes>"
            ],
            "image/png": "[encoded data removed]"
          },
          "metadata": {
            "needs_background": "light"
          }
        }
      ],
      "source": [
        "fPlt = sns.kdeplot(female.Weight, color='red')\n",
        "mPlt = sns.kdeplot(male.Weight)\n",
        "\n",
        "plt.show()"
      ]
    },
    {
      "cell_type": "code",
      "execution_count": null,
      "metadata": {
        "id": "fiz8h9MquhQq",
        "outputId": "e7eeb617-bfc4-4e46-cacb-d479ec68fe04",
        "colab": {
          "base_uri": "https://localhost:8080/",
          "height": 265
        }
      },
      "outputs": [
        {
          "output_type": "display_data",
          "data": {
            "text/plain": [
              "<Figure size 432x288 with 1 Axes>"
            ],
            "image/png": "[encoded data removed]"
          },
          "metadata": {
            "needs_background": "light"
          }
        }
      ],
      "source": [
        "plt.plot(stats.cumfreq(female.Weight,numbins=10)[0])\n",
        "plt.plot(stats.cumfreq(male.Weight,numbins=10)[0])\n",
        "\n",
        "plt.show()"
      ]
    },
    {
      "cell_type": "code",
      "execution_count": null,
      "metadata": {
        "id": "8uDddLhquhQq",
        "outputId": "6b631fed-e6f9-40d8-a27a-60486108195e",
        "colab": {
          "base_uri": "https://localhost:8080/",
          "height": 320
        }
      },
      "outputs": [
        {
          "output_type": "stream",
          "name": "stderr",
          "text": [
            "/usr/local/lib/python3.7/dist-packages/matplotlib/cbook/__init__.py:1376: VisibleDeprecationWarning: Creating an ndarray from ragged nested sequences (which is a list-or-tuple of lists-or-tuples-or ndarrays with different lengths or shapes) is deprecated. If you meant to do this, you must specify 'dtype=object' when creating the ndarray.\n",
            "  X = np.atleast_1d(X.T if isinstance(X, np.ndarray) else np.asarray(X))\n"
          ]
        },
        {
          "output_type": "display_data",
          "data": {
            "text/plain": [
              "<Figure size 432x288 with 1 Axes>"
            ],
            "image/png": "[encoded data removed]"
          },
          "metadata": {
            "needs_background": "light"
          }
        }
      ],
      "source": [
        "from scipy import stats\n",
        "box = plt.boxplot([female.Weight, male.Weight], labels=('felame','male'), patch_artist=True)\n",
        "plt.show()"
      ]
    },
    {
      "cell_type": "markdown",
      "metadata": {
        "id": "1DH9kvRGuhQr"
      },
      "source": [
        "# Zadanie 9\n",
        "\n",
        "\n",
        "## Reguła Trzech Sigm\n",
        "Reguła Trzech Sigm dla danego rozkładu normalnego $N(mean,\\sigma)$ oznacza, że w przedziale $[mean-3\\sigma,mean+3\\sigma]$ znajduje się 99.7\\% wszystkich obserwacji.\n",
        "\n",
        "Napisz program, który:\n",
        "\n",
        "  * rysuje gęstość rozkładu normalnego o zadanych parametrach $mean$ i $\\sigma$,\n",
        "  * wylicza pole pod krzywą\n",
        "  * zaznacza obszar po krzywą\n",
        "\n",
        "Policz prawdopodobieństwa:\n",
        "\n",
        "  * $P(X \\in [mean-\\sigma,mean+\\sigma])$\n",
        "  * $P(X \\in [mean-2\\sigma,mean+2\\sigma])$\n",
        "  * $P(X \\in [mean-3\\sigma,mean+3\\sigma])$\n",
        "\n"
      ]
    },
    {
      "cell_type": "code",
      "execution_count": null,
      "metadata": {
        "id": "AJAb6VsWuhQr",
        "outputId": "79c4121c-e144-4731-dda7-61a65c90d8cf",
        "colab": {
          "base_uri": "https://localhost:8080/",
          "height": 283
        }
      },
      "outputs": [
        {
          "output_type": "display_data",
          "data": {
            "text/plain": [
              "<Figure size 432x288 with 1 Axes>"
            ],
            "image/png": "[encoded data removed]"
          },
          "metadata": {
            "needs_background": "light"
          }
        },
        {
          "output_type": "stream",
          "name": "stdout",
          "text": [
            "AREA: 0.682622302309698\n"
          ]
        }
      ],
      "source": [
        "import scipy\n",
        "\n",
        "\n",
        "def program(mean, sigma):\n",
        "    distribution = scipy.stats.norm(mean, sigma)\n",
        "    \n",
        "    x0 = np.linspace(mean-4*sigma,mean+4*sigma)\n",
        "    x = np.linspace(mean-sigma,mean+sigma)\n",
        "    \n",
        "    y0 = distribution.pdf(x0)\n",
        "    y = distribution.pdf(x)\n",
        "    \n",
        "    axis = plt.subplot(1,1,1)\n",
        "    \n",
        "    axis.plot(x0,y0)\n",
        "    axis.fill_between(x,y)\n",
        "    axis.set_xlim([mean-4*sigma, mean+4*sigma])\n",
        "    \n",
        "    plt.show()\n",
        "    print(\"AREA: \" + str(np.trapz(y,x)))\n",
        "    \n",
        "    \n",
        "program(0,12)"
      ]
    },
    {
      "cell_type": "code",
      "execution_count": null,
      "metadata": {
        "collapsed": true,
        "id": "PZ2ifmnPuhQs",
        "colab": {
          "base_uri": "https://localhost:8080/"
        },
        "outputId": "82f66739-6a74-4666-f6e2-28bd30af559e"
      },
      "outputs": [
        {
          "output_type": "stream",
          "name": "stdout",
          "text": [
            "0.0027201415498370775\n",
            "0.0018402671468803803\n",
            "0.0012975019366868697\n"
          ]
        }
      ],
      "source": [
        "import scipy\n",
        "\n",
        "def probabilities(x, mean, sigma):\n",
        "    print(scipy.stats.norm(mean, sigma).pdf(x))\n",
        "    print(scipy.stats.norm(mean, 2*sigma).pdf(x))\n",
        "    print(scipy.stats.norm(mean, 3*sigma).pdf(x))\n",
        "    \n",
        "probabilities(100,12,98)"
      ]
    }
  ],
  "metadata": {
    "kernelspec": {
      "display_name": "Python 3",
      "language": "python",
      "name": "python3"
    },
    "language_info": {
      "codemirror_mode": {
        "name": "ipython",
        "version": 3
      },
      "file_extension": ".py",
      "mimetype": "text/x-python",
      "name": "python",
      "nbconvert_exporter": "python",
      "pygments_lexer": "ipython3",
      "version": "3.7.3"
    },
    "colab": {
      "name": "Kopia notatnika Z02_numy_pandas.ipynb",
      "provenance": [],
      "collapsed_sections": [
        "F661Zbd0uhOy",
        "ZicFyPqtuhO7",
        "xepy09yxuhPK",
        "RnRikuWPuhPl",
        "MvWH-iKquhQc",
        "-6W-U5n7uhQf"
      ],
      "include_colab_link": true
    }
  },
  "nbformat": 4,
  "nbformat_minor": 0
}