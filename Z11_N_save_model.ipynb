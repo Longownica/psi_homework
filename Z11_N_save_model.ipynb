{
  "cells": [
    {
      "cell_type": "code",
      "execution_count": 1,
      "metadata": {
        "id": "s3XwUlzfOdDd",
        "outputId": "8bde91f4-b8b8-4508-cb15-e81af3c361fc",
        "colab": {
          "base_uri": "https://localhost:8080/"
        }
      },
      "outputs": [
        {
          "output_type": "stream",
          "name": "stdout",
          "text": [
            "2.8.2\n",
            "2.8.0\n"
          ]
        }
      ],
      "source": [
        "import tensorflow as tf\n",
        "from tensorflow import keras\n",
        "print(tf.__version__)\n",
        "\n",
        "print(keras.__version__)"
      ]
    },
    {
      "cell_type": "code",
      "execution_count": 2,
      "metadata": {
        "id": "vNfCbwqMOdDi"
      },
      "outputs": [],
      "source": [
        "import numpy as np\n",
        "import pandas as pd\n",
        "import matplotlib.pyplot as plt\n",
        "import os"
      ]
    },
    {
      "cell_type": "code",
      "execution_count": 4,
      "metadata": {
        "id": "oVQzOTAZOdDr",
        "outputId": "5a8f13dc-4ae4-4e7e-d828-41c9b5f94b87",
        "colab": {
          "base_uri": "https://localhost:8080/",
          "height": 261
        }
      },
      "outputs": [
        {
          "output_type": "stream",
          "name": "stderr",
          "text": [
            "/usr/local/lib/python3.7/dist-packages/pandas/util/_decorators.py:311: ParserWarning: Falling back to the 'python' engine because the 'c' engine does not support regex separators (separators > 1 char and different from '\\s+' are interpreted as regex); you can avoid this warning by specifying engine='python'.\n",
            "  return func(*args, **kwargs)\n"
          ]
        },
        {
          "output_type": "execute_result",
          "data": {
            "text/plain": [
              "   age         workclass  fnlwgt  education  education_num  \\\n",
              "0   39         State-gov   77516  Bachelors             13   \n",
              "1   50  Self-emp-not-inc   83311  Bachelors             13   \n",
              "2   38           Private  215646    HS-grad              9   \n",
              "3   53           Private  234721       11th              7   \n",
              "4   28           Private  338409  Bachelors             13   \n",
              "\n",
              "       marital_status         occupation   relationship   race     sex  \\\n",
              "0       Never-married       Adm-clerical  Not-in-family  White    Male   \n",
              "1  Married-civ-spouse    Exec-managerial        Husband  White    Male   \n",
              "2            Divorced  Handlers-cleaners  Not-in-family  White    Male   \n",
              "3  Married-civ-spouse  Handlers-cleaners        Husband  Black    Male   \n",
              "4  Married-civ-spouse     Prof-specialty           Wife  Black  Female   \n",
              "\n",
              "   capital_gain  capital_loss  hours_per_week native_country wage_class  \n",
              "0          2174             0              40  United-States      <=50K  \n",
              "1             0             0              13  United-States      <=50K  \n",
              "2             0             0              40  United-States      <=50K  \n",
              "3             0             0              40  United-States      <=50K  \n",
              "4             0             0              40           Cuba      <=50K  "
            ],
            "text/html": [
              "\n",
              "  <div id=\"df-c4ac0060-9d74-4933-af79-f35306985cf9\">\n",
              "    <div class=\"colab-df-container\">\n",
              "      <div>\n",
              "<style scoped>\n",
              "    .dataframe tbody tr th:only-of-type {\n",
              "        vertical-align: middle;\n",
              "    }\n",
              "\n",
              "    .dataframe tbody tr th {\n",
              "        vertical-align: top;\n",
              "    }\n",
              "\n",
              "    .dataframe thead th {\n",
              "        text-align: right;\n",
              "    }\n",
              "</style>\n",
              "<table border=\"1\" class=\"dataframe\">\n",
              "  <thead>\n",
              "    <tr style=\"text-align: right;\">\n",
              "      <th></th>\n",
              "      <th>age</th>\n",
              "      <th>workclass</th>\n",
              "      <th>fnlwgt</th>\n",
              "      <th>education</th>\n",
              "      <th>education_num</th>\n",
              "      <th>marital_status</th>\n",
              "      <th>occupation</th>\n",
              "      <th>relationship</th>\n",
              "      <th>race</th>\n",
              "      <th>sex</th>\n",
              "      <th>capital_gain</th>\n",
              "      <th>capital_loss</th>\n",
              "      <th>hours_per_week</th>\n",
              "      <th>native_country</th>\n",
              "      <th>wage_class</th>\n",
              "    </tr>\n",
              "  </thead>\n",
              "  <tbody>\n",
              "    <tr>\n",
              "      <th>0</th>\n",
              "      <td>39</td>\n",
              "      <td>State-gov</td>\n",
              "      <td>77516</td>\n",
              "      <td>Bachelors</td>\n",
              "      <td>13</td>\n",
              "      <td>Never-married</td>\n",
              "      <td>Adm-clerical</td>\n",
              "      <td>Not-in-family</td>\n",
              "      <td>White</td>\n",
              "      <td>Male</td>\n",
              "      <td>2174</td>\n",
              "      <td>0</td>\n",
              "      <td>40</td>\n",
              "      <td>United-States</td>\n",
              "      <td>&lt;=50K</td>\n",
              "    </tr>\n",
              "    <tr>\n",
              "      <th>1</th>\n",
              "      <td>50</td>\n",
              "      <td>Self-emp-not-inc</td>\n",
              "      <td>83311</td>\n",
              "      <td>Bachelors</td>\n",
              "      <td>13</td>\n",
              "      <td>Married-civ-spouse</td>\n",
              "      <td>Exec-managerial</td>\n",
              "      <td>Husband</td>\n",
              "      <td>White</td>\n",
              "      <td>Male</td>\n",
              "      <td>0</td>\n",
              "      <td>0</td>\n",
              "      <td>13</td>\n",
              "      <td>United-States</td>\n",
              "      <td>&lt;=50K</td>\n",
              "    </tr>\n",
              "    <tr>\n",
              "      <th>2</th>\n",
              "      <td>38</td>\n",
              "      <td>Private</td>\n",
              "      <td>215646</td>\n",
              "      <td>HS-grad</td>\n",
              "      <td>9</td>\n",
              "      <td>Divorced</td>\n",
              "      <td>Handlers-cleaners</td>\n",
              "      <td>Not-in-family</td>\n",
              "      <td>White</td>\n",
              "      <td>Male</td>\n",
              "      <td>0</td>\n",
              "      <td>0</td>\n",
              "      <td>40</td>\n",
              "      <td>United-States</td>\n",
              "      <td>&lt;=50K</td>\n",
              "    </tr>\n",
              "    <tr>\n",
              "      <th>3</th>\n",
              "      <td>53</td>\n",
              "      <td>Private</td>\n",
              "      <td>234721</td>\n",
              "      <td>11th</td>\n",
              "      <td>7</td>\n",
              "      <td>Married-civ-spouse</td>\n",
              "      <td>Handlers-cleaners</td>\n",
              "      <td>Husband</td>\n",
              "      <td>Black</td>\n",
              "      <td>Male</td>\n",
              "      <td>0</td>\n",
              "      <td>0</td>\n",
              "      <td>40</td>\n",
              "      <td>United-States</td>\n",
              "      <td>&lt;=50K</td>\n",
              "    </tr>\n",
              "    <tr>\n",
              "      <th>4</th>\n",
              "      <td>28</td>\n",
              "      <td>Private</td>\n",
              "      <td>338409</td>\n",
              "      <td>Bachelors</td>\n",
              "      <td>13</td>\n",
              "      <td>Married-civ-spouse</td>\n",
              "      <td>Prof-specialty</td>\n",
              "      <td>Wife</td>\n",
              "      <td>Black</td>\n",
              "      <td>Female</td>\n",
              "      <td>0</td>\n",
              "      <td>0</td>\n",
              "      <td>40</td>\n",
              "      <td>Cuba</td>\n",
              "      <td>&lt;=50K</td>\n",
              "    </tr>\n",
              "  </tbody>\n",
              "</table>\n",
              "</div>\n",
              "      <button class=\"colab-df-convert\" onclick=\"convertToInteractive('df-c4ac0060-9d74-4933-af79-f35306985cf9')\"\n",
              "              title=\"Convert this dataframe to an interactive table.\"\n",
              "              style=\"display:none;\">\n",
              "        \n",
              "  <svg xmlns=\"http://www.w3.org/2000/svg\" height=\"24px\"viewBox=\"0 0 24 24\"\n",
              "       width=\"24px\">\n",
              "    <path d=\"M0 0h24v24H0V0z\" fill=\"none\"/>\n",
              "    <path d=\"M18.56 5.44l.94 2.06.94-2.06 2.06-.94-2.06-.94-.94-2.06-.94 2.06-2.06.94zm-11 1L8.5 8.5l.94-2.06 2.06-.94-2.06-.94L8.5 2.5l-.94 2.06-2.06.94zm10 10l.94 2.06.94-2.06 2.06-.94-2.06-.94-.94-2.06-.94 2.06-2.06.94z\"/><path d=\"M17.41 7.96l-1.37-1.37c-.4-.4-.92-.59-1.43-.59-.52 0-1.04.2-1.43.59L10.3 9.45l-7.72 7.72c-.78.78-.78 2.05 0 2.83L4 21.41c.39.39.9.59 1.41.59.51 0 1.02-.2 1.41-.59l7.78-7.78 2.81-2.81c.8-.78.8-2.07 0-2.86zM5.41 20L4 18.59l7.72-7.72 1.47 1.35L5.41 20z\"/>\n",
              "  </svg>\n",
              "      </button>\n",
              "      \n",
              "  <style>\n",
              "    .colab-df-container {\n",
              "      display:flex;\n",
              "      flex-wrap:wrap;\n",
              "      gap: 12px;\n",
              "    }\n",
              "\n",
              "    .colab-df-convert {\n",
              "      background-color: #E8F0FE;\n",
              "      border: none;\n",
              "      border-radius: 50%;\n",
              "      cursor: pointer;\n",
              "      display: none;\n",
              "      fill: #1967D2;\n",
              "      height: 32px;\n",
              "      padding: 0 0 0 0;\n",
              "      width: 32px;\n",
              "    }\n",
              "\n",
              "    .colab-df-convert:hover {\n",
              "      background-color: #E2EBFA;\n",
              "      box-shadow: 0px 1px 2px rgba(60, 64, 67, 0.3), 0px 1px 3px 1px rgba(60, 64, 67, 0.15);\n",
              "      fill: #174EA6;\n",
              "    }\n",
              "\n",
              "    [theme=dark] .colab-df-convert {\n",
              "      background-color: #3B4455;\n",
              "      fill: #D2E3FC;\n",
              "    }\n",
              "\n",
              "    [theme=dark] .colab-df-convert:hover {\n",
              "      background-color: #434B5C;\n",
              "      box-shadow: 0px 1px 3px 1px rgba(0, 0, 0, 0.15);\n",
              "      filter: drop-shadow(0px 1px 2px rgba(0, 0, 0, 0.3));\n",
              "      fill: #FFFFFF;\n",
              "    }\n",
              "  </style>\n",
              "\n",
              "      <script>\n",
              "        const buttonEl =\n",
              "          document.querySelector('#df-c4ac0060-9d74-4933-af79-f35306985cf9 button.colab-df-convert');\n",
              "        buttonEl.style.display =\n",
              "          google.colab.kernel.accessAllowed ? 'block' : 'none';\n",
              "\n",
              "        async function convertToInteractive(key) {\n",
              "          const element = document.querySelector('#df-c4ac0060-9d74-4933-af79-f35306985cf9');\n",
              "          const dataTable =\n",
              "            await google.colab.kernel.invokeFunction('convertToInteractive',\n",
              "                                                     [key], {});\n",
              "          if (!dataTable) return;\n",
              "\n",
              "          const docLinkHtml = 'Like what you see? Visit the ' +\n",
              "            '<a target=\"_blank\" href=https://colab.research.google.com/notebooks/data_table.ipynb>data table notebook</a>'\n",
              "            + ' to learn more about interactive tables.';\n",
              "          element.innerHTML = '';\n",
              "          dataTable['output_type'] = 'display_data';\n",
              "          await google.colab.output.renderOutput(dataTable, element);\n",
              "          const docLink = document.createElement('div');\n",
              "          docLink.innerHTML = docLinkHtml;\n",
              "          element.appendChild(docLink);\n",
              "        }\n",
              "      </script>\n",
              "    </div>\n",
              "  </div>\n",
              "  "
            ]
          },
          "metadata": {},
          "execution_count": 4
        }
      ],
      "source": [
        "# Wczytaj dane treningowe i testowe\n",
        "import numpy as np\n",
        "import matplotlib.pyplot as plt\n",
        "import pandas as pd\n",
        "\n",
        "train_set = pd.read_csv('https://raw.githubusercontent.com/przem85/podstawy_sztucznej_inteligencji/main/Dane/adult/adult.data', sep=\", \",header = None)\n",
        "test_set = pd.read_csv('https://raw.githubusercontent.com/przem85/podstawy_sztucznej_inteligencji/main/Dane/adult/adult.test', sep=\", \",skiprows = 1, header = None) # Make sure to skip a row for the test set\n",
        "\n",
        "col_labels = ['age', 'workclass', 'fnlwgt', 'education', 'education_num', 'marital_status', 'occupation', \n",
        "              'relationship', 'race', 'sex', 'capital_gain', 'capital_loss', 'hours_per_week', 'native_country',\n",
        "             'wage_class']\n",
        "train_set.columns = col_labels\n",
        "test_set.columns = col_labels\n",
        "\n",
        "train = train_set.replace('?', np.nan).dropna()\n",
        "test = test_set.replace('?', np.nan).dropna()\n",
        "\n",
        "train_set.head()\n"
      ]
    },
    {
      "cell_type": "markdown",
      "metadata": {
        "id": "z6ogU0GgOdDu"
      },
      "source": [
        "# Zad.\n",
        "Zróbmy szybki preprocesing"
      ]
    },
    {
      "cell_type": "code",
      "execution_count": 5,
      "metadata": {
        "id": "J549ag3lOdDx"
      },
      "outputs": [],
      "source": [
        "dataset = pd.concat([train,test])\n",
        "\n",
        "dataset['wage_class'] = dataset.wage_class.replace({'<=50K.': 0,'<=50K':0, '>50K.':1, '>50K':1})\n",
        "\n",
        "dataset.drop([\"fnlwgt\"],axis=1,inplace=True)\n",
        "\n",
        "dataset.drop([\"education\"],axis=1,inplace=True)\n",
        "\n",
        "x = dataset.groupby('native_country')[\"wage_class\"].mean()\n",
        "\n",
        "d = dict(pd.cut(x[x.index!=\" United-States\"],5,labels=range(5)))\n",
        "\n",
        "dataset['native_country'] = dataset['native_country'].replace(d)\n",
        "\n",
        "dataset = pd.get_dummies(dataset,drop_first=True)\n",
        "\n",
        "train = dataset.iloc[:train.shape[0]]\n",
        "test = dataset.iloc[train.shape[0]:]\n",
        "\n",
        "X_train = train.drop(\"wage_class\",axis=1)\n",
        "y_train = train.wage_class\n",
        "\n",
        "X_test = test.drop(\"wage_class\",axis=1)\n",
        "y_test = test.wage_class\n"
      ]
    },
    {
      "cell_type": "code",
      "execution_count": 6,
      "metadata": {
        "id": "U6BlgzfBOdDz"
      },
      "outputs": [],
      "source": [
        "from keras.callbacks import ModelCheckpoint"
      ]
    },
    {
      "cell_type": "code",
      "execution_count": null,
      "metadata": {
        "id": "u5Mx3_yEOdD1"
      },
      "outputs": [],
      "source": [
        ""
      ]
    },
    {
      "cell_type": "code",
      "execution_count": 7,
      "metadata": {
        "id": "SwZ_KPfbOdD1",
        "outputId": "1ae848c9-eda7-40b9-d368-c71aaffe13c8",
        "colab": {
          "base_uri": "https://localhost:8080/"
        }
      },
      "outputs": [
        {
          "output_type": "stream",
          "name": "stdout",
          "text": [
            "Model: \"sequential\"\n",
            "_________________________________________________________________\n",
            " Layer (type)                Output Shape              Param #   \n",
            "=================================================================\n",
            " dense (Dense)               (None, 100)               4200      \n",
            "                                                                 \n",
            " dense_1 (Dense)             (None, 50)                5050      \n",
            "                                                                 \n",
            " dense_2 (Dense)             (None, 10)                510       \n",
            "                                                                 \n",
            " dense_3 (Dense)             (None, 1)                 11        \n",
            "                                                                 \n",
            "=================================================================\n",
            "Total params: 9,771\n",
            "Trainable params: 9,771\n",
            "Non-trainable params: 0\n",
            "_________________________________________________________________\n"
          ]
        }
      ],
      "source": [
        "from keras.models import Sequential\n",
        "from keras.layers import Dense\n",
        "\n",
        "from keras.callbacks import History\n",
        "\n",
        "history = History()\n",
        "model = Sequential()\n",
        "model.add(Dense(100,activation=\"sigmoid\",input_shape=(X_train.shape[1],)))\n",
        "model.add(Dense(50,activation=\"sigmoid\"))\n",
        "model.add(Dense(10,activation=\"sigmoid\"))\n",
        "model.add(Dense(1,activation=\"sigmoid\"))\n",
        "model.summary()"
      ]
    },
    {
      "cell_type": "code",
      "execution_count": 8,
      "metadata": {
        "id": "1saXuQFVOdD5"
      },
      "outputs": [],
      "source": [
        "save_best_model = ModelCheckpoint(\"wagi_best.h5py\",save_best_only=True)\n",
        "model.compile(loss=\"binary_crossentropy\",optimizer=\"Adam\", metrics=[\"accuracy\"])"
      ]
    },
    {
      "cell_type": "code",
      "execution_count": 9,
      "metadata": {
        "id": "m2LvYyadOdD8",
        "outputId": "74f6cdc4-bf38-4e73-eaa4-7757411dca4d",
        "colab": {
          "base_uri": "https://localhost:8080/"
        }
      },
      "outputs": [
        {
          "output_type": "stream",
          "name": "stdout",
          "text": [
            "Epoch 1/100\n",
            "942/943 [============================>.] - ETA: 0s - loss: 0.5308 - accuracy: 0.7593INFO:tensorflow:Assets written to: wagi_best.h5py/assets\n",
            "943/943 [==============================] - 5s 4ms/step - loss: 0.5308 - accuracy: 0.7592 - val_loss: 0.4530 - val_accuracy: 0.7756\n",
            "Epoch 2/100\n",
            "943/943 [==============================] - ETA: 0s - loss: 0.4044 - accuracy: 0.8032INFO:tensorflow:Assets written to: wagi_best.h5py/assets\n",
            "943/943 [==============================] - 3s 3ms/step - loss: 0.4044 - accuracy: 0.8032 - val_loss: 0.3819 - val_accuracy: 0.8144\n",
            "Epoch 3/100\n",
            "932/943 [============================>.] - ETA: 0s - loss: 0.3828 - accuracy: 0.8104INFO:tensorflow:Assets written to: wagi_best.h5py/assets\n",
            "943/943 [==============================] - 3s 3ms/step - loss: 0.3827 - accuracy: 0.8104 - val_loss: 0.3767 - val_accuracy: 0.8086\n",
            "Epoch 4/100\n",
            "942/943 [============================>.] - ETA: 0s - loss: 0.3771 - accuracy: 0.8138INFO:tensorflow:Assets written to: wagi_best.h5py/assets\n",
            "943/943 [==============================] - 3s 4ms/step - loss: 0.3772 - accuracy: 0.8137 - val_loss: 0.3735 - val_accuracy: 0.8147\n",
            "Epoch 5/100\n",
            "943/943 [==============================] - 3s 3ms/step - loss: 0.3771 - accuracy: 0.8094 - val_loss: 0.3769 - val_accuracy: 0.8052\n",
            "Epoch 6/100\n",
            "943/943 [==============================] - 3s 3ms/step - loss: 0.3763 - accuracy: 0.8090 - val_loss: 0.3908 - val_accuracy: 0.7975\n",
            "Epoch 7/100\n",
            "928/943 [============================>.] - ETA: 0s - loss: 0.3729 - accuracy: 0.8134INFO:tensorflow:Assets written to: wagi_best.h5py/assets\n",
            "943/943 [==============================] - 3s 3ms/step - loss: 0.3730 - accuracy: 0.8135 - val_loss: 0.3697 - val_accuracy: 0.8137\n",
            "Epoch 8/100\n",
            "943/943 [==============================] - 3s 3ms/step - loss: 0.3726 - accuracy: 0.8122 - val_loss: 0.3702 - val_accuracy: 0.8100\n",
            "Epoch 9/100\n",
            "939/943 [============================>.] - ETA: 0s - loss: 0.3709 - accuracy: 0.8145INFO:tensorflow:Assets written to: wagi_best.h5py/assets\n",
            "943/943 [==============================] - 3s 3ms/step - loss: 0.3707 - accuracy: 0.8145 - val_loss: 0.3678 - val_accuracy: 0.8152\n",
            "Epoch 10/100\n",
            "943/943 [==============================] - 3s 3ms/step - loss: 0.3702 - accuracy: 0.8156 - val_loss: 0.3711 - val_accuracy: 0.8130\n",
            "Epoch 11/100\n",
            "943/943 [==============================] - 3s 3ms/step - loss: 0.3692 - accuracy: 0.8128 - val_loss: 0.3680 - val_accuracy: 0.8177\n",
            "Epoch 12/100\n",
            "943/943 [==============================] - 2s 3ms/step - loss: 0.3682 - accuracy: 0.8159 - val_loss: 0.3723 - val_accuracy: 0.8075\n",
            "Epoch 13/100\n",
            "940/943 [============================>.] - ETA: 0s - loss: 0.3685 - accuracy: 0.8131INFO:tensorflow:Assets written to: wagi_best.h5py/assets\n",
            "943/943 [==============================] - 7s 8ms/step - loss: 0.3682 - accuracy: 0.8134 - val_loss: 0.3674 - val_accuracy: 0.8158\n",
            "Epoch 14/100\n",
            "930/943 [============================>.] - ETA: 0s - loss: 0.3656 - accuracy: 0.8152INFO:tensorflow:Assets written to: wagi_best.h5py/assets\n",
            "943/943 [==============================] - 6s 7ms/step - loss: 0.3663 - accuracy: 0.8151 - val_loss: 0.3672 - val_accuracy: 0.8157\n",
            "Epoch 15/100\n",
            "940/943 [============================>.] - ETA: 0s - loss: 0.3662 - accuracy: 0.8157INFO:tensorflow:Assets written to: wagi_best.h5py/assets\n",
            "943/943 [==============================] - 6s 6ms/step - loss: 0.3660 - accuracy: 0.8159 - val_loss: 0.3658 - val_accuracy: 0.8161\n",
            "Epoch 16/100\n",
            "943/943 [==============================] - 3s 4ms/step - loss: 0.3659 - accuracy: 0.8162 - val_loss: 0.3812 - val_accuracy: 0.8026\n",
            "Epoch 17/100\n",
            "937/943 [============================>.] - ETA: 0s - loss: 0.3656 - accuracy: 0.8154INFO:tensorflow:Assets written to: wagi_best.h5py/assets\n",
            "943/943 [==============================] - 9s 10ms/step - loss: 0.3656 - accuracy: 0.8153 - val_loss: 0.3643 - val_accuracy: 0.8127\n",
            "Epoch 18/100\n",
            "943/943 [==============================] - 5s 5ms/step - loss: 0.3648 - accuracy: 0.8148 - val_loss: 0.3692 - val_accuracy: 0.8100\n",
            "Epoch 19/100\n",
            "943/943 [==============================] - 3s 4ms/step - loss: 0.3650 - accuracy: 0.8159 - val_loss: 0.3651 - val_accuracy: 0.8165\n",
            "Epoch 20/100\n",
            "943/943 [==============================] - 6s 6ms/step - loss: 0.3648 - accuracy: 0.8154 - val_loss: 0.3699 - val_accuracy: 0.8098\n",
            "Epoch 21/100\n",
            "943/943 [==============================] - 4s 4ms/step - loss: 0.3641 - accuracy: 0.8155 - val_loss: 0.3716 - val_accuracy: 0.8130\n",
            "Epoch 22/100\n",
            "943/943 [==============================] - 6s 6ms/step - loss: 0.3651 - accuracy: 0.8156 - val_loss: 0.4015 - val_accuracy: 0.7901\n",
            "Epoch 23/100\n",
            "943/943 [==============================] - 5s 5ms/step - loss: 0.3664 - accuracy: 0.8152 - val_loss: 0.3652 - val_accuracy: 0.8182\n",
            "Epoch 24/100\n",
            "943/943 [==============================] - 4s 5ms/step - loss: 0.3633 - accuracy: 0.8159 - val_loss: 0.3647 - val_accuracy: 0.8166\n",
            "Epoch 25/100\n",
            "943/943 [==============================] - 3s 4ms/step - loss: 0.3637 - accuracy: 0.8161 - val_loss: 0.3662 - val_accuracy: 0.8143\n",
            "Epoch 26/100\n",
            "943/943 [==============================] - 3s 3ms/step - loss: 0.3625 - accuracy: 0.8173 - val_loss: 0.3706 - val_accuracy: 0.8179\n",
            "Epoch 27/100\n",
            "935/943 [============================>.] - ETA: 0s - loss: 0.3630 - accuracy: 0.8172INFO:tensorflow:Assets written to: wagi_best.h5py/assets\n",
            "943/943 [==============================] - 3s 3ms/step - loss: 0.3629 - accuracy: 0.8171 - val_loss: 0.3619 - val_accuracy: 0.8171\n",
            "Epoch 28/100\n",
            "943/943 [==============================] - 3s 3ms/step - loss: 0.3627 - accuracy: 0.8170 - val_loss: 0.3680 - val_accuracy: 0.8189\n",
            "Epoch 29/100\n",
            "943/943 [==============================] - 3s 3ms/step - loss: 0.3641 - accuracy: 0.8168 - val_loss: 0.3713 - val_accuracy: 0.8143\n",
            "Epoch 30/100\n",
            "943/943 [==============================] - 3s 3ms/step - loss: 0.3643 - accuracy: 0.8163 - val_loss: 0.3652 - val_accuracy: 0.8139\n",
            "Epoch 31/100\n",
            "943/943 [==============================] - 3s 3ms/step - loss: 0.3632 - accuracy: 0.8168 - val_loss: 0.3656 - val_accuracy: 0.8176\n",
            "Epoch 32/100\n",
            "943/943 [==============================] - 3s 3ms/step - loss: 0.3631 - accuracy: 0.8174 - val_loss: 0.3639 - val_accuracy: 0.8155\n",
            "Epoch 33/100\n",
            "943/943 [==============================] - 2s 3ms/step - loss: 0.3620 - accuracy: 0.8158 - val_loss: 0.3627 - val_accuracy: 0.8189\n",
            "Epoch 34/100\n",
            "943/943 [==============================] - 3s 3ms/step - loss: 0.3613 - accuracy: 0.8165 - val_loss: 0.3631 - val_accuracy: 0.8169\n",
            "Epoch 35/100\n",
            "943/943 [==============================] - 2s 3ms/step - loss: 0.3642 - accuracy: 0.8156 - val_loss: 0.3687 - val_accuracy: 0.8146\n",
            "Epoch 36/100\n",
            "943/943 [==============================] - 2s 3ms/step - loss: 0.3637 - accuracy: 0.8142 - val_loss: 0.3763 - val_accuracy: 0.8119\n",
            "Epoch 37/100\n",
            "943/943 [==============================] - 2s 3ms/step - loss: 0.3627 - accuracy: 0.8171 - val_loss: 0.3642 - val_accuracy: 0.8203\n",
            "Epoch 38/100\n",
            "943/943 [==============================] - 3s 3ms/step - loss: 0.3607 - accuracy: 0.8171 - val_loss: 0.3632 - val_accuracy: 0.8179\n",
            "Epoch 39/100\n",
            "943/943 [==============================] - 3s 3ms/step - loss: 0.3618 - accuracy: 0.8182 - val_loss: 0.3630 - val_accuracy: 0.8194\n",
            "Epoch 40/100\n",
            "943/943 [==============================] - 3s 3ms/step - loss: 0.3609 - accuracy: 0.8166 - val_loss: 0.3627 - val_accuracy: 0.8208\n",
            "Epoch 41/100\n",
            "943/943 [==============================] - 3s 3ms/step - loss: 0.3629 - accuracy: 0.8165 - val_loss: 0.3663 - val_accuracy: 0.8163\n",
            "Epoch 42/100\n",
            "943/943 [==============================] - 3s 3ms/step - loss: 0.3611 - accuracy: 0.8189 - val_loss: 0.3666 - val_accuracy: 0.8182\n",
            "Epoch 43/100\n",
            "943/943 [==============================] - 3s 3ms/step - loss: 0.3611 - accuracy: 0.8175 - val_loss: 0.3637 - val_accuracy: 0.8166\n",
            "Epoch 44/100\n",
            "943/943 [==============================] - 3s 3ms/step - loss: 0.3646 - accuracy: 0.8174 - val_loss: 0.3712 - val_accuracy: 0.8131\n",
            "Epoch 45/100\n",
            "943/943 [==============================] - 3s 3ms/step - loss: 0.3604 - accuracy: 0.8180 - val_loss: 0.3646 - val_accuracy: 0.8181\n",
            "Epoch 46/100\n",
            "943/943 [==============================] - 3s 3ms/step - loss: 0.3601 - accuracy: 0.8184 - val_loss: 0.3633 - val_accuracy: 0.8170\n",
            "Epoch 47/100\n",
            "943/943 [==============================] - 3s 3ms/step - loss: 0.3592 - accuracy: 0.8190 - val_loss: 0.3700 - val_accuracy: 0.8118\n",
            "Epoch 48/100\n",
            "933/943 [============================>.] - ETA: 0s - loss: 0.3596 - accuracy: 0.8190INFO:tensorflow:Assets written to: wagi_best.h5py/assets\n",
            "943/943 [==============================] - 3s 3ms/step - loss: 0.3598 - accuracy: 0.8186 - val_loss: 0.3613 - val_accuracy: 0.8174\n",
            "Epoch 49/100\n",
            "943/943 [==============================] - 3s 3ms/step - loss: 0.3589 - accuracy: 0.8186 - val_loss: 0.3663 - val_accuracy: 0.8146\n",
            "Epoch 50/100\n",
            "943/943 [==============================] - 2s 3ms/step - loss: 0.3587 - accuracy: 0.8207 - val_loss: 0.3628 - val_accuracy: 0.8171\n",
            "Epoch 51/100\n",
            "943/943 [==============================] - 3s 3ms/step - loss: 0.3579 - accuracy: 0.8194 - val_loss: 0.3641 - val_accuracy: 0.8196\n",
            "Epoch 52/100\n",
            "925/943 [============================>.] - ETA: 0s - loss: 0.3567 - accuracy: 0.8201INFO:tensorflow:Assets written to: wagi_best.h5py/assets\n",
            "943/943 [==============================] - 4s 4ms/step - loss: 0.3571 - accuracy: 0.8200 - val_loss: 0.3609 - val_accuracy: 0.8192\n",
            "Epoch 53/100\n",
            "943/943 [==============================] - 3s 3ms/step - loss: 0.3588 - accuracy: 0.8191 - val_loss: 0.3614 - val_accuracy: 0.8172\n",
            "Epoch 54/100\n",
            "943/943 [==============================] - 2s 3ms/step - loss: 0.3583 - accuracy: 0.8196 - val_loss: 0.3611 - val_accuracy: 0.8202\n",
            "Epoch 55/100\n",
            "943/943 [==============================] - 2s 3ms/step - loss: 0.3573 - accuracy: 0.8202 - val_loss: 0.3646 - val_accuracy: 0.8135\n",
            "Epoch 56/100\n",
            "943/943 [==============================] - 2s 3ms/step - loss: 0.3568 - accuracy: 0.8194 - val_loss: 0.3619 - val_accuracy: 0.8172\n",
            "Epoch 57/100\n",
            "927/943 [============================>.] - ETA: 0s - loss: 0.3576 - accuracy: 0.8205INFO:tensorflow:Assets written to: wagi_best.h5py/assets\n",
            "943/943 [==============================] - 3s 3ms/step - loss: 0.3577 - accuracy: 0.8206 - val_loss: 0.3603 - val_accuracy: 0.8193\n",
            "Epoch 58/100\n",
            "926/943 [============================>.] - ETA: 0s - loss: 0.3540 - accuracy: 0.8235INFO:tensorflow:Assets written to: wagi_best.h5py/assets\n",
            "943/943 [==============================] - 3s 3ms/step - loss: 0.3543 - accuracy: 0.8234 - val_loss: 0.3554 - val_accuracy: 0.8216\n",
            "Epoch 59/100\n",
            "943/943 [==============================] - 3s 3ms/step - loss: 0.3472 - accuracy: 0.8326 - val_loss: 0.3581 - val_accuracy: 0.8145\n",
            "Epoch 60/100\n",
            "943/943 [==============================] - 3s 3ms/step - loss: 0.3581 - accuracy: 0.8190 - val_loss: 0.3625 - val_accuracy: 0.8183\n",
            "Epoch 61/100\n",
            "943/943 [==============================] - 3s 3ms/step - loss: 0.3600 - accuracy: 0.8190 - val_loss: 0.3681 - val_accuracy: 0.8124\n",
            "Epoch 62/100\n",
            "943/943 [==============================] - 2s 3ms/step - loss: 0.3670 - accuracy: 0.8162 - val_loss: 0.3641 - val_accuracy: 0.8177\n",
            "Epoch 63/100\n",
            "943/943 [==============================] - 3s 3ms/step - loss: 0.3631 - accuracy: 0.8170 - val_loss: 0.3743 - val_accuracy: 0.8141\n",
            "Epoch 64/100\n",
            "943/943 [==============================] - 3s 3ms/step - loss: 0.3607 - accuracy: 0.8186 - val_loss: 0.3630 - val_accuracy: 0.8184\n",
            "Epoch 65/100\n",
            "943/943 [==============================] - 3s 3ms/step - loss: 0.3605 - accuracy: 0.8191 - val_loss: 0.3647 - val_accuracy: 0.8186\n",
            "Epoch 66/100\n",
            "943/943 [==============================] - 3s 3ms/step - loss: 0.3610 - accuracy: 0.8179 - val_loss: 0.3647 - val_accuracy: 0.8166\n",
            "Epoch 67/100\n",
            "943/943 [==============================] - 3s 3ms/step - loss: 0.3592 - accuracy: 0.8199 - val_loss: 0.3609 - val_accuracy: 0.8193\n",
            "Epoch 68/100\n",
            "943/943 [==============================] - 3s 3ms/step - loss: 0.3578 - accuracy: 0.8201 - val_loss: 0.3616 - val_accuracy: 0.8195\n",
            "Epoch 69/100\n",
            "943/943 [==============================] - 3s 3ms/step - loss: 0.3574 - accuracy: 0.8204 - val_loss: 0.3640 - val_accuracy: 0.8174\n",
            "Epoch 70/100\n",
            "943/943 [==============================] - 3s 3ms/step - loss: 0.3571 - accuracy: 0.8211 - val_loss: 0.3624 - val_accuracy: 0.8187\n",
            "Epoch 71/100\n",
            "943/943 [==============================] - 3s 3ms/step - loss: 0.3581 - accuracy: 0.8210 - val_loss: 0.3613 - val_accuracy: 0.8207\n",
            "Epoch 72/100\n",
            "943/943 [==============================] - 3s 3ms/step - loss: 0.3578 - accuracy: 0.8200 - val_loss: 0.3640 - val_accuracy: 0.8178\n",
            "Epoch 73/100\n",
            "943/943 [==============================] - 3s 3ms/step - loss: 0.3579 - accuracy: 0.8206 - val_loss: 0.3615 - val_accuracy: 0.8179\n",
            "Epoch 74/100\n",
            "943/943 [==============================] - 3s 3ms/step - loss: 0.3573 - accuracy: 0.8186 - val_loss: 0.3599 - val_accuracy: 0.8204\n",
            "Epoch 75/100\n",
            "943/943 [==============================] - 3s 3ms/step - loss: 0.3565 - accuracy: 0.8203 - val_loss: 0.3831 - val_accuracy: 0.8094\n",
            "Epoch 76/100\n",
            "943/943 [==============================] - 2s 3ms/step - loss: 0.3567 - accuracy: 0.8195 - val_loss: 0.3649 - val_accuracy: 0.8141\n",
            "Epoch 77/100\n",
            "943/943 [==============================] - 3s 3ms/step - loss: 0.3561 - accuracy: 0.8217 - val_loss: 0.3633 - val_accuracy: 0.8187\n",
            "Epoch 78/100\n",
            "943/943 [==============================] - 3s 3ms/step - loss: 0.3570 - accuracy: 0.8199 - val_loss: 0.3611 - val_accuracy: 0.8201\n",
            "Epoch 79/100\n",
            "943/943 [==============================] - 3s 3ms/step - loss: 0.3556 - accuracy: 0.8215 - val_loss: 0.3628 - val_accuracy: 0.8184\n",
            "Epoch 80/100\n",
            "943/943 [==============================] - 3s 3ms/step - loss: 0.3554 - accuracy: 0.8210 - val_loss: 0.3611 - val_accuracy: 0.8170\n",
            "Epoch 81/100\n",
            "943/943 [==============================] - 2s 3ms/step - loss: 0.3582 - accuracy: 0.8180 - val_loss: 0.3610 - val_accuracy: 0.8173\n",
            "Epoch 82/100\n",
            "943/943 [==============================] - 2s 3ms/step - loss: 0.3562 - accuracy: 0.8205 - val_loss: 0.3654 - val_accuracy: 0.8159\n",
            "Epoch 83/100\n",
            "943/943 [==============================] - 3s 3ms/step - loss: 0.3566 - accuracy: 0.8212 - val_loss: 0.3622 - val_accuracy: 0.8159\n",
            "Epoch 84/100\n",
            "943/943 [==============================] - 3s 3ms/step - loss: 0.3568 - accuracy: 0.8222 - val_loss: 0.3639 - val_accuracy: 0.8140\n",
            "Epoch 85/100\n",
            "943/943 [==============================] - 3s 3ms/step - loss: 0.3559 - accuracy: 0.8203 - val_loss: 0.3604 - val_accuracy: 0.8190\n",
            "Epoch 86/100\n",
            "943/943 [==============================] - 3s 4ms/step - loss: 0.3559 - accuracy: 0.8198 - val_loss: 0.3618 - val_accuracy: 0.8169\n",
            "Epoch 87/100\n",
            "943/943 [==============================] - 3s 3ms/step - loss: 0.3559 - accuracy: 0.8185 - val_loss: 0.3640 - val_accuracy: 0.8187\n",
            "Epoch 88/100\n",
            "943/943 [==============================] - 3s 3ms/step - loss: 0.3559 - accuracy: 0.8207 - val_loss: 0.3695 - val_accuracy: 0.8089\n",
            "Epoch 89/100\n",
            "943/943 [==============================] - 3s 3ms/step - loss: 0.3578 - accuracy: 0.8184 - val_loss: 0.3645 - val_accuracy: 0.8149\n",
            "Epoch 90/100\n",
            "943/943 [==============================] - 3s 3ms/step - loss: 0.3553 - accuracy: 0.8211 - val_loss: 0.3612 - val_accuracy: 0.8173\n",
            "Epoch 91/100\n",
            "943/943 [==============================] - 3s 3ms/step - loss: 0.3556 - accuracy: 0.8215 - val_loss: 0.3616 - val_accuracy: 0.8176\n",
            "Epoch 92/100\n",
            "943/943 [==============================] - 3s 3ms/step - loss: 0.3567 - accuracy: 0.8218 - val_loss: 0.3623 - val_accuracy: 0.8189\n",
            "Epoch 93/100\n",
            "943/943 [==============================] - 3s 3ms/step - loss: 0.3550 - accuracy: 0.8221 - val_loss: 0.3661 - val_accuracy: 0.8189\n",
            "Epoch 94/100\n",
            "943/943 [==============================] - 3s 3ms/step - loss: 0.3556 - accuracy: 0.8212 - val_loss: 0.3652 - val_accuracy: 0.8195\n",
            "Epoch 95/100\n",
            "943/943 [==============================] - 3s 3ms/step - loss: 0.3552 - accuracy: 0.8197 - val_loss: 0.3708 - val_accuracy: 0.8078\n",
            "Epoch 96/100\n",
            "943/943 [==============================] - 3s 3ms/step - loss: 0.3549 - accuracy: 0.8193 - val_loss: 0.3664 - val_accuracy: 0.8183\n",
            "Epoch 97/100\n",
            "943/943 [==============================] - 3s 3ms/step - loss: 0.3551 - accuracy: 0.8199 - val_loss: 0.3643 - val_accuracy: 0.8147\n",
            "Epoch 98/100\n",
            "943/943 [==============================] - 3s 3ms/step - loss: 0.3550 - accuracy: 0.8170 - val_loss: 0.3627 - val_accuracy: 0.8177\n",
            "Epoch 99/100\n",
            "943/943 [==============================] - 3s 3ms/step - loss: 0.3543 - accuracy: 0.8211 - val_loss: 0.3618 - val_accuracy: 0.8167\n",
            "Epoch 100/100\n",
            "943/943 [==============================] - 3s 3ms/step - loss: 0.3544 - accuracy: 0.8209 - val_loss: 0.3642 - val_accuracy: 0.8147\n"
          ]
        }
      ],
      "source": [
        "save_best_model = ModelCheckpoint(\"wagi_best.h5py\",save_best_only=True)\n",
        "history = model.fit(X_train, y_train, validation_data= (X_test, y_test), batch_size=32,epochs=100, callbacks=[save_best_model])"
      ]
    },
    {
      "cell_type": "code",
      "execution_count": 10,
      "metadata": {
        "id": "KI8w-a1hOdD_",
        "outputId": "b74a3ccb-3508-452d-ba18-0bef2bb13d88",
        "colab": {
          "base_uri": "https://localhost:8080/",
          "height": 324
        }
      },
      "outputs": [
        {
          "output_type": "display_data",
          "data": {
            "text/plain": [
              "<Figure size 576x360 with 1 Axes>"
            ],
            "image/png": "[encoded data removed]"
          },
          "metadata": {
            "needs_background": "light"
          }
        }
      ],
      "source": [
        "import pandas as pd\n",
        "\n",
        "pd.DataFrame(history.history).plot(figsize=(8, 5))\n",
        "plt.grid(True)\n",
        "plt.gca().set_ylim(0, 1)\n",
        "plt.show()"
      ]
    },
    {
      "cell_type": "code",
      "execution_count": 11,
      "metadata": {
        "id": "oFHvKWKPOdEC",
        "outputId": "fcc7c085-e2d4-4203-a662-42f20da0ba36",
        "colab": {
          "base_uri": "https://localhost:8080/"
        }
      },
      "outputs": [
        {
          "output_type": "stream",
          "name": "stdout",
          "text": [
            "471/471 [==============================] - 1s 2ms/step - loss: 0.3642 - accuracy: 0.8147\n"
          ]
        },
        {
          "output_type": "execute_result",
          "data": {
            "text/plain": [
              "[0.36422252655029297, 0.8146746158599854]"
            ]
          },
          "metadata": {},
          "execution_count": 11
        }
      ],
      "source": [
        "model.evaluate(X_test,y_test)"
      ]
    },
    {
      "cell_type": "code",
      "execution_count": 13,
      "metadata": {
        "id": "eio1FEVWOdEF",
        "outputId": "2eaede2e-3c1a-48bb-803d-8e29ae769309",
        "colab": {
          "base_uri": "https://localhost:8080/"
        }
      },
      "outputs": [
        {
          "output_type": "execute_result",
          "data": {
            "text/plain": [
              "0.7543160690571049"
            ]
          },
          "metadata": {},
          "execution_count": 13
        }
      ],
      "source": [
        "from sklearn import  metrics\n",
        "metrics.accuracy_score(y_true= y_test, y_pred= np.argmax(model.predict(X_test),axis=1) )"
      ]
    },
    {
      "cell_type": "markdown",
      "metadata": {
        "id": "k4a--4btOdEG"
      },
      "source": [
        "# Zad\n",
        "\n",
        "Wczytaj nauczony model"
      ]
    },
    {
      "cell_type": "code",
      "execution_count": 14,
      "metadata": {
        "id": "JMDEhazHOdEI",
        "outputId": "6633c36a-c443-42fd-8008-80ad4b26b89f",
        "colab": {
          "base_uri": "https://localhost:8080/"
        }
      },
      "outputs": [
        {
          "output_type": "stream",
          "name": "stdout",
          "text": [
            "471/471 [==============================] - 1s 1ms/step - loss: 0.3554 - accuracy: 0.8216\n"
          ]
        },
        {
          "output_type": "execute_result",
          "data": {
            "text/plain": [
              "[0.35536232590675354, 0.8216467499732971]"
            ]
          },
          "metadata": {},
          "execution_count": 14
        }
      ],
      "source": [
        "model.load_weights(\"wagi_best.h5py\")\n",
        "model.evaluate(X_test,y_test)"
      ]
    },
    {
      "cell_type": "markdown",
      "metadata": {
        "id": "aB2CK6kwOdEK"
      },
      "source": [
        "# Zad\n",
        "\n",
        "* Naucz dowolny model na zbiorze MNIST.\n",
        "* Zapisz optymalne parametry uczenia do pliku\n",
        "* Wczytaj dane z pliku"
      ]
    },
    {
      "cell_type": "code",
      "execution_count": 15,
      "metadata": {
        "id": "-sj1C50TOdEK",
        "outputId": "905f293d-e633-4e7c-80fc-2b2869180cf0",
        "colab": {
          "base_uri": "https://localhost:8080/"
        }
      },
      "outputs": [
        {
          "output_type": "stream",
          "name": "stdout",
          "text": [
            "Downloading data from https://storage.googleapis.com/tensorflow/tf-keras-datasets/mnist.npz\n",
            "11493376/11490434 [==============================] - 0s 0us/step\n",
            "11501568/11490434 [==============================] - 0s 0us/step\n",
            "Model: \"sequential\"\n",
            "_________________________________________________________________\n",
            " Layer (type)                Output Shape              Param #   \n",
            "=================================================================\n",
            " flatten (Flatten)           (None, 784)               0         \n",
            "                                                                 \n",
            " dense (Dense)               (None, 300)               235500    \n",
            "                                                                 \n",
            " dense_1 (Dense)             (None, 100)               30100     \n",
            "                                                                 \n",
            " dense_2 (Dense)             (None, 10)                1010      \n",
            "                                                                 \n",
            "=================================================================\n",
            "Total params: 266,610\n",
            "Trainable params: 266,610\n",
            "Non-trainable params: 0\n",
            "_________________________________________________________________\n"
          ]
        }
      ],
      "source": [
        "(X_train_full, y_train_full), (X_test, y_test) = keras.datasets.mnist.load_data()\n",
        "\n",
        "X_valid, X_train = X_train_full[:5000] / 255., X_train_full[5000:] / 255.\n",
        "y_valid, y_train = y_train_full[:5000], y_train_full[5000:]\n",
        "X_test = X_test / 255.\n",
        "\n",
        "from keras.utils import np_utils\n",
        "\n",
        "y_train = np_utils.to_categorical(y_train)\n",
        "y_test = np_utils.to_categorical(y_test)\n",
        "\n",
        "y_valid = np_utils.to_categorical(y_valid)\n",
        "\n",
        "keras.backend.clear_session()\n",
        "np.random.seed(42)\n",
        "tf.random.set_seed(42)\n",
        "\n",
        "model1 = keras.models.Sequential([\n",
        "    keras.layers.Flatten(input_shape=[28, 28]),\n",
        "    keras.layers.Dense(300, activation=\"relu\"),\n",
        "    keras.layers.Dense(100, activation=\"relu\"),\n",
        "    keras.layers.Dense(10, activation=\"softmax\")\n",
        "])\n",
        "\n",
        "model1.summary()\n",
        "save_best_model = ModelCheckpoint(\"wagi_best1.h5py\",save_best_only=True)\n",
        "model1.compile(loss=\"categorical_crossentropy\",\n",
        "              optimizer=\"sgd\",\n",
        "              metrics=[\"accuracy\"])"
      ]
    },
    {
      "cell_type": "code",
      "source": [
        "save_best_model = ModelCheckpoint(\"wagi_best1.h5py\",save_best_only=True)\n",
        "history1 = model1.fit(X_train, y_train, epochs=30, validation_data=(X_valid, y_valid), callbacks=[save_best_model])"
      ],
      "metadata": {
        "id": "mRdu70PHO9AK",
        "outputId": "1f2cc114-4d61-480c-9cd3-ef2965ef6f05",
        "colab": {
          "base_uri": "https://localhost:8080/"
        }
      },
      "execution_count": 16,
      "outputs": [
        {
          "output_type": "stream",
          "name": "stdout",
          "text": [
            "Epoch 1/30\n",
            "1709/1719 [============================>.] - ETA: 0s - loss: 0.6212 - accuracy: 0.8401INFO:tensorflow:Assets written to: wagi_best1.h5py/assets\n",
            "1719/1719 [==============================] - 8s 5ms/step - loss: 0.6197 - accuracy: 0.8405 - val_loss: 0.3103 - val_accuracy: 0.9120\n",
            "Epoch 2/30\n",
            "1709/1719 [============================>.] - ETA: 0s - loss: 0.2952 - accuracy: 0.9152INFO:tensorflow:Assets written to: wagi_best1.h5py/assets\n",
            "1719/1719 [==============================] - 7s 4ms/step - loss: 0.2953 - accuracy: 0.9151 - val_loss: 0.2473 - val_accuracy: 0.9302\n",
            "Epoch 3/30\n",
            "1717/1719 [============================>.] - ETA: 0s - loss: 0.2430 - accuracy: 0.9304INFO:tensorflow:Assets written to: wagi_best1.h5py/assets\n",
            "1719/1719 [==============================] - 7s 4ms/step - loss: 0.2429 - accuracy: 0.9304 - val_loss: 0.2060 - val_accuracy: 0.9424\n",
            "Epoch 4/30\n",
            "1717/1719 [============================>.] - ETA: 0s - loss: 0.2074 - accuracy: 0.9406INFO:tensorflow:Assets written to: wagi_best1.h5py/assets\n",
            "1719/1719 [==============================] - 7s 4ms/step - loss: 0.2074 - accuracy: 0.9406 - val_loss: 0.1823 - val_accuracy: 0.9494\n",
            "Epoch 5/30\n",
            "1711/1719 [============================>.] - ETA: 0s - loss: 0.1810 - accuracy: 0.9488INFO:tensorflow:Assets written to: wagi_best1.h5py/assets\n",
            "1719/1719 [==============================] - 7s 4ms/step - loss: 0.1810 - accuracy: 0.9487 - val_loss: 0.1644 - val_accuracy: 0.9540\n",
            "Epoch 6/30\n",
            "1717/1719 [============================>.] - ETA: 0s - loss: 0.1603 - accuracy: 0.9544INFO:tensorflow:Assets written to: wagi_best1.h5py/assets\n",
            "1719/1719 [==============================] - 7s 4ms/step - loss: 0.1603 - accuracy: 0.9544 - val_loss: 0.1482 - val_accuracy: 0.9600\n",
            "Epoch 7/30\n",
            "1714/1719 [============================>.] - ETA: 0s - loss: 0.1431 - accuracy: 0.9597INFO:tensorflow:Assets written to: wagi_best1.h5py/assets\n",
            "1719/1719 [==============================] - 7s 4ms/step - loss: 0.1431 - accuracy: 0.9597 - val_loss: 0.1366 - val_accuracy: 0.9632\n",
            "Epoch 8/30\n",
            "1709/1719 [============================>.] - ETA: 0s - loss: 0.1291 - accuracy: 0.9632INFO:tensorflow:Assets written to: wagi_best1.h5py/assets\n",
            "1719/1719 [==============================] - 7s 4ms/step - loss: 0.1292 - accuracy: 0.9631 - val_loss: 0.1295 - val_accuracy: 0.9638\n",
            "Epoch 9/30\n",
            "1714/1719 [============================>.] - ETA: 0s - loss: 0.1176 - accuracy: 0.9672INFO:tensorflow:Assets written to: wagi_best1.h5py/assets\n",
            "1719/1719 [==============================] - 7s 4ms/step - loss: 0.1175 - accuracy: 0.9672 - val_loss: 0.1184 - val_accuracy: 0.9672\n",
            "Epoch 10/30\n",
            "1712/1719 [============================>.] - ETA: 0s - loss: 0.1079 - accuracy: 0.9696INFO:tensorflow:Assets written to: wagi_best1.h5py/assets\n",
            "1719/1719 [==============================] - 7s 4ms/step - loss: 0.1078 - accuracy: 0.9696 - val_loss: 0.1091 - val_accuracy: 0.9688\n",
            "Epoch 11/30\n",
            "1710/1719 [============================>.] - ETA: 0s - loss: 0.0988 - accuracy: 0.9720INFO:tensorflow:Assets written to: wagi_best1.h5py/assets\n",
            "1719/1719 [==============================] - 7s 4ms/step - loss: 0.0988 - accuracy: 0.9719 - val_loss: 0.1049 - val_accuracy: 0.9694\n",
            "Epoch 12/30\n",
            "1716/1719 [============================>.] - ETA: 0s - loss: 0.0911 - accuracy: 0.9746INFO:tensorflow:Assets written to: wagi_best1.h5py/assets\n",
            "1719/1719 [==============================] - 8s 4ms/step - loss: 0.0912 - accuracy: 0.9745 - val_loss: 0.1005 - val_accuracy: 0.9706\n",
            "Epoch 13/30\n",
            "1716/1719 [============================>.] - ETA: 0s - loss: 0.0841 - accuracy: 0.9763INFO:tensorflow:Assets written to: wagi_best1.h5py/assets\n",
            "1719/1719 [==============================] - 7s 4ms/step - loss: 0.0844 - accuracy: 0.9763 - val_loss: 0.0948 - val_accuracy: 0.9730\n",
            "Epoch 14/30\n",
            "1712/1719 [============================>.] - ETA: 0s - loss: 0.0781 - accuracy: 0.9780INFO:tensorflow:Assets written to: wagi_best1.h5py/assets\n",
            "1719/1719 [==============================] - 7s 4ms/step - loss: 0.0782 - accuracy: 0.9779 - val_loss: 0.0921 - val_accuracy: 0.9736\n",
            "Epoch 15/30\n",
            "1709/1719 [============================>.] - ETA: 0s - loss: 0.0725 - accuracy: 0.9794INFO:tensorflow:Assets written to: wagi_best1.h5py/assets\n",
            "1719/1719 [==============================] - 7s 4ms/step - loss: 0.0727 - accuracy: 0.9794 - val_loss: 0.0876 - val_accuracy: 0.9730\n",
            "Epoch 16/30\n",
            "1711/1719 [============================>.] - ETA: 0s - loss: 0.0679 - accuracy: 0.9805INFO:tensorflow:Assets written to: wagi_best1.h5py/assets\n",
            "1719/1719 [==============================] - 7s 4ms/step - loss: 0.0678 - accuracy: 0.9805 - val_loss: 0.0860 - val_accuracy: 0.9740\n",
            "Epoch 17/30\n",
            "1709/1719 [============================>.] - ETA: 0s - loss: 0.0634 - accuracy: 0.9822INFO:tensorflow:Assets written to: wagi_best1.h5py/assets\n",
            "1719/1719 [==============================] - 7s 4ms/step - loss: 0.0633 - accuracy: 0.9823 - val_loss: 0.0833 - val_accuracy: 0.9752\n",
            "Epoch 18/30\n",
            "1719/1719 [==============================] - ETA: 0s - loss: 0.0593 - accuracy: 0.9835INFO:tensorflow:Assets written to: wagi_best1.h5py/assets\n",
            "1719/1719 [==============================] - 7s 4ms/step - loss: 0.0593 - accuracy: 0.9835 - val_loss: 0.0798 - val_accuracy: 0.9764\n",
            "Epoch 19/30\n",
            "1711/1719 [============================>.] - ETA: 0s - loss: 0.0556 - accuracy: 0.9850INFO:tensorflow:Assets written to: wagi_best1.h5py/assets\n",
            "1719/1719 [==============================] - 7s 4ms/step - loss: 0.0556 - accuracy: 0.9850 - val_loss: 0.0781 - val_accuracy: 0.9772\n",
            "Epoch 20/30\n",
            "1718/1719 [============================>.] - ETA: 0s - loss: 0.0521 - accuracy: 0.9860INFO:tensorflow:Assets written to: wagi_best1.h5py/assets\n",
            "1719/1719 [==============================] - 7s 4ms/step - loss: 0.0520 - accuracy: 0.9860 - val_loss: 0.0773 - val_accuracy: 0.9762\n",
            "Epoch 21/30\n",
            "1710/1719 [============================>.] - ETA: 0s - loss: 0.0489 - accuracy: 0.9869INFO:tensorflow:Assets written to: wagi_best1.h5py/assets\n",
            "1719/1719 [==============================] - 7s 4ms/step - loss: 0.0489 - accuracy: 0.9868 - val_loss: 0.0735 - val_accuracy: 0.9784\n",
            "Epoch 22/30\n",
            "1719/1719 [==============================] - 7s 4ms/step - loss: 0.0459 - accuracy: 0.9877 - val_loss: 0.0741 - val_accuracy: 0.9780\n",
            "Epoch 23/30\n",
            "1719/1719 [==============================] - 7s 4ms/step - loss: 0.0432 - accuracy: 0.9884 - val_loss: 0.0755 - val_accuracy: 0.9772\n",
            "Epoch 24/30\n",
            "1714/1719 [============================>.] - ETA: 0s - loss: 0.0404 - accuracy: 0.9894INFO:tensorflow:Assets written to: wagi_best1.h5py/assets\n",
            "1719/1719 [==============================] - 7s 4ms/step - loss: 0.0405 - accuracy: 0.9893 - val_loss: 0.0726 - val_accuracy: 0.9774\n",
            "Epoch 25/30\n",
            "1718/1719 [============================>.] - ETA: 0s - loss: 0.0385 - accuracy: 0.9901INFO:tensorflow:Assets written to: wagi_best1.h5py/assets\n",
            "1719/1719 [==============================] - 7s 4ms/step - loss: 0.0384 - accuracy: 0.9901 - val_loss: 0.0705 - val_accuracy: 0.9792\n",
            "Epoch 26/30\n",
            "1707/1719 [============================>.] - ETA: 0s - loss: 0.0360 - accuracy: 0.9910INFO:tensorflow:Assets written to: wagi_best1.h5py/assets\n",
            "1719/1719 [==============================] - 7s 4ms/step - loss: 0.0361 - accuracy: 0.9910 - val_loss: 0.0678 - val_accuracy: 0.9798\n",
            "Epoch 27/30\n",
            "1714/1719 [============================>.] - ETA: 0s - loss: 0.0341 - accuracy: 0.9916INFO:tensorflow:Assets written to: wagi_best1.h5py/assets\n",
            "1719/1719 [==============================] - 7s 4ms/step - loss: 0.0341 - accuracy: 0.9916 - val_loss: 0.0671 - val_accuracy: 0.9806\n",
            "Epoch 28/30\n",
            "1719/1719 [==============================] - 8s 5ms/step - loss: 0.0322 - accuracy: 0.9922 - val_loss: 0.0690 - val_accuracy: 0.9804\n",
            "Epoch 29/30\n",
            "1719/1719 [==============================] - 7s 4ms/step - loss: 0.0301 - accuracy: 0.9932 - val_loss: 0.0674 - val_accuracy: 0.9792\n",
            "Epoch 30/30\n",
            "1719/1719 [==============================] - 7s 4ms/step - loss: 0.0286 - accuracy: 0.9935 - val_loss: 0.0671 - val_accuracy: 0.9800\n"
          ]
        }
      ]
    },
    {
      "cell_type": "code",
      "source": [
        "model1.evaluate(X_test,y_test)"
      ],
      "metadata": {
        "id": "l37sQwSLO_U9",
        "outputId": "27c7698f-5560-4f95-8e80-0c5495af59a5",
        "colab": {
          "base_uri": "https://localhost:8080/"
        }
      },
      "execution_count": 17,
      "outputs": [
        {
          "output_type": "stream",
          "name": "stdout",
          "text": [
            "313/313 [==============================] - 1s 2ms/step - loss: 0.0693 - accuracy: 0.9799\n"
          ]
        },
        {
          "output_type": "execute_result",
          "data": {
            "text/plain": [
              "[0.06925567984580994, 0.9799000024795532]"
            ]
          },
          "metadata": {},
          "execution_count": 17
        }
      ]
    },
    {
      "cell_type": "code",
      "source": [
        "model1.load_weights(\"wagi_best1.h5py\")\n",
        "model1.evaluate(X_test,y_test)"
      ],
      "metadata": {
        "id": "oXTtdH6RPB5C",
        "outputId": "cdb60a3d-72c2-4677-a2f4-0cd2f6337c8a",
        "colab": {
          "base_uri": "https://localhost:8080/"
        }
      },
      "execution_count": 18,
      "outputs": [
        {
          "output_type": "stream",
          "name": "stdout",
          "text": [
            "313/313 [==============================] - 1s 2ms/step - loss: 0.0688 - accuracy: 0.9790\n"
          ]
        },
        {
          "output_type": "execute_result",
          "data": {
            "text/plain": [
              "[0.06879064440727234, 0.9789999723434448]"
            ]
          },
          "metadata": {},
          "execution_count": 18
        }
      ]
    },
    {
      "cell_type": "code",
      "source": [
        "save_best_model = ModelCheckpoint(\"wagi_best1.h5py\",save_best_only=True)\n",
        "history1 = model1.fit(X_train, y_train, epochs=30, validation_data=(X_valid, y_valid), callbacks=[save_best_model])"
      ],
      "metadata": {
        "id": "rRT-Jn7qPDus",
        "outputId": "971a142c-3186-4d21-9ff6-03a0805796c0",
        "colab": {
          "base_uri": "https://localhost:8080/"
        }
      },
      "execution_count": 19,
      "outputs": [
        {
          "output_type": "stream",
          "name": "stdout",
          "text": [
            "Epoch 1/30\n",
            "1714/1719 [============================>.] - ETA: 0s - loss: 0.0319 - accuracy: 0.9922INFO:tensorflow:Assets written to: wagi_best1.h5py/assets\n",
            "1719/1719 [==============================] - 7s 4ms/step - loss: 0.0319 - accuracy: 0.9922 - val_loss: 0.0692 - val_accuracy: 0.9790\n",
            "Epoch 2/30\n",
            "1719/1719 [==============================] - 6s 4ms/step - loss: 0.0301 - accuracy: 0.9929 - val_loss: 0.0724 - val_accuracy: 0.9782\n",
            "Epoch 3/30\n",
            "1714/1719 [============================>.] - ETA: 0s - loss: 0.0287 - accuracy: 0.9936INFO:tensorflow:Assets written to: wagi_best1.h5py/assets\n",
            "1719/1719 [==============================] - 7s 4ms/step - loss: 0.0286 - accuracy: 0.9936 - val_loss: 0.0654 - val_accuracy: 0.9812\n",
            "Epoch 4/30\n",
            "1719/1719 [==============================] - 7s 4ms/step - loss: 0.0268 - accuracy: 0.9942 - val_loss: 0.0665 - val_accuracy: 0.9800\n",
            "Epoch 5/30\n",
            "1719/1719 [==============================] - 6s 4ms/step - loss: 0.0255 - accuracy: 0.9946 - val_loss: 0.0661 - val_accuracy: 0.9800\n",
            "Epoch 6/30\n",
            "1710/1719 [============================>.] - ETA: 0s - loss: 0.0239 - accuracy: 0.9953INFO:tensorflow:Assets written to: wagi_best1.h5py/assets\n",
            "1719/1719 [==============================] - 7s 4ms/step - loss: 0.0239 - accuracy: 0.9953 - val_loss: 0.0645 - val_accuracy: 0.9808\n",
            "Epoch 7/30\n",
            "1719/1719 [==============================] - 7s 4ms/step - loss: 0.0227 - accuracy: 0.9955 - val_loss: 0.0669 - val_accuracy: 0.9784\n",
            "Epoch 8/30\n",
            "1719/1719 [==============================] - 7s 4ms/step - loss: 0.0213 - accuracy: 0.9961 - val_loss: 0.0665 - val_accuracy: 0.9796\n",
            "Epoch 9/30\n",
            "1719/1719 [==============================] - 7s 4ms/step - loss: 0.0204 - accuracy: 0.9961 - val_loss: 0.0651 - val_accuracy: 0.9810\n",
            "Epoch 10/30\n",
            "1713/1719 [============================>.] - ETA: 0s - loss: 0.0194 - accuracy: 0.9969INFO:tensorflow:Assets written to: wagi_best1.h5py/assets\n",
            "1719/1719 [==============================] - 7s 4ms/step - loss: 0.0194 - accuracy: 0.9969 - val_loss: 0.0641 - val_accuracy: 0.9816\n",
            "Epoch 11/30\n",
            "1719/1719 [==============================] - 7s 4ms/step - loss: 0.0183 - accuracy: 0.9969 - val_loss: 0.0646 - val_accuracy: 0.9808\n",
            "Epoch 12/30\n",
            "1719/1719 [==============================] - 7s 4ms/step - loss: 0.0174 - accuracy: 0.9972 - val_loss: 0.0652 - val_accuracy: 0.9808\n",
            "Epoch 13/30\n",
            "1719/1719 [==============================] - 7s 4ms/step - loss: 0.0165 - accuracy: 0.9976 - val_loss: 0.0667 - val_accuracy: 0.9816\n",
            "Epoch 14/30\n",
            "1719/1719 [==============================] - 6s 4ms/step - loss: 0.0155 - accuracy: 0.9978 - val_loss: 0.0654 - val_accuracy: 0.9810\n",
            "Epoch 15/30\n",
            "1719/1719 [==============================] - 7s 4ms/step - loss: 0.0149 - accuracy: 0.9978 - val_loss: 0.0650 - val_accuracy: 0.9812\n",
            "Epoch 16/30\n",
            "1714/1719 [============================>.] - ETA: 0s - loss: 0.0141 - accuracy: 0.9982INFO:tensorflow:Assets written to: wagi_best1.h5py/assets\n",
            "1719/1719 [==============================] - 7s 4ms/step - loss: 0.0141 - accuracy: 0.9983 - val_loss: 0.0640 - val_accuracy: 0.9812\n",
            "Epoch 17/30\n",
            "1719/1719 [==============================] - 7s 4ms/step - loss: 0.0134 - accuracy: 0.9982 - val_loss: 0.0653 - val_accuracy: 0.9804\n",
            "Epoch 18/30\n",
            "1719/1719 [==============================] - 6s 4ms/step - loss: 0.0128 - accuracy: 0.9984 - val_loss: 0.0648 - val_accuracy: 0.9806\n",
            "Epoch 19/30\n",
            "1719/1719 [==============================] - 6s 4ms/step - loss: 0.0122 - accuracy: 0.9986 - val_loss: 0.0642 - val_accuracy: 0.9818\n",
            "Epoch 20/30\n",
            "1719/1719 [==============================] - 7s 4ms/step - loss: 0.0117 - accuracy: 0.9986 - val_loss: 0.0650 - val_accuracy: 0.9810\n",
            "Epoch 21/30\n",
            "1719/1719 [==============================] - 7s 4ms/step - loss: 0.0112 - accuracy: 0.9987 - val_loss: 0.0641 - val_accuracy: 0.9816\n",
            "Epoch 22/30\n",
            "1719/1719 [==============================] - 7s 4ms/step - loss: 0.0106 - accuracy: 0.9990 - val_loss: 0.0680 - val_accuracy: 0.9800\n",
            "Epoch 23/30\n",
            "1719/1719 [==============================] - 7s 4ms/step - loss: 0.0102 - accuracy: 0.9991 - val_loss: 0.0655 - val_accuracy: 0.9814\n",
            "Epoch 24/30\n",
            "1719/1719 [==============================] - 6s 4ms/step - loss: 0.0097 - accuracy: 0.9991 - val_loss: 0.0663 - val_accuracy: 0.9810\n",
            "Epoch 25/30\n",
            "1719/1719 [==============================] - 7s 4ms/step - loss: 0.0094 - accuracy: 0.9992 - val_loss: 0.0651 - val_accuracy: 0.9810\n",
            "Epoch 26/30\n",
            "1719/1719 [==============================] - 6s 4ms/step - loss: 0.0090 - accuracy: 0.9992 - val_loss: 0.0645 - val_accuracy: 0.9820\n",
            "Epoch 27/30\n",
            "1719/1719 [==============================] - 7s 4ms/step - loss: 0.0086 - accuracy: 0.9993 - val_loss: 0.0647 - val_accuracy: 0.9818\n",
            "Epoch 28/30\n",
            "1719/1719 [==============================] - 7s 4ms/step - loss: 0.0082 - accuracy: 0.9994 - val_loss: 0.0656 - val_accuracy: 0.9814\n",
            "Epoch 29/30\n",
            "1719/1719 [==============================] - 6s 4ms/step - loss: 0.0078 - accuracy: 0.9993 - val_loss: 0.0655 - val_accuracy: 0.9814\n",
            "Epoch 30/30\n",
            "1719/1719 [==============================] - 6s 4ms/step - loss: 0.0075 - accuracy: 0.9995 - val_loss: 0.0651 - val_accuracy: 0.9818\n"
          ]
        }
      ]
    },
    {
      "cell_type": "code",
      "source": [
        "model1.evaluate(X_test,y_test)"
      ],
      "metadata": {
        "id": "3pCq3P6IPGSh",
        "outputId": "9f397613-7c3a-4b20-c82a-64ee92866377",
        "colab": {
          "base_uri": "https://localhost:8080/"
        }
      },
      "execution_count": 20,
      "outputs": [
        {
          "output_type": "stream",
          "name": "stdout",
          "text": [
            "313/313 [==============================] - 1s 2ms/step - loss: 0.0676 - accuracy: 0.9806\n"
          ]
        },
        {
          "output_type": "execute_result",
          "data": {
            "text/plain": [
              "[0.06756750494241714, 0.9805999994277954]"
            ]
          },
          "metadata": {},
          "execution_count": 20
        }
      ]
    },
    {
      "cell_type": "code",
      "source": [
        "model1.load_weights(\"wagi_best1.h5py\")\n",
        "model1.evaluate(X_test,y_test)"
      ],
      "metadata": {
        "id": "6lI9J7aGPIQm",
        "outputId": "7a0d3a20-f313-4ae0-a838-2a9b246ae81f",
        "colab": {
          "base_uri": "https://localhost:8080/"
        }
      },
      "execution_count": 21,
      "outputs": [
        {
          "output_type": "stream",
          "name": "stdout",
          "text": [
            "313/313 [==============================] - 1s 2ms/step - loss: 0.0657 - accuracy: 0.9807\n"
          ]
        },
        {
          "output_type": "execute_result",
          "data": {
            "text/plain": [
              "[0.06569299846887589, 0.9807000160217285]"
            ]
          },
          "metadata": {},
          "execution_count": 21
        }
      ]
    }
  ],
  "metadata": {
    "kernelspec": {
      "display_name": "Python 3",
      "language": "python",
      "name": "python3"
    },
    "language_info": {
      "codemirror_mode": {
        "name": "ipython",
        "version": 3
      },
      "file_extension": ".py",
      "mimetype": "text/x-python",
      "name": "python",
      "nbconvert_exporter": "python",
      "pygments_lexer": "ipython3",
      "version": "3.7.3"
    },
    "colab": {
      "name": "Z11_N_save_model.ipynb",
      "provenance": []
    }
  },
  "nbformat": 4,
  "nbformat_minor": 0
}