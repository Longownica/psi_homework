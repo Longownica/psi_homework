{
  "cells": [
    {
      "cell_type": "code",
      "execution_count": 1,
      "metadata": {
        "collapsed": true,
        "id": "KUkYk9oG8lsg"
      },
      "outputs": [],
      "source": [
        "import numpy as np\n",
        "from scipy import stats\n",
        "import pandas as pd\n",
        "import matplotlib.pyplot as plt"
      ]
    },
    {
      "cell_type": "markdown",
      "metadata": {
        "id": "djkyKvn38lsm"
      },
      "source": [
        "# Korelacja"
      ]
    },
    {
      "cell_type": "markdown",
      "metadata": {
        "id": "0cpqV8BL8lsq"
      },
      "source": [
        "Współczynnik korelacji między dwiema zmiennymi odpowiada na pytanie: \n",
        "\n",
        "<i>Czy dwie zmienne są powiązane? </i> \n",
        "\n",
        "## Współczynnik korelacji Pearsona \n",
        "\n",
        "Współczynnik korelacji Pearsona - współczynnik określający poziom zależności liniowej między zmiennymi losowymi.\n",
        "\n",
        "## Korelacja rang Spearmana \n",
        "\n",
        "Korelacja rang Spearmana (lub: korelacja rangowa Spearmana, rho Spearmana) – jedna z nieparametrycznych miar monotonicznej zależności statystycznej między zmiennymi losowymi.\n",
        "\n",
        "Korelacja rangowa przyjmuje zawsze wartości z przedziału $[-1,+1]$. Ich interpretacja jest podobna do klasycznego współczynnika korelacji Pearsona, z jednym zastrzeżeniem: \n",
        "- w odróżnieniu od współczynnika Pearsona, który mierzy liniową zależność między zmiennymi, a wszelkie inne związki traktuje jak zaburzone zależności liniowe, korelacja rangowa pokazuje dowolną monotoniczną zależność (także nieliniową).\n",
        "\n",
        "## Korelacja Tau Kendalla \n",
        "\n",
        "Tau Kendalla – statystyka będąca jedną z miar monotonicznej zależności dwóch zmiennych losowych. Służy w praktyce do opisu korelacji między zmiennymi porządkowymi.\n",
        "\n",
        "Tau Kendalla przyjmuje wartości od -1 do 1 włącznie. +1 oznacza, że każda ze zmiennych rośnie przy wzroście drugiej. -1 oznacza że każda maleje przy wzroście drugiej. Tym samym tau Kendalla, podobnie jak korelacja rangowa jest miarą monotonicznej zależności zmiennych losowych."
      ]
    },
    {
      "cell_type": "markdown",
      "metadata": {
        "id": "G7EoqHRb8lst"
      },
      "source": [
        "# Zadanie 1 \n",
        "Policz korelacje: \n",
        "<ul>\n",
        "<li>pearson</li>\n",
        "<li>spearman</li>\n",
        "<li>kendall</li>\n",
        "</ul>\n",
        "\n",
        "dla zbioru:"
      ]
    },
    {
      "cell_type": "code",
      "execution_count": 2,
      "metadata": {
        "collapsed": true,
        "id": "AQezk9-W8lsv"
      },
      "outputs": [],
      "source": [
        "f = lambda x: (x)\n",
        "x_tr = np.linspace(0., 5, 200)\n",
        "y_tr = f(x_tr)\n",
        "x = stats.uniform(1,3).rvs(100)\n",
        "y = f(x) + stats.norm(0,0.1).rvs(len(x))"
      ]
    },
    {
      "cell_type": "code",
      "execution_count": 3,
      "metadata": {
        "id": "2_4aJEZs8lsy",
        "outputId": "446da3be-c483-40e2-a710-0ed6de40284e",
        "colab": {
          "base_uri": "https://localhost:8080/",
          "height": 378
        }
      },
      "outputs": [
        {
          "output_type": "display_data",
          "data": {
            "text/plain": [
              "<Figure size 432x432 with 1 Axes>"
            ],
            "image/png": "[encoded data removed]"
          },
          "metadata": {
            "needs_background": "light"
          }
        }
      ],
      "source": [
        "plt.figure(figsize=(6,6));\n",
        "axes = plt.gca()\n",
        "axes.set_xlim([0,5])\n",
        "axes.set_ylim([0,5])\n",
        "plt.plot(x_tr, y_tr, '--k');\n",
        "plt.plot(x, y, 'ok', ms=3);\n",
        "plt.show()"
      ]
    },
    {
      "cell_type": "code",
      "execution_count": 4,
      "metadata": {
        "id": "SUBaHDvQ8ls2",
        "outputId": "f36d271e-9a11-4c77-b7e3-0ebdc0468e8d",
        "colab": {
          "base_uri": "https://localhost:8080/"
        }
      },
      "outputs": [
        {
          "output_type": "stream",
          "name": "stdout",
          "text": [
            "{'pearson': 0.9935543267048214, 'spearman': 0.9929432943294327, 'kendall': 0.9313131313131315}\n"
          ]
        }
      ],
      "source": [
        "corr = {}\n",
        "corr['pearson'], _ = stats.pearsonr(x,y)\n",
        "corr['spearman'], _ = stats.spearmanr(x,y)\n",
        "corr['kendall'], _ = stats.kendalltau(x,y)\n",
        "print(corr)    "
      ]
    },
    {
      "cell_type": "markdown",
      "metadata": {
        "id": "iTbRpKiE8ls4"
      },
      "source": [
        "# Zadanie 2 \n",
        "Policz korelacje: \n",
        "<ul>\n",
        "<li>pearson</li>\n",
        "<li>spearman</li>\n",
        "<li>kendall</li>\n",
        "</ul>\n",
        "\n",
        "dla zbioru:"
      ]
    },
    {
      "cell_type": "code",
      "execution_count": 5,
      "metadata": {
        "collapsed": true,
        "id": "1RFQsuPq8ls7"
      },
      "outputs": [],
      "source": [
        "f = lambda x: (-x+5)\n",
        "x_tr = np.linspace(0., 5, 200)\n",
        "y_tr = f(x_tr)\n",
        "x = stats.uniform(1,3).rvs(100)\n",
        "y = f(x) + stats.norm(0,0.1).rvs(len(x))"
      ]
    },
    {
      "cell_type": "code",
      "execution_count": 6,
      "metadata": {
        "id": "-RwQt3F68ls8",
        "outputId": "8f3d21b0-15ce-4f71-a781-09d68285c5fa",
        "colab": {
          "base_uri": "https://localhost:8080/",
          "height": 378
        }
      },
      "outputs": [
        {
          "output_type": "display_data",
          "data": {
            "text/plain": [
              "<Figure size 432x432 with 1 Axes>"
            ],
            "image/png": "[encoded data removed]"
          },
          "metadata": {
            "needs_background": "light"
          }
        }
      ],
      "source": [
        "plt.figure(figsize=(6,6));\n",
        "axes = plt.gca()\n",
        "axes.set_xlim([0,5])\n",
        "axes.set_ylim([0,5])\n",
        "plt.plot(x_tr, y_tr, '--k');\n",
        "plt.plot(x, y, 'ok', ms=3);\n",
        "plt.show()"
      ]
    },
    {
      "cell_type": "code",
      "execution_count": 7,
      "metadata": {
        "collapsed": true,
        "id": "JsvnSkYd8ls-",
        "outputId": "d98ccc0e-7744-4c32-8dea-b162f3ad92bf",
        "colab": {
          "base_uri": "https://localhost:8080/"
        }
      },
      "outputs": [
        {
          "output_type": "stream",
          "name": "stdout",
          "text": [
            "{'pearson': -0.993853916672187, 'spearman': -0.9926672667266725, 'kendall': -0.9268686868686871}\n"
          ]
        }
      ],
      "source": [
        "corr = {}\n",
        "corr['pearson'], _ = stats.pearsonr(x,y)\n",
        "corr['spearman'], _ = stats.spearmanr(x,y)\n",
        "corr['kendall'], _ = stats.kendalltau(x,y)\n",
        "print(corr) "
      ]
    },
    {
      "cell_type": "markdown",
      "metadata": {
        "id": "1eokRd5u8ls_"
      },
      "source": [
        "# Zadanie 3\n",
        "Policz korelacje: \n",
        "<ul>\n",
        "<li>pearson</li>\n",
        "<li>spearman</li>\n",
        "<li>kendall</li>\n",
        "</ul>\n",
        "\n",
        "dla zbioru:"
      ]
    },
    {
      "cell_type": "code",
      "execution_count": 8,
      "metadata": {
        "id": "TZLpLAPh8ltB",
        "outputId": "db56fc39-17af-46a3-b286-eb2c2b4ab23d",
        "colab": {
          "base_uri": "https://localhost:8080/",
          "height": 378
        }
      },
      "outputs": [
        {
          "output_type": "display_data",
          "data": {
            "text/plain": [
              "<Figure size 432x432 with 1 Axes>"
            ],
            "image/png": "[encoded data removed]"
          },
          "metadata": {
            "needs_background": "light"
          }
        }
      ],
      "source": [
        "f = lambda x: (x)\n",
        "x_tr = np.linspace(0., 5, 200)\n",
        "y_tr = f(x_tr)\n",
        "x = stats.uniform(1,3).rvs(100)\n",
        "y = f(x) + stats.norm(0,0.5).rvs(len(x))\n",
        "\n",
        "plt.figure(figsize=(6,6));\n",
        "axes = plt.gca()\n",
        "axes.set_xlim([0,5])\n",
        "axes.set_ylim([0,5])\n",
        "plt.plot(x_tr, y_tr, '--k');\n",
        "plt.plot(x, y, 'ok', ms=3);\n",
        "plt.show()"
      ]
    },
    {
      "cell_type": "code",
      "execution_count": 9,
      "metadata": {
        "collapsed": true,
        "id": "4gcBCrQX8ltD",
        "outputId": "0d5d1614-50e7-47d2-cfc9-a38119b10b41",
        "colab": {
          "base_uri": "https://localhost:8080/"
        }
      },
      "outputs": [
        {
          "output_type": "stream",
          "name": "stdout",
          "text": [
            "{'pearson': 0.876059500931772, 'spearman': 0.8751755175517549, 'kendall': 0.6860606060606061}\n"
          ]
        }
      ],
      "source": [
        "corr = {}\n",
        "corr['pearson'], _ = stats.pearsonr(x,y)\n",
        "corr['spearman'], _ = stats.spearmanr(x,y)\n",
        "corr['kendall'], _ = stats.kendalltau(x,y)\n",
        "print(corr) "
      ]
    },
    {
      "cell_type": "markdown",
      "metadata": {
        "id": "ocwOo09f8ltD"
      },
      "source": [
        "# Zadanie 4\n",
        "Policz korelacje: \n",
        "<ul>\n",
        "<li>pearson</li>\n",
        "<li>spearman</li>\n",
        "<li>kendall</li>\n",
        "</ul>\n",
        "\n",
        "dla zbioru:"
      ]
    },
    {
      "cell_type": "code",
      "execution_count": 10,
      "metadata": {
        "collapsed": true,
        "id": "8qBjaRJH8ltF"
      },
      "outputs": [],
      "source": [
        "f = lambda x: x**2\n",
        "x_tr = np.linspace(-10, 10, 200)\n",
        "y_tr = f(x_tr)\n",
        "x = stats.uniform(-3,6).rvs(100)\n",
        "y = f(x) + stats.norm(0,0.3).rvs(len(x))"
      ]
    },
    {
      "cell_type": "code",
      "execution_count": 11,
      "metadata": {
        "id": "LrPXCCWG8ltG",
        "outputId": "b54956f9-a688-4237-c412-628e30b3030c",
        "colab": {
          "base_uri": "https://localhost:8080/",
          "height": 378
        }
      },
      "outputs": [
        {
          "output_type": "display_data",
          "data": {
            "text/plain": [
              "<Figure size 432x432 with 1 Axes>"
            ],
            "image/png": "[encoded data removed]"
          },
          "metadata": {
            "needs_background": "light"
          }
        }
      ],
      "source": [
        "plt.figure(figsize=(6,6));\n",
        "axes = plt.gca()\n",
        "axes.set_xlim([-3,3])\n",
        "axes.set_ylim([0,10])\n",
        "# axes.set_ylim([np.min(y),f(5)])\n",
        "plt.plot(x_tr, y_tr, '--k');\n",
        "plt.plot(x, y, 'ok', ms=3);\n",
        "plt.show()"
      ]
    },
    {
      "cell_type": "code",
      "execution_count": 12,
      "metadata": {
        "collapsed": true,
        "id": "wbfOeSZd8ltH",
        "outputId": "87fd1e65-0e20-49da-b34c-20bc3866748d",
        "colab": {
          "base_uri": "https://localhost:8080/"
        }
      },
      "outputs": [
        {
          "output_type": "stream",
          "name": "stdout",
          "text": [
            "{'pearson': -0.004326534397140126, 'spearman': 0.061590159015901584, 'kendall': 0.07636363636363637}\n"
          ]
        }
      ],
      "source": [
        "corr = {}\n",
        "corr['pearson'], _ = stats.pearsonr(x,y)\n",
        "corr['spearman'], _ = stats.spearmanr(x,y)\n",
        "corr['kendall'], _ = stats.kendalltau(x,y)\n",
        "print(corr)"
      ]
    },
    {
      "cell_type": "markdown",
      "metadata": {
        "id": "MrnczB_A8ltI"
      },
      "source": [
        "# Zadanie 5\n",
        "Wygeneruj zbiór tak by \n",
        "<ul>\n",
        "<li>korelacja pearsona wynosiła około 0.5</li>\n",
        "<li>korelacja spearmana wynosiła około 1</li>\n",
        "<li>korelacja kendalla wynosiła około 1</li>\n",
        "</ul>"
      ]
    },
    {
      "cell_type": "code",
      "execution_count": 13,
      "metadata": {
        "collapsed": true,
        "id": "kvDlGK608ltJ",
        "outputId": "b13de657-546f-4ac1-a7b8-179d83426d10",
        "colab": {
          "base_uri": "https://localhost:8080/",
          "height": 396
        }
      },
      "outputs": [
        {
          "output_type": "display_data",
          "data": {
            "text/plain": [
              "<Figure size 432x432 with 1 Axes>"
            ],
            "image/png": "[encoded data removed]"
          },
          "metadata": {
            "needs_background": "light"
          }
        },
        {
          "output_type": "stream",
          "name": "stdout",
          "text": [
            "{'pearson': 0.4307108799724664, 'spearman': 0.9997119711971196, 'kendall': 0.9955555555555557}\n"
          ]
        }
      ],
      "source": [
        "f = lambda x: x**x\n",
        "x_tr = np.linspace(0.000, 5, 200)\n",
        "y_tr = f(x_tr)\n",
        "x = stats.uniform(1,7.4).rvs(100)\n",
        "y = f(x) + stats.norm(0,0.15).rvs(len(x))\n",
        "\n",
        "plt.figure(figsize=(6,6));\n",
        "axes = plt.gca()\n",
        "axes.set_xlim([0,50])\n",
        "axes.set_ylim([0,50])\n",
        "plt.plot(x_tr, y_tr, '--k');\n",
        "plt.plot(x, y, 'ok', ms=3);\n",
        "plt.show()\n",
        "\n",
        "corr = {}\n",
        "corr['pearson'], _ = stats.pearsonr(x,y)\n",
        "corr['spearman'], _ = stats.spearmanr(x,y)\n",
        "corr['kendall'], _ = stats.kendalltau(x,y)\n",
        "print(corr) "
      ]
    },
    {
      "cell_type": "code",
      "execution_count": null,
      "metadata": {
        "collapsed": true,
        "id": "RcKKy1Cs8ltJ"
      },
      "outputs": [],
      "source": [
        ""
      ]
    }
  ],
  "metadata": {
    "kernelspec": {
      "display_name": "Python 3",
      "language": "python",
      "name": "python3"
    },
    "language_info": {
      "codemirror_mode": {
        "name": "ipython",
        "version": 3
      },
      "file_extension": ".py",
      "mimetype": "text/x-python",
      "name": "python",
      "nbconvert_exporter": "python",
      "pygments_lexer": "ipython3",
      "version": "3.8.5"
    },
    "colab": {
      "name": "Z03_A_correlation.ipynb",
      "provenance": []
    }
  },
  "nbformat": 4,
  "nbformat_minor": 0
}