{
  "cells": [
    {
      "cell_type": "code",
      "execution_count": 1,
      "metadata": {
        "id": "3ENCir3H6vEy",
        "outputId": "3dd24031-7e9f-4f9f-ef4f-d2068ea43c69",
        "colab": {
          "base_uri": "https://localhost:8080/"
        }
      },
      "outputs": [
        {
          "output_type": "stream",
          "name": "stdout",
          "text": [
            "2.8.2\n",
            "2.8.0\n"
          ]
        }
      ],
      "source": [
        "import tensorflow as tf\n",
        "from tensorflow import keras\n",
        "print(tf.__version__)\n",
        "\n",
        "print(keras.__version__)"
      ]
    },
    {
      "cell_type": "code",
      "execution_count": 2,
      "metadata": {
        "id": "Mq_OUigi6vE3"
      },
      "outputs": [],
      "source": [
        "import numpy as np\n",
        "import pandas as pd\n",
        "import matplotlib.pyplot as plt\n",
        "import os"
      ]
    },
    {
      "cell_type": "code",
      "execution_count": 3,
      "metadata": {
        "id": "uSSmD3Re6vE6"
      },
      "outputs": [],
      "source": [
        "from sklearn.datasets import fetch_california_housing\n",
        "from sklearn.model_selection import train_test_split\n",
        "from sklearn.preprocessing import StandardScaler\n",
        "\n",
        "housing = fetch_california_housing()\n",
        "\n",
        "X_train_full, X_test, y_train_full, y_test = train_test_split(housing.data, housing.target, random_state=42)\n",
        "X_train, X_valid, y_train, y_valid = train_test_split(X_train_full, y_train_full, random_state=42)\n",
        "\n"
      ]
    },
    {
      "cell_type": "code",
      "execution_count": 4,
      "metadata": {
        "id": "P7WXclou6vE8"
      },
      "outputs": [],
      "source": [
        "np.random.seed(42)\n",
        "tf.random.set_seed(42)"
      ]
    },
    {
      "cell_type": "code",
      "execution_count": 5,
      "metadata": {
        "id": "0vhg7lmY6vE9",
        "outputId": "a30cc50a-f7e3-46d4-e72e-f2f05a80028c",
        "colab": {
          "base_uri": "https://localhost:8080/"
        }
      },
      "outputs": [
        {
          "output_type": "stream",
          "name": "stderr",
          "text": [
            "/usr/local/lib/python3.7/dist-packages/keras/optimizer_v2/gradient_descent.py:102: UserWarning: The `lr` argument is deprecated, use `learning_rate` instead.\n",
            "  super(SGD, self).__init__(name, **kwargs)\n"
          ]
        },
        {
          "output_type": "stream",
          "name": "stdout",
          "text": [
            "Epoch 1/20\n",
            "363/363 [==============================] - 1s 2ms/step - loss: 22974140843556864.0000 - val_loss: 14617879248896.0000\n",
            "Epoch 2/20\n",
            "363/363 [==============================] - 1s 2ms/step - loss: 7723965480960.0000 - val_loss: 3417093177344.0000\n",
            "Epoch 3/20\n",
            "363/363 [==============================] - 1s 2ms/step - loss: 1805567131648.0000 - val_loss: 798785208320.0000\n",
            "Epoch 4/20\n",
            "363/363 [==============================] - 1s 2ms/step - loss: 422071730176.0000 - val_loss: 186725285888.0000\n",
            "Epoch 5/20\n",
            "363/363 [==============================] - 1s 2ms/step - loss: 98664177664.0000 - val_loss: 43649105920.0000\n",
            "Epoch 6/20\n",
            "363/363 [==============================] - 1s 2ms/step - loss: 23063830528.0000 - val_loss: 10203471872.0000\n",
            "Epoch 7/20\n",
            "363/363 [==============================] - 1s 2ms/step - loss: 5391436288.0000 - val_loss: 2385182208.0000\n",
            "Epoch 8/20\n",
            "363/363 [==============================] - 1s 2ms/step - loss: 1260309504.0000 - val_loss: 557564992.0000\n",
            "Epoch 9/20\n",
            "363/363 [==============================] - 1s 2ms/step - loss: 294611840.0000 - val_loss: 130337712.0000\n",
            "Epoch 10/20\n",
            "363/363 [==============================] - 1s 2ms/step - loss: 68868856.0000 - val_loss: 30468182.0000\n",
            "Epoch 11/20\n",
            "363/363 [==============================] - 1s 2ms/step - loss: 16098886.0000 - val_loss: 7122408.0000\n",
            "Epoch 12/20\n",
            "363/363 [==============================] - 1s 2ms/step - loss: 3763294.0000 - val_loss: 1665006.2500\n",
            "Epoch 13/20\n",
            "363/363 [==============================] - 1s 2ms/step - loss: 879712.9375 - val_loss: 389246.1250\n",
            "Epoch 14/20\n",
            "363/363 [==============================] - 1s 2ms/step - loss: 205644.4062 - val_loss: 91006.7266\n",
            "Epoch 15/20\n",
            "363/363 [==============================] - 1s 2ms/step - loss: 48073.1602 - val_loss: 21282.1270\n",
            "Epoch 16/20\n",
            "363/363 [==============================] - 1s 2ms/step - loss: 11238.7031 - val_loss: 4979.3115\n",
            "Epoch 17/20\n",
            "363/363 [==============================] - 1s 2ms/step - loss: 2628.1484 - val_loss: 1166.6659\n",
            "Epoch 18/20\n",
            "363/363 [==============================] - 1s 2ms/step - loss: 615.3716 - val_loss: 274.4792\n",
            "Epoch 19/20\n",
            "363/363 [==============================] - 1s 2ms/step - loss: 144.8725 - val_loss: 65.5832\n",
            "Epoch 20/20\n",
            "363/363 [==============================] - 1s 2ms/step - loss: 34.9049 - val_loss: 16.5316\n",
            "162/162 [==============================] - 0s 1ms/step - loss: 16.3210\n"
          ]
        }
      ],
      "source": [
        "model = keras.models.Sequential([\n",
        "    keras.layers.Dense(30, activation=\"relu\", input_shape=X_train.shape[1:]),\n",
        "    keras.layers.Dense(1)\n",
        "])\n",
        "model.compile(loss=\"mean_squared_error\", optimizer=keras.optimizers.SGD(lr=1e-3))\n",
        "history = model.fit(X_train, y_train, epochs=20, validation_data=(X_valid, y_valid))\n",
        "mse_test = model.evaluate(X_test, y_test)\n",
        "X_new = X_test[:3]\n",
        "y_pred = model.predict(X_new)"
      ]
    },
    {
      "cell_type": "code",
      "execution_count": 6,
      "metadata": {
        "id": "gUUpZhqi6vE-",
        "outputId": "3d24cc65-cd8e-4878-8169-938fcf8a56d2",
        "colab": {
          "base_uri": "https://localhost:8080/",
          "height": 276
        }
      },
      "outputs": [
        {
          "output_type": "display_data",
          "data": {
            "text/plain": [
              "<Figure size 432x288 with 1 Axes>"
            ],
            "image/png": "[encoded data removed]"
          },
          "metadata": {
            "needs_background": "light"
          }
        }
      ],
      "source": [
        "plt.plot(pd.DataFrame(history.history))\n",
        "plt.grid(True)\n",
        "plt.show()"
      ]
    },
    {
      "cell_type": "markdown",
      "metadata": {
        "id": "LCs6fmFu6vFB"
      },
      "source": [
        "# Zad\n",
        "\n",
        "Porównaj powyższy wynik z nauką na danych znormalizowanych."
      ]
    },
    {
      "cell_type": "code",
      "execution_count": 7,
      "metadata": {
        "id": "XLJ0CtL56vFD",
        "outputId": "8e14bc7f-dbe4-4b2c-c7d2-7236ffc71885",
        "colab": {
          "base_uri": "https://localhost:8080/"
        }
      },
      "outputs": [
        {
          "output_type": "stream",
          "name": "stdout",
          "text": [
            "Epoch 1/20\n"
          ]
        },
        {
          "output_type": "stream",
          "name": "stderr",
          "text": [
            "/usr/local/lib/python3.7/dist-packages/keras/optimizer_v2/gradient_descent.py:102: UserWarning: The `lr` argument is deprecated, use `learning_rate` instead.\n",
            "  super(SGD, self).__init__(name, **kwargs)\n"
          ]
        },
        {
          "output_type": "stream",
          "name": "stdout",
          "text": [
            "363/363 [==============================] - 3s 7ms/step - loss: 1.9197 - val_loss: 3.8361\n",
            "Epoch 2/20\n",
            "363/363 [==============================] - 3s 8ms/step - loss: 0.8247 - val_loss: 1.6986\n",
            "Epoch 3/20\n",
            "363/363 [==============================] - 2s 6ms/step - loss: 0.6937 - val_loss: 0.8313\n",
            "Epoch 4/20\n",
            "363/363 [==============================] - 4s 10ms/step - loss: 0.6350 - val_loss: 0.6322\n",
            "Epoch 5/20\n",
            "363/363 [==============================] - 2s 5ms/step - loss: 0.5964 - val_loss: 0.5551\n",
            "Epoch 6/20\n",
            "363/363 [==============================] - 2s 4ms/step - loss: 0.5664 - val_loss: 0.5281\n",
            "Epoch 7/20\n",
            "363/363 [==============================] - 2s 4ms/step - loss: 0.5420 - val_loss: 0.5205\n",
            "Epoch 8/20\n",
            "363/363 [==============================] - 1s 2ms/step - loss: 0.5221 - val_loss: 0.5021\n",
            "Epoch 9/20\n",
            "363/363 [==============================] - 1s 2ms/step - loss: 0.5047 - val_loss: 0.4928\n",
            "Epoch 10/20\n",
            "363/363 [==============================] - 1s 2ms/step - loss: 0.4902 - val_loss: 0.4855\n",
            "Epoch 11/20\n",
            "363/363 [==============================] - 1s 2ms/step - loss: 0.4784 - val_loss: 0.4577\n",
            "Epoch 12/20\n",
            "363/363 [==============================] - 1s 2ms/step - loss: 0.4680 - val_loss: 0.4566\n",
            "Epoch 13/20\n",
            "363/363 [==============================] - 1s 2ms/step - loss: 0.4593 - val_loss: 0.4395\n",
            "Epoch 14/20\n",
            "363/363 [==============================] - 1s 2ms/step - loss: 0.4518 - val_loss: 0.4279\n",
            "Epoch 15/20\n",
            "363/363 [==============================] - 1s 2ms/step - loss: 0.4453 - val_loss: 0.4188\n",
            "Epoch 16/20\n",
            "363/363 [==============================] - 1s 2ms/step - loss: 0.4397 - val_loss: 0.4119\n",
            "Epoch 17/20\n",
            "363/363 [==============================] - 1s 2ms/step - loss: 0.4352 - val_loss: 0.4068\n",
            "Epoch 18/20\n",
            "363/363 [==============================] - 1s 2ms/step - loss: 0.4313 - val_loss: 0.4025\n",
            "Epoch 19/20\n",
            "363/363 [==============================] - 1s 2ms/step - loss: 0.4271 - val_loss: 0.4000\n",
            "Epoch 20/20\n",
            "363/363 [==============================] - 1s 2ms/step - loss: 0.4246 - val_loss: 0.3986\n",
            "162/162 [==============================] - 0s 1ms/step - loss: 0.4232\n"
          ]
        }
      ],
      "source": [
        "model = keras.models.Sequential([\n",
        "    keras.layers.Dense(30, activation=\"relu\", input_shape=X_train.shape[1:]),\n",
        "    keras.layers.Dense(1)\n",
        "])\n",
        "\n",
        "from sklearn.preprocessing import StandardScaler\n",
        "\n",
        "scaler = StandardScaler()\n",
        "X_train_scaled = scaler.fit_transform(X_train)\n",
        "X_test_scaled = scaler.transform(X_test)\n",
        "X_valid_scaled = scaler.transform(X_valid)\n",
        "\n",
        "model.compile(loss=\"mean_squared_error\", optimizer=keras.optimizers.SGD(lr=1e-3))\n",
        "history2 = model.fit(X_train_scaled, y_train, epochs=20, validation_data=(X_valid_scaled, y_valid))\n",
        "mse_test2 = model.evaluate(X_test_scaled, y_test)\n",
        "X_new2 = X_test_scaled[:3]\n",
        "y_pred2 = model.predict(X_new2)"
      ]
    },
    {
      "cell_type": "code",
      "execution_count": 8,
      "metadata": {
        "id": "2vL44JQp6vFF",
        "outputId": "49376e6f-56c4-4eb4-badf-b2a0df263bcd",
        "colab": {
          "base_uri": "https://localhost:8080/",
          "height": 528
        }
      },
      "outputs": [
        {
          "output_type": "display_data",
          "data": {
            "text/plain": [
              "<Figure size 432x288 with 1 Axes>"
            ],
            "image/png": "[encoded data removed]"
          },
          "metadata": {
            "needs_background": "light"
          }
        },
        {
          "output_type": "display_data",
          "data": {
            "text/plain": [
              "<Figure size 432x288 with 1 Axes>"
            ],
            "image/png": "[encoded data removed]"
          },
          "metadata": {
            "needs_background": "light"
          }
        }
      ],
      "source": [
        "plt.plot(pd.DataFrame(history.history), label='normal')\n",
        "plt.legend()\n",
        "plt.show()\n",
        "plt.plot(pd.DataFrame(history2.history), label='scaled')\n",
        "plt.legend()\n",
        "plt.show()"
      ]
    },
    {
      "cell_type": "markdown",
      "metadata": {
        "id": "pzJGYk9B6vFI"
      },
      "source": [
        "# Dane zawsze muszą być przeskalowane"
      ]
    },
    {
      "cell_type": "code",
      "execution_count": null,
      "metadata": {
        "id": "8v4EufXu6vFK"
      },
      "outputs": [],
      "source": [
        ""
      ]
    }
  ],
  "metadata": {
    "kernelspec": {
      "display_name": "Python 3",
      "language": "python",
      "name": "python3"
    },
    "language_info": {
      "codemirror_mode": {
        "name": "ipython",
        "version": 3
      },
      "file_extension": ".py",
      "mimetype": "text/x-python",
      "name": "python",
      "nbconvert_exporter": "python",
      "pygments_lexer": "ipython3",
      "version": "3.7.3"
    },
    "colab": {
      "name": "Z11_J_Regression.ipynb",
      "provenance": []
    }
  },
  "nbformat": 4,
  "nbformat_minor": 0
}