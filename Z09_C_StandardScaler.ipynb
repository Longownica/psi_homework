{
  "cells": [
    {
      "cell_type": "code",
      "execution_count": 1,
      "metadata": {
        "id": "thuw4JZlPnPN"
      },
      "outputs": [],
      "source": [
        "import numpy as np\n",
        "import pandas as pd\n",
        "import matplotlib.pyplot as plt"
      ]
    },
    {
      "cell_type": "markdown",
      "metadata": {
        "id": "ZEFmIrqpPnPX"
      },
      "source": [
        "# Skalowania danych\n",
        "\n",
        "- Pamiętaj aby zawsze uczyć parametry skalowania na trainie a nie na całym zbiorze danych bo inaczej popełniasz błąd metodologiczny."
      ]
    },
    {
      "cell_type": "code",
      "execution_count": 2,
      "metadata": {
        "id": "BxOXA1iPPnPk"
      },
      "outputs": [],
      "source": [
        "from sklearn.datasets import load_breast_cancer\n",
        "cancer = load_breast_cancer()\n",
        "\n",
        "# get the data\n",
        "X = cancer.data\n",
        "y = cancer.target\n",
        "\n",
        "from sklearn.model_selection import train_test_split\n",
        "# split it into training and test sets\n",
        "X_train, X_test = train_test_split(X, random_state=5, test_size=.1)"
      ]
    },
    {
      "cell_type": "markdown",
      "metadata": {
        "id": "eCurAGkmPnPu"
      },
      "source": [
        "* Zobaczmy efekt użycia StandardScaler oraz SVC. \n",
        "\n",
        "* Najpierw wykonajmy SVC na oryginalnych danych dla porównania:"
      ]
    },
    {
      "cell_type": "code",
      "execution_count": 3,
      "metadata": {
        "id": "2Yd9BN3jPnP2",
        "outputId": "b8ce9d82-a195-4261-ace5-c90d59f132e6",
        "colab": {
          "base_uri": "https://localhost:8080/"
        }
      },
      "outputs": [
        {
          "output_type": "stream",
          "name": "stdout",
          "text": [
            "Test set accuracy: 0.95\n"
          ]
        }
      ],
      "source": [
        "from sklearn.svm import SVC\n",
        "X_train, X_test, y_train, y_test = train_test_split(cancer.data, cancer.target, random_state=5) \n",
        "svm = SVC()\n",
        "svm.fit(X_train, y_train)\n",
        "print(\"Test set accuracy: {:.2f}\".format(svm.score(X_test, y_test)))"
      ]
    },
    {
      "cell_type": "markdown",
      "metadata": {
        "id": "3K5-tQ2MPnQA"
      },
      "source": [
        "Teraz przeskalujmy dane za pomocą StandardScaler przed dopasowaniem SVC:"
      ]
    },
    {
      "cell_type": "code",
      "execution_count": 4,
      "metadata": {
        "id": "GSzphVWcPnQL",
        "outputId": "13876b89-ba16-40a3-fafc-93cf50be1b25",
        "colab": {
          "base_uri": "https://localhost:8080/"
        }
      },
      "outputs": [
        {
          "output_type": "stream",
          "name": "stdout",
          "text": [
            "Scaled test set accuracy: 0.97\n"
          ]
        }
      ],
      "source": [
        "# preprocessing using 0-1 scaling\n",
        "from sklearn.preprocessing import StandardScaler\n",
        "\n",
        "scaler = StandardScaler()\n",
        "scaler.fit(X_train)\n",
        "X_train_scaled = scaler.transform(X_train)\n",
        "X_test_scaled = scaler.transform(X_test)\n",
        "# learning an SVM on the scaled training data\n",
        "svm.fit(X_train_scaled, y_train)\n",
        "# scoring on the scaled test set\n",
        "print(\"Scaled test set accuracy: {:.2f}\".format( svm.score(X_test_scaled, y_test)))"
      ]
    },
    {
      "cell_type": "markdown",
      "metadata": {
        "id": "GjXOzrs6PnQT"
      },
      "source": [
        "Efekt skalowania danych jest dość znaczący. Mimo że skalowanie danych nie wiąże się z żadną skomplikowaną matematyką, dobrą praktyką jest używanie mechanizmów skalowania dostarczanych przez scikit-learn zamiast samodzielnego ich klepać."
      ]
    },
    {
      "cell_type": "markdown",
      "metadata": {
        "id": "vAKHWzUpPnQZ"
      },
      "source": [
        "# Zad. \n",
        "\n",
        "Wykonaj podobny eksperyment na \n",
        "\n",
        "```python\n",
        "datasets.load_wine()\n",
        "```"
      ]
    },
    {
      "cell_type": "code",
      "execution_count": 5,
      "metadata": {
        "id": "IyCV2d1fPnQv"
      },
      "outputs": [],
      "source": [
        "from sklearn.datasets import load_wine\n",
        "wine = load_wine()\n",
        "\n",
        "X = wine.data\n",
        "y = wine.target"
      ]
    },
    {
      "cell_type": "code",
      "execution_count": 10,
      "metadata": {
        "id": "iwzpBujkPnQ2"
      },
      "outputs": [],
      "source": [
        "from sklearn.svm import SVC\n",
        "from sklearn.model_selection import train_test_split\n",
        "# split it into training and test sets\n",
        "X_train, X_test, y_train, y_test= train_test_split(X, y, random_state=5)"
      ]
    },
    {
      "cell_type": "code",
      "execution_count": 11,
      "metadata": {
        "id": "r4FYVJHgPnQ6",
        "outputId": "549dada2-2885-4636-8a0c-fbbe54b2da12",
        "colab": {
          "base_uri": "https://localhost:8080/"
        }
      },
      "outputs": [
        {
          "output_type": "stream",
          "name": "stdout",
          "text": [
            "Test set accuracy: 0.64\n"
          ]
        }
      ],
      "source": [
        "from sklearn.svm import SVC\n",
        "from sklearn.preprocessing import StandardScaler\n",
        "X_train, X_test, y_train, y_test = train_test_split(wine.data, wine.target, random_state=5) \n",
        "svm = SVC()\n",
        "svm.fit(X_train, y_train)\n",
        "print(\"Test set accuracy: {:.2f}\".format(svm.score(X_test, y_test)))"
      ]
    },
    {
      "cell_type": "code",
      "execution_count": 12,
      "metadata": {
        "id": "IHf77fcKPnQ9",
        "outputId": "c09bf18b-f92a-4b81-ef76-97f164c798d3",
        "colab": {
          "base_uri": "https://localhost:8080/"
        }
      },
      "outputs": [
        {
          "output_type": "stream",
          "name": "stdout",
          "text": [
            "Scaled test set accuracy: 0.96\n"
          ]
        }
      ],
      "source": [
        "# preprocessing using 0-1 scaling\n",
        "from sklearn.preprocessing import StandardScaler\n",
        "\n",
        "scaler = StandardScaler()\n",
        "scaler.fit(X_train)\n",
        "X_train_scaled = scaler.transform(X_train)\n",
        "X_test_scaled = scaler.transform(X_test)\n",
        "\n",
        "svm.fit(X_train_scaled, y_train)\n",
        "\n",
        "print(\"Scaled test set accuracy: {:.2f}\".format( svm.score(X_test_scaled, y_test)))"
      ]
    },
    {
      "cell_type": "code",
      "execution_count": null,
      "metadata": {
        "id": "OT1j2MvSPnRB"
      },
      "outputs": [],
      "source": [
        ""
      ]
    }
  ],
  "metadata": {
    "kernelspec": {
      "display_name": "Python 3",
      "language": "python",
      "name": "python3"
    },
    "language_info": {
      "codemirror_mode": {
        "name": "ipython",
        "version": 3
      },
      "file_extension": ".py",
      "mimetype": "text/x-python",
      "name": "python",
      "nbconvert_exporter": "python",
      "pygments_lexer": "ipython3",
      "version": "3.7.3"
    },
    "colab": {
      "name": "Z09_C_StandardScaler.ipynb",
      "provenance": []
    }
  },
  "nbformat": 4,
  "nbformat_minor": 0
}