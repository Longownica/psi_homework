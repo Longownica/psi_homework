{
  "cells": [
    {
      "cell_type": "code",
      "execution_count": 1,
      "metadata": {
        "id": "dHWc0YxoFcNL",
        "outputId": "54d30c96-0590-482a-d2d8-c3531a2b514d",
        "colab": {
          "base_uri": "https://localhost:8080/"
        }
      },
      "outputs": [
        {
          "output_type": "stream",
          "name": "stdout",
          "text": [
            "2.8.2\n",
            "2.8.0\n"
          ]
        }
      ],
      "source": [
        "import tensorflow as tf\n",
        "from tensorflow import keras\n",
        "print(tf.__version__)\n",
        "\n",
        "print(keras.__version__)"
      ]
    },
    {
      "cell_type": "code",
      "execution_count": 2,
      "metadata": {
        "id": "Z0fykMzRFcNO"
      },
      "outputs": [],
      "source": [
        "import numpy as np\n",
        "import pandas as pd\n",
        "import matplotlib.pyplot as plt\n",
        "import os"
      ]
    },
    {
      "cell_type": "code",
      "execution_count": 3,
      "metadata": {
        "id": "yNm3R8nrFcNQ",
        "outputId": "b0f0700e-e89c-4bad-955e-5e228332a31b",
        "colab": {
          "base_uri": "https://localhost:8080/",
          "height": 261
        }
      },
      "outputs": [
        {
          "output_type": "stream",
          "name": "stderr",
          "text": [
            "/usr/local/lib/python3.7/dist-packages/pandas/util/_decorators.py:311: ParserWarning: Falling back to the 'python' engine because the 'c' engine does not support regex separators (separators > 1 char and different from '\\s+' are interpreted as regex); you can avoid this warning by specifying engine='python'.\n",
            "  return func(*args, **kwargs)\n"
          ]
        },
        {
          "output_type": "execute_result",
          "data": {
            "text/plain": [
              "   age         workclass  fnlwgt  education  education_num  \\\n",
              "0   39         State-gov   77516  Bachelors             13   \n",
              "1   50  Self-emp-not-inc   83311  Bachelors             13   \n",
              "2   38           Private  215646    HS-grad              9   \n",
              "3   53           Private  234721       11th              7   \n",
              "4   28           Private  338409  Bachelors             13   \n",
              "\n",
              "       marital_status         occupation   relationship   race     sex  \\\n",
              "0       Never-married       Adm-clerical  Not-in-family  White    Male   \n",
              "1  Married-civ-spouse    Exec-managerial        Husband  White    Male   \n",
              "2            Divorced  Handlers-cleaners  Not-in-family  White    Male   \n",
              "3  Married-civ-spouse  Handlers-cleaners        Husband  Black    Male   \n",
              "4  Married-civ-spouse     Prof-specialty           Wife  Black  Female   \n",
              "\n",
              "   capital_gain  capital_loss  hours_per_week native_country wage_class  \n",
              "0          2174             0              40  United-States      <=50K  \n",
              "1             0             0              13  United-States      <=50K  \n",
              "2             0             0              40  United-States      <=50K  \n",
              "3             0             0              40  United-States      <=50K  \n",
              "4             0             0              40           Cuba      <=50K  "
            ],
            "text/html": [
              "\n",
              "  <div id=\"df-034a9bed-5244-42fe-abbc-6fe27feb07ef\">\n",
              "    <div class=\"colab-df-container\">\n",
              "      <div>\n",
              "<style scoped>\n",
              "    .dataframe tbody tr th:only-of-type {\n",
              "        vertical-align: middle;\n",
              "    }\n",
              "\n",
              "    .dataframe tbody tr th {\n",
              "        vertical-align: top;\n",
              "    }\n",
              "\n",
              "    .dataframe thead th {\n",
              "        text-align: right;\n",
              "    }\n",
              "</style>\n",
              "<table border=\"1\" class=\"dataframe\">\n",
              "  <thead>\n",
              "    <tr style=\"text-align: right;\">\n",
              "      <th></th>\n",
              "      <th>age</th>\n",
              "      <th>workclass</th>\n",
              "      <th>fnlwgt</th>\n",
              "      <th>education</th>\n",
              "      <th>education_num</th>\n",
              "      <th>marital_status</th>\n",
              "      <th>occupation</th>\n",
              "      <th>relationship</th>\n",
              "      <th>race</th>\n",
              "      <th>sex</th>\n",
              "      <th>capital_gain</th>\n",
              "      <th>capital_loss</th>\n",
              "      <th>hours_per_week</th>\n",
              "      <th>native_country</th>\n",
              "      <th>wage_class</th>\n",
              "    </tr>\n",
              "  </thead>\n",
              "  <tbody>\n",
              "    <tr>\n",
              "      <th>0</th>\n",
              "      <td>39</td>\n",
              "      <td>State-gov</td>\n",
              "      <td>77516</td>\n",
              "      <td>Bachelors</td>\n",
              "      <td>13</td>\n",
              "      <td>Never-married</td>\n",
              "      <td>Adm-clerical</td>\n",
              "      <td>Not-in-family</td>\n",
              "      <td>White</td>\n",
              "      <td>Male</td>\n",
              "      <td>2174</td>\n",
              "      <td>0</td>\n",
              "      <td>40</td>\n",
              "      <td>United-States</td>\n",
              "      <td>&lt;=50K</td>\n",
              "    </tr>\n",
              "    <tr>\n",
              "      <th>1</th>\n",
              "      <td>50</td>\n",
              "      <td>Self-emp-not-inc</td>\n",
              "      <td>83311</td>\n",
              "      <td>Bachelors</td>\n",
              "      <td>13</td>\n",
              "      <td>Married-civ-spouse</td>\n",
              "      <td>Exec-managerial</td>\n",
              "      <td>Husband</td>\n",
              "      <td>White</td>\n",
              "      <td>Male</td>\n",
              "      <td>0</td>\n",
              "      <td>0</td>\n",
              "      <td>13</td>\n",
              "      <td>United-States</td>\n",
              "      <td>&lt;=50K</td>\n",
              "    </tr>\n",
              "    <tr>\n",
              "      <th>2</th>\n",
              "      <td>38</td>\n",
              "      <td>Private</td>\n",
              "      <td>215646</td>\n",
              "      <td>HS-grad</td>\n",
              "      <td>9</td>\n",
              "      <td>Divorced</td>\n",
              "      <td>Handlers-cleaners</td>\n",
              "      <td>Not-in-family</td>\n",
              "      <td>White</td>\n",
              "      <td>Male</td>\n",
              "      <td>0</td>\n",
              "      <td>0</td>\n",
              "      <td>40</td>\n",
              "      <td>United-States</td>\n",
              "      <td>&lt;=50K</td>\n",
              "    </tr>\n",
              "    <tr>\n",
              "      <th>3</th>\n",
              "      <td>53</td>\n",
              "      <td>Private</td>\n",
              "      <td>234721</td>\n",
              "      <td>11th</td>\n",
              "      <td>7</td>\n",
              "      <td>Married-civ-spouse</td>\n",
              "      <td>Handlers-cleaners</td>\n",
              "      <td>Husband</td>\n",
              "      <td>Black</td>\n",
              "      <td>Male</td>\n",
              "      <td>0</td>\n",
              "      <td>0</td>\n",
              "      <td>40</td>\n",
              "      <td>United-States</td>\n",
              "      <td>&lt;=50K</td>\n",
              "    </tr>\n",
              "    <tr>\n",
              "      <th>4</th>\n",
              "      <td>28</td>\n",
              "      <td>Private</td>\n",
              "      <td>338409</td>\n",
              "      <td>Bachelors</td>\n",
              "      <td>13</td>\n",
              "      <td>Married-civ-spouse</td>\n",
              "      <td>Prof-specialty</td>\n",
              "      <td>Wife</td>\n",
              "      <td>Black</td>\n",
              "      <td>Female</td>\n",
              "      <td>0</td>\n",
              "      <td>0</td>\n",
              "      <td>40</td>\n",
              "      <td>Cuba</td>\n",
              "      <td>&lt;=50K</td>\n",
              "    </tr>\n",
              "  </tbody>\n",
              "</table>\n",
              "</div>\n",
              "      <button class=\"colab-df-convert\" onclick=\"convertToInteractive('df-034a9bed-5244-42fe-abbc-6fe27feb07ef')\"\n",
              "              title=\"Convert this dataframe to an interactive table.\"\n",
              "              style=\"display:none;\">\n",
              "        \n",
              "  <svg xmlns=\"http://www.w3.org/2000/svg\" height=\"24px\"viewBox=\"0 0 24 24\"\n",
              "       width=\"24px\">\n",
              "    <path d=\"M0 0h24v24H0V0z\" fill=\"none\"/>\n",
              "    <path d=\"M18.56 5.44l.94 2.06.94-2.06 2.06-.94-2.06-.94-.94-2.06-.94 2.06-2.06.94zm-11 1L8.5 8.5l.94-2.06 2.06-.94-2.06-.94L8.5 2.5l-.94 2.06-2.06.94zm10 10l.94 2.06.94-2.06 2.06-.94-2.06-.94-.94-2.06-.94 2.06-2.06.94z\"/><path d=\"M17.41 7.96l-1.37-1.37c-.4-.4-.92-.59-1.43-.59-.52 0-1.04.2-1.43.59L10.3 9.45l-7.72 7.72c-.78.78-.78 2.05 0 2.83L4 21.41c.39.39.9.59 1.41.59.51 0 1.02-.2 1.41-.59l7.78-7.78 2.81-2.81c.8-.78.8-2.07 0-2.86zM5.41 20L4 18.59l7.72-7.72 1.47 1.35L5.41 20z\"/>\n",
              "  </svg>\n",
              "      </button>\n",
              "      \n",
              "  <style>\n",
              "    .colab-df-container {\n",
              "      display:flex;\n",
              "      flex-wrap:wrap;\n",
              "      gap: 12px;\n",
              "    }\n",
              "\n",
              "    .colab-df-convert {\n",
              "      background-color: #E8F0FE;\n",
              "      border: none;\n",
              "      border-radius: 50%;\n",
              "      cursor: pointer;\n",
              "      display: none;\n",
              "      fill: #1967D2;\n",
              "      height: 32px;\n",
              "      padding: 0 0 0 0;\n",
              "      width: 32px;\n",
              "    }\n",
              "\n",
              "    .colab-df-convert:hover {\n",
              "      background-color: #E2EBFA;\n",
              "      box-shadow: 0px 1px 2px rgba(60, 64, 67, 0.3), 0px 1px 3px 1px rgba(60, 64, 67, 0.15);\n",
              "      fill: #174EA6;\n",
              "    }\n",
              "\n",
              "    [theme=dark] .colab-df-convert {\n",
              "      background-color: #3B4455;\n",
              "      fill: #D2E3FC;\n",
              "    }\n",
              "\n",
              "    [theme=dark] .colab-df-convert:hover {\n",
              "      background-color: #434B5C;\n",
              "      box-shadow: 0px 1px 3px 1px rgba(0, 0, 0, 0.15);\n",
              "      filter: drop-shadow(0px 1px 2px rgba(0, 0, 0, 0.3));\n",
              "      fill: #FFFFFF;\n",
              "    }\n",
              "  </style>\n",
              "\n",
              "      <script>\n",
              "        const buttonEl =\n",
              "          document.querySelector('#df-034a9bed-5244-42fe-abbc-6fe27feb07ef button.colab-df-convert');\n",
              "        buttonEl.style.display =\n",
              "          google.colab.kernel.accessAllowed ? 'block' : 'none';\n",
              "\n",
              "        async function convertToInteractive(key) {\n",
              "          const element = document.querySelector('#df-034a9bed-5244-42fe-abbc-6fe27feb07ef');\n",
              "          const dataTable =\n",
              "            await google.colab.kernel.invokeFunction('convertToInteractive',\n",
              "                                                     [key], {});\n",
              "          if (!dataTable) return;\n",
              "\n",
              "          const docLinkHtml = 'Like what you see? Visit the ' +\n",
              "            '<a target=\"_blank\" href=https://colab.research.google.com/notebooks/data_table.ipynb>data table notebook</a>'\n",
              "            + ' to learn more about interactive tables.';\n",
              "          element.innerHTML = '';\n",
              "          dataTable['output_type'] = 'display_data';\n",
              "          await google.colab.output.renderOutput(dataTable, element);\n",
              "          const docLink = document.createElement('div');\n",
              "          docLink.innerHTML = docLinkHtml;\n",
              "          element.appendChild(docLink);\n",
              "        }\n",
              "      </script>\n",
              "    </div>\n",
              "  </div>\n",
              "  "
            ]
          },
          "metadata": {},
          "execution_count": 3
        }
      ],
      "source": [
        "# Wczytaj dane treningowe i testowe\n",
        "import numpy as np\n",
        "import matplotlib.pyplot as plt\n",
        "import pandas as pd\n",
        "\n",
        "train_set = pd.read_csv('https://raw.githubusercontent.com/przem85/podstawy_sztucznej_inteligencji/main/Dane/adult/adult.data', sep=\", \",header = None)\n",
        "test_set = pd.read_csv('https://raw.githubusercontent.com/przem85/podstawy_sztucznej_inteligencji/main/Dane/adult/adult.test', sep=\", \",skiprows = 1, header = None) # Make sure to skip a row for the test set\n",
        "\n",
        "col_labels = ['age', 'workclass', 'fnlwgt', 'education', 'education_num', 'marital_status', 'occupation', \n",
        "              'relationship', 'race', 'sex', 'capital_gain', 'capital_loss', 'hours_per_week', 'native_country',\n",
        "             'wage_class']\n",
        "train_set.columns = col_labels\n",
        "test_set.columns = col_labels\n",
        "\n",
        "train = train_set.replace('?', np.nan).dropna()\n",
        "test = test_set.replace('?', np.nan).dropna()\n",
        "\n",
        "train_set.head()\n"
      ]
    },
    {
      "cell_type": "markdown",
      "metadata": {
        "id": "0UU-IiiFFcNT"
      },
      "source": [
        "# Zad.\n",
        "Zróbmy szybki preprocesing"
      ]
    },
    {
      "cell_type": "code",
      "execution_count": 4,
      "metadata": {
        "id": "2P6uho2rFcNU"
      },
      "outputs": [],
      "source": [
        "dataset = pd.concat([train,test])\n",
        "\n",
        "dataset['wage_class'] = dataset.wage_class.replace({'<=50K.': 0,'<=50K':0, '>50K.':1, '>50K':1})\n",
        "\n",
        "dataset.drop([\"fnlwgt\"],axis=1,inplace=True)\n",
        "\n",
        "dataset.drop([\"education\"],axis=1,inplace=True)\n",
        "\n",
        "x = dataset.groupby('native_country')[\"wage_class\"].mean()\n",
        "\n",
        "d = dict(pd.cut(x[x.index!=\" United-States\"],5,labels=range(5)))\n",
        "\n",
        "dataset['native_country'] = dataset['native_country'].replace(d)\n",
        "\n",
        "dataset = pd.get_dummies(dataset,drop_first=True)\n",
        "\n",
        "train = dataset.iloc[:train.shape[0]]\n",
        "test = dataset.iloc[train.shape[0]:]\n",
        "\n",
        "X_train = train.drop(\"wage_class\",axis=1)\n",
        "y_train = train.wage_class\n",
        "\n",
        "X_test = test.drop(\"wage_class\",axis=1)\n",
        "y_test = test.wage_class\n"
      ]
    },
    {
      "cell_type": "code",
      "execution_count": 5,
      "metadata": {
        "id": "WLW7hbBsFcNX",
        "outputId": "2a54257f-c77f-4017-c9a5-8b735e94d0f2",
        "colab": {
          "base_uri": "https://localhost:8080/"
        }
      },
      "outputs": [
        {
          "output_type": "stream",
          "name": "stdout",
          "text": [
            "Model: \"sequential\"\n",
            "_________________________________________________________________\n",
            " Layer (type)                Output Shape              Param #   \n",
            "=================================================================\n",
            " dense (Dense)               (None, 100)               4200      \n",
            "                                                                 \n",
            " dense_1 (Dense)             (None, 50)                5050      \n",
            "                                                                 \n",
            " dense_2 (Dense)             (None, 10)                510       \n",
            "                                                                 \n",
            " dense_3 (Dense)             (None, 1)                 11        \n",
            "                                                                 \n",
            "=================================================================\n",
            "Total params: 9,771\n",
            "Trainable params: 9,771\n",
            "Non-trainable params: 0\n",
            "_________________________________________________________________\n"
          ]
        }
      ],
      "source": [
        "from keras.models import Sequential\n",
        "from keras.layers import Dense\n",
        "\n",
        "from keras.callbacks import History\n",
        "\n",
        "history = History()\n",
        "model = Sequential()\n",
        "model.add(Dense(100,activation=\"sigmoid\",input_shape=(X_train.shape[1],)))\n",
        "model.add(Dense(50,activation=\"sigmoid\"))\n",
        "model.add(Dense(10,activation=\"sigmoid\"))\n",
        "model.add(Dense(1,activation=\"sigmoid\"))\n",
        "model.summary()\n"
      ]
    },
    {
      "cell_type": "code",
      "execution_count": 6,
      "metadata": {
        "id": "goZsm4B9FcNZ"
      },
      "outputs": [],
      "source": [
        "model.compile(loss=\"binary_crossentropy\",optimizer=\"Adam\", metrics=[\"accuracy\"])"
      ]
    },
    {
      "cell_type": "markdown",
      "metadata": {
        "id": "40vWJycKFcNa"
      },
      "source": [
        "# Zad\n",
        "nauczmy model z EarlyStopping\n",
        "\n",
        "Musimy podać:\n",
        "* miarę, która ma zostać użyta do zatrzymania modelu\n",
        "* jak długo ma model ma czekać na otrzymanie lepszego parametru zanim się zatrzyma\n"
      ]
    },
    {
      "cell_type": "code",
      "execution_count": 8,
      "metadata": {
        "id": "dkpakrZ3FcNc",
        "outputId": "965fa1ca-ae4d-42cb-b126-0a4c6a2f1de4",
        "colab": {
          "base_uri": "https://localhost:8080/"
        }
      },
      "outputs": [
        {
          "output_type": "stream",
          "name": "stdout",
          "text": [
            "Epoch 1/100\n",
            "943/943 [==============================] - 4s 3ms/step - loss: 0.4671 - accuracy: 0.7758 - val_loss: 0.3879 - val_accuracy: 0.8088\n",
            "Epoch 2/100\n",
            "943/943 [==============================] - 3s 3ms/step - loss: 0.3870 - accuracy: 0.8085 - val_loss: 0.3752 - val_accuracy: 0.8098\n",
            "Epoch 3/100\n",
            "943/943 [==============================] - 3s 3ms/step - loss: 0.3773 - accuracy: 0.8121 - val_loss: 0.3867 - val_accuracy: 0.7811\n",
            "Epoch 4/100\n",
            "943/943 [==============================] - 3s 3ms/step - loss: 0.3765 - accuracy: 0.8118 - val_loss: 0.3922 - val_accuracy: 0.7892\n",
            "Epoch 5/100\n",
            "943/943 [==============================] - 3s 3ms/step - loss: 0.3719 - accuracy: 0.8161 - val_loss: 0.3711 - val_accuracy: 0.7954\n",
            "Epoch 6/100\n",
            "943/943 [==============================] - 3s 3ms/step - loss: 0.3723 - accuracy: 0.8141 - val_loss: 0.3694 - val_accuracy: 0.8141\n",
            "Epoch 7/100\n",
            "943/943 [==============================] - 3s 3ms/step - loss: 0.3720 - accuracy: 0.8126 - val_loss: 0.3702 - val_accuracy: 0.8163\n",
            "Epoch 8/100\n",
            "943/943 [==============================] - 3s 3ms/step - loss: 0.3714 - accuracy: 0.8127 - val_loss: 0.3653 - val_accuracy: 0.8149\n",
            "Epoch 9/100\n",
            "943/943 [==============================] - 3s 3ms/step - loss: 0.3710 - accuracy: 0.8144 - val_loss: 0.3890 - val_accuracy: 0.7983\n",
            "Epoch 10/100\n",
            "943/943 [==============================] - 3s 3ms/step - loss: 0.3702 - accuracy: 0.8133 - val_loss: 0.3700 - val_accuracy: 0.8148\n",
            "Epoch 11/100\n",
            "943/943 [==============================] - 3s 3ms/step - loss: 0.3690 - accuracy: 0.8135 - val_loss: 0.3653 - val_accuracy: 0.8161\n",
            "Epoch 12/100\n",
            "943/943 [==============================] - 3s 3ms/step - loss: 0.3679 - accuracy: 0.8155 - val_loss: 0.3659 - val_accuracy: 0.8128\n",
            "Epoch 13/100\n",
            "943/943 [==============================] - 3s 3ms/step - loss: 0.3661 - accuracy: 0.8179 - val_loss: 0.3874 - val_accuracy: 0.7975\n",
            "Epoch 14/100\n",
            "943/943 [==============================] - 3s 3ms/step - loss: 0.3677 - accuracy: 0.8138 - val_loss: 0.3652 - val_accuracy: 0.8159\n",
            "Epoch 15/100\n",
            "943/943 [==============================] - 3s 3ms/step - loss: 0.3671 - accuracy: 0.8146 - val_loss: 0.3698 - val_accuracy: 0.8145\n",
            "Epoch 16/100\n",
            "943/943 [==============================] - 3s 3ms/step - loss: 0.3658 - accuracy: 0.8153 - val_loss: 0.3654 - val_accuracy: 0.8137\n",
            "Epoch 17/100\n",
            "943/943 [==============================] - 3s 3ms/step - loss: 0.3661 - accuracy: 0.8160 - val_loss: 0.3745 - val_accuracy: 0.8148\n",
            "Epoch 17: early stopping\n"
          ]
        }
      ],
      "source": [
        "from keras.callbacks import EarlyStopping\n",
        "early_stopping = EarlyStopping(monitor='val_loss', patience=3, mode='min', verbose=1)\n",
        "history = model.fit(X_train, y_train, validation_data= (X_test, y_test), batch_size=32,epochs=100, callbacks=[early_stopping])"
      ]
    },
    {
      "cell_type": "code",
      "execution_count": 9,
      "metadata": {
        "id": "PeJglZs7FcNd",
        "outputId": "bf836575-72ed-4826-eaed-60353f987a04",
        "colab": {
          "base_uri": "https://localhost:8080/",
          "height": 324
        }
      },
      "outputs": [
        {
          "output_type": "display_data",
          "data": {
            "text/plain": [
              "<Figure size 576x360 with 1 Axes>"
            ],
            "image/png": "[encoded data removed]"
          },
          "metadata": {
            "needs_background": "light"
          }
        }
      ],
      "source": [
        "import pandas as pd\n",
        "\n",
        "pd.DataFrame(history.history).plot(figsize=(8, 5))\n",
        "plt.grid(True)\n",
        "plt.gca().set_ylim(0, 1)\n",
        "plt.show()"
      ]
    },
    {
      "cell_type": "code",
      "execution_count": 10,
      "metadata": {
        "id": "1cMNWDtMFcNd",
        "outputId": "8c6ed354-c4f9-4720-e770-4b8164be0285",
        "colab": {
          "base_uri": "https://localhost:8080/"
        }
      },
      "outputs": [
        {
          "output_type": "stream",
          "name": "stdout",
          "text": [
            "471/471 [==============================] - 1s 2ms/step - loss: 0.3745 - accuracy: 0.8148\n"
          ]
        },
        {
          "output_type": "execute_result",
          "data": {
            "text/plain": [
              "[0.37454232573509216, 0.8148074150085449]"
            ]
          },
          "metadata": {},
          "execution_count": 10
        }
      ],
      "source": [
        "model.evaluate(X_test,y_test)"
      ]
    },
    {
      "cell_type": "markdown",
      "metadata": {
        "id": "yskE5ahQFcNf"
      },
      "source": [
        "# Zad.\n",
        "Na poniższych danych naucz\n",
        "\n",
        "* model bez EarlyStopping z 1000 epok\n",
        "* model z wykorzystaniem EarlyStopping \n",
        "    dobierz paametr\n",
        "    ```python\n",
        "    patience=\n",
        "    ```\n",
        "\n",
        "Zwizualizuj wyniki:\n",
        "\n",
        "* porównaj krzywe uczenia\n",
        "* narysuj granice decyzyjne (dane są w 2D)\n",
        "\n",
        "\n"
      ]
    },
    {
      "cell_type": "code",
      "execution_count": 14,
      "metadata": {
        "id": "OYPodN5kFcNg",
        "outputId": "a7720e80-8972-46a2-c145-e963776e1f8d",
        "colab": {
          "base_uri": "https://localhost:8080/",
          "height": 265
        }
      },
      "outputs": [
        {
          "output_type": "display_data",
          "data": {
            "text/plain": [
              "<Figure size 432x288 with 1 Axes>"
            ],
            "image/png": "[encoded data removed]"
          },
          "metadata": {
            "needs_background": "light"
          }
        }
      ],
      "source": [
        "from sklearn.datasets import make_moons\n",
        "# generate 2d classification dataset\n",
        "X, y = make_moons(n_samples=100, noise=0.2, random_state=5)\n",
        "# split into train and test\n",
        "# n_train = 30\n",
        "# from sklearn.model_selection import train_test_split\n",
        "# X_train, X_test, y_train, y_test = train_test_split(X, y, test_size=0.70, random_state=2)\n",
        "\n",
        "n_train=53\n",
        "X_train, X_test = X[:n_train, :], X[n_train:, :]\n",
        "y_train, y_test = y[:n_train], y[n_train:]\n",
        "\n",
        "plt.scatter(X_train[:,0],X_train[:,1], c=y_train)\n",
        "plt.show()"
      ]
    },
    {
      "cell_type": "code",
      "execution_count": 15,
      "metadata": {
        "id": "EE79RG8qFcNi",
        "outputId": "5a47ec85-5593-4e26-c660-92e26b0e4dde",
        "colab": {
          "base_uri": "https://localhost:8080/"
        }
      },
      "outputs": [
        {
          "output_type": "stream",
          "name": "stdout",
          "text": [
            "Model: \"sequential_1\"\n",
            "_________________________________________________________________\n",
            " Layer (type)                Output Shape              Param #   \n",
            "=================================================================\n",
            " dense_4 (Dense)             (None, 100)               300       \n",
            "                                                                 \n",
            " dense_5 (Dense)             (None, 50)                5050      \n",
            "                                                                 \n",
            " dense_6 (Dense)             (None, 10)                510       \n",
            "                                                                 \n",
            " dense_7 (Dense)             (None, 1)                 11        \n",
            "                                                                 \n",
            "=================================================================\n",
            "Total params: 5,871\n",
            "Trainable params: 5,871\n",
            "Non-trainable params: 0\n",
            "_________________________________________________________________\n"
          ]
        }
      ],
      "source": [
        "history = History()\n",
        "model = Sequential()\n",
        "model.add(Dense(100,activation=\"relu\",input_shape=(X_train.shape[1],)))\n",
        "model.add(Dense(50,activation=\"relu\"))\n",
        "model.add(Dense(10,activation=\"relu\"))\n",
        "model.add(Dense(1,activation=\"sigmoid\"))\n",
        "model.summary()"
      ]
    },
    {
      "cell_type": "code",
      "execution_count": 16,
      "metadata": {
        "id": "XZIHQwWmFcNj",
        "outputId": "12d20781-5a2e-4509-91b0-24d765b923c7",
        "colab": {
          "base_uri": "https://localhost:8080/"
        }
      },
      "outputs": [
        {
          "output_type": "stream",
          "name": "stdout",
          "text": [
            "Epoch 1/100\n",
            "2/2 [==============================] - 1s 319ms/step - loss: 0.6929 - accuracy: 0.4151 - val_loss: 0.6712 - val_accuracy: 0.4894\n",
            "Epoch 2/100\n",
            "2/2 [==============================] - 0s 54ms/step - loss: 0.6732 - accuracy: 0.6415 - val_loss: 0.6583 - val_accuracy: 0.7447\n",
            "Epoch 3/100\n",
            "2/2 [==============================] - 0s 41ms/step - loss: 0.6573 - accuracy: 0.8491 - val_loss: 0.6458 - val_accuracy: 0.7660\n",
            "Epoch 4/100\n",
            "2/2 [==============================] - 0s 43ms/step - loss: 0.6411 - accuracy: 0.8491 - val_loss: 0.6335 - val_accuracy: 0.7660\n",
            "Epoch 5/100\n",
            "2/2 [==============================] - 0s 45ms/step - loss: 0.6247 - accuracy: 0.8491 - val_loss: 0.6216 - val_accuracy: 0.7872\n",
            "Epoch 6/100\n",
            "2/2 [==============================] - 0s 42ms/step - loss: 0.6098 - accuracy: 0.8679 - val_loss: 0.6095 - val_accuracy: 0.7872\n",
            "Epoch 7/100\n",
            "2/2 [==============================] - 0s 40ms/step - loss: 0.5944 - accuracy: 0.8491 - val_loss: 0.5971 - val_accuracy: 0.7872\n",
            "Epoch 8/100\n",
            "2/2 [==============================] - 0s 56ms/step - loss: 0.5793 - accuracy: 0.8491 - val_loss: 0.5841 - val_accuracy: 0.7872\n",
            "Epoch 9/100\n",
            "2/2 [==============================] - 0s 44ms/step - loss: 0.5628 - accuracy: 0.8491 - val_loss: 0.5701 - val_accuracy: 0.7872\n",
            "Epoch 10/100\n",
            "2/2 [==============================] - 0s 40ms/step - loss: 0.5467 - accuracy: 0.8491 - val_loss: 0.5558 - val_accuracy: 0.7872\n",
            "Epoch 11/100\n",
            "2/2 [==============================] - 0s 41ms/step - loss: 0.5287 - accuracy: 0.8491 - val_loss: 0.5412 - val_accuracy: 0.7660\n",
            "Epoch 12/100\n",
            "2/2 [==============================] - 0s 42ms/step - loss: 0.5106 - accuracy: 0.8491 - val_loss: 0.5272 - val_accuracy: 0.7660\n",
            "Epoch 13/100\n",
            "2/2 [==============================] - 0s 44ms/step - loss: 0.4914 - accuracy: 0.8679 - val_loss: 0.5144 - val_accuracy: 0.7660\n",
            "Epoch 14/100\n",
            "2/2 [==============================] - 0s 50ms/step - loss: 0.4744 - accuracy: 0.8679 - val_loss: 0.5030 - val_accuracy: 0.7660\n",
            "Epoch 15/100\n",
            "2/2 [==============================] - 0s 65ms/step - loss: 0.4568 - accuracy: 0.8679 - val_loss: 0.4936 - val_accuracy: 0.7660\n",
            "Epoch 16/100\n",
            "2/2 [==============================] - 0s 45ms/step - loss: 0.4395 - accuracy: 0.8679 - val_loss: 0.4853 - val_accuracy: 0.7447\n",
            "Epoch 17/100\n",
            "2/2 [==============================] - 0s 49ms/step - loss: 0.4236 - accuracy: 0.8679 - val_loss: 0.4775 - val_accuracy: 0.7447\n",
            "Epoch 18/100\n",
            "2/2 [==============================] - 0s 47ms/step - loss: 0.4096 - accuracy: 0.8679 - val_loss: 0.4703 - val_accuracy: 0.7447\n",
            "Epoch 19/100\n",
            "2/2 [==============================] - 0s 41ms/step - loss: 0.3943 - accuracy: 0.8679 - val_loss: 0.4637 - val_accuracy: 0.7660\n",
            "Epoch 20/100\n",
            "2/2 [==============================] - 0s 41ms/step - loss: 0.3817 - accuracy: 0.8679 - val_loss: 0.4574 - val_accuracy: 0.7872\n",
            "Epoch 21/100\n",
            "2/2 [==============================] - 0s 40ms/step - loss: 0.3694 - accuracy: 0.8679 - val_loss: 0.4517 - val_accuracy: 0.7872\n",
            "Epoch 22/100\n",
            "2/2 [==============================] - 0s 42ms/step - loss: 0.3578 - accuracy: 0.8679 - val_loss: 0.4480 - val_accuracy: 0.7872\n",
            "Epoch 23/100\n",
            "2/2 [==============================] - 0s 49ms/step - loss: 0.3463 - accuracy: 0.8679 - val_loss: 0.4458 - val_accuracy: 0.8085\n",
            "Epoch 24/100\n",
            "2/2 [==============================] - 0s 51ms/step - loss: 0.3379 - accuracy: 0.8679 - val_loss: 0.4446 - val_accuracy: 0.8085\n",
            "Epoch 25/100\n",
            "2/2 [==============================] - 0s 46ms/step - loss: 0.3287 - accuracy: 0.8679 - val_loss: 0.4413 - val_accuracy: 0.8085\n",
            "Epoch 26/100\n",
            "2/2 [==============================] - 0s 47ms/step - loss: 0.3208 - accuracy: 0.8679 - val_loss: 0.4393 - val_accuracy: 0.8085\n",
            "Epoch 27/100\n",
            "2/2 [==============================] - 0s 48ms/step - loss: 0.3135 - accuracy: 0.8679 - val_loss: 0.4360 - val_accuracy: 0.8085\n",
            "Epoch 28/100\n",
            "2/2 [==============================] - 0s 43ms/step - loss: 0.3078 - accuracy: 0.8868 - val_loss: 0.4320 - val_accuracy: 0.8085\n",
            "Epoch 29/100\n",
            "2/2 [==============================] - 0s 67ms/step - loss: 0.3020 - accuracy: 0.8679 - val_loss: 0.4276 - val_accuracy: 0.8085\n",
            "Epoch 30/100\n",
            "2/2 [==============================] - 0s 47ms/step - loss: 0.2971 - accuracy: 0.8679 - val_loss: 0.4234 - val_accuracy: 0.8085\n",
            "Epoch 31/100\n",
            "2/2 [==============================] - 0s 43ms/step - loss: 0.2936 - accuracy: 0.8679 - val_loss: 0.4213 - val_accuracy: 0.8085\n",
            "Epoch 32/100\n",
            "2/2 [==============================] - 0s 67ms/step - loss: 0.2900 - accuracy: 0.8679 - val_loss: 0.4210 - val_accuracy: 0.8085\n",
            "Epoch 33/100\n",
            "2/2 [==============================] - 0s 46ms/step - loss: 0.2869 - accuracy: 0.8679 - val_loss: 0.4223 - val_accuracy: 0.8085\n",
            "Epoch 34/100\n",
            "2/2 [==============================] - 0s 43ms/step - loss: 0.2842 - accuracy: 0.8679 - val_loss: 0.4236 - val_accuracy: 0.8085\n",
            "Epoch 35/100\n",
            "2/2 [==============================] - 0s 45ms/step - loss: 0.2815 - accuracy: 0.8679 - val_loss: 0.4249 - val_accuracy: 0.8085\n",
            "Epoch 36/100\n",
            "2/2 [==============================] - 0s 80ms/step - loss: 0.2787 - accuracy: 0.8679 - val_loss: 0.4282 - val_accuracy: 0.8298\n",
            "Epoch 37/100\n",
            "2/2 [==============================] - 0s 44ms/step - loss: 0.2762 - accuracy: 0.8679 - val_loss: 0.4317 - val_accuracy: 0.8298\n",
            "Epoch 38/100\n",
            "2/2 [==============================] - 0s 41ms/step - loss: 0.2743 - accuracy: 0.8868 - val_loss: 0.4364 - val_accuracy: 0.8298\n",
            "Epoch 39/100\n",
            "2/2 [==============================] - 0s 45ms/step - loss: 0.2722 - accuracy: 0.9057 - val_loss: 0.4406 - val_accuracy: 0.8298\n",
            "Epoch 40/100\n",
            "2/2 [==============================] - 0s 45ms/step - loss: 0.2711 - accuracy: 0.9057 - val_loss: 0.4451 - val_accuracy: 0.8298\n",
            "Epoch 41/100\n",
            "2/2 [==============================] - 0s 45ms/step - loss: 0.2690 - accuracy: 0.9057 - val_loss: 0.4449 - val_accuracy: 0.8298\n",
            "Epoch 42/100\n",
            "2/2 [==============================] - 0s 43ms/step - loss: 0.2671 - accuracy: 0.9057 - val_loss: 0.4435 - val_accuracy: 0.8298\n",
            "Epoch 43/100\n",
            "2/2 [==============================] - 0s 42ms/step - loss: 0.2652 - accuracy: 0.9057 - val_loss: 0.4415 - val_accuracy: 0.8298\n",
            "Epoch 44/100\n",
            "2/2 [==============================] - 0s 42ms/step - loss: 0.2638 - accuracy: 0.9057 - val_loss: 0.4407 - val_accuracy: 0.8298\n",
            "Epoch 45/100\n",
            "2/2 [==============================] - 0s 48ms/step - loss: 0.2619 - accuracy: 0.9057 - val_loss: 0.4370 - val_accuracy: 0.8298\n",
            "Epoch 46/100\n",
            "2/2 [==============================] - 0s 59ms/step - loss: 0.2605 - accuracy: 0.9057 - val_loss: 0.4341 - val_accuracy: 0.8298\n",
            "Epoch 47/100\n",
            "2/2 [==============================] - 0s 40ms/step - loss: 0.2587 - accuracy: 0.9057 - val_loss: 0.4296 - val_accuracy: 0.8298\n",
            "Epoch 48/100\n",
            "2/2 [==============================] - 0s 51ms/step - loss: 0.2575 - accuracy: 0.9057 - val_loss: 0.4259 - val_accuracy: 0.8298\n",
            "Epoch 49/100\n",
            "2/2 [==============================] - 0s 60ms/step - loss: 0.2559 - accuracy: 0.9057 - val_loss: 0.4259 - val_accuracy: 0.8298\n",
            "Epoch 50/100\n",
            "2/2 [==============================] - 0s 44ms/step - loss: 0.2544 - accuracy: 0.9057 - val_loss: 0.4265 - val_accuracy: 0.8298\n",
            "Epoch 51/100\n",
            "2/2 [==============================] - 0s 43ms/step - loss: 0.2532 - accuracy: 0.9057 - val_loss: 0.4294 - val_accuracy: 0.8298\n",
            "Epoch 52/100\n",
            "2/2 [==============================] - 0s 57ms/step - loss: 0.2507 - accuracy: 0.9057 - val_loss: 0.4302 - val_accuracy: 0.8298\n",
            "Epoch 53/100\n",
            "2/2 [==============================] - 0s 58ms/step - loss: 0.2492 - accuracy: 0.9057 - val_loss: 0.4317 - val_accuracy: 0.8298\n",
            "Epoch 54/100\n",
            "2/2 [==============================] - 0s 47ms/step - loss: 0.2475 - accuracy: 0.9057 - val_loss: 0.4329 - val_accuracy: 0.8298\n",
            "Epoch 55/100\n",
            "2/2 [==============================] - 0s 48ms/step - loss: 0.2457 - accuracy: 0.9057 - val_loss: 0.4338 - val_accuracy: 0.8298\n",
            "Epoch 56/100\n",
            "2/2 [==============================] - 0s 53ms/step - loss: 0.2441 - accuracy: 0.9057 - val_loss: 0.4349 - val_accuracy: 0.8298\n",
            "Epoch 57/100\n",
            "2/2 [==============================] - 0s 45ms/step - loss: 0.2428 - accuracy: 0.9057 - val_loss: 0.4326 - val_accuracy: 0.8298\n",
            "Epoch 58/100\n",
            "2/2 [==============================] - 0s 48ms/step - loss: 0.2410 - accuracy: 0.9057 - val_loss: 0.4332 - val_accuracy: 0.8298\n",
            "Epoch 59/100\n",
            "2/2 [==============================] - 0s 43ms/step - loss: 0.2390 - accuracy: 0.9057 - val_loss: 0.4386 - val_accuracy: 0.8298\n",
            "Epoch 60/100\n",
            "2/2 [==============================] - 0s 46ms/step - loss: 0.2384 - accuracy: 0.9057 - val_loss: 0.4435 - val_accuracy: 0.8298\n",
            "Epoch 61/100\n",
            "2/2 [==============================] - 0s 42ms/step - loss: 0.2356 - accuracy: 0.9057 - val_loss: 0.4423 - val_accuracy: 0.8298\n",
            "Epoch 62/100\n",
            "2/2 [==============================] - 0s 43ms/step - loss: 0.2342 - accuracy: 0.9057 - val_loss: 0.4408 - val_accuracy: 0.8298\n",
            "Epoch 63/100\n",
            "2/2 [==============================] - 0s 30ms/step - loss: 0.2328 - accuracy: 0.9057 - val_loss: 0.4356 - val_accuracy: 0.8298\n",
            "Epoch 64/100\n",
            "2/2 [==============================] - 0s 29ms/step - loss: 0.2307 - accuracy: 0.9057 - val_loss: 0.4340 - val_accuracy: 0.8298\n",
            "Epoch 65/100\n",
            "2/2 [==============================] - 0s 32ms/step - loss: 0.2298 - accuracy: 0.9057 - val_loss: 0.4319 - val_accuracy: 0.8298\n",
            "Epoch 66/100\n",
            "2/2 [==============================] - 0s 28ms/step - loss: 0.2275 - accuracy: 0.9057 - val_loss: 0.4318 - val_accuracy: 0.8298\n",
            "Epoch 67/100\n",
            "2/2 [==============================] - 0s 28ms/step - loss: 0.2261 - accuracy: 0.9057 - val_loss: 0.4304 - val_accuracy: 0.8085\n",
            "Epoch 68/100\n",
            "2/2 [==============================] - 0s 26ms/step - loss: 0.2247 - accuracy: 0.9245 - val_loss: 0.4310 - val_accuracy: 0.8085\n",
            "Epoch 69/100\n",
            "2/2 [==============================] - 0s 31ms/step - loss: 0.2229 - accuracy: 0.9245 - val_loss: 0.4328 - val_accuracy: 0.8298\n",
            "Epoch 70/100\n",
            "2/2 [==============================] - 0s 30ms/step - loss: 0.2217 - accuracy: 0.9245 - val_loss: 0.4369 - val_accuracy: 0.8298\n",
            "Epoch 71/100\n",
            "2/2 [==============================] - 0s 31ms/step - loss: 0.2200 - accuracy: 0.9245 - val_loss: 0.4377 - val_accuracy: 0.8298\n",
            "Epoch 72/100\n",
            "2/2 [==============================] - 0s 28ms/step - loss: 0.2176 - accuracy: 0.9245 - val_loss: 0.4339 - val_accuracy: 0.8298\n",
            "Epoch 73/100\n",
            "2/2 [==============================] - 0s 28ms/step - loss: 0.2151 - accuracy: 0.9245 - val_loss: 0.4307 - val_accuracy: 0.8085\n",
            "Epoch 74/100\n",
            "2/2 [==============================] - 0s 30ms/step - loss: 0.2125 - accuracy: 0.9245 - val_loss: 0.4279 - val_accuracy: 0.8085\n",
            "Epoch 75/100\n",
            "2/2 [==============================] - 0s 28ms/step - loss: 0.2094 - accuracy: 0.9245 - val_loss: 0.4236 - val_accuracy: 0.8085\n",
            "Epoch 76/100\n",
            "2/2 [==============================] - 0s 30ms/step - loss: 0.2077 - accuracy: 0.9245 - val_loss: 0.4197 - val_accuracy: 0.8085\n",
            "Epoch 77/100\n",
            "2/2 [==============================] - 0s 28ms/step - loss: 0.2047 - accuracy: 0.9245 - val_loss: 0.4235 - val_accuracy: 0.8085\n",
            "Epoch 78/100\n",
            "2/2 [==============================] - 0s 28ms/step - loss: 0.2016 - accuracy: 0.9245 - val_loss: 0.4216 - val_accuracy: 0.8298\n",
            "Epoch 79/100\n",
            "2/2 [==============================] - 0s 33ms/step - loss: 0.1992 - accuracy: 0.9245 - val_loss: 0.4196 - val_accuracy: 0.8298\n",
            "Epoch 80/100\n",
            "2/2 [==============================] - 0s 30ms/step - loss: 0.1972 - accuracy: 0.9245 - val_loss: 0.4181 - val_accuracy: 0.8298\n",
            "Epoch 81/100\n",
            "2/2 [==============================] - 0s 30ms/step - loss: 0.1961 - accuracy: 0.9245 - val_loss: 0.4121 - val_accuracy: 0.8298\n",
            "Epoch 82/100\n",
            "2/2 [==============================] - 0s 30ms/step - loss: 0.1929 - accuracy: 0.9245 - val_loss: 0.4118 - val_accuracy: 0.8298\n",
            "Epoch 83/100\n",
            "2/2 [==============================] - 0s 28ms/step - loss: 0.1912 - accuracy: 0.9245 - val_loss: 0.4104 - val_accuracy: 0.8298\n",
            "Epoch 84/100\n",
            "2/2 [==============================] - 0s 38ms/step - loss: 0.1881 - accuracy: 0.9245 - val_loss: 0.4040 - val_accuracy: 0.8298\n",
            "Epoch 85/100\n",
            "2/2 [==============================] - 0s 34ms/step - loss: 0.1857 - accuracy: 0.9245 - val_loss: 0.3980 - val_accuracy: 0.8298\n",
            "Epoch 86/100\n",
            "2/2 [==============================] - 0s 51ms/step - loss: 0.1835 - accuracy: 0.9245 - val_loss: 0.3933 - val_accuracy: 0.8298\n",
            "Epoch 87/100\n",
            "2/2 [==============================] - 0s 27ms/step - loss: 0.1812 - accuracy: 0.9057 - val_loss: 0.3910 - val_accuracy: 0.8298\n",
            "Epoch 88/100\n",
            "2/2 [==============================] - 0s 37ms/step - loss: 0.1790 - accuracy: 0.9057 - val_loss: 0.3918 - val_accuracy: 0.8298\n",
            "Epoch 89/100\n",
            "2/2 [==============================] - 0s 28ms/step - loss: 0.1772 - accuracy: 0.9245 - val_loss: 0.3919 - val_accuracy: 0.8298\n",
            "Epoch 90/100\n",
            "2/2 [==============================] - 0s 28ms/step - loss: 0.1740 - accuracy: 0.9245 - val_loss: 0.3910 - val_accuracy: 0.8298\n",
            "Epoch 91/100\n",
            "2/2 [==============================] - 0s 34ms/step - loss: 0.1717 - accuracy: 0.9245 - val_loss: 0.3930 - val_accuracy: 0.8298\n",
            "Epoch 92/100\n",
            "2/2 [==============================] - 0s 30ms/step - loss: 0.1695 - accuracy: 0.9245 - val_loss: 0.3941 - val_accuracy: 0.8298\n",
            "Epoch 93/100\n",
            "2/2 [==============================] - 0s 31ms/step - loss: 0.1679 - accuracy: 0.9245 - val_loss: 0.3955 - val_accuracy: 0.8298\n",
            "Epoch 94/100\n",
            "2/2 [==============================] - 0s 30ms/step - loss: 0.1653 - accuracy: 0.9434 - val_loss: 0.3941 - val_accuracy: 0.8298\n",
            "Epoch 95/100\n",
            "2/2 [==============================] - 0s 31ms/step - loss: 0.1631 - accuracy: 0.9434 - val_loss: 0.3907 - val_accuracy: 0.8298\n",
            "Epoch 96/100\n",
            "2/2 [==============================] - 0s 36ms/step - loss: 0.1609 - accuracy: 0.9434 - val_loss: 0.3866 - val_accuracy: 0.8298\n",
            "Epoch 97/100\n",
            "2/2 [==============================] - 0s 36ms/step - loss: 0.1590 - accuracy: 0.9434 - val_loss: 0.3834 - val_accuracy: 0.8298\n",
            "Epoch 98/100\n",
            "2/2 [==============================] - 0s 36ms/step - loss: 0.1569 - accuracy: 0.9434 - val_loss: 0.3826 - val_accuracy: 0.8298\n",
            "Epoch 99/100\n",
            "2/2 [==============================] - 0s 33ms/step - loss: 0.1545 - accuracy: 0.9434 - val_loss: 0.3790 - val_accuracy: 0.8298\n",
            "Epoch 100/100\n",
            "2/2 [==============================] - 0s 30ms/step - loss: 0.1526 - accuracy: 0.9434 - val_loss: 0.3759 - val_accuracy: 0.8511\n"
          ]
        }
      ],
      "source": [
        "model.compile(loss=\"binary_crossentropy\",optimizer=\"Adam\", metrics=[\"accuracy\"])\n",
        "history = model.fit(X_train, y_train, validation_data=(X_test, y_test), batch_size=32, epochs=100)"
      ]
    },
    {
      "cell_type": "code",
      "execution_count": 17,
      "metadata": {
        "id": "MXMh-ymXFcNk",
        "outputId": "7fc7f395-c5d6-4f34-c140-7bef4e58d2dc",
        "colab": {
          "base_uri": "https://localhost:8080/",
          "height": 324
        }
      },
      "outputs": [
        {
          "output_type": "display_data",
          "data": {
            "text/plain": [
              "<Figure size 576x360 with 1 Axes>"
            ],
            "image/png": "[encoded data removed]"
          },
          "metadata": {
            "needs_background": "light"
          }
        }
      ],
      "source": [
        "import pandas as pd\n",
        "\n",
        "pd.DataFrame(history.history).plot(figsize=(8, 5))\n",
        "plt.grid(True)\n",
        "plt.gca().set_ylim(0, 1)\n",
        "plt.show()"
      ]
    },
    {
      "cell_type": "code",
      "execution_count": 18,
      "metadata": {
        "id": "ukQ9J2nUFcNl",
        "outputId": "e4bc669f-556a-4b97-e793-aef973c08a81",
        "colab": {
          "base_uri": "https://localhost:8080/"
        }
      },
      "outputs": [
        {
          "output_type": "stream",
          "name": "stdout",
          "text": [
            "Model: \"sequential_2\"\n",
            "_________________________________________________________________\n",
            " Layer (type)                Output Shape              Param #   \n",
            "=================================================================\n",
            " dense_8 (Dense)             (None, 100)               300       \n",
            "                                                                 \n",
            " dense_9 (Dense)             (None, 50)                5050      \n",
            "                                                                 \n",
            " dense_10 (Dense)            (None, 10)                510       \n",
            "                                                                 \n",
            " dense_11 (Dense)            (None, 1)                 11        \n",
            "                                                                 \n",
            "=================================================================\n",
            "Total params: 5,871\n",
            "Trainable params: 5,871\n",
            "Non-trainable params: 0\n",
            "_________________________________________________________________\n"
          ]
        }
      ],
      "source": [
        "history_es = History()\n",
        "model_es = Sequential()\n",
        "model_es.add(Dense(100,activation=\"relu\",input_shape=(X_train.shape[1],)))\n",
        "model_es.add(Dense(50,activation=\"relu\"))\n",
        "model_es.add(Dense(10,activation=\"relu\"))\n",
        "model_es.add(Dense(1,activation=\"sigmoid\"))\n",
        "model_es.summary()"
      ]
    },
    {
      "cell_type": "code",
      "execution_count": 19,
      "metadata": {
        "id": "-b71bou_FcNl",
        "outputId": "741b8e4b-99b7-4c97-aa3f-578948f5ed95",
        "colab": {
          "base_uri": "https://localhost:8080/"
        }
      },
      "outputs": [
        {
          "output_type": "stream",
          "name": "stdout",
          "text": [
            "Epoch 1/100\n",
            "2/2 [==============================] - 2s 457ms/step - loss: 0.6877 - accuracy: 0.5849 - val_loss: 0.6822 - val_accuracy: 0.8085\n",
            "Epoch 2/100\n",
            "2/2 [==============================] - 0s 43ms/step - loss: 0.6720 - accuracy: 0.8113 - val_loss: 0.6727 - val_accuracy: 0.7872\n",
            "Epoch 3/100\n",
            "2/2 [==============================] - 0s 79ms/step - loss: 0.6608 - accuracy: 0.8491 - val_loss: 0.6644 - val_accuracy: 0.8085\n",
            "Epoch 4/100\n",
            "2/2 [==============================] - 0s 97ms/step - loss: 0.6506 - accuracy: 0.8679 - val_loss: 0.6563 - val_accuracy: 0.8085\n",
            "Epoch 5/100\n",
            "2/2 [==============================] - 0s 65ms/step - loss: 0.6414 - accuracy: 0.8679 - val_loss: 0.6485 - val_accuracy: 0.8085\n",
            "Epoch 6/100\n",
            "2/2 [==============================] - 0s 53ms/step - loss: 0.6310 - accuracy: 0.8679 - val_loss: 0.6408 - val_accuracy: 0.8085\n",
            "Epoch 7/100\n",
            "2/2 [==============================] - 0s 83ms/step - loss: 0.6206 - accuracy: 0.8679 - val_loss: 0.6330 - val_accuracy: 0.7872\n",
            "Epoch 8/100\n",
            "2/2 [==============================] - 0s 55ms/step - loss: 0.6097 - accuracy: 0.8679 - val_loss: 0.6250 - val_accuracy: 0.7872\n",
            "Epoch 9/100\n",
            "2/2 [==============================] - 0s 44ms/step - loss: 0.5986 - accuracy: 0.8679 - val_loss: 0.6167 - val_accuracy: 0.7872\n",
            "Epoch 10/100\n",
            "2/2 [==============================] - 0s 50ms/step - loss: 0.5874 - accuracy: 0.8679 - val_loss: 0.6083 - val_accuracy: 0.7872\n",
            "Epoch 11/100\n",
            "2/2 [==============================] - 0s 85ms/step - loss: 0.5751 - accuracy: 0.8679 - val_loss: 0.6000 - val_accuracy: 0.7872\n",
            "Epoch 12/100\n",
            "2/2 [==============================] - 0s 39ms/step - loss: 0.5623 - accuracy: 0.8679 - val_loss: 0.5914 - val_accuracy: 0.7872\n",
            "Epoch 13/100\n",
            "2/2 [==============================] - 0s 75ms/step - loss: 0.5496 - accuracy: 0.8491 - val_loss: 0.5827 - val_accuracy: 0.7872\n",
            "Epoch 14/100\n",
            "2/2 [==============================] - 0s 66ms/step - loss: 0.5367 - accuracy: 0.8491 - val_loss: 0.5737 - val_accuracy: 0.7872\n",
            "Epoch 15/100\n",
            "2/2 [==============================] - 0s 95ms/step - loss: 0.5227 - accuracy: 0.8491 - val_loss: 0.5643 - val_accuracy: 0.7872\n",
            "Epoch 16/100\n",
            "2/2 [==============================] - 0s 83ms/step - loss: 0.5095 - accuracy: 0.8491 - val_loss: 0.5546 - val_accuracy: 0.7872\n",
            "Epoch 17/100\n",
            "2/2 [==============================] - 0s 52ms/step - loss: 0.4958 - accuracy: 0.8679 - val_loss: 0.5449 - val_accuracy: 0.7872\n",
            "Epoch 18/100\n",
            "2/2 [==============================] - 0s 42ms/step - loss: 0.4822 - accuracy: 0.8679 - val_loss: 0.5355 - val_accuracy: 0.7872\n",
            "Epoch 19/100\n",
            "2/2 [==============================] - 0s 65ms/step - loss: 0.4676 - accuracy: 0.8679 - val_loss: 0.5261 - val_accuracy: 0.7872\n",
            "Epoch 20/100\n",
            "2/2 [==============================] - 0s 55ms/step - loss: 0.4538 - accuracy: 0.8679 - val_loss: 0.5170 - val_accuracy: 0.7872\n",
            "Epoch 21/100\n",
            "2/2 [==============================] - 0s 53ms/step - loss: 0.4411 - accuracy: 0.8679 - val_loss: 0.5084 - val_accuracy: 0.7872\n",
            "Epoch 22/100\n",
            "2/2 [==============================] - 0s 42ms/step - loss: 0.4294 - accuracy: 0.8679 - val_loss: 0.5001 - val_accuracy: 0.7872\n",
            "Epoch 23/100\n",
            "2/2 [==============================] - 0s 75ms/step - loss: 0.4172 - accuracy: 0.8679 - val_loss: 0.4924 - val_accuracy: 0.7872\n",
            "Epoch 24/100\n",
            "2/2 [==============================] - 0s 79ms/step - loss: 0.4059 - accuracy: 0.8679 - val_loss: 0.4855 - val_accuracy: 0.7872\n",
            "Epoch 25/100\n",
            "2/2 [==============================] - 0s 45ms/step - loss: 0.3953 - accuracy: 0.8679 - val_loss: 0.4787 - val_accuracy: 0.7872\n",
            "Epoch 26/100\n",
            "2/2 [==============================] - 0s 40ms/step - loss: 0.3859 - accuracy: 0.8679 - val_loss: 0.4721 - val_accuracy: 0.7872\n",
            "Epoch 27/100\n",
            "2/2 [==============================] - 0s 66ms/step - loss: 0.3765 - accuracy: 0.8679 - val_loss: 0.4652 - val_accuracy: 0.7872\n",
            "Epoch 28/100\n",
            "2/2 [==============================] - 0s 47ms/step - loss: 0.3671 - accuracy: 0.8679 - val_loss: 0.4578 - val_accuracy: 0.7872\n",
            "Epoch 29/100\n",
            "2/2 [==============================] - 0s 48ms/step - loss: 0.3581 - accuracy: 0.8679 - val_loss: 0.4529 - val_accuracy: 0.7872\n",
            "Epoch 30/100\n",
            "2/2 [==============================] - 0s 42ms/step - loss: 0.3488 - accuracy: 0.8491 - val_loss: 0.4493 - val_accuracy: 0.7872\n",
            "Epoch 31/100\n",
            "2/2 [==============================] - 0s 49ms/step - loss: 0.3397 - accuracy: 0.8679 - val_loss: 0.4470 - val_accuracy: 0.7872\n",
            "Epoch 32/100\n",
            "2/2 [==============================] - 0s 50ms/step - loss: 0.3314 - accuracy: 0.8679 - val_loss: 0.4463 - val_accuracy: 0.7872\n",
            "Epoch 33/100\n",
            "2/2 [==============================] - 0s 64ms/step - loss: 0.3237 - accuracy: 0.8679 - val_loss: 0.4466 - val_accuracy: 0.7660\n",
            "Epoch 34/100\n",
            "2/2 [==============================] - 0s 47ms/step - loss: 0.3173 - accuracy: 0.8679 - val_loss: 0.4480 - val_accuracy: 0.7660\n",
            "Epoch 35/100\n",
            "2/2 [==============================] - 0s 65ms/step - loss: 0.3108 - accuracy: 0.8679 - val_loss: 0.4495 - val_accuracy: 0.7660\n",
            "Epoch 35: early stopping\n"
          ]
        }
      ],
      "source": [
        "model_es.compile(loss=\"binary_crossentropy\",optimizer=\"Adam\", metrics=[\"accuracy\"])\n",
        "early_stopping = EarlyStopping(monitor='val_loss', patience=3, mode='min', verbose=1)\n",
        "history_es = model_es.fit(X_train, y_train, validation_data=(X_test, y_test), batch_size=32, epochs=100, callbacks=[early_stopping])"
      ]
    },
    {
      "cell_type": "code",
      "execution_count": 20,
      "metadata": {
        "id": "oNNRJraHFcNl",
        "outputId": "432a33b0-0554-41e2-d2a9-d2dba4304993",
        "colab": {
          "base_uri": "https://localhost:8080/",
          "height": 324
        }
      },
      "outputs": [
        {
          "output_type": "display_data",
          "data": {
            "text/plain": [
              "<Figure size 576x360 with 1 Axes>"
            ],
            "image/png": "[encoded data removed]"
          },
          "metadata": {
            "needs_background": "light"
          }
        }
      ],
      "source": [
        "pd.DataFrame(history_es.history).plot(figsize=(8, 5))\n",
        "plt.grid(True)\n",
        "plt.gca().set_ylim(0, 1)\n",
        "plt.show()"
      ]
    },
    {
      "cell_type": "code",
      "execution_count": 21,
      "metadata": {
        "id": "Kz-qNha9FcNl",
        "outputId": "867791da-b1ac-40ec-e524-bc1737f2c062",
        "colab": {
          "base_uri": "https://localhost:8080/",
          "height": 324
        }
      },
      "outputs": [
        {
          "output_type": "display_data",
          "data": {
            "text/plain": [
              "<Figure size 576x360 with 1 Axes>"
            ],
            "image/png": "[encoded data removed]"
          },
          "metadata": {
            "needs_background": "light"
          }
        }
      ],
      "source": [
        "pd.DataFrame(history.history).plot(figsize=(8, 5))\n",
        "plt.grid(True)\n",
        "plt.gca().set_ylim(0, 1)\n",
        "plt.show()"
      ]
    },
    {
      "cell_type": "code",
      "source": [
        "from mlxtend.plotting import plot_decision_regions\n",
        "import matplotlib.gridspec as gridspec\n",
        "import itertools\n",
        "gs = gridspec.GridSpec(2, 2)\n",
        "\n",
        "fig = plt.figure(figsize=(10,8))\n",
        "\n",
        "labels = ['Regular', 'Early Stopping']\n",
        "for clf, lab, grd in zip([model, model_es],\n",
        "                         labels,\n",
        "                         itertools.product([0, 1], repeat=2)):\n",
        "    \n",
        "    ax = plt.subplot(gs[grd[0], grd[1]])\n",
        "    fig = plot_decision_regions(X=X, y=y, clf=clf, legend=2)\n",
        "    plt.title(lab)\n",
        "\n",
        "plt.show()"
      ],
      "metadata": {
        "id": "0gf-7oOTHUij",
        "outputId": "fb9123ae-7801-411d-fe4d-cf398c4ff454",
        "colab": {
          "base_uri": "https://localhost:8080/",
          "height": 297
        }
      },
      "execution_count": 22,
      "outputs": [
        {
          "output_type": "stream",
          "name": "stderr",
          "text": [
            "/usr/local/lib/python3.7/dist-packages/mlxtend/plotting/decision_regions.py:244: MatplotlibDeprecationWarning: Passing unsupported keyword arguments to axis() will raise a TypeError in 3.3.\n",
            "  ax.axis(xmin=xx.min(), xmax=xx.max(), y_min=yy.min(), y_max=yy.max())\n"
          ]
        },
        {
          "output_type": "display_data",
          "data": {
            "text/plain": [
              "<Figure size 720x576 with 2 Axes>"
            ],
            "image/png": "[encoded data removed]"
          },
          "metadata": {
            "needs_background": "light"
          }
        }
      ]
    }
  ],
  "metadata": {
    "kernelspec": {
      "display_name": "Python 3",
      "language": "python",
      "name": "python3"
    },
    "language_info": {
      "codemirror_mode": {
        "name": "ipython",
        "version": 3
      },
      "file_extension": ".py",
      "mimetype": "text/x-python",
      "name": "python",
      "nbconvert_exporter": "python",
      "pygments_lexer": "ipython3",
      "version": "3.7.3"
    },
    "colab": {
      "name": "Z12_B_EarlyStopping.ipynb",
      "provenance": []
    }
  },
  "nbformat": 4,
  "nbformat_minor": 0
}