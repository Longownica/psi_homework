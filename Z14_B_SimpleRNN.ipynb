{
  "cells": [
    {
      "cell_type": "code",
      "execution_count": 1,
      "metadata": {
        "id": "3yEdehiPp543",
        "outputId": "b5cc225b-7446-437a-a9a2-4ef882e34f6a",
        "colab": {
          "base_uri": "https://localhost:8080/"
        }
      },
      "outputs": [
        {
          "output_type": "stream",
          "name": "stdout",
          "text": [
            "2.8.2\n",
            "2.8.0\n"
          ]
        }
      ],
      "source": [
        "import tensorflow as tf\n",
        "from tensorflow import keras as keras\n",
        "print(tf.__version__)\n",
        "\n",
        "print(keras.__version__)"
      ]
    },
    {
      "cell_type": "code",
      "execution_count": 2,
      "metadata": {
        "id": "G13kIVRxp548"
      },
      "outputs": [],
      "source": [
        "import numpy as np\n",
        "import pandas as pd\n",
        "import matplotlib.pyplot as plt\n",
        "import os"
      ]
    },
    {
      "cell_type": "code",
      "execution_count": 3,
      "metadata": {
        "id": "QMVFKppEp54_",
        "outputId": "c96a57fe-be3e-42c3-b0ea-433d9b86987b",
        "colab": {
          "base_uri": "https://localhost:8080/"
        }
      },
      "outputs": [
        {
          "output_type": "stream",
          "name": "stdout",
          "text": [
            "Downloading data from https://storage.googleapis.com/tensorflow/tf-keras-datasets/imdb.npz\n",
            "17465344/17464789 [==============================] - 0s 0us/step\n",
            "17473536/17464789 [==============================] - 0s 0us/step\n",
            "25000 train sequences\n",
            "25000 test sequences\n",
            "[list([1, 14, 22, 16, 43, 530, 973, 1622, 1385, 65, 458, 4468, 66, 3941, 4, 173, 36, 256, 5, 25, 100, 43, 838, 112, 50, 670, 2, 9, 35, 480, 284, 5, 150, 4, 172, 112, 167, 2, 336, 385, 39, 4, 172, 4536, 1111, 17, 546, 38, 13, 447, 4, 192, 50, 16, 6, 147, 2025, 19, 14, 22, 4, 1920, 4613, 469, 4, 22, 71, 87, 12, 16, 43, 530, 38, 76, 15, 13, 1247, 4, 22, 17, 515, 17, 12, 16, 626, 18, 2, 5, 62, 386, 12, 8, 316, 8, 106, 5, 4, 2223, 2, 16, 480, 66, 3785, 33, 4, 130, 12, 16, 38, 619, 5, 25, 124, 51, 36, 135, 48, 25, 1415, 33, 6, 22, 12, 215, 28, 77, 52, 5, 14, 407, 16, 82, 2, 8, 4, 107, 117, 2, 15, 256, 4, 2, 7, 3766, 5, 723, 36, 71, 43, 530, 476, 26, 400, 317, 46, 7, 4, 2, 1029, 13, 104, 88, 4, 381, 15, 297, 98, 32, 2071, 56, 26, 141, 6, 194, 2, 18, 4, 226, 22, 21, 134, 476, 26, 480, 5, 144, 30, 2, 18, 51, 36, 28, 224, 92, 25, 104, 4, 226, 65, 16, 38, 1334, 88, 12, 16, 283, 5, 16, 4472, 113, 103, 32, 15, 16, 2, 19, 178, 32])\n",
            " list([1, 194, 1153, 194, 2, 78, 228, 5, 6, 1463, 4369, 2, 134, 26, 4, 715, 8, 118, 1634, 14, 394, 20, 13, 119, 954, 189, 102, 5, 207, 110, 3103, 21, 14, 69, 188, 8, 30, 23, 7, 4, 249, 126, 93, 4, 114, 9, 2300, 1523, 5, 647, 4, 116, 9, 35, 2, 4, 229, 9, 340, 1322, 4, 118, 9, 4, 130, 4901, 19, 4, 1002, 5, 89, 29, 952, 46, 37, 4, 455, 9, 45, 43, 38, 1543, 1905, 398, 4, 1649, 26, 2, 5, 163, 11, 3215, 2, 4, 1153, 9, 194, 775, 7, 2, 2, 349, 2637, 148, 605, 2, 2, 15, 123, 125, 68, 2, 2, 15, 349, 165, 4362, 98, 5, 4, 228, 9, 43, 2, 1157, 15, 299, 120, 5, 120, 174, 11, 220, 175, 136, 50, 9, 4373, 228, 2, 5, 2, 656, 245, 2350, 5, 4, 2, 131, 152, 491, 18, 2, 32, 2, 1212, 14, 9, 6, 371, 78, 22, 625, 64, 1382, 9, 8, 168, 145, 23, 4, 1690, 15, 16, 4, 1355, 5, 28, 6, 52, 154, 462, 33, 89, 78, 285, 16, 145, 95])\n",
            " list([1, 14, 47, 8, 30, 31, 7, 4, 249, 108, 7, 4, 2, 54, 61, 369, 13, 71, 149, 14, 22, 112, 4, 2401, 311, 12, 16, 3711, 33, 75, 43, 1829, 296, 4, 86, 320, 35, 534, 19, 263, 4821, 1301, 4, 1873, 33, 89, 78, 12, 66, 16, 4, 360, 7, 4, 58, 316, 334, 11, 4, 1716, 43, 645, 662, 8, 257, 85, 1200, 42, 1228, 2578, 83, 68, 3912, 15, 36, 165, 1539, 278, 36, 69, 2, 780, 8, 106, 14, 2, 1338, 18, 6, 22, 12, 215, 28, 610, 40, 6, 87, 326, 23, 2300, 21, 23, 22, 12, 272, 40, 57, 31, 11, 4, 22, 47, 6, 2307, 51, 9, 170, 23, 595, 116, 595, 1352, 13, 191, 79, 638, 89, 2, 14, 9, 8, 106, 607, 624, 35, 534, 6, 227, 7, 129, 113])]\n"
          ]
        }
      ],
      "source": [
        "max_features = 5000\n",
        "(x_train, y_train), (x_test, y_test) = tf.keras.datasets.imdb.load_data(num_words=max_features)\n",
        "print(len(x_train), 'train sequences')\n",
        "print(len(x_test), 'test sequences')\n",
        "print(x_train[:3])"
      ]
    },
    {
      "cell_type": "code",
      "execution_count": 4,
      "metadata": {
        "id": "Fh-07pZ7p55A",
        "outputId": "dd7647b9-bf75-4d91-8a5e-2f073b400738",
        "colab": {
          "base_uri": "https://localhost:8080/"
        }
      },
      "outputs": [
        {
          "output_type": "execute_result",
          "data": {
            "text/plain": [
              "0"
            ]
          },
          "metadata": {},
          "execution_count": 4
        }
      ],
      "source": [
        "x_train[1]\n",
        "y_train[1]"
      ]
    },
    {
      "cell_type": "code",
      "execution_count": 10,
      "metadata": {
        "id": "BoOUlJ1pp55B"
      },
      "outputs": [],
      "source": [
        "from tensorflow.keras.preprocessing import sequence\n",
        "from tensorflow.keras.models import Sequential\n",
        "from tensorflow.keras.layers import Dense, Dropout, Embedding, SimpleRNN, LSTM, Bidirectional\n",
        "from tensorflow.keras.callbacks import EarlyStopping\n",
        "from tensorflow.keras.callbacks import History\n",
        "\n",
        "from tensorflow.keras.datasets import imdb"
      ]
    },
    {
      "cell_type": "markdown",
      "metadata": {
        "id": "cicjK5T7p55C"
      },
      "source": [
        "# Zad\n",
        "Pobierz zbiór danych\n",
        "\n",
        "IMDB Movie reviews sentiment classification\n",
        "Dataset of 25,000 movies reviews from IMDB, labeled by sentiment (positive/negative). Reviews have been preprocessed, and each review is encoded as a sequence of word indexes (integers). For convenience, words are indexed by overall frequency in the dataset, so that for instance the integer \"3\" encodes the 3rd most frequent word in the data. This allows for quick filtering operations such as: \"only consider the top 10,000 most common words, but eliminate the top 20 most common words\".\n",
        "\n",
        "As a convention, \"0\" does not stand for a specific word, but instead is used to encode any unknown word.\n",
        "\n",
        "https://keras.io/datasets/"
      ]
    },
    {
      "cell_type": "markdown",
      "metadata": {
        "id": "biyEkw9Wp55D"
      },
      "source": [
        "# Zad\n",
        "Ujednolicenie długości ciągów - padding"
      ]
    },
    {
      "cell_type": "code",
      "execution_count": 11,
      "metadata": {
        "id": "7NctoacZp55E",
        "outputId": "c64980bf-cef6-4b06-c5a3-426d107ff25c",
        "colab": {
          "base_uri": "https://localhost:8080/"
        }
      },
      "outputs": [
        {
          "output_type": "stream",
          "name": "stdout",
          "text": [
            "(25000, 400)\n",
            "(25000, 400)\n"
          ]
        }
      ],
      "source": [
        "# Ujednolicenie długości ciągów - padding:\n",
        "maxlen = 400\n",
        "X_train = sequence.pad_sequences(x_train,maxlen=maxlen)\n",
        "X_test = sequence.pad_sequences(x_test, maxlen=maxlen)\n",
        "print(X_train.shape)\n",
        "print(X_test.shape)"
      ]
    },
    {
      "cell_type": "code",
      "execution_count": 12,
      "metadata": {
        "id": "Rrz4QmE0p55H",
        "outputId": "25d316e0-c0d8-43c3-e518-2fa7905bad21",
        "colab": {
          "base_uri": "https://localhost:8080/"
        }
      },
      "outputs": [
        {
          "output_type": "execute_result",
          "data": {
            "text/plain": [
              "array([   0,    0,    0,    0,    0,    0,    0,    0,    0,    0,    0,\n",
              "          0,    0,    0,    0,    0,    0,    0,    0,    0,    0,    0,\n",
              "          0,    0,    0,    0,    0,    0,    0,    0,    0,    0,    0,\n",
              "          0,    0,    0,    0,    0,    0,    0,    0,    0,    0,    0,\n",
              "          0,    0,    0,    0,    0,    0,    0,    0,    0,    0,    0,\n",
              "          0,    0,    0,    0,    0,    0,    0,    0,    0,    0,    0,\n",
              "          0,    0,    0,    0,    0,    0,    0,    0,    0,    0,    0,\n",
              "          0,    0,    0,    0,    0,    0,    0,    0,    0,    0,    0,\n",
              "          0,    0,    0,    0,    0,    0,    0,    0,    0,    0,    0,\n",
              "          0,    0,    0,    0,    0,    0,    0,    0,    0,    0,    0,\n",
              "          0,    0,    0,    0,    0,    0,    0,    0,    0,    0,    0,\n",
              "          0,    0,    0,    0,    0,    0,    0,    0,    0,    0,    0,\n",
              "          0,    0,    0,    0,    0,    0,    0,    0,    0,    0,    0,\n",
              "          0,    0,    0,    0,    0,    0,    0,    0,    0,    0,    0,\n",
              "          0,    0,    0,    0,    0,    0,    0,    0,    0,    0,    0,\n",
              "          0,    0,    0,    0,    0,    0,    0,    0,    0,    0,    0,\n",
              "          0,    0,    0,    0,    0,    0,    1,   14,   22,   16,   43,\n",
              "        530,  973, 1622, 1385,   65,  458, 4468,   66, 3941,    4,  173,\n",
              "         36,  256,    5,   25,  100,   43,  838,  112,   50,  670,    2,\n",
              "          9,   35,  480,  284,    5,  150,    4,  172,  112,  167,    2,\n",
              "        336,  385,   39,    4,  172, 4536, 1111,   17,  546,   38,   13,\n",
              "        447,    4,  192,   50,   16,    6,  147, 2025,   19,   14,   22,\n",
              "          4, 1920, 4613,  469,    4,   22,   71,   87,   12,   16,   43,\n",
              "        530,   38,   76,   15,   13, 1247,    4,   22,   17,  515,   17,\n",
              "         12,   16,  626,   18,    2,    5,   62,  386,   12,    8,  316,\n",
              "          8,  106,    5,    4, 2223,    2,   16,  480,   66, 3785,   33,\n",
              "          4,  130,   12,   16,   38,  619,    5,   25,  124,   51,   36,\n",
              "        135,   48,   25, 1415,   33,    6,   22,   12,  215,   28,   77,\n",
              "         52,    5,   14,  407,   16,   82,    2,    8,    4,  107,  117,\n",
              "          2,   15,  256,    4,    2,    7, 3766,    5,  723,   36,   71,\n",
              "         43,  530,  476,   26,  400,  317,   46,    7,    4,    2, 1029,\n",
              "         13,  104,   88,    4,  381,   15,  297,   98,   32, 2071,   56,\n",
              "         26,  141,    6,  194,    2,   18,    4,  226,   22,   21,  134,\n",
              "        476,   26,  480,    5,  144,   30,    2,   18,   51,   36,   28,\n",
              "        224,   92,   25,  104,    4,  226,   65,   16,   38, 1334,   88,\n",
              "         12,   16,  283,    5,   16, 4472,  113,  103,   32,   15,   16,\n",
              "          2,   19,  178,   32], dtype=int32)"
            ]
          },
          "metadata": {},
          "execution_count": 12
        }
      ],
      "source": [
        "X_train[0]"
      ]
    },
    {
      "cell_type": "markdown",
      "metadata": {
        "id": "yW_caRiwp55K"
      },
      "source": [
        "# Zad\n",
        "Zmniejszmy zbiór danych"
      ]
    },
    {
      "cell_type": "code",
      "execution_count": 13,
      "metadata": {
        "id": "AJ912B8Wp55L",
        "outputId": "6cba30f1-7f26-4636-f52d-304a319e9f27",
        "colab": {
          "base_uri": "https://localhost:8080/"
        }
      },
      "outputs": [
        {
          "output_type": "stream",
          "name": "stdout",
          "text": [
            "(5000, 400)\n",
            "(2000, 400)\n"
          ]
        }
      ],
      "source": [
        "n_train = 5000\n",
        "n_test = 2000\n",
        "X_train = X_train[:n_train]\n",
        "y_train = y_train[:n_train]\n",
        "X_test = X_test[:n_test]\n",
        "y_test = y_test[:n_test]\n",
        "print(X_train.shape)\n",
        "print(X_test.shape)"
      ]
    },
    {
      "cell_type": "markdown",
      "metadata": {
        "id": "pZiyNeTPp55O"
      },
      "source": [
        "The Embedding layer is initialized with random weights and will learn an embedding for all of the words in the training dataset.\n",
        "\n",
        "It is a flexible layer that can be used in a variety of ways, such as:\n",
        "\n",
        "* It can be used alone to learn a word embedding that can be saved and used in another model later.\n",
        "* It can be used as part of a deep learning model where the embedding is learned along with the model itself.\n",
        "* It can be used to load a pre-trained word embedding model, a type of transfer learning.\n",
        "\n",
        "The Embedding layer is defined as the first hidden layer of a network. It must specify 3 arguments:\n",
        "\n",
        "It must specify 3 arguments:\n",
        "\n",
        "* **input_dim**: This is the size of the vocabulary in the text data. For example, if your data is integer encoded to values between 0-10, then the size of the vocabulary would be 11 words.\n",
        "* **output_dim**: This is the size of the vector space in which words will be embedded. It defines the size of the output vectors from this layer for each word. For example, it could be 32 or 100 or even larger. Test different values for your problem.\n",
        "* **input_length**: This is the length of input sequences, as you would define for any input layer of a Keras model. For example, if all of your input documents are comprised of 1000 words, this would be 1000."
      ]
    },
    {
      "cell_type": "markdown",
      "metadata": {
        "id": "aJSO2Vh9p55P"
      },
      "source": [
        "# Zad\n",
        "Zwykła sieć rekurencyjna ( z embeddingami)"
      ]
    },
    {
      "cell_type": "code",
      "execution_count": 14,
      "metadata": {
        "id": "hgaa6dGup55P",
        "outputId": "0406c6dd-853c-494c-c8d0-0507a39e3f9b",
        "colab": {
          "base_uri": "https://localhost:8080/"
        }
      },
      "outputs": [
        {
          "output_type": "stream",
          "name": "stdout",
          "text": [
            "Model: \"sequential_4\"\n",
            "_________________________________________________________________\n",
            " Layer (type)                Output Shape              Param #   \n",
            "=================================================================\n",
            " embedding_2 (Embedding)     (None, 400, 50)           250000    \n",
            "                                                                 \n",
            " simple_rnn_1 (SimpleRNN)    (None, 100)               15100     \n",
            "                                                                 \n",
            " dense_1 (Dense)             (None, 1)                 101       \n",
            "                                                                 \n",
            "=================================================================\n",
            "Total params: 265,201\n",
            "Trainable params: 265,201\n",
            "Non-trainable params: 0\n",
            "_________________________________________________________________\n"
          ]
        }
      ],
      "source": [
        "history = History()\n",
        "model = Sequential()\n",
        "model.add(Embedding(max_features, 50, input_length=maxlen)) # wyjscie z warstwy ma wymiar 50\n",
        "model.add(SimpleRNN(100))\n",
        "model.add(Dense(1,activation=\"sigmoid\"))\n",
        "model.summary()"
      ]
    },
    {
      "cell_type": "code",
      "execution_count": 15,
      "metadata": {
        "id": "JeDvMbLWp55Q",
        "outputId": "58e84278-0e2d-4305-a625-feb77feff704",
        "colab": {
          "base_uri": "https://localhost:8080/"
        }
      },
      "outputs": [
        {
          "output_type": "stream",
          "name": "stdout",
          "text": [
            "Epoch 1/100\n",
            "125/125 [==============================] - 18s 127ms/step - loss: 0.6919 - accuracy: 0.5135 - val_loss: 0.6892 - val_accuracy: 0.5150\n",
            "Epoch 2/100\n",
            "125/125 [==============================] - 17s 132ms/step - loss: 0.6413 - accuracy: 0.6522 - val_loss: 0.6792 - val_accuracy: 0.5670\n",
            "Epoch 3/100\n",
            "125/125 [==============================] - 16s 130ms/step - loss: 0.6421 - accuracy: 0.6345 - val_loss: 0.6606 - val_accuracy: 0.6180\n",
            "Epoch 4/100\n",
            "125/125 [==============================] - 16s 125ms/step - loss: 0.6396 - accuracy: 0.6647 - val_loss: 0.6682 - val_accuracy: 0.5620\n",
            "Epoch 5/100\n",
            "125/125 [==============================] - 16s 124ms/step - loss: 0.5979 - accuracy: 0.7003 - val_loss: 0.6373 - val_accuracy: 0.6290\n",
            "Epoch 6/100\n",
            "125/125 [==============================] - 15s 124ms/step - loss: 0.5238 - accuracy: 0.7515 - val_loss: 0.6488 - val_accuracy: 0.6260\n",
            "Epoch 7/100\n",
            "125/125 [==============================] - 17s 136ms/step - loss: 0.4366 - accuracy: 0.8005 - val_loss: 0.6260 - val_accuracy: 0.6640\n",
            "Epoch 8/100\n",
            "125/125 [==============================] - 16s 126ms/step - loss: 0.3438 - accuracy: 0.8478 - val_loss: 0.6507 - val_accuracy: 0.6890\n",
            "Epoch 9/100\n",
            "125/125 [==============================] - 16s 125ms/step - loss: 0.4875 - accuracy: 0.7638 - val_loss: 0.6491 - val_accuracy: 0.6320\n",
            "Epoch 10/100\n",
            "125/125 [==============================] - 15s 123ms/step - loss: 0.3239 - accuracy: 0.8673 - val_loss: 0.6515 - val_accuracy: 0.6960\n",
            "Epoch 11/100\n",
            "125/125 [==============================] - 15s 124ms/step - loss: 0.2592 - accuracy: 0.8915 - val_loss: 0.7642 - val_accuracy: 0.6910\n",
            "Epoch 12/100\n",
            "125/125 [==============================] - 15s 124ms/step - loss: 0.1985 - accuracy: 0.9208 - val_loss: 0.7617 - val_accuracy: 0.6960\n",
            "Epoch 13/100\n",
            "125/125 [==============================] - 15s 124ms/step - loss: 0.1564 - accuracy: 0.9433 - val_loss: 0.8193 - val_accuracy: 0.7080\n",
            "Epoch 14/100\n",
            "125/125 [==============================] - 15s 118ms/step - loss: 0.1467 - accuracy: 0.9477 - val_loss: 0.8772 - val_accuracy: 0.6910\n",
            "Epoch 15/100\n",
            "125/125 [==============================] - 15s 119ms/step - loss: 0.1150 - accuracy: 0.9603 - val_loss: 0.8947 - val_accuracy: 0.6960\n",
            "Epoch 16/100\n",
            "125/125 [==============================] - 15s 123ms/step - loss: 0.1018 - accuracy: 0.9660 - val_loss: 0.9104 - val_accuracy: 0.7070\n",
            "Epoch 17/100\n",
            "125/125 [==============================] - 16s 126ms/step - loss: 0.0856 - accuracy: 0.9722 - val_loss: 0.9972 - val_accuracy: 0.7100\n",
            "Epoch 17: early stopping\n"
          ]
        },
        {
          "output_type": "execute_result",
          "data": {
            "text/plain": [
              "<keras.callbacks.History at 0x7f744dd4b310>"
            ]
          },
          "metadata": {},
          "execution_count": 15
        }
      ],
      "source": [
        "model.compile(loss=\"binary_crossentropy\",optimizer=\"adam\", metrics=[\"accuracy\"])\n",
        "early_stopping = EarlyStopping(monitor='val_loss', patience=10, mode='min', verbose=1)\n",
        "model.fit(X_train,y_train, epochs=100, validation_split=0.2, callbacks=[history, early_stopping])"
      ]
    },
    {
      "cell_type": "code",
      "execution_count": 16,
      "metadata": {
        "id": "nH37g5Aip55Q",
        "outputId": "beb3b362-abb0-439d-bbca-b24d61ad4cc2",
        "colab": {
          "base_uri": "https://localhost:8080/"
        }
      },
      "outputs": [
        {
          "output_type": "stream",
          "name": "stdout",
          "text": [
            "63/63 [==============================] - 2s 34ms/step - loss: 1.0694 - accuracy: 0.6955\n"
          ]
        },
        {
          "output_type": "execute_result",
          "data": {
            "text/plain": [
              "[1.0693868398666382, 0.6955000162124634]"
            ]
          },
          "metadata": {},
          "execution_count": 16
        }
      ],
      "source": [
        "model.evaluate(X_test,y_test)"
      ]
    },
    {
      "cell_type": "code",
      "execution_count": 17,
      "metadata": {
        "id": "g8tbuDXVp55R",
        "outputId": "bdb96e8a-388b-4469-ce5d-b06262f0999b",
        "colab": {
          "base_uri": "https://localhost:8080/",
          "height": 265
        }
      },
      "outputs": [
        {
          "output_type": "display_data",
          "data": {
            "text/plain": [
              "<Figure size 432x288 with 1 Axes>"
            ],
            "image/png": "[encoded data removed]"
          },
          "metadata": {
            "needs_background": "light"
          }
        }
      ],
      "source": [
        "\n",
        "plt.plot(history.history['accuracy'], label = \"tarina Adam\")\n",
        "plt.plot(history.history['val_accuracy'], label = \"test Adam\")\n",
        "\n",
        "\n",
        "plt.legend()\n",
        "plt.show()"
      ]
    },
    {
      "cell_type": "markdown",
      "metadata": {
        "id": "wniy50CQp55R"
      },
      "source": [
        "# Zad\n",
        "Proszę dodać\n",
        "```python\n",
        "SimpleRNN(100,dropout=0.5)\n",
        "```"
      ]
    },
    {
      "cell_type": "code",
      "execution_count": 18,
      "metadata": {
        "id": "vDKbmQgSp55R",
        "outputId": "40c8672b-9187-484d-a235-73bc39944ff8",
        "colab": {
          "base_uri": "https://localhost:8080/"
        }
      },
      "outputs": [
        {
          "output_type": "stream",
          "name": "stdout",
          "text": [
            "Model: \"sequential_5\"\n",
            "_________________________________________________________________\n",
            " Layer (type)                Output Shape              Param #   \n",
            "=================================================================\n",
            " embedding_3 (Embedding)     (None, None, 50)          250000    \n",
            "                                                                 \n",
            " simple_rnn_2 (SimpleRNN)    (None, 100)               15100     \n",
            "                                                                 \n",
            " dense_2 (Dense)             (None, 1)                 101       \n",
            "                                                                 \n",
            "=================================================================\n",
            "Total params: 265,201\n",
            "Trainable params: 265,201\n",
            "Non-trainable params: 0\n",
            "_________________________________________________________________\n",
            "Epoch 1/100\n",
            "125/125 [==============================] - 20s 149ms/step - loss: 0.6990 - accuracy: 0.5008 - val_loss: 0.6870 - val_accuracy: 0.5500\n",
            "Epoch 2/100\n",
            "125/125 [==============================] - 17s 136ms/step - loss: 0.6829 - accuracy: 0.5548 - val_loss: 0.6869 - val_accuracy: 0.5190\n",
            "Epoch 3/100\n",
            "125/125 [==============================] - 17s 135ms/step - loss: 0.6673 - accuracy: 0.5918 - val_loss: 0.6698 - val_accuracy: 0.5460\n",
            "Epoch 4/100\n",
            "125/125 [==============================] - 17s 139ms/step - loss: 0.6179 - accuracy: 0.6845 - val_loss: 0.6022 - val_accuracy: 0.6600\n",
            "Epoch 5/100\n",
            "125/125 [==============================] - 17s 139ms/step - loss: 0.4827 - accuracy: 0.7730 - val_loss: 0.5161 - val_accuracy: 0.7440\n",
            "Epoch 6/100\n",
            "125/125 [==============================] - 17s 139ms/step - loss: 0.4048 - accuracy: 0.8310 - val_loss: 0.5112 - val_accuracy: 0.7490\n",
            "Epoch 7/100\n",
            "125/125 [==============================] - 17s 137ms/step - loss: 0.3671 - accuracy: 0.8485 - val_loss: 0.5415 - val_accuracy: 0.7160\n",
            "Epoch 8/100\n",
            "125/125 [==============================] - 17s 135ms/step - loss: 0.3231 - accuracy: 0.8752 - val_loss: 0.5513 - val_accuracy: 0.7410\n",
            "Epoch 9/100\n",
            "125/125 [==============================] - 17s 134ms/step - loss: 0.2685 - accuracy: 0.8950 - val_loss: 0.5640 - val_accuracy: 0.7470\n",
            "Epoch 10/100\n",
            "125/125 [==============================] - 17s 133ms/step - loss: 0.2154 - accuracy: 0.9197 - val_loss: 0.6102 - val_accuracy: 0.7570\n",
            "Epoch 11/100\n",
            "125/125 [==============================] - 17s 136ms/step - loss: 0.1903 - accuracy: 0.9275 - val_loss: 0.6400 - val_accuracy: 0.7480\n",
            "Epoch 12/100\n",
            "125/125 [==============================] - 17s 139ms/step - loss: 0.1621 - accuracy: 0.9430 - val_loss: 0.6427 - val_accuracy: 0.7410\n",
            "Epoch 13/100\n",
            "125/125 [==============================] - 17s 138ms/step - loss: 0.1441 - accuracy: 0.9467 - val_loss: 0.7282 - val_accuracy: 0.7670\n",
            "Epoch 14/100\n",
            "125/125 [==============================] - 16s 132ms/step - loss: 0.1110 - accuracy: 0.9630 - val_loss: 0.7535 - val_accuracy: 0.7600\n",
            "Epoch 15/100\n",
            "125/125 [==============================] - 17s 133ms/step - loss: 0.1091 - accuracy: 0.9592 - val_loss: 0.7409 - val_accuracy: 0.7480\n",
            "Epoch 16/100\n",
            "125/125 [==============================] - 17s 136ms/step - loss: 0.1359 - accuracy: 0.9515 - val_loss: 0.8909 - val_accuracy: 0.7530\n",
            "Epoch 16: early stopping\n",
            "63/63 [==============================] - 2s 32ms/step - loss: 0.8274 - accuracy: 0.7635\n"
          ]
        },
        {
          "output_type": "execute_result",
          "data": {
            "text/plain": [
              "[0.8273624181747437, 0.7634999752044678]"
            ]
          },
          "metadata": {},
          "execution_count": 18
        }
      ],
      "source": [
        "history_d = History()\n",
        "\n",
        "model = Sequential()\n",
        "model.add(Embedding(max_features, \n",
        "                    50))\n",
        "model.add(SimpleRNN(100,dropout=0.5))\n",
        "model.add(Dense(1,activation=\"sigmoid\"))\n",
        "model.summary()\n",
        "\n",
        "model.compile(loss=\"binary_crossentropy\", optimizer=\"adam\",metrics=[\"accuracy\"])\n",
        "early_stopping = EarlyStopping(monitor='val_loss', patience=10, mode='min', verbose=1)\n",
        "model.fit(X_train,y_train, epochs=100, validation_split=0.2, callbacks=[history_d, early_stopping])\n",
        "\n",
        "\n",
        "model.evaluate(X_test,y_test)"
      ]
    },
    {
      "cell_type": "code",
      "execution_count": 19,
      "metadata": {
        "id": "nXVuwvLcp55S",
        "outputId": "8fc50317-cc38-4292-e7ef-e0f6467a6cd2",
        "colab": {
          "base_uri": "https://localhost:8080/",
          "height": 265
        }
      },
      "outputs": [
        {
          "output_type": "display_data",
          "data": {
            "text/plain": [
              "<Figure size 432x288 with 1 Axes>"
            ],
            "image/png": "[encoded data removed]"
          },
          "metadata": {
            "needs_background": "light"
          }
        }
      ],
      "source": [
        "plt.plot(history.history['accuracy'], label = \"tarina Adam\")\n",
        "plt.plot(history.history['val_accuracy'], label = \"test Adam\")\n",
        "\n",
        "plt.plot(history_d.history['accuracy'], label = \"tarina Adam\")\n",
        "plt.plot(history_d.history['val_accuracy'], label = \"test Adam\")\n",
        "\n",
        "plt.legend()\n",
        "plt.show()"
      ]
    },
    {
      "cell_type": "markdown",
      "metadata": {
        "id": "sINU8DpPp55S"
      },
      "source": [
        "# Zad\n",
        "Sprawdź architekturę dwustronną\n",
        "```python\n",
        "Bidirectional(SimpleRNN(10,dropout=0.5))\n",
        "```"
      ]
    },
    {
      "cell_type": "code",
      "execution_count": 20,
      "metadata": {
        "id": "Ib_VWDO0p55S",
        "outputId": "40478e8c-87b5-44e3-d10c-dcd4e6fa5ba1",
        "colab": {
          "base_uri": "https://localhost:8080/"
        }
      },
      "outputs": [
        {
          "output_type": "stream",
          "name": "stdout",
          "text": [
            "Model: \"sequential_6\"\n",
            "_________________________________________________________________\n",
            " Layer (type)                Output Shape              Param #   \n",
            "=================================================================\n",
            " embedding_4 (Embedding)     (None, 400, 50)           250000    \n",
            "                                                                 \n",
            " bidirectional (Bidirectiona  (None, 20)               1220      \n",
            " l)                                                              \n",
            "                                                                 \n",
            " dense_3 (Dense)             (None, 1)                 21        \n",
            "                                                                 \n",
            "=================================================================\n",
            "Total params: 251,241\n",
            "Trainable params: 251,241\n",
            "Non-trainable params: 0\n",
            "_________________________________________________________________\n",
            "Epoch 1/100\n",
            "125/125 [==============================] - 21s 158ms/step - loss: 0.6969 - accuracy: 0.5070 - val_loss: 0.6888 - val_accuracy: 0.5260\n",
            "Epoch 2/100\n",
            "125/125 [==============================] - 20s 156ms/step - loss: 0.6316 - accuracy: 0.6940 - val_loss: 0.6932 - val_accuracy: 0.5290\n",
            "Epoch 3/100\n",
            "125/125 [==============================] - 20s 156ms/step - loss: 0.5067 - accuracy: 0.8098 - val_loss: 0.7153 - val_accuracy: 0.5410\n",
            "Epoch 4/100\n",
            "125/125 [==============================] - 19s 155ms/step - loss: 0.3578 - accuracy: 0.8932 - val_loss: 0.7601 - val_accuracy: 0.5490\n",
            "Epoch 5/100\n",
            "125/125 [==============================] - 21s 164ms/step - loss: 0.2534 - accuracy: 0.9280 - val_loss: 0.8063 - val_accuracy: 0.5610\n",
            "Epoch 6/100\n",
            "125/125 [==============================] - 19s 155ms/step - loss: 0.2085 - accuracy: 0.9463 - val_loss: 0.8742 - val_accuracy: 0.5450\n",
            "Epoch 7/100\n",
            "125/125 [==============================] - 19s 154ms/step - loss: 0.1716 - accuracy: 0.9510 - val_loss: 0.9052 - val_accuracy: 0.5740\n",
            "Epoch 8/100\n",
            "125/125 [==============================] - 19s 155ms/step - loss: 0.1172 - accuracy: 0.9760 - val_loss: 0.9849 - val_accuracy: 0.5390\n",
            "Epoch 9/100\n",
            "125/125 [==============================] - 19s 155ms/step - loss: 0.0848 - accuracy: 0.9865 - val_loss: 1.0011 - val_accuracy: 0.5570\n",
            "Epoch 10/100\n",
            "125/125 [==============================] - 19s 154ms/step - loss: 0.0642 - accuracy: 0.9908 - val_loss: 1.0956 - val_accuracy: 0.5570\n",
            "Epoch 11/100\n",
            "125/125 [==============================] - 19s 154ms/step - loss: 0.0666 - accuracy: 0.9865 - val_loss: 1.1093 - val_accuracy: 0.5510\n",
            "Epoch 11: early stopping\n",
            "63/63 [==============================] - 2s 28ms/step - loss: 1.1304 - accuracy: 0.5400\n"
          ]
        },
        {
          "output_type": "execute_result",
          "data": {
            "text/plain": [
              "[1.1303547620773315, 0.5400000214576721]"
            ]
          },
          "metadata": {},
          "execution_count": 20
        }
      ],
      "source": [
        "history_d_10 = History()\n",
        "model = Sequential()\n",
        "model.add(Embedding(max_features, \n",
        "                    50,\n",
        "                   input_length=maxlen))\n",
        "model.add(Bidirectional(SimpleRNN(10,dropout=0.5)))\n",
        "model.add(Dense(1,activation=\"sigmoid\"))\n",
        "model.summary()\n",
        "\n",
        "model.compile(loss=\"binary_crossentropy\", optimizer=\"adam\",metrics=[\"accuracy\"])\n",
        "early_stopping = EarlyStopping(monitor='val_loss', patience=10, mode='min', verbose=1)\n",
        "model.fit(X_train,y_train, epochs=100, validation_split=0.2, callbacks=[history_d_10, early_stopping])\n",
        "\n",
        "model.evaluate(X_test,y_test)"
      ]
    },
    {
      "cell_type": "code",
      "execution_count": 21,
      "metadata": {
        "id": "wo_ubml2p55S",
        "outputId": "83ec925a-0188-432e-98ac-ab4129be9b47",
        "colab": {
          "base_uri": "https://localhost:8080/",
          "height": 265
        }
      },
      "outputs": [
        {
          "output_type": "display_data",
          "data": {
            "text/plain": [
              "<Figure size 432x288 with 1 Axes>"
            ],
            "image/png": "[encoded data removed]"
          },
          "metadata": {
            "needs_background": "light"
          }
        }
      ],
      "source": [
        "plt.plot(history.history['accuracy'], label = \"tarina Adam\")\n",
        "plt.plot(history.history['val_accuracy'], label = \"test Adam\")\n",
        "\n",
        "plt.plot(history_d.history['accuracy'], label = \"tarina Adam\")\n",
        "plt.plot(history_d.history['val_accuracy'], label = \"test Adam\")\n",
        "\n",
        "plt.plot(history_d_10.history['accuracy'], label = \"tarina Adam\")\n",
        "plt.plot(history_d_10.history['val_accuracy'], label = \"test Adam\")\n",
        "\n",
        "plt.legend()\n",
        "plt.show()"
      ]
    },
    {
      "cell_type": "markdown",
      "metadata": {
        "id": "E0_NQMQlp55U"
      },
      "source": [
        "# Zad\n",
        "Proszę sprawdzić dwie warstwy:\n",
        "```python\n",
        "model.add(SimpleRNN(10,return_sequences=True))\n",
        "model.add(SimpleRNN(20))\n",
        "```"
      ]
    },
    {
      "cell_type": "code",
      "execution_count": 22,
      "metadata": {
        "id": "UggwBqiWp55U",
        "outputId": "a7b0e199-6dc7-41a2-dfd0-772080a54e83",
        "colab": {
          "base_uri": "https://localhost:8080/"
        }
      },
      "outputs": [
        {
          "output_type": "stream",
          "name": "stdout",
          "text": [
            "Model: \"sequential_7\"\n",
            "_________________________________________________________________\n",
            " Layer (type)                Output Shape              Param #   \n",
            "=================================================================\n",
            " embedding_5 (Embedding)     (None, 400, 50)           250000    \n",
            "                                                                 \n",
            " simple_rnn_4 (SimpleRNN)    (None, 400, 10)           610       \n",
            "                                                                 \n",
            " simple_rnn_5 (SimpleRNN)    (None, 20)                620       \n",
            "                                                                 \n",
            " dense_4 (Dense)             (None, 1)                 21        \n",
            "                                                                 \n",
            "=================================================================\n",
            "Total params: 251,251\n",
            "Trainable params: 251,251\n",
            "Non-trainable params: 0\n",
            "_________________________________________________________________\n",
            "Epoch 1/100\n",
            "125/125 [==============================] - 20s 149ms/step - loss: 0.6941 - accuracy: 0.5228 - val_loss: 0.6858 - val_accuracy: 0.5480\n",
            "Epoch 2/100\n",
            "125/125 [==============================] - 18s 148ms/step - loss: 0.5195 - accuracy: 0.7673 - val_loss: 0.6428 - val_accuracy: 0.6370\n",
            "Epoch 3/100\n",
            "125/125 [==============================] - 18s 147ms/step - loss: 0.2049 - accuracy: 0.9362 - val_loss: 0.6727 - val_accuracy: 0.7000\n",
            "Epoch 4/100\n",
            "125/125 [==============================] - 18s 146ms/step - loss: 0.0802 - accuracy: 0.9852 - val_loss: 0.6985 - val_accuracy: 0.7200\n",
            "Epoch 5/100\n",
            "125/125 [==============================] - 18s 147ms/step - loss: 0.0228 - accuracy: 0.9985 - val_loss: 0.8803 - val_accuracy: 0.6700\n",
            "Epoch 6/100\n",
            "125/125 [==============================] - 18s 147ms/step - loss: 0.0082 - accuracy: 1.0000 - val_loss: 0.8729 - val_accuracy: 0.6880\n",
            "Epoch 7/100\n",
            "125/125 [==============================] - 18s 147ms/step - loss: 0.0057 - accuracy: 1.0000 - val_loss: 0.8575 - val_accuracy: 0.7080\n",
            "Epoch 8/100\n",
            "125/125 [==============================] - 19s 156ms/step - loss: 0.0041 - accuracy: 1.0000 - val_loss: 0.9752 - val_accuracy: 0.6750\n",
            "Epoch 9/100\n",
            "125/125 [==============================] - 18s 148ms/step - loss: 0.0028 - accuracy: 0.9998 - val_loss: 0.9833 - val_accuracy: 0.6820\n",
            "Epoch 10/100\n",
            "125/125 [==============================] - 20s 157ms/step - loss: 0.0021 - accuracy: 1.0000 - val_loss: 0.9382 - val_accuracy: 0.7110\n",
            "Epoch 11/100\n",
            "125/125 [==============================] - 18s 147ms/step - loss: 0.0015 - accuracy: 1.0000 - val_loss: 0.9757 - val_accuracy: 0.6990\n",
            "Epoch 12/100\n",
            "125/125 [==============================] - 18s 147ms/step - loss: 0.0038 - accuracy: 0.9998 - val_loss: 1.0020 - val_accuracy: 0.7020\n",
            "Epoch 12: early stopping\n",
            "63/63 [==============================] - 2s 35ms/step - loss: 1.1152 - accuracy: 0.6860\n"
          ]
        },
        {
          "output_type": "execute_result",
          "data": {
            "text/plain": [
              "[1.1151987314224243, 0.6859999895095825]"
            ]
          },
          "metadata": {},
          "execution_count": 22
        }
      ],
      "source": [
        "history_2 = History()\n",
        "\n",
        "model = Sequential()\n",
        "model.add(Embedding(max_features, \n",
        "                    50,\n",
        "                   input_length=maxlen))\n",
        "model.add(SimpleRNN(10,return_sequences=True))\n",
        "model.add(SimpleRNN(20))\n",
        "model.add(Dense(1,activation=\"sigmoid\"))\n",
        "model.summary()\n",
        "\n",
        "model.compile(loss=\"binary_crossentropy\", optimizer=\"adam\",metrics=[\"accuracy\"])\n",
        "early_stopping = EarlyStopping(monitor='val_loss', patience=10, mode='min', verbose=1)\n",
        "model.fit(X_train,y_train, epochs=100, validation_split=0.2, callbacks=[history_2, early_stopping])\n",
        "\n",
        "model.evaluate(X_test,y_test)"
      ]
    },
    {
      "cell_type": "code",
      "execution_count": 23,
      "metadata": {
        "id": "850sFiwip55V",
        "outputId": "9177c24b-1e5a-45ea-ba51-124bf30538d6",
        "colab": {
          "base_uri": "https://localhost:8080/",
          "height": 265
        }
      },
      "outputs": [
        {
          "output_type": "display_data",
          "data": {
            "text/plain": [
              "<Figure size 432x288 with 1 Axes>"
            ],
            "image/png": "[encoded data removed]"
          },
          "metadata": {
            "needs_background": "light"
          }
        }
      ],
      "source": [
        "plt.plot(history.history['accuracy'], label = \"tarina \")\n",
        "plt.plot(history.history['val_accuracy'], label = \"test \")\n",
        "\n",
        "plt.plot(history_d.history['accuracy'], label = \"tarina  Drop\")\n",
        "plt.plot(history_d.history['val_accuracy'], label = \"test Drop\")\n",
        "\n",
        "plt.plot(history_d_10.history['accuracy'], label = \"tarina Drop 10\")\n",
        "plt.plot(history_d_10.history['val_accuracy'], label = \"test Drop 10\")\n",
        "\n",
        "plt.plot(history_2.history['accuracy'], label = \"tarina 2 Layer\")\n",
        "plt.plot(history_2.history['val_accuracy'], label = \"test 2 Layer\")\n",
        "\n",
        "plt.legend()\n",
        "plt.show()"
      ]
    },
    {
      "cell_type": "markdown",
      "metadata": {
        "id": "ZaR_zhdlp55V"
      },
      "source": [
        "# LSTM"
      ]
    },
    {
      "cell_type": "code",
      "execution_count": 24,
      "metadata": {
        "id": "llMDJSZYp55V",
        "outputId": "282de228-00a4-439a-f9b6-e12d4437e3a9",
        "colab": {
          "base_uri": "https://localhost:8080/"
        }
      },
      "outputs": [
        {
          "output_type": "stream",
          "name": "stdout",
          "text": [
            "Model: \"sequential_8\"\n",
            "_________________________________________________________________\n",
            " Layer (type)                Output Shape              Param #   \n",
            "=================================================================\n",
            " embedding_6 (Embedding)     (None, 400, 50)           250000    \n",
            "                                                                 \n",
            " lstm (LSTM)                 (None, 20)                5680      \n",
            "                                                                 \n",
            " dense_5 (Dense)             (None, 1)                 21        \n",
            "                                                                 \n",
            "=================================================================\n",
            "Total params: 255,701\n",
            "Trainable params: 255,701\n",
            "Non-trainable params: 0\n",
            "_________________________________________________________________\n",
            "Epoch 1/100\n",
            "125/125 [==============================] - 26s 185ms/step - loss: 0.6020 - accuracy: 0.6787 - val_loss: 0.4569 - val_accuracy: 0.8070\n",
            "Epoch 2/100\n",
            "125/125 [==============================] - 27s 218ms/step - loss: 0.3478 - accuracy: 0.8605 - val_loss: 0.3944 - val_accuracy: 0.8300\n",
            "Epoch 3/100\n",
            "125/125 [==============================] - 22s 175ms/step - loss: 0.2365 - accuracy: 0.9143 - val_loss: 0.3975 - val_accuracy: 0.8390\n",
            "Epoch 4/100\n",
            "125/125 [==============================] - 22s 176ms/step - loss: 0.1591 - accuracy: 0.9495 - val_loss: 0.4659 - val_accuracy: 0.8390\n",
            "Epoch 5/100\n",
            "125/125 [==============================] - 22s 176ms/step - loss: 0.1201 - accuracy: 0.9622 - val_loss: 0.4515 - val_accuracy: 0.8290\n",
            "Epoch 6/100\n",
            "125/125 [==============================] - 22s 177ms/step - loss: 0.0848 - accuracy: 0.9735 - val_loss: 0.5021 - val_accuracy: 0.8130\n",
            "Epoch 7/100\n",
            "125/125 [==============================] - 22s 179ms/step - loss: 0.0930 - accuracy: 0.9720 - val_loss: 0.5519 - val_accuracy: 0.8130\n",
            "Epoch 8/100\n",
            "125/125 [==============================] - 22s 176ms/step - loss: 0.0774 - accuracy: 0.9745 - val_loss: 0.6423 - val_accuracy: 0.7940\n",
            "Epoch 9/100\n",
            "125/125 [==============================] - 22s 175ms/step - loss: 0.0774 - accuracy: 0.9770 - val_loss: 0.5986 - val_accuracy: 0.8120\n",
            "Epoch 10/100\n",
            "125/125 [==============================] - 23s 184ms/step - loss: 0.0241 - accuracy: 0.9950 - val_loss: 0.6942 - val_accuracy: 0.8090\n",
            "Epoch 11/100\n",
            "125/125 [==============================] - 23s 183ms/step - loss: 0.0198 - accuracy: 0.9970 - val_loss: 0.7268 - val_accuracy: 0.8080\n",
            "Epoch 12/100\n",
            "125/125 [==============================] - 22s 175ms/step - loss: 0.0114 - accuracy: 0.9985 - val_loss: 0.7410 - val_accuracy: 0.8060\n",
            "Epoch 12: early stopping\n",
            "63/63 [==============================] - 3s 42ms/step - loss: 0.7644 - accuracy: 0.8180\n"
          ]
        },
        {
          "output_type": "execute_result",
          "data": {
            "text/plain": [
              "[0.7643741369247437, 0.8180000185966492]"
            ]
          },
          "metadata": {},
          "execution_count": 24
        }
      ],
      "source": [
        "from tensorflow.keras.layers import LSTM\n",
        "\n",
        "history_LSTM = History()\n",
        "model = Sequential()\n",
        "model.add(Embedding(max_features, 50,input_length=maxlen,mask_zero=True)) \n",
        "# mask_zero sprawia ze siec pomija zera na poczatku\n",
        "model.add(LSTM(20))\n",
        "model.add(Dense(1,activation=\"sigmoid\"))\n",
        "model.summary()\n",
        "\n",
        "model.compile(loss=\"binary_crossentropy\", optimizer=\"adam\",metrics=[\"accuracy\"])\n",
        "early_stopping = EarlyStopping(monitor='val_loss', patience=10, mode='min', verbose=1)\n",
        "model.fit(X_train,y_train, epochs=100, validation_split=0.2, callbacks=[history_LSTM, early_stopping])\n",
        "\n",
        "model.evaluate(X_test,y_test)"
      ]
    },
    {
      "cell_type": "code",
      "execution_count": 25,
      "metadata": {
        "id": "caiGgaUap55X",
        "outputId": "35ab32de-f8ff-4e94-f219-cbc6eaec19c9",
        "colab": {
          "base_uri": "https://localhost:8080/",
          "height": 265
        }
      },
      "outputs": [
        {
          "output_type": "display_data",
          "data": {
            "text/plain": [
              "<Figure size 432x288 with 1 Axes>"
            ],
            "image/png": "[encoded data removed]"
          },
          "metadata": {
            "needs_background": "light"
          }
        }
      ],
      "source": [
        "plt.plot(history_2.history['accuracy'], label = \"tarina 2 Layer\")\n",
        "plt.plot(history_2.history['val_accuracy'], label = \"test 2 Layer\")\n",
        "\n",
        "plt.plot(history_LSTM.history['accuracy'], label = \"tarina LSTM\")\n",
        "plt.plot(history_LSTM.history['val_accuracy'], label = \"test LSTM\")\n",
        "\n",
        "plt.legend()\n",
        "plt.show()"
      ]
    },
    {
      "cell_type": "markdown",
      "metadata": {
        "id": "BzcbSHMLp55X"
      },
      "source": [
        "# GRU"
      ]
    },
    {
      "cell_type": "code",
      "execution_count": 26,
      "metadata": {
        "id": "VqduMQbJp55Y",
        "outputId": "109caa62-1240-45fe-8bdc-48f111f116e5",
        "colab": {
          "base_uri": "https://localhost:8080/"
        }
      },
      "outputs": [
        {
          "output_type": "stream",
          "name": "stdout",
          "text": [
            "Model: \"sequential_9\"\n",
            "_________________________________________________________________\n",
            " Layer (type)                Output Shape              Param #   \n",
            "=================================================================\n",
            " embedding_7 (Embedding)     (None, 400, 50)           250000    \n",
            "                                                                 \n",
            " gru (GRU)                   (None, 20)                4320      \n",
            "                                                                 \n",
            " dense_6 (Dense)             (None, 1)                 21        \n",
            "                                                                 \n",
            "=================================================================\n",
            "Total params: 254,341\n",
            "Trainable params: 254,341\n",
            "Non-trainable params: 0\n",
            "_________________________________________________________________\n",
            "Epoch 1/100\n",
            "125/125 [==============================] - 24s 171ms/step - loss: 0.6634 - accuracy: 0.5965 - val_loss: 0.5724 - val_accuracy: 0.6920\n",
            "Epoch 2/100\n",
            "125/125 [==============================] - 20s 159ms/step - loss: 0.4058 - accuracy: 0.8188 - val_loss: 0.4717 - val_accuracy: 0.7840\n",
            "Epoch 3/100\n",
            "125/125 [==============================] - 20s 159ms/step - loss: 0.2490 - accuracy: 0.9078 - val_loss: 0.4387 - val_accuracy: 0.8170\n",
            "Epoch 4/100\n",
            "125/125 [==============================] - 20s 159ms/step - loss: 0.1595 - accuracy: 0.9463 - val_loss: 0.5070 - val_accuracy: 0.8120\n",
            "Epoch 5/100\n",
            "125/125 [==============================] - 20s 158ms/step - loss: 0.1083 - accuracy: 0.9650 - val_loss: 0.5983 - val_accuracy: 0.8050\n",
            "Epoch 6/100\n",
            "125/125 [==============================] - 20s 158ms/step - loss: 0.0899 - accuracy: 0.9715 - val_loss: 0.6219 - val_accuracy: 0.7880\n",
            "Epoch 7/100\n",
            "125/125 [==============================] - 20s 158ms/step - loss: 0.0581 - accuracy: 0.9847 - val_loss: 0.6964 - val_accuracy: 0.8090\n",
            "Epoch 8/100\n",
            "125/125 [==============================] - 20s 158ms/step - loss: 0.0488 - accuracy: 0.9870 - val_loss: 0.7682 - val_accuracy: 0.7910\n",
            "Epoch 9/100\n",
            "125/125 [==============================] - 20s 159ms/step - loss: 0.0443 - accuracy: 0.9875 - val_loss: 0.8083 - val_accuracy: 0.7320\n",
            "Epoch 10/100\n",
            "125/125 [==============================] - 20s 159ms/step - loss: 0.0420 - accuracy: 0.9885 - val_loss: 0.9099 - val_accuracy: 0.7800\n",
            "Epoch 11/100\n",
            "125/125 [==============================] - 20s 158ms/step - loss: 0.0392 - accuracy: 0.9900 - val_loss: 0.9753 - val_accuracy: 0.7800\n",
            "Epoch 12/100\n",
            "125/125 [==============================] - 20s 158ms/step - loss: 0.0391 - accuracy: 0.9885 - val_loss: 0.9583 - val_accuracy: 0.7590\n",
            "Epoch 13/100\n",
            "125/125 [==============================] - 20s 158ms/step - loss: 0.0166 - accuracy: 0.9977 - val_loss: 1.0241 - val_accuracy: 0.7810\n",
            "Epoch 13: early stopping\n",
            "63/63 [==============================] - 2s 39ms/step - loss: 0.9405 - accuracy: 0.7895\n"
          ]
        },
        {
          "output_type": "execute_result",
          "data": {
            "text/plain": [
              "[0.9404917359352112, 0.7894999980926514]"
            ]
          },
          "metadata": {},
          "execution_count": 26
        }
      ],
      "source": [
        "from tensorflow.keras.layers import GRU\n",
        "\n",
        "history_GRU = History()\n",
        "model = Sequential()\n",
        "model.add(Embedding(max_features, \n",
        "                    50,\n",
        "                   input_length=maxlen,\n",
        "                   mask_zero=True)) \n",
        "# mask_zero sprawia ze siec pomija zera na poczatku\n",
        "model.add(GRU(20))\n",
        "model.add(Dense(1,activation=\"sigmoid\"))\n",
        "model.summary()\n",
        "\n",
        "model.compile(loss=\"binary_crossentropy\", optimizer=\"adam\",metrics=[\"accuracy\"])\n",
        "early_stopping = EarlyStopping(monitor='val_loss', patience=10, mode='min', verbose=1)\n",
        "model.fit(X_train,y_train, epochs=100, validation_split=0.2, callbacks=[history_GRU, early_stopping])\n",
        "\n",
        "model.evaluate(X_test,y_test)"
      ]
    },
    {
      "cell_type": "code",
      "execution_count": 27,
      "metadata": {
        "id": "n6m-zUAGp55Z",
        "outputId": "19084b7e-dac7-4796-b4bc-a148fe7cf020",
        "colab": {
          "base_uri": "https://localhost:8080/",
          "height": 265
        }
      },
      "outputs": [
        {
          "output_type": "display_data",
          "data": {
            "text/plain": [
              "<Figure size 432x288 with 1 Axes>"
            ],
            "image/png": "[encoded data removed]"
          },
          "metadata": {
            "needs_background": "light"
          }
        }
      ],
      "source": [
        "plt.plot(history_2.history['accuracy'], label = \"tarina 2 Layer\")\n",
        "plt.plot(history_2.history['val_accuracy'], label = \"test 2 Layer\")\n",
        "\n",
        "plt.plot(history_LSTM.history['accuracy'], label = \"tarina LSTM\")\n",
        "plt.plot(history_LSTM.history['val_accuracy'], label = \"test LSTM\")\n",
        "\n",
        "plt.plot(history_GRU.history['accuracy'], label = \"tarina GRU\")\n",
        "plt.plot(history_GRU.history['val_accuracy'], label = \"test GRU\")\n",
        "\n",
        "plt.legend()\n",
        "plt.show()"
      ]
    },
    {
      "cell_type": "markdown",
      "metadata": {
        "id": "4WWJOnGwp55a"
      },
      "source": [
        "# Zad\n",
        "\n",
        "Zbóduj model używający \n",
        "```python\n",
        "Bidirectional LSTM\n",
        "```\n",
        "\n",
        "https://machinelearningmastery.com/develop-bidirectional-lstm-sequence-classification-python-keras/\n",
        "\n",
        "https://keras.io/examples/imdb_bidirectional_lstm/"
      ]
    },
    {
      "cell_type": "code",
      "execution_count": null,
      "metadata": {
        "id": "EsuarLKgp55b"
      },
      "outputs": [],
      "source": [
        ""
      ]
    },
    {
      "cell_type": "markdown",
      "metadata": {
        "id": "yrnPXl2yp55b"
      },
      "source": [
        "# Zad. \n",
        "Zbuduj model używający \n",
        "```python\n",
        "model.add(TimeDistributed(Dense(1, activation='sigmoid')))\n",
        "```\n",
        "\n",
        "https://stackoverflow.com/questions/53670332/why-not-use-flatten-followed-by-a-dense-layer-instead-of-timedistributed"
      ]
    },
    {
      "cell_type": "code",
      "execution_count": null,
      "metadata": {
        "id": "07Mfvka9p55b"
      },
      "outputs": [],
      "source": [
        ""
      ]
    }
  ],
  "metadata": {
    "kernelspec": {
      "display_name": "Python 3",
      "language": "python",
      "name": "python3"
    },
    "language_info": {
      "codemirror_mode": {
        "name": "ipython",
        "version": 3
      },
      "file_extension": ".py",
      "mimetype": "text/x-python",
      "name": "python",
      "nbconvert_exporter": "python",
      "pygments_lexer": "ipython3",
      "version": "3.8.5"
    },
    "colab": {
      "name": "Z14_B_SimpleRNN.ipynb",
      "provenance": []
    }
  },
  "nbformat": 4,
  "nbformat_minor": 0
}