{
  "cells": [
    {
      "cell_type": "markdown",
      "metadata": {
        "id": "yE2xCWnL05rf"
      },
      "source": [
        "# Train test split\n"
      ]
    },
    {
      "cell_type": "code",
      "execution_count": 1,
      "metadata": {
        "collapsed": true,
        "id": "Xbfc5Old05rt"
      },
      "outputs": [],
      "source": [
        "import numpy as np\n",
        "import pandas as pd\n",
        "import scipy.stats as stats\n",
        "import sklearn.linear_model as lm\n",
        "from sklearn import datasets, linear_model\n",
        "import matplotlib.pyplot as plt\n",
        "\n",
        "from sklearn.preprocessing import PolynomialFeatures\n",
        "from sklearn.pipeline import make_pipeline\n",
        "\n",
        "from sklearn import  metrics"
      ]
    },
    {
      "cell_type": "markdown",
      "metadata": {
        "id": "m9_3amSw05r0"
      },
      "source": [
        "Rozważmy następujący zbiór punktów:"
      ]
    },
    {
      "cell_type": "code",
      "execution_count": 2,
      "metadata": {
        "id": "sgrXQYpK05r5",
        "outputId": "9f90bea6-b9da-4cdf-f1fe-49c2161b6b27",
        "colab": {
          "base_uri": "https://localhost:8080/",
          "height": 265
        }
      },
      "outputs": [
        {
          "output_type": "display_data",
          "data": {
            "text/plain": [
              "<Figure size 432x288 with 1 Axes>"
            ],
            "image/png": "[encoded data removed]"
          },
          "metadata": {
            "needs_background": "light"
          }
        }
      ],
      "source": [
        "x = stats.uniform(0,3).rvs(100)\n",
        "f = lambda x: ((x*2-1)*(x**2-2)*(x-2)+3)\n",
        "y = f(x) + stats.norm(0,0.3).rvs(len(x))\n",
        "plt.plot(x, y, 'ok', ms=10);\n",
        "plt.show()"
      ]
    },
    {
      "cell_type": "markdown",
      "metadata": {
        "id": "bux2HQ9105r_"
      },
      "source": [
        "# Przykład\n",
        "Podziel zbiór danych na część testową i treningową. \n",
        "Naucz model na części treningowej i ocen wyniki na części testowej."
      ]
    },
    {
      "cell_type": "code",
      "execution_count": 3,
      "metadata": {
        "id": "jZ9k-J9h05sC",
        "outputId": "0549cac8-3947-4fec-b008-bbfa3bc812f3",
        "colab": {
          "base_uri": "https://localhost:8080/"
        }
      },
      "outputs": [
        {
          "output_type": "stream",
          "name": "stdout",
          "text": [
            "(60,) (60,)\n",
            "(40,) (40,)\n"
          ]
        }
      ],
      "source": [
        "from sklearn.model_selection import train_test_split\n",
        "X_train, X_test, y_train, y_test = train_test_split(x, y, test_size=0.4, random_state=0)\n",
        "\n",
        "print(X_train.shape, y_train.shape)\n",
        "print(X_test.shape, y_test.shape)"
      ]
    },
    {
      "cell_type": "code",
      "execution_count": 4,
      "metadata": {
        "collapsed": true,
        "id": "4Y2bniWH05sE"
      },
      "outputs": [],
      "source": [
        "X_train=np.vstack(X_train)\n",
        "X_test=np.vstack(X_test)"
      ]
    },
    {
      "cell_type": "code",
      "execution_count": 5,
      "metadata": {
        "id": "ZsPMbE2T05sG",
        "outputId": "9e02095d-15b3-4fb3-c556-dfe231df1ca3",
        "colab": {
          "base_uri": "https://localhost:8080/"
        }
      },
      "outputs": [
        {
          "output_type": "execute_result",
          "data": {
            "text/plain": [
              "array([13.42511011,  9.17294469, 13.77907268,  4.32435715,  0.86972759,\n",
              "        1.58080516, 20.70042509,  2.07071142,  5.40584513, 17.13539255,\n",
              "        4.82443679,  5.2744579 , 18.40950084,  2.40391546,  2.77143094,\n",
              "        4.70730552, 14.38548681, 19.58564599, 24.38653791,  1.68897837,\n",
              "       16.5523667 ,  1.29618141,  4.10622831, 20.58646643,  3.24403123,\n",
              "        1.08209035, 24.4092645 ,  2.1563693 ,  1.64435001,  0.62601488,\n",
              "        5.7441258 ,  7.62297249,  2.05753269, 16.58619977,  1.03187838,\n",
              "        1.28497603,  3.94538478,  5.47600099, 22.94112802, 21.60906809])"
            ]
          },
          "metadata": {},
          "execution_count": 5
        }
      ],
      "source": [
        "model2 = make_pipeline(PolynomialFeatures(2), linear_model.LinearRegression())\n",
        "model2.fit(X_train, y_train)\n",
        "model2.predict(X_test)"
      ]
    },
    {
      "cell_type": "code",
      "execution_count": 6,
      "metadata": {
        "id": "4YUNW4Lg05sJ",
        "outputId": "ecf730ea-c2d4-46df-c1c0-73583a49d6e0",
        "colab": {
          "base_uri": "https://localhost:8080/"
        }
      },
      "outputs": [
        {
          "output_type": "stream",
          "name": "stdout",
          "text": [
            "Explained variance score: 0.8466850440407659\n",
            "Explained variance score: 0.8466850440407659\n",
            "Median absolute error: 2.63327660156118\n",
            "Mean squared error: 18.37574064204982\n",
            "Mean absolute errors: 3.2560026686398182\n"
          ]
        }
      ],
      "source": [
        "print(\"Explained variance score: {}\".format( metrics.explained_variance_score(y_test, model2.predict(X_test)) ))\n",
        "print(\"Explained variance score: {}\".format( metrics.explained_variance_score(y_test, model2.predict(X_test)) ))\n",
        "print(\"Median absolute error: {}\".format( metrics.median_absolute_error(y_test, model2.predict(X_test)) ))\n",
        "print(\"Mean squared error: {}\".format( metrics.mean_squared_error(y_test, model2.predict(X_test)) ))\n",
        "print(\"Mean absolute errors: {}\".format(metrics.mean_absolute_error(y_test, model2.predict(X_test)) ))"
      ]
    },
    {
      "cell_type": "markdown",
      "metadata": {
        "id": "xaM18h1705sO"
      },
      "source": [
        "# Zadanie\n",
        "Wylicz powyższe miary na zbiorze testowym dla wszystkich modeli nauczonych na trainie:\n",
        "\n",
        "- regrsji linowej\n",
        "- regrsji wielomianowej stopnia 2\n",
        "- regrsji wielomianowej stopnia 3\n",
        "- regrsji wielomianowej stopnia 4\n",
        "- regrsji wielomianowej stopnia 5\n",
        "- regrsji wielomianowej stopnia 25"
      ]
    },
    {
      "cell_type": "code",
      "execution_count": 7,
      "metadata": {
        "collapsed": true,
        "id": "jDkreJ5g05sR",
        "outputId": "40b7bc67-375d-4aa4-86f1-e971752e5bfd",
        "colab": {
          "base_uri": "https://localhost:8080/"
        }
      },
      "outputs": [
        {
          "output_type": "stream",
          "name": "stdout",
          "text": [
            "model0\n",
            "Explained variance score: 0.5330341924970398\n",
            "Explained variance score: 0.5330341924970398\n",
            "Median absolute error: 3.5738147725952727\n",
            "Mean squared error: 61.6422210586893\n",
            "Mean absolute errors: 5.620857620127306\n",
            "model1\n",
            "Explained variance score: 0.8466850440407659\n",
            "Explained variance score: 0.8466850440407659\n",
            "Median absolute error: 2.63327660156118\n",
            "Mean squared error: 18.37574064204982\n",
            "Mean absolute errors: 3.2560026686398182\n",
            "model2\n",
            "Explained variance score: 0.9947599667620041\n",
            "Explained variance score: 0.9947599667620041\n",
            "Median absolute error: 0.5316387861847662\n",
            "Mean squared error: 0.6220239622000673\n",
            "Mean absolute errors: 0.6139373208349366\n",
            "model3\n",
            "Explained variance score: 0.9986047431326378\n",
            "Explained variance score: 0.9986047431326378\n",
            "Median absolute error: 0.2781203569268764\n",
            "Mean squared error: 0.15836480863121988\n",
            "Mean absolute errors: 0.32171956134522767\n",
            "model4\n",
            "Explained variance score: 0.9987476176698563\n",
            "Explained variance score: 0.9987476176698563\n",
            "Median absolute error: 0.25946512239109265\n",
            "Mean squared error: 0.14310160399830324\n",
            "Mean absolute errors: 0.3079486079960112\n",
            "model5\n",
            "Explained variance score: 0.9093345303561542\n",
            "Explained variance score: 0.9093345303561542\n",
            "Median absolute error: 0.34162351943366254\n",
            "Mean squared error: 10.529939434303293\n",
            "Mean absolute errors: 1.1774953148449474\n"
          ]
        }
      ],
      "source": [
        "model1 = linear_model.LinearRegression()\n",
        "model1.fit(X_train, y_train)\n",
        "model1.predict(X_test)\n",
        "model2 = make_pipeline(PolynomialFeatures(2), linear_model.LinearRegression())\n",
        "model2.fit(X_train, y_train)\n",
        "model2.predict(X_test)\n",
        "model3 = make_pipeline(PolynomialFeatures(3), linear_model.LinearRegression())\n",
        "model3.fit(X_train, y_train)\n",
        "model3.predict(X_test)\n",
        "model4 = make_pipeline(PolynomialFeatures(4), linear_model.LinearRegression())\n",
        "model4.fit(X_train, y_train)\n",
        "model4.predict(X_test)\n",
        "model5 = make_pipeline(PolynomialFeatures(5), linear_model.LinearRegression())\n",
        "model5.fit(X_train, y_train)\n",
        "model5.predict(X_test)\n",
        "model25 = make_pipeline(PolynomialFeatures(25), linear_model.LinearRegression())\n",
        "model25.fit(X_train, y_train)\n",
        "model25.predict(X_test)\n",
        "\n",
        "models = [model1,model2,model3,model4,model5,model25]\n",
        "\n",
        "for elem in enumerate(models):\n",
        "    print(\"model\" + str(elem[0]))\n",
        "    print(\"Explained variance score: {}\".format( metrics.explained_variance_score(y_test, elem[1].predict(X_test)) ))\n",
        "    print(\"Explained variance score: {}\".format( metrics.explained_variance_score(y_test, elem[1].predict(X_test)) ))\n",
        "    print(\"Median absolute error: {}\".format( metrics.median_absolute_error(y_test, elem[1].predict(X_test)) ))\n",
        "    print(\"Mean squared error: {}\".format( metrics.mean_squared_error(y_test, elem[1].predict(X_test)) ))\n",
        "    print(\"Mean absolute errors: {}\".format(metrics.mean_absolute_error(y_test, elem[1].predict(X_test)) ))\n",
        "    "
      ]
    }
  ],
  "metadata": {
    "kernelspec": {
      "display_name": "Python 3",
      "language": "python",
      "name": "python3"
    },
    "language_info": {
      "codemirror_mode": {
        "name": "ipython",
        "version": 3
      },
      "file_extension": ".py",
      "mimetype": "text/x-python",
      "name": "python",
      "nbconvert_exporter": "python",
      "pygments_lexer": "ipython3",
      "version": "3.8.5"
    },
    "colab": {
      "name": "Z06_C_train_test_split.ipynb",
      "provenance": []
    }
  },
  "nbformat": 4,
  "nbformat_minor": 0
}